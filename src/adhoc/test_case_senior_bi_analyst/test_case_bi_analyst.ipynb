{
 "cells": [
  {
   "cell_type": "code",
   "execution_count": 1,
   "metadata": {},
   "outputs": [],
   "source": [
    "import pandas as pd\n",
    "import numpy as np\n",
    "import scipy.stats as st\n",
    "import altair as alt\n",
    "from scipy.stats import skewnorm\n",
    "import seaborn as sns\n",
    "import uuid"
   ]
  },
  {
   "cell_type": "markdown",
   "metadata": {},
   "source": [
    "## Create fake data for senior BI case. "
   ]
  },
  {
   "cell_type": "code",
   "execution_count": null,
   "metadata": {},
   "outputs": [],
   "source": [
    "query = \"\"\"\n",
    "select user_id, \n",
    "\t   case when tnc_country_group not in ('FRA','AUT','DEU','AUT','ITA') then 'Rest of Europe' else tnc_country_group end as market,\n",
    "\t   case when product_id like '%smart%' then 'New product' else 'Old product' end, \n",
    "\t   sum(amount_cents_spaces::float/100) as spaces, \n",
    "\t   sum(amount_cents_pt::float/100) as card_spend,\n",
    "\t   sum((amount_cents_ct+amount_cents_stripetopup_in)::float/100) as top_up\n",
    "from dbt.zrh_txn_day \n",
    "inner join dbt.zrh_users using (user_created) \n",
    "where datediff('day', kyc_first_completed::date, txn_date::date) <= 35 \n",
    "\tand kyc_first_completed between '2020-12-01' and '2021-01-01'\n",
    "\tand is_fraudster = False \n",
    "\tand closed_at is null\n",
    "\tand ft_mau is not null \n",
    "\tand product_id not like '%BUSINESS%'\n",
    "group by 1,2,3 \n",
    "\t\t\t\n",
    "\"\"\""
   ]
  },
  {
   "cell_type": "code",
   "execution_count": 2,
   "metadata": {},
   "outputs": [
    {
     "name": "stderr",
     "output_type": "stream",
     "text": [
      "/Users/fabioschmidt-fischbach/anaconda3/lib/python3.7/site-packages/scipy/stats/_distn_infrastructure.py:1682: RuntimeWarning: divide by zero encountered in log\n",
      "  return log(self._pdf(x, *args))\n"
     ]
    }
   ],
   "source": [
    "import itertools\n",
    "\n",
    "columns = [\"spaces\", \"card_spend\", \"top_up\"]\n",
    "products = [\"Old product\", \"New product\"]\n",
    "markets = [\"FRA\", \"AUT\", \"DEU\", \"AUT\", \"ITA\", \"Rest of Europe\"]\n",
    "\n",
    "combinations = list(itertools.product(products, markets))\n",
    "\n",
    "df = pd.read_csv(\"real_data.csv\")\n",
    "df[\"market\"] = df[\"market\"].str.strip()\n",
    "\n",
    "\n",
    "def simulate_data(product, market):\n",
    "    \"\"\"\n",
    "    Generate random data for that combination\n",
    "    \"\"\"\n",
    "    data = pd.DataFrame()\n",
    "\n",
    "    for col in [\"spaces\", \"card_spend\", \"top_up\"]:\n",
    "        x = skewnorm.fit(\n",
    "            np.array(df.loc[(df[\"case\"] == product) & (df[\"market\"] == market), col])\n",
    "        )\n",
    "        size = round(\n",
    "            len(df.loc[(df[\"case\"] == product) & (df[\"market\"] == market), :]) * 0.5\n",
    "        )\n",
    "\n",
    "        data[col] = skewnorm(x[0], x[1], x[2]).rvs(size)\n",
    "    data[\"market\"] = market\n",
    "    data[\"product\"] = product\n",
    "    return data\n",
    "\n",
    "\n",
    "data = pd.DataFrame(columns=[\"market\", \"product\", \"top_up\", \"spaces\", \"card_spend\"])\n",
    "\n",
    "for com in combinations:\n",
    "    data = data.append(simulate_data(com[0], com[1]))\n",
    "\n",
    "data[\"user_id\"] = [uuid.uuid4() for i in range(len(data))]\n",
    "\n",
    "data.head()\n",
    "\n",
    "\n",
    "data.to_csv(\"case_data.csv\")"
   ]
  },
  {
   "cell_type": "code",
   "execution_count": 58,
   "metadata": {},
   "outputs": [
    {
     "name": "stdout",
     "output_type": "stream",
     "text": [
      "(26007, 6)\n"
     ]
    }
   ],
   "source": [
    "print(data.shape)"
   ]
  },
  {
   "cell_type": "markdown",
   "metadata": {},
   "source": [
    "## Check that data looks sensible. "
   ]
  },
  {
   "cell_type": "code",
   "execution_count": 67,
   "metadata": {},
   "outputs": [
    {
     "data": {
      "text/html": [
       "<div>\n",
       "<style scoped>\n",
       "    .dataframe tbody tr th:only-of-type {\n",
       "        vertical-align: middle;\n",
       "    }\n",
       "\n",
       "    .dataframe tbody tr th {\n",
       "        vertical-align: top;\n",
       "    }\n",
       "\n",
       "    .dataframe thead th {\n",
       "        text-align: right;\n",
       "    }\n",
       "</style>\n",
       "<table border=\"1\" class=\"dataframe\">\n",
       "  <thead>\n",
       "    <tr style=\"text-align: right;\">\n",
       "      <th></th>\n",
       "      <th>market</th>\n",
       "      <th>product</th>\n",
       "      <th>top_up</th>\n",
       "      <th>spaces</th>\n",
       "      <th>card_spend</th>\n",
       "      <th>user_id</th>\n",
       "      <th>perc</th>\n",
       "    </tr>\n",
       "  </thead>\n",
       "  <tbody>\n",
       "    <tr>\n",
       "      <th>0</th>\n",
       "      <td>AUT</td>\n",
       "      <td>New product</td>\n",
       "      <td>60</td>\n",
       "      <td>60</td>\n",
       "      <td>60</td>\n",
       "      <td>60</td>\n",
       "      <td>4.497751</td>\n",
       "    </tr>\n",
       "    <tr>\n",
       "      <th>2</th>\n",
       "      <td>DEU</td>\n",
       "      <td>New product</td>\n",
       "      <td>297</td>\n",
       "      <td>297</td>\n",
       "      <td>297</td>\n",
       "      <td>297</td>\n",
       "      <td>4.981550</td>\n",
       "    </tr>\n",
       "    <tr>\n",
       "      <th>4</th>\n",
       "      <td>FRA</td>\n",
       "      <td>New product</td>\n",
       "      <td>476</td>\n",
       "      <td>476</td>\n",
       "      <td>476</td>\n",
       "      <td>476</td>\n",
       "      <td>7.184906</td>\n",
       "    </tr>\n",
       "    <tr>\n",
       "      <th>6</th>\n",
       "      <td>ITA</td>\n",
       "      <td>New product</td>\n",
       "      <td>110</td>\n",
       "      <td>110</td>\n",
       "      <td>110</td>\n",
       "      <td>110</td>\n",
       "      <td>1.986994</td>\n",
       "    </tr>\n",
       "    <tr>\n",
       "      <th>8</th>\n",
       "      <td>Rest of Europe</td>\n",
       "      <td>New product</td>\n",
       "      <td>258</td>\n",
       "      <td>258</td>\n",
       "      <td>258</td>\n",
       "      <td>258</td>\n",
       "      <td>3.938931</td>\n",
       "    </tr>\n",
       "  </tbody>\n",
       "</table>\n",
       "</div>"
      ],
      "text/plain": [
       "           market      product  top_up  spaces  card_spend  user_id      perc\n",
       "0             AUT  New product      60      60          60       60  4.497751\n",
       "2             DEU  New product     297     297         297      297  4.981550\n",
       "4             FRA  New product     476     476         476      476  7.184906\n",
       "6             ITA  New product     110     110         110      110  1.986994\n",
       "8  Rest of Europe  New product     258     258         258      258  3.938931"
      ]
     },
     "execution_count": 67,
     "metadata": {},
     "output_type": "execute_result"
    }
   ],
   "source": [
    "x = data.groupby([\"market\", \"product\"]).count().reset_index()\n",
    "\n",
    "x[\"perc\"] = 100 * x[\"top_up\"] / x.groupby([\"market\"])[\"top_up\"].transform(\"sum\")\n",
    "\n",
    "x.loc[x[\"product\"] == \"New product\", :]"
   ]
  },
  {
   "cell_type": "code",
   "execution_count": 6,
   "metadata": {},
   "outputs": [
    {
     "data": {
      "text/plain": [
       "<matplotlib.axes._subplots.AxesSubplot at 0x1a224c3710>"
      ]
     },
     "execution_count": 6,
     "metadata": {},
     "output_type": "execute_result"
    },
    {
     "data": {
      "image/png": "[encoded data removed]",
      "text/plain": [
       "<Figure size 432x288 with 1 Axes>"
      ]
     },
     "metadata": {
      "needs_background": "light"
     },
     "output_type": "display_data"
    }
   ],
   "source": [
    "sns.histplot(data=data, x=\"card_spend\", hue=\"level_0\", element=\"poly\")"
   ]
  },
  {
   "cell_type": "code",
   "execution_count": 9,
   "metadata": {},
   "outputs": [
    {
     "data": {
      "text/plain": [
       "701.7256224900168"
      ]
     },
     "execution_count": 9,
     "metadata": {},
     "output_type": "execute_result"
    }
   ],
   "source": [
    "data.card_spend.mean()"
   ]
  },
  {
   "cell_type": "code",
   "execution_count": 10,
   "metadata": {},
   "outputs": [
    {
     "data": {
      "text/plain": [
       "6385.46715868724"
      ]
     },
     "execution_count": 10,
     "metadata": {},
     "output_type": "execute_result"
    }
   ],
   "source": [
    "data.top_up.mean()"
   ]
  },
  {
   "cell_type": "code",
   "execution_count": 7,
   "metadata": {},
   "outputs": [
    {
     "data": {
      "text/plain": [
       "<matplotlib.axes._subplots.AxesSubplot at 0x1a239789e8>"
      ]
     },
     "execution_count": 7,
     "metadata": {},
     "output_type": "execute_result"
    },
    {
     "data": {
      "image/png": "[encoded data removed]",
      "text/plain": [
       "<Figure size 432x288 with 1 Axes>"
      ]
     },
     "metadata": {
      "needs_background": "light"
     },
     "output_type": "display_data"
    }
   ],
   "source": [
    "sns.histplot(data=data, x=\"spaces\", hue=\"level_0\", element=\"poly\")"
   ]
  },
  {
   "cell_type": "code",
   "execution_count": 8,
   "metadata": {},
   "outputs": [
    {
     "data": {
      "text/plain": [
       "<matplotlib.axes._subplots.AxesSubplot at 0x1a23bc7c50>"
      ]
     },
     "execution_count": 8,
     "metadata": {},
     "output_type": "execute_result"
    },
    {
     "data": {
      "image/png": "[encoded data removed]",
      "text/plain": [
       "<Figure size 432x288 with 1 Axes>"
      ]
     },
     "metadata": {
      "needs_background": "light"
     },
     "output_type": "display_data"
    }
   ],
   "source": [
    "sns.histplot(data=data, x=\"top_up\", hue=\"level_0\", element=\"poly\")"
   ]
  }
 ],
 "metadata": {
  "kernelspec": {
   "display_name": "Python 3",
   "language": "python",
   "name": "python3"
  },
  "language_info": {
   "codemirror_mode": {
    "name": "ipython",
    "version": 3
   },
   "file_extension": ".py",
   "mimetype": "text/x-python",
   "name": "python",
   "nbconvert_exporter": "python",
   "pygments_lexer": "ipython3",
   "version": "3.7.3"
  }
 },
 "nbformat": 4,
 "nbformat_minor": 2
}
