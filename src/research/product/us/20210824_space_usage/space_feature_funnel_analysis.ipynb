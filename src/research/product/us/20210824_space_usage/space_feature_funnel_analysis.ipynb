{
 "cells": [
  {
   "cell_type": "markdown",
   "id": "da712dab-522b-4ee5-9046-cbeeec5eaae9",
   "metadata": {},
   "source": [
    "title: space creation and interaction funnel research\n",
    "<br>\n",
    "author: Henry Xu\n",
    "<br>\n",
    "date: 2021-08-30\n",
    "<br>\n",
    "region: US\n",
    "<br>\n",
    "link: https://docs.google.com/presentation/d/14zhFL1zdi3SkJiIWRoJuUcoK5HN87o1PmFonrzoM7AM/edit?usp=sharing\n",
    "<br>\n",
    "tags: space, feature usage, financial home, us, engagement, funnel, flow, drop off, conversion\n",
    "<br>\n",
    "summary: The purpose of this research is to map out the events we track when a user interacts with the Space feature with focus on Space creation funnel. Insights are summarized on conversion rates, user drop off and user behavior depending on how many spaces a user has. The sql code for the analysis is included as a separate .sql file in the same folder."
   ]
  },
  {
   "cell_type": "markdown",
   "id": "bc03e97b-48de-43a6-93f6-889f0be324a4",
   "metadata": {},
   "source": [
    "## Space Feature Research"
   ]
  }
 ],
 "metadata": {
  "kernelspec": {
   "display_name": "Python 3 (ipykernel)",
   "language": "python",
   "name": "python3"
  },
  "language_info": {
   "codemirror_mode": {
    "name": "ipython",
    "version": 3
   },
   "file_extension": ".py",
   "mimetype": "text/x-python",
   "name": "python",
   "nbconvert_exporter": "python",
   "pygments_lexer": "ipython3",
   "version": "3.7.2"
  }
 },
 "nbformat": 4,
 "nbformat_minor": 5
}
