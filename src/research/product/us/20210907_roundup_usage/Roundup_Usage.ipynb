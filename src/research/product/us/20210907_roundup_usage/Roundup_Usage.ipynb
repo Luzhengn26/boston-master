{
 "cells": [
  {
   "cell_type": "markdown",
   "id": "ea00363a-ed14-4c82-be2e-d0a983c787ba",
   "metadata": {},
   "source": [
    "title: Roundup Usage Research\n",
    "<br>\n",
    "date: 2021-09-07\n",
    "<br>\n",
    "region: US\n",
    "<br>\n",
    "author: Henry Xu\n",
    "<br>\n",
    "tags: roundup, feature, product, discovery, space.\n",
    "<br>\n",
    "summary: \n",
    "    This research below is focus on exploring the entry points from which users enable roundups. The dashboard on metabase shows a more comprehensive picture of roundup usages, including roundup penetration throughout time, average roundup amount, etc. US Roundup Dashboard -- https://metabase-main.tech26.us/dashboard/177-us-roundups-updated"
   ]
  },
  {
   "cell_type": "markdown",
   "id": "38ff7978-b242-49d0-ae7d-292df788ea2d",
   "metadata": {},
   "source": [
    "## Roundup Usage Research"
   ]
  },
  {
   "cell_type": "markdown",
   "id": "1fc08361-8764-4397-997a-4ce05c65bc9e",
   "metadata": {},
   "source": [
    "Findings:\n",
    "\n",
    "> - Most of the users (> 50%) enabled roundup through the cards tab and this has been the case throughout time.\n",
    "> - Number of users who have roundup enabled was steadily increasing until mid July, then dropped suddendly at the same time as MAU dropped suddenly from July 19th.\n",
    "> - Roundup penetration was steadily increasing until mid July. After July 19th the increase was due to decrease in MAU.\n",
    "> - Once users enabled roundup, they tend to be rather sticky and few of them disabled roundup completely."
   ]
  },
  {
   "cell_type": "markdown",
   "id": "9ae37821-609b-4526-9048-fbbf67fc4bbf",
   "metadata": {},
   "source": [
    "### Roundup Entry Plot"
   ]
  },
  {
   "cell_type": "markdown",
   "id": "904cc45e-2bbb-41d0-a46c-9535fcfb92f8",
   "metadata": {},
   "source": [
    "Roundup entry is not able to be plotted on Metabase yet. Hence, the codes below are used to create the plot on jupyter notebook."
   ]
  },
  {
   "cell_type": "code",
   "execution_count": 1,
   "id": "126a3210-c628-46d2-afb2-f8c03b6b37e1",
   "metadata": {},
   "outputs": [],
   "source": [
    "## import libraries\n",
    "\n",
    "import pandas as pd\n",
    "import matplotlib.pyplot as plt\n",
    "\n",
    "%matplotlib inline"
   ]
  },
  {
   "cell_type": "code",
   "execution_count": 2,
   "id": "d8b29b17-61e1-4945-81a1-7921b4c80961",
   "metadata": {},
   "outputs": [],
   "source": [
    "## Importing data\n",
    "## all us roundup entry related events\n",
    "\n",
    "from datalib import database\n",
    "from utils import setup\n",
    "\n",
    "db = database.Database(\"redshiftreader\", setup.config_file, setup.vault_section)\n",
    "db.create_engine(sslmode=\"require\")\n",
    "\n",
    "with db.engine.begin() as conn:\n",
    "    us_roundup_entry = db.df_from_sql(\n",
    "        \"\"\"\n",
    "        select\n",
    "            kec.user_id,\n",
    "            kec.se_label,\n",
    "            ket.se_action,\n",
    "            kec.se_value,\n",
    "            kec.collector_tstamp\n",
    "        from etl_reporting.ksp_event_core kec \n",
    "        inner join etl_reporting.ksp_event_types ket \n",
    "            on kec.event_type = ket.event_type \n",
    "        inner join etl_reporting.ksp_ip_geo kig \n",
    "            on kec.event_id = kig.event_id \n",
    "        where kig.country = 'US'\n",
    "            and kec.collector_tstamp >= '2021-01-01'\n",
    "            and (\n",
    "                (ket.se_action = 'cards_enable_roundup_clicked')\n",
    "                or\n",
    "                (ket.se_action = 'spaces.quick_action.manage_bottom_sheet_menu.clicked'\n",
    "                and kec.se_value = 2)\n",
    "                or\n",
    "                (kec.se_label = 'roundup_step'\n",
    "                and ket.se_action = 'space_creation_view')\n",
    "            )      \n",
    "        \"\"\",\n",
    "        connection=conn,\n",
    "    )"
   ]
  },
  {
   "cell_type": "code",
   "execution_count": 3,
   "id": "6f2390eb-9e0a-4e58-aaa6-450dd575f7a1",
   "metadata": {},
   "outputs": [],
   "source": [
    "## Importing data\n",
    "## Roundup rule created all time\n",
    "\n",
    "\n",
    "with db.engine.begin() as conn:\n",
    "    rup_created = db.df_from_sql(\n",
    "        \"\"\"\n",
    "        select\n",
    "            car.user_id,\n",
    "            car.created,\n",
    "            to_char(date_trunc('month', car.created), 'yyyy-mm') as \"month\",\n",
    "            du.shadow_user_id\n",
    "        from etl_reporting.cn_automated_rule car \n",
    "        inner join dbt.dim_users du \n",
    "            on du.user_id = car.user_id\n",
    "        where car.action_type = 'ROUND_UP'\n",
    "            and car.created < date_trunc('month', current_date)\n",
    "        \"\"\",\n",
    "        connection=conn,\n",
    "    )"
   ]
  },
  {
   "cell_type": "markdown",
   "id": "4b8c4f85-c0de-4abc-9af0-7ab30b4d9c57",
   "metadata": {},
   "source": [
    "We join us_roundup_entry and rup_created to find all the users who created a roundup rule after an entry point.\n",
    "<br>\n",
    "The assumption is that the user created the rule within 24 hours of reaching an entry point."
   ]
  },
  {
   "cell_type": "code",
   "execution_count": 4,
   "id": "e2495cbd-9047-4eba-ab6b-237b5c8eecd7",
   "metadata": {},
   "outputs": [],
   "source": [
    "## merge tables and filter events to within 24 hours\n",
    "\n",
    "import datetime as dt\n",
    "\n",
    "merge_df = pd.merge(\n",
    "    us_roundup_entry,\n",
    "    rup_created,\n",
    "    how=\"inner\",\n",
    "    left_on=\"user_id\",\n",
    "    right_on=\"shadow_user_id\",\n",
    ")\n",
    "\n",
    "round_up_df = merge_df[\n",
    "    (merge_df[\"created\"] >= merge_df[\"collector_tstamp\"])\n",
    "    & (merge_df[\"created\"] - merge_df[\"collector_tstamp\"] <= dt.timedelta(hours=24))\n",
    "]"
   ]
  },
  {
   "cell_type": "markdown",
   "id": "6243fd09-51eb-45bd-862a-a1e4ae2552af",
   "metadata": {},
   "source": [
    "Define entry points:\n",
    "<br>\n",
    "> - cards_tab: User taps on Cards tab and then enable round up from there.\n",
    "> - existing_space: User clicks on an existing space, then clicks manage, and enbale roundup from action menu.\n",
    "> - new_space: User enables roundup during creation of a new space."
   ]
  },
  {
   "cell_type": "code",
   "execution_count": 5,
   "id": "7d5f56ac-5de8-4b9a-8e80-02495371f7cf",
   "metadata": {},
   "outputs": [],
   "source": [
    "## Assign entry points\n",
    "\n",
    "pd.options.mode.chained_assignment = None\n",
    "\n",
    "round_up_df[\"entry\"] = round_up_df[\"se_action\"]\n",
    "round_up_df.loc[\n",
    "    round_up_df[\"se_action\"] == \"cards_enable_roundup_clicked\", \"entry\"\n",
    "] = \"cards_tab\"\n",
    "round_up_df.loc[\n",
    "    round_up_df[\"se_action\"] == \"spaces.quick_action.manage_bottom_sheet_menu.clicked\",\n",
    "    \"entry\",\n",
    "] = \"existing_space\"\n",
    "round_up_df.loc[\n",
    "    round_up_df[\"se_action\"] == \"space_creation_view\", \"entry\"\n",
    "] = \"new_space\""
   ]
  },
  {
   "cell_type": "code",
   "execution_count": 6,
   "id": "cb1c7dff-db75-4ac5-a56f-0f845dde7cba",
   "metadata": {},
   "outputs": [],
   "source": [
    "## count unique users\n",
    "## change column name\n",
    "\n",
    "entry = (\n",
    "    round_up_df.groupby([\"month\", \"entry\"])[\"shadow_user_id\"].nunique().reset_index()\n",
    ")\n",
    "entry.rename(columns={\"shadow_user_id\": \"count\"}, inplace=True)"
   ]
  },
  {
   "cell_type": "code",
   "execution_count": 7,
   "id": "06adf3a7-5e08-47a6-a0d7-315e3b840769",
   "metadata": {},
   "outputs": [],
   "source": [
    "entry_pivot = entry.pivot(index=\"month\", columns=\"entry\", values=\"count\")"
   ]
  },
  {
   "cell_type": "markdown",
   "id": "b9842cb2-4d01-4637-85d4-7c793359432e",
   "metadata": {},
   "source": [
    "##### Roundup Entry Matrix"
   ]
  },
  {
   "cell_type": "code",
   "execution_count": 8,
   "id": "1f8bb0ac-41ff-49d9-b69f-b34b7d1a6dfb",
   "metadata": {},
   "outputs": [
    {
     "data": {
      "text/html": [
       "<div>\n",
       "<style scoped>\n",
       "    .dataframe tbody tr th:only-of-type {\n",
       "        vertical-align: middle;\n",
       "    }\n",
       "\n",
       "    .dataframe tbody tr th {\n",
       "        vertical-align: top;\n",
       "    }\n",
       "\n",
       "    .dataframe thead th {\n",
       "        text-align: right;\n",
       "    }\n",
       "</style>\n",
       "<table border=\"1\" class=\"dataframe\">\n",
       "  <thead>\n",
       "    <tr style=\"text-align: right;\">\n",
       "      <th>entry</th>\n",
       "      <th>cards_tab</th>\n",
       "      <th>existing_space</th>\n",
       "      <th>new_space</th>\n",
       "      <th>cards_tab_%</th>\n",
       "      <th>exisitng_space_%</th>\n",
       "      <th>new_space_%</th>\n",
       "    </tr>\n",
       "    <tr>\n",
       "      <th>month</th>\n",
       "      <th></th>\n",
       "      <th></th>\n",
       "      <th></th>\n",
       "      <th></th>\n",
       "      <th></th>\n",
       "      <th></th>\n",
       "    </tr>\n",
       "  </thead>\n",
       "  <tbody>\n",
       "    <tr>\n",
       "      <th>2021-02</th>\n",
       "      <td>2</td>\n",
       "      <td>4</td>\n",
       "      <td>1</td>\n",
       "      <td>28.6</td>\n",
       "      <td>57.1</td>\n",
       "      <td>14.3</td>\n",
       "    </tr>\n",
       "    <tr>\n",
       "      <th>2021-03</th>\n",
       "      <td>1338</td>\n",
       "      <td>230</td>\n",
       "      <td>433</td>\n",
       "      <td>66.9</td>\n",
       "      <td>11.5</td>\n",
       "      <td>21.6</td>\n",
       "    </tr>\n",
       "    <tr>\n",
       "      <th>2021-04</th>\n",
       "      <td>1884</td>\n",
       "      <td>338</td>\n",
       "      <td>774</td>\n",
       "      <td>62.9</td>\n",
       "      <td>11.3</td>\n",
       "      <td>25.8</td>\n",
       "    </tr>\n",
       "    <tr>\n",
       "      <th>2021-05</th>\n",
       "      <td>1314</td>\n",
       "      <td>345</td>\n",
       "      <td>631</td>\n",
       "      <td>57.4</td>\n",
       "      <td>15.1</td>\n",
       "      <td>27.6</td>\n",
       "    </tr>\n",
       "    <tr>\n",
       "      <th>2021-06</th>\n",
       "      <td>848</td>\n",
       "      <td>203</td>\n",
       "      <td>375</td>\n",
       "      <td>59.5</td>\n",
       "      <td>14.2</td>\n",
       "      <td>26.3</td>\n",
       "    </tr>\n",
       "    <tr>\n",
       "      <th>2021-07</th>\n",
       "      <td>472</td>\n",
       "      <td>137</td>\n",
       "      <td>207</td>\n",
       "      <td>57.8</td>\n",
       "      <td>16.8</td>\n",
       "      <td>25.4</td>\n",
       "    </tr>\n",
       "    <tr>\n",
       "      <th>2021-08</th>\n",
       "      <td>424</td>\n",
       "      <td>114</td>\n",
       "      <td>184</td>\n",
       "      <td>58.7</td>\n",
       "      <td>15.8</td>\n",
       "      <td>25.5</td>\n",
       "    </tr>\n",
       "  </tbody>\n",
       "</table>\n",
       "</div>"
      ],
      "text/plain": [
       "entry    cards_tab  existing_space  new_space  cards_tab_%  exisitng_space_%  \\\n",
       "month                                                                          \n",
       "2021-02          2               4          1         28.6              57.1   \n",
       "2021-03       1338             230        433         66.9              11.5   \n",
       "2021-04       1884             338        774         62.9              11.3   \n",
       "2021-05       1314             345        631         57.4              15.1   \n",
       "2021-06        848             203        375         59.5              14.2   \n",
       "2021-07        472             137        207         57.8              16.8   \n",
       "2021-08        424             114        184         58.7              15.8   \n",
       "\n",
       "entry    new_space_%  \n",
       "month                 \n",
       "2021-02         14.3  \n",
       "2021-03         21.6  \n",
       "2021-04         25.8  \n",
       "2021-05         27.6  \n",
       "2021-06         26.3  \n",
       "2021-07         25.4  \n",
       "2021-08         25.5  "
      ]
     },
     "execution_count": 8,
     "metadata": {},
     "output_type": "execute_result"
    }
   ],
   "source": [
    "## calculating percentages of each entry point per month\n",
    "\n",
    "entry_pivot[\"cards_tab_%\"] = (\n",
    "    round(entry_pivot[\"cards_tab\"] / entry.groupby(\"month\")[\"count\"].sum(), 3) * 100\n",
    ")\n",
    "entry_pivot[\"exisitng_space_%\"] = (\n",
    "    round(entry_pivot[\"existing_space\"] / entry.groupby(\"month\")[\"count\"].sum(), 3)\n",
    "    * 100\n",
    ")\n",
    "entry_pivot[\"new_space_%\"] = (\n",
    "    round(entry_pivot[\"new_space\"] / entry.groupby(\"month\")[\"count\"].sum(), 3) * 100\n",
    ")\n",
    "\n",
    "entry_pivot"
   ]
  },
  {
   "cell_type": "code",
   "execution_count": 9,
   "id": "4f388aea-761c-4195-b9cd-51a25e9d4052",
   "metadata": {},
   "outputs": [
    {
     "data": {
      "image/png": "[encoded data removed]",
      "text/plain": [
       "<Figure size 864x576 with 1 Axes>"
      ]
     },
     "metadata": {
      "needs_background": "light"
     },
     "output_type": "display_data"
    }
   ],
   "source": [
    "## Plot stacked bar\n",
    "\n",
    "fig, ax = plt.subplots(figsize=(12, 8))\n",
    "colors = [\"#C89D58\", \"#B35D5B\", \"#36A18B\"]\n",
    "\n",
    "entry_pivot.loc[:, [\"new_space\", \"existing_space\", \"cards_tab\"]].plot(\n",
    "    kind=\"bar\",\n",
    "    stacked=True,\n",
    "    color=colors,\n",
    "    figsize=(12, 8),\n",
    "    ax=ax,\n",
    "    title=\"Stacked Bar Plot of Roundup Entry by Month\",\n",
    "    ylabel=\"user_cnt\",\n",
    ")\n",
    "for container in ax.containers:\n",
    "    ax.bar_label(container)\n",
    "\n",
    "plt.show()"
   ]
  },
  {
   "cell_type": "code",
   "execution_count": null,
   "id": "a79e3cef-1108-48d3-b925-bce86e049c54",
   "metadata": {},
   "outputs": [],
   "source": []
  }
 ],
 "metadata": {
  "kernelspec": {
   "display_name": "Python 3 (ipykernel)",
   "language": "python",
   "name": "python3"
  },
  "language_info": {
   "codemirror_mode": {
    "name": "ipython",
    "version": 3
   },
   "file_extension": ".py",
   "mimetype": "text/x-python",
   "name": "python",
   "nbconvert_exporter": "python",
   "pygments_lexer": "ipython3",
   "version": "3.7.2"
  }
 },
 "nbformat": 4,
 "nbformat_minor": 5
}
