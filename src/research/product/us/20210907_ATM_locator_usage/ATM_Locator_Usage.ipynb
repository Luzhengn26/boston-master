{
 "cells": [
  {
   "cell_type": "markdown",
   "id": "160fe99e-50f9-423a-a8e9-90a9fa82ff60",
   "metadata": {},
   "source": [
    "title: ATM Locator Usage Research\n",
    "<br>\n",
    "date: 2021-09-07\n",
    "<br>\n",
    "region: US\n",
    "<br>\n",
    "author: Henry Xu\n",
    "<br>\n",
    "tags: ATM, cash, withdrawal, ATM locator, ATM map, map, feature, product discovery\n",
    "<br>\n",
    "summary: This research explores whether users used ATM locator map to help them find an ATM before they conducted an ATM transaction. We also exmaine whether there are simple demographic differences between users who uses ATM locator and users who don't."
   ]
  },
  {
   "cell_type": "markdown",
   "id": "34f72adf-f964-40c1-ba75-d3523880de5b",
   "metadata": {
    "tags": []
   },
   "source": [
    "## ATM Locator Usage Research"
   ]
  },
  {
   "cell_type": "markdown",
   "id": "8de90460-bf46-4103-b8ab-4bde3a420199",
   "metadata": {
    "jp-MarkdownHeadingCollapsed": true,
    "tags": []
   },
   "source": [
    "#### Findings about ATM locator usage:\n",
    "\n",
    "Querying into database shows that out of 22,257 users who had an ATM transaction in Q1 2021,\n",
    "<br>\n",
    "> - 3413 users (15%) had the ATM transaction within 24 hours (from 0 - 24h) of viewing the ATM locator,\n",
    "<br>\n",
    "> - 3809 users (17%) had the ATM transaction within 48 hours (from 0 - 48h) of viewing the ATM locator,\n",
    "<br>\n",
    "> - 4905 users (22%) had the ATM transaction within 7 days(from 0 - 7 days) of viewing the ATM locator.\n",
    "<br>\n",
    "<br>\n",
    "This analysis is based on ATM transactions in Q1 2021 and assumes that users who had the ATM transaction within 48 hours of viewing the ATM locator as using the feature.\n",
    "<br>\n",
    "Therefore 17% of users who had an ATM transaction actually used ATM locator prior to the transaction."
   ]
  },
  {
   "cell_type": "markdown",
   "id": "3bb60c73-c41f-4875-9be4-5332e5a2c7a5",
   "metadata": {
    "tags": []
   },
   "source": [
    "#### Findings about user demographics\n",
    "\n",
    "> - There is no clear distinction between users who use and don't use ATM locator in terms of age, occupation or state they are from. \n",
    "> - The average age for all ATM users is 35-36, and most centered around age 30. \n",
    "> - Top 3 occupation for all ATM users are food, sales and construction. (The top one is actually 'Other' which is comprised of all types of occupations)\n",
    "> - Top 4 places for ATM users are FL, TX, CA, NY"
   ]
  },
  {
   "cell_type": "code",
   "execution_count": null,
   "id": "77c139ee-649e-4572-a170-c8fdd54c2efd",
   "metadata": {},
   "outputs": [],
   "source": [
    "# pip install matplotlib"
   ]
  },
  {
   "cell_type": "code",
   "execution_count": null,
   "id": "a0e0cef5-52e1-400f-bca5-4a55b115ef64",
   "metadata": {},
   "outputs": [],
   "source": [
    "# pip install seaborn"
   ]
  },
  {
   "cell_type": "code",
   "execution_count": null,
   "id": "64fc7314-9032-4226-b8aa-9bc2e4023cdb",
   "metadata": {},
   "outputs": [],
   "source": [
    "# pip install plotly"
   ]
  },
  {
   "cell_type": "code",
   "execution_count": 4,
   "id": "86e3551e-612e-42e7-afb3-024161d2af91",
   "metadata": {
    "tags": []
   },
   "outputs": [],
   "source": [
    "## import libraries\n",
    "\n",
    "import pandas as pd\n",
    "import matplotlib.pyplot as plt\n",
    "import numpy as np\n",
    "import seaborn as sns\n",
    "\n",
    "%matplotlib inline"
   ]
  },
  {
   "cell_type": "code",
   "execution_count": 6,
   "id": "7161ccc9-8d4b-4a5f-bfad-70561a54d592",
   "metadata": {},
   "outputs": [],
   "source": [
    "## Importing data\n",
    "## This pulls in all the users who uses an ATM machine within 48 hours of viewing the ATM locator\n",
    "\n",
    "from datalib import database\n",
    "from utils import setup\n",
    "\n",
    "db = database.Database(\"redshiftreader\", setup.config_file, setup.vault_section)\n",
    "db.create_engine(sslmode=\"require\")\n",
    "\n",
    "with db.engine.begin() as conn:\n",
    "    use_locator = db.df_from_sql(\n",
    "        \"\"\"\n",
    "        with atm_txn as (\n",
    "        select\n",
    "                du.shadow_user_id,\n",
    "                ft.completed_tstamp,\n",
    "                du.user_id,\n",
    "                du.occupation,\n",
    "                du.birth_date\n",
    "            from dbt.f_transactions ft \n",
    "            inner join dbt.dim_users du \n",
    "                on ft.user_id = du.user_id\n",
    "                and du.kyc_first_completed <= '2021-03-31'\n",
    "                and ft.type = 'ATM'\n",
    "                and ft.completed_tstamp between '2021-01-01' and '2021-04-01'\n",
    "        ),\n",
    "        txn_window as (\n",
    "            select distinct \n",
    "                    at.user_id,\n",
    "                    at.occupation,\n",
    "                    at.birth_date\n",
    "            from etl_reporting.ksp_event_core kec \n",
    "            inner join etl_reporting.ksp_event_types ket \n",
    "                on kec.event_type = ket.event_type \n",
    "            inner join etl_reporting.ksp_ip_geo kig \n",
    "                on kec.event_id = kig.event_id \n",
    "                and kig.country = 'US'\n",
    "                and ket.se_action = 'atm_map_open'\n",
    "                and kec.collector_tstamp between '2021-01-01' and '2021-04-02'\n",
    "            inner join atm_txn as at\n",
    "                on at.shadow_user_id = kec.user_id \n",
    "                and at.completed_tstamp >= kec.collector_tstamp\n",
    "                and datediff(hour,  kec.collector_tstamp::timestamp, at.completed_tstamp::timestamp) <= 48 -- adjust the time here for different window\n",
    "        ),\n",
    "        latest_date as (\n",
    "            select \n",
    "                tw.user_id,\n",
    "                tw.occupation,\n",
    "                tw.birth_date,\n",
    "                da.city,\n",
    "                da.state,\n",
    "                da.country,\n",
    "                row_number() over(partition by da.user_id order by updated desc) as date_rnk\n",
    "            from txn_window as tw\n",
    "            inner join dbt.dim_address da \n",
    "                on da.user_id = tw.user_id\n",
    "        )\n",
    "        select \n",
    "                ld.user_id,\n",
    "                ld.occupation,\n",
    "                ld.birth_date,\n",
    "                ld.city,\n",
    "                ld.state,\n",
    "                ld.country\n",
    "        from latest_date as ld\n",
    "        where date_rnk = 1                   \n",
    "        \"\"\",\n",
    "        connection=conn,\n",
    "    )"
   ]
  },
  {
   "cell_type": "code",
   "execution_count": 7,
   "id": "c6520f58-bb7c-490f-979d-28c227c00e92",
   "metadata": {},
   "outputs": [],
   "source": [
    "## This pulls in all users who had an ATM transaction\n",
    "\n",
    "db = database.Database(\"redshiftreader\", setup.config_file, setup.vault_section)\n",
    "db.create_engine(sslmode=\"require\")\n",
    "\n",
    "\n",
    "with db.engine.begin() as conn:\n",
    "    all_atm = db.df_from_sql(\n",
    "        \"\"\"\n",
    "        with kyc_completed as (\n",
    "            select distinct \n",
    "                        du.user_id,\n",
    "                        du.occupation,\n",
    "                        du.birth_date\n",
    "            from dbt.f_transactions ft \n",
    "            inner join dbt.dim_users du \n",
    "                on du.user_id = ft.user_id\n",
    "                and kyc_first_completed <= '2021-03-31'\n",
    "            where ft.type = 'ATM'\n",
    "                and ft.completed_tstamp between '2021-01-01' and '2021-04-01'\n",
    "        ),\n",
    "        rank_address as (\n",
    "            select \n",
    "                kyc.user_id,\n",
    "                kyc.occupation,\n",
    "                kyc.birth_date,\n",
    "                da.city,\n",
    "                da.state,\n",
    "                da.country,\n",
    "                row_number() over(partition by da.user_id order by updated desc) as date_rnk\n",
    "            from kyc_completed as kyc\n",
    "            inner join dbt.dim_address da \n",
    "                on da.user_id = kyc.user_id\n",
    "        )\n",
    "        select\n",
    "            ra.user_id,\n",
    "            ra.occupation,\n",
    "            ra.birth_date,\n",
    "            ra.city,\n",
    "            ra.state,\n",
    "            ra.country\n",
    "        from rank_address as ra \n",
    "        where date_rnk = 1    \n",
    "        \"\"\",\n",
    "        connection=conn,\n",
    "    )"
   ]
  },
  {
   "cell_type": "markdown",
   "id": "31ab8d0f-7871-466d-8a9f-6fc34c27fa0e",
   "metadata": {
    "tags": []
   },
   "source": [
    "#### Analyze users who uses locator"
   ]
  },
  {
   "cell_type": "markdown",
   "id": "991e1481-7202-460e-a0c2-fc2b6209d7ce",
   "metadata": {},
   "source": [
    "##### Age of ATM locator users "
   ]
  },
  {
   "cell_type": "code",
   "execution_count": 8,
   "id": "dbfca885-5928-44e0-92b1-c7f5c94880dc",
   "metadata": {},
   "outputs": [],
   "source": [
    "use_locator[\"birth_date\"] = use_locator[\"birth_date\"].astype(\"datetime64\")"
   ]
  },
  {
   "cell_type": "code",
   "execution_count": 9,
   "id": "192fc959-75cb-408d-bdf5-991bea824355",
   "metadata": {},
   "outputs": [],
   "source": [
    "# get the age for the users\n",
    "\n",
    "from datetime import date as dt\n",
    "\n",
    "td = dt.today().year\n",
    "use_locator[\"age\"] = (\n",
    "    np.repeat(td, len(use_locator[\"birth_date\"])) - use_locator[\"birth_date\"].dt.year\n",
    ")"
   ]
  },
  {
   "cell_type": "code",
   "execution_count": 10,
   "id": "44548135-b574-4e04-8088-e9a150d18f23",
   "metadata": {},
   "outputs": [
    {
     "data": {
      "image/png": "[encoded data removed]",
      "text/plain": [
       "<Figure size 432x288 with 1 Axes>"
      ]
     },
     "metadata": {
      "needs_background": "light"
     },
     "output_type": "display_data"
    }
   ],
   "source": [
    "## look at age distribution for the users who uses ATM locator\n",
    "\n",
    "mean_age = use_locator[\"age\"].mean()\n",
    "\n",
    "ax = sns.kdeplot(use_locator[\"age\"])\n",
    "kdeline = ax.lines[0]\n",
    "xs = kdeline.get_xdata()\n",
    "ys = kdeline.get_ydata()\n",
    "height = np.interp(mean_age, xs, ys)\n",
    "ax.vlines(mean_age, 0, height, color=\"crimson\", ls=\":\")\n",
    "\n",
    "plt.title(\"KDE Plot of ATM Locator User Age Distribution\")\n",
    "plt.show()"
   ]
  },
  {
   "cell_type": "code",
   "execution_count": 11,
   "id": "e32f66e4-28db-487d-aa7f-40633f274759",
   "metadata": {},
   "outputs": [
    {
     "data": {
      "image/png": "[encoded data removed]",
      "text/plain": [
       "<Figure size 360x360 with 1 Axes>"
      ]
     },
     "metadata": {
      "needs_background": "light"
     },
     "output_type": "display_data"
    }
   ],
   "source": [
    "sns.displot(use_locator[\"age\"])\n",
    "plt.title(\"Histogram of ATM Locator User Age Distribution\")\n",
    "plt.show()"
   ]
  },
  {
   "cell_type": "markdown",
   "id": "133ff8ef-9852-4372-a9b4-dde4d6ade82f",
   "metadata": {},
   "source": [
    "Findings:\n",
    "> - the average age is 35\n",
    "> - the most dense group of users who uses ATM locator is around age of 30"
   ]
  },
  {
   "cell_type": "markdown",
   "id": "2a99ebcd-b6c3-4567-8bfd-6058b06f575d",
   "metadata": {},
   "source": [
    "##### Occupation of ATM locator users"
   ]
  },
  {
   "cell_type": "code",
   "execution_count": 12,
   "id": "e2ce0af4-ca37-4f95-9a6e-4375a1eae452",
   "metadata": {},
   "outputs": [
    {
     "data": {
      "text/plain": [
       "OTHER                                    601\n",
       "FOOD                                     377\n",
       "CONSTRUCTION                             363\n",
       "SALES                                    363\n",
       "HEALTHCARE                               287\n",
       "MANUFACTURING                            183\n",
       "US_STUDENT                               182\n",
       "TRANSPORTATION_LOGISTICS                 163\n",
       "OFFICE_ADMINISTRATIVE                    158\n",
       "JOURNALISM_MEDIA_SPORTS_ENTERTAINMENT    119\n",
       "Name: occupation, dtype: int64"
      ]
     },
     "execution_count": 12,
     "metadata": {},
     "output_type": "execute_result"
    }
   ],
   "source": [
    "## look at user occupation of the users who uses ATM locator\n",
    "\n",
    "use_locator[\"occupation\"].value_counts().iloc[:10]"
   ]
  },
  {
   "cell_type": "code",
   "execution_count": 13,
   "id": "c217858e-6e1d-488e-8f75-51f019e9825a",
   "metadata": {},
   "outputs": [
    {
     "data": {
      "image/png": "[encoded data removed]",
      "text/plain": [
       "<Figure size 1080x432 with 1 Axes>"
      ]
     },
     "metadata": {
      "needs_background": "light"
     },
     "output_type": "display_data"
    }
   ],
   "source": [
    "plt.figure(figsize=(15, 6))\n",
    "sns.countplot(\n",
    "    y=use_locator[\"occupation\"],\n",
    "    order=use_locator[\"occupation\"].value_counts().iloc[:10].index,\n",
    ")\n",
    "plt.title(\"Count of ATM Locator User by Occupation\")\n",
    "plt.show()"
   ]
  },
  {
   "cell_type": "markdown",
   "id": "cf044541-8d83-42e6-8124-eee021d6752d",
   "metadata": {},
   "source": [
    "Findings: Top 3 are food, sales and construction"
   ]
  },
  {
   "cell_type": "markdown",
   "id": "e7bf9e3f-dfe3-4403-bf66-d78e3d634581",
   "metadata": {},
   "source": [
    "##### Resident state of ATM locator users "
   ]
  },
  {
   "cell_type": "code",
   "execution_count": 14,
   "id": "bd380fa4-e82c-4fb6-b7ee-0d9d35783361",
   "metadata": {},
   "outputs": [
    {
     "data": {
      "text/html": [
       "<div>\n",
       "<style scoped>\n",
       "    .dataframe tbody tr th:only-of-type {\n",
       "        vertical-align: middle;\n",
       "    }\n",
       "\n",
       "    .dataframe tbody tr th {\n",
       "        vertical-align: top;\n",
       "    }\n",
       "\n",
       "    .dataframe thead th {\n",
       "        text-align: right;\n",
       "    }\n",
       "</style>\n",
       "<table border=\"1\" class=\"dataframe\">\n",
       "  <thead>\n",
       "    <tr style=\"text-align: right;\">\n",
       "      <th></th>\n",
       "      <th>state</th>\n",
       "      <th>user_cnt</th>\n",
       "    </tr>\n",
       "  </thead>\n",
       "  <tbody>\n",
       "    <tr>\n",
       "      <th>0</th>\n",
       "      <td>FL</td>\n",
       "      <td>413</td>\n",
       "    </tr>\n",
       "    <tr>\n",
       "      <th>1</th>\n",
       "      <td>TX</td>\n",
       "      <td>361</td>\n",
       "    </tr>\n",
       "    <tr>\n",
       "      <th>2</th>\n",
       "      <td>CA</td>\n",
       "      <td>319</td>\n",
       "    </tr>\n",
       "    <tr>\n",
       "      <th>3</th>\n",
       "      <td>NY</td>\n",
       "      <td>275</td>\n",
       "    </tr>\n",
       "    <tr>\n",
       "      <th>4</th>\n",
       "      <td>GA</td>\n",
       "      <td>217</td>\n",
       "    </tr>\n",
       "    <tr>\n",
       "      <th>5</th>\n",
       "      <td>OH</td>\n",
       "      <td>212</td>\n",
       "    </tr>\n",
       "    <tr>\n",
       "      <th>6</th>\n",
       "      <td>IL</td>\n",
       "      <td>168</td>\n",
       "    </tr>\n",
       "    <tr>\n",
       "      <th>7</th>\n",
       "      <td>PA</td>\n",
       "      <td>128</td>\n",
       "    </tr>\n",
       "    <tr>\n",
       "      <th>8</th>\n",
       "      <td>TN</td>\n",
       "      <td>97</td>\n",
       "    </tr>\n",
       "    <tr>\n",
       "      <th>9</th>\n",
       "      <td>NC</td>\n",
       "      <td>91</td>\n",
       "    </tr>\n",
       "  </tbody>\n",
       "</table>\n",
       "</div>"
      ],
      "text/plain": [
       "  state  user_cnt\n",
       "0    FL       413\n",
       "1    TX       361\n",
       "2    CA       319\n",
       "3    NY       275\n",
       "4    GA       217\n",
       "5    OH       212\n",
       "6    IL       168\n",
       "7    PA       128\n",
       "8    TN        97\n",
       "9    NC        91"
      ]
     },
     "execution_count": 14,
     "metadata": {},
     "output_type": "execute_result"
    }
   ],
   "source": [
    "state_cnt = pd.DataFrame(use_locator[\"state\"].value_counts().iloc[:10].reset_index())\n",
    "state_cnt.rename(columns={\"index\": \"state\", \"state\": \"user_cnt\"}, inplace=True)\n",
    "state_cnt"
   ]
  },
  {
   "cell_type": "code",
   "execution_count": 16,
   "id": "4a16de27-42a9-461d-a7f3-0624279d0584",
   "metadata": {},
   "outputs": [],
   "source": [
    "## Plot on the plotly map\n",
    "## This is commented out as HTML generator script with beautiful soup cannot output plotly map at the moment\n",
    "\n",
    "# import plotly.graph_objects as go\n",
    "# from plotly.offline import download_plotlyjs, init_notebook_mode, plot, iplot"
   ]
  },
  {
   "cell_type": "code",
   "execution_count": 17,
   "id": "ce071556-bd9a-4c2a-a5d1-b3bfba93b07b",
   "metadata": {},
   "outputs": [],
   "source": [
    "# set up so that the figures show up in the notebook\n",
    "\n",
    "# init_notebook_mode(connected=True)"
   ]
  },
  {
   "cell_type": "code",
   "execution_count": 18,
   "id": "fd0e0dde-eb4e-4396-a50b-20036d552e52",
   "metadata": {},
   "outputs": [],
   "source": [
    "## plotly map\n",
    "\n",
    "\n",
    "# fig = go.Figure(data = go.Choropleth(\n",
    "#                 locations = state_cnt['state'],\n",
    "#                 z = state_cnt['user_cnt'].astype(float),\n",
    "#                 locationmode = 'USA-states',\n",
    "#                 colorscale = ['#C89D58', '#B35D5B', '#36A18B'],\n",
    "#                 autocolorscale = False,\n",
    "#                 marker_line_color = 'white', # line markers between states\n",
    "#                 colorbar_title = \"User Count\"\n",
    "# ))\n",
    "\n",
    "\n",
    "# fig.update_layout(\n",
    "#     title_text = '2021 Q1 Users Who Use AMT Locator by State',\n",
    "#     geo = dict(\n",
    "#         scope = 'usa',\n",
    "#         projection = go.layout.geo.Projection(type = 'albers usa'),\n",
    "#         showlakes = False, # lakes\n",
    "# ))\n",
    "\n",
    "\n",
    "# fig.show()"
   ]
  },
  {
   "cell_type": "code",
   "execution_count": 20,
   "id": "a96d4ec3-643c-4637-a177-fdbb44118fa7",
   "metadata": {},
   "outputs": [
    {
     "data": {
      "image/png": "[encoded data removed]",
      "text/plain": [
       "<Figure size 1080x432 with 1 Axes>"
      ]
     },
     "metadata": {
      "needs_background": "light"
     },
     "output_type": "display_data"
    }
   ],
   "source": [
    "plt.figure(figsize=(15, 6))\n",
    "plt.bar(state_cnt[\"state\"], state_cnt[\"user_cnt\"])\n",
    "plt.title(\"Count of ATM Locator User by State\")\n",
    "plt.show()"
   ]
  },
  {
   "cell_type": "markdown",
   "id": "d1e7de7c-9558-4fca-b680-f8fd4e510179",
   "metadata": {},
   "source": [
    "Findings: Top 3 are FL, TX, CA"
   ]
  },
  {
   "cell_type": "markdown",
   "id": "5852e397-14df-4787-9907-a70c330979bf",
   "metadata": {},
   "source": [
    "#### Analyze users had an ATM transaction without viewing the ATM locator "
   ]
  },
  {
   "cell_type": "markdown",
   "id": "36ef5b4e-594b-4da7-91b6-43401bdfbdc0",
   "metadata": {},
   "source": [
    "##### Age of all ATM users"
   ]
  },
  {
   "cell_type": "code",
   "execution_count": 21,
   "id": "6aa9f3c0-d48e-4a3a-b035-e5f2d270f4d3",
   "metadata": {},
   "outputs": [],
   "source": [
    "mask = ~all_atm[\"user_id\"].isin(use_locator[\"user_id\"])\n",
    "\n",
    "not_use_locator = all_atm.loc[mask, :]"
   ]
  },
  {
   "cell_type": "code",
   "execution_count": 22,
   "id": "5bce9e3b-fbd8-4e0d-bdd8-c0672aaad54e",
   "metadata": {},
   "outputs": [],
   "source": [
    "pd.options.mode.chained_assignment = None\n",
    "\n",
    "not_use_locator[\"birth_date\"] = not_use_locator[\"birth_date\"].astype(\"datetime64\")"
   ]
  },
  {
   "cell_type": "code",
   "execution_count": 23,
   "id": "32d3a3fd-f9ba-4587-9657-f5e0464bb78f",
   "metadata": {},
   "outputs": [],
   "source": [
    "# get the age for the users\n",
    "\n",
    "from datetime import date as dt\n",
    "\n",
    "td = dt.today().year\n",
    "not_use_locator[\"age\"] = (\n",
    "    np.repeat(td, len(not_use_locator[\"birth_date\"]))\n",
    "    - not_use_locator[\"birth_date\"].dt.year\n",
    ")"
   ]
  },
  {
   "cell_type": "code",
   "execution_count": 24,
   "id": "6a85a337-ccd9-4051-8719-ac556e9f90bf",
   "metadata": {},
   "outputs": [],
   "source": [
    "mean_age = not_use_locator[\"age\"].mean()"
   ]
  },
  {
   "cell_type": "code",
   "execution_count": 25,
   "id": "f73bd23b-1e81-4de2-ba3f-831870167aa8",
   "metadata": {},
   "outputs": [
    {
     "data": {
      "image/png": "[encoded data removed]",
      "text/plain": [
       "<Figure size 432x288 with 1 Axes>"
      ]
     },
     "metadata": {
      "needs_background": "light"
     },
     "output_type": "display_data"
    }
   ],
   "source": [
    "## look at age distribution for the users who don't use ATM locator\n",
    "\n",
    "mean_age = not_use_locator[\"age\"].mean()\n",
    "\n",
    "ax = sns.kdeplot(not_use_locator[\"age\"])\n",
    "kdeline = ax.lines[0]\n",
    "xs = kdeline.get_xdata()\n",
    "ys = kdeline.get_ydata()\n",
    "height = np.interp(mean_age, xs, ys)\n",
    "ax.vlines(mean_age, 0, height, color=\"crimson\", ls=\":\")\n",
    "\n",
    "plt.title(\"KDE Plot of ATM User Age Distribution\")\n",
    "plt.show()"
   ]
  },
  {
   "cell_type": "code",
   "execution_count": 26,
   "id": "0c997ac2-c0ae-47d1-8457-a6f7b3dff2fd",
   "metadata": {},
   "outputs": [
    {
     "data": {
      "image/png": "[encoded data removed]",
      "text/plain": [
       "<Figure size 360x360 with 1 Axes>"
      ]
     },
     "metadata": {
      "needs_background": "light"
     },
     "output_type": "display_data"
    }
   ],
   "source": [
    "sns.displot(not_use_locator[\"age\"])\n",
    "plt.title(\"Histogram of ATM User Age Distribution\")\n",
    "plt.show()"
   ]
  },
  {
   "cell_type": "markdown",
   "id": "72f11130-0f80-4e9c-8a57-3c18bd9c093b",
   "metadata": {},
   "source": [
    "Findings:\n",
    "> - the average age is 36\n",
    "> - the most dense group of users who uses ATM locator is around age of 30"
   ]
  },
  {
   "cell_type": "markdown",
   "id": "174200ff-9f34-417a-b137-1016ec340708",
   "metadata": {},
   "source": [
    "##### Occupation of all ATM users"
   ]
  },
  {
   "cell_type": "code",
   "execution_count": 27,
   "id": "f55715d1-fb7c-4aee-8adf-7ff432e0ee29",
   "metadata": {},
   "outputs": [
    {
     "data": {
      "text/plain": [
       "Text(0.5, 1.0, 'Count of All ATM User by Occupation')"
      ]
     },
     "execution_count": 27,
     "metadata": {},
     "output_type": "execute_result"
    },
    {
     "data": {
      "image/png": "[encoded data removed]",
      "text/plain": [
       "<Figure size 1080x432 with 1 Axes>"
      ]
     },
     "metadata": {
      "needs_background": "light"
     },
     "output_type": "display_data"
    }
   ],
   "source": [
    "## look at user occupation of the users who uses ATM locator\n",
    "\n",
    "plt.figure(figsize=(15, 6))\n",
    "sns.countplot(\n",
    "    y=not_use_locator[\"occupation\"],\n",
    "    order=not_use_locator[\"occupation\"].value_counts().iloc[:10].index,\n",
    ")\n",
    "plt.title(\"Count of All ATM User by Occupation\")"
   ]
  },
  {
   "cell_type": "markdown",
   "id": "bc24beb2-accb-4b91-9f68-f5acde54f2a5",
   "metadata": {},
   "source": [
    "Findings: Top 3 are food, sales and construction"
   ]
  },
  {
   "cell_type": "markdown",
   "id": "d08c5696-cd59-4938-8dad-73a2dfd251b8",
   "metadata": {},
   "source": [
    "##### Resident state of all ATM users"
   ]
  },
  {
   "cell_type": "code",
   "execution_count": 28,
   "id": "7e2b5221-7b16-43fb-a30a-3bc3a786584b",
   "metadata": {},
   "outputs": [
    {
     "data": {
      "text/html": [
       "<div>\n",
       "<style scoped>\n",
       "    .dataframe tbody tr th:only-of-type {\n",
       "        vertical-align: middle;\n",
       "    }\n",
       "\n",
       "    .dataframe tbody tr th {\n",
       "        vertical-align: top;\n",
       "    }\n",
       "\n",
       "    .dataframe thead th {\n",
       "        text-align: right;\n",
       "    }\n",
       "</style>\n",
       "<table border=\"1\" class=\"dataframe\">\n",
       "  <thead>\n",
       "    <tr style=\"text-align: right;\">\n",
       "      <th></th>\n",
       "      <th>state</th>\n",
       "      <th>user_cnt</th>\n",
       "    </tr>\n",
       "  </thead>\n",
       "  <tbody>\n",
       "    <tr>\n",
       "      <th>0</th>\n",
       "      <td>TX</td>\n",
       "      <td>1935</td>\n",
       "    </tr>\n",
       "    <tr>\n",
       "      <th>1</th>\n",
       "      <td>FL</td>\n",
       "      <td>1815</td>\n",
       "    </tr>\n",
       "    <tr>\n",
       "      <th>2</th>\n",
       "      <td>NY</td>\n",
       "      <td>1434</td>\n",
       "    </tr>\n",
       "    <tr>\n",
       "      <th>3</th>\n",
       "      <td>CA</td>\n",
       "      <td>1414</td>\n",
       "    </tr>\n",
       "    <tr>\n",
       "      <th>4</th>\n",
       "      <td>GA</td>\n",
       "      <td>1271</td>\n",
       "    </tr>\n",
       "    <tr>\n",
       "      <th>5</th>\n",
       "      <td>IL</td>\n",
       "      <td>747</td>\n",
       "    </tr>\n",
       "    <tr>\n",
       "      <th>6</th>\n",
       "      <td>OH</td>\n",
       "      <td>705</td>\n",
       "    </tr>\n",
       "    <tr>\n",
       "      <th>7</th>\n",
       "      <td>NC</td>\n",
       "      <td>548</td>\n",
       "    </tr>\n",
       "    <tr>\n",
       "      <th>8</th>\n",
       "      <td>MI</td>\n",
       "      <td>502</td>\n",
       "    </tr>\n",
       "    <tr>\n",
       "      <th>9</th>\n",
       "      <td>PA</td>\n",
       "      <td>473</td>\n",
       "    </tr>\n",
       "  </tbody>\n",
       "</table>\n",
       "</div>"
      ],
      "text/plain": [
       "  state  user_cnt\n",
       "0    TX      1935\n",
       "1    FL      1815\n",
       "2    NY      1434\n",
       "3    CA      1414\n",
       "4    GA      1271\n",
       "5    IL       747\n",
       "6    OH       705\n",
       "7    NC       548\n",
       "8    MI       502\n",
       "9    PA       473"
      ]
     },
     "execution_count": 28,
     "metadata": {},
     "output_type": "execute_result"
    }
   ],
   "source": [
    "state_cnt = pd.DataFrame(\n",
    "    not_use_locator[\"state\"].value_counts().iloc[:10].reset_index()\n",
    ")\n",
    "state_cnt.rename(columns={\"index\": \"state\", \"state\": \"user_cnt\"}, inplace=True)\n",
    "state_cnt"
   ]
  },
  {
   "cell_type": "code",
   "execution_count": 29,
   "id": "bc30c82f-1a95-43ac-a954-5354611ba983",
   "metadata": {},
   "outputs": [],
   "source": [
    "## plotly map\n",
    "## This is commented out as HTML generator script with beautiful soup cannot output plotly map at the moment\n",
    "\n",
    "# fig = go.Figure(data = go.Choropleth(\n",
    "#                 locations = state_cnt['state'],\n",
    "#                 z = state_cnt['user_cnt'].astype(float),\n",
    "#                 locationmode = 'USA-states',\n",
    "#                 colorscale = ['#C89D58', '#B35D5B', '#36A18B'],\n",
    "#                 autocolorscale = False,\n",
    "#                 marker_line_color = 'white', # line markers between states\n",
    "#                 colorbar_title = \"User Count\"\n",
    "# ))\n",
    "\n",
    "\n",
    "# fig.update_layout(\n",
    "#     title_text = '2021 Q1 Users Who Use AMT Locator by State',\n",
    "#     geo = dict(\n",
    "#         scope = 'usa',\n",
    "#         projection = go.layout.geo.Projection(type = 'albers usa'),\n",
    "#         showlakes = False, # lakes\n",
    "# ))\n",
    "\n",
    "\n",
    "# fig.show()"
   ]
  },
  {
   "cell_type": "code",
   "execution_count": 30,
   "id": "f40ec772-da9d-4837-89ad-e58f9b67a1a6",
   "metadata": {},
   "outputs": [
    {
     "data": {
      "image/png": "[encoded data removed]",
      "text/plain": [
       "<Figure size 1080x432 with 1 Axes>"
      ]
     },
     "metadata": {
      "needs_background": "light"
     },
     "output_type": "display_data"
    }
   ],
   "source": [
    "plt.figure(figsize=(15, 6))\n",
    "plt.bar(state_cnt[\"state\"], state_cnt[\"user_cnt\"])\n",
    "plt.title(\"Count of ATM Locator User by State\")\n",
    "plt.show()"
   ]
  },
  {
   "cell_type": "markdown",
   "id": "dd67fe9f-bee1-40c7-909d-2ad369c7fbfe",
   "metadata": {},
   "source": [
    "Findings: Top 3 are TX, FL, NY"
   ]
  }
 ],
 "metadata": {
  "kernelspec": {
   "display_name": "Python 3 (ipykernel)",
   "language": "python",
   "name": "python3"
  },
  "language_info": {
   "codemirror_mode": {
    "name": "ipython",
    "version": 3
   },
   "file_extension": ".py",
   "mimetype": "text/x-python",
   "name": "python",
   "nbconvert_exporter": "python",
   "pygments_lexer": "ipython3",
   "version": "3.7.2"
  }
 },
 "nbformat": 4,
 "nbformat_minor": 5
}
