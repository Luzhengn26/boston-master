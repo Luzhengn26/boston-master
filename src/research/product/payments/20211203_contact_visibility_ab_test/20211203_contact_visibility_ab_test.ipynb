{
 "cells": [
  {
   "cell_type": "code",
   "execution_count": null,
   "metadata": {},
   "outputs": [],
   "source": [
    "title: Contact Visiblity A/B Test\n",
    "author: Skyla Wang\n",
    "date: 2021-12-03\n",
    "region: EU \n",
    "link: https://docs.google.com/presentation/d/1TUwmf4mSFbQ33GGUKZjjQ6TLw5V6Nhz5k30o3oxJx48/edit?usp=sharing\n",
    "tags: contact visiblity, moneybeam, AB test, signup  \n",
    "summary: In this experiment we evaluate the results of tweaking the words in the sign up flow to see how this impact the contact visiblity enable rate and Moneybeam usage. The sample size of each group is approximately 20k users, and the test duration is 3 weeks from 2021-11-11 to 2021-12-02. We observe 5pp increase with >99% confidence for contact visibility enable rate and 0.4pp increase with >85% confidence for MoneyBeam adoption rate in all markets."
   ]
  }
 ],
 "metadata": {
  "language_info": {
   "name": "python"
  },
  "orig_nbformat": 4
 },
 "nbformat": 4,
 "nbformat_minor": 2
}
