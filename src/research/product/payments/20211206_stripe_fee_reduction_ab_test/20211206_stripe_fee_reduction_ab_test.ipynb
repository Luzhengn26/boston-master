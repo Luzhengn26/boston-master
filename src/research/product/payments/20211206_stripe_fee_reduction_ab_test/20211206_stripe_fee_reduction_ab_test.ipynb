{
 "cells": [
  {
   "cell_type": "markdown",
   "id": "ee110864",
   "metadata": {},
   "source": [
    "---\n",
    "title: Stripe A/B Test - Fee Reduction\n",
    "\n",
    "author: Diana Munteanu, Nimisha Thomas, Amaury Hellebuyck\n",
    "\n",
    "region: EU\n",
    "\n",
    "date: 2021-11-25\n",
    "\n",
    "summary: In this experiment we evaluate the results of reducing the Stripe top-up fee from 3% to either 2% or 1%. Results show that markets with 1% fee have significantly higher conversion rates and topup volumes compared to control group, while markets with 2% fee do not have significantly different results from the control.\n",
    "\n",
    "tags: top-up, stripe, activation, volumes, engagement, fee, feature adoption, card top-up\n",
    "\n",
    "link: https://docs.google.com/presentation/d/16MkglG8lB5t9gOHgiMmFyF2zmNnnNS0_HwWyQleOdGs/edit?usp=sharing\n",
    "\n",
    "research_type: Data Deep Dives\n",
    "\n",
    "---"
   ]
  },
  {
   "cell_type": "markdown",
   "id": "5a640bf4",
   "metadata": {},
   "source": [
    "#### Import packages"
   ]
  },
  {
   "cell_type": "code",
   "execution_count": null,
   "id": "b1afaf5e",
   "metadata": {},
   "outputs": [
    {
     "name": "stdout",
     "output_type": "stream",
     "text": [
      "/app\n"
     ]
    }
   ],
   "source": [
    "cd /app/"
   ]
  },
  {
   "cell_type": "code",
   "execution_count": null,
   "id": "402f49cc",
   "metadata": {},
   "outputs": [],
   "source": [
    "!pip install plotly\n",
    "!pip install seaborn"
   ]
  },
  {
   "cell_type": "code",
   "execution_count": null,
   "id": "25579abc",
   "metadata": {},
   "outputs": [],
   "source": [
    "import pandas as pd\n",
    "import matplotlib.pyplot as plt\n",
    "from utils.datalib_database import df_to_db, df_from_sql\n",
    "from utils.datalib_database import df_from_sql\n",
    "\n",
    "import numpy as np\n",
    "import scipy.stats as stats\n",
    "import statsmodels.api as sm\n",
    "import plotly.express as px\n",
    "from plotly import graph_objects as go\n",
    "from scipy.stats import ttest_ind, mannwhitneyu, beta, wilcoxon\n",
    "\n",
    "import seaborn as sns\n",
    "\n",
    "sns.set(color_codes=True)"
   ]
  },
  {
   "cell_type": "markdown",
   "id": "c8e8c509",
   "metadata": {},
   "source": [
    "### Contents \n",
    "- <a href='#Background'>Background</a>\n",
    "- <a href='#design'>Experimental Design</a>\n",
    "- <a href='#sample'>Sample Size</a>\n",
    "- <a href='#analysis'>Results Analysis</a>"
   ]
  },
  {
   "cell_type": "markdown",
   "id": "7e926cb5",
   "metadata": {},
   "source": [
    "### Background  <a id='Background'></a> \n",
    "There is a minimum of €20 and a maximum of €450 per Stripe top up. The monthly limit for the customer is €450. Every first top up is free of charge and every recurring top up after that is being charged with a 3% fee no matter which top up method is being used.\n",
    "\n",
    "Feature adoption is different across markets because of the varying pricing sensitivity and competitive landscapes. Currently, the assumption is that the fee is too high and prevents customers from conducting a second top up. With this test we attempt to understand whether a price reduction can potentially boost the adoption rate as well as the incoming volumes. \n",
    "\n",
    "Top-up methods available: Card & Wallet (all markets), GiroPay (DEU), iDEAL (NLD), Bancontact (BEL), EPS (AUT) "
   ]
  },
  {
   "cell_type": "markdown",
   "id": "5e5b65fc",
   "metadata": {},
   "source": [
    "### Experimental Design <a id='design'></a> \n",
    "\n",
    "Users will be randomly split into two groups: \n",
    "\n",
    "- Control group that will see the usual fee of 3%.\n",
    "\n",
    "- Test group that will see an alternative fee (this can be either 2% or 1% depending on the fraud and risk level in each market). \n",
    "\n",
    "Users in the test group will see diferent fees, based on their country_tnc_legal. E.g. FRA, NLD, BEL - 2%; DEU, ITA, ESP, AUT - 1% \n",
    "\n",
    "**Selection criteria:**\n",
    "- Users who performed their only Stripe top-up in the past 12 months, excluding the month before the test (September '21) \n",
    "- Is not a fraudster  \n",
    "\n",
    "An infocard will be presented to both groups with a reminder about the top-up method availability and the existing fee for each group. (See example below) \n",
    "The fee can be also seen as soon as the user lands on the first screen of the top-up, i.e. 'Amount Input'. \n",
    "![Infocard](Infocard_stripe.jpeg)"
   ]
  },
  {
   "cell_type": "markdown",
   "id": "109855a6",
   "metadata": {},
   "source": [
    "### Success measures \n",
    "\n",
    "- Funnel conversion rate (from first screen to confirmation screen) \n",
    "- Volume per user \n",
    "- Total revenue\n",
    "- Infocard CTR \n"
   ]
  },
  {
   "cell_type": "markdown",
   "id": "b9eec1a8",
   "metadata": {},
   "source": [
    "### Experiment Analysis \n",
    "The experiment ran between October 4th and November 4th 2021.  "
   ]
  },
  {
   "cell_type": "markdown",
   "id": "1c528e24",
   "metadata": {},
   "source": [
    "### Sample Size <a id='sample'></a> "
   ]
  },
  {
   "cell_type": "code",
   "execution_count": null,
   "id": "a2b80834",
   "metadata": {},
   "outputs": [],
   "source": [
    "users_lists = [\n",
    "    \"DEU_stripetest_290921.csv\",\n",
    "    \"FRA_stripetest_290921.csv\",\n",
    "    \"ITA_stripetest_290921.csv\",\n",
    "    \"ESP_stripetest_290921.csv\",\n",
    "    \"AUT_stripetest_290921.csv\",\n",
    "    \"BEL_stripetest_290921.csv\",\n",
    "    \"NLD_stripetest_290921.csv\",\n",
    "]"
   ]
  },
  {
   "cell_type": "code",
   "execution_count": null,
   "id": "f68dece7",
   "metadata": {},
   "outputs": [],
   "source": [
    "df_users = []\n",
    "for item in users_lists:\n",
    "    df_temp = pd.read_csv(item, index_col=0)\n",
    "    df_users.append(df_temp)\n",
    "\n",
    "df = pd.concat(df_users, axis=0, ignore_index=True)"
   ]
  },
  {
   "cell_type": "code",
   "execution_count": null,
   "id": "f89f6f7e",
   "metadata": {},
   "outputs": [],
   "source": [
    "germany = pd.read_csv(\"DEU_stripetest_290921.csv\", index_col=0)"
   ]
  },
  {
   "cell_type": "code",
   "execution_count": null,
   "id": "02c4c74b",
   "metadata": {},
   "outputs": [],
   "source": [
    "df"
   ]
  },
  {
   "cell_type": "code",
   "execution_count": null,
   "id": "835e6d93",
   "metadata": {},
   "outputs": [],
   "source": [
    "df.index.name = \"id\"\n",
    "df.index = df.index + 1"
   ]
  },
  {
   "cell_type": "code",
   "execution_count": null,
   "id": "01024580",
   "metadata": {},
   "outputs": [],
   "source": [
    "df = df.reset_index()"
   ]
  },
  {
   "cell_type": "code",
   "execution_count": null,
   "id": "fba6c493",
   "metadata": {},
   "outputs": [],
   "source": [
    "# Create table in dev schema\n",
    "# df_to_db(\"redshiftreader\", df, \"stripe_test\", chunksize=5000, schema = 'dev')"
   ]
  },
  {
   "cell_type": "markdown",
   "id": "60a193de",
   "metadata": {},
   "source": [
    "### Median days between first Stripe top-up and subsequent top-ups\n"
   ]
  },
  {
   "cell_type": "code",
   "execution_count": null,
   "id": "28ac5313",
   "metadata": {},
   "outputs": [],
   "source": [
    "query = \"\"\"\n",
    "with total as (\n",
    "select user_created, txn_ts, \n",
    "       case when payment_scheme = 'SEPA' and txn_type = 'Credit Transfer' then 'SEPA'\n",
    "            when payment_scheme = 'SEPA INSTANT' then 'SEPA INSTANT'\n",
    "            when txn_type = 'MoneyBeam Transfer' then 'Moneybeam'\n",
    "            when txn_type = 'Cash26' then 'Cash26'\n",
    "            when txn_type = 'Stripe' then 'Stripe'\n",
    "            when payment_scheme = 'SWIFT' then 'SWIFT' else 'Other' end as cat,\n",
    "row_number() over(partition by user_created order by txn_ts) as rn\n",
    "from dbt.zrh_transactions \n",
    "join dbt.zrh_users using (user_created)\n",
    "where txn_group = 'Money In' and user_created >= '2021-01-01' \n",
    "and txn_type not in ('Spaces', 'Fees/Internal') and type not in ('DR', 'PF', 'WU')\n",
    "and is_fraudster is false\n",
    ") \n",
    ",first_topup as \n",
    "(\n",
    "select distinct user_created from total \n",
    "where rn=1 and cat = 'Stripe') \n",
    "\n",
    "select a.* \n",
    "from total a\n",
    "inner join first_topup b on a.user_created = b.user_created \n",
    "\n",
    "\"\"\"\n",
    "\n",
    "stripe = df_from_sql(\"redshiftreader\", query)\n",
    "stripe"
   ]
  },
  {
   "cell_type": "code",
   "execution_count": null,
   "id": "2c95fdca",
   "metadata": {
    "scrolled": true
   },
   "outputs": [],
   "source": [
    "stripe[\"shifted_txn_ts\"] = stripe.groupby(\"user_created\")[\"txn_ts\"].shift(1)"
   ]
  },
  {
   "cell_type": "code",
   "execution_count": null,
   "id": "67a47bb0",
   "metadata": {},
   "outputs": [],
   "source": [
    "stripe.loc[stripe[\"shifted_txn_ts\"].isna(), \"shifted_txn_ts\"] = stripe[\"txn_ts\"]"
   ]
  },
  {
   "cell_type": "code",
   "execution_count": null,
   "id": "3504d0b5",
   "metadata": {},
   "outputs": [],
   "source": [
    "stripe[\"diff_ts\"] = (stripe[\"txn_ts\"] - stripe[\"shifted_txn_ts\"]).apply(\n",
    "    lambda x: x.days\n",
    ")"
   ]
  },
  {
   "cell_type": "code",
   "execution_count": null,
   "id": "f288adf3",
   "metadata": {},
   "outputs": [],
   "source": [
    "stripe[\"cumulative_diff\"] = stripe.groupby(\"user_created\")[\"diff_ts\"].cumsum()"
   ]
  },
  {
   "cell_type": "code",
   "execution_count": null,
   "id": "6a0bfcc2",
   "metadata": {},
   "outputs": [],
   "source": [
    "stripe.groupby(\"rn\")[\"cumulative_diff\"].median()\n",
    "# Users who start out with Stripe make their second top-up after a median of 9 days\n",
    "# and their third top-up after a median of 21 days"
   ]
  },
  {
   "cell_type": "code",
   "execution_count": null,
   "id": "c5b30a11",
   "metadata": {},
   "outputs": [],
   "source": [
    "# Distribution for no. of days passed until the user made their third top-up\n",
    "fix, ax = plt.subplots(figsize=(10, 7))\n",
    "stripe[stripe[\"rn\"] == 2].hist(column=\"cumulative_diff\", bins=20, ax=ax)\n",
    "plt.xticks(range(0, 180, 15))\n",
    "plt.xlim((0, 180))\n",
    "plt.show()"
   ]
  },
  {
   "cell_type": "markdown",
   "id": "f0117564",
   "metadata": {},
   "source": [
    "**Key takeaway: \n",
    "Users who start out with Stripe make their second top-up after a median of 9 days and their third top-up after a median of 21 days**"
   ]
  },
  {
   "cell_type": "markdown",
   "id": "9b1c2457",
   "metadata": {},
   "source": [
    "## Results Analysis <a id='analysis'></a> "
   ]
  },
  {
   "cell_type": "code",
   "execution_count": null,
   "id": "72a2aab0",
   "metadata": {},
   "outputs": [],
   "source": [
    "test_query = \"\"\"with x as (select collector_date, case when se_value is not null then se_value\n",
    "                            when se_label is null then 10\n",
    "                            when se_label = 'payment_confirmed' then 30\n",
    "                            when se_label = 'payment_failed' then 31\n",
    "                            when se_label = 'payment_success' then 40 else 10 end as se_value, \n",
    "                            dev.stripe_test.country_tnc_legal, is_treatment, \n",
    "                            count(distinct dbt.snowplow.user_created) as users\n",
    "from dbt.snowplow\n",
    "join dbt.zrh_users using (user_created)\n",
    "join dev.stripe_test using (user_id)\n",
    "where se_action in\n",
    "('OverdraftFeeIC.topup.stripe.card', 'unknown.topup.stripe.card', 'CHATBOT.topup.stripe.card','pushnotif.topup.stripe.card', 'Onboarding.topup.stripe.card', '[home].topup.stripe.card',\n",
    "'actions.topup.stripe.card', 'actions.topup.stripe.wallet','CHATBOT.topup.stripe.wallet', 'unknown.topup.stripe.wallet', 'topup.topup.stripe.wallet',\n",
    "'Onboarding.topup.stripe.wallet', '[home].topup.stripe.wallet', 'pushnotif.topup.stripe.wallet',\n",
    "'Onboarding.topup.stripe.eps', 'actions.topup.stripe.eps', '.topup.stripe.eps', 'unknown.topup.stripe.eps',\n",
    "'Onboarding.topup.stripe.ideal', 'actions.topup.stripe.ideal', '.topup.stripe.ideal', 'unknown.topup.stripe.ideal',\n",
    "'Onboarding.topup.stripe.giropay', 'actions.topup.stripe.giropay', '.topup.stripe.giropay', 'unknown.topup.stripe.giropay',\n",
    "'Onboarding.topup.stripe.bancontact', 'actions.topup.stripe.bancontact', '.topup.stripe.bancontact', 'unknown.topup.stripe.bancontact', 'topup_stripe_details_screen')\n",
    "and collector_tstamp >= '2021-10-04' and collector_tstamp < '2021-11-05'\n",
    "group by 1,2,3,4 \n",
    ")\n",
    "\n",
    "select collector_date, is_treatment, country_tnc_legal as market, se_value, users\n",
    "from x \n",
    "where se_value in (10,30,40) \n",
    "order by 1,2,3,4\"\"\""
   ]
  },
  {
   "cell_type": "code",
   "execution_count": 92,
   "id": "5a823fc8",
   "metadata": {},
   "outputs": [],
   "source": [
    "query_stripe = \"\"\"with x as (\n",
    "                select collector_tstamp, \n",
    "                       case when se_value is not null then se_value\n",
    "                            when se_label is null then 10\n",
    "                            when se_label = 'payment_confirmed' then 30\n",
    "                            when se_label = 'payment_failed' then 31\n",
    "                            when se_label = 'payment_success' then 40 else 10 end as se_value, \n",
    "                            is_treatment, \n",
    "                            dev.stripe_test.country_tnc_legal as market, \n",
    "                            dev.stripe_test.user_id\n",
    "from dbt.snowplow\n",
    "join dbt.zrh_users using (user_created)\n",
    "join dev.stripe_test using (user_id)\n",
    "where se_action in\n",
    "('OverdraftFeeIC.topup.stripe.card', 'unknown.topup.stripe.card', 'CHATBOT.topup.stripe.card','pushnotif.topup.stripe.card', 'Onboarding.topup.stripe.card', '[home].topup.stripe.card',\n",
    "'actions.topup.stripe.card', 'actions.topup.stripe.wallet','CHATBOT.topup.stripe.wallet', 'unknown.topup.stripe.wallet', 'topup.topup.stripe.wallet',\n",
    "'Onboarding.topup.stripe.wallet', '[home].topup.stripe.wallet', 'pushnotif.topup.stripe.wallet',\n",
    "'Onboarding.topup.stripe.eps', 'actions.topup.stripe.eps', '.topup.stripe.eps', 'unknown.topup.stripe.eps',\n",
    "'Onboarding.topup.stripe.ideal', 'actions.topup.stripe.ideal', '.topup.stripe.ideal', 'unknown.topup.stripe.ideal',\n",
    "'Onboarding.topup.stripe.giropay', 'actions.topup.stripe.giropay', '.topup.stripe.giropay', 'unknown.topup.stripe.giropay',\n",
    "'Onboarding.topup.stripe.bancontact', 'actions.topup.stripe.bancontact', '.topup.stripe.bancontact', 'unknown.topup.stripe.bancontact', 'topup_stripe_details_screen')\n",
    "and collector_tstamp >= '2021-10-04' and collector_tstamp < '2021-11-05'\n",
    ")\n",
    " \n",
    "select user_id, is_treatment, market, min(case when se_value = 10 then collector_tstamp end) as start_date, \n",
    "min(case when se_value = 30 then collector_tstamp end) as confirm_date\n",
    "from x \n",
    "group by 1,2,3 \n",
    "\"\"\""
   ]
  },
  {
   "cell_type": "code",
   "execution_count": 93,
   "id": "8d193156",
   "metadata": {},
   "outputs": [
    {
     "name": "stdout",
     "output_type": "stream",
     "text": [
      "{\"message\": \"started\", \"db\": \"redshiftreader\", \"name\": \"datalib-logger\", \"args\": [], \"levelname\": \"INFO\", \"pathname\": \"/usr/local/lib/python3.7/site-packages/datalib/database.py\", \"filename\": \"database.py\", \"module\": \"database\", \"lineno\": 126, \"funcName\": \"df_from_sql\", \"created\": \"20211201T124916\", \"processName\": \"MainProcess\", \"service\": \"fargo\", \"environment\": \"local\", \"loggerId\": \"004c6496-6350-4bb0-8a86-782331c29c78\", \"hostname\": \"172.19.0.4\"}\n",
      "{\"message\": \"success\", \"db\": \"redshiftreader\", \"duration\": 28.8262, \"name\": \"datalib-logger\", \"args\": [], \"levelname\": \"INFO\", \"pathname\": \"/usr/local/lib/python3.7/site-packages/datalib/database.py\", \"filename\": \"database.py\", \"module\": \"database\", \"lineno\": 136, \"funcName\": \"df_from_sql\", \"created\": \"20211201T124945\", \"processName\": \"MainProcess\", \"service\": \"fargo\", \"environment\": \"local\", \"loggerId\": \"004c6496-6350-4bb0-8a86-782331c29c78\", \"hostname\": \"172.19.0.4\"}\n"
     ]
    }
   ],
   "source": [
    "test_df = df_from_sql(\"redshiftreader\", query_stripe)"
   ]
  },
  {
   "cell_type": "code",
   "execution_count": 94,
   "id": "336c0928",
   "metadata": {},
   "outputs": [
    {
     "name": "stdout",
     "output_type": "stream",
     "text": [
      "<class 'pandas.core.frame.DataFrame'>\n",
      "RangeIndex: 11638 entries, 0 to 11637\n",
      "Data columns (total 5 columns):\n",
      " #   Column        Non-Null Count  Dtype         \n",
      "---  ------        --------------  -----         \n",
      " 0   user_id       11638 non-null  object        \n",
      " 1   is_treatment  11638 non-null  bool          \n",
      " 2   market        11638 non-null  object        \n",
      " 3   start_date    11636 non-null  datetime64[ns]\n",
      " 4   confirm_date  3978 non-null   datetime64[ns]\n",
      "dtypes: bool(1), datetime64[ns](2), object(2)\n",
      "memory usage: 375.2+ KB\n"
     ]
    }
   ],
   "source": [
    "test_df.info()"
   ]
  },
  {
   "cell_type": "markdown",
   "id": "b405d34e",
   "metadata": {},
   "source": [
    "## I. Statistical analysis - Z-test significance for each market based on a discrete variable (conversion rate)"
   ]
  },
  {
   "cell_type": "markdown",
   "id": "0fbf61a3",
   "metadata": {},
   "source": [
    "### Germany"
   ]
  },
  {
   "cell_type": "code",
   "execution_count": 114,
   "id": "f388dec8",
   "metadata": {},
   "outputs": [
    {
     "data": {
      "text/html": [
       "<div>\n",
       "<style scoped>\n",
       "    .dataframe tbody tr th:only-of-type {\n",
       "        vertical-align: middle;\n",
       "    }\n",
       "\n",
       "    .dataframe tbody tr th {\n",
       "        vertical-align: top;\n",
       "    }\n",
       "\n",
       "    .dataframe thead th {\n",
       "        text-align: right;\n",
       "    }\n",
       "</style>\n",
       "<table border=\"1\" class=\"dataframe\">\n",
       "  <thead>\n",
       "    <tr style=\"text-align: right;\">\n",
       "      <th></th>\n",
       "      <th>is_treatment</th>\n",
       "      <th>start_date</th>\n",
       "      <th>confirm_date</th>\n",
       "    </tr>\n",
       "  </thead>\n",
       "  <tbody>\n",
       "    <tr>\n",
       "      <th>0</th>\n",
       "      <td>False</td>\n",
       "      <td>948</td>\n",
       "      <td>227</td>\n",
       "    </tr>\n",
       "    <tr>\n",
       "      <th>1</th>\n",
       "      <td>True</td>\n",
       "      <td>993</td>\n",
       "      <td>291</td>\n",
       "    </tr>\n",
       "  </tbody>\n",
       "</table>\n",
       "</div>"
      ],
      "text/plain": [
       "   is_treatment  start_date  confirm_date\n",
       "0         False         948           227\n",
       "1          True         993           291"
      ]
     },
     "execution_count": 114,
     "metadata": {},
     "output_type": "execute_result"
    }
   ],
   "source": [
    "deu_results = (\n",
    "    test_df.loc[test_df.market.str.contains(\"DEU\")]\n",
    "    .groupby(\"is_treatment\")[[\"start_date\", \"confirm_date\"]]\n",
    "    .count()\n",
    "    .reset_index()\n",
    ")\n",
    "deu_results"
   ]
  },
  {
   "cell_type": "code",
   "execution_count": 115,
   "id": "3273dd19",
   "metadata": {
    "scrolled": true
   },
   "outputs": [],
   "source": [
    "deu_results[\"conversion\"] = deu_results[\"confirm_date\"] / deu_results[\"start_date\"]\n",
    "\n",
    "conversion_control = deu_results.loc[\n",
    "    deu_results.is_treatment == False\n",
    "].conversion.values[0]\n",
    "conversion_variant = deu_results.loc[\n",
    "    deu_results.is_treatment == True\n",
    "].conversion.values[0]\n",
    "\n",
    "# calculate zscore\n",
    "n_variant = deu_results.loc[deu_results.is_treatment == True][\"start_date\"].values[0]\n",
    "n_control = deu_results.loc[deu_results.is_treatment == False][\"start_date\"].values[0]\n",
    "success_variant = deu_results[deu_results.is_treatment == True][\"confirm_date\"].values[\n",
    "    0\n",
    "]\n",
    "success_control = deu_results[deu_results.is_treatment == False][\"confirm_date\"].values[\n",
    "    0\n",
    "]\n",
    "p_variant = success_variant / n_variant\n",
    "p_control = success_control / n_control\n",
    "p = np.mean([p_variant, p_control])\n",
    "z = (p_variant - p_control) / np.sqrt(p * (1 - p) * (1 / n_variant + 1 / n_control))"
   ]
  },
  {
   "cell_type": "code",
   "execution_count": 116,
   "id": "9c1b8377",
   "metadata": {},
   "outputs": [
    {
     "name": "stdout",
     "output_type": "stream",
     "text": [
      "P value equals 0.0037856924159145365 , reject the null hypothesis, there are significant differences between these two groups\n"
     ]
    }
   ],
   "source": [
    "# calculate the p_value\n",
    "p_values = stats.norm.sf(abs(z))\n",
    "p_values\n",
    "if p_values > 0.05:\n",
    "    print(\n",
    "        \"P value equals\",\n",
    "        p_values,\n",
    "        \", fail to reject the null hypothesis, there are no significant differences between these two groups\",\n",
    "    )\n",
    "else:\n",
    "    print(\n",
    "        \"P value equals\",\n",
    "        p_values,\n",
    "        \", reject the null hypothesis, there are significant differences between these two groups\",\n",
    "    )"
   ]
  },
  {
   "cell_type": "markdown",
   "id": "253697fc",
   "metadata": {},
   "source": [
    "### Austria"
   ]
  },
  {
   "cell_type": "code",
   "execution_count": 110,
   "id": "ce812491",
   "metadata": {},
   "outputs": [
    {
     "data": {
      "text/html": [
       "<div>\n",
       "<style scoped>\n",
       "    .dataframe tbody tr th:only-of-type {\n",
       "        vertical-align: middle;\n",
       "    }\n",
       "\n",
       "    .dataframe tbody tr th {\n",
       "        vertical-align: top;\n",
       "    }\n",
       "\n",
       "    .dataframe thead th {\n",
       "        text-align: right;\n",
       "    }\n",
       "</style>\n",
       "<table border=\"1\" class=\"dataframe\">\n",
       "  <thead>\n",
       "    <tr style=\"text-align: right;\">\n",
       "      <th></th>\n",
       "      <th>is_treatment</th>\n",
       "      <th>start_date</th>\n",
       "      <th>confirm_date</th>\n",
       "    </tr>\n",
       "  </thead>\n",
       "  <tbody>\n",
       "    <tr>\n",
       "      <th>0</th>\n",
       "      <td>False</td>\n",
       "      <td>382</td>\n",
       "      <td>91</td>\n",
       "    </tr>\n",
       "    <tr>\n",
       "      <th>1</th>\n",
       "      <td>True</td>\n",
       "      <td>379</td>\n",
       "      <td>122</td>\n",
       "    </tr>\n",
       "  </tbody>\n",
       "</table>\n",
       "</div>"
      ],
      "text/plain": [
       "   is_treatment  start_date  confirm_date\n",
       "0         False         382            91\n",
       "1          True         379           122"
      ]
     },
     "execution_count": 110,
     "metadata": {},
     "output_type": "execute_result"
    }
   ],
   "source": [
    "aut_results = (\n",
    "    test_df.loc[test_df.market.str.contains(\"AUT\")]\n",
    "    .groupby(\"is_treatment\")[[\"start_date\", \"confirm_date\"]]\n",
    "    .count()\n",
    "    .reset_index()\n",
    ")\n",
    "aut_results"
   ]
  },
  {
   "cell_type": "code",
   "execution_count": 111,
   "id": "8f182d11",
   "metadata": {},
   "outputs": [],
   "source": [
    "# calculate zscore\n",
    "n_variant = aut_results.loc[aut_results.is_treatment == True][\"start_date\"].values[0]\n",
    "n_control = aut_results.loc[aut_results.is_treatment == False][\"start_date\"].values[0]\n",
    "success_variant = aut_results[aut_results.is_treatment == True][\"confirm_date\"].values[\n",
    "    0\n",
    "]\n",
    "success_control = aut_results[aut_results.is_treatment == False][\"confirm_date\"].values[\n",
    "    0\n",
    "]\n",
    "p_variant = success_variant / n_variant\n",
    "p_control = success_control / n_control\n",
    "p = np.mean([p_variant, p_control])\n",
    "z = (p_variant - p_control) / np.sqrt(p * (1 - p) * (1 / n_variant + 1 / n_control))"
   ]
  },
  {
   "cell_type": "code",
   "execution_count": 112,
   "id": "a447fe13",
   "metadata": {},
   "outputs": [
    {
     "name": "stdout",
     "output_type": "stream",
     "text": [
      "P value equals 0.00507858152779928 , reject the null hypothesis, there are significant differences between these two groups\n"
     ]
    }
   ],
   "source": [
    "# calculate the p_value\n",
    "p_values = stats.norm.sf(abs(z))\n",
    "p_values\n",
    "if p_values > 0.05:\n",
    "    print(\n",
    "        \"P value equals\",\n",
    "        p_values,\n",
    "        \", fail to reject the null hypothesis, there are no significant differences between these two groups\",\n",
    "    )\n",
    "else:\n",
    "    print(\n",
    "        \"P value equals\",\n",
    "        p_values,\n",
    "        \", reject the null hypothesis, there are significant differences between these two groups\",\n",
    "    )"
   ]
  },
  {
   "cell_type": "markdown",
   "id": "61f09f6d",
   "metadata": {},
   "source": [
    "### France"
   ]
  },
  {
   "cell_type": "code",
   "execution_count": 107,
   "id": "757bc64d",
   "metadata": {},
   "outputs": [
    {
     "data": {
      "text/html": [
       "<div>\n",
       "<style scoped>\n",
       "    .dataframe tbody tr th:only-of-type {\n",
       "        vertical-align: middle;\n",
       "    }\n",
       "\n",
       "    .dataframe tbody tr th {\n",
       "        vertical-align: top;\n",
       "    }\n",
       "\n",
       "    .dataframe thead th {\n",
       "        text-align: right;\n",
       "    }\n",
       "</style>\n",
       "<table border=\"1\" class=\"dataframe\">\n",
       "  <thead>\n",
       "    <tr style=\"text-align: right;\">\n",
       "      <th></th>\n",
       "      <th>is_treatment</th>\n",
       "      <th>start_date</th>\n",
       "      <th>confirm_date</th>\n",
       "    </tr>\n",
       "  </thead>\n",
       "  <tbody>\n",
       "    <tr>\n",
       "      <th>0</th>\n",
       "      <td>False</td>\n",
       "      <td>897</td>\n",
       "      <td>316</td>\n",
       "    </tr>\n",
       "    <tr>\n",
       "      <th>1</th>\n",
       "      <td>True</td>\n",
       "      <td>880</td>\n",
       "      <td>324</td>\n",
       "    </tr>\n",
       "  </tbody>\n",
       "</table>\n",
       "</div>"
      ],
      "text/plain": [
       "   is_treatment  start_date  confirm_date\n",
       "0         False         897           316\n",
       "1          True         880           324"
      ]
     },
     "execution_count": 107,
     "metadata": {},
     "output_type": "execute_result"
    }
   ],
   "source": [
    "fra_results = (\n",
    "    test_df.loc[test_df.market.str.contains(\"FRA\")]\n",
    "    .groupby(\"is_treatment\")[[\"start_date\", \"confirm_date\"]]\n",
    "    .count()\n",
    "    .reset_index()\n",
    ")\n",
    "fra_results"
   ]
  },
  {
   "cell_type": "code",
   "execution_count": 108,
   "id": "dc4d069c",
   "metadata": {},
   "outputs": [],
   "source": [
    "# calculate zscore\n",
    "n_variant = fra_results.loc[fra_results.is_treatment == True][\"start_date\"].values[0]\n",
    "n_control = fra_results.loc[fra_results.is_treatment == False][\"start_date\"].values[0]\n",
    "success_variant = fra_results[fra_results.is_treatment == True][\"confirm_date\"].values[\n",
    "    0\n",
    "]\n",
    "success_control = fra_results[fra_results.is_treatment == False][\"confirm_date\"].values[\n",
    "    0\n",
    "]\n",
    "p_variant = success_variant / n_variant\n",
    "p_control = success_control / n_control\n",
    "p = np.mean([p_variant, p_control])\n",
    "z = (p_variant - p_control) / np.sqrt(p * (1 - p) * (1 / n_variant + 1 / n_control))"
   ]
  },
  {
   "cell_type": "code",
   "execution_count": 109,
   "id": "47a2cea9",
   "metadata": {},
   "outputs": [
    {
     "name": "stdout",
     "output_type": "stream",
     "text": [
      "P value equals 0.24262126648693982 , fail to reject the null hypothesis, there are no significant differences between these two groups\n"
     ]
    }
   ],
   "source": [
    "# calculate the p_value\n",
    "p_values = stats.norm.sf(abs(z))\n",
    "p_values\n",
    "if p_values > 0.05:\n",
    "    print(\n",
    "        \"P value equals\",\n",
    "        p_values,\n",
    "        \", fail to reject the null hypothesis, there are no significant differences between these two groups\",\n",
    "    )\n",
    "else:\n",
    "    print(\n",
    "        \"P value equals\",\n",
    "        p_values,\n",
    "        \", reject the null hypothesis, there are significant differences between these two groups\",\n",
    "    )"
   ]
  },
  {
   "cell_type": "markdown",
   "id": "02cec125",
   "metadata": {},
   "source": [
    "### Italy"
   ]
  },
  {
   "cell_type": "code",
   "execution_count": 104,
   "id": "bddde716",
   "metadata": {},
   "outputs": [
    {
     "data": {
      "text/html": [
       "<div>\n",
       "<style scoped>\n",
       "    .dataframe tbody tr th:only-of-type {\n",
       "        vertical-align: middle;\n",
       "    }\n",
       "\n",
       "    .dataframe tbody tr th {\n",
       "        vertical-align: top;\n",
       "    }\n",
       "\n",
       "    .dataframe thead th {\n",
       "        text-align: right;\n",
       "    }\n",
       "</style>\n",
       "<table border=\"1\" class=\"dataframe\">\n",
       "  <thead>\n",
       "    <tr style=\"text-align: right;\">\n",
       "      <th></th>\n",
       "      <th>is_treatment</th>\n",
       "      <th>start_date</th>\n",
       "      <th>confirm_date</th>\n",
       "    </tr>\n",
       "  </thead>\n",
       "  <tbody>\n",
       "    <tr>\n",
       "      <th>0</th>\n",
       "      <td>False</td>\n",
       "      <td>876</td>\n",
       "      <td>196</td>\n",
       "    </tr>\n",
       "    <tr>\n",
       "      <th>1</th>\n",
       "      <td>True</td>\n",
       "      <td>909</td>\n",
       "      <td>256</td>\n",
       "    </tr>\n",
       "  </tbody>\n",
       "</table>\n",
       "</div>"
      ],
      "text/plain": [
       "   is_treatment  start_date  confirm_date\n",
       "0         False         876           196\n",
       "1          True         909           256"
      ]
     },
     "execution_count": 104,
     "metadata": {},
     "output_type": "execute_result"
    }
   ],
   "source": [
    "ita_results = (\n",
    "    test_df.loc[test_df.market.str.contains(\"ITA\")]\n",
    "    .groupby(\"is_treatment\")[[\"start_date\", \"confirm_date\"]]\n",
    "    .count()\n",
    "    .reset_index()\n",
    ")\n",
    "ita_results"
   ]
  },
  {
   "cell_type": "code",
   "execution_count": 105,
   "id": "4061c15c",
   "metadata": {},
   "outputs": [],
   "source": [
    "# calculate zscore\n",
    "n_variant = ita_results.loc[ita_results.is_treatment == True][\"start_date\"].values[0]\n",
    "n_control = ita_results.loc[ita_results.is_treatment == False][\"start_date\"].values[0]\n",
    "success_variant = ita_results[ita_results.is_treatment == True][\"confirm_date\"].values[\n",
    "    0\n",
    "]\n",
    "success_control = ita_results[ita_results.is_treatment == False][\"confirm_date\"].values[\n",
    "    0\n",
    "]\n",
    "p_variant = success_variant / n_variant\n",
    "p_control = success_control / n_control\n",
    "p = np.mean([p_variant, p_control])\n",
    "z = (p_variant - p_control) / np.sqrt(p * (1 - p) * (1 / n_variant + 1 / n_control))"
   ]
  },
  {
   "cell_type": "code",
   "execution_count": 106,
   "id": "224c0394",
   "metadata": {},
   "outputs": [
    {
     "name": "stdout",
     "output_type": "stream",
     "text": [
      "P value equals 0.0024510964058991015 , reject the null hypothesis, there are significant differences between these two groups\n"
     ]
    }
   ],
   "source": [
    "# calculate the p_value\n",
    "p_values = stats.norm.sf(abs(z))\n",
    "p_values\n",
    "if p_values > 0.05:\n",
    "    print(\n",
    "        \"P value equals\",\n",
    "        p_values,\n",
    "        \", fail to reject the null hypothesis, there are no significant differences between these two groups\",\n",
    "    )\n",
    "else:\n",
    "    print(\n",
    "        \"P value equals\",\n",
    "        p_values,\n",
    "        \", reject the null hypothesis, there are significant differences between these two groups\",\n",
    "    )"
   ]
  },
  {
   "cell_type": "markdown",
   "id": "74a0c663",
   "metadata": {},
   "source": [
    "### Spain"
   ]
  },
  {
   "cell_type": "code",
   "execution_count": 98,
   "id": "cc24f1a0",
   "metadata": {},
   "outputs": [
    {
     "data": {
      "text/html": [
       "<div>\n",
       "<style scoped>\n",
       "    .dataframe tbody tr th:only-of-type {\n",
       "        vertical-align: middle;\n",
       "    }\n",
       "\n",
       "    .dataframe tbody tr th {\n",
       "        vertical-align: top;\n",
       "    }\n",
       "\n",
       "    .dataframe thead th {\n",
       "        text-align: right;\n",
       "    }\n",
       "</style>\n",
       "<table border=\"1\" class=\"dataframe\">\n",
       "  <thead>\n",
       "    <tr style=\"text-align: right;\">\n",
       "      <th></th>\n",
       "      <th>is_treatment</th>\n",
       "      <th>start_date</th>\n",
       "      <th>confirm_date</th>\n",
       "    </tr>\n",
       "  </thead>\n",
       "  <tbody>\n",
       "    <tr>\n",
       "      <th>0</th>\n",
       "      <td>False</td>\n",
       "      <td>876</td>\n",
       "      <td>196</td>\n",
       "    </tr>\n",
       "    <tr>\n",
       "      <th>1</th>\n",
       "      <td>True</td>\n",
       "      <td>909</td>\n",
       "      <td>256</td>\n",
       "    </tr>\n",
       "  </tbody>\n",
       "</table>\n",
       "</div>"
      ],
      "text/plain": [
       "   is_treatment  start_date  confirm_date\n",
       "0         False         876           196\n",
       "1          True         909           256"
      ]
     },
     "execution_count": 98,
     "metadata": {},
     "output_type": "execute_result"
    }
   ],
   "source": [
    "esp_results = (\n",
    "    test_df.loc[test_df.market.str.contains(\"ITA\")]\n",
    "    .groupby(\"is_treatment\")[[\"start_date\", \"confirm_date\"]]\n",
    "    .count()\n",
    "    .reset_index()\n",
    ")\n",
    "esp_results"
   ]
  },
  {
   "cell_type": "code",
   "execution_count": 99,
   "id": "19bdadb9",
   "metadata": {},
   "outputs": [],
   "source": [
    "# calculate zscore\n",
    "n_variant = esp_results.loc[esp_results.is_treatment == True][\"start_date\"].values[0]\n",
    "n_control = esp_results.loc[esp_results.is_treatment == False][\"start_date\"].values[0]\n",
    "success_variant = esp_results[esp_results.is_treatment == True][\"confirm_date\"].values[\n",
    "    0\n",
    "]\n",
    "success_control = esp_results[esp_results.is_treatment == False][\"confirm_date\"].values[\n",
    "    0\n",
    "]\n",
    "p_variant = success_variant / n_variant\n",
    "p_control = success_control / n_control\n",
    "p = np.mean([p_variant, p_control])\n",
    "z = (p_variant - p_control) / np.sqrt(p * (1 - p) * (1 / n_variant + 1 / n_control))"
   ]
  },
  {
   "cell_type": "code",
   "execution_count": 100,
   "id": "0583919c",
   "metadata": {},
   "outputs": [
    {
     "name": "stdout",
     "output_type": "stream",
     "text": [
      "P value equals 0.0024510964058991015 , reject the null hypothesis, there are significant differences between these two groups\n"
     ]
    }
   ],
   "source": [
    "# calculate the p_value\n",
    "p_values = stats.norm.sf(abs(z))\n",
    "p_values\n",
    "if p_values > 0.05:\n",
    "    print(\n",
    "        \"P value equals\",\n",
    "        p_values,\n",
    "        \", fail to reject the null hypothesis, there are no significant differences between these two groups\",\n",
    "    )\n",
    "else:\n",
    "    print(\n",
    "        \"P value equals\",\n",
    "        p_values,\n",
    "        \", reject the null hypothesis, there are significant differences between these two groups\",\n",
    "    )"
   ]
  },
  {
   "cell_type": "markdown",
   "id": "cd00dd47",
   "metadata": {},
   "source": [
    "### Netherlands"
   ]
  },
  {
   "cell_type": "code",
   "execution_count": 95,
   "id": "cd23187a",
   "metadata": {},
   "outputs": [
    {
     "data": {
      "text/html": [
       "<div>\n",
       "<style scoped>\n",
       "    .dataframe tbody tr th:only-of-type {\n",
       "        vertical-align: middle;\n",
       "    }\n",
       "\n",
       "    .dataframe tbody tr th {\n",
       "        vertical-align: top;\n",
       "    }\n",
       "\n",
       "    .dataframe thead th {\n",
       "        text-align: right;\n",
       "    }\n",
       "</style>\n",
       "<table border=\"1\" class=\"dataframe\">\n",
       "  <thead>\n",
       "    <tr style=\"text-align: right;\">\n",
       "      <th></th>\n",
       "      <th>is_treatment</th>\n",
       "      <th>start_date</th>\n",
       "      <th>confirm_date</th>\n",
       "    </tr>\n",
       "  </thead>\n",
       "  <tbody>\n",
       "    <tr>\n",
       "      <th>0</th>\n",
       "      <td>False</td>\n",
       "      <td>1359</td>\n",
       "      <td>652</td>\n",
       "    </tr>\n",
       "    <tr>\n",
       "      <th>1</th>\n",
       "      <td>True</td>\n",
       "      <td>1430</td>\n",
       "      <td>713</td>\n",
       "    </tr>\n",
       "  </tbody>\n",
       "</table>\n",
       "</div>"
      ],
      "text/plain": [
       "   is_treatment  start_date  confirm_date\n",
       "0         False        1359           652\n",
       "1          True        1430           713"
      ]
     },
     "execution_count": 95,
     "metadata": {},
     "output_type": "execute_result"
    }
   ],
   "source": [
    "nld_results = (\n",
    "    test_df.loc[test_df.market.str.contains(\"NLD\")]\n",
    "    .groupby(\"is_treatment\")[[\"start_date\", \"confirm_date\"]]\n",
    "    .count()\n",
    "    .reset_index()\n",
    ")\n",
    "nld_results"
   ]
  },
  {
   "cell_type": "code",
   "execution_count": 96,
   "id": "55c39822",
   "metadata": {},
   "outputs": [],
   "source": [
    "# calculate zscore\n",
    "n_variant = nld_results.loc[nld_results.is_treatment == True][\"start_date\"].values[0]\n",
    "n_control = nld_results.loc[nld_results.is_treatment == False][\"start_date\"].values[0]\n",
    "success_variant = nld_results[nld_results.is_treatment == True][\"confirm_date\"].values[\n",
    "    0\n",
    "]\n",
    "success_control = nld_results[nld_results.is_treatment == False][\"confirm_date\"].values[\n",
    "    0\n",
    "]\n",
    "p_variant = success_variant / n_variant\n",
    "p_control = success_control / n_control\n",
    "p = np.mean([p_variant, p_control])\n",
    "z = (p_variant - p_control) / np.sqrt(p * (1 - p) * (1 / n_variant + 1 / n_control))"
   ]
  },
  {
   "cell_type": "code",
   "execution_count": 97,
   "id": "075acfad",
   "metadata": {},
   "outputs": [
    {
     "name": "stdout",
     "output_type": "stream",
     "text": [
      "P value equals 0.15994016759820878 , fail to reject the null hypothesis, there are no significant differences between these two groups\n"
     ]
    }
   ],
   "source": [
    "# calculate the p_value\n",
    "p_values = stats.norm.sf(abs(z))\n",
    "p_values\n",
    "if p_values > 0.05:\n",
    "    print(\n",
    "        \"P value equals\",\n",
    "        p_values,\n",
    "        \", fail to reject the null hypothesis, there are no significant differences between these two groups\",\n",
    "    )\n",
    "else:\n",
    "    print(\n",
    "        \"P value equals\",\n",
    "        p_values,\n",
    "        \", reject the null hypothesis, there are significant differences between these two groups\",\n",
    "    )"
   ]
  },
  {
   "cell_type": "markdown",
   "id": "b0995b39",
   "metadata": {},
   "source": [
    "### Belgium\n"
   ]
  },
  {
   "cell_type": "code",
   "execution_count": 101,
   "id": "d0bc671d",
   "metadata": {},
   "outputs": [
    {
     "data": {
      "text/html": [
       "<div>\n",
       "<style scoped>\n",
       "    .dataframe tbody tr th:only-of-type {\n",
       "        vertical-align: middle;\n",
       "    }\n",
       "\n",
       "    .dataframe tbody tr th {\n",
       "        vertical-align: top;\n",
       "    }\n",
       "\n",
       "    .dataframe thead th {\n",
       "        text-align: right;\n",
       "    }\n",
       "</style>\n",
       "<table border=\"1\" class=\"dataframe\">\n",
       "  <thead>\n",
       "    <tr style=\"text-align: right;\">\n",
       "      <th></th>\n",
       "      <th>is_treatment</th>\n",
       "      <th>start_date</th>\n",
       "      <th>confirm_date</th>\n",
       "    </tr>\n",
       "  </thead>\n",
       "  <tbody>\n",
       "    <tr>\n",
       "      <th>0</th>\n",
       "      <td>False</td>\n",
       "      <td>519</td>\n",
       "      <td>198</td>\n",
       "    </tr>\n",
       "    <tr>\n",
       "      <th>1</th>\n",
       "      <td>True</td>\n",
       "      <td>503</td>\n",
       "      <td>212</td>\n",
       "    </tr>\n",
       "  </tbody>\n",
       "</table>\n",
       "</div>"
      ],
      "text/plain": [
       "   is_treatment  start_date  confirm_date\n",
       "0         False         519           198\n",
       "1          True         503           212"
      ]
     },
     "execution_count": 101,
     "metadata": {},
     "output_type": "execute_result"
    }
   ],
   "source": [
    "bel_results = (\n",
    "    test_df.loc[test_df.market.str.contains(\"BEL\")]\n",
    "    .groupby(\"is_treatment\")[[\"start_date\", \"confirm_date\"]]\n",
    "    .count()\n",
    "    .reset_index()\n",
    ")\n",
    "bel_results"
   ]
  },
  {
   "cell_type": "code",
   "execution_count": 102,
   "id": "83dfaaa8",
   "metadata": {},
   "outputs": [],
   "source": [
    "# calculate zscore\n",
    "n_variant = bel_results.loc[bel_results.is_treatment == True][\"start_date\"].values[0]\n",
    "n_control = bel_results.loc[bel_results.is_treatment == False][\"start_date\"].values[0]\n",
    "success_variant = bel_results[bel_results.is_treatment == True][\"confirm_date\"].values[\n",
    "    0\n",
    "]\n",
    "success_control = bel_results[bel_results.is_treatment == False][\"confirm_date\"].values[\n",
    "    0\n",
    "]\n",
    "p_variant = success_variant / n_variant\n",
    "p_control = success_control / n_control\n",
    "p = np.mean([p_variant, p_control])\n",
    "z = (p_variant - p_control) / np.sqrt(p * (1 - p) * (1 / n_variant + 1 / n_control))"
   ]
  },
  {
   "cell_type": "code",
   "execution_count": 103,
   "id": "30a8e29c",
   "metadata": {},
   "outputs": [
    {
     "name": "stdout",
     "output_type": "stream",
     "text": [
      "P value equals 0.09626650940031473 , fail to reject the null hypothesis, there are no significant differences between these two groups\n"
     ]
    }
   ],
   "source": [
    "# calculate the p_value\n",
    "p_values = stats.norm.sf(abs(z))\n",
    "p_values\n",
    "if p_values > 0.05:\n",
    "    print(\n",
    "        \"P value equals\",\n",
    "        p_values,\n",
    "        \", fail to reject the null hypothesis, there are no significant differences between these two groups\",\n",
    "    )\n",
    "else:\n",
    "    print(\n",
    "        \"P value equals\",\n",
    "        p_values,\n",
    "        \", reject the null hypothesis, there are significant differences between these two groups\",\n",
    "    )"
   ]
  },
  {
   "cell_type": "markdown",
   "id": "4055b6cf",
   "metadata": {},
   "source": [
    "## II. Volume per user : Applying Mann Whiteney Test for a continous, not normally distributed variable"
   ]
  },
  {
   "cell_type": "code",
   "execution_count": null,
   "id": "1ee991b7",
   "metadata": {},
   "outputs": [],
   "source": [
    "vol_user = \"\"\"\n",
    "select\n",
    "pt.user_id, is_treatment, country_tnc_legal, sum(pt.amount) as volume\n",
    "from pt_charge pt\n",
    "inner join dev.stripe_test dev on dev.user_id = pt.user_id\n",
    "where pt.status = 'succeeded' and pt.created >='2021-10-04' and pt.created < '2021-11-05'\n",
    "group by 1,2,3 \"\"\""
   ]
  },
  {
   "cell_type": "code",
   "execution_count": null,
   "id": "1d78faca",
   "metadata": {},
   "outputs": [],
   "source": [
    "volume_df = df_from_sql(\"redshiftreader\", vol_user)"
   ]
  },
  {
   "cell_type": "code",
   "execution_count": null,
   "id": "b64c9590",
   "metadata": {},
   "outputs": [],
   "source": [
    "volume_df"
   ]
  },
  {
   "cell_type": "markdown",
   "id": "33aa09d8",
   "metadata": {},
   "source": [
    "### Plotting the histogram for volumes"
   ]
  },
  {
   "cell_type": "code",
   "execution_count": null,
   "id": "1f11c850",
   "metadata": {},
   "outputs": [],
   "source": [
    "volume_df[volume_df.country_tnc_legal.str.contains(\"DEU\")].hist(\n",
    "    column=\"volume\", by=\"is_treatment\", bins=5, sharex=True, sharey=True\n",
    ")"
   ]
  },
  {
   "cell_type": "markdown",
   "id": "c7feed6e",
   "metadata": {},
   "source": [
    "##### Germany"
   ]
  },
  {
   "cell_type": "code",
   "execution_count": null,
   "id": "2c41f089",
   "metadata": {},
   "outputs": [],
   "source": [
    "# Subsetting for DEU:\n",
    "control_deu = volume_df[\n",
    "    (volume_df.country_tnc_legal.str.contains(\"DEU\"))\n",
    "    & (volume_df.is_treatment == False)\n",
    "][\"volume\"]\n",
    "treatment_deu = volume_df[\n",
    "    (volume_df.country_tnc_legal.str.contains(\"DEU\")) & (volume_df.is_treatment == True)\n",
    "][\"volume\"]\n",
    "\n",
    "stat, p = mannwhitneyu(control_deu, treatment_deu, alternative=\"less\")\n",
    "\n",
    "if p > 0.05:\n",
    "    print(\n",
    "        \"Mann-Whitney U test for null hypothesis treatment <= control is\",\n",
    "        p,\n",
    "        \", fail to reject the null hypothesis\",\n",
    "    )\n",
    "else:\n",
    "    print(\n",
    "        \"Mann-Whitney U test for null hypothesis treatment <= control is\",\n",
    "        p,\n",
    "        \", reject the null hypothesis\",\n",
    "    )"
   ]
  },
  {
   "cell_type": "code",
   "execution_count": null,
   "id": "ec138267",
   "metadata": {},
   "outputs": [],
   "source": [
    "boxplot = volume_df[volume_df.country_tnc_legal.str.contains(\"DEU\")].boxplot(\n",
    "    column=\"volume\", by=\"is_treatment\", figsize=(8, 6), grid=False\n",
    ")\n",
    "boxplot.set_title(\"\")\n",
    "boxplot.set_ylabel(\"Volume\")"
   ]
  },
  {
   "cell_type": "markdown",
   "id": "211e7a45",
   "metadata": {},
   "source": [
    "##### Austria"
   ]
  },
  {
   "cell_type": "code",
   "execution_count": null,
   "id": "e3b09c9d",
   "metadata": {},
   "outputs": [],
   "source": [
    "# Subsetting for AUT:\n",
    "control_aut = volume_df[\n",
    "    (volume_df.country_tnc_legal.str.contains(\"AUT\"))\n",
    "    & (volume_df.is_treatment == False)\n",
    "][\"volume\"]\n",
    "treatment_aut = volume_df[\n",
    "    (volume_df.country_tnc_legal.str.contains(\"AUT\")) & (volume_df.is_treatment == True)\n",
    "][\"volume\"]\n",
    "\n",
    "mannwhitneyu(control_aut, treatment_aut, alternative=\"less\")\n",
    "\n",
    "if p > 0.05:\n",
    "    print(\n",
    "        \"Mann-Whitney U test for null hypothesis treatment <= control is\",\n",
    "        p,\n",
    "        \", fail to reject the null hypothesis\",\n",
    "    )\n",
    "else:\n",
    "    print(\n",
    "        \"Mann-Whitney U test for null hypothesis treatment <= control is\",\n",
    "        p,\n",
    "        \", reject the null hypothesis\",\n",
    "    )"
   ]
  },
  {
   "cell_type": "markdown",
   "id": "98d2162f",
   "metadata": {},
   "source": [
    "##### Italy"
   ]
  },
  {
   "cell_type": "code",
   "execution_count": null,
   "id": "c9632808",
   "metadata": {},
   "outputs": [],
   "source": [
    "# Subsetting for ITA:\n",
    "control_ita = volume_df[\n",
    "    (volume_df.country_tnc_legal.str.contains(\"ITA\"))\n",
    "    & (volume_df.is_treatment == False)\n",
    "][\"volume\"]\n",
    "treatment_ita = volume_df[\n",
    "    (volume_df.country_tnc_legal.str.contains(\"ITA\")) & (volume_df.is_treatment == True)\n",
    "][\"volume\"]\n",
    "\n",
    "stat, p = mannwhitneyu(control_ita, treatment_ita, alternative=\"less\")\n",
    "\n",
    "if p > 0.05:\n",
    "    print(\n",
    "        \"Mann-Whitney U test for null hypothesis treatment <= control is\",\n",
    "        p,\n",
    "        \", fail to reject the null hypothesis\",\n",
    "    )\n",
    "else:\n",
    "    print(\n",
    "        \"Mann-Whitney U test for null hypothesis treatment <= control is\",\n",
    "        p,\n",
    "        \", reject the null hypothesis\",\n",
    "    )"
   ]
  },
  {
   "cell_type": "markdown",
   "id": "9b15588a",
   "metadata": {},
   "source": [
    "##### Spain "
   ]
  },
  {
   "cell_type": "code",
   "execution_count": null,
   "id": "ad973c9c",
   "metadata": {},
   "outputs": [],
   "source": [
    "# Subsetting for ESP:\n",
    "control_esp = volume_df[\n",
    "    (volume_df.country_tnc_legal.str.contains(\"ESP\"))\n",
    "    & (volume_df.is_treatment == False)\n",
    "][\"volume\"]\n",
    "treatment_esp = volume_df[\n",
    "    (volume_df.country_tnc_legal.str.contains(\"ESP\")) & (volume_df.is_treatment == True)\n",
    "][\"volume\"]\n",
    "\n",
    "stat, p = mannwhitneyu(control_esp, treatment_esp, alternative=\"less\")\n",
    "\n",
    "if p > 0.05:\n",
    "    print(\n",
    "        \"Mann-Whitney U test for null hypothesis treatment <= control is\",\n",
    "        p,\n",
    "        \", fail to reject the null hypothesis\",\n",
    "    )\n",
    "else:\n",
    "    print(\n",
    "        \"Mann-Whitney U test for null hypothesis treatment <= control is\",\n",
    "        p,\n",
    "        \", reject the null hypothesis\",\n",
    "    )"
   ]
  },
  {
   "cell_type": "markdown",
   "id": "7f7e6761",
   "metadata": {},
   "source": [
    "##### France"
   ]
  },
  {
   "cell_type": "code",
   "execution_count": null,
   "id": "1df49ca9",
   "metadata": {},
   "outputs": [],
   "source": [
    "# Subsetting for FRA:\n",
    "control_fra = volume_df[\n",
    "    (volume_df.country_tnc_legal.str.contains(\"FRA\"))\n",
    "    & (volume_df.is_treatment == False)\n",
    "][\"volume\"]\n",
    "treatment_fra = volume_df[\n",
    "    (volume_df.country_tnc_legal.str.contains(\"FRA\")) & (volume_df.is_treatment == True)\n",
    "][\"volume\"]\n",
    "\n",
    "stat, p = mannwhitneyu(control_fra, treatment_fra, alternative=\"less\")\n",
    "\n",
    "if p > 0.05:\n",
    "    print(\n",
    "        \"Mann-Whitney U test for null hypothesis treatment <= control is\",\n",
    "        p,\n",
    "        \", fail to reject the null hypothesis\",\n",
    "    )\n",
    "else:\n",
    "    print(\n",
    "        \"Mann-Whitney U test for null hypothesis treatment <= control is\",\n",
    "        p,\n",
    "        \", reject the null hypothesis\",\n",
    "    )"
   ]
  },
  {
   "cell_type": "markdown",
   "id": "c4839966",
   "metadata": {},
   "source": [
    "#### Netherlands"
   ]
  },
  {
   "cell_type": "code",
   "execution_count": null,
   "id": "cee97d7f",
   "metadata": {},
   "outputs": [],
   "source": [
    "# Subsetting for NLD:\n",
    "control_nld = volume_df[\n",
    "    (volume_df.country_tnc_legal.str.contains(\"NLD\"))\n",
    "    & (volume_df.is_treatment == False)\n",
    "][\"volume\"]\n",
    "treatment_nld = volume_df[\n",
    "    (volume_df.country_tnc_legal.str.contains(\"NLD\")) & (volume_df.is_treatment == True)\n",
    "][\"volume\"]\n",
    "\n",
    "stat, p = mannwhitneyu(control_nld, treatment_nld, alternative=\"less\")\n",
    "\n",
    "if p > 0.05:\n",
    "    print(\n",
    "        \"Mann-Whitney U test for null hypothesis treatment <= control is\",\n",
    "        p,\n",
    "        \", fail to reject the null hypothesis\",\n",
    "    )\n",
    "else:\n",
    "    print(\n",
    "        \"Mann-Whitney U test for null hypothesis treatment <= control is\",\n",
    "        p,\n",
    "        \", reject the null hypothesis\",\n",
    "    )"
   ]
  },
  {
   "cell_type": "markdown",
   "id": "74c8d160",
   "metadata": {},
   "source": [
    "##### Belgium "
   ]
  },
  {
   "cell_type": "code",
   "execution_count": null,
   "id": "ba8ab0ed",
   "metadata": {},
   "outputs": [],
   "source": [
    "# Subsetting for BEL:\n",
    "control_bel = volume_df[\n",
    "    (volume_df.country_tnc_legal.str.contains(\"BEL\"))\n",
    "    & (volume_df.is_treatment == False)\n",
    "][\"volume\"]\n",
    "treatment_bel = volume_df[\n",
    "    (volume_df.country_tnc_legal.str.contains(\"BEL\")) & (volume_df.is_treatment == True)\n",
    "][\"volume\"]\n",
    "\n",
    "stat, p = mannwhitneyu(control_bel, treatment_bel, alternative=\"less\")\n",
    "\n",
    "if p > 0.05:\n",
    "    print(\n",
    "        \"Mann-Whitney U test for null hypothesis treatment <= control is\",\n",
    "        p,\n",
    "        \", fail to reject the null hypothesis\",\n",
    "    )\n",
    "else:\n",
    "    print(\n",
    "        \"Mann-Whitney U test for null hypothesis treatment <= control is\",\n",
    "        p,\n",
    "        \", reject the null hypothesis\",\n",
    "    )"
   ]
  },
  {
   "cell_type": "markdown",
   "id": "ff8bd99b",
   "metadata": {},
   "source": [
    "## III. Revenue (PnL) per Converted User\n",
    "checking whether the total PnL revenue of test users is less than that of the control users"
   ]
  },
  {
   "cell_type": "code",
   "execution_count": 7,
   "id": "9e9db092",
   "metadata": {},
   "outputs": [
    {
     "name": "stdout",
     "output_type": "stream",
     "text": [
      "{\"message\": \"started\", \"db\": \"redshiftreader\", \"name\": \"datalib-logger\", \"args\": [], \"levelname\": \"INFO\", \"pathname\": \"/usr/local/lib/python3.7/site-packages/datalib/database.py\", \"filename\": \"database.py\", \"module\": \"database\", \"lineno\": 126, \"funcName\": \"df_from_sql\", \"created\": \"20211201T120522\", \"processName\": \"MainProcess\", \"service\": \"fargo\", \"environment\": \"local\", \"loggerId\": \"004c6496-6350-4bb0-8a86-782331c29c78\", \"hostname\": \"172.19.0.4\"}\n",
      "{\"message\": \"success\", \"db\": \"redshiftreader\", \"duration\": 37.3153, \"name\": \"datalib-logger\", \"args\": [], \"levelname\": \"INFO\", \"pathname\": \"/usr/local/lib/python3.7/site-packages/datalib/database.py\", \"filename\": \"database.py\", \"module\": \"database\", \"lineno\": 136, \"funcName\": \"df_from_sql\", \"created\": \"20211201T120600\", \"processName\": \"MainProcess\", \"service\": \"fargo\", \"environment\": \"local\", \"loggerId\": \"004c6496-6350-4bb0-8a86-782331c29c78\", \"hostname\": \"172.19.0.4\"}\n"
     ]
    }
   ],
   "source": [
    "pnl_converted = \"\"\"with sample as \n",
    "(select user_id, user_created, is_treatment, dev.country_tnc_legal \n",
    "from dev.stripe_test dev\n",
    "inner join cmd_users cmd on dev.user_id = cmd.id \n",
    ")\n",
    ",pnl as (\n",
    "select user_created, value \n",
    "from dbt.ucm_pnl ucm\n",
    "left join dbt.ucm_mapping m on ucm.label = m.label \n",
    "where revenue_cost = 'Revenue' and month in ('2021-10', '2021-11')\n",
    ")\n",
    ",test as (\n",
    "select distinct pt.user_id, user_created, is_treatment, country_tnc_legal \n",
    "from pt_charge pt \n",
    "inner join sample on pt.user_id = sample.user_id\n",
    "where pt.status = 'succeeded' and pt.created between '2021-10-04' and '2021-11-04' --test duration\n",
    ")\n",
    "select country_tnc_legal, is_treatment, t.user_created, sum(a.value)/100.0 as revenue \n",
    "from pnl a\n",
    "inner join test t on t.user_created = a.user_created \n",
    "group by 1,2,3 \n",
    "\"\"\"\n",
    "\n",
    "pnl_df = df_from_sql(\"redshiftreader\", pnl_converted)"
   ]
  },
  {
   "cell_type": "code",
   "execution_count": 14,
   "id": "b14ae60d",
   "metadata": {},
   "outputs": [
    {
     "data": {
      "text/html": [
       "<div>\n",
       "<style scoped>\n",
       "    .dataframe tbody tr th:only-of-type {\n",
       "        vertical-align: middle;\n",
       "    }\n",
       "\n",
       "    .dataframe tbody tr th {\n",
       "        vertical-align: top;\n",
       "    }\n",
       "\n",
       "    .dataframe thead th {\n",
       "        text-align: right;\n",
       "    }\n",
       "</style>\n",
       "<table border=\"1\" class=\"dataframe\">\n",
       "  <thead>\n",
       "    <tr style=\"text-align: right;\">\n",
       "      <th></th>\n",
       "      <th>country_tnc_legal</th>\n",
       "      <th>is_treatment</th>\n",
       "      <th>user_created</th>\n",
       "      <th>revenue</th>\n",
       "    </tr>\n",
       "  </thead>\n",
       "  <tbody>\n",
       "    <tr>\n",
       "      <th>0</th>\n",
       "      <td>FRA</td>\n",
       "      <td>True</td>\n",
       "      <td>2020-11-11 14:49:03.753250</td>\n",
       "      <td>29.277383</td>\n",
       "    </tr>\n",
       "    <tr>\n",
       "      <th>1</th>\n",
       "      <td>DEU</td>\n",
       "      <td>False</td>\n",
       "      <td>2020-10-05 13:53:25.478156</td>\n",
       "      <td>78.278495</td>\n",
       "    </tr>\n",
       "    <tr>\n",
       "      <th>2</th>\n",
       "      <td>DEU</td>\n",
       "      <td>False</td>\n",
       "      <td>2021-04-29 10:09:53.354496</td>\n",
       "      <td>29.670964</td>\n",
       "    </tr>\n",
       "    <tr>\n",
       "      <th>3</th>\n",
       "      <td>ITA</td>\n",
       "      <td>True</td>\n",
       "      <td>2020-06-05 12:28:45.528795</td>\n",
       "      <td>23.224623</td>\n",
       "    </tr>\n",
       "    <tr>\n",
       "      <th>4</th>\n",
       "      <td>ITA</td>\n",
       "      <td>True</td>\n",
       "      <td>2018-03-05 23:28:42.962272</td>\n",
       "      <td>14.585810</td>\n",
       "    </tr>\n",
       "    <tr>\n",
       "      <th>...</th>\n",
       "      <td>...</td>\n",
       "      <td>...</td>\n",
       "      <td>...</td>\n",
       "      <td>...</td>\n",
       "    </tr>\n",
       "    <tr>\n",
       "      <th>3463</th>\n",
       "      <td>DEU</td>\n",
       "      <td>True</td>\n",
       "      <td>2021-02-11 21:31:49.429838</td>\n",
       "      <td>0.508171</td>\n",
       "    </tr>\n",
       "    <tr>\n",
       "      <th>3464</th>\n",
       "      <td>DEU</td>\n",
       "      <td>True</td>\n",
       "      <td>2019-08-19 12:45:47.664488</td>\n",
       "      <td>0.418613</td>\n",
       "    </tr>\n",
       "    <tr>\n",
       "      <th>3465</th>\n",
       "      <td>FRA</td>\n",
       "      <td>True</td>\n",
       "      <td>2021-08-23 12:22:48.857404</td>\n",
       "      <td>2.570394</td>\n",
       "    </tr>\n",
       "    <tr>\n",
       "      <th>3466</th>\n",
       "      <td>NLD</td>\n",
       "      <td>True</td>\n",
       "      <td>2021-08-30 07:36:12.385169</td>\n",
       "      <td>24.038264</td>\n",
       "    </tr>\n",
       "    <tr>\n",
       "      <th>3467</th>\n",
       "      <td>BEL</td>\n",
       "      <td>True</td>\n",
       "      <td>2021-06-15 09:59:16.132010</td>\n",
       "      <td>1.385187</td>\n",
       "    </tr>\n",
       "  </tbody>\n",
       "</table>\n",
       "<p>3468 rows × 4 columns</p>\n",
       "</div>"
      ],
      "text/plain": [
       "     country_tnc_legal  is_treatment               user_created    revenue\n",
       "0           FRA                 True 2020-11-11 14:49:03.753250  29.277383\n",
       "1           DEU                False 2020-10-05 13:53:25.478156  78.278495\n",
       "2           DEU                False 2021-04-29 10:09:53.354496  29.670964\n",
       "3           ITA                 True 2020-06-05 12:28:45.528795  23.224623\n",
       "4           ITA                 True 2018-03-05 23:28:42.962272  14.585810\n",
       "...                ...           ...                        ...        ...\n",
       "3463        DEU                 True 2021-02-11 21:31:49.429838   0.508171\n",
       "3464        DEU                 True 2019-08-19 12:45:47.664488   0.418613\n",
       "3465        FRA                 True 2021-08-23 12:22:48.857404   2.570394\n",
       "3466        NLD                 True 2021-08-30 07:36:12.385169  24.038264\n",
       "3467        BEL                 True 2021-06-15 09:59:16.132010   1.385187\n",
       "\n",
       "[3468 rows x 4 columns]"
      ]
     },
     "execution_count": 14,
     "metadata": {},
     "output_type": "execute_result"
    }
   ],
   "source": [
    "pnl_df  # checking revenue per user"
   ]
  },
  {
   "cell_type": "code",
   "execution_count": null,
   "id": "8b2d0bcf",
   "metadata": {},
   "outputs": [],
   "source": [
    "agg_pnl = (\n",
    "    pnl_df.groupby([\"is_treatment\", \"country_tnc_legal\"])[\"revenue\"].sum().reset_index()\n",
    ")"
   ]
  },
  {
   "cell_type": "markdown",
   "id": "c45803c0",
   "metadata": {},
   "source": [
    "## Visualising total PnL revenue by market"
   ]
  },
  {
   "cell_type": "code",
   "execution_count": 78,
   "id": "1c9a5687",
   "metadata": {},
   "outputs": [
    {
     "data": {
      "text/plain": [
       "<AxesSubplot:title={'center':'Germany'}, xlabel='is_treatment'>"
      ]
     },
     "execution_count": 78,
     "metadata": {},
     "output_type": "execute_result"
    },
    {
     "data": {
      "image/png": "[encoded data removed]",
      "text/plain": [
       "<Figure size 432x288 with 1 Axes>"
      ]
     },
     "metadata": {},
     "output_type": "display_data"
    }
   ],
   "source": [
    "agg_pnl[agg_pnl.country_tnc_legal.str.contains(\"DEU\")].plot.bar(\n",
    "    x=\"is_treatment\", color=\"green\", title=\"Germany\"\n",
    ")"
   ]
  },
  {
   "cell_type": "code",
   "execution_count": 80,
   "id": "155f12f1",
   "metadata": {},
   "outputs": [
    {
     "data": {
      "text/plain": [
       "<AxesSubplot:title={'center':'Austria'}, xlabel='is_treatment'>"
      ]
     },
     "execution_count": 80,
     "metadata": {},
     "output_type": "execute_result"
    },
    {
     "data": {
      "image/png": "[encoded data removed]",
      "text/plain": [
       "<Figure size 432x288 with 1 Axes>"
      ]
     },
     "metadata": {},
     "output_type": "display_data"
    }
   ],
   "source": [
    "agg_pnl[agg_pnl.country_tnc_legal.str.contains(\"AUT\")].plot.bar(\n",
    "    x=\"is_treatment\", color=\"pink\", title=\"Austria\"\n",
    ")"
   ]
  },
  {
   "cell_type": "code",
   "execution_count": 82,
   "id": "14e5f1aa",
   "metadata": {},
   "outputs": [
    {
     "data": {
      "text/plain": [
       "<AxesSubplot:title={'center':'Italy'}, xlabel='is_treatment'>"
      ]
     },
     "execution_count": 82,
     "metadata": {},
     "output_type": "execute_result"
    },
    {
     "data": {
      "image/png": "[encoded data removed]",
      "text/plain": [
       "<Figure size 432x288 with 1 Axes>"
      ]
     },
     "metadata": {},
     "output_type": "display_data"
    }
   ],
   "source": [
    "agg_pnl[agg_pnl.country_tnc_legal.str.contains(\"ITA\")].plot.bar(\n",
    "    x=\"is_treatment\", color=\"brown\", title=\"Italy\"\n",
    ")"
   ]
  },
  {
   "cell_type": "code",
   "execution_count": 84,
   "id": "1af9fc65",
   "metadata": {},
   "outputs": [
    {
     "data": {
      "text/plain": [
       "<AxesSubplot:title={'center':'Spain'}, xlabel='is_treatment'>"
      ]
     },
     "execution_count": 84,
     "metadata": {},
     "output_type": "execute_result"
    },
    {
     "data": {
      "image/png": "[encoded data removed]",
      "text/plain": [
       "<Figure size 432x288 with 1 Axes>"
      ]
     },
     "metadata": {},
     "output_type": "display_data"
    }
   ],
   "source": [
    "agg_pnl[agg_pnl.country_tnc_legal.str.contains(\"ESP\")].plot.bar(\n",
    "    x=\"is_treatment\", color=\"orange\", title=\"Spain\"\n",
    ")"
   ]
  },
  {
   "cell_type": "code",
   "execution_count": 86,
   "id": "4404fdff",
   "metadata": {},
   "outputs": [
    {
     "data": {
      "text/plain": [
       "<AxesSubplot:title={'center':'France'}, xlabel='is_treatment'>"
      ]
     },
     "execution_count": 86,
     "metadata": {},
     "output_type": "execute_result"
    },
    {
     "data": {
      "image/png": "[encoded data removed]",
      "text/plain": [
       "<Figure size 432x288 with 1 Axes>"
      ]
     },
     "metadata": {},
     "output_type": "display_data"
    }
   ],
   "source": [
    "agg_pnl[agg_pnl.country_tnc_legal.str.contains(\"FRA\")].plot.bar(\n",
    "    x=\"is_treatment\", color=\"grey\", title=\"France\"\n",
    ")"
   ]
  },
  {
   "cell_type": "code",
   "execution_count": 88,
   "id": "4e7c0112",
   "metadata": {},
   "outputs": [
    {
     "data": {
      "text/plain": [
       "<AxesSubplot:title={'center':'Netherlands'}, xlabel='is_treatment'>"
      ]
     },
     "execution_count": 88,
     "metadata": {},
     "output_type": "execute_result"
    },
    {
     "data": {
      "image/png": "[encoded data removed]",
      "text/plain": [
       "<Figure size 432x288 with 1 Axes>"
      ]
     },
     "metadata": {},
     "output_type": "display_data"
    }
   ],
   "source": [
    "agg_pnl[agg_pnl.country_tnc_legal.str.contains(\"NLD\")].plot.bar(\n",
    "    x=\"is_treatment\", color=\"black\", title=\"Netherlands\"\n",
    ")"
   ]
  },
  {
   "cell_type": "code",
   "execution_count": 90,
   "id": "36afad78",
   "metadata": {},
   "outputs": [
    {
     "data": {
      "text/plain": [
       "<AxesSubplot:title={'center':'Belgium'}, xlabel='is_treatment'>"
      ]
     },
     "execution_count": 90,
     "metadata": {},
     "output_type": "execute_result"
    },
    {
     "data": {
      "image/png": "[encoded data removed]",
      "text/plain": [
       "<Figure size 432x288 with 1 Axes>"
      ]
     },
     "metadata": {},
     "output_type": "display_data"
    }
   ],
   "source": [
    "agg_pnl[agg_pnl.country_tnc_legal.str.contains(\"BEL\")].plot.bar(\n",
    "    x=\"is_treatment\", color=\"blue\", title=\"Belgium\"\n",
    ")"
   ]
  },
  {
   "cell_type": "markdown",
   "id": "ead0a96e",
   "metadata": {},
   "source": [
    "### Applying Mann Whitney Test for significance for each market  "
   ]
  },
  {
   "cell_type": "markdown",
   "id": "f674d03c",
   "metadata": {},
   "source": [
    "### Germany"
   ]
  },
  {
   "cell_type": "code",
   "execution_count": 10,
   "id": "7b80e3bd",
   "metadata": {},
   "outputs": [
    {
     "name": "stdout",
     "output_type": "stream",
     "text": [
      "Mann-Whitney U test for null hypothesis treatment <= control is 0.9978571135398957 , fail to reject the null hypothesis\n"
     ]
    }
   ],
   "source": [
    "# Subsetting for DEU:\n",
    "control_pnl_deu = pnl_df[\n",
    "    (pnl_df.country_tnc_legal.str.contains(\"DEU\")) & (pnl_df.is_treatment == False)\n",
    "][\"revenue\"]\n",
    "treatment_pnl_deu = pnl_df[\n",
    "    (pnl_df.country_tnc_legal.str.contains(\"DEU\")) & (pnl_df.is_treatment == True)\n",
    "][\"revenue\"]\n",
    "\n",
    "stat, p = mannwhitneyu(control_pnl_deu, treatment_pnl_deu, alternative=\"less\")\n",
    "\n",
    "if p > 0.05:\n",
    "    print(\n",
    "        \"Mann-Whitney U test for null hypothesis treatment <= control is\",\n",
    "        p,\n",
    "        \", fail to reject the null hypothesis\",\n",
    "    )\n",
    "else:\n",
    "    print(\n",
    "        \"Mann-Whitney U test for null hypothesis treatment <= control is\",\n",
    "        p,\n",
    "        \", reject the null hypothesis\",\n",
    "    )"
   ]
  },
  {
   "cell_type": "markdown",
   "id": "a3b55f0f",
   "metadata": {},
   "source": [
    "### Austria"
   ]
  },
  {
   "cell_type": "code",
   "execution_count": 15,
   "id": "6847d18a",
   "metadata": {},
   "outputs": [
    {
     "name": "stdout",
     "output_type": "stream",
     "text": [
      "Mann-Whitney U test for null hypothesis treatment <= control is 0.9755553587465137 , fail to reject the null hypothesis\n"
     ]
    }
   ],
   "source": [
    "# Subsetting for AUT:\n",
    "control_pnl_aut = pnl_df[\n",
    "    (pnl_df.country_tnc_legal.str.contains(\"AUT\")) & (pnl_df.is_treatment == False)\n",
    "][\"revenue\"]\n",
    "treatment_pnl_aut = pnl_df[\n",
    "    (pnl_df.country_tnc_legal.str.contains(\"AUT\")) & (pnl_df.is_treatment == True)\n",
    "][\"revenue\"]\n",
    "\n",
    "stat, p = mannwhitneyu(control_pnl_aut, treatment_pnl_aut, alternative=\"less\")\n",
    "\n",
    "if p > 0.05:\n",
    "    print(\n",
    "        \"Mann-Whitney U test for null hypothesis treatment <= control is\",\n",
    "        p,\n",
    "        \", fail to reject the null hypothesis\",\n",
    "    )\n",
    "else:\n",
    "    print(\n",
    "        \"Mann-Whitney U test for null hypothesis treatment <= control is\",\n",
    "        p,\n",
    "        \", reject the null hypothesis\",\n",
    "    )"
   ]
  },
  {
   "cell_type": "markdown",
   "id": "e3a0479e",
   "metadata": {},
   "source": [
    "### Italy"
   ]
  },
  {
   "cell_type": "code",
   "execution_count": 69,
   "id": "e38438b8",
   "metadata": {},
   "outputs": [
    {
     "name": "stdout",
     "output_type": "stream",
     "text": [
      "Mann-Whitney U test for null hypothesis treatment <= control is 0.9998809490730903 , fail to reject the null hypothesis\n"
     ]
    }
   ],
   "source": [
    "# Subsetting for ITA:\n",
    "control_pnl_ita = pnl_df[\n",
    "    (pnl_df.country_tnc_legal.str.contains(\"ITA\")) & (pnl_df.is_treatment == False)\n",
    "][\"revenue\"]\n",
    "treatment_pnl_ita = pnl_df[\n",
    "    (pnl_df.country_tnc_legal.str.contains(\"ITA\")) & (pnl_df.is_treatment == True)\n",
    "][\"revenue\"]\n",
    "\n",
    "stat, p = mannwhitneyu(control_pnl_ita, treatment_pnl_ita, alternative=\"less\")\n",
    "\n",
    "if p > 0.05:\n",
    "    print(\n",
    "        \"Mann-Whitney U test for null hypothesis treatment <= control is\",\n",
    "        p,\n",
    "        \", fail to reject the null hypothesis\",\n",
    "    )\n",
    "else:\n",
    "    print(\n",
    "        \"Mann-Whitney U test for null hypothesis treatment <= control is\",\n",
    "        p,\n",
    "        \", reject the null hypothesis\",\n",
    "    )"
   ]
  },
  {
   "cell_type": "markdown",
   "id": "060c2be6",
   "metadata": {},
   "source": [
    "### Spain"
   ]
  },
  {
   "cell_type": "code",
   "execution_count": 71,
   "id": "9c120bc4",
   "metadata": {},
   "outputs": [
    {
     "name": "stdout",
     "output_type": "stream",
     "text": [
      "Mann-Whitney U test for null hypothesis treatment <= control is 0.9993476412654858 , fail to reject the null hypothesis\n"
     ]
    }
   ],
   "source": [
    "# Subsetting for ESP:\n",
    "control_pnl_esp = pnl_df[\n",
    "    (pnl_df.country_tnc_legal.str.contains(\"ESP\")) & (pnl_df.is_treatment == False)\n",
    "][\"revenue\"]\n",
    "treatment_pnl_esp = pnl_df[\n",
    "    (pnl_df.country_tnc_legal.str.contains(\"ESP\")) & (pnl_df.is_treatment == True)\n",
    "][\"revenue\"]\n",
    "\n",
    "stat, p = mannwhitneyu(control_pnl_esp, treatment_pnl_esp, alternative=\"less\")\n",
    "\n",
    "if p > 0.05:\n",
    "    print(\n",
    "        \"Mann-Whitney U test for null hypothesis treatment <= control is\",\n",
    "        p,\n",
    "        \", fail to reject the null hypothesis\",\n",
    "    )\n",
    "else:\n",
    "    print(\n",
    "        \"Mann-Whitney U test for null hypothesis treatment <= control is\",\n",
    "        p,\n",
    "        \", reject the null hypothesis\",\n",
    "    )"
   ]
  },
  {
   "cell_type": "markdown",
   "id": "82cf09ca",
   "metadata": {},
   "source": [
    "### France"
   ]
  },
  {
   "cell_type": "code",
   "execution_count": 72,
   "id": "5dd487a3",
   "metadata": {},
   "outputs": [
    {
     "name": "stdout",
     "output_type": "stream",
     "text": [
      "Mann-Whitney U test for null hypothesis treatment <= control is 0.9981469169466031 , fail to reject the null hypothesis\n"
     ]
    }
   ],
   "source": [
    "# Subsetting for FRA:\n",
    "control_pnl_fra = pnl_df[\n",
    "    (pnl_df.country_tnc_legal.str.contains(\"FRA\")) & (pnl_df.is_treatment == False)\n",
    "][\"revenue\"]\n",
    "treatment_pnl_fra = pnl_df[\n",
    "    (pnl_df.country_tnc_legal.str.contains(\"FRA\")) & (pnl_df.is_treatment == True)\n",
    "][\"revenue\"]\n",
    "\n",
    "stat, p = mannwhitneyu(control_pnl_fra, treatment_pnl_fra, alternative=\"less\")\n",
    "\n",
    "if p > 0.05:\n",
    "    print(\n",
    "        \"Mann-Whitney U test for null hypothesis treatment <= control is\",\n",
    "        p,\n",
    "        \", fail to reject the null hypothesis\",\n",
    "    )\n",
    "else:\n",
    "    print(\n",
    "        \"Mann-Whitney U test for null hypothesis treatment <= control is\",\n",
    "        p,\n",
    "        \", reject the null hypothesis\",\n",
    "    )"
   ]
  },
  {
   "cell_type": "markdown",
   "id": "b903647b",
   "metadata": {},
   "source": [
    "### Netherlands"
   ]
  },
  {
   "cell_type": "code",
   "execution_count": 75,
   "id": "2d463513",
   "metadata": {},
   "outputs": [
    {
     "name": "stdout",
     "output_type": "stream",
     "text": [
      "Mann-Whitney U test for null hypothesis treatment <= control is 0.9996768312280053 , fail to reject the null hypothesis\n"
     ]
    }
   ],
   "source": [
    "# Subsetting for NLD:\n",
    "control_pnl_nld = pnl_df[\n",
    "    (pnl_df.country_tnc_legal.str.contains(\"NLD\")) & (pnl_df.is_treatment == False)\n",
    "][\"revenue\"]\n",
    "treatment_pnl_nld = pnl_df[\n",
    "    (pnl_df.country_tnc_legal.str.contains(\"NLD\")) & (pnl_df.is_treatment == True)\n",
    "][\"revenue\"]\n",
    "\n",
    "stat, p = mannwhitneyu(control_pnl_nld, treatment_pnl_nld, alternative=\"less\")\n",
    "\n",
    "if p > 0.05:\n",
    "    print(\n",
    "        \"Mann-Whitney U test for null hypothesis treatment <= control is\",\n",
    "        p,\n",
    "        \", fail to reject the null hypothesis\",\n",
    "    )\n",
    "else:\n",
    "    print(\n",
    "        \"Mann-Whitney U test for null hypothesis treatment <= control is\",\n",
    "        p,\n",
    "        \", reject the null hypothesis\",\n",
    "    )"
   ]
  },
  {
   "cell_type": "markdown",
   "id": "935b2dcb",
   "metadata": {},
   "source": [
    "### Belgium"
   ]
  },
  {
   "cell_type": "code",
   "execution_count": 76,
   "id": "d51111c9",
   "metadata": {},
   "outputs": [
    {
     "name": "stdout",
     "output_type": "stream",
     "text": [
      "Mann-Whitney U test for null hypothesis treatment <= control is 0.4590244533167393 , fail to reject the null hypothesis\n"
     ]
    }
   ],
   "source": [
    "# Subsetting for BEL:\n",
    "control_pnl_bel = pnl_df[\n",
    "    (pnl_df.country_tnc_legal.str.contains(\"BEL\")) & (pnl_df.is_treatment == False)\n",
    "][\"revenue\"]\n",
    "treatment_pnl_bel = pnl_df[\n",
    "    (pnl_df.country_tnc_legal.str.contains(\"BEL\")) & (pnl_df.is_treatment == True)\n",
    "][\"revenue\"]\n",
    "\n",
    "stat, p = mannwhitneyu(control_pnl_bel, treatment_pnl_bel, alternative=\"less\")\n",
    "\n",
    "if p > 0.05:\n",
    "    print(\n",
    "        \"Mann-Whitney U test for null hypothesis treatment <= control is\",\n",
    "        p,\n",
    "        \", fail to reject the null hypothesis\",\n",
    "    )\n",
    "else:\n",
    "    print(\n",
    "        \"Mann-Whitney U test for null hypothesis treatment <= control is\",\n",
    "        p,\n",
    "        \", reject the null hypothesis\",\n",
    "    )"
   ]
  },
  {
   "cell_type": "markdown",
   "id": "3a65b1a6",
   "metadata": {},
   "source": [
    "### Key takeaway: PnL revenue per user is not significantly higher in any of the tested markets "
   ]
  },
  {
   "cell_type": "markdown",
   "id": "c55f7177",
   "metadata": {},
   "source": [
    "## Multivariate testing: no infocard/ infocard 3%/ infocard 1% "
   ]
  },
  {
   "cell_type": "code",
   "execution_count": null,
   "id": "cb3db7c7",
   "metadata": {},
   "outputs": [],
   "source": [
    "no_infocard_users = \"\"\"with final as \n",
    "(select pt.user_id, b.country_tnc_legal, is_mau, count(*) as ct, min(pt.created) as first_topup\n",
    "from pt_charge pt \n",
    "inner join dbt.zrh_users b on pt.user_id = b.user_id \n",
    "left join pt_dispute di on pt.stripe_id = di.charge_id \n",
    "left join dev.stripe_test dev on pt.user_id = dev.user_id and dev.user_id is null \n",
    "where pt.status = 'succeeded' and b.country_tnc_legal in ('DEU', 'FRA', 'ITA', 'ESP', 'AUT', 'NLD', 'BEL') \n",
    "and closed_at is null and is_fraudster is false and is_blacklisted is false \n",
    "and di.charge_id is null and pt.created < '2021-10-04'\n",
    "group by 1,2,3\n",
    "having ct = 1 \n",
    ")\n",
    "\n",
    "select country_tnc_legal, user_id, first_topup, is_mau \n",
    "from final \n",
    "where first_topup >= date_trunc('month', current_date - interval '1 year') --and first_topup < date_trunc('month', current_date)\n",
    "\"\"\"\n",
    "no_info_df = df_from_sql(\"redshiftreader\", no_infocard_users)"
   ]
  },
  {
   "cell_type": "markdown",
   "id": "123249e8",
   "metadata": {},
   "source": [
    "## Looking into the users' behaviour before the test"
   ]
  },
  {
   "cell_type": "markdown",
   "id": "ac65ec72",
   "metadata": {},
   "source": [
    "### How many users have done self-transfers with SEPA CT before the test? "
   ]
  },
  {
   "cell_type": "code",
   "execution_count": null,
   "id": "b3e7340f",
   "metadata": {},
   "outputs": [],
   "source": [
    "self_transfers = \"\"\"with self_transfer as (\n",
    "    select cmd.id as user_id,\n",
    "           etl.created,\n",
    "           etl.partner_name,\n",
    "           cmd.first_name,\n",
    "           cmd.last_name,\n",
    "           etl.reference_text,\n",
    "           case\n",
    "               when (lower(etl.partner_name::text) like '%' || lower(cmd.first_name::text) || '%') then 1\n",
    "               else 0 end as self\n",
    "    from etl_reporting.zr_transaction etl\n",
    "             inner join cr_user_account cr on etl.account_id = cr.account_id\n",
    "             inner join etl_reporting.cmd_users cmd on cmd.user_created = cr.user_created\n",
    "    where etl.type = 'CT'\n",
    "      and etl.payment_scheme = 'SEPA'\n",
    "      and etl.created >= '2021-09-01'\n",
    "      and etl.created < '2021-10-04'\n",
    "      and lower(etl.partner_name::text) like '%' || lower(cmd.last_name::text) || '%'\n",
    ")\n",
    ", stripe as (\n",
    "    select  distinct pt.user_id, case when is_treatment is true then 'test' else 'control' end as cat\n",
    "from pt_charge pt\n",
    "inner join dev.stripe_test dev on pt.user_id = dev.user_id\n",
    "where pt.status = 'succeeded' and pt.created between '2021-10-04' and '2021-11-04'\n",
    ")\n",
    ", final as\n",
    "    (\n",
    "   select distinct user_id\n",
    "        from self_transfer\n",
    "        where self = 1\n",
    "    )\n",
    "\n",
    ", final_final as\n",
    "    (select stripe.user_id, stripe.cat, case when final.user_id is not null then 1 end as self_transferred\n",
    "     from stripe\n",
    "              left join final on stripe.user_id = final.user_id\n",
    "    )\n",
    "\n",
    "select cat, count(user_id) as users, sum(self_transferred) as total_self, total_self::float/users as percentage\n",
    "from final_final\n",
    "group by 1\n",
    "order by 1\"\"\"\n",
    "self_df = df_from_sql(\"redshiftreader\", self_transfers)"
   ]
  },
  {
   "cell_type": "code",
   "execution_count": null,
   "id": "3bdb5a5f",
   "metadata": {},
   "outputs": [],
   "source": [
    "self_transfers_allyear = \"\"\"with self_transfer as (\n",
    "    select cmd.id as user_id,\n",
    "           etl.created,\n",
    "           etl.partner_name,\n",
    "           cmd.first_name,\n",
    "           cmd.last_name,\n",
    "           etl.reference_text,\n",
    "           case\n",
    "               when (lower(etl.partner_name::text) like '%' || lower(cmd.first_name::text) || '%') then 1\n",
    "               else 0 end as self\n",
    "    from etl_reporting.zr_transaction etl\n",
    "             inner join cr_user_account cr on etl.account_id = cr.account_id\n",
    "             inner join etl_reporting.cmd_users cmd on cmd.user_created = cr.user_created\n",
    "    where etl.type = 'CT'\n",
    "      and etl.payment_scheme = 'SEPA'\n",
    "      and etl.created >= '2021-01-01'\n",
    "      and etl.created < '2021-10-04'\n",
    "      and lower(etl.partner_name::text) like '%' || lower(cmd.last_name::text) || '%'\n",
    ")\n",
    ", stripe as (\n",
    "    select  distinct pt.user_id, case when is_treatment is true then 'test' else 'control' end as cat, \n",
    "    dev.country_tnc_legal \n",
    "from pt_charge pt\n",
    "inner join dev.stripe_test dev on pt.user_id = dev.user_id\n",
    "where pt.status = 'succeeded' and pt.created between '2021-10-04' and '2021-11-04'\n",
    ")\n",
    ", final as\n",
    "    (\n",
    "   select distinct user_id\n",
    "        from self_transfer\n",
    "        where self = 1\n",
    "    )\n",
    "\n",
    ", final_final as\n",
    "    (select stripe.user_id, stripe.cat, case when final.user_id is not null then 1 end as self_transferred\n",
    "     from stripe\n",
    "              left join final on stripe.user_id = final.user_id\n",
    "    )\n",
    "\n",
    "select cat, count(user_id) as users, sum(self_transferred) as total_self, total_self::float/users as percentage\n",
    "from final_final\n",
    "group by 1\n",
    "order by 1\"\"\"\n",
    "self_allyear_df = df_from_sql(\"redshiftreader\", self_transfers_allyear)"
   ]
  },
  {
   "cell_type": "code",
   "execution_count": null,
   "id": "0edf1081",
   "metadata": {},
   "outputs": [],
   "source": [
    "self_df"
   ]
  },
  {
   "cell_type": "code",
   "execution_count": null,
   "id": "71daa505",
   "metadata": {},
   "outputs": [],
   "source": [
    "ax = self_df.plot.bar(x=\"cat\", y=\"percentage\", rot=1, color=\"pink\")\n",
    "plt.title(\"Percentage of users with self_transfers one month before the test\")"
   ]
  },
  {
   "cell_type": "markdown",
   "id": "d68a41b7",
   "metadata": {},
   "source": [
    "#### Key takeaway: 13% of  users did a self-transfer during the month of September "
   ]
  },
  {
   "cell_type": "code",
   "execution_count": null,
   "id": "1304c312",
   "metadata": {},
   "outputs": [],
   "source": [
    "self_allyear_df"
   ]
  },
  {
   "cell_type": "code",
   "execution_count": null,
   "id": "3f745dc8",
   "metadata": {},
   "outputs": [],
   "source": [
    "ax = self_allyear_df.plot.bar(x=\"cat\", y=\"percentage\", rot=1, color=\"brown\")\n",
    "plt.title(\"Percentage of users with self_transfers one year before the test\")"
   ]
  },
  {
   "cell_type": "markdown",
   "id": "0198d2f1",
   "metadata": {},
   "source": [
    "#### Key takeaway: 28% of users did a self-transfer during 2021"
   ]
  },
  {
   "cell_type": "markdown",
   "id": "28b3e5eb",
   "metadata": {},
   "source": [
    "### How many users have funded their accounts with SEPA CT before the test? "
   ]
  },
  {
   "cell_type": "code",
   "execution_count": null,
   "id": "50a8f140",
   "metadata": {},
   "outputs": [],
   "source": [
    "sepa_ct = \"\"\"with self_transfer as (\n",
    "    select distinct cmd.id as user_id\n",
    "    from etl_reporting.zr_transaction etl\n",
    "             inner join cr_user_account cr on etl.account_id = cr.account_id\n",
    "             inner join etl_reporting.cmd_users cmd on cmd.user_created = cr.user_created\n",
    "    where etl.type = 'CT'\n",
    "      and etl.payment_scheme = 'SEPA'\n",
    "      and etl.created >= '2021-09-01'\n",
    "      and etl.created < '2021-10-04'\n",
    ")\n",
    ", stripe as (\n",
    "    select  distinct pt.user_id, case when is_treatment is true then 'test' else 'control' end as cat, \n",
    "    dev.country_tnc_legal\n",
    "from pt_charge pt\n",
    "inner join dev.stripe_test dev on pt.user_id = dev.user_id\n",
    "where pt.status = 'succeeded' and pt.created between '2021-10-04' and '2021-11-04'\n",
    ")\n",
    "\n",
    ", final_final as\n",
    "    (select stripe.user_id, stripe.cat, case when self_transfer.user_id is not null then 1 end as sepa_ct\n",
    "     from stripe\n",
    "              left join self_transfer on stripe.user_id = self_transfer.user_id\n",
    "    )\n",
    "\n",
    "select cat, count(user_id) as users, sum(sepa_ct) as total_sepa, total_sepa::float/users as percentage\n",
    "from final_final\n",
    "group by 1\n",
    "order by 1\"\"\"\n",
    "sepa_df = df_from_sql(\"redshiftreader\", sepa_ct)"
   ]
  },
  {
   "cell_type": "code",
   "execution_count": null,
   "id": "ca8f021d",
   "metadata": {},
   "outputs": [],
   "source": [
    "sepa_df"
   ]
  },
  {
   "cell_type": "code",
   "execution_count": null,
   "id": "629d4cdf",
   "metadata": {},
   "outputs": [],
   "source": [
    "ax = sepa_df.plot.bar(x=\"cat\", y=\"percentage\", rot=1, color=\"green\")\n",
    "plt.title(\"Percentage of users with SEPA CT one month before the test\")"
   ]
  },
  {
   "cell_type": "markdown",
   "id": "b4e81e7d",
   "metadata": {},
   "source": [
    "#### Key takeaway: 33% of users have received a SEPA CT before one month the test "
   ]
  },
  {
   "cell_type": "code",
   "execution_count": null,
   "id": "c677939e",
   "metadata": {},
   "outputs": [],
   "source": [
    "stripe_attempts = \"\"\"with first_txn as (\n",
    "    select  a.user_id,\n",
    "            dbt.zrh_users.user_created,\n",
    "            count(*) as ct,\n",
    "            min(a.created) as first_topup\n",
    "        from pt_charge a\n",
    "            --inner join pt_top_up b on a.payment_intent_id = b.stripe_id\n",
    "            inner join dbt.zrh_users on dbt.zrh_users.user_id = a.user_id\n",
    "        where a.user_id is not null and a.status = 'succeeded' and a.currency = 'EUR'\n",
    "        and is_fraudster = False and is_blacklisted = False\n",
    "        --[[and {{market}}]]\n",
    "        group by 1,2\n",
    "        having ct = 1\n",
    "        ),\n",
    "final as (\n",
    "    select\n",
    "            s.user_created, first_topup, s.collector_tstamp\n",
    "            from dbt.snowplow s\n",
    "            inner join first_txn on first_txn.user_created = s.user_created\n",
    "        where se_action in\n",
    "        ('OverdraftFeeIC.topup.stripe.card', 'unknown.topup.stripe.card', 'CHATBOT.topup.stripe.card','pushnotif.topup.stripe.card', 'Onboarding.topup.stripe.card', '[home].topup.stripe.card',\n",
    "'actions.topup.stripe.card', 'actions.topup.stripe.wallet','CHATBOT.topup.stripe.wallet', 'unknown.topup.stripe.wallet', 'topup.topup.stripe.wallet',\n",
    "'Onboarding.topup.stripe.wallet', '[home].topup.stripe.wallet', 'pushnotif.topup.stripe.wallet',\n",
    "'Onboarding.topup.stripe.ideal', 'actions.topup.stripe.ideal', '.topup.stripe.ideal', 'unknown.topup.stripe.ideal',\n",
    "'Onboarding.topup.stripe.eps', 'actions.topup.stripe.eps', '.topup.stripe.eps', 'unknown.topup.stripe.eps',\n",
    "'Onboarding.topup.stripe.bancontact', 'actions.topup.stripe.bancontact', '.topup.stripe.bancontact', 'unknown.topup.stripe.bancontact',\n",
    "'Onboarding.topup.stripe.giropay', 'actions.topup.stripe.giropay', '.topup.stripe.giropay', 'unknown.topup.stripe.giropay')\n",
    "\n",
    "        and s.collector_tstamp > dateadd(minute,1,first_topup::date) \n",
    "        and s.collector_tstamp <= dateadd(day,35,first_topup::date)\n",
    "        and se_value = 10\n",
    ")\n",
    "\n",
    "select date_trunc('week',collector_tstamp) as day, count(distinct user_created) as users\n",
    "from final\n",
    "where collector_tstamp >= '2021-01-01'\n",
    "group by 1\n",
    "order by 1\"\"\"\n",
    "deterred = df_from_sql(\"redshiftreader\", stripe_attempts)"
   ]
  },
  {
   "cell_type": "code",
   "execution_count": null,
   "id": "ac074ffc",
   "metadata": {},
   "outputs": [],
   "source": [
    "deterred"
   ]
  },
  {
   "cell_type": "code",
   "execution_count": null,
   "id": "e610070d",
   "metadata": {},
   "outputs": [],
   "source": [
    "deterred = deterred.rename(columns={\"day\": \"week\"}).set_index(\"week\").sort_index()"
   ]
  },
  {
   "cell_type": "code",
   "execution_count": null,
   "id": "6c27316f",
   "metadata": {},
   "outputs": [],
   "source": [
    "deterred.plot.line(\n",
    "    figsize=(10, 7),\n",
    "    title=\"Total count of users who attempt a second top-up but get deterred\",\n",
    ")"
   ]
  },
  {
   "cell_type": "code",
   "execution_count": null,
   "id": "5228b9ff",
   "metadata": {},
   "outputs": [],
   "source": [
    "deterred.describe()"
   ]
  },
  {
   "cell_type": "markdown",
   "id": "e49d9a6d",
   "metadata": {},
   "source": [
    "#### Key takeaway:  ~7k users on average attempt a second top-up each week but get deterred"
   ]
  },
  {
   "cell_type": "markdown",
   "id": "aea10d42",
   "metadata": {},
   "source": [
    "## Findings & next steps: \n",
    "\n",
    "#### Findings: \n",
    "* This A/B test shows us that all markets with 1% fee (DEU, AUT, ITA, ESP) perform better in the variant based on the conversion rate and volumes.\n",
    "* FRA & NLD (markets with 2% fee) do not perform better in the variant neither in the conversion rate nor in the volumes.\n",
    "* BEL is the only market with 2% fee which performs better in the variant, although with a high variance in the conversion rate and a confidence of only 90%. Going with the variant in the case of BEL is riskier than with the other markets where we see a clear winner from the beginning. \n",
    "* All markets show a loss in revenue. \n",
    "\n",
    "#### Next steps: \n",
    "\n",
    "* The converted users can be analyzed in the future to see how their long-term engagement looks like (as well as revenue).\n",
    "* Explore effects of other mechanisms (offering extra free top-ups) \n",
    "* The infocard interference in the test might distort the results. Repeating the test without an infocard would ensure more accurate results. \n",
    "* Run the experiment dynamically for users who only had one top-up ever which was Stripe, on a weekly/daily basis.\n"
   ]
  },
  {
   "cell_type": "code",
   "execution_count": null,
   "id": "fdaa6b04",
   "metadata": {},
   "outputs": [],
   "source": []
  }
 ],
 "metadata": {
  "kernelspec": {
   "display_name": "Python 3.10.4 64-bit",
   "language": "python",
   "name": "python3"
  },
  "language_info": {
   "codemirror_mode": {
    "name": "ipython",
    "version": 3
   },
   "file_extension": ".py",
   "mimetype": "text/x-python",
   "name": "python",
   "nbconvert_exporter": "python",
   "pygments_lexer": "ipython3",
   "version": "3.10.4"
  },
  "vscode": {
   "interpreter": {
    "hash": "31f2aee4e71d21fbe5cf8b01ff0e069b9275f58929596ceb00d14d90e3e16cd6"
   }
  }
 },
 "nbformat": 4,
 "nbformat_minor": 5
}
