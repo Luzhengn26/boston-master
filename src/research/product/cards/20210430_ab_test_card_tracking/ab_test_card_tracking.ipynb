{
 "cells": [
  {
   "cell_type": "markdown",
   "metadata": {},
   "source": [
    "title: A/B test for card tracking button\n",
    "author: Vladas Jankus \n",
    "date: 2021-04-30\n",
    "region: EU  \n",
    "tags: cards, card, product, ab test, split test, ab\n",
    "summary: The purpose of this A/B test was to find out whether adding card tracking information with update tracking information button would reduce the volume of CS contacts by customers who are contacting for reassurance about their delivery. The sample size was around 30k customers. Around 10% of customers from the treatment group interacted with the button. The experiment showed, that having the new information added did not have a significant impact on the overall CS contacts. Customers who did not contact CS remained at exactly 89.6% of both control and treatment groups. Analysis of tag dynamics showed, that the button was clicked more often by customers who had card delivery issues, but they still ended up contacting CS."
   ]
  },
  {
   "cell_type": "code",
   "execution_count": 1,
   "id": "78decf66",
   "metadata": {},
   "outputs": [
    {
     "name": "stdout",
     "output_type": "stream",
     "text": [
      "Requirement already satisfied: duckdb in /usr/local/lib/python3.7/site-packages (0.2.5)\n",
      "Requirement already satisfied: numpy>=1.14 in /usr/local/lib/python3.7/site-packages (from duckdb) (1.20.2)\n",
      "\u001b[33mWARNING: You are using pip version 20.2.4; however, version 21.1 is available.\n",
      "You should consider upgrading via the '/usr/local/bin/python -m pip install --upgrade pip' command.\u001b[0m\n"
     ]
    },
    {
     "name": "stderr",
     "output_type": "stream",
     "text": [
      "/usr/local/lib/python3.7/site-packages/datalib/vault.py:40: FutureWarning: The default value of regex will change from True to False in a future version.\n",
      "  r\"(.*)\\[(.*)]\", r\"\\1\"\n",
      "/usr/local/lib/python3.7/site-packages/datalib/vault.py:42: FutureWarning: The default value of regex will change from True to False in a future version.\n",
      "  vault_params[\"key\"] = vault_params[\"index\"].str.replace(r\"(.*)\\[(.*)]\", r\"\\2\")\n"
     ]
    }
   ],
   "source": [
    "!pip install duckdb\n",
    "\n",
    "import pandas as pd\n",
    "import altair as alt\n",
    "from utils.datalib_database import df_from_sql\n",
    "from IPython.display import HTML, Markdown as md\n",
    "from datetime import datetime\n",
    "import duckdb\n",
    "from scipy.stats import binom_test"
   ]
  },
  {
   "cell_type": "code",
   "execution_count": 3,
   "id": "46b4dc37",
   "metadata": {
    "scrolled": true
   },
   "outputs": [
    {
     "name": "stdout",
     "output_type": "stream",
     "text": [
      "{\"message\": \"started\", \"db\": \"redshiftreader\", \"name\": \"datalib-logger\", \"args\": [], \"levelname\": \"INFO\", \"pathname\": \"/usr/local/lib/python3.7/site-packages/datalib/database.py\", \"filename\": \"database.py\", \"module\": \"database\", \"lineno\": 121, \"funcName\": \"df_from_sql\", \"created\": \"20210430T115529\", \"processName\": \"MainProcess\", \"service\": \"fargo\", \"environment\": \"local\", \"loggerId\": \"90f207dc-cf6a-4e47-8663-864402367739\", \"hostname\": \"172.19.0.4\"}\n"
     ]
    },
    {
     "name": "stderr",
     "output_type": "stream",
     "text": [
      "INFO:datalib-logger:{'message': 'started', 'db': 'redshiftreader'}\n"
     ]
    },
    {
     "name": "stdout",
     "output_type": "stream",
     "text": [
      "{\"message\": \"success\", \"db\": \"redshiftreader\", \"duration\": 7.2961, \"name\": \"datalib-logger\", \"args\": [], \"levelname\": \"INFO\", \"pathname\": \"/usr/local/lib/python3.7/site-packages/datalib/database.py\", \"filename\": \"database.py\", \"module\": \"database\", \"lineno\": 131, \"funcName\": \"df_from_sql\", \"created\": \"20210430T115536\", \"processName\": \"MainProcess\", \"service\": \"fargo\", \"environment\": \"local\", \"loggerId\": \"90f207dc-cf6a-4e47-8663-864402367739\", \"hostname\": \"172.19.0.4\"}\n"
     ]
    },
    {
     "name": "stderr",
     "output_type": "stream",
     "text": [
      "INFO:datalib-logger:{'message': 'success', 'db': 'redshiftreader', 'duration': 7.2961}\n"
     ]
    }
   ],
   "source": [
    "user_contacts_df = df_from_sql(\n",
    "    \"redshiftreader\",\n",
    "    \"\"\"\n",
    "        with cards as (\n",
    "            select\n",
    "                user_created,\n",
    "                order_date,\n",
    "                card_activated\n",
    "            from dbt.zrh_cards\n",
    "            where order_date >= '2021-04-15'\n",
    "                and is_digital is false\n",
    "                and delivery_method = 'STANDARD'\n",
    "        ),\n",
    "        --app version part\n",
    "        app_version as (\n",
    "            select\n",
    "                distinct user_created\n",
    "            from dbt.stg_logins\n",
    "            where collector_tstamp >= date('2021-04-15')\n",
    "                and stg_logins.app_version in ('n26-android_3.60', 'n26-ios_3.60')\n",
    "        ),\n",
    "        users as (\n",
    "            select\n",
    "                zrh_users.user_id,\n",
    "                zrh_users.user_created,\n",
    "                zrh_users.contact_id,\n",
    "                order_date,\n",
    "                card_activated,\n",
    "                is_user_in_tg(zrh_users.user_id, 'rutherfordium.update_tracking_info', 50) as treatment_group\n",
    "            from dbt.zrh_users\n",
    "            inner join cards\n",
    "                using (user_created)\n",
    "            inner join app_version\n",
    "                using (user_created)\n",
    "        ),\n",
    "        user_info as (\n",
    "            select users.user_created,\n",
    "                   users.treatment_group,\n",
    "                   users.contact_id,\n",
    "                   users.order_date,\n",
    "                   users.card_activated,\n",
    "                   coalesce(sum((sn.se_action = 'cards_tab_viewed')::int) > 0, false)                              as viewed_cards_tab,\n",
    "                   coalesce(sum((sn.se_action = 'card_action_update_card_tracking_info_clicked')::int) > 0,\n",
    "                            false)                                                                                 as button_clicked\n",
    "            from users\n",
    "                     left join dbt.snowplow as sn\n",
    "                               on sn.user_created = users.user_created\n",
    "                                   and sn.collector_date >= '2021-04-15' -- experiment start\n",
    "                                   and\n",
    "                                  sn.se_action in ('card_action_update_card_tracking_info_clicked', 'cards_tab_viewed')\n",
    "            group by 1, 2, 3, 4, 5\n",
    "        )\n",
    "        select\n",
    "            user_created,\n",
    "            treatment_group,\n",
    "            viewed_cards_tab,\n",
    "            button_clicked,\n",
    "            coalesce(sum((sf_all_contacts.id is not null)::int) > 0, false) as contacted_cs,\n",
    "            coalesce(sum((sf_all_contacts.cs_tag in ('card_delivery', 'not_tagged', 'contact_data', 'legal_data'))::int) > 0, false) as contacted_for_cards,\n",
    "            sum((sf_all_contacts.id is not null)::int) as contacts,\n",
    "            sum((cs_tag = 'card_delivery')::int) as card_delivery_contacts,\n",
    "            sum((cs_tag = 'not_tagged')::int) as not_tagged_contacts,\n",
    "            sum((cs_tag = 'contact_data')::int) as contact_data_contacts,\n",
    "            sum((cs_tag = 'legal_data')::int) as legal_data_contacts\n",
    "        from user_info\n",
    "        left join dbt.sf_all_contacts\n",
    "            on user_info.contact_id = sf_all_contacts.related_contact\n",
    "            and sf_all_contacts.initiated_date >= order_date\n",
    "            and sf_all_contacts.initiated_date < coalesce(card_activated, order_date + interval '5 days')\n",
    "            --and cs_tag in ('card_delivery', 'not_tagged', 'card_delivery', 'contact_data', 'legal_data')\n",
    "        group by 1, 2, 3, 4\n",
    "    \"\"\",\n",
    ")"
   ]
  },
  {
   "cell_type": "code",
   "execution_count": 4,
   "id": "0edd326c",
   "metadata": {},
   "outputs": [],
   "source": [
    "con = duckdb.connect(database=\":memory:\", read_only=False)"
   ]
  },
  {
   "cell_type": "code",
   "execution_count": 5,
   "id": "0c830135",
   "metadata": {},
   "outputs": [
    {
     "data": {
      "text/plain": [
       "<duckdb.DuckDBPyConnection at 0x7f32454ada40>"
      ]
     },
     "execution_count": 5,
     "metadata": {},
     "output_type": "execute_result"
    }
   ],
   "source": [
    "# con.execute('drop table raw_data')\n",
    "con.register(\"user_contacts\", user_contacts_df)\n",
    "con.execute(\"create table raw_data as select * from user_contacts\")"
   ]
  },
  {
   "cell_type": "markdown",
   "id": "febaf085",
   "metadata": {},
   "source": [
    "# A/B test analysis for added card tracking information\n",
    "Vladas Jankus<br/>\n",
    "2021-04-30\n",
    "\n",
    "### Contents:\n",
    "* [1. Test description](#1)\n",
    "    * [1.1. Defining the sample](#11)\n",
    "    * [1.2. Sample criteria](#12)\n",
    "    * [1.3. CS contacts and their tags](#13)\n",
    "* [2. Effect on CS contacts](#2)\n",
    "  * [2.1. Customers who reached out to CS](#21)\n",
    "  * [2.2. Customers who clicked and reached out to CS](#22)\n",
    "  * [2.3. CS tag dynamics](#23)\n",
    "* [3. Conclusion](#3)"
   ]
  },
  {
   "cell_type": "markdown",
   "id": "42385688",
   "metadata": {},
   "source": [
    "# TL;DR"
   ]
  },
  {
   "cell_type": "markdown",
   "id": "dd1aec1e",
   "metadata": {},
   "source": [
    "The purpose of this A/B test was to find out whether adding card tracking information with <em>'update tracking information'</em> button would reduce the volume of CS contacts by customers who are contacting for reassurance about their delivery.\n",
    "\n",
    "The sample size was around 30k customers. Around 10% of customers from the treatment group interacted with the button.\n",
    "\n",
    "The experiment showed, that having the new information added did not have a significant impact on the overall CS contacts. Customers who did not contact CS remained at exactly 89.6% of both control and treatment groups. Analysis of tag dynamics showed, that the button was clicked more often by customers who had card delivery issues, but they still ended up contacting CS."
   ]
  },
  {
   "cell_type": "markdown",
   "id": "ae053191",
   "metadata": {},
   "source": [
    "# 1. Test description <a class=\"anchor\" id=\"1\"></a>"
   ]
  },
  {
   "cell_type": "markdown",
   "id": "47b7c64a",
   "metadata": {},
   "source": [
    "The purpose of this test was to roll out a 'update tracking information' button to a number of customers and reduce their CS contacts. The idea was that there is a number of customers who contact CS for reassurance about their card shipping, and having a convenient way to check their shipping information would divert them from contacting CS.\n",
    "\n",
    "Experiment start - 2021-04-15. This is the date when the button was rolled out to 50% of customers.\n",
    "\n",
    "Experiment end - 2021-04-30. Until this date the data was taken in the analysis.\n",
    "\n",
    "Customers eligible to participate in the experiment:\n",
    "    <ul>\n",
    "    <li><b>Has ordered a new physical card with standard shipment since the experiment start.</b> This targets only the customers who comply with scenario of contacting CS because of card shipping address change. If there was no card ordered, customer is not targeted with this experiment.</li>\n",
    "    <li>Since experiment start has connected to N26 app using versions <b>n26-android_3.60 or n26-ios_3.60</b>. At the moment of experiment this is the newest public app version.</em></li>\n",
    "    </ul>"
   ]
  },
  {
   "cell_type": "markdown",
   "id": "94fa5b7d",
   "metadata": {},
   "source": [
    "### 1.1. Defining the sample <a class=\"anchor\" id=\"11\"></a>"
   ]
  },
  {
   "cell_type": "markdown",
   "id": "94eb8a9a",
   "metadata": {},
   "source": [
    "Not all eligible customers will be included in the sample, because not all of them are relevant for the test. There is a small pool of customers that have ordered a card without looking at a cards view on the app. This could possibly be the customers that either ordered a card by other means (webapp/cs) or their data is missing on snowplow. Since these customers did not visit the cards view they would have had no chance to see the button and therefore are not the target for this experiment. Chart below displays the situation visually."
   ]
  },
  {
   "cell_type": "code",
   "execution_count": 29,
   "id": "02168ca2",
   "metadata": {},
   "outputs": [
    {
     "data": {
      "text/html": [
       "\n",
       "<div id=\"altair-viz-d9c38fbad9f545e0938c0969cce680bd\"></div>\n",
       "<script type=\"text/javascript\">\n",
       "  (function(spec, embedOpt){\n",
       "    let outputDiv = document.currentScript.previousElementSibling;\n",
       "    if (outputDiv.id !== \"altair-viz-d9c38fbad9f545e0938c0969cce680bd\") {\n",
       "      outputDiv = document.getElementById(\"altair-viz-d9c38fbad9f545e0938c0969cce680bd\");\n",
       "    }\n",
       "    const paths = {\n",
       "      \"vega\": \"https://cdn.jsdelivr.net/npm//vega@5?noext\",\n",
       "      \"vega-lib\": \"https://cdn.jsdelivr.net/npm//vega-lib?noext\",\n",
       "      \"vega-lite\": \"https://cdn.jsdelivr.net/npm//vega-lite@4.8.1?noext\",\n",
       "      \"vega-embed\": \"https://cdn.jsdelivr.net/npm//vega-embed@6?noext\",\n",
       "    };\n",
       "\n",
       "    function loadScript(lib) {\n",
       "      return new Promise(function(resolve, reject) {\n",
       "        var s = document.createElement('script');\n",
       "        s.src = paths[lib];\n",
       "        s.async = true;\n",
       "        s.onload = () => resolve(paths[lib]);\n",
       "        s.onerror = () => reject(`Error loading script: ${paths[lib]}`);\n",
       "        document.getElementsByTagName(\"head\")[0].appendChild(s);\n",
       "      });\n",
       "    }\n",
       "\n",
       "    function showError(err) {\n",
       "      outputDiv.innerHTML = `<div class=\"error\" style=\"color:red;\">${err}</div>`;\n",
       "      throw err;\n",
       "    }\n",
       "\n",
       "    function displayChart(vegaEmbed) {\n",
       "      vegaEmbed(outputDiv, spec, embedOpt)\n",
       "        .catch(err => showError(`Javascript Error: ${err.message}<br>This usually means there's a typo in your chart specification. See the javascript console for the full traceback.`));\n",
       "    }\n",
       "\n",
       "    if(typeof define === \"function\" && define.amd) {\n",
       "      requirejs.config({paths});\n",
       "      require([\"vega-embed\"], displayChart, err => showError(`Error loading script: ${err.message}`));\n",
       "    } else if (typeof vegaEmbed === \"function\") {\n",
       "      displayChart(vegaEmbed);\n",
       "    } else {\n",
       "      loadScript(\"vega\")\n",
       "        .then(() => loadScript(\"vega-lite\"))\n",
       "        .then(() => loadScript(\"vega-embed\"))\n",
       "        .catch(showError)\n",
       "        .then(() => displayChart(vegaEmbed));\n",
       "    }\n",
       "  })({\"config\": {\"view\": {\"continuousWidth\": 400, \"continuousHeight\": 300}}, \"data\": {\"name\": \"data-7e21076a54a31431c8431e5b6478c2f5\"}, \"mark\": \"bar\", \"encoding\": {\"color\": {\"type\": \"nominal\", \"field\": \"customer_action\", \"legend\": {\"title\": \"Customer Action\"}, \"scale\": {\"domain\": [\"Clicked on button\", \"Viewed cards tab\", \"Did not view cards tab\"], \"range\": [\"#5396D5\", \"#58B99D\", \"#EAC645\"]}}, \"order\": {\"type\": \"quantitative\", \"field\": \"order\", \"sort\": \"ascending\"}, \"x\": {\"type\": \"quantitative\", \"aggregate\": \"sum\", \"field\": \"customers\", \"title\": \"Customers\"}, \"y\": {\"type\": \"nominal\", \"field\": \"user_group\", \"title\": null}}, \"height\": 300, \"title\": \"Customers with app version 3.6 and ordered card\", \"width\": 600, \"$schema\": \"https://vega.github.io/schema/vega-lite/v4.8.1.json\", \"datasets\": {\"data-7e21076a54a31431c8431e5b6478c2f5\": [{\"user_group\": \"Treatment\", \"customer_action\": \"Viewed cards tab\", \"order\": 1, \"customers\": 12290}, {\"user_group\": \"Control\", \"customer_action\": \"Did not view cards tab\", \"order\": 3, \"customers\": 1661}, {\"user_group\": \"Control\", \"customer_action\": \"Viewed cards tab\", \"order\": 1, \"customers\": 13586}, {\"user_group\": \"Treatment\", \"customer_action\": \"Clicked on button\", \"order\": 2, \"customers\": 1348}, {\"user_group\": \"Treatment\", \"customer_action\": \"Did not view cards tab\", \"order\": 3, \"customers\": 1608}]}}, {\"mode\": \"vega-lite\"});\n",
       "</script>"
      ],
      "text/plain": [
       "alt.Chart(...)"
      ]
     },
     "metadata": {},
     "output_type": "display_data"
    }
   ],
   "source": [
    "# See customer split\n",
    "visited_screen = con.execute(\n",
    "    \"\"\"\n",
    "        select \n",
    "            case when treatment_group = true then 'Treatment' else 'Control' end as user_group,\n",
    "            case \n",
    "                when button_clicked = true then 'Clicked on button'\n",
    "                when viewed_cards_tab = true then 'Viewed cards tab'\n",
    "                else 'Did not view cards tab'\n",
    "            end as customer_action,\n",
    "            case \n",
    "                when button_clicked = true then 2\n",
    "                when viewed_cards_tab = true then 1\n",
    "                else 3\n",
    "            end as order,\n",
    "            count(*) as customers\n",
    "        from raw_data\n",
    "        group by 1, 2, 3\n",
    "    \"\"\"\n",
    ").fetchdf()\n",
    "\n",
    "# define colors\n",
    "color_scale = alt.Scale(\n",
    "    domain=[\"Clicked on button\", \"Viewed cards tab\", \"Did not view cards tab\"],\n",
    "    range=[\"#5396D5\", \"#58B99D\", \"#EAC645\"],\n",
    ")\n",
    "\n",
    "# build chart\n",
    "alt.Chart(visited_screen).mark_bar().encode(\n",
    "    x=alt.X(\"sum(customers)\", title=\"Customers\"),\n",
    "    y=alt.Y(\"user_group\", title=None),\n",
    "    color=alt.Color(\n",
    "        \"customer_action\",\n",
    "        legend=alt.Legend(title=\"Customer Action\"),\n",
    "        scale=color_scale,\n",
    "    ),\n",
    "    order=alt.Order(\"order\", sort=\"ascending\"),\n",
    ").properties(\n",
    "    width=600, height=300, title=\"Customers with app version 3.6 and ordered card\"\n",
    ").display()"
   ]
  },
  {
   "cell_type": "code",
   "execution_count": 31,
   "id": "df10784c",
   "metadata": {},
   "outputs": [
    {
     "data": {
      "text/markdown": [
       "As of 2021-04-30 there were 30493 users that have a required app version and ordered a card since     the 15th of April. 49.99836027940839% of the customers are in the treatment group, the rest in control group.</br>    </br>    Around 10.72% of customers in both groups did not view the cards tab.    This part of customers will also be dismissed from the experiment, because they are    not the target group for the testing. These customers have probably ordered a card using    webapp.</br>    </br>    In the treatment group, 1348 customers clicked on the button for updating tracking information.    This was 9.9% of treatment customers in the experiment."
      ],
      "text/plain": [
       "<IPython.core.display.Markdown object>"
      ]
     },
     "execution_count": 31,
     "metadata": {},
     "output_type": "execute_result"
    }
   ],
   "source": [
    "current_date = datetime.today().strftime(\"%Y-%m-%d\")\n",
    "ovr_customers = round(user_data(\"ovr_customers\"))\n",
    "treatment_ratio = user_data(\"ovr_treatment_perc\")\n",
    "card_no_view_rate = round(user_data(\"no_card_view_perc\"), 2)\n",
    "click_cst = round(user_data(\"button_clicked\"))\n",
    "click_ratio = round(user_data(\"button_click_rate\"), 1)\n",
    "\n",
    "md(\n",
    "    f\"As of {current_date} there were {ovr_customers} users that have a required app version and ordered a card since \\\n",
    "    the 15th of April. {treatment_ratio}% of the customers are in the treatment group, the rest in control group.</br>\\\n",
    "    </br>\\\n",
    "    Around {card_no_view_rate}% of customers in both groups did not view the cards tab.\\\n",
    "    This part of customers will also be dismissed from the experiment, because they are\\\n",
    "    not the target group for the testing. These customers have probably ordered a card using\\\n",
    "    webapp.</br>\\\n",
    "    </br>\\\n",
    "    In the treatment group, {click_cst} customers clicked on the button for updating tracking information.\\\n",
    "    This was {click_ratio}% of treatment customers in the experiment.\"\n",
    ")"
   ]
  },
  {
   "cell_type": "markdown",
   "id": "1f2ba158",
   "metadata": {},
   "source": [
    "### 1.2. Sample criteria <a class=\"anchor\" id=\"12\"></a>"
   ]
  },
  {
   "cell_type": "code",
   "execution_count": 37,
   "id": "f3ff4a23",
   "metadata": {
    "scrolled": true
   },
   "outputs": [
    {
     "data": {
      "text/markdown": [
       "Here is the final requirements for customers to be included in the experiment:    <ol>        <b>        <li>App version 3.60</li>        <li>Ordered a new card</li>        <li>Visited cards tab</li>        </b>    </ol>    This leaves us with 27224 customers, 50.1% in the treatment group and the rest in control."
      ],
      "text/plain": [
       "<IPython.core.display.Markdown object>"
      ]
     },
     "execution_count": 37,
     "metadata": {},
     "output_type": "execute_result"
    }
   ],
   "source": [
    "sample_size = round(user_data(\"total_sample\"))\n",
    "treatment_ratio = round(\n",
    "    user_data(\"treatment_sample\") / user_data(\"total_sample\") * 100, 1\n",
    ")\n",
    "\n",
    "md(\n",
    "    f\"Here is the final requirements for customers to be included in the experiment:\\\n",
    "    <ol>\\\n",
    "        <b>\\\n",
    "        <li>App version 3.60</li>\\\n",
    "        <li>Ordered a new card</li>\\\n",
    "        <li>Visited cards tab</li>\\\n",
    "        </b>\\\n",
    "    </ol>\\\n",
    "    This leaves us with {sample_size} customers, {treatment_ratio}% in the treatment group and the rest in control.\"\n",
    ")"
   ]
  },
  {
   "cell_type": "markdown",
   "id": "48c1f45e",
   "metadata": {},
   "source": [
    "### 1.3. CS contacts and their tags <a class=\"anchor\" id=\"13\"></a>"
   ]
  },
  {
   "cell_type": "markdown",
   "id": "a7ec9657",
   "metadata": {},
   "source": [
    "This experiment includes only these CS contacts that were done between card order time and card activation. If there is no card activation then a 5 day period time from order date is taken. This method should capture most of CS contacts that happened during the shipment period, because average order-activation period was 5 days during the 15th and 30th of April.\n",
    "\n",
    "In this experiment, several tags were selected as being relevant to this test. Their results will be displayed separately from other CS tags to have a better understanding on how customers contacted CS. Below are these tags and reasons for their selection:\n",
    "1. `card_delivery_contacts` - this tag is the primary one for card delivery\n",
    "2. `contact_data_contacts` - shipping address changes/questions should be tagged with contact data\n",
    "3. `legal_data_contacts` - there is a possibility that this tag would be selected for shipping address or that the customer needed reassurance on a related field\n",
    "4. `not_tagged_contacts` - there is a fair share of not tagged contacts. It was decided to include them because customers who contact for reassurance could have a vague description of their issue resulting in no tag. Also since we are taking only 5 days since the card order on average, this tag could contain a lot of our target customers.\n",
    "\n",
    "All other tags will be sorted under `other cs contact` label."
   ]
  },
  {
   "cell_type": "markdown",
   "id": "ebc2f290",
   "metadata": {},
   "source": [
    "# 2. Effect on CS contacts <a class=\"anchor\" id=\"2\"></a>"
   ]
  },
  {
   "cell_type": "markdown",
   "id": "2bcbd40f",
   "metadata": {},
   "source": [
    "### 2.1. Customers who reached out to CS <a class=\"anchor\" id=\"21\"></a>"
   ]
  },
  {
   "cell_type": "markdown",
   "id": "9c84b6bb",
   "metadata": {},
   "source": [
    "In the first place, let's look at the number of customers who reached out to CS. Below chart displays the percentage of customers who reached out to CS either with a possible test related issue or with another type of issue. Possible test related issues here are defined by CS tags 'card_delivery', 'contact_data', 'legal_data' and 'not_tagged'."
   ]
  },
  {
   "cell_type": "code",
   "execution_count": 38,
   "id": "45338b1c",
   "metadata": {
    "scrolled": true
   },
   "outputs": [
    {
     "data": {
      "text/html": [
       "\n",
       "<div id=\"altair-viz-899f6c1124b341b39ad667bcb662862f\"></div>\n",
       "<script type=\"text/javascript\">\n",
       "  (function(spec, embedOpt){\n",
       "    let outputDiv = document.currentScript.previousElementSibling;\n",
       "    if (outputDiv.id !== \"altair-viz-899f6c1124b341b39ad667bcb662862f\") {\n",
       "      outputDiv = document.getElementById(\"altair-viz-899f6c1124b341b39ad667bcb662862f\");\n",
       "    }\n",
       "    const paths = {\n",
       "      \"vega\": \"https://cdn.jsdelivr.net/npm//vega@5?noext\",\n",
       "      \"vega-lib\": \"https://cdn.jsdelivr.net/npm//vega-lib?noext\",\n",
       "      \"vega-lite\": \"https://cdn.jsdelivr.net/npm//vega-lite@4.8.1?noext\",\n",
       "      \"vega-embed\": \"https://cdn.jsdelivr.net/npm//vega-embed@6?noext\",\n",
       "    };\n",
       "\n",
       "    function loadScript(lib) {\n",
       "      return new Promise(function(resolve, reject) {\n",
       "        var s = document.createElement('script');\n",
       "        s.src = paths[lib];\n",
       "        s.async = true;\n",
       "        s.onload = () => resolve(paths[lib]);\n",
       "        s.onerror = () => reject(`Error loading script: ${paths[lib]}`);\n",
       "        document.getElementsByTagName(\"head\")[0].appendChild(s);\n",
       "      });\n",
       "    }\n",
       "\n",
       "    function showError(err) {\n",
       "      outputDiv.innerHTML = `<div class=\"error\" style=\"color:red;\">${err}</div>`;\n",
       "      throw err;\n",
       "    }\n",
       "\n",
       "    function displayChart(vegaEmbed) {\n",
       "      vegaEmbed(outputDiv, spec, embedOpt)\n",
       "        .catch(err => showError(`Javascript Error: ${err.message}<br>This usually means there's a typo in your chart specification. See the javascript console for the full traceback.`));\n",
       "    }\n",
       "\n",
       "    if(typeof define === \"function\" && define.amd) {\n",
       "      requirejs.config({paths});\n",
       "      require([\"vega-embed\"], displayChart, err => showError(`Error loading script: ${err.message}`));\n",
       "    } else if (typeof vegaEmbed === \"function\") {\n",
       "      displayChart(vegaEmbed);\n",
       "    } else {\n",
       "      loadScript(\"vega\")\n",
       "        .then(() => loadScript(\"vega-lite\"))\n",
       "        .then(() => loadScript(\"vega-embed\"))\n",
       "        .catch(showError)\n",
       "        .then(() => displayChart(vegaEmbed));\n",
       "    }\n",
       "  })({\"config\": {\"view\": {\"continuousWidth\": 400, \"continuousHeight\": 300}}, \"layer\": [{\"mark\": \"bar\", \"encoding\": {\"color\": {\"type\": \"nominal\", \"field\": \"contacted_cs\", \"legend\": {\"title\": \"Cst-CS interaction\"}, \"scale\": {\"domain\": [\"Related CS Contact\", \"Other CS Contact\", \"Did not contact CS\"], \"range\": [\"#58B99D\", \"#EAC645\", \"#98A5A5\"]}}, \"order\": {\"type\": \"quantitative\", \"field\": \"row_order\", \"sort\": \"ascending\"}, \"x\": {\"type\": \"quantitative\", \"field\": \"customers\", \"title\": \"Customers\"}, \"y\": {\"type\": \"nominal\", \"field\": \"user_group\", \"title\": null}}, \"height\": 300, \"title\": \"Treatment vs Control CS contacts\", \"width\": 800}, {\"mark\": {\"type\": \"text\", \"align\": \"center\", \"color\": \"white\", \"dx\": -17, \"dy\": 3, \"fontSize\": 12}, \"encoding\": {\"detail\": {\"type\": \"nominal\", \"field\": \"contacted_cs\"}, \"order\": {\"type\": \"quantitative\", \"field\": \"row_order\", \"sort\": \"ascending\"}, \"text\": {\"type\": \"quantitative\", \"aggregate\": \"sum\", \"field\": \"percentage\", \"format\": \".1%\"}, \"x\": {\"type\": \"quantitative\", \"aggregate\": \"sum\", \"field\": \"customers\", \"stack\": \"zero\"}, \"y\": {\"type\": \"nominal\", \"field\": \"user_group\"}}}], \"data\": {\"name\": \"data-99d8ff1380b6b703ea67c855a82f15fc\"}, \"$schema\": \"https://vega.github.io/schema/vega-lite/v4.8.1.json\", \"datasets\": {\"data-99d8ff1380b6b703ea67c855a82f15fc\": [{\"user_group\": \"Control\", \"contacted_cs\": \"Other CS Contact\", \"row_order\": 2, \"customers\": 795, \"percentage\": 0.05851611953481525}, {\"user_group\": \"Control\", \"contacted_cs\": \"Related CS Contact\", \"row_order\": 1, \"customers\": 612, \"percentage\": 0.045046371264537026}, {\"user_group\": \"Control\", \"contacted_cs\": \"Did not contact CS\", \"row_order\": 3, \"customers\": 12179, \"percentage\": 0.8964375092006477}, {\"user_group\": \"Treatment\", \"contacted_cs\": \"Other CS Contact\", \"row_order\": 2, \"customers\": 785, \"percentage\": 0.057559759495527205}, {\"user_group\": \"Treatment\", \"contacted_cs\": \"Did not contact CS\", \"row_order\": 3, \"customers\": 12215, \"percentage\": 0.895659187564159}, {\"user_group\": \"Treatment\", \"contacted_cs\": \"Related CS Contact\", \"row_order\": 1, \"customers\": 638, \"percentage\": 0.04678105294031383}]}}, {\"mode\": \"vega-lite\"});\n",
       "</script>"
      ],
      "text/plain": [
       "alt.LayerChart(...)"
      ]
     },
     "execution_count": 38,
     "metadata": {},
     "output_type": "execute_result"
    }
   ],
   "source": [
    "data = con.execute(\n",
    "    \"\"\"\n",
    "        with a as (\n",
    "            select \n",
    "                case when treatment_group = true then 'Treatment' else 'Control' end as user_group,\n",
    "                case \n",
    "                    when contacted_for_cards = true then 'Related CS Contact'\n",
    "                    when contacted_cs = true then 'Other CS Contact'\n",
    "                    else 'Did not contact CS'\n",
    "                end as contacted_cs,\n",
    "                case \n",
    "                    when contacted_for_cards = true then 1\n",
    "                    when contacted_cs = true then 2\n",
    "                    else 3\n",
    "                end as row_order,\n",
    "                count(*) as customers\n",
    "            from raw_data\n",
    "            where viewed_cards_tab = True\n",
    "            group by 1, 2, 3\n",
    "        )\n",
    "        select \n",
    "            user_group,\n",
    "            contacted_cs,\n",
    "            row_order,\n",
    "            customers,\n",
    "            customers::numeric / sum(customers) over (partition by user_group) as percentage\n",
    "        from a \n",
    "    \"\"\"\n",
    ").fetchdf()\n",
    "\n",
    "# define colors\n",
    "color_scale = alt.Scale(\n",
    "    domain=[\"Related CS Contact\", \"Other CS Contact\", \"Did not contact CS\"],\n",
    "    range=[\"#58B99D\", \"#EAC645\", \"#98A5A5\"],\n",
    ")\n",
    "\n",
    "bars = (\n",
    "    alt.Chart(data)\n",
    "    .mark_bar()\n",
    "    .encode(\n",
    "        x=alt.X(\"customers\", title=\"Customers\"),\n",
    "        y=alt.Y(\"user_group\", title=None),\n",
    "        color=alt.Color(\n",
    "            \"contacted_cs\",\n",
    "            legend=alt.Legend(title=\"Cst-CS interaction\"),\n",
    "            scale=color_scale,\n",
    "        ),\n",
    "        order=alt.Order(\"row_order\", sort=\"ascending\"),\n",
    "    )\n",
    "    .properties(width=800, height=300, title=\"Treatment vs Control CS contacts\")\n",
    ")\n",
    "\n",
    "text = (\n",
    "    alt.Chart(data)\n",
    "    .mark_text(align=\"center\", fontSize=12, dx=-17, dy=3, color=\"white\")\n",
    "    .encode(\n",
    "        x=alt.X(\"sum(customers)\", stack=\"zero\"),\n",
    "        y=alt.Y(\"user_group\"),\n",
    "        detail=\"contacted_cs\",\n",
    "        text=alt.Text(\"sum(percentage)\", format=\".1%\"),\n",
    "        order=alt.Order(\"row_order\", sort=\"ascending\"),\n",
    "    )\n",
    ")\n",
    "\n",
    "bars + text"
   ]
  },
  {
   "cell_type": "code",
   "execution_count": 45,
   "id": "13faf2c1",
   "metadata": {},
   "outputs": [
    {
     "data": {
      "text/markdown": [
       "Customer contacts reduced only by -0.1 percentage points when comparing treatment vs    control grups. P-value of 0.624. It is evident that the number of customers who contacted CS is identical    in both groups."
      ],
      "text/plain": [
       "<IPython.core.display.Markdown object>"
      ]
     },
     "execution_count": 45,
     "metadata": {},
     "output_type": "execute_result"
    }
   ],
   "source": [
    "customer_contacts_pp_change = round(\n",
    "    (user_data(\"treatment_no_cs\") / user_data(\"treatment_sample\") * 100)\n",
    "    - (user_data(\"control_no_cs\") / user_data(\"control_sample\") * 100),\n",
    "    1,\n",
    ")\n",
    "\n",
    "# do a binomial test\n",
    "p_val = round(\n",
    "    binom_test(\n",
    "        x=user_data(\"treatment_no_cs\"),\n",
    "        n=user_data(\"treatment_sample\"),\n",
    "        p=user_data(\"control_no_cs\") / user_data(\"control_sample\"),\n",
    "        alternative=\"greater\",\n",
    "    ),\n",
    "    3,\n",
    ")\n",
    "\n",
    "md(\n",
    "    f\"Customer contacts reduced only by {customer_contacts_pp_change} percentage points when comparing treatment vs\\\n",
    "    control grups. P-value of {p_val}. It is evident that the number of customers who contacted CS is identical\\\n",
    "    in both groups.\"\n",
    ")"
   ]
  },
  {
   "cell_type": "markdown",
   "id": "4cc088b8",
   "metadata": {},
   "source": [
    "### 2.2. Customers who clicked and reached out to CS <a class=\"anchor\" id=\"22\"></a>"
   ]
  },
  {
   "cell_type": "code",
   "execution_count": 46,
   "id": "02cdd223",
   "metadata": {},
   "outputs": [
    {
     "data": {
      "text/markdown": [
       "We could also look at the customers who actually interacted with the button. It is possible, that these    concentrated customers had less CS contacts, but their size was only 9.9% of the overall treatment    group. Below chart displays CS contacts of 1348 customers who clicked on the button vs all 13586    customers in the control group."
      ],
      "text/plain": [
       "<IPython.core.display.Markdown object>"
      ]
     },
     "execution_count": 46,
     "metadata": {},
     "output_type": "execute_result"
    }
   ],
   "source": [
    "control_sample = round(user_data(\"control_sample\"))\n",
    "\n",
    "md(\n",
    "    f\"We could also look at the customers who actually interacted with the button. It is possible, that these\\\n",
    "    concentrated customers had less CS contacts, but their size was only {click_ratio}% of the overall treatment\\\n",
    "    group. Below chart displays CS contacts of {click_cst} customers who clicked on the button vs all {control_sample}\\\n",
    "    customers in the control group.\"\n",
    ")"
   ]
  },
  {
   "cell_type": "code",
   "execution_count": 47,
   "id": "e8882dbb",
   "metadata": {
    "scrolled": false
   },
   "outputs": [
    {
     "data": {
      "text/html": [
       "\n",
       "<div id=\"altair-viz-adc22c85e6f449ceb6aedac96575ccab\"></div>\n",
       "<script type=\"text/javascript\">\n",
       "  (function(spec, embedOpt){\n",
       "    let outputDiv = document.currentScript.previousElementSibling;\n",
       "    if (outputDiv.id !== \"altair-viz-adc22c85e6f449ceb6aedac96575ccab\") {\n",
       "      outputDiv = document.getElementById(\"altair-viz-adc22c85e6f449ceb6aedac96575ccab\");\n",
       "    }\n",
       "    const paths = {\n",
       "      \"vega\": \"https://cdn.jsdelivr.net/npm//vega@5?noext\",\n",
       "      \"vega-lib\": \"https://cdn.jsdelivr.net/npm//vega-lib?noext\",\n",
       "      \"vega-lite\": \"https://cdn.jsdelivr.net/npm//vega-lite@4.8.1?noext\",\n",
       "      \"vega-embed\": \"https://cdn.jsdelivr.net/npm//vega-embed@6?noext\",\n",
       "    };\n",
       "\n",
       "    function loadScript(lib) {\n",
       "      return new Promise(function(resolve, reject) {\n",
       "        var s = document.createElement('script');\n",
       "        s.src = paths[lib];\n",
       "        s.async = true;\n",
       "        s.onload = () => resolve(paths[lib]);\n",
       "        s.onerror = () => reject(`Error loading script: ${paths[lib]}`);\n",
       "        document.getElementsByTagName(\"head\")[0].appendChild(s);\n",
       "      });\n",
       "    }\n",
       "\n",
       "    function showError(err) {\n",
       "      outputDiv.innerHTML = `<div class=\"error\" style=\"color:red;\">${err}</div>`;\n",
       "      throw err;\n",
       "    }\n",
       "\n",
       "    function displayChart(vegaEmbed) {\n",
       "      vegaEmbed(outputDiv, spec, embedOpt)\n",
       "        .catch(err => showError(`Javascript Error: ${err.message}<br>This usually means there's a typo in your chart specification. See the javascript console for the full traceback.`));\n",
       "    }\n",
       "\n",
       "    if(typeof define === \"function\" && define.amd) {\n",
       "      requirejs.config({paths});\n",
       "      require([\"vega-embed\"], displayChart, err => showError(`Error loading script: ${err.message}`));\n",
       "    } else if (typeof vegaEmbed === \"function\") {\n",
       "      displayChart(vegaEmbed);\n",
       "    } else {\n",
       "      loadScript(\"vega\")\n",
       "        .then(() => loadScript(\"vega-lite\"))\n",
       "        .then(() => loadScript(\"vega-embed\"))\n",
       "        .catch(showError)\n",
       "        .then(() => displayChart(vegaEmbed));\n",
       "    }\n",
       "  })({\"config\": {\"view\": {\"continuousWidth\": 400, \"continuousHeight\": 300}}, \"layer\": [{\"mark\": \"bar\", \"encoding\": {\"color\": {\"type\": \"nominal\", \"field\": \"contacted_cs\", \"legend\": {\"title\": \"Cst-CS interaction\"}, \"scale\": {\"domain\": [\"Related CS Contact\", \"Other CS Contact\", \"Did not contact CS\"], \"range\": [\"#58B99D\", \"#EAC645\", \"#98A5A5\"]}}, \"order\": {\"type\": \"quantitative\", \"field\": \"row_order\", \"sort\": \"ascending\"}, \"x\": {\"type\": \"quantitative\", \"field\": \"percentage\", \"title\": \"% of Customers\"}, \"y\": {\"type\": \"nominal\", \"field\": \"user_group\", \"title\": null}}, \"height\": 300, \"title\": \"Control vs. Clicked button CS contacts\", \"width\": 800}, {\"mark\": {\"type\": \"text\", \"align\": \"center\", \"color\": \"white\", \"dx\": -17, \"dy\": 3, \"fontSize\": 12}, \"encoding\": {\"detail\": {\"type\": \"nominal\", \"field\": \"contacted_cs\"}, \"order\": {\"type\": \"quantitative\", \"field\": \"row_order\", \"sort\": \"ascending\"}, \"text\": {\"type\": \"quantitative\", \"field\": \"percentage\", \"format\": \".1%\"}, \"x\": {\"type\": \"quantitative\", \"field\": \"percentage\", \"stack\": \"zero\"}, \"y\": {\"type\": \"nominal\", \"field\": \"user_group\"}}}], \"data\": {\"name\": \"data-f51e30e8b18cd07f9d7527f0f635da77\"}, \"$schema\": \"https://vega.github.io/schema/vega-lite/v4.8.1.json\", \"datasets\": {\"data-f51e30e8b18cd07f9d7527f0f635da77\": [{\"user_group\": \"Clicked Button\", \"contacted_cs\": \"Related CS Contact\", \"row_order\": 1, \"customers\": 112, \"percentage\": 0.0830860534124629}, {\"user_group\": \"Clicked Button\", \"contacted_cs\": \"Did not contact CS\", \"row_order\": 3, \"customers\": 1147, \"percentage\": 0.8508902077151336}, {\"user_group\": \"Clicked Button\", \"contacted_cs\": \"Other CS Contact\", \"row_order\": 2, \"customers\": 89, \"percentage\": 0.06602373887240356}, {\"user_group\": \"Control\", \"contacted_cs\": \"Did not contact CS\", \"row_order\": 3, \"customers\": 12179, \"percentage\": 0.8964375092006477}, {\"user_group\": \"Control\", \"contacted_cs\": \"Related CS Contact\", \"row_order\": 1, \"customers\": 612, \"percentage\": 0.045046371264537026}, {\"user_group\": \"Control\", \"contacted_cs\": \"Other CS Contact\", \"row_order\": 2, \"customers\": 795, \"percentage\": 0.05851611953481525}]}}, {\"mode\": \"vega-lite\"});\n",
       "</script>"
      ],
      "text/plain": [
       "alt.LayerChart(...)"
      ]
     },
     "execution_count": 47,
     "metadata": {},
     "output_type": "execute_result"
    }
   ],
   "source": [
    "data = con.execute(\n",
    "    \"\"\"\n",
    "        with a as (\n",
    "            select \n",
    "                case \n",
    "                    when button_clicked = true then 'Clicked Button' \n",
    "                    when treatment_group = false then 'Control' \n",
    "                    else null \n",
    "                end as user_group,\n",
    "                case \n",
    "                    when contacted_for_cards = true then 'Related CS Contact'\n",
    "                    when contacted_cs = true then 'Other CS Contact'\n",
    "                    else 'Did not contact CS'\n",
    "                end as contacted_cs,\n",
    "                case \n",
    "                    when contacted_for_cards = true then 1\n",
    "                    when contacted_cs = true then 2\n",
    "                    else 3\n",
    "                end as row_order,\n",
    "                count(*) as customers\n",
    "            from raw_data\n",
    "            where viewed_cards_tab = True\n",
    "                and (\n",
    "                    button_clicked = true\n",
    "                    or treatment_group = false\n",
    "                )\n",
    "            group by 1, 2, 3\n",
    "        )\n",
    "        select \n",
    "            user_group,\n",
    "            contacted_cs,\n",
    "            row_order,\n",
    "            customers,\n",
    "            customers::numeric / sum(customers) over (partition by user_group) as percentage\n",
    "        from a \n",
    "    \"\"\"\n",
    ").fetchdf()\n",
    "\n",
    "# define colors\n",
    "color_scale = alt.Scale(\n",
    "    domain=[\"Related CS Contact\", \"Other CS Contact\", \"Did not contact CS\"],\n",
    "    range=[\"#58B99D\", \"#EAC645\", \"#98A5A5\"],\n",
    ")\n",
    "\n",
    "bars = (\n",
    "    alt.Chart(data)\n",
    "    .mark_bar()\n",
    "    .encode(\n",
    "        x=alt.X(\"percentage\", title=\"% of Customers\"),\n",
    "        y=alt.Y(\"user_group\", title=None),\n",
    "        color=alt.Color(\n",
    "            \"contacted_cs\",\n",
    "            legend=alt.Legend(title=\"Cst-CS interaction\"),\n",
    "            scale=color_scale,\n",
    "        ),\n",
    "        order=alt.Order(\"row_order\", sort=\"ascending\"),\n",
    "    )\n",
    "    .properties(width=800, height=300, title=\"Control vs. Clicked button CS contacts\")\n",
    ")\n",
    "\n",
    "text = (\n",
    "    alt.Chart(data)\n",
    "    .mark_text(align=\"center\", fontSize=12, dx=-17, dy=3, color=\"white\")\n",
    "    .encode(\n",
    "        x=alt.X(\"percentage\", stack=\"zero\"),\n",
    "        y=alt.Y(\"user_group\"),\n",
    "        detail=\"contacted_cs\",\n",
    "        text=alt.Text(\"percentage\", format=\".1%\"),\n",
    "        order=alt.Order(\"row_order\", sort=\"ascending\"),\n",
    "    )\n",
    ")\n",
    "\n",
    "bars + text"
   ]
  },
  {
   "cell_type": "code",
   "execution_count": 56,
   "id": "549244f3",
   "metadata": {
    "scrolled": true
   },
   "outputs": [
    {
     "data": {
      "text/markdown": [
       "Looking at the chart, it appears that a higher percentage of customers who interacted with the button ended     up contacting CS. Change in customers without CS contacts was -4.6 percentage points.     With a p-value of 0.0 the difference is significant enough to confirm that the customers who clicked on    the button actually contacted CS more than the ones in the control group.    </br>    </br>    Additionally, customers who clicked on the button contacted CS much more often using the tags relevant to this    research (card_delivery, contact_data, legal_data and not_tagged). Percentage point change among these contacts    was 3.8, which is significantly more than 0.8 pp change in    other type of CS contacts.    </br>    </br>    This suggests, that the button is used more by customers who are actually facing a problem, but apparently    it does not really solve it."
      ],
      "text/plain": [
       "<IPython.core.display.Markdown object>"
      ]
     },
     "execution_count": 56,
     "metadata": {},
     "output_type": "execute_result"
    }
   ],
   "source": [
    "customer_contacts_pp_change = round(\n",
    "    (user_data(\"button_no_cs\") / user_data(\"button_clicked\") * 100)\n",
    "    - (user_data(\"control_no_cs\") / user_data(\"control_sample\") * 100),\n",
    "    1,\n",
    ")\n",
    "\n",
    "related_contacts_pp_change = round(\n",
    "    (user_data(\"button_related_cs\") / user_data(\"button_clicked\") * 100)\n",
    "    - (user_data(\"control_related_cs\") / user_data(\"control_sample\") * 100),\n",
    "    1,\n",
    ")\n",
    "\n",
    "unrelated_contacts_pp_change = round(\n",
    "    (user_data(\"button_unrelated_cs\") / user_data(\"button_clicked\") * 100)\n",
    "    - (user_data(\"control_unrelated_cs\") / user_data(\"control_sample\") * 100),\n",
    "    1,\n",
    ")\n",
    "\n",
    "# do a binomial test\n",
    "p_val = round(\n",
    "    binom_test(\n",
    "        x=user_data(\"button_no_cs\"),\n",
    "        n=user_data(\"button_clicked\"),\n",
    "        p=user_data(\"control_no_cs\") / user_data(\"control_sample\"),\n",
    "        alternative=\"less\",\n",
    "    ),\n",
    "    3,\n",
    ")\n",
    "\n",
    "md(\n",
    "    f\"Looking at the chart, it appears that a higher percentage of customers who interacted with the button ended \\\n",
    "    up contacting CS. Change in customers without CS contacts was {customer_contacts_pp_change} percentage points. \\\n",
    "    With a p-value of {p_val} the difference is significant enough to confirm that the customers who clicked on\\\n",
    "    the button actually contacted CS more than the ones in the control group.\\\n",
    "    </br>\\\n",
    "    </br>\\\n",
    "    Additionally, customers who clicked on the button contacted CS much more often using the tags relevant to this\\\n",
    "    research (card_delivery, contact_data, legal_data and not_tagged). Percentage point change among these contacts\\\n",
    "    was {related_contacts_pp_change}, which is significantly more than {unrelated_contacts_pp_change} pp change in\\\n",
    "    other type of CS contacts.\\\n",
    "    </br>\\\n",
    "    </br>\\\n",
    "    This suggests, that the button is used more by customers who are actually facing a problem, but apparently\\\n",
    "    it does not really solve it.\"\n",
    ")"
   ]
  },
  {
   "cell_type": "markdown",
   "id": "ac9ee4fa",
   "metadata": {},
   "source": [
    "### 2.3. CS tag dynamics <a class=\"anchor\" id=\"23\"></a>"
   ]
  },
  {
   "cell_type": "markdown",
   "id": "f98d416a",
   "metadata": {},
   "source": [
    "Finally let us take a look at the dynamics of separate tags for three groups of customers: a) control group b) treatment group c) treatment who clicked on button. This could give us some insight on what issues the customers were facing.\n",
    "\n",
    "Since the customers who clicked on button are much fewer, side-by-side charts are displayed in contacts per customer. It also should be noted, that one customer here could have several contacts with different contact reasons. All contacts will be taken in the numerator."
   ]
  },
  {
   "cell_type": "code",
   "execution_count": 57,
   "id": "bfe8f31e",
   "metadata": {
    "scrolled": false
   },
   "outputs": [
    {
     "data": {
      "text/html": [
       "\n",
       "<div id=\"altair-viz-fd4d971ee29741b3aae8713d38ba2ea5\"></div>\n",
       "<script type=\"text/javascript\">\n",
       "  (function(spec, embedOpt){\n",
       "    let outputDiv = document.currentScript.previousElementSibling;\n",
       "    if (outputDiv.id !== \"altair-viz-fd4d971ee29741b3aae8713d38ba2ea5\") {\n",
       "      outputDiv = document.getElementById(\"altair-viz-fd4d971ee29741b3aae8713d38ba2ea5\");\n",
       "    }\n",
       "    const paths = {\n",
       "      \"vega\": \"https://cdn.jsdelivr.net/npm//vega@5?noext\",\n",
       "      \"vega-lib\": \"https://cdn.jsdelivr.net/npm//vega-lib?noext\",\n",
       "      \"vega-lite\": \"https://cdn.jsdelivr.net/npm//vega-lite@4.8.1?noext\",\n",
       "      \"vega-embed\": \"https://cdn.jsdelivr.net/npm//vega-embed@6?noext\",\n",
       "    };\n",
       "\n",
       "    function loadScript(lib) {\n",
       "      return new Promise(function(resolve, reject) {\n",
       "        var s = document.createElement('script');\n",
       "        s.src = paths[lib];\n",
       "        s.async = true;\n",
       "        s.onload = () => resolve(paths[lib]);\n",
       "        s.onerror = () => reject(`Error loading script: ${paths[lib]}`);\n",
       "        document.getElementsByTagName(\"head\")[0].appendChild(s);\n",
       "      });\n",
       "    }\n",
       "\n",
       "    function showError(err) {\n",
       "      outputDiv.innerHTML = `<div class=\"error\" style=\"color:red;\">${err}</div>`;\n",
       "      throw err;\n",
       "    }\n",
       "\n",
       "    function displayChart(vegaEmbed) {\n",
       "      vegaEmbed(outputDiv, spec, embedOpt)\n",
       "        .catch(err => showError(`Javascript Error: ${err.message}<br>This usually means there's a typo in your chart specification. See the javascript console for the full traceback.`));\n",
       "    }\n",
       "\n",
       "    if(typeof define === \"function\" && define.amd) {\n",
       "      requirejs.config({paths});\n",
       "      require([\"vega-embed\"], displayChart, err => showError(`Error loading script: ${err.message}`));\n",
       "    } else if (typeof vegaEmbed === \"function\") {\n",
       "      displayChart(vegaEmbed);\n",
       "    } else {\n",
       "      loadScript(\"vega\")\n",
       "        .then(() => loadScript(\"vega-lite\"))\n",
       "        .then(() => loadScript(\"vega-embed\"))\n",
       "        .catch(showError)\n",
       "        .then(() => displayChart(vegaEmbed));\n",
       "    }\n",
       "  })({\"config\": {\"view\": {\"continuousWidth\": 400, \"continuousHeight\": 300}}, \"hconcat\": [{\"layer\": [{\"mark\": \"bar\", \"encoding\": {\"color\": {\"condition\": {\"value\": \"#549E87\", \"test\": \"(datum.user_group === 'Control group')\"}, \"value\": \"#63BA9D\"}, \"x\": {\"type\": \"nominal\", \"axis\": {\"labels\": false}, \"field\": \"user_group\", \"sort\": [\"Treatment (click)\", \"Control group\", \"Treatment (no click\"], \"title\": null}, \"y\": {\"type\": \"quantitative\", \"field\": \"contacts_per_cst\", \"title\": \"Contacts per customer\"}}, \"height\": 400, \"title\": \"card_delivery_contacts\", \"width\": 150}, {\"mark\": {\"type\": \"text\", \"align\": \"left\", \"angle\": 270, \"baseline\": \"bottom\", \"color\": \"white\", \"dx\": 5, \"dy\": 6, \"fontSize\": 14}, \"encoding\": {\"text\": {\"type\": \"nominal\", \"field\": \"user_group\"}, \"x\": {\"type\": \"nominal\", \"field\": \"user_group\", \"sort\": [\"Treatment (click)\", \"Control group\", \"Treatment (no click\"]}, \"y\": {\"value\": 400}}}], \"data\": {\"name\": \"data-5d82bd7eb38395219b431d0f22f85397\"}}, {\"layer\": [{\"mark\": \"bar\", \"encoding\": {\"color\": {\"condition\": {\"value\": \"#E6A03B\", \"test\": \"(datum.user_group === 'Control group')\"}, \"value\": \"#EAC645\"}, \"x\": {\"type\": \"nominal\", \"axis\": {\"labels\": false}, \"field\": \"user_group\", \"sort\": [\"Treatment (click)\", \"Control group\", \"Treatment (no click\"], \"title\": null}, \"y\": {\"type\": \"quantitative\", \"field\": \"contacts_per_cst\", \"title\": \"Contacts per customer\"}}, \"height\": 400, \"title\": \"contact_data_contacts\", \"width\": 150}, {\"mark\": {\"type\": \"text\", \"align\": \"left\", \"angle\": 270, \"baseline\": \"bottom\", \"color\": \"white\", \"dx\": 5, \"dy\": 6, \"fontSize\": 14}, \"encoding\": {\"text\": {\"type\": \"nominal\", \"field\": \"user_group\"}, \"x\": {\"type\": \"nominal\", \"field\": \"user_group\", \"sort\": [\"Treatment (click)\", \"Control group\", \"Treatment (no click\"]}, \"y\": {\"value\": 400}}}], \"data\": {\"name\": \"data-706a63d8dcee45b7e0f0aa3b8976f639\"}}, {\"layer\": [{\"mark\": \"bar\", \"encoding\": {\"color\": {\"condition\": {\"value\": \"#447EB4\", \"test\": \"(datum.user_group === 'Control group')\"}, \"value\": \"#5296D6\"}, \"x\": {\"type\": \"nominal\", \"axis\": {\"labels\": false}, \"field\": \"user_group\", \"sort\": [\"Treatment (click)\", \"Control group\", \"Treatment (no click\"], \"title\": null}, \"y\": {\"type\": \"quantitative\", \"field\": \"contacts_per_cst\", \"title\": \"Contacts per customer\"}}, \"height\": 400, \"title\": \"legal_data_contacts\", \"width\": 150}, {\"mark\": {\"type\": \"text\", \"align\": \"left\", \"angle\": 270, \"baseline\": \"bottom\", \"color\": \"white\", \"dx\": 5, \"dy\": 6, \"fontSize\": 14}, \"encoding\": {\"text\": {\"type\": \"nominal\", \"field\": \"user_group\"}, \"x\": {\"type\": \"nominal\", \"field\": \"user_group\", \"sort\": [\"Treatment (click)\", \"Control group\", \"Treatment (no click\"]}, \"y\": {\"value\": 400}}}], \"data\": {\"name\": \"data-b70a77690e587acb604f1ebc0ffe9ef6\"}}, {\"layer\": [{\"mark\": \"bar\", \"encoding\": {\"color\": {\"condition\": {\"value\": \"#8648A7\", \"test\": \"(datum.user_group === 'Control group')\"}, \"value\": \"#925CB0\"}, \"x\": {\"type\": \"nominal\", \"axis\": {\"labels\": false}, \"field\": \"user_group\", \"sort\": [\"Treatment (click)\", \"Control group\", \"Treatment (no click\"], \"title\": null}, \"y\": {\"type\": \"quantitative\", \"field\": \"contacts_per_cst\", \"title\": \"Contacts per customer\"}}, \"height\": 400, \"title\": \"not_tagged_contacts\", \"width\": 150}, {\"mark\": {\"type\": \"text\", \"align\": \"left\", \"angle\": 270, \"baseline\": \"bottom\", \"color\": \"white\", \"dx\": 5, \"dy\": 6, \"fontSize\": 14}, \"encoding\": {\"text\": {\"type\": \"nominal\", \"field\": \"user_group\"}, \"x\": {\"type\": \"nominal\", \"field\": \"user_group\", \"sort\": [\"Treatment (click)\", \"Control group\", \"Treatment (no click\"]}, \"y\": {\"value\": 400}}}], \"data\": {\"name\": \"data-acdfe4ba6341dd3f7c9a2e79a36b9028\"}}, {\"layer\": [{\"mark\": \"bar\", \"encoding\": {\"color\": {\"condition\": {\"value\": \"#B24334\", \"test\": \"(datum.user_group === 'Control group')\"}, \"value\": \"#D65746\"}, \"x\": {\"type\": \"nominal\", \"axis\": {\"labels\": false}, \"field\": \"user_group\", \"sort\": [\"Treatment (click)\", \"Control group\", \"Treatment (no click\"], \"title\": null}, \"y\": {\"type\": \"quantitative\", \"field\": \"contacts_per_cst\", \"title\": \"Contacts per customer\"}}, \"height\": 400, \"title\": \"other_cs_contacts\", \"width\": 150}, {\"mark\": {\"type\": \"text\", \"align\": \"left\", \"angle\": 270, \"baseline\": \"bottom\", \"color\": \"white\", \"dx\": 5, \"dy\": 6, \"fontSize\": 14}, \"encoding\": {\"text\": {\"type\": \"nominal\", \"field\": \"user_group\"}, \"x\": {\"type\": \"nominal\", \"field\": \"user_group\", \"sort\": [\"Treatment (click)\", \"Control group\", \"Treatment (no click\"]}, \"y\": {\"value\": 400}}}], \"data\": {\"name\": \"data-767443e415dbe7578ccfd9fdc1ec94a9\"}}], \"$schema\": \"https://vega.github.io/schema/vega-lite/v4.8.1.json\", \"datasets\": {\"data-5d82bd7eb38395219b431d0f22f85397\": [{\"user_group\": \"Control group\", \"contacts\": 227.0, \"customers_in_group\": 2972.0, \"contacts_per_cst\": 0.07637954239569314}, {\"user_group\": \"Treatment (click)\", \"contacts\": 59.0, \"customers_in_group\": 512.0, \"contacts_per_cst\": 0.115234375}, {\"user_group\": \"Treatment (no click)\", \"contacts\": 197.0, \"customers_in_group\": 2665.0, \"contacts_per_cst\": 0.07392120075046904}], \"data-706a63d8dcee45b7e0f0aa3b8976f639\": [{\"user_group\": \"Control group\", \"contacts\": 83.0, \"customers_in_group\": 2972.0, \"contacts_per_cst\": 0.027927321668909825}, {\"user_group\": \"Treatment (click)\", \"contacts\": 20.0, \"customers_in_group\": 512.0, \"contacts_per_cst\": 0.0390625}, {\"user_group\": \"Treatment (no click)\", \"contacts\": 94.0, \"customers_in_group\": 2665.0, \"contacts_per_cst\": 0.03527204502814259}], \"data-b70a77690e587acb604f1ebc0ffe9ef6\": [{\"user_group\": \"Control group\", \"contacts\": 29.0, \"customers_in_group\": 2972.0, \"contacts_per_cst\": 0.009757738896366084}, {\"user_group\": \"Treatment (click)\", \"contacts\": 7.0, \"customers_in_group\": 512.0, \"contacts_per_cst\": 0.013671875}, {\"user_group\": \"Treatment (no click)\", \"contacts\": 29.0, \"customers_in_group\": 2665.0, \"contacts_per_cst\": 0.010881801125703566}], \"data-acdfe4ba6341dd3f7c9a2e79a36b9028\": [{\"user_group\": \"Control group\", \"contacts\": 568.0, \"customers_in_group\": 2972.0, \"contacts_per_cst\": 0.1911170928667564}, {\"user_group\": \"Treatment (click)\", \"contacts\": 96.0, \"customers_in_group\": 512.0, \"contacts_per_cst\": 0.1875}, {\"user_group\": \"Treatment (no click)\", \"contacts\": 463.0, \"customers_in_group\": 2665.0, \"contacts_per_cst\": 0.17373358348968104}], \"data-767443e415dbe7578ccfd9fdc1ec94a9\": [{\"user_group\": \"Control group\", \"contacts\": 2065.0, \"customers_in_group\": 2972.0, \"contacts_per_cst\": 0.6948183041722745}, {\"user_group\": \"Treatment (click)\", \"contacts\": 330.0, \"customers_in_group\": 512.0, \"contacts_per_cst\": 0.64453125}, {\"user_group\": \"Treatment (no click)\", \"contacts\": 1882.0, \"customers_in_group\": 2665.0, \"contacts_per_cst\": 0.7061913696060037}]}}, {\"mode\": \"vega-lite\"});\n",
       "</script>"
      ],
      "text/plain": [
       "alt.HConcatChart(...)"
      ]
     },
     "execution_count": 57,
     "metadata": {},
     "output_type": "execute_result"
    }
   ],
   "source": [
    "tags = [\n",
    "    \"card_delivery_contacts\",\n",
    "    \"contact_data_contacts\",\n",
    "    \"legal_data_contacts\",\n",
    "    \"not_tagged_contacts\",\n",
    "]\n",
    "charts = []\n",
    "test_dict = {}\n",
    "colors = [\n",
    "    \"#63BA9D\",\n",
    "    \"#EAC645\",\n",
    "    \"#5296D6\",\n",
    "    \"#925CB0\",\n",
    "    \"#549E87\",\n",
    "    \"#E6A03B\",\n",
    "    \"#447EB4\",\n",
    "    \"#8648A7\",\n",
    "]\n",
    "for idx, val in enumerate(tags):\n",
    "    test_setup = con.execute(\n",
    "        f\"\"\"\n",
    "            select\n",
    "                case \n",
    "                    when treatment_group = False then 'Control group'\n",
    "                    when button_clicked = True then 'Treatment (click)'\n",
    "                    else 'Treatment (no click)'\n",
    "                end as user_group,\n",
    "                sum({val}) as contacts,\n",
    "                sum(contacts) as customers_in_group,\n",
    "                sum({val}) / sum(contacts) contacts_per_cst\n",
    "            from raw_data\n",
    "            where contacts >= 1\n",
    "            group by 1\n",
    "            order by 1\n",
    "        \"\"\"\n",
    "    ).fetchdf()\n",
    "\n",
    "    bars = (\n",
    "        alt.Chart(test_setup)\n",
    "        .mark_bar()\n",
    "        .encode(\n",
    "            x=alt.X(\n",
    "                \"user_group\",\n",
    "                title=None,\n",
    "                axis=alt.Axis(labels=False),\n",
    "                sort=[\"Treatment (click)\", \"Control group\", \"Treatment (no click\"],\n",
    "            ),\n",
    "            y=alt.Y(\"contacts_per_cst:Q\", title=\"Contacts per customer\"),\n",
    "            color=alt.condition(\n",
    "                alt.datum.user_group == \"Control group\",\n",
    "                alt.value(colors[idx + 4]),\n",
    "                alt.value(colors[idx]),\n",
    "            ),\n",
    "        )\n",
    "        .properties(width=150, height=400, title=f\"{val}\")\n",
    "    )\n",
    "\n",
    "    text = (\n",
    "        alt.Chart(test_setup)\n",
    "        .mark_text(\n",
    "            align=\"left\",\n",
    "            fontSize=14,\n",
    "            dy=6,\n",
    "            dx=5,\n",
    "            color=\"white\",\n",
    "            angle=270,\n",
    "            baseline=\"bottom\",\n",
    "        )\n",
    "        .encode(\n",
    "            x=alt.X(\n",
    "                \"user_group\",\n",
    "                sort=[\"Treatment (click)\", \"Control group\", \"Treatment (no click\"],\n",
    "            ),\n",
    "            y=alt.value(400),\n",
    "            text=alt.Text(\"user_group\"),\n",
    "        )\n",
    "    )\n",
    "\n",
    "    charts.append(bars + text)\n",
    "\n",
    "    # perform tests for all values\n",
    "    click_contacts = round(test_setup.iloc[1][\"contacts\"])\n",
    "    click_size = round(test_setup.iloc[1][\"customers_in_group\"])\n",
    "    no_click_contacts = round(test_setup.iloc[2][\"contacts\"])\n",
    "    no_click_size = round(test_setup.iloc[2][\"customers_in_group\"])\n",
    "    control_rate = test_setup.iloc[0][\"contacts_per_cst\"]\n",
    "\n",
    "    click_less = round(\n",
    "        binom_test(x=click_contacts, n=click_size, p=control_rate, alternative=\"less\"),\n",
    "        2,\n",
    "    )\n",
    "    click_more = round(\n",
    "        binom_test(\n",
    "            x=click_contacts, n=click_size, p=control_rate, alternative=\"greater\"\n",
    "        ),\n",
    "        2,\n",
    "    )\n",
    "    no_click_less = round(\n",
    "        binom_test(\n",
    "            x=no_click_contacts, n=no_click_size, p=control_rate, alternative=\"less\"\n",
    "        ),\n",
    "        2,\n",
    "    )\n",
    "    no_click_more = round(\n",
    "        binom_test(\n",
    "            x=no_click_contacts, n=no_click_size, p=control_rate, alternative=\"greater\"\n",
    "        ),\n",
    "        2,\n",
    "    )\n",
    "\n",
    "    test_dict[val] = {\n",
    "        \"click\": {\n",
    "            \"contacts\": click_contacts,\n",
    "            \"group_size\": click_size,\n",
    "            \"p_value_less\": click_less,\n",
    "            \"p_value_more\": click_more,\n",
    "        },\n",
    "        \"no_click\": {\n",
    "            \"contacts\": no_click_contacts,\n",
    "            \"group_size\": no_click_size,\n",
    "            \"p_value_less\": no_click_less,\n",
    "            \"p_value_more\": no_click_more,\n",
    "        },\n",
    "    }\n",
    "\n",
    "test_setup = con.execute(\n",
    "    f\"\"\"\n",
    "        select\n",
    "            case \n",
    "                when treatment_group = False then 'Control group'\n",
    "                when button_clicked = True then 'Treatment (click)'\n",
    "                else 'Treatment (no click)'\n",
    "            end as user_group,\n",
    "            sum(contacts - card_delivery_contacts - contact_data_contacts - legal_data_contacts - not_tagged_contacts) as contacts,\n",
    "            sum(contacts) as customers_in_group,\n",
    "            sum(contacts - card_delivery_contacts - contact_data_contacts - legal_data_contacts - not_tagged_contacts) / sum(contacts) contacts_per_cst\n",
    "        from raw_data\n",
    "        where contacts >= 1\n",
    "        group by 1\n",
    "        order by 1\n",
    "    \"\"\"\n",
    ").fetchdf()\n",
    "\n",
    "bars = (\n",
    "    alt.Chart(test_setup)\n",
    "    .mark_bar()\n",
    "    .encode(\n",
    "        x=alt.X(\n",
    "            \"user_group\",\n",
    "            title=None,\n",
    "            axis=alt.Axis(labels=False),\n",
    "            sort=[\"Treatment (click)\", \"Control group\", \"Treatment (no click\"],\n",
    "        ),\n",
    "        y=alt.Y(\"contacts_per_cst:Q\", title=\"Contacts per customer\"),\n",
    "        color=alt.condition(\n",
    "            alt.datum.user_group == \"Control group\",\n",
    "            alt.value(\"#B24334\"),\n",
    "            alt.value(\"#D65746\"),\n",
    "        ),\n",
    "    )\n",
    "    .properties(width=150, height=400, title=\"other_cs_contacts\")\n",
    ")\n",
    "\n",
    "text = (\n",
    "    alt.Chart(test_setup)\n",
    "    .mark_text(\n",
    "        align=\"left\",\n",
    "        fontSize=14,\n",
    "        dy=6,\n",
    "        dx=5,\n",
    "        color=\"white\",\n",
    "        angle=270,\n",
    "        baseline=\"bottom\",\n",
    "    )\n",
    "    .encode(\n",
    "        x=alt.X(\n",
    "            \"user_group\",\n",
    "            sort=[\"Treatment (click)\", \"Control group\", \"Treatment (no click\"],\n",
    "        ),\n",
    "        y=alt.value(400),\n",
    "        text=alt.Text(\"user_group\"),\n",
    "    )\n",
    ")\n",
    "charts.append(bars + text)\n",
    "\n",
    "click_contacts = round(test_setup.iloc[1][\"contacts\"])\n",
    "click_size = round(test_setup.iloc[1][\"customers_in_group\"])\n",
    "no_click_contacts = round(test_setup.iloc[2][\"contacts\"])\n",
    "no_click_size = round(test_setup.iloc[2][\"customers_in_group\"])\n",
    "control_rate = test_setup.iloc[0][\"contacts_per_cst\"]\n",
    "\n",
    "click_less = round(\n",
    "    binom_test(x=click_contacts, n=click_size, p=control_rate, alternative=\"less\"), 2\n",
    ")\n",
    "click_more = round(\n",
    "    binom_test(x=click_contacts, n=click_size, p=control_rate, alternative=\"greater\"), 2\n",
    ")\n",
    "no_click_less = round(\n",
    "    binom_test(\n",
    "        x=no_click_contacts, n=no_click_size, p=control_rate, alternative=\"less\"\n",
    "    ),\n",
    "    2,\n",
    ")\n",
    "no_click_more = round(\n",
    "    binom_test(\n",
    "        x=no_click_contacts, n=no_click_size, p=control_rate, alternative=\"greater\"\n",
    "    ),\n",
    "    2,\n",
    ")\n",
    "\n",
    "test_dict[\"other_cs_contacts\"] = {\n",
    "    \"click\": {\n",
    "        \"contacts\": click_contacts,\n",
    "        \"group_size\": click_size,\n",
    "        \"p_value_less\": click_less,\n",
    "        \"p_value_more\": click_more,\n",
    "    },\n",
    "    \"no_click\": {\n",
    "        \"contacts\": no_click_contacts,\n",
    "        \"group_size\": no_click_size,\n",
    "        \"p_value_less\": no_click_less,\n",
    "        \"p_value_more\": no_click_more,\n",
    "    },\n",
    "}\n",
    "\n",
    "\n",
    "alt.hconcat(*charts)"
   ]
  },
  {
   "cell_type": "markdown",
   "id": "8d444e11",
   "metadata": {},
   "source": [
    "##### Control group vs. treatment (no click)"
   ]
  },
  {
   "cell_type": "code",
   "execution_count": 58,
   "id": "ad1b23e3",
   "metadata": {},
   "outputs": [
    {
     "data": {
      "text/markdown": [
       "Differences between the control group and treatment who <b>did not click</b> on the button show no significant    differences on all contact reasons except for card delivery and not tagged. P-vales are all higher than 0.05.    </br>    </br>    Contact data showed a p-value of 0.01 and not tagged contacts also showed a p-value of 0.01. This    observation is interesting because the overall sum of customers who contacted CS were not different    among these groups. This would suggest that the presence of the tracking information allowed customers to express their    problem clearly and this would lead to more contacts tagged with a contact data tag. This, however, is    just a speculation, because the nature of untagged contacts is not entirely clear."
      ],
      "text/plain": [
       "<IPython.core.display.Markdown object>"
      ]
     },
     "execution_count": 58,
     "metadata": {},
     "output_type": "execute_result"
    }
   ],
   "source": [
    "var_1 = test_dict[\"contact_data_contacts\"][\"no_click\"][\"p_value_more\"]\n",
    "var_2 = test_dict[\"not_tagged_contacts\"][\"no_click\"][\"p_value_less\"]\n",
    "\n",
    "md(\n",
    "    f\"Differences between the control group and treatment who <b>did not click</b> on the button show no significant\\\n",
    "    differences on all contact reasons except for card delivery and not tagged. P-vales are all higher than 0.05.\\\n",
    "    </br>\\\n",
    "    </br>\\\n",
    "    Contact data showed a p-value of {var_1} and not tagged contacts also showed a p-value of {var_2}. This\\\n",
    "    observation is interesting because the overall sum of customers who contacted CS were not different\\\n",
    "    among these groups. This would suggest that the presence of the tracking information allowed customers to express their\\\n",
    "    problem clearly and this would lead to more contacts tagged with a contact data tag. This, however, is\\\n",
    "    just a speculation, because the nature of untagged contacts is not entirely clear.\"\n",
    ")"
   ]
  },
  {
   "cell_type": "markdown",
   "id": "d35db5ab",
   "metadata": {},
   "source": [
    "##### Control group vs. treatment (click)"
   ]
  },
  {
   "cell_type": "code",
   "execution_count": 59,
   "id": "0e82f14c",
   "metadata": {},
   "outputs": [
    {
     "data": {
      "text/markdown": [
       "When comparing control group against the ones <b>who clicked</b> on the button, there are no significant     differences among contact data, legal data and not tagged contacts with respective p-values of 0.09, 0.24    and 0.44. Contact data and legal data tags do not have a high confidence also because their observations are    low, 20 and 7 respectively.</br>    </br>    Card delivery and other cs contacts had p-values of 0.0 and 0.01, showing significant differences. This    could suggest, that this group has a higher concentration of customers with card delivery problems. They clicked     on the button - were looking for a solution to their issue, but the button could not solve it."
      ],
      "text/plain": [
       "<IPython.core.display.Markdown object>"
      ]
     },
     "execution_count": 59,
     "metadata": {},
     "output_type": "execute_result"
    }
   ],
   "source": [
    "var_1 = test_dict[\"contact_data_contacts\"][\"click\"][\"p_value_more\"]\n",
    "var_2 = test_dict[\"legal_data_contacts\"][\"click\"][\"p_value_more\"]\n",
    "var_3 = test_dict[\"not_tagged_contacts\"][\"click\"][\"p_value_less\"]\n",
    "var_4 = test_dict[\"contact_data_contacts\"][\"click\"][\"contacts\"]\n",
    "var_5 = test_dict[\"legal_data_contacts\"][\"click\"][\"contacts\"]\n",
    "var_6 = test_dict[\"card_delivery_contacts\"][\"click\"][\"p_value_more\"]\n",
    "var_7 = test_dict[\"other_cs_contacts\"][\"click\"][\"p_value_less\"]\n",
    "\n",
    "md(\n",
    "    f\"When comparing control group against the ones <b>who clicked</b> on the button, there are no significant \\\n",
    "    differences among contact data, legal data and not tagged contacts with respective p-values of {var_1}, {var_2}\\\n",
    "    and {var_3}. Contact data and legal data tags do not have a high confidence also because their observations are\\\n",
    "    low, {var_4} and {var_5} respectively.</br>\\\n",
    "    </br>\\\n",
    "    Card delivery and other cs contacts had p-values of {var_6} and {var_7}, showing significant differences. This\\\n",
    "    could suggest, that this group has a higher concentration of customers with card delivery problems. They clicked \\\n",
    "    on the button - were looking for a solution to their issue, but the button could not solve it.\"\n",
    ")"
   ]
  },
  {
   "cell_type": "markdown",
   "id": "e38df30d",
   "metadata": {},
   "source": [
    "# 3. Conclusion <a class=\"anchor\" id=\"3\"></a>"
   ]
  },
  {
   "cell_type": "markdown",
   "id": "65bb8aa7",
   "metadata": {},
   "source": [
    "Adding card tracking information did not affect the volume of CS contacts. Control and treatment groups had the same proportion of customers who went to CS. Adding the card tracking information and the button to the app would not reduce the overall number of CS contacts.\n",
    "\n",
    "Looking at the customers who clicked the button, we saw a higher concentration of clients, who were looking to a solution to their card delivery problem. These customers had a higher percentage of CS contacts. They were more likely to contact CS about card delivery issues and less likely to contact about other contact reasons. It must again be emphasized, that this did not effect the overall sum of CS contacts - just showed that the customers who clicked on the button were looking for a solution."
   ]
  },
  {
   "cell_type": "code",
   "execution_count": 60,
   "id": "a16900bc",
   "metadata": {
    "scrolled": true
   },
   "outputs": [
    {
     "data": {
      "text/html": [
       "\n",
       "<script>\n",
       "    code_show=true; \n",
       "    function code_toggle() {\n",
       "        if (code_show){\n",
       "            $('div.input').hide();\n",
       "        } else {\n",
       "            $('div.input').show();\n",
       "            }\n",
       "        code_show = !code_show\n",
       " \n",
       "        $('div.output_subarea').css(\"text-align\", \"center\"); \n",
       "        $('body').css(\"font-family\", \"Montserrat, sans-serif\");\n",
       "        $('h1').css(\"font-family\", \"Karla, sans-serif\");\n",
       "        $('h2').css(\"font-family\", \"Karla, sans-serif\");\n",
       "    } \n",
       "    $( document ).ready(code_toggle);\n",
       "    \n",
       "    </script>\n",
       "    <form action=\"javascript:code_toggle()\">\n",
       "        <input type=\"submit\" value=\"Click here to toggle on/off the raw code.\">\n",
       "    </form>\n"
      ],
      "text/plain": [
       "<IPython.core.display.HTML object>"
      ]
     },
     "execution_count": 60,
     "metadata": {},
     "output_type": "execute_result"
    }
   ],
   "source": [
    "HTML(\n",
    "    \"\"\"\n",
    "<script>\n",
    "    code_show=true; \n",
    "    function code_toggle() {\n",
    "        if (code_show){\n",
    "            $('div.input').hide();\n",
    "        } else {\n",
    "            $('div.input').show();\n",
    "            }\n",
    "        code_show = !code_show\n",
    " \n",
    "        $('div.output_subarea').css(\"text-align\", \"center\"); \n",
    "        $('body').css(\"font-family\", \"Montserrat, sans-serif\");\n",
    "        $('h1').css(\"font-family\", \"Karla, sans-serif\");\n",
    "        $('h2').css(\"font-family\", \"Karla, sans-serif\");\n",
    "    } \n",
    "    $( document ).ready(code_toggle);\n",
    "    \n",
    "    </script>\n",
    "    <form action=\"javascript:code_toggle()\">\n",
    "        <input type=\"submit\" value=\"Click here to toggle on/off the raw code.\">\n",
    "    </form>\n",
    "\"\"\"\n",
    ")"
   ]
  },
  {
   "cell_type": "code",
   "execution_count": 55,
   "id": "c24ae694",
   "metadata": {
    "scrolled": true
   },
   "outputs": [
    {
     "data": {
      "text/html": [
       "<div>\n",
       "<style scoped>\n",
       "    .dataframe tbody tr th:only-of-type {\n",
       "        vertical-align: middle;\n",
       "    }\n",
       "\n",
       "    .dataframe tbody tr th {\n",
       "        vertical-align: top;\n",
       "    }\n",
       "\n",
       "    .dataframe thead th {\n",
       "        text-align: right;\n",
       "    }\n",
       "</style>\n",
       "<table border=\"1\" class=\"dataframe\">\n",
       "  <thead>\n",
       "    <tr style=\"text-align: right;\">\n",
       "      <th></th>\n",
       "      <th>ovr_customers</th>\n",
       "      <th>ovr_treatment_perc</th>\n",
       "      <th>no_card_view_perc</th>\n",
       "      <th>button_clicked</th>\n",
       "      <th>button_click_rate</th>\n",
       "      <th>total_sample</th>\n",
       "      <th>treatment_sample</th>\n",
       "      <th>control_sample</th>\n",
       "      <th>treatment_no_cs</th>\n",
       "      <th>control_no_cs</th>\n",
       "      <th>button_no_cs</th>\n",
       "      <th>button_related_cs</th>\n",
       "      <th>button_unrelated_cs</th>\n",
       "      <th>control_related_cs</th>\n",
       "      <th>control_unrelated_cs</th>\n",
       "    </tr>\n",
       "  </thead>\n",
       "  <tbody>\n",
       "    <tr>\n",
       "      <th>0</th>\n",
       "      <td>30493</td>\n",
       "      <td>49.99836</td>\n",
       "      <td>10.720493</td>\n",
       "      <td>1348.0</td>\n",
       "      <td>9.884147</td>\n",
       "      <td>27224.0</td>\n",
       "      <td>13638.0</td>\n",
       "      <td>13586.0</td>\n",
       "      <td>12215.0</td>\n",
       "      <td>12179.0</td>\n",
       "      <td>1147.0</td>\n",
       "      <td>112.0</td>\n",
       "      <td>89.0</td>\n",
       "      <td>612.0</td>\n",
       "      <td>795.0</td>\n",
       "    </tr>\n",
       "  </tbody>\n",
       "</table>\n",
       "</div>"
      ],
      "text/plain": [
       "   ovr_customers  ovr_treatment_perc  no_card_view_perc  button_clicked  \\\n",
       "0          30493            49.99836          10.720493          1348.0   \n",
       "\n",
       "   button_click_rate  total_sample  treatment_sample  control_sample  \\\n",
       "0           9.884147       27224.0           13638.0         13586.0   \n",
       "\n",
       "   treatment_no_cs  control_no_cs  button_no_cs  button_related_cs  \\\n",
       "0          12215.0        12179.0        1147.0              112.0   \n",
       "\n",
       "   button_unrelated_cs  control_related_cs  control_unrelated_cs  \n",
       "0                 89.0               612.0                 795.0  "
      ]
     },
     "execution_count": 55,
     "metadata": {},
     "output_type": "execute_result"
    }
   ],
   "source": [
    "def user_data(col):\n",
    "    return cst_data.iloc[0][col]\n",
    "\n",
    "\n",
    "cst_data = con.execute(\n",
    "    f\"\"\"\n",
    "        select\n",
    "           count(*) as ovr_customers,\n",
    "           avg((treatment_group = True)::int) * 100 as ovr_treatment_perc,\n",
    "           avg((viewed_cards_tab = False)::int) * 100 as no_card_view_perc,\n",
    "           sum((button_clicked = True)::int) as button_clicked,\n",
    "           avg(\n",
    "                case\n",
    "                    when viewed_cards_tab = True\n",
    "                        and treatment_group = True\n",
    "                    then (button_clicked = True)::int\n",
    "                    else null\n",
    "                end\n",
    "            ) * 100 as button_click_rate,\n",
    "            sum((viewed_cards_tab = True)::int) as total_sample,\n",
    "            sum((viewed_cards_tab = True and treatment_group = True)::int) as treatment_sample,\n",
    "            sum((viewed_cards_tab = True and treatment_group = False)::int) as control_sample,\n",
    "            sum((viewed_cards_tab = True and treatment_group = True and contacted_cs = False)::int) as treatment_no_cs,\n",
    "            sum((viewed_cards_tab = True and treatment_group = False and contacted_cs = False)::int) as control_no_cs,\n",
    "            sum((button_clicked = True and contacted_cs = False)::int) as button_no_cs,\n",
    "            sum((button_clicked = True and contacted_for_cards = True)::int) as button_related_cs,\n",
    "            sum((button_clicked = True and contacted_cs = True and contacted_for_cards = False)::int) as button_unrelated_cs,\n",
    "            sum((viewed_cards_tab = True and treatment_group = False and contacted_for_cards = True)::int) as control_related_cs,\n",
    "            sum((viewed_cards_tab = True and treatment_group = False and contacted_cs = True and contacted_for_cards = False)::int) as control_unrelated_cs\n",
    "            \n",
    "        from raw_data\n",
    "    \"\"\"\n",
    ").fetchdf()\n",
    "cst_data"
   ]
  },
  {
   "cell_type": "code",
   "execution_count": null,
   "id": "a4952aaf",
   "metadata": {},
   "outputs": [],
   "source": []
  }
 ],
 "metadata": {
  "kernelspec": {
   "display_name": "Python 3",
   "language": "python",
   "name": "python3"
  },
  "language_info": {
   "codemirror_mode": {
    "name": "ipython",
    "version": 3
   },
   "file_extension": ".py",
   "mimetype": "text/x-python",
   "name": "python",
   "nbconvert_exporter": "python",
   "pygments_lexer": "ipython3",
   "version": "3.7.2"
  }
 },
 "nbformat": 4,
 "nbformat_minor": 5
}
