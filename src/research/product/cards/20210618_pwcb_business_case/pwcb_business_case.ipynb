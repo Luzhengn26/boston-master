{
 "cells": [
  {
   "cell_type": "markdown",
   "metadata": {},
   "source": [
    "title: PWCB business case\n",
    "author: Vladas Jankus \n",
    "date: 2021-06-18\n",
    "region: EU  \n",
    "tags: cards, card, product, pwcb, pay with cahsback, cash, cashback, atm",
    "summary: Customers are able to cash out up to 200 Eur when buying over 20 Eur with certain merchants. This outlook focused on German market. Main objective was to quantify potential customers who could switch from ATM to PWCB. Main motivation is that PWCB cashouts do not have a cost for N26. Since the start of 2021, there were around 2k customers who used PWCB in Germany. There were 109k customers who visited these merchants, but did not use PWCB and cashed out at ATM 2 days before or after the visit. Out of these, about 30% comply with minimum purchase (20 Eur) or maximum cashout (200 Eur) requirement. Weekly, there are around 5k potential customers who don't use PWCB, but visit these merchants, spend over 20 EUR and then cashout < 200 EUR at ATMs. They make around 9k cashouts (at ATMs) weekly. Roughly calculated - if we could make 30% of potential customers to use PWCB, we could expect around 1.8k transactions and 150k EUR weekly to switch from ATM to PWCB."
   ]
  },
  {
   "cell_type": "code",
   "execution_count": 1,
   "id": "cc5d438f",
   "metadata": {},
   "outputs": [
    {
     "name": "stderr",
     "output_type": "stream",
     "text": [
      "/usr/local/lib/python3.7/site-packages/datalib/vault.py:40: FutureWarning: The default value of regex will change from True to False in a future version.\n",
      "  r\"(.*)\\[(.*)]\", r\"\\1\"\n",
      "/usr/local/lib/python3.7/site-packages/datalib/vault.py:42: FutureWarning: The default value of regex will change from True to False in a future version.\n",
      "  vault_params[\"key\"] = vault_params[\"index\"].str.replace(r\"(.*)\\[(.*)]\", r\"\\2\")\n"
     ]
    }
   ],
   "source": [
    "import pandas as pd\n",
    "import altair as alt\n",
    "from utils.datalib_database import df_from_sql\n",
    "from IPython.display import HTML, Markdown as md, display"
   ]
  },
  {
   "cell_type": "code",
   "execution_count": 2,
   "id": "5e8c60f3",
   "metadata": {
    "scrolled": true
   },
   "outputs": [
    {
     "name": "stdout",
     "output_type": "stream",
     "text": [
      "{\"message\": \"started\", \"db\": \"redshiftreader\", \"name\": \"datalib-logger\", \"args\": [], \"levelname\": \"INFO\", \"pathname\": \"/usr/local/lib/python3.7/site-packages/datalib/database.py\", \"filename\": \"database.py\", \"module\": \"database\", \"lineno\": 121, \"funcName\": \"df_from_sql\", \"created\": \"20210617T050350\", \"processName\": \"MainProcess\", \"service\": \"fargo\", \"environment\": \"local\", \"loggerId\": \"58ed8bd6-d131-4ffa-a931-a5b250a884ca\", \"hostname\": \"172.19.0.4\"}\n",
      "{\"message\": \"success\", \"db\": \"redshiftreader\", \"duration\": 45.6609, \"name\": \"datalib-logger\", \"args\": [], \"levelname\": \"INFO\", \"pathname\": \"/usr/local/lib/python3.7/site-packages/datalib/database.py\", \"filename\": \"database.py\", \"module\": \"database\", \"lineno\": 131, \"funcName\": \"df_from_sql\", \"created\": \"20210617T050436\", \"processName\": \"MainProcess\", \"service\": \"fargo\", \"environment\": \"local\", \"loggerId\": \"58ed8bd6-d131-4ffa-a931-a5b250a884ca\", \"hostname\": \"172.19.0.4\"}\n"
     ]
    }
   ],
   "source": [
    "top_merchants = df_from_sql(\n",
    "    \"redshiftreader\",\n",
    "    \"\"\"\n",
    "        with ad_processing_code_90000 as (\n",
    "            select \n",
    "                ad.id, \n",
    "                ad.processing_code, \n",
    "                ad.transaction_amount\n",
    "            from ad_transaction_requests ad\n",
    "            where ad.created > '2021-01-01'\n",
    "                and ad.processing_code = '90000'\n",
    "                and ad.message_type = 'AUTHORIZATION'\n",
    "        )\n",
    "        select \n",
    "            case\n",
    "                when tx.merchant_name in ('DM-Drogerie Markt', 'DM Drogerie Markt', 'DM-DROGERIE MARKT') then 'DM Drogerie Markt'\n",
    "                when tx.merchant_name in ('Mueller GmbH & Co.KG', 'Mueller MH Handels Gmb', 'Mueller Holding GmbH &') then 'Mueller'\n",
    "                when left(lower(tx.merchant_name), 6) = 'famila' then 'FAMILIA'\n",
    "                else tx.merchant_name\n",
    "            end as merchant_name,\n",
    "            sum((ad.id is not null)::int) as pwcb_transactions,\n",
    "            count(*) as transactions,\n",
    "            round(pwcb_transactions::float / transactions * 100, 2)::text || '%' as pwcb_percentage\n",
    "        from dbt.zrh_card_transactions tx\n",
    "        left join ad_processing_code_90000 ad on ad.id = tx.id\n",
    "        where tx.created > '2021-01-01'\n",
    "            and tx.merchant_country = 'DEU'\n",
    "            and (\n",
    "                tx.merchant_name in (\n",
    "                    'DM-Drogerie Markt', 'DM Drogerie Markt', 'DM-DROGERIE MARKT',\n",
    "                    'Netto Marken-Discount',\n",
    "                    'Mueller GmbH & Co.KG', 'Mueller MH Handels Gmb', 'Mueller Holding GmbH &',\n",
    "                    'Norma',\n",
    "                    'Globus SB-Warenhaus'\n",
    "                    )\n",
    "                    or left(lower(tx.merchant_name), 6) = 'famila'\n",
    "                )\n",
    "            and tx.type = 'AA'\n",
    "        group by 1\n",
    "        order by 2 desc\n",
    "    \"\"\",\n",
    ")"
   ]
  },
  {
   "cell_type": "code",
   "execution_count": 3,
   "id": "9ef4d11a",
   "metadata": {},
   "outputs": [
    {
     "name": "stdout",
     "output_type": "stream",
     "text": [
      "{\"message\": \"started\", \"db\": \"redshiftreader\", \"name\": \"datalib-logger\", \"args\": [], \"levelname\": \"INFO\", \"pathname\": \"/usr/local/lib/python3.7/site-packages/datalib/database.py\", \"filename\": \"database.py\", \"module\": \"database\", \"lineno\": 121, \"funcName\": \"df_from_sql\", \"created\": \"20210617T050442\", \"processName\": \"MainProcess\", \"service\": \"fargo\", \"environment\": \"local\", \"loggerId\": \"58ed8bd6-d131-4ffa-a931-a5b250a884ca\", \"hostname\": \"172.19.0.4\"}\n",
      "{\"message\": \"success\", \"db\": \"redshiftreader\", \"duration\": 67.5809, \"name\": \"datalib-logger\", \"args\": [], \"levelname\": \"INFO\", \"pathname\": \"/usr/local/lib/python3.7/site-packages/datalib/database.py\", \"filename\": \"database.py\", \"module\": \"database\", \"lineno\": 131, \"funcName\": \"df_from_sql\", \"created\": \"20210617T050550\", \"processName\": \"MainProcess\", \"service\": \"fargo\", \"environment\": \"local\", \"loggerId\": \"58ed8bd6-d131-4ffa-a931-a5b250a884ca\", \"hostname\": \"172.19.0.4\"}\n"
     ]
    }
   ],
   "source": [
    "pwcb_amount_cst = df_from_sql(\n",
    "    \"redshiftreader\",\n",
    "    \"\"\"\n",
    "        with ad_processing_code_90000 as (\n",
    "            select\n",
    "                ad.id,\n",
    "                ad.processing_code,\n",
    "                ad.transaction_amount\n",
    "            from ad_transaction_requests ad\n",
    "            where ad.created > '2021-01-01'\n",
    "              and ad.processing_code = '90000'\n",
    "              and ad.message_type = 'AUTHORIZATION'\n",
    "        ),\n",
    "        merchant_transactions as (\n",
    "            select\n",
    "                user_created,\n",
    "                created as tx_timestamp,\n",
    "                (amount_cents_eur / 100.0) - 20 as pwcb_amount\n",
    "            from dbt.zrh_card_transactions tx\n",
    "            inner join ad_processing_code_90000 ad\n",
    "                on ad.id = tx.id\n",
    "            where tx.created > '2021-01-01'\n",
    "              and tx.merchant_country = 'DEU'\n",
    "              and (\n",
    "                        tx.merchant_name in (\n",
    "                                             'DM-Drogerie Markt', 'DM Drogerie Markt', 'DM-DROGERIE MARKT',\n",
    "                                             'Netto Marken-Discount',\n",
    "                                             'Mueller GmbH & Co.KG', 'Mueller MH Handels Gmb', 'Mueller Holding GmbH &',\n",
    "                                             'Norma',\n",
    "                                             'Globus SB-Warenhaus'\n",
    "                        )\n",
    "                    or left(lower(tx.merchant_name), 6) = 'famila'\n",
    "                )\n",
    "              and tx.type = 'AA'\n",
    "        )\n",
    "        select\n",
    "            to_char(tx_timestamp, '\"CW \"iw') as pwcb_merchant_visit,\n",
    "            count(distinct user_created) as customers,\n",
    "            count(*) as transactions,\n",
    "            sum(pwcb_amount) as sum_pwcb\n",
    "        from merchant_transactions\n",
    "        where to_char(tx_timestamp, 'iyyy-iw') >= '2021-01'\n",
    "            and to_char(tx_timestamp, 'iyyy-iw') < to_char(current_date, 'iyyy-iw')\n",
    "        group by 1\n",
    "    \"\"\",\n",
    ")"
   ]
  },
  {
   "cell_type": "code",
   "execution_count": 4,
   "id": "76a214be",
   "metadata": {},
   "outputs": [
    {
     "name": "stdout",
     "output_type": "stream",
     "text": [
      "{\"message\": \"started\", \"db\": \"redshiftreader\", \"name\": \"datalib-logger\", \"args\": [], \"levelname\": \"INFO\", \"pathname\": \"/usr/local/lib/python3.7/site-packages/datalib/database.py\", \"filename\": \"database.py\", \"module\": \"database\", \"lineno\": 121, \"funcName\": \"df_from_sql\", \"created\": \"20210617T050553\", \"processName\": \"MainProcess\", \"service\": \"fargo\", \"environment\": \"local\", \"loggerId\": \"58ed8bd6-d131-4ffa-a931-a5b250a884ca\", \"hostname\": \"172.19.0.4\"}\n",
      "{\"message\": \"success\", \"db\": \"redshiftreader\", \"duration\": 67.6359, \"name\": \"datalib-logger\", \"args\": [], \"levelname\": \"INFO\", \"pathname\": \"/usr/local/lib/python3.7/site-packages/datalib/database.py\", \"filename\": \"database.py\", \"module\": \"database\", \"lineno\": 131, \"funcName\": \"df_from_sql\", \"created\": \"20210617T050701\", \"processName\": \"MainProcess\", \"service\": \"fargo\", \"environment\": \"local\", \"loggerId\": \"58ed8bd6-d131-4ffa-a931-a5b250a884ca\", \"hostname\": \"172.19.0.4\"}\n"
     ]
    }
   ],
   "source": [
    "pwcb_atm = df_from_sql(\n",
    "    \"redshiftreader\",\n",
    "    \"\"\"\n",
    "        with ad_processing_code_90000 as (\n",
    "            select\n",
    "                ad.id,\n",
    "                ad.processing_code,\n",
    "                ad.transaction_amount\n",
    "            from ad_transaction_requests ad\n",
    "            where ad.created > '2021-01-01'\n",
    "              and ad.processing_code = '90000'\n",
    "              and ad.message_type = 'AUTHORIZATION'\n",
    "        ),\n",
    "        merchant_transactions as (\n",
    "            select\n",
    "                user_created,\n",
    "                created as tx_timestamp,\n",
    "                (amount_cents_eur / 100.0) - 20 as pwcb_amount\n",
    "            from dbt.zrh_card_transactions tx\n",
    "            inner join ad_processing_code_90000 ad\n",
    "                on ad.id = tx.id\n",
    "            where tx.created > '2021-01-01'\n",
    "              and tx.merchant_country = 'DEU'\n",
    "              and (\n",
    "                        tx.merchant_name in (\n",
    "                                             'DM-Drogerie Markt', 'DM Drogerie Markt', 'DM-DROGERIE MARKT',\n",
    "                                             'Netto Marken-Discount',\n",
    "                                             'Mueller GmbH & Co.KG', 'Mueller MH Handels Gmb', 'Mueller Holding GmbH &',\n",
    "                                             'Norma',\n",
    "                                             'Globus SB-Warenhaus'\n",
    "                        )\n",
    "                    or left(lower(tx.merchant_name), 6) = 'famila'\n",
    "                )\n",
    "              and tx.type = 'AA'\n",
    "        ), atm_cashout as (\n",
    "            select\n",
    "                merchant_transactions.user_created,\n",
    "                tx_timestamp,\n",
    "                merchant_transactions.pwcb_amount,\n",
    "                zrh_card_transactions.amount_cents_eur / 100.0 as atm_amount\n",
    "            from merchant_transactions\n",
    "            left join dbt.zrh_card_transactions\n",
    "                      on merchant_transactions.user_created = zrh_card_transactions.user_created\n",
    "                          and zrh_card_transactions.card_tx_type = 'atm'\n",
    "                          and zrh_card_transactions.created >= merchant_transactions.tx_timestamp - interval '2 days'\n",
    "                          and zrh_card_transactions.created <= merchant_transactions.tx_timestamp + interval '2 days'\n",
    "        )\n",
    "        select\n",
    "            to_char(tx_timestamp, '\"CW \"iw') as pwcb_merchant_visit,\n",
    "            case\n",
    "                when atm_amount > 200 then 'ATM > 200'\n",
    "                when atm_amount <= 200 then 'ATM <= 200'\n",
    "                else 'Only PWCB'\n",
    "            end as atm_tx_amount,\n",
    "            count(*) as atm_transactions\n",
    "        from atm_cashout\n",
    "        where to_char(tx_timestamp, 'iyyy-iw') >= '2021-01'\n",
    "            and to_char(tx_timestamp, 'iyyy-iw') < to_char(current_date, 'iyyy-iw')\n",
    "        group by 1, 2\n",
    "    \"\"\",\n",
    ")"
   ]
  },
  {
   "cell_type": "code",
   "execution_count": 5,
   "id": "ca79b70a",
   "metadata": {},
   "outputs": [
    {
     "name": "stdout",
     "output_type": "stream",
     "text": [
      "{\"message\": \"started\", \"db\": \"redshiftreader\", \"name\": \"datalib-logger\", \"args\": [], \"levelname\": \"INFO\", \"pathname\": \"/usr/local/lib/python3.7/site-packages/datalib/database.py\", \"filename\": \"database.py\", \"module\": \"database\", \"lineno\": 121, \"funcName\": \"df_from_sql\", \"created\": \"20210617T050702\", \"processName\": \"MainProcess\", \"service\": \"fargo\", \"environment\": \"local\", \"loggerId\": \"58ed8bd6-d131-4ffa-a931-a5b250a884ca\", \"hostname\": \"172.19.0.4\"}\n",
      "{\"message\": \"success\", \"db\": \"redshiftreader\", \"duration\": 21.6046, \"name\": \"datalib-logger\", \"args\": [], \"levelname\": \"INFO\", \"pathname\": \"/usr/local/lib/python3.7/site-packages/datalib/database.py\", \"filename\": \"database.py\", \"module\": \"database\", \"lineno\": 131, \"funcName\": \"df_from_sql\", \"created\": \"20210617T050724\", \"processName\": \"MainProcess\", \"service\": \"fargo\", \"environment\": \"local\", \"loggerId\": \"58ed8bd6-d131-4ffa-a931-a5b250a884ca\", \"hostname\": \"172.19.0.4\"}\n"
     ]
    }
   ],
   "source": [
    "potential_customers_15days = df_from_sql(\n",
    "    \"redshiftreader\",\n",
    "    \"\"\"\n",
    "        with ad_processing_code_90000 as (\n",
    "            select\n",
    "                ad.id,\n",
    "                ad.processing_code,\n",
    "                ad.transaction_amount\n",
    "            from ad_transaction_requests ad\n",
    "            where ad.created > '2021-01-01'\n",
    "              and ad.processing_code = '90000'\n",
    "              and ad.message_type = 'AUTHORIZATION'\n",
    "        ),\n",
    "        merchant_transactions as (\n",
    "            select\n",
    "                user_created,\n",
    "                created as tx_timestamp,\n",
    "                ad.id is not null as pwcb_transaction\n",
    "            from dbt.zrh_card_transactions tx\n",
    "            left join ad_processing_code_90000 ad\n",
    "                on ad.id = tx.id\n",
    "            where tx.created > '2021-01-01'\n",
    "              and tx.merchant_country = 'DEU'\n",
    "              and (\n",
    "                        tx.merchant_name in (\n",
    "                                             'DM-Drogerie Markt', 'DM Drogerie Markt', 'DM-DROGERIE MARKT',\n",
    "                                             'Netto Marken-Discount',\n",
    "                                             'Mueller GmbH & Co.KG', 'Mueller MH Handels Gmb', 'Mueller Holding GmbH &',\n",
    "                                             'Norma',\n",
    "                                             'Globus SB-Warenhaus'\n",
    "                        )\n",
    "                    or left(lower(tx.merchant_name), 6) = 'famila'\n",
    "                )\n",
    "              and tx.type = 'AA'\n",
    "        ), potential_customers as (\n",
    "            select\n",
    "                merchant_transactions.user_created,\n",
    "                merchant_transactions.pwcb_transaction,\n",
    "                sum((zrh_card_transactions.user_created is not null)::int) > 0 as atm_transaction\n",
    "            from merchant_transactions\n",
    "            left join dbt.zrh_card_transactions\n",
    "                      on merchant_transactions.user_created = zrh_card_transactions.user_created\n",
    "                          and zrh_card_transactions.card_tx_type = 'atm'\n",
    "                          and zrh_card_transactions.created >= merchant_transactions.tx_timestamp - interval '15 days'\n",
    "                          and zrh_card_transactions.created <= merchant_transactions.tx_timestamp + interval '15 days'\n",
    "            group by 1, 2\n",
    "        ), customers_aggregated as (\n",
    "            select\n",
    "                user_created,\n",
    "                listagg(\n",
    "                    case\n",
    "                        when pwcb_transaction then 'PWCB'\n",
    "                        when not pwcb_transaction then 'No PWCB'\n",
    "                    end\n",
    "                    || ' ' ||\n",
    "                    case\n",
    "                        when atm_transaction then 'ATM'\n",
    "                        when not atm_transaction then 'No ATM'\n",
    "                    end\n",
    "                    ) as cash_out_event\n",
    "            from potential_customers\n",
    "            group by 1\n",
    "        )\n",
    "        select\n",
    "            case\n",
    "                when cash_out_event in (\n",
    "                                        'No PWCB ATMPWCB ATM', 'PWCB ATMNo PWCB ATM',\n",
    "                                        'PWCB ATMNo PWCB No ATM', 'PWCB ATM'\n",
    "                                       )\n",
    "                    then 'PWCB and ATM'\n",
    "                when cash_out_event in (\n",
    "                                        'PWCB No ATM', 'No PWCB ATMPWCB No ATM',\n",
    "                                        'No PWCB No ATMPWCB No ATM', 'PWCB No ATMNo PWCB No ATM'\n",
    "                                       )\n",
    "                    then 'PWCB'\n",
    "                when cash_out_event in ('No PWCB ATM')\n",
    "                    then 'ATM'\n",
    "            end as actions,\n",
    "            count(*)\n",
    "        from customers_aggregated\n",
    "        where cash_out_event != 'No PWCB No ATM'\n",
    "        group by 1\n",
    "    \"\"\",\n",
    ")"
   ]
  },
  {
   "cell_type": "code",
   "execution_count": 6,
   "id": "c011bd69",
   "metadata": {},
   "outputs": [
    {
     "name": "stdout",
     "output_type": "stream",
     "text": [
      "{\"message\": \"started\", \"db\": \"redshiftreader\", \"name\": \"datalib-logger\", \"args\": [], \"levelname\": \"INFO\", \"pathname\": \"/usr/local/lib/python3.7/site-packages/datalib/database.py\", \"filename\": \"database.py\", \"module\": \"database\", \"lineno\": 121, \"funcName\": \"df_from_sql\", \"created\": \"20210617T050729\", \"processName\": \"MainProcess\", \"service\": \"fargo\", \"environment\": \"local\", \"loggerId\": \"58ed8bd6-d131-4ffa-a931-a5b250a884ca\", \"hostname\": \"172.19.0.4\"}\n",
      "{\"message\": \"success\", \"db\": \"redshiftreader\", \"duration\": 17.4597, \"name\": \"datalib-logger\", \"args\": [], \"levelname\": \"INFO\", \"pathname\": \"/usr/local/lib/python3.7/site-packages/datalib/database.py\", \"filename\": \"database.py\", \"module\": \"database\", \"lineno\": 131, \"funcName\": \"df_from_sql\", \"created\": \"20210617T050746\", \"processName\": \"MainProcess\", \"service\": \"fargo\", \"environment\": \"local\", \"loggerId\": \"58ed8bd6-d131-4ffa-a931-a5b250a884ca\", \"hostname\": \"172.19.0.4\"}\n"
     ]
    }
   ],
   "source": [
    "potential_customers_2days = df_from_sql(\n",
    "    \"redshiftreader\",\n",
    "    \"\"\"\n",
    "        with ad_processing_code_90000 as (\n",
    "            select\n",
    "                ad.id,\n",
    "                ad.processing_code,\n",
    "                ad.transaction_amount\n",
    "            from ad_transaction_requests ad\n",
    "            where ad.created > '2021-01-01'\n",
    "              and ad.processing_code = '90000'\n",
    "              and ad.message_type = 'AUTHORIZATION'\n",
    "        ),\n",
    "        merchant_transactions as (\n",
    "            select\n",
    "                user_created,\n",
    "                created as tx_timestamp,\n",
    "                ad.id is not null as pwcb_transaction\n",
    "            from dbt.zrh_card_transactions tx\n",
    "            left join ad_processing_code_90000 ad\n",
    "                on ad.id = tx.id\n",
    "            where tx.created > '2021-01-01'\n",
    "              and tx.merchant_country = 'DEU'\n",
    "              and (\n",
    "                        tx.merchant_name in (\n",
    "                                             'DM-Drogerie Markt', 'DM Drogerie Markt', 'DM-DROGERIE MARKT',\n",
    "                                             'Netto Marken-Discount',\n",
    "                                             'Mueller GmbH & Co.KG', 'Mueller MH Handels Gmb', 'Mueller Holding GmbH &',\n",
    "                                             'Norma',\n",
    "                                             'Globus SB-Warenhaus'\n",
    "                        )\n",
    "                    or left(lower(tx.merchant_name), 6) = 'famila'\n",
    "                )\n",
    "              and tx.type = 'AA'\n",
    "        ), potential_customers as (\n",
    "            select\n",
    "                merchant_transactions.user_created,\n",
    "                merchant_transactions.pwcb_transaction,\n",
    "                sum((zrh_card_transactions.user_created is not null)::int) > 0 as atm_transaction\n",
    "            from merchant_transactions\n",
    "            left join dbt.zrh_card_transactions\n",
    "                      on merchant_transactions.user_created = zrh_card_transactions.user_created\n",
    "                          and zrh_card_transactions.card_tx_type = 'atm'\n",
    "                          and zrh_card_transactions.created >= merchant_transactions.tx_timestamp - interval '2 days'\n",
    "                          and zrh_card_transactions.created <= merchant_transactions.tx_timestamp + interval '2 days'\n",
    "            group by 1, 2\n",
    "        ), customers_aggregated as (\n",
    "            select\n",
    "                user_created,\n",
    "                listagg(\n",
    "                    case\n",
    "                        when pwcb_transaction then 'PWCB'\n",
    "                        when not pwcb_transaction then 'No PWCB'\n",
    "                    end\n",
    "                    || ' ' ||\n",
    "                    case\n",
    "                        when atm_transaction then 'ATM'\n",
    "                        when not atm_transaction then 'No ATM'\n",
    "                    end\n",
    "                    ) as cash_out_event\n",
    "            from potential_customers\n",
    "            group by 1\n",
    "        )\n",
    "        select\n",
    "            case\n",
    "                when cash_out_event in (\n",
    "                                        'No PWCB ATMPWCB ATM', 'PWCB ATMNo PWCB ATM',\n",
    "                                        'PWCB ATMNo PWCB No ATM', 'PWCB ATM'\n",
    "                                       )\n",
    "                    then 'PWCB and ATM'\n",
    "                when cash_out_event in (\n",
    "                                        'PWCB No ATM', 'No PWCB ATMPWCB No ATM',\n",
    "                                        'No PWCB No ATMPWCB No ATM', 'PWCB No ATMNo PWCB No ATM'\n",
    "                                       )\n",
    "                    then 'PWCB'\n",
    "                when cash_out_event in ('No PWCB ATM')\n",
    "                    then 'ATM'\n",
    "            end as actions,\n",
    "            count(*)\n",
    "        from customers_aggregated\n",
    "        where cash_out_event != 'No PWCB No ATM'\n",
    "        group by 1\n",
    "    \"\"\",\n",
    ")"
   ]
  },
  {
   "cell_type": "code",
   "execution_count": 7,
   "id": "9234b294",
   "metadata": {},
   "outputs": [
    {
     "name": "stdout",
     "output_type": "stream",
     "text": [
      "{\"message\": \"started\", \"db\": \"redshiftreader\", \"name\": \"datalib-logger\", \"args\": [], \"levelname\": \"INFO\", \"pathname\": \"/usr/local/lib/python3.7/site-packages/datalib/database.py\", \"filename\": \"database.py\", \"module\": \"database\", \"lineno\": 121, \"funcName\": \"df_from_sql\", \"created\": \"20210617T050747\", \"processName\": \"MainProcess\", \"service\": \"fargo\", \"environment\": \"local\", \"loggerId\": \"58ed8bd6-d131-4ffa-a931-a5b250a884ca\", \"hostname\": \"172.19.0.4\"}\n",
      "{\"message\": \"success\", \"db\": \"redshiftreader\", \"duration\": 19.6779, \"name\": \"datalib-logger\", \"args\": [], \"levelname\": \"INFO\", \"pathname\": \"/usr/local/lib/python3.7/site-packages/datalib/database.py\", \"filename\": \"database.py\", \"module\": \"database\", \"lineno\": 131, \"funcName\": \"df_from_sql\", \"created\": \"20210617T050807\", \"processName\": \"MainProcess\", \"service\": \"fargo\", \"environment\": \"local\", \"loggerId\": \"58ed8bd6-d131-4ffa-a931-a5b250a884ca\", \"hostname\": \"172.19.0.4\"}\n"
     ]
    }
   ],
   "source": [
    "cst_product = df_from_sql(\n",
    "    \"redshiftreader\",\n",
    "    \"\"\"\n",
    "        with ad_processing_code_90000 as (\n",
    "            select\n",
    "                ad.id,\n",
    "                ad.processing_code,\n",
    "                ad.transaction_amount\n",
    "            from ad_transaction_requests ad\n",
    "            where ad.created > '2021-01-01'\n",
    "              and ad.processing_code = '90000'\n",
    "              and ad.message_type = 'AUTHORIZATION'\n",
    "        ),\n",
    "        merchant_transactions as (\n",
    "            select\n",
    "                user_created,\n",
    "                created as tx_timestamp,\n",
    "                ad.id is not null as pwcb_transaction,\n",
    "                amount_cents_eur >= 2000 as purchase_over_20_eur\n",
    "            from dbt.zrh_card_transactions tx\n",
    "            left join ad_processing_code_90000 ad\n",
    "                on ad.id = tx.id\n",
    "            where tx.created > '2021-01-01'\n",
    "              and tx.merchant_country = 'DEU'\n",
    "              and (\n",
    "                        tx.merchant_name in (\n",
    "                                             'DM-Drogerie Markt', 'DM Drogerie Markt', 'DM-DROGERIE MARKT',\n",
    "                                             'Netto Marken-Discount',\n",
    "                                             'Mueller GmbH & Co.KG', 'Mueller MH Handels Gmb', 'Mueller Holding GmbH &',\n",
    "                                             'Norma',\n",
    "                                             'Globus SB-Warenhaus'\n",
    "                        )\n",
    "                    or left(lower(tx.merchant_name), 6) = 'famila'\n",
    "                )\n",
    "              and tx.type = 'AA'\n",
    "        ), potential_customers as (\n",
    "            select\n",
    "                merchant_transactions.user_created,\n",
    "                merchant_transactions.pwcb_transaction,\n",
    "                merchant_transactions.purchase_over_20_eur,\n",
    "                zrh_card_transactions.amount_cents_eur <= 20000 as atm_less_than_200,\n",
    "                sum((zrh_card_transactions.user_created is not null)::int) > 0 as atm_transaction\n",
    "            from merchant_transactions\n",
    "            left join dbt.zrh_card_transactions\n",
    "                      on merchant_transactions.user_created = zrh_card_transactions.user_created\n",
    "                          and zrh_card_transactions.card_tx_type = 'atm'\n",
    "                          and zrh_card_transactions.created >= merchant_transactions.tx_timestamp - interval '2 days'\n",
    "                          and zrh_card_transactions.created <= merchant_transactions.tx_timestamp + interval '2 days'\n",
    "            group by 1, 2, 3, 4\n",
    "        ), customers_aggregated as (\n",
    "            select\n",
    "                user_created,\n",
    "                zrh_users.product_id,\n",
    "                zrh_users.is_premium,\n",
    "                purchase_over_20_eur,\n",
    "                atm_less_than_200,\n",
    "                listagg(\n",
    "                    case\n",
    "                        when pwcb_transaction then 'PWCB'\n",
    "                        when not pwcb_transaction then 'No PWCB'\n",
    "                    end\n",
    "                    || ' ' ||\n",
    "                    case\n",
    "                        when atm_transaction then 'ATM'\n",
    "                        when not atm_transaction then 'No ATM'\n",
    "                    end\n",
    "                    ) as cash_out_event\n",
    "            from potential_customers\n",
    "            left join dbt.zrh_users\n",
    "                using(user_created)\n",
    "            group by 1, 2, 3, 4, 5\n",
    "        )\n",
    "        select\n",
    "            case\n",
    "                when product_id in ('STANDARD', 'BUSINESS_CARD') or product_id is null then 'Standard'\n",
    "                when is_premium then 'Premium'\n",
    "                else 'Flex'\n",
    "            end as subscription,\n",
    "            case\n",
    "                when cash_out_event = ('No PWCB ATM')  then 'ATM'\n",
    "                else 'PWCB'\n",
    "            end as actions,\n",
    "            count(*)\n",
    "        from customers_aggregated\n",
    "        where cash_out_event != 'No PWCB No ATM'\n",
    "            and (\n",
    "                cash_out_event != 'No PWCB ATM'\n",
    "                or (purchase_over_20_eur and atm_less_than_200)\n",
    "            )\n",
    "        group by 1, 2\n",
    "    \"\"\",\n",
    ")"
   ]
  },
  {
   "cell_type": "code",
   "execution_count": 8,
   "id": "f7ce8cb5",
   "metadata": {},
   "outputs": [
    {
     "name": "stdout",
     "output_type": "stream",
     "text": [
      "{\"message\": \"started\", \"db\": \"redshiftreader\", \"name\": \"datalib-logger\", \"args\": [], \"levelname\": \"INFO\", \"pathname\": \"/usr/local/lib/python3.7/site-packages/datalib/database.py\", \"filename\": \"database.py\", \"module\": \"database\", \"lineno\": 121, \"funcName\": \"df_from_sql\", \"created\": \"20210617T050811\", \"processName\": \"MainProcess\", \"service\": \"fargo\", \"environment\": \"local\", \"loggerId\": \"58ed8bd6-d131-4ffa-a931-a5b250a884ca\", \"hostname\": \"172.19.0.4\"}\n",
      "{\"message\": \"success\", \"db\": \"redshiftreader\", \"duration\": 13.3235, \"name\": \"datalib-logger\", \"args\": [], \"levelname\": \"INFO\", \"pathname\": \"/usr/local/lib/python3.7/site-packages/datalib/database.py\", \"filename\": \"database.py\", \"module\": \"database\", \"lineno\": 131, \"funcName\": \"df_from_sql\", \"created\": \"20210617T050824\", \"processName\": \"MainProcess\", \"service\": \"fargo\", \"environment\": \"local\", \"loggerId\": \"58ed8bd6-d131-4ffa-a931-a5b250a884ca\", \"hostname\": \"172.19.0.4\"}\n"
     ]
    }
   ],
   "source": [
    "cst_base = df_from_sql(\n",
    "    \"redshiftreader\",\n",
    "    \"\"\"\n",
    "        select \n",
    "            case\n",
    "                when product_id in ('STANDARD', 'BUSINESS_CARD') or product_id is null then 'Standard'\n",
    "                when is_premium then 'Premium'\n",
    "                else 'Flex'\n",
    "            end as subscription,\n",
    "            'MAUs' as actions,\n",
    "            count(*)\n",
    "        from dbt.zrh_users \n",
    "        where closed_at is null and is_mau\n",
    "        group by 1, 2\n",
    "    \"\"\",\n",
    ")"
   ]
  },
  {
   "cell_type": "code",
   "execution_count": 9,
   "id": "65a050a6",
   "metadata": {},
   "outputs": [
    {
     "name": "stdout",
     "output_type": "stream",
     "text": [
      "{\"message\": \"started\", \"db\": \"redshiftreader\", \"name\": \"datalib-logger\", \"args\": [], \"levelname\": \"INFO\", \"pathname\": \"/usr/local/lib/python3.7/site-packages/datalib/database.py\", \"filename\": \"database.py\", \"module\": \"database\", \"lineno\": 121, \"funcName\": \"df_from_sql\", \"created\": \"20210617T050826\", \"processName\": \"MainProcess\", \"service\": \"fargo\", \"environment\": \"local\", \"loggerId\": \"58ed8bd6-d131-4ffa-a931-a5b250a884ca\", \"hostname\": \"172.19.0.4\"}\n",
      "{\"message\": \"success\", \"db\": \"redshiftreader\", \"duration\": 19.0065, \"name\": \"datalib-logger\", \"args\": [], \"levelname\": \"INFO\", \"pathname\": \"/usr/local/lib/python3.7/site-packages/datalib/database.py\", \"filename\": \"database.py\", \"module\": \"database\", \"lineno\": 131, \"funcName\": \"df_from_sql\", \"created\": \"20210617T050845\", \"processName\": \"MainProcess\", \"service\": \"fargo\", \"environment\": \"local\", \"loggerId\": \"58ed8bd6-d131-4ffa-a931-a5b250a884ca\", \"hostname\": \"172.19.0.4\"}\n"
     ]
    }
   ],
   "source": [
    "pot_cst_dd = df_from_sql(\n",
    "    \"redshiftreader\",\n",
    "    \"\"\"\n",
    "        with ad_processing_code_90000 as (\n",
    "            select\n",
    "                ad.id,\n",
    "                ad.processing_code,\n",
    "                ad.transaction_amount\n",
    "            from ad_transaction_requests ad\n",
    "            where ad.created > '2021-01-01'\n",
    "              and ad.processing_code = '90000'\n",
    "              and ad.message_type = 'AUTHORIZATION'\n",
    "        ),\n",
    "        merchant_transactions as (\n",
    "            select\n",
    "                user_created,\n",
    "                created as tx_timestamp,\n",
    "                amount_cents_eur >= 2000 as purchase_over_20_eur\n",
    "            from dbt.zrh_card_transactions tx\n",
    "            left join ad_processing_code_90000 ad\n",
    "                on ad.id = tx.id\n",
    "            where tx.created > '2021-01-01'\n",
    "              and tx.merchant_country = 'DEU'\n",
    "              and (\n",
    "                        tx.merchant_name in (\n",
    "                                             'DM-Drogerie Markt', 'DM Drogerie Markt', 'DM-DROGERIE MARKT',\n",
    "                                             'Netto Marken-Discount',\n",
    "                                             'Mueller GmbH & Co.KG', 'Mueller MH Handels Gmb', 'Mueller Holding GmbH &',\n",
    "                                             'Norma',\n",
    "                                             'Globus SB-Warenhaus'\n",
    "                        )\n",
    "                    or left(lower(tx.merchant_name), 6) = 'famila'\n",
    "                )\n",
    "              and tx.type = 'AA'\n",
    "              and ad.id is null\n",
    "        ), potential_customers as (\n",
    "            select\n",
    "                merchant_transactions.user_created,\n",
    "                merchant_transactions.tx_timestamp,\n",
    "                merchant_transactions.purchase_over_20_eur,\n",
    "                zrh_card_transactions.amount_cents_eur <= 20000 as atm_less_than_200\n",
    "            from merchant_transactions\n",
    "            inner join dbt.zrh_card_transactions\n",
    "                      on merchant_transactions.user_created = zrh_card_transactions.user_created\n",
    "                          and zrh_card_transactions.card_tx_type = 'atm'\n",
    "                          and zrh_card_transactions.created >= merchant_transactions.tx_timestamp - interval '2 days'\n",
    "                          and zrh_card_transactions.created <= merchant_transactions.tx_timestamp + interval '2 days'\n",
    "        )\n",
    "        select\n",
    "            to_char(tx_timestamp, '\"CW \"iw') as pwcb_merchant_visit,\n",
    "            case\n",
    "                when atm_less_than_200 then\n",
    "                    case\n",
    "                        when purchase_over_20_eur then 'Potential PWCB'\n",
    "                        else 'Purchase under 20'\n",
    "                    end\n",
    "                else 'ATM over 200'\n",
    "            end as situation,\n",
    "            count(*)\n",
    "        from potential_customers\n",
    "        where to_char(tx_timestamp, 'iyyy-iw') >= '2021-01'\n",
    "            and to_char(tx_timestamp, 'iyyy-iw') < to_char(current_date, 'iyyy-iw')\n",
    "        group by 1, 2\n",
    "    \"\"\",\n",
    ")"
   ]
  },
  {
   "cell_type": "code",
   "execution_count": 10,
   "id": "aa8e8caa",
   "metadata": {},
   "outputs": [
    {
     "name": "stdout",
     "output_type": "stream",
     "text": [
      "{\"message\": \"started\", \"db\": \"redshiftreader\", \"name\": \"datalib-logger\", \"args\": [], \"levelname\": \"INFO\", \"pathname\": \"/usr/local/lib/python3.7/site-packages/datalib/database.py\", \"filename\": \"database.py\", \"module\": \"database\", \"lineno\": 121, \"funcName\": \"df_from_sql\", \"created\": \"20210617T050848\", \"processName\": \"MainProcess\", \"service\": \"fargo\", \"environment\": \"local\", \"loggerId\": \"58ed8bd6-d131-4ffa-a931-a5b250a884ca\", \"hostname\": \"172.19.0.4\"}\n",
      "{\"message\": \"success\", \"db\": \"redshiftreader\", \"duration\": 30.4677, \"name\": \"datalib-logger\", \"args\": [], \"levelname\": \"INFO\", \"pathname\": \"/usr/local/lib/python3.7/site-packages/datalib/database.py\", \"filename\": \"database.py\", \"module\": \"database\", \"lineno\": 131, \"funcName\": \"df_from_sql\", \"created\": \"20210617T050918\", \"processName\": \"MainProcess\", \"service\": \"fargo\", \"environment\": \"local\", \"loggerId\": \"58ed8bd6-d131-4ffa-a931-a5b250a884ca\", \"hostname\": \"172.19.0.4\"}\n"
     ]
    }
   ],
   "source": [
    "pot_cst_volume = df_from_sql(\n",
    "    \"redshiftreader\",\n",
    "    \"\"\"\n",
    "        with ad_processing_code_90000 as (\n",
    "            select\n",
    "                ad.id,\n",
    "                ad.processing_code,\n",
    "                ad.transaction_amount\n",
    "            from ad_transaction_requests ad\n",
    "            where ad.created > '2021-01-01'\n",
    "              and ad.processing_code = '90000'\n",
    "              and ad.message_type = 'AUTHORIZATION'\n",
    "        ),\n",
    "        merchant_transactions as (\n",
    "            select\n",
    "                user_created,\n",
    "                created as tx_timestamp\n",
    "            from dbt.zrh_card_transactions tx\n",
    "            left join ad_processing_code_90000 ad\n",
    "                on ad.id = tx.id\n",
    "            where tx.created > '2021-01-01'\n",
    "              and tx.merchant_country = 'DEU'\n",
    "              and (\n",
    "                        tx.merchant_name in (\n",
    "                                             'DM-Drogerie Markt', 'DM Drogerie Markt', 'DM-DROGERIE MARKT',\n",
    "                                             'Netto Marken-Discount',\n",
    "                                             'Mueller GmbH & Co.KG', 'Mueller MH Handels Gmb', 'Mueller Holding GmbH &',\n",
    "                                             'Norma',\n",
    "                                             'Globus SB-Warenhaus'\n",
    "                        )\n",
    "                    or left(lower(tx.merchant_name), 6) = 'famila'\n",
    "                )\n",
    "              and tx.type = 'AA'\n",
    "              and ad.id is null\n",
    "              and amount_cents_eur >= 2000\n",
    "        ), potential_customers as (\n",
    "            select\n",
    "                merchant_transactions.user_created,\n",
    "                merchant_transactions.tx_timestamp,\n",
    "                zrh_card_transactions.amount_cents_eur / 100.0 as atm_volume\n",
    "            from merchant_transactions\n",
    "            inner join dbt.zrh_card_transactions\n",
    "                      on merchant_transactions.user_created = zrh_card_transactions.user_created\n",
    "                          and zrh_card_transactions.card_tx_type = 'atm'\n",
    "                          and zrh_card_transactions.created >= merchant_transactions.tx_timestamp - interval '2 days'\n",
    "                          and zrh_card_transactions.created <= merchant_transactions.tx_timestamp + interval '2 days'\n",
    "                          and amount_cents_eur <= 20000\n",
    "        )\n",
    "        select\n",
    "            to_char(tx_timestamp, '\"CW \"iw') as pwcb_merchant_visit,\n",
    "            sum(atm_volume),\n",
    "            count(*) as atm_transactions\n",
    "        from potential_customers\n",
    "        where to_char(tx_timestamp, 'iyyy-iw') >= '2021-01'\n",
    "            and to_char(tx_timestamp, 'iyyy-iw') < to_char(current_date, 'iyyy-iw')\n",
    "        group by 1\n",
    "    \"\"\",\n",
    ")"
   ]
  },
  {
   "cell_type": "markdown",
   "id": "014e82d9",
   "metadata": {},
   "source": [
    "# Pay with cashback (PWCB) numbers for business case\n",
    "Vladas Jankus<br/>\n",
    "2021-06-16\n",
    "\n",
    "### Contents:\n",
    "* [1. TL;DR](#1)\n",
    "* [2. PWCB Merchants](#2)\n",
    "* [3. Potential Customers](#3)\n",
    "* [4. PWCB user deep-dive](#4)\n",
    "* [5. Potential customer deep-dive](#5)\n",
    "* [6. Customer subscriptions](#6)\n",
    "* [7. Conclusion](#7)"
   ]
  },
  {
   "cell_type": "markdown",
   "id": "9c19473a",
   "metadata": {},
   "source": [
    "## 1. TL;DR <a class=\"anchor\" id=\"1\"></a>"
   ]
  },
  {
   "cell_type": "markdown",
   "id": "0b8c1b4e",
   "metadata": {},
   "source": [
    "Customers are able to cash out up to 200 Eur when buying over 20 Eur with certain merchants. This outlook focused on German market. Main objective was to quantify potential customers who could switch from ATM to PWCB. Main motivation is that PWCB cashouts do not have a cost for N26.\n",
    "\n",
    "Since the start of 2021, there were around 2k customers who used PWCB in Germany. There were 109k customers who visited these merchants, but did not use PWCB and cashed out at ATM 2 days before or after the visit. Out of these, about 30% comply with minimum purchase (20 Eur) or maximum cashout (200 Eur) requirement.\n",
    "\n",
    "Weekly, there are around 5k potential customers who don't use PWCB, but visit these merchants, spend over 20 EUR and then cashout < 200 EUR at ATMs. They make around 9k cashouts (at ATMs) weekly. Roughly calculated - if we could make 30% of potential customers to use PWCB, we could expect around 1.8k transactions and 150k EUR weekly to switch from ATM to PWCB."
   ]
  },
  {
   "cell_type": "markdown",
   "id": "b0b82db5",
   "metadata": {},
   "source": [
    "## 2. PWCB Merchants <a class=\"anchor\" id=\"2\"></a>"
   ]
  },
  {
   "cell_type": "markdown",
   "id": "fdd17177",
   "metadata": {},
   "source": [
    "First let's look at how many PWCB transactions we do have since the start of 2021. Below is a table of top merchants in terms of PWCB transactions. Some merchant names that have distinct store names were grouped together (e.g. DM versions are grouped under one name).\n",
    "\n",
    "Since we are focusing on DEU market, it's only DEU merchants taken in here."
   ]
  },
  {
   "cell_type": "code",
   "execution_count": 11,
   "id": "91921b78",
   "metadata": {
    "scrolled": true
   },
   "outputs": [
    {
     "name": "stdout",
     "output_type": "stream",
     "text": [
      "Table1: German PWCB merchants\n"
     ]
    },
    {
     "data": {
      "text/html": [
       "<style  type=\"text/css\" >\n",
       "</style><table id=\"T_b20e5_\" ><thead>    <tr>        <th class=\"col_heading level0 col0\" >merchant_name</th>        <th class=\"col_heading level0 col1\" >pwcb_transactions</th>        <th class=\"col_heading level0 col2\" >transactions</th>        <th class=\"col_heading level0 col3\" >pwcb_percentage</th>    </tr></thead><tbody>\n",
       "                <tr>\n",
       "                                <td id=\"T_b20e5_row0_col0\" class=\"data row0 col0\" >DM Drogerie Markt</td>\n",
       "                        <td id=\"T_b20e5_row0_col1\" class=\"data row0 col1\" >1995</td>\n",
       "                        <td id=\"T_b20e5_row0_col2\" class=\"data row0 col2\" >767376</td>\n",
       "                        <td id=\"T_b20e5_row0_col3\" class=\"data row0 col3\" >0.26%</td>\n",
       "            </tr>\n",
       "            <tr>\n",
       "                                <td id=\"T_b20e5_row1_col0\" class=\"data row1 col0\" >Netto Marken-Discount</td>\n",
       "                        <td id=\"T_b20e5_row1_col1\" class=\"data row1 col1\" >1390</td>\n",
       "                        <td id=\"T_b20e5_row1_col2\" class=\"data row1 col2\" >767304</td>\n",
       "                        <td id=\"T_b20e5_row1_col3\" class=\"data row1 col3\" >0.18%</td>\n",
       "            </tr>\n",
       "            <tr>\n",
       "                                <td id=\"T_b20e5_row2_col0\" class=\"data row2 col0\" >Mueller</td>\n",
       "                        <td id=\"T_b20e5_row2_col1\" class=\"data row2 col1\" >117</td>\n",
       "                        <td id=\"T_b20e5_row2_col2\" class=\"data row2 col2\" >104892</td>\n",
       "                        <td id=\"T_b20e5_row2_col3\" class=\"data row2 col3\" >0.11%</td>\n",
       "            </tr>\n",
       "            <tr>\n",
       "                                <td id=\"T_b20e5_row3_col0\" class=\"data row3 col0\" >FAMILIA</td>\n",
       "                        <td id=\"T_b20e5_row3_col1\" class=\"data row3 col1\" >112</td>\n",
       "                        <td id=\"T_b20e5_row3_col2\" class=\"data row3 col2\" >39909</td>\n",
       "                        <td id=\"T_b20e5_row3_col3\" class=\"data row3 col3\" >0.28%</td>\n",
       "            </tr>\n",
       "            <tr>\n",
       "                                <td id=\"T_b20e5_row4_col0\" class=\"data row4 col0\" >Norma</td>\n",
       "                        <td id=\"T_b20e5_row4_col1\" class=\"data row4 col1\" >75</td>\n",
       "                        <td id=\"T_b20e5_row4_col2\" class=\"data row4 col2\" >86735</td>\n",
       "                        <td id=\"T_b20e5_row4_col3\" class=\"data row4 col3\" >0.09%</td>\n",
       "            </tr>\n",
       "            <tr>\n",
       "                                <td id=\"T_b20e5_row5_col0\" class=\"data row5 col0\" >Globus SB-Warenhaus</td>\n",
       "                        <td id=\"T_b20e5_row5_col1\" class=\"data row5 col1\" >56</td>\n",
       "                        <td id=\"T_b20e5_row5_col2\" class=\"data row5 col2\" >40725</td>\n",
       "                        <td id=\"T_b20e5_row5_col3\" class=\"data row5 col3\" >0.14%</td>\n",
       "            </tr>\n",
       "    </tbody></table>"
      ],
      "text/plain": [
       "<pandas.io.formats.style.Styler at 0x7fe70aa4c358>"
      ]
     },
     "execution_count": 11,
     "metadata": {},
     "output_type": "execute_result"
    }
   ],
   "source": [
    "print(\"Table1: German PWCB merchants\")\n",
    "top_merchants.style.hide_index()"
   ]
  },
  {
   "cell_type": "markdown",
   "id": "f71d3d30",
   "metadata": {},
   "source": [
    "Table also includes the count of non-PWCB transactions in 2021. PWCB in all of them make up less than 1%, but there are differences in ratios. Possibly there are opportunities in raising awareness that customers can cash out in some of these merchants."
   ]
  },
  {
   "cell_type": "markdown",
   "id": "803ecc6d",
   "metadata": {},
   "source": [
    "## 3. Potential customers  <a class=\"anchor\" id=\"3\"></a>"
   ]
  },
  {
   "cell_type": "markdown",
   "id": "8121291d",
   "metadata": {},
   "source": [
    "Let's look at how many customers we have who visited these merchants did not use PWCB, but did an ATM transaction 15 days before or 15 days after. Data is since 2021-01-01. See table below:"
   ]
  },
  {
   "cell_type": "code",
   "execution_count": 12,
   "id": "de5b0af9",
   "metadata": {},
   "outputs": [
    {
     "name": "stdout",
     "output_type": "stream",
     "text": [
      "Table2: Customers who went to PWCB merchants in 2021 and used ATM 15 days around the visit\n"
     ]
    },
    {
     "data": {
      "text/html": [
       "<style  type=\"text/css\" >\n",
       "</style><table id=\"T_94df7_\" ><thead>    <tr>        <th class=\"col_heading level0 col0\" >actions</th>        <th class=\"col_heading level0 col1\" >count</th>    </tr></thead><tbody>\n",
       "                <tr>\n",
       "                                <td id=\"T_94df7_row0_col0\" class=\"data row0 col0\" >PWCB and ATM</td>\n",
       "                        <td id=\"T_94df7_row0_col1\" class=\"data row0 col1\" >1444</td>\n",
       "            </tr>\n",
       "            <tr>\n",
       "                                <td id=\"T_94df7_row1_col0\" class=\"data row1 col0\" >ATM</td>\n",
       "                        <td id=\"T_94df7_row1_col1\" class=\"data row1 col1\" >164052</td>\n",
       "            </tr>\n",
       "            <tr>\n",
       "                                <td id=\"T_94df7_row2_col0\" class=\"data row2 col0\" >PWCB</td>\n",
       "                        <td id=\"T_94df7_row2_col1\" class=\"data row2 col1\" >828</td>\n",
       "            </tr>\n",
       "    </tbody></table>"
      ],
      "text/plain": [
       "<pandas.io.formats.style.Styler at 0x7fe707d1c908>"
      ]
     },
     "execution_count": 12,
     "metadata": {},
     "output_type": "execute_result"
    }
   ],
   "source": [
    "print(\n",
    "    \"Table2: Customers who went to PWCB merchants in 2021 and used ATM 15 days around the visit\"\n",
    ")\n",
    "potential_customers_15days.style.hide_index()"
   ]
  },
  {
   "cell_type": "markdown",
   "id": "81bcce78",
   "metadata": {},
   "source": [
    "15 Days around the merchant visit appears to be too large of a period. 1444 customers who used PWCB also used an ATM and only 828 customers used only PWCB. There were 164k customers, who went to an ATM 15 days around their purchase with a PWCB merchant.\n",
    "\n",
    "It's difficult to claim, that a customer who went to an ATM several days later could have cashed out at PWCB merchant. Therefore I would suggest to cut the 15 day period down to 2 days. See table below: <a class=\"anchor\" id=\"table3\"></a>"
   ]
  },
  {
   "cell_type": "code",
   "execution_count": 13,
   "id": "4667a114",
   "metadata": {
    "scrolled": false
   },
   "outputs": [
    {
     "name": "stdout",
     "output_type": "stream",
     "text": [
      "Table3: Customers who went to PWCB merchants in 2021 and used ATM 2 days around the visit\n"
     ]
    },
    {
     "data": {
      "text/html": [
       "<style  type=\"text/css\" >\n",
       "</style><table id=\"T_b44dd_\" ><thead>    <tr>        <th class=\"col_heading level0 col0\" >actions</th>        <th class=\"col_heading level0 col1\" >count</th>    </tr></thead><tbody>\n",
       "                <tr>\n",
       "                                <td id=\"T_b44dd_row0_col0\" class=\"data row0 col0\" >PWCB and ATM</td>\n",
       "                        <td id=\"T_b44dd_row0_col1\" class=\"data row0 col1\" >606</td>\n",
       "            </tr>\n",
       "            <tr>\n",
       "                                <td id=\"T_b44dd_row1_col0\" class=\"data row1 col0\" >PWCB</td>\n",
       "                        <td id=\"T_b44dd_row1_col1\" class=\"data row1 col1\" >1666</td>\n",
       "            </tr>\n",
       "            <tr>\n",
       "                                <td id=\"T_b44dd_row2_col0\" class=\"data row2 col0\" >ATM</td>\n",
       "                        <td id=\"T_b44dd_row2_col1\" class=\"data row2 col1\" >115330</td>\n",
       "            </tr>\n",
       "    </tbody></table>"
      ],
      "text/plain": [
       "<pandas.io.formats.style.Styler at 0x7fe707d26860>"
      ]
     },
     "execution_count": 13,
     "metadata": {},
     "output_type": "execute_result"
    }
   ],
   "source": [
    "print(\n",
    "    \"Table3: Customers who went to PWCB merchants in 2021 and used ATM 2 days around the visit\"\n",
    ")\n",
    "potential_customers_2days.style.hide_index()"
   ]
  },
  {
   "cell_type": "markdown",
   "id": "e260a454",
   "metadata": {},
   "source": [
    "A lot less customers who used PWCB also went to ATM, which shows us that +/-2 day window is a lot more realistic. \n",
    "\n",
    "There were 115k customers who went to an ATM 2 days around purchasing with a PWCB merchant. This number includes the target customers and is broken down further in [potential customer deep dive](#5)."
   ]
  },
  {
   "cell_type": "markdown",
   "id": "4f61788e",
   "metadata": {},
   "source": [
    "## 4. PWCB user deep-dive <a class=\"anchor\" id=\"4\"></a>"
   ]
  },
  {
   "cell_type": "markdown",
   "id": "57755746",
   "metadata": {},
   "source": [
    "In this section we will briefly look at customers who are already using PWCB. A chart below displays unique customer count and volumes they used with PWCB. Please note that it's not possible to distinguish the exact amount cashed out from the whole PWCB transaction, so for estimation purposes I have deducted the minimum 20 EUR, and left the rest as a cash out."
   ]
  },
  {
   "cell_type": "code",
   "execution_count": 14,
   "id": "59859f22",
   "metadata": {},
   "outputs": [
    {
     "data": {
      "text/html": [
       "\n",
       "<div id=\"altair-viz-e1e213c920764fd1a13efd7f8fbb025a\"></div>\n",
       "<script type=\"text/javascript\">\n",
       "  (function(spec, embedOpt){\n",
       "    let outputDiv = document.currentScript.previousElementSibling;\n",
       "    if (outputDiv.id !== \"altair-viz-e1e213c920764fd1a13efd7f8fbb025a\") {\n",
       "      outputDiv = document.getElementById(\"altair-viz-e1e213c920764fd1a13efd7f8fbb025a\");\n",
       "    }\n",
       "    const paths = {\n",
       "      \"vega\": \"https://cdn.jsdelivr.net/npm//vega@5?noext\",\n",
       "      \"vega-lib\": \"https://cdn.jsdelivr.net/npm//vega-lib?noext\",\n",
       "      \"vega-lite\": \"https://cdn.jsdelivr.net/npm//vega-lite@4.8.1?noext\",\n",
       "      \"vega-embed\": \"https://cdn.jsdelivr.net/npm//vega-embed@6?noext\",\n",
       "    };\n",
       "\n",
       "    function loadScript(lib) {\n",
       "      return new Promise(function(resolve, reject) {\n",
       "        var s = document.createElement('script');\n",
       "        s.src = paths[lib];\n",
       "        s.async = true;\n",
       "        s.onload = () => resolve(paths[lib]);\n",
       "        s.onerror = () => reject(`Error loading script: ${paths[lib]}`);\n",
       "        document.getElementsByTagName(\"head\")[0].appendChild(s);\n",
       "      });\n",
       "    }\n",
       "\n",
       "    function showError(err) {\n",
       "      outputDiv.innerHTML = `<div class=\"error\" style=\"color:red;\">${err}</div>`;\n",
       "      throw err;\n",
       "    }\n",
       "\n",
       "    function displayChart(vegaEmbed) {\n",
       "      vegaEmbed(outputDiv, spec, embedOpt)\n",
       "        .catch(err => showError(`Javascript Error: ${err.message}<br>This usually means there's a typo in your chart specification. See the javascript console for the full traceback.`));\n",
       "    }\n",
       "\n",
       "    if(typeof define === \"function\" && define.amd) {\n",
       "      requirejs.config({paths});\n",
       "      require([\"vega-embed\"], displayChart, err => showError(`Error loading script: ${err.message}`));\n",
       "    } else if (typeof vegaEmbed === \"function\") {\n",
       "      displayChart(vegaEmbed);\n",
       "    } else {\n",
       "      loadScript(\"vega\")\n",
       "        .then(() => loadScript(\"vega-lite\"))\n",
       "        .then(() => loadScript(\"vega-embed\"))\n",
       "        .catch(showError)\n",
       "        .then(() => displayChart(vegaEmbed));\n",
       "    }\n",
       "  })({\"config\": {\"view\": {\"continuousWidth\": 400, \"continuousHeight\": 300}}, \"layer\": [{\"mark\": {\"type\": \"bar\", \"color\": \"#5677A4\", \"opacity\": 0.7}, \"encoding\": {\"x\": {\"type\": \"ordinal\", \"axis\": {\"title\": null}, \"field\": \"pwcb_merchant_visit\"}, \"y\": {\"type\": \"quantitative\", \"axis\": {\"title\": \"Weekly transactions\", \"titleColor\": \"#5677A4\"}, \"field\": \"transactions\", \"scale\": {\"domain\": [0, 300]}}}}, {\"mark\": {\"type\": \"line\", \"interpolate\": \"monotone\", \"stroke\": \"#E68B39\"}, \"encoding\": {\"x\": {\"type\": \"ordinal\", \"axis\": {\"title\": null}, \"field\": \"pwcb_merchant_visit\"}, \"y\": {\"type\": \"quantitative\", \"axis\": {\"title\": \"Weekly amount \\u20ac\", \"titleColor\": \"#E68B39\"}, \"field\": \"sum_pwcb\", \"scale\": {\"domain\": [0, 23000]}}}}], \"data\": {\"name\": \"data-cd06e2e7f623ea3c0dc27687db9be7be\"}, \"height\": 300, \"resolve\": {\"scale\": {\"y\": \"independent\"}}, \"title\": \"PWCB transaction count and volume\", \"width\": 800, \"$schema\": \"https://vega.github.io/schema/vega-lite/v4.8.1.json\", \"datasets\": {\"data-cd06e2e7f623ea3c0dc27687db9be7be\": [{\"pwcb_merchant_visit\": \"CW 12\", \"customers\": 135, \"transactions\": 146, \"sum_pwcb\": 10734.31}, {\"pwcb_merchant_visit\": \"CW 15\", \"customers\": 162, \"transactions\": 176, \"sum_pwcb\": 12005.07}, {\"pwcb_merchant_visit\": \"CW 23\", \"customers\": 201, \"transactions\": 215, \"sum_pwcb\": 16325.89}, {\"pwcb_merchant_visit\": \"CW 01\", \"customers\": 80, \"transactions\": 86, \"sum_pwcb\": 6524.83}, {\"pwcb_merchant_visit\": \"CW 06\", \"customers\": 108, \"transactions\": 114, \"sum_pwcb\": 7133.49}, {\"pwcb_merchant_visit\": \"CW 07\", \"customers\": 103, \"transactions\": 107, \"sum_pwcb\": 7404.79}, {\"pwcb_merchant_visit\": \"CW 05\", \"customers\": 100, \"transactions\": 109, \"sum_pwcb\": 7412.24}, {\"pwcb_merchant_visit\": \"CW 09\", \"customers\": 164, \"transactions\": 176, \"sum_pwcb\": 13335.94}, {\"pwcb_merchant_visit\": \"CW 16\", \"customers\": 151, \"transactions\": 161, \"sum_pwcb\": 11376.89}, {\"pwcb_merchant_visit\": \"CW 20\", \"customers\": 160, \"transactions\": 169, \"sum_pwcb\": 12524.93}, {\"pwcb_merchant_visit\": \"CW 04\", \"customers\": 86, \"transactions\": 93, \"sum_pwcb\": 8448.7}, {\"pwcb_merchant_visit\": \"CW 10\", \"customers\": 141, \"transactions\": 150, \"sum_pwcb\": 9616.61}, {\"pwcb_merchant_visit\": \"CW 18\", \"customers\": 215, \"transactions\": 235, \"sum_pwcb\": 17464.65}, {\"pwcb_merchant_visit\": \"CW 02\", \"customers\": 104, \"transactions\": 114, \"sum_pwcb\": 8505.13}, {\"pwcb_merchant_visit\": \"CW 21\", \"customers\": 192, \"transactions\": 207, \"sum_pwcb\": 14920.52}, {\"pwcb_merchant_visit\": \"CW 11\", \"customers\": 131, \"transactions\": 139, \"sum_pwcb\": 10250.45}, {\"pwcb_merchant_visit\": \"CW 17\", \"customers\": 186, \"transactions\": 209, \"sum_pwcb\": 17814.28}, {\"pwcb_merchant_visit\": \"CW 19\", \"customers\": 182, \"transactions\": 200, \"sum_pwcb\": 13495.53}, {\"pwcb_merchant_visit\": \"CW 03\", \"customers\": 74, \"transactions\": 77, \"sum_pwcb\": 5907.14}, {\"pwcb_merchant_visit\": \"CW 14\", \"customers\": 125, \"transactions\": 137, \"sum_pwcb\": 9411.24}, {\"pwcb_merchant_visit\": \"CW 13\", \"customers\": 169, \"transactions\": 191, \"sum_pwcb\": 15538.83}, {\"pwcb_merchant_visit\": \"CW 22\", \"customers\": 209, \"transactions\": 230, \"sum_pwcb\": 16491.84}, {\"pwcb_merchant_visit\": \"CW 08\", \"customers\": 152, \"transactions\": 166, \"sum_pwcb\": 13069.22}]}}, {\"mode\": \"vega-lite\"});\n",
       "</script>"
      ],
      "text/plain": [
       "alt.LayerChart(...)"
      ]
     },
     "execution_count": 14,
     "metadata": {},
     "output_type": "execute_result"
    }
   ],
   "source": [
    "source = pwcb_amount_cst\n",
    "\n",
    "base = alt.Chart(source).encode(\n",
    "    alt.X(\"pwcb_merchant_visit:O\", axis=alt.Axis(title=None))\n",
    ")\n",
    "\n",
    "column = base.mark_bar(opacity=0.7, color=\"#5677A4\").encode(\n",
    "    alt.Y(\n",
    "        \"transactions\",\n",
    "        axis=alt.Axis(title=\"Weekly transactions\", titleColor=\"#5677A4\"),\n",
    "        scale=alt.Scale(domain=[0, 300]),\n",
    "    )\n",
    ")\n",
    "\n",
    "line = base.mark_line(stroke=\"#E68B39\", interpolate=\"monotone\").encode(\n",
    "    alt.Y(\n",
    "        \"sum_pwcb\",\n",
    "        axis=alt.Axis(title=\"Weekly amount €\", titleColor=\"#E68B39\"),\n",
    "        scale=alt.Scale(domain=[0, 23000]),\n",
    "    )\n",
    ")\n",
    "\n",
    "alt.layer(column, line).resolve_scale(y=\"independent\").properties(\n",
    "    width=800, height=300, title=\"PWCB transaction count and volume\"\n",
    ")"
   ]
  },
  {
   "cell_type": "markdown",
   "id": "218e020b",
   "metadata": {},
   "source": [
    "In recent weeks there are around 150-200 unique customers (not on chart) who do around 200 PWCB transactions weekly. The approximate amount is between 17k EUR weekly. This makes it around 85 EUR for a transaction weekly. \n",
    "\n",
    "Note, that this is the PWCB transaction minus minimum 20 EUR needed for purchase. Cash withdrawal is just an approximation since we cannot accurately split the cashout value."
   ]
  },
  {
   "cell_type": "markdown",
   "id": "42dbd03d",
   "metadata": {},
   "source": [
    "Some of the customers using PWCB still do ATM transactions 4 days around. Let's just look at the amounts they cash out at ATMs below."
   ]
  },
  {
   "cell_type": "code",
   "execution_count": 15,
   "id": "aea34841",
   "metadata": {
    "scrolled": false
   },
   "outputs": [
    {
     "data": {
      "text/html": [
       "\n",
       "<div id=\"altair-viz-a2e12fc3e3834d339ad886d5db6db748\"></div>\n",
       "<script type=\"text/javascript\">\n",
       "  (function(spec, embedOpt){\n",
       "    let outputDiv = document.currentScript.previousElementSibling;\n",
       "    if (outputDiv.id !== \"altair-viz-a2e12fc3e3834d339ad886d5db6db748\") {\n",
       "      outputDiv = document.getElementById(\"altair-viz-a2e12fc3e3834d339ad886d5db6db748\");\n",
       "    }\n",
       "    const paths = {\n",
       "      \"vega\": \"https://cdn.jsdelivr.net/npm//vega@5?noext\",\n",
       "      \"vega-lib\": \"https://cdn.jsdelivr.net/npm//vega-lib?noext\",\n",
       "      \"vega-lite\": \"https://cdn.jsdelivr.net/npm//vega-lite@4.8.1?noext\",\n",
       "      \"vega-embed\": \"https://cdn.jsdelivr.net/npm//vega-embed@6?noext\",\n",
       "    };\n",
       "\n",
       "    function loadScript(lib) {\n",
       "      return new Promise(function(resolve, reject) {\n",
       "        var s = document.createElement('script');\n",
       "        s.src = paths[lib];\n",
       "        s.async = true;\n",
       "        s.onload = () => resolve(paths[lib]);\n",
       "        s.onerror = () => reject(`Error loading script: ${paths[lib]}`);\n",
       "        document.getElementsByTagName(\"head\")[0].appendChild(s);\n",
       "      });\n",
       "    }\n",
       "\n",
       "    function showError(err) {\n",
       "      outputDiv.innerHTML = `<div class=\"error\" style=\"color:red;\">${err}</div>`;\n",
       "      throw err;\n",
       "    }\n",
       "\n",
       "    function displayChart(vegaEmbed) {\n",
       "      vegaEmbed(outputDiv, spec, embedOpt)\n",
       "        .catch(err => showError(`Javascript Error: ${err.message}<br>This usually means there's a typo in your chart specification. See the javascript console for the full traceback.`));\n",
       "    }\n",
       "\n",
       "    if(typeof define === \"function\" && define.amd) {\n",
       "      requirejs.config({paths});\n",
       "      require([\"vega-embed\"], displayChart, err => showError(`Error loading script: ${err.message}`));\n",
       "    } else if (typeof vegaEmbed === \"function\") {\n",
       "      displayChart(vegaEmbed);\n",
       "    } else {\n",
       "      loadScript(\"vega\")\n",
       "        .then(() => loadScript(\"vega-lite\"))\n",
       "        .then(() => loadScript(\"vega-embed\"))\n",
       "        .catch(showError)\n",
       "        .then(() => displayChart(vegaEmbed));\n",
       "    }\n",
       "  })({\"config\": {\"view\": {\"continuousWidth\": 400, \"continuousHeight\": 300}}, \"data\": {\"name\": \"data-acdcd2056b256f9c9e359f24f1c267fb\"}, \"mark\": \"area\", \"encoding\": {\"color\": {\"type\": \"nominal\", \"field\": \"atm_tx_amount\"}, \"x\": {\"type\": \"ordinal\", \"field\": \"pwcb_merchant_visit\", \"title\": null}, \"y\": {\"type\": \"quantitative\", \"field\": \"atm_transactions\", \"title\": \"ATM transaction count\"}}, \"height\": 300, \"title\": \"ATM visits by PWCB customers (2 days around PWCB purchase)\", \"width\": 800, \"$schema\": \"https://vega.github.io/schema/vega-lite/v4.8.1.json\", \"datasets\": {\"data-acdcd2056b256f9c9e359f24f1c267fb\": [{\"pwcb_merchant_visit\": \"CW 16\", \"atm_tx_amount\": \"ATM <= 200\", \"atm_transactions\": 59}, {\"pwcb_merchant_visit\": \"CW 17\", \"atm_tx_amount\": \"ATM <= 200\", \"atm_transactions\": 112}, {\"pwcb_merchant_visit\": \"CW 19\", \"atm_tx_amount\": \"ATM <= 200\", \"atm_transactions\": 104}, {\"pwcb_merchant_visit\": \"CW 21\", \"atm_tx_amount\": \"ATM <= 200\", \"atm_transactions\": 98}, {\"pwcb_merchant_visit\": \"CW 19\", \"atm_tx_amount\": \"ATM > 200\", \"atm_transactions\": 7}, {\"pwcb_merchant_visit\": \"CW 10\", \"atm_tx_amount\": \"ATM <= 200\", \"atm_transactions\": 39}, {\"pwcb_merchant_visit\": \"CW 04\", \"atm_tx_amount\": \"ATM > 200\", \"atm_transactions\": 4}, {\"pwcb_merchant_visit\": \"CW 13\", \"atm_tx_amount\": \"ATM > 200\", \"atm_transactions\": 16}, {\"pwcb_merchant_visit\": \"CW 08\", \"atm_tx_amount\": \"Only PWCB\", \"atm_transactions\": 136}, {\"pwcb_merchant_visit\": \"CW 07\", \"atm_tx_amount\": \"Only PWCB\", \"atm_transactions\": 84}, {\"pwcb_merchant_visit\": \"CW 01\", \"atm_tx_amount\": \"ATM <= 200\", \"atm_transactions\": 24}, {\"pwcb_merchant_visit\": \"CW 05\", \"atm_tx_amount\": \"ATM > 200\", \"atm_transactions\": 6}, {\"pwcb_merchant_visit\": \"CW 01\", \"atm_tx_amount\": \"ATM > 200\", \"atm_transactions\": 4}, {\"pwcb_merchant_visit\": \"CW 06\", \"atm_tx_amount\": \"ATM > 200\", \"atm_transactions\": 3}, {\"pwcb_merchant_visit\": \"CW 09\", \"atm_tx_amount\": \"Only PWCB\", \"atm_transactions\": 133}, {\"pwcb_merchant_visit\": \"CW 02\", \"atm_tx_amount\": \"ATM <= 200\", \"atm_transactions\": 38}, {\"pwcb_merchant_visit\": \"CW 20\", \"atm_tx_amount\": \"ATM <= 200\", \"atm_transactions\": 66}, {\"pwcb_merchant_visit\": \"CW 04\", \"atm_tx_amount\": \"Only PWCB\", \"atm_transactions\": 74}, {\"pwcb_merchant_visit\": \"CW 03\", \"atm_tx_amount\": \"ATM <= 200\", \"atm_transactions\": 23}, {\"pwcb_merchant_visit\": \"CW 03\", \"atm_tx_amount\": \"ATM > 200\", \"atm_transactions\": 3}, {\"pwcb_merchant_visit\": \"CW 15\", \"atm_tx_amount\": \"ATM > 200\", \"atm_transactions\": 24}, {\"pwcb_merchant_visit\": \"CW 09\", \"atm_tx_amount\": \"ATM > 200\", \"atm_transactions\": 18}, {\"pwcb_merchant_visit\": \"CW 10\", \"atm_tx_amount\": \"ATM > 200\", \"atm_transactions\": 11}, {\"pwcb_merchant_visit\": \"CW 23\", \"atm_tx_amount\": \"Only PWCB\", \"atm_transactions\": 160}, {\"pwcb_merchant_visit\": \"CW 14\", \"atm_tx_amount\": \"Only PWCB\", \"atm_transactions\": 100}, {\"pwcb_merchant_visit\": \"CW 12\", \"atm_tx_amount\": \"ATM <= 200\", \"atm_transactions\": 69}, {\"pwcb_merchant_visit\": \"CW 06\", \"atm_tx_amount\": \"Only PWCB\", \"atm_transactions\": 88}, {\"pwcb_merchant_visit\": \"CW 18\", \"atm_tx_amount\": \"ATM > 200\", \"atm_transactions\": 17}, {\"pwcb_merchant_visit\": \"CW 01\", \"atm_tx_amount\": \"Only PWCB\", \"atm_transactions\": 69}, {\"pwcb_merchant_visit\": \"CW 07\", \"atm_tx_amount\": \"ATM > 200\", \"atm_transactions\": 4}, {\"pwcb_merchant_visit\": \"CW 08\", \"atm_tx_amount\": \"ATM > 200\", \"atm_transactions\": 32}, {\"pwcb_merchant_visit\": \"CW 05\", \"atm_tx_amount\": \"Only PWCB\", \"atm_transactions\": 86}, {\"pwcb_merchant_visit\": \"CW 02\", \"atm_tx_amount\": \"ATM > 200\", \"atm_transactions\": 13}, {\"pwcb_merchant_visit\": \"CW 03\", \"atm_tx_amount\": \"Only PWCB\", \"atm_transactions\": 67}, {\"pwcb_merchant_visit\": \"CW 13\", \"atm_tx_amount\": \"Only PWCB\", \"atm_transactions\": 138}, {\"pwcb_merchant_visit\": \"CW 11\", \"atm_tx_amount\": \"Only PWCB\", \"atm_transactions\": 115}, {\"pwcb_merchant_visit\": \"CW 18\", \"atm_tx_amount\": \"Only PWCB\", \"atm_transactions\": 191}, {\"pwcb_merchant_visit\": \"CW 05\", \"atm_tx_amount\": \"ATM <= 200\", \"atm_transactions\": 35}, {\"pwcb_merchant_visit\": \"CW 17\", \"atm_tx_amount\": \"ATM > 200\", \"atm_transactions\": 49}, {\"pwcb_merchant_visit\": \"CW 16\", \"atm_tx_amount\": \"Only PWCB\", \"atm_transactions\": 132}, {\"pwcb_merchant_visit\": \"CW 14\", \"atm_tx_amount\": \"ATM <= 200\", \"atm_transactions\": 73}, {\"pwcb_merchant_visit\": \"CW 14\", \"atm_tx_amount\": \"ATM > 200\", \"atm_transactions\": 22}, {\"pwcb_merchant_visit\": \"CW 19\", \"atm_tx_amount\": \"Only PWCB\", \"atm_transactions\": 151}, {\"pwcb_merchant_visit\": \"CW 10\", \"atm_tx_amount\": \"Only PWCB\", \"atm_transactions\": 123}, {\"pwcb_merchant_visit\": \"CW 22\", \"atm_tx_amount\": \"Only PWCB\", \"atm_transactions\": 159}, {\"pwcb_merchant_visit\": \"CW 20\", \"atm_tx_amount\": \"Only PWCB\", \"atm_transactions\": 132}, {\"pwcb_merchant_visit\": \"CW 16\", \"atm_tx_amount\": \"ATM > 200\", \"atm_transactions\": 6}, {\"pwcb_merchant_visit\": \"CW 18\", \"atm_tx_amount\": \"ATM <= 200\", \"atm_transactions\": 90}, {\"pwcb_merchant_visit\": \"CW 22\", \"atm_tx_amount\": \"ATM <= 200\", \"atm_transactions\": 121}, {\"pwcb_merchant_visit\": \"CW 22\", \"atm_tx_amount\": \"ATM > 200\", \"atm_transactions\": 30}, {\"pwcb_merchant_visit\": \"CW 23\", \"atm_tx_amount\": \"ATM <= 200\", \"atm_transactions\": 90}, {\"pwcb_merchant_visit\": \"CW 12\", \"atm_tx_amount\": \"Only PWCB\", \"atm_transactions\": 107}, {\"pwcb_merchant_visit\": \"CW 07\", \"atm_tx_amount\": \"ATM <= 200\", \"atm_transactions\": 28}, {\"pwcb_merchant_visit\": \"CW 08\", \"atm_tx_amount\": \"ATM <= 200\", \"atm_transactions\": 43}, {\"pwcb_merchant_visit\": \"CW 23\", \"atm_tx_amount\": \"ATM > 200\", \"atm_transactions\": 41}, {\"pwcb_merchant_visit\": \"CW 11\", \"atm_tx_amount\": \"ATM <= 200\", \"atm_transactions\": 41}, {\"pwcb_merchant_visit\": \"CW 11\", \"atm_tx_amount\": \"ATM > 200\", \"atm_transactions\": 16}, {\"pwcb_merchant_visit\": \"CW 09\", \"atm_tx_amount\": \"ATM <= 200\", \"atm_transactions\": 65}, {\"pwcb_merchant_visit\": \"CW 21\", \"atm_tx_amount\": \"ATM > 200\", \"atm_transactions\": 25}, {\"pwcb_merchant_visit\": \"CW 02\", \"atm_tx_amount\": \"Only PWCB\", \"atm_transactions\": 91}, {\"pwcb_merchant_visit\": \"CW 06\", \"atm_tx_amount\": \"ATM <= 200\", \"atm_transactions\": 50}, {\"pwcb_merchant_visit\": \"CW 04\", \"atm_tx_amount\": \"ATM <= 200\", \"atm_transactions\": 42}, {\"pwcb_merchant_visit\": \"CW 20\", \"atm_tx_amount\": \"ATM > 200\", \"atm_transactions\": 7}, {\"pwcb_merchant_visit\": \"CW 13\", \"atm_tx_amount\": \"ATM <= 200\", \"atm_transactions\": 81}, {\"pwcb_merchant_visit\": \"CW 15\", \"atm_tx_amount\": \"ATM <= 200\", \"atm_transactions\": 70}, {\"pwcb_merchant_visit\": \"CW 21\", \"atm_tx_amount\": \"Only PWCB\", \"atm_transactions\": 155}, {\"pwcb_merchant_visit\": \"CW 15\", \"atm_tx_amount\": \"Only PWCB\", \"atm_transactions\": 136}, {\"pwcb_merchant_visit\": \"CW 17\", \"atm_tx_amount\": \"Only PWCB\", \"atm_transactions\": 143}, {\"pwcb_merchant_visit\": \"CW 12\", \"atm_tx_amount\": \"ATM > 200\", \"atm_transactions\": 15}]}}, {\"mode\": \"vega-lite\"});\n",
       "</script>"
      ],
      "text/plain": [
       "alt.Chart(...)"
      ]
     },
     "execution_count": 15,
     "metadata": {},
     "output_type": "execute_result"
    }
   ],
   "source": [
    "alt.Chart(pwcb_atm).mark_area().encode(\n",
    "    x=alt.X(\n",
    "        \"pwcb_merchant_visit:O\",\n",
    "        title=None,\n",
    "    ),\n",
    "    y=alt.Y(\n",
    "        \"atm_transactions:Q\",\n",
    "        # scale=alt.Scale(domain=(0, 50000)),\n",
    "        title=\"ATM transaction count\",\n",
    "    ),\n",
    "    color=\"atm_tx_amount:N\",\n",
    ").properties(\n",
    "    width=800,\n",
    "    height=300,\n",
    "    title=\"ATM visits by PWCB customers (2 days around PWCB purchase)\",\n",
    ")"
   ]
  },
  {
   "cell_type": "markdown",
   "id": "7b462adb",
   "metadata": {},
   "source": [
    "Only a small amount of PWCB customers do >200 EUR cashouts at ATMs. Approximately 30%-40% of money cashed out 2 days around PWCB visit is still coming from ATM transactions that are <200 EUR and could be eligible for PWCB. \n",
    "\n",
    "This makes sense because we cannot expect customers to cash out only at PWCB. From this chart we see that customers aware of PWCB cash out about 60% using this way."
   ]
  },
  {
   "cell_type": "markdown",
   "id": "7696f2f1",
   "metadata": {},
   "source": [
    "## 5. Potential customer deep dive <a class=\"anchor\" id=\"5\"></a>"
   ]
  },
  {
   "cell_type": "markdown",
   "id": "6712b389",
   "metadata": {},
   "source": [
    "The fact that there was 115k customers in 2021 (from [Table3](#table3) above) who visited PWCB merchant but did cash out there does not really tell the full picture. Let's look at how many transactions these customers make with PWCB merchants weekly.\n",
    "\n",
    "Chart below displays only these customers, who <b>did not make a PWCB, but had an ATM transaction</b> 2 days around visiting the merchant. Data is also aggregated weekly since the start of 2021."
   ]
  },
  {
   "cell_type": "code",
   "execution_count": 16,
   "id": "d3171748",
   "metadata": {},
   "outputs": [
    {
     "data": {
      "text/html": [
       "\n",
       "<div id=\"altair-viz-62672f86cb82482a800c48e7c8259b95\"></div>\n",
       "<script type=\"text/javascript\">\n",
       "  (function(spec, embedOpt){\n",
       "    let outputDiv = document.currentScript.previousElementSibling;\n",
       "    if (outputDiv.id !== \"altair-viz-62672f86cb82482a800c48e7c8259b95\") {\n",
       "      outputDiv = document.getElementById(\"altair-viz-62672f86cb82482a800c48e7c8259b95\");\n",
       "    }\n",
       "    const paths = {\n",
       "      \"vega\": \"https://cdn.jsdelivr.net/npm//vega@5?noext\",\n",
       "      \"vega-lib\": \"https://cdn.jsdelivr.net/npm//vega-lib?noext\",\n",
       "      \"vega-lite\": \"https://cdn.jsdelivr.net/npm//vega-lite@4.8.1?noext\",\n",
       "      \"vega-embed\": \"https://cdn.jsdelivr.net/npm//vega-embed@6?noext\",\n",
       "    };\n",
       "\n",
       "    function loadScript(lib) {\n",
       "      return new Promise(function(resolve, reject) {\n",
       "        var s = document.createElement('script');\n",
       "        s.src = paths[lib];\n",
       "        s.async = true;\n",
       "        s.onload = () => resolve(paths[lib]);\n",
       "        s.onerror = () => reject(`Error loading script: ${paths[lib]}`);\n",
       "        document.getElementsByTagName(\"head\")[0].appendChild(s);\n",
       "      });\n",
       "    }\n",
       "\n",
       "    function showError(err) {\n",
       "      outputDiv.innerHTML = `<div class=\"error\" style=\"color:red;\">${err}</div>`;\n",
       "      throw err;\n",
       "    }\n",
       "\n",
       "    function displayChart(vegaEmbed) {\n",
       "      vegaEmbed(outputDiv, spec, embedOpt)\n",
       "        .catch(err => showError(`Javascript Error: ${err.message}<br>This usually means there's a typo in your chart specification. See the javascript console for the full traceback.`));\n",
       "    }\n",
       "\n",
       "    if(typeof define === \"function\" && define.amd) {\n",
       "      requirejs.config({paths});\n",
       "      require([\"vega-embed\"], displayChart, err => showError(`Error loading script: ${err.message}`));\n",
       "    } else if (typeof vegaEmbed === \"function\") {\n",
       "      displayChart(vegaEmbed);\n",
       "    } else {\n",
       "      loadScript(\"vega\")\n",
       "        .then(() => loadScript(\"vega-lite\"))\n",
       "        .then(() => loadScript(\"vega-embed\"))\n",
       "        .catch(showError)\n",
       "        .then(() => displayChart(vegaEmbed));\n",
       "    }\n",
       "  })({\"config\": {\"view\": {\"continuousWidth\": 400, \"continuousHeight\": 300}}, \"data\": {\"name\": \"data-2ec4c9d69c673e9a88d0ff9df0387661\"}, \"mark\": \"area\", \"encoding\": {\"color\": {\"type\": \"nominal\", \"field\": \"situation\"}, \"x\": {\"type\": \"ordinal\", \"field\": \"pwcb_merchant_visit\", \"title\": null}, \"y\": {\"type\": \"quantitative\", \"field\": \"count\", \"scale\": {\"domain\": [0, 50000]}, \"title\": \"Visits\"}}, \"height\": 300, \"title\": \"Visits to merchants without doing PWCB but doing an ATM (2 days around)\", \"width\": 800, \"$schema\": \"https://vega.github.io/schema/vega-lite/v4.8.1.json\", \"datasets\": {\"data-2ec4c9d69c673e9a88d0ff9df0387661\": [{\"pwcb_merchant_visit\": \"CW 03\", \"situation\": \"Purchase under 20\", \"count\": 15825}, {\"pwcb_merchant_visit\": \"CW 05\", \"situation\": \"ATM over 200\", \"count\": 3894}, {\"pwcb_merchant_visit\": \"CW 08\", \"situation\": \"Purchase under 20\", \"count\": 22952}, {\"pwcb_merchant_visit\": \"CW 07\", \"situation\": \"Potential PWCB\", \"count\": 6376}, {\"pwcb_merchant_visit\": \"CW 14\", \"situation\": \"ATM over 200\", \"count\": 3501}, {\"pwcb_merchant_visit\": \"CW 14\", \"situation\": \"Potential PWCB\", \"count\": 7140}, {\"pwcb_merchant_visit\": \"CW 17\", \"situation\": \"ATM over 200\", \"count\": 4757}, {\"pwcb_merchant_visit\": \"CW 11\", \"situation\": \"ATM over 200\", \"count\": 3408}, {\"pwcb_merchant_visit\": \"CW 12\", \"situation\": \"Potential PWCB\", \"count\": 7436}, {\"pwcb_merchant_visit\": \"CW 22\", \"situation\": \"ATM over 200\", \"count\": 5653}, {\"pwcb_merchant_visit\": \"CW 07\", \"situation\": \"Purchase under 20\", \"count\": 18450}, {\"pwcb_merchant_visit\": \"CW 09\", \"situation\": \"ATM over 200\", \"count\": 4582}, {\"pwcb_merchant_visit\": \"CW 02\", \"situation\": \"Potential PWCB\", \"count\": 5489}, {\"pwcb_merchant_visit\": \"CW 06\", \"situation\": \"ATM over 200\", \"count\": 2949}, {\"pwcb_merchant_visit\": \"CW 11\", \"situation\": \"Potential PWCB\", \"count\": 6883}, {\"pwcb_merchant_visit\": \"CW 16\", \"situation\": \"Purchase under 20\", \"count\": 23015}, {\"pwcb_merchant_visit\": \"CW 19\", \"situation\": \"Purchase under 20\", \"count\": 23473}, {\"pwcb_merchant_visit\": \"CW 21\", \"situation\": \"Purchase under 20\", \"count\": 23388}, {\"pwcb_merchant_visit\": \"CW 04\", \"situation\": \"Purchase under 20\", \"count\": 17354}, {\"pwcb_merchant_visit\": \"CW 04\", \"situation\": \"ATM over 200\", \"count\": 3889}, {\"pwcb_merchant_visit\": \"CW 07\", \"situation\": \"ATM over 200\", \"count\": 3082}, {\"pwcb_merchant_visit\": \"CW 08\", \"situation\": \"ATM over 200\", \"count\": 4434}, {\"pwcb_merchant_visit\": \"CW 16\", \"situation\": \"Potential PWCB\", \"count\": 7418}, {\"pwcb_merchant_visit\": \"CW 02\", \"situation\": \"ATM over 200\", \"count\": 3012}, {\"pwcb_merchant_visit\": \"CW 09\", \"situation\": \"Potential PWCB\", \"count\": 8811}, {\"pwcb_merchant_visit\": \"CW 18\", \"situation\": \"ATM over 200\", \"count\": 5051}, {\"pwcb_merchant_visit\": \"CW 23\", \"situation\": \"ATM over 200\", \"count\": 4412}, {\"pwcb_merchant_visit\": \"CW 05\", \"situation\": \"Purchase under 20\", \"count\": 19282}, {\"pwcb_merchant_visit\": \"CW 20\", \"situation\": \"Purchase under 20\", \"count\": 24751}, {\"pwcb_merchant_visit\": \"CW 01\", \"situation\": \"Purchase under 20\", \"count\": 14122}, {\"pwcb_merchant_visit\": \"CW 03\", \"situation\": \"ATM over 200\", \"count\": 2708}, {\"pwcb_merchant_visit\": \"CW 13\", \"situation\": \"Purchase under 20\", \"count\": 26467}, {\"pwcb_merchant_visit\": \"CW 08\", \"situation\": \"Potential PWCB\", \"count\": 8300}, {\"pwcb_merchant_visit\": \"CW 18\", \"situation\": \"Potential PWCB\", \"count\": 10671}, {\"pwcb_merchant_visit\": \"CW 23\", \"situation\": \"Potential PWCB\", \"count\": 10585}, {\"pwcb_merchant_visit\": \"CW 22\", \"situation\": \"Potential PWCB\", \"count\": 11834}, {\"pwcb_merchant_visit\": \"CW 15\", \"situation\": \"Potential PWCB\", \"count\": 7718}, {\"pwcb_merchant_visit\": \"CW 19\", \"situation\": \"ATM over 200\", \"count\": 3627}, {\"pwcb_merchant_visit\": \"CW 01\", \"situation\": \"ATM over 200\", \"count\": 2737}, {\"pwcb_merchant_visit\": \"CW 04\", \"situation\": \"Potential PWCB\", \"count\": 7094}, {\"pwcb_merchant_visit\": \"CW 16\", \"situation\": \"ATM over 200\", \"count\": 3480}, {\"pwcb_merchant_visit\": \"CW 17\", \"situation\": \"Purchase under 20\", \"count\": 22051}, {\"pwcb_merchant_visit\": \"CW 20\", \"situation\": \"Potential PWCB\", \"count\": 8590}, {\"pwcb_merchant_visit\": \"CW 06\", \"situation\": \"Purchase under 20\", \"count\": 17062}, {\"pwcb_merchant_visit\": \"CW 01\", \"situation\": \"Potential PWCB\", \"count\": 5063}, {\"pwcb_merchant_visit\": \"CW 06\", \"situation\": \"Potential PWCB\", \"count\": 6431}, {\"pwcb_merchant_visit\": \"CW 15\", \"situation\": \"ATM over 200\", \"count\": 3950}, {\"pwcb_merchant_visit\": \"CW 03\", \"situation\": \"Potential PWCB\", \"count\": 5337}, {\"pwcb_merchant_visit\": \"CW 12\", \"situation\": \"Purchase under 20\", \"count\": 22121}, {\"pwcb_merchant_visit\": \"CW 12\", \"situation\": \"ATM over 200\", \"count\": 3771}, {\"pwcb_merchant_visit\": \"CW 10\", \"situation\": \"Purchase under 20\", \"count\": 21675}, {\"pwcb_merchant_visit\": \"CW 15\", \"situation\": \"Purchase under 20\", \"count\": 21889}, {\"pwcb_merchant_visit\": \"CW 10\", \"situation\": \"ATM over 200\", \"count\": 3284}, {\"pwcb_merchant_visit\": \"CW 05\", \"situation\": \"Potential PWCB\", \"count\": 6835}, {\"pwcb_merchant_visit\": \"CW 09\", \"situation\": \"Purchase under 20\", \"count\": 24868}, {\"pwcb_merchant_visit\": \"CW 13\", \"situation\": \"ATM over 200\", \"count\": 5710}, {\"pwcb_merchant_visit\": \"CW 21\", \"situation\": \"ATM over 200\", \"count\": 4051}, {\"pwcb_merchant_visit\": \"CW 02\", \"situation\": \"Purchase under 20\", \"count\": 15325}, {\"pwcb_merchant_visit\": \"CW 11\", \"situation\": \"Purchase under 20\", \"count\": 20813}, {\"pwcb_merchant_visit\": \"CW 13\", \"situation\": \"Potential PWCB\", \"count\": 11683}, {\"pwcb_merchant_visit\": \"CW 17\", \"situation\": \"Potential PWCB\", \"count\": 9368}, {\"pwcb_merchant_visit\": \"CW 18\", \"situation\": \"Purchase under 20\", \"count\": 25937}, {\"pwcb_merchant_visit\": \"CW 21\", \"situation\": \"Potential PWCB\", \"count\": 9171}, {\"pwcb_merchant_visit\": \"CW 22\", \"situation\": \"Purchase under 20\", \"count\": 32817}, {\"pwcb_merchant_visit\": \"CW 10\", \"situation\": \"Potential PWCB\", \"count\": 7007}, {\"pwcb_merchant_visit\": \"CW 23\", \"situation\": \"Purchase under 20\", \"count\": 33561}, {\"pwcb_merchant_visit\": \"CW 14\", \"situation\": \"Purchase under 20\", \"count\": 18632}, {\"pwcb_merchant_visit\": \"CW 19\", \"situation\": \"Potential PWCB\", \"count\": 9415}, {\"pwcb_merchant_visit\": \"CW 20\", \"situation\": \"ATM over 200\", \"count\": 4027}]}}, {\"mode\": \"vega-lite\"});\n",
       "</script>"
      ],
      "text/plain": [
       "alt.Chart(...)"
      ]
     },
     "execution_count": 16,
     "metadata": {},
     "output_type": "execute_result"
    }
   ],
   "source": [
    "alt.Chart(pot_cst_dd).mark_area().encode(\n",
    "    x=alt.X(\n",
    "        \"pwcb_merchant_visit:O\",\n",
    "        title=None,\n",
    "    ),\n",
    "    y=alt.Y(\n",
    "        \"count:Q\",\n",
    "        scale=alt.Scale(domain=(0, 50000)),\n",
    "        title=\"Visits\",\n",
    "    ),\n",
    "    color=\"situation:N\",\n",
    ").properties(\n",
    "    width=800,\n",
    "    height=300,\n",
    "    title=\"Visits to merchants without doing PWCB but doing an ATM (2 days around)\",\n",
    ")"
   ]
  },
  {
   "cell_type": "markdown",
   "id": "468713bd",
   "metadata": {},
   "source": [
    "It can be seen that the number of customers is increasing since the beginning of the year. Recently there has been around 50k transactions weekly. These are made by around 18k distinct customers (not displayed on chart).\n",
    "\n",
    "<b style=\"color:#D4605B\">Most of the customers</b> don't make purchases over 20 EUR, so they would not really be eligible for PWCB unless deliberately purchase more. Purchases under 20 EUR make up around 60% of transactions. There's also <b style=\"color:#5677A4\">a small part of customers</b> who used ATM for over 200 EUR. That's usually around 10% of customers.\n",
    "\n",
    "<b style=\"color:#E68B39\">True potential customers</b> who made over 20 EUR purchases and used ATM under 200 EUR make up just a bit under 30% of the total. <i><b>That is around 5000 distinct customers weekly who make around 9000 visits to PWCB merchants.</b></i>"
   ]
  },
  {
   "cell_type": "code",
   "execution_count": 17,
   "id": "ecaa2901",
   "metadata": {},
   "outputs": [
    {
     "data": {
      "text/html": [
       "\n",
       "<div id=\"altair-viz-7951d000c05d4420a4c7315d2f470833\"></div>\n",
       "<script type=\"text/javascript\">\n",
       "  (function(spec, embedOpt){\n",
       "    let outputDiv = document.currentScript.previousElementSibling;\n",
       "    if (outputDiv.id !== \"altair-viz-7951d000c05d4420a4c7315d2f470833\") {\n",
       "      outputDiv = document.getElementById(\"altair-viz-7951d000c05d4420a4c7315d2f470833\");\n",
       "    }\n",
       "    const paths = {\n",
       "      \"vega\": \"https://cdn.jsdelivr.net/npm//vega@5?noext\",\n",
       "      \"vega-lib\": \"https://cdn.jsdelivr.net/npm//vega-lib?noext\",\n",
       "      \"vega-lite\": \"https://cdn.jsdelivr.net/npm//vega-lite@4.8.1?noext\",\n",
       "      \"vega-embed\": \"https://cdn.jsdelivr.net/npm//vega-embed@6?noext\",\n",
       "    };\n",
       "\n",
       "    function loadScript(lib) {\n",
       "      return new Promise(function(resolve, reject) {\n",
       "        var s = document.createElement('script');\n",
       "        s.src = paths[lib];\n",
       "        s.async = true;\n",
       "        s.onload = () => resolve(paths[lib]);\n",
       "        s.onerror = () => reject(`Error loading script: ${paths[lib]}`);\n",
       "        document.getElementsByTagName(\"head\")[0].appendChild(s);\n",
       "      });\n",
       "    }\n",
       "\n",
       "    function showError(err) {\n",
       "      outputDiv.innerHTML = `<div class=\"error\" style=\"color:red;\">${err}</div>`;\n",
       "      throw err;\n",
       "    }\n",
       "\n",
       "    function displayChart(vegaEmbed) {\n",
       "      vegaEmbed(outputDiv, spec, embedOpt)\n",
       "        .catch(err => showError(`Javascript Error: ${err.message}<br>This usually means there's a typo in your chart specification. See the javascript console for the full traceback.`));\n",
       "    }\n",
       "\n",
       "    if(typeof define === \"function\" && define.amd) {\n",
       "      requirejs.config({paths});\n",
       "      require([\"vega-embed\"], displayChart, err => showError(`Error loading script: ${err.message}`));\n",
       "    } else if (typeof vegaEmbed === \"function\") {\n",
       "      displayChart(vegaEmbed);\n",
       "    } else {\n",
       "      loadScript(\"vega\")\n",
       "        .then(() => loadScript(\"vega-lite\"))\n",
       "        .then(() => loadScript(\"vega-embed\"))\n",
       "        .catch(showError)\n",
       "        .then(() => displayChart(vegaEmbed));\n",
       "    }\n",
       "  })({\"config\": {\"view\": {\"continuousWidth\": 400, \"continuousHeight\": 300}}, \"layer\": [{\"mark\": {\"type\": \"line\", \"interpolate\": \"monotone\", \"stroke\": \"#E68B39\"}, \"encoding\": {\"x\": {\"type\": \"ordinal\", \"axis\": {\"title\": null}, \"field\": \"pwcb_merchant_visit\"}, \"y\": {\"type\": \"quantitative\", \"axis\": {\"title\": \"ATM transactions\", \"titleColor\": \"#E68B39\"}, \"field\": \"atm_transactions\"}}}, {\"mark\": {\"type\": \"line\", \"interpolate\": \"monotone\", \"stroke\": \"#5677A4\"}, \"encoding\": {\"x\": {\"type\": \"ordinal\", \"axis\": {\"title\": null}, \"field\": \"pwcb_merchant_visit\"}, \"y\": {\"type\": \"quantitative\", \"axis\": {\"title\": \"ATM volume\", \"titleColor\": \"#5677A4\"}, \"field\": \"sum\"}}}], \"data\": {\"name\": \"data-d3ac4670d01d825de61f7fc4faced496\"}, \"height\": 300, \"resolve\": {\"scale\": {\"y\": \"independent\"}}, \"title\": \"Weekly ATM volume and count by potential customers\", \"width\": 800, \"$schema\": \"https://vega.github.io/schema/vega-lite/v4.8.1.json\", \"datasets\": {\"data-d3ac4670d01d825de61f7fc4faced496\": [{\"pwcb_merchant_visit\": \"CW 07\", \"sum\": 471684.85, \"atm_transactions\": 6376}, {\"pwcb_merchant_visit\": \"CW 01\", \"sum\": 389262.86, \"atm_transactions\": 5063}, {\"pwcb_merchant_visit\": \"CW 06\", \"sum\": 488668.88, \"atm_transactions\": 6431}, {\"pwcb_merchant_visit\": \"CW 23\", \"sum\": 807209.23, \"atm_transactions\": 10585}, {\"pwcb_merchant_visit\": \"CW 05\", \"sum\": 528137.97, \"atm_transactions\": 6835}, {\"pwcb_merchant_visit\": \"CW 12\", \"sum\": 550474.77, \"atm_transactions\": 7436}, {\"pwcb_merchant_visit\": \"CW 15\", \"sum\": 590385.4, \"atm_transactions\": 7718}, {\"pwcb_merchant_visit\": \"CW 09\", \"sum\": 662620.84, \"atm_transactions\": 8811}, {\"pwcb_merchant_visit\": \"CW 16\", \"sum\": 547871.52, \"atm_transactions\": 7418}, {\"pwcb_merchant_visit\": \"CW 02\", \"sum\": 424811.13, \"atm_transactions\": 5489}, {\"pwcb_merchant_visit\": \"CW 10\", \"sum\": 529267.26, \"atm_transactions\": 7007}, {\"pwcb_merchant_visit\": \"CW 18\", \"sum\": 816576.39, \"atm_transactions\": 10671}, {\"pwcb_merchant_visit\": \"CW 21\", \"sum\": 725588.09, \"atm_transactions\": 9171}, {\"pwcb_merchant_visit\": \"CW 11\", \"sum\": 509318.89, \"atm_transactions\": 6883}, {\"pwcb_merchant_visit\": \"CW 17\", \"sum\": 714042.29, \"atm_transactions\": 9368}, {\"pwcb_merchant_visit\": \"CW 19\", \"sum\": 701057.38, \"atm_transactions\": 9415}, {\"pwcb_merchant_visit\": \"CW 03\", \"sum\": 391076.39, \"atm_transactions\": 5337}, {\"pwcb_merchant_visit\": \"CW 14\", \"sum\": 544080.63, \"atm_transactions\": 7140}, {\"pwcb_merchant_visit\": \"CW 13\", \"sum\": 912495.86, \"atm_transactions\": 11683}, {\"pwcb_merchant_visit\": \"CW 04\", \"sum\": 541530.4, \"atm_transactions\": 7094}, {\"pwcb_merchant_visit\": \"CW 20\", \"sum\": 647097.04, \"atm_transactions\": 8590}, {\"pwcb_merchant_visit\": \"CW 08\", \"sum\": 637782.69, \"atm_transactions\": 8300}, {\"pwcb_merchant_visit\": \"CW 22\", \"sum\": 923282.05, \"atm_transactions\": 11834}]}}, {\"mode\": \"vega-lite\"});\n",
       "</script>"
      ],
      "text/plain": [
       "alt.LayerChart(...)"
      ]
     },
     "execution_count": 17,
     "metadata": {},
     "output_type": "execute_result"
    }
   ],
   "source": [
    "base = alt.Chart(pot_cst_volume).encode(\n",
    "    alt.X(\"pwcb_merchant_visit:O\", axis=alt.Axis(title=None))\n",
    ")\n",
    "\n",
    "line1 = base.mark_line(stroke=\"#5677A4\", interpolate=\"monotone\").encode(\n",
    "    alt.Y(\"sum\", axis=alt.Axis(title=\"ATM volume\", titleColor=\"#5677A4\"))\n",
    ")\n",
    "\n",
    "line2 = base.mark_line(stroke=\"#E68B39\", interpolate=\"monotone\").encode(\n",
    "    alt.Y(\n",
    "        \"atm_transactions\",\n",
    "        axis=alt.Axis(title=\"ATM transactions\", titleColor=\"#E68B39\"),\n",
    "    )\n",
    ")\n",
    "\n",
    "alt.layer(line2, line1).resolve_scale(y=\"independent\").properties(\n",
    "    width=800, height=300, title=\"Weekly ATM volume and count by potential customers\"\n",
    ")"
   ]
  },
  {
   "cell_type": "markdown",
   "id": "16238494",
   "metadata": {},
   "source": [
    "Potential PWCB customers make around <b style=\"color:#E68B39\">10k ATM transactions</b> and <b style=\"color:#5677A4\">cash out around 900k EUR</b> 2 days around the visit to a store. This is around 90 EUR per transaction and roughly matches to the amounts current PWCB customers are doing.\n",
    "\n",
    "If we could make 30% of potential customers to start using PWCB, we could expect they would transfer 60% of their transaction volume from ATM to PWCB because that's what our current PWCB customers are doing. This would potentially make around 1.8k transactions and 150k EUR weekly. \n",
    "\n",
    "Note that these calculations are rough and only orientational."
   ]
  },
  {
   "cell_type": "markdown",
   "id": "055cca19",
   "metadata": {},
   "source": [
    "## 6. Customer subscriptions <a class=\"anchor\" id=\"6\"></a>"
   ]
  },
  {
   "cell_type": "markdown",
   "id": "34fc7e77",
   "metadata": {},
   "source": [
    "Let's look at subscription distribtution between potential and existing PWCB users. To contrast, the chart below also includes subscription distribution among all MAU customers.\n",
    "\n",
    "Note: ATM here is customers who bought for >20 Euros and also cashed out <200 Euros 4 days around the visit to a store."
   ]
  },
  {
   "cell_type": "code",
   "execution_count": 18,
   "id": "da685ab9",
   "metadata": {
    "scrolled": true
   },
   "outputs": [
    {
     "data": {
      "text/html": [
       "\n",
       "<div id=\"altair-viz-a01b4689d5154ec286d43c9c88b9ecd7\"></div>\n",
       "<script type=\"text/javascript\">\n",
       "  (function(spec, embedOpt){\n",
       "    let outputDiv = document.currentScript.previousElementSibling;\n",
       "    if (outputDiv.id !== \"altair-viz-a01b4689d5154ec286d43c9c88b9ecd7\") {\n",
       "      outputDiv = document.getElementById(\"altair-viz-a01b4689d5154ec286d43c9c88b9ecd7\");\n",
       "    }\n",
       "    const paths = {\n",
       "      \"vega\": \"https://cdn.jsdelivr.net/npm//vega@5?noext\",\n",
       "      \"vega-lib\": \"https://cdn.jsdelivr.net/npm//vega-lib?noext\",\n",
       "      \"vega-lite\": \"https://cdn.jsdelivr.net/npm//vega-lite@4.8.1?noext\",\n",
       "      \"vega-embed\": \"https://cdn.jsdelivr.net/npm//vega-embed@6?noext\",\n",
       "    };\n",
       "\n",
       "    function loadScript(lib) {\n",
       "      return new Promise(function(resolve, reject) {\n",
       "        var s = document.createElement('script');\n",
       "        s.src = paths[lib];\n",
       "        s.async = true;\n",
       "        s.onload = () => resolve(paths[lib]);\n",
       "        s.onerror = () => reject(`Error loading script: ${paths[lib]}`);\n",
       "        document.getElementsByTagName(\"head\")[0].appendChild(s);\n",
       "      });\n",
       "    }\n",
       "\n",
       "    function showError(err) {\n",
       "      outputDiv.innerHTML = `<div class=\"error\" style=\"color:red;\">${err}</div>`;\n",
       "      throw err;\n",
       "    }\n",
       "\n",
       "    function displayChart(vegaEmbed) {\n",
       "      vegaEmbed(outputDiv, spec, embedOpt)\n",
       "        .catch(err => showError(`Javascript Error: ${err.message}<br>This usually means there's a typo in your chart specification. See the javascript console for the full traceback.`));\n",
       "    }\n",
       "\n",
       "    if(typeof define === \"function\" && define.amd) {\n",
       "      requirejs.config({paths});\n",
       "      require([\"vega-embed\"], displayChart, err => showError(`Error loading script: ${err.message}`));\n",
       "    } else if (typeof vegaEmbed === \"function\") {\n",
       "      displayChart(vegaEmbed);\n",
       "    } else {\n",
       "      loadScript(\"vega\")\n",
       "        .then(() => loadScript(\"vega-lite\"))\n",
       "        .then(() => loadScript(\"vega-embed\"))\n",
       "        .catch(showError)\n",
       "        .then(() => displayChart(vegaEmbed));\n",
       "    }\n",
       "  })({\"config\": {\"view\": {\"continuousWidth\": 400, \"continuousHeight\": 300}}, \"layer\": [{\"mark\": \"bar\", \"encoding\": {\"color\": {\"type\": \"nominal\", \"field\": \"subscription\", \"legend\": {\"title\": \"Subcsription\"}}, \"x\": {\"type\": \"quantitative\", \"aggregate\": \"sum\", \"field\": \"count\", \"stack\": \"normalize\", \"title\": null}, \"y\": {\"type\": \"nominal\", \"field\": \"actions\", \"title\": null}}, \"height\": 200, \"title\": \"Existing/potential PWCB customers by subscription\", \"width\": 800}, {\"mark\": {\"type\": \"text\", \"color\": \"white\", \"dx\": -20, \"dy\": 3, \"size\": 9}, \"encoding\": {\"detail\": {\"type\": \"nominal\", \"field\": \"subscription\"}, \"order\": {\"type\": \"nominal\", \"field\": \"subscription\", \"sort\": \"descending\"}, \"text\": {\"type\": \"quantitative\", \"field\": \"cst_norm\", \"format\": \".1%\"}, \"x\": {\"type\": \"quantitative\", \"aggregate\": \"sum\", \"field\": \"count\", \"stack\": \"normalize\", \"title\": null}, \"y\": {\"type\": \"nominal\", \"field\": \"actions\", \"title\": null}}}], \"data\": {\"name\": \"data-4210f6a962d03648577dc285c846992b\"}, \"$schema\": \"https://vega.github.io/schema/vega-lite/v4.8.1.json\", \"datasets\": {\"data-4210f6a962d03648577dc285c846992b\": [{\"subscription\": \"Premium\", \"actions\": \"ATM\", \"count\": 7976, \"cst_sum\": 50810, \"cst_norm\": 0.15697697303680377}, {\"subscription\": \"Flex\", \"actions\": \"PWCB\", \"count\": 733, \"cst_sum\": 2561, \"cst_norm\": 0.28621632174931666}, {\"subscription\": \"Standard\", \"actions\": \"PWCB\", \"count\": 1511, \"cst_sum\": 2561, \"cst_norm\": 0.5900039047247169}, {\"subscription\": \"Flex\", \"actions\": \"ATM\", \"count\": 8226, \"cst_sum\": 50810, \"cst_norm\": 0.16189726431804763}, {\"subscription\": \"Premium\", \"actions\": \"PWCB\", \"count\": 317, \"cst_sum\": 2561, \"cst_norm\": 0.12377977352596642}, {\"subscription\": \"Standard\", \"actions\": \"ATM\", \"count\": 34608, \"cst_sum\": 50810, \"cst_norm\": 0.6811257626451486}, {\"subscription\": \"Standard\", \"actions\": \"MAUs\", \"count\": 1442766, \"cst_sum\": 1733352, \"cst_norm\": 0.8323560361657644}, {\"subscription\": \"Premium\", \"actions\": \"MAUs\", \"count\": 241172, \"cst_sum\": 1733352, \"cst_norm\": 0.13913619391791165}, {\"subscription\": \"Flex\", \"actions\": \"MAUs\", \"count\": 49414, \"cst_sum\": 1733352, \"cst_norm\": 0.028507769916323977}]}}, {\"mode\": \"vega-lite\"});\n",
       "</script>"
      ],
      "text/plain": [
       "alt.LayerChart(...)"
      ]
     },
     "execution_count": 18,
     "metadata": {},
     "output_type": "execute_result"
    }
   ],
   "source": [
    "cst_prod = pd.concat([cst_product, cst_base], ignore_index=True)\n",
    "\n",
    "cst_prod[\"cst_sum\"] = cst_prod.groupby([\"actions\"])[\"count\"].transform(\"sum\")\n",
    "cst_prod[\"cst_norm\"] = cst_prod[\"count\"] / cst_prod[\"cst_sum\"]\n",
    "bars = (\n",
    "    alt.Chart(cst_prod)\n",
    "    .mark_bar()\n",
    "    .encode(\n",
    "        x=alt.X(\"sum(count)\", stack=\"normalize\", title=None),\n",
    "        y=alt.Y(\"actions\", title=None),\n",
    "        color=alt.Color(\"subscription\", legend=alt.Legend(title=\"Subcsription\")),\n",
    "    )\n",
    "    .properties(\n",
    "        width=800, height=200, title=\"Existing/potential PWCB customers by subscription\"\n",
    "    )\n",
    ")\n",
    "\n",
    "text = (\n",
    "    alt.Chart(cst_prod)\n",
    "    .mark_text(dx=-20, dy=3, color=\"white\", size=9)\n",
    "    .encode(\n",
    "        x=alt.X(\n",
    "            \"sum(count)\",\n",
    "            stack=\"normalize\",\n",
    "            title=None,\n",
    "        ),\n",
    "        y=alt.Y(\"actions\", title=None),\n",
    "        detail=\"subscription:N\",\n",
    "        text=alt.Text(\"cst_norm\", format=\".1%\"),\n",
    "        order=alt.Order(\"subscription\", sort=\"descending\"),\n",
    "    )\n",
    ")\n",
    "\n",
    "\n",
    "bars + text"
   ]
  },
  {
   "cell_type": "markdown",
   "id": "7dadef45",
   "metadata": {},
   "source": [
    "There is a significantly higher percentage of Flex customers among PWCB users. Premium account holder ratio using PWCB is slightly less than for MAUs, whereas it's slightly higher for ATM users."
   ]
  },
  {
   "cell_type": "markdown",
   "id": "dde1913d",
   "metadata": {},
   "source": [
    "## 7. Conclusion <a class=\"anchor\" id=\"7\"></a>"
   ]
  },
  {
   "cell_type": "markdown",
   "id": "14466fc9",
   "metadata": {},
   "source": [
    "There are four main things to take out:\n",
    "\n",
    "1. There are around 30k visits weekly to PWCB merchants when customers also cash out at ATMs. However most of them do transactions less than 20 EUR and would not be eligible for a PWCB transaction.\n",
    "\n",
    "2. Potentially there are 5000 customers weekly who do around 9000 store visits with ATM per week. Instead of going to an ATM they could use PWCB as their amounts are fully eligible.\n",
    "\n",
    "3. If we could make 30% of customers to use PWCB, potentially we could expect around 1.8k transactions and 150k EUR weekly to switch from ATM to PWCB.\n",
    "\n",
    "4. A large portion of customers currently using PWCB are Flex customers 28.6% when there are only 2.9% of Flex users among MAUs. \n",
    "\n",
    "5. Out of potential customer pool 15.8% are premium customers who have higher ATM ceiling and could be pushed towards PWCB.\n"
   ]
  },
  {
   "cell_type": "code",
   "execution_count": 19,
   "id": "80ecd4c5",
   "metadata": {},
   "outputs": [
    {
     "data": {
      "text/html": [
       "\n",
       "<script>\n",
       "    code_show=true; \n",
       "    function code_toggle() {\n",
       "        if (code_show){\n",
       "            $('div.input').hide();\n",
       "        } else {\n",
       "            $('div.input').show();\n",
       "            }\n",
       "        code_show = !code_show\n",
       " \n",
       "        $('div.output_subarea').css(\"text-align\", \"center\"); \n",
       "        $('body').css(\"font-family\", \"Montserrat, sans-serif\");\n",
       "        $('h1').css(\"font-family\", \"Karla, sans-serif\");\n",
       "        $('h2').css(\"font-family\", \"Karla, sans-serif\");\n",
       "    } \n",
       "    $( document ).ready(code_toggle);\n",
       "    \n",
       "    </script>\n",
       "    <form action=\"javascript:code_toggle()\">\n",
       "        <input type=\"submit\" value=\"Click here to toggle on/off the raw code.\">\n",
       "    </form>\n"
      ],
      "text/plain": [
       "<IPython.core.display.HTML object>"
      ]
     },
     "execution_count": 19,
     "metadata": {},
     "output_type": "execute_result"
    }
   ],
   "source": [
    "HTML(\n",
    "    \"\"\"\n",
    "<script>\n",
    "    code_show=true; \n",
    "    function code_toggle() {\n",
    "        if (code_show){\n",
    "            $('div.input').hide();\n",
    "        } else {\n",
    "            $('div.input').show();\n",
    "            }\n",
    "        code_show = !code_show\n",
    " \n",
    "        $('div.output_subarea').css(\"text-align\", \"center\"); \n",
    "        $('body').css(\"font-family\", \"Montserrat, sans-serif\");\n",
    "        $('h1').css(\"font-family\", \"Karla, sans-serif\");\n",
    "        $('h2').css(\"font-family\", \"Karla, sans-serif\");\n",
    "    } \n",
    "    $( document ).ready(code_toggle);\n",
    "    \n",
    "    </script>\n",
    "    <form action=\"javascript:code_toggle()\">\n",
    "        <input type=\"submit\" value=\"Click here to toggle on/off the raw code.\">\n",
    "    </form>\n",
    "\"\"\"\n",
    ")"
   ]
  },
  {
   "cell_type": "code",
   "execution_count": null,
   "id": "2355c838",
   "metadata": {},
   "outputs": [],
   "source": []
  }
 ],
 "metadata": {
  "kernelspec": {
   "display_name": "Python 3",
   "language": "python",
   "name": "python3"
  },
  "language_info": {
   "codemirror_mode": {
    "name": "ipython",
    "version": 3
   },
   "file_extension": ".py",
   "mimetype": "text/x-python",
   "name": "python",
   "nbconvert_exporter": "python",
   "pygments_lexer": "ipython3",
   "version": "3.7.2"
  }
 },
 "nbformat": 4,
 "nbformat_minor": 5
}
