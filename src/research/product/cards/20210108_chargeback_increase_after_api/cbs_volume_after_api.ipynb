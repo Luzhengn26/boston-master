{
 "cells": [
  {
   "cell_type": "markdown",
   "metadata": {},
   "source": [
    "title: Quick look at increase of chargebacks after API automaiton was implemented\n",
    "author: Vladas Jankus \n",
    "date: 2021-01-08\n",
    "region: EU  \n",
    "tags: chargeback, cards, card, product, automation, api, unauthorized, unauthorised, back office ticket, bo ticket, bo, back office\n",
    "summary: - It was noticed that the volume of unauthorized chargebacks spiked after API automation was implemented. This happened for ITA, AUT and FRA in May and now in other markets in November. This small ugly research identifies, that around 40-50% of spikes are caused by customers raising repeated BO tickets and customers raising invalid tickets that get rejected. Remaining volume is of distinct customers with valid requests."
   ]
  },
  {
   "cell_type": "code",
   "execution_count": 1,
   "metadata": {
    "metadata": {
     "tags": [
      "remove_cell"
     ]
    }
   },
   "outputs": [],
   "source": [
    "import pandas as pd\n",
    "import altair as alt\n",
    "from utils.datalib_database import df_from_sql\n",
    "from IPython.display import HTML"
   ]
  },
  {
   "cell_type": "code",
   "execution_count": 39,
   "metadata": {
    "metadata": {
     "tags": [
      "remove_cell"
     ]
    }
   },
   "outputs": [
    {
     "name": "stdout",
     "output_type": "stream",
     "text": [
      "{\"message\": \"started\", \"db\": \"redshiftreader\", \"name\": \"datalib-logger\", \"args\": [], \"levelname\": \"INFO\", \"pathname\": \"/usr/local/lib/python3.7/site-packages/datalib/database.py\", \"filename\": \"database.py\", \"module\": \"database\", \"lineno\": 114, \"funcName\": \"df_from_sql\", \"created\": \"20210108T093447\", \"processName\": \"MainProcess\", \"service\": \"fargo\", \"environment\": \"local\", \"loggerId\": \"87278fba-f4af-4b38-a5ca-b57cf14cd879\", \"hostname\": \"172.22.0.4\"}\n",
      "{\"message\": \"success\", \"db\": \"redshiftreader\", \"duration\": 24.728, \"name\": \"datalib-logger\", \"args\": [], \"levelname\": \"INFO\", \"pathname\": \"/usr/local/lib/python3.7/site-packages/datalib/database.py\", \"filename\": \"database.py\", \"module\": \"database\", \"lineno\": 124, \"funcName\": \"df_from_sql\", \"created\": \"20210108T093512\", \"processName\": \"MainProcess\", \"service\": \"fargo\", \"environment\": \"local\", \"loggerId\": \"87278fba-f4af-4b38-a5ca-b57cf14cd879\", \"hostname\": \"172.22.0.4\"}\n",
      "{\"message\": \"started\", \"db\": \"redshiftreader\", \"name\": \"datalib-logger\", \"args\": [], \"levelname\": \"INFO\", \"pathname\": \"/usr/local/lib/python3.7/site-packages/datalib/database.py\", \"filename\": \"database.py\", \"module\": \"database\", \"lineno\": 114, \"funcName\": \"df_from_sql\", \"created\": \"20210108T093519\", \"processName\": \"MainProcess\", \"service\": \"fargo\", \"environment\": \"local\", \"loggerId\": \"87278fba-f4af-4b38-a5ca-b57cf14cd879\", \"hostname\": \"172.22.0.4\"}\n",
      "{\"message\": \"success\", \"db\": \"redshiftreader\", \"duration\": 23.9846, \"name\": \"datalib-logger\", \"args\": [], \"levelname\": \"INFO\", \"pathname\": \"/usr/local/lib/python3.7/site-packages/datalib/database.py\", \"filename\": \"database.py\", \"module\": \"database\", \"lineno\": 124, \"funcName\": \"df_from_sql\", \"created\": \"20210108T093543\", \"processName\": \"MainProcess\", \"service\": \"fargo\", \"environment\": \"local\", \"loggerId\": \"87278fba-f4af-4b38-a5ca-b57cf14cd879\", \"hostname\": \"172.22.0.4\"}\n",
      "{\"message\": \"started\", \"db\": \"redshiftreader\", \"name\": \"datalib-logger\", \"args\": [], \"levelname\": \"INFO\", \"pathname\": \"/usr/local/lib/python3.7/site-packages/datalib/database.py\", \"filename\": \"database.py\", \"module\": \"database\", \"lineno\": 114, \"funcName\": \"df_from_sql\", \"created\": \"20210108T093548\", \"processName\": \"MainProcess\", \"service\": \"fargo\", \"environment\": \"local\", \"loggerId\": \"87278fba-f4af-4b38-a5ca-b57cf14cd879\", \"hostname\": \"172.22.0.4\"}\n",
      "{\"message\": \"success\", \"db\": \"redshiftreader\", \"duration\": 28.0973, \"name\": \"datalib-logger\", \"args\": [], \"levelname\": \"INFO\", \"pathname\": \"/usr/local/lib/python3.7/site-packages/datalib/database.py\", \"filename\": \"database.py\", \"module\": \"database\", \"lineno\": 124, \"funcName\": \"df_from_sql\", \"created\": \"20210108T093616\", \"processName\": \"MainProcess\", \"service\": \"fargo\", \"environment\": \"local\", \"loggerId\": \"87278fba-f4af-4b38-a5ca-b57cf14cd879\", \"hostname\": \"172.22.0.4\"}\n",
      "{\"message\": \"started\", \"db\": \"redshiftreader\", \"name\": \"datalib-logger\", \"args\": [], \"levelname\": \"INFO\", \"pathname\": \"/usr/local/lib/python3.7/site-packages/datalib/database.py\", \"filename\": \"database.py\", \"module\": \"database\", \"lineno\": 114, \"funcName\": \"df_from_sql\", \"created\": \"20210108T093632\", \"processName\": \"MainProcess\", \"service\": \"fargo\", \"environment\": \"local\", \"loggerId\": \"87278fba-f4af-4b38-a5ca-b57cf14cd879\", \"hostname\": \"172.22.0.4\"}\n",
      "{\"message\": \"success\", \"db\": \"redshiftreader\", \"duration\": 28.2888, \"name\": \"datalib-logger\", \"args\": [], \"levelname\": \"INFO\", \"pathname\": \"/usr/local/lib/python3.7/site-packages/datalib/database.py\", \"filename\": \"database.py\", \"module\": \"database\", \"lineno\": 124, \"funcName\": \"df_from_sql\", \"created\": \"20210108T093700\", \"processName\": \"MainProcess\", \"service\": \"fargo\", \"environment\": \"local\", \"loggerId\": \"87278fba-f4af-4b38-a5ca-b57cf14cd879\", \"hostname\": \"172.22.0.4\"}\n"
     ]
    }
   ],
   "source": [
    "# monthly aggregated data of overall volumes\n",
    "cbs_m = df_from_sql(\n",
    "    \"redshiftreader\",\n",
    "    \"\"\"\n",
    "        select\n",
    "            to_char(sf_back_office_ticket.created_date, 'yyyy-mm') as created,\n",
    "            case\n",
    "                when zrh_users.country_tnc_legal in ('DEU','AUT','FRA','ITA','ESP','GBR') \n",
    "                    then trim(zrh_users.country_tnc_legal)\n",
    "                when zrh_users.country_tnc_legal in ('NLD','IRL','GRC','PRT','BEL','LUX','FIN','EST','LVA','LTU','SVK','SVN') \n",
    "                    then 'GrE'\n",
    "                when zrh_users.country_tnc_legal in ('POL', 'NOR', 'SWE', 'DNK', 'ISL', 'LIE', 'CHE') \n",
    "                    then 'NEuro'\n",
    "                else 'RoE'\n",
    "            end as market,\n",
    "            'automated' as type,\n",
    "            count(*)\n",
    "        from sf_back_office_ticket\n",
    "        inner join dbt.zrh_users\n",
    "            on sf_back_office_ticket.contact = zrh_users.contact_id\n",
    "        where chargeback_type = 'Unauthorized Transaction'\n",
    "            and created_date > date('2020-01-01')\n",
    "            and created_date < date('2021-01-01')\n",
    "            and created_by_role = 'API User'\n",
    "        group by 1, 2\n",
    "        \n",
    "        union all \n",
    "        \n",
    "        select\n",
    "            to_char(sf_back_office_ticket.created_date, 'yyyy-mm') as created,\n",
    "            case\n",
    "                when zrh_users.country_tnc_legal in ('DEU','AUT','FRA','ITA','ESP','GBR') \n",
    "                    then trim(zrh_users.country_tnc_legal)\n",
    "                when zrh_users.country_tnc_legal in ('NLD','IRL','GRC','PRT','BEL','LUX','FIN','EST','LVA','LTU','SVK','SVN') \n",
    "                    then 'GrE'\n",
    "                when zrh_users.country_tnc_legal in ('POL', 'NOR', 'SWE', 'DNK', 'ISL', 'LIE', 'CHE') \n",
    "                    then 'NEuro'\n",
    "                else 'RoE'\n",
    "            end as market,\n",
    "            'total' as type,\n",
    "            count(*)\n",
    "        from sf_back_office_ticket\n",
    "        inner join dbt.zrh_users\n",
    "            on sf_back_office_ticket.contact = zrh_users.contact_id\n",
    "        where chargeback_type = 'Unauthorized Transaction'\n",
    "            and created_date > date('2020-01-01')\n",
    "            and created_date < date('2021-01-01')\n",
    "        group by 1, 2\n",
    "    \"\"\",\n",
    ")\n",
    "\n",
    "# repeated bo_ticets aggregated monthly\n",
    "cbs_u = df_from_sql(\n",
    "    \"redshiftreader\",\n",
    "    \"\"\"\n",
    "        select \n",
    "            to_char(created, 'yyyy-mm') as created,\n",
    "            market,\n",
    "            automated,\n",
    "            count(*)\n",
    "        from (\n",
    "            select\n",
    "                sf_back_office_ticket.created_date as created,\n",
    "                case\n",
    "                    when zrh_users.country_tnc_legal in ('DEU','AUT','FRA','ITA','ESP','GBR') \n",
    "                        then trim(zrh_users.country_tnc_legal)\n",
    "                    when zrh_users.country_tnc_legal in ('NLD','IRL','GRC','PRT','BEL','LUX','FIN','EST','LVA','LTU','SVK','SVN') \n",
    "                        then 'GrE'\n",
    "                    when zrh_users.country_tnc_legal in ('POL', 'NOR', 'SWE', 'DNK', 'ISL', 'LIE', 'CHE') \n",
    "                        then 'NEuro'\n",
    "                    else 'RoE'\n",
    "                end as market,\n",
    "                created_by_role = 'API User' as automated,\n",
    "                lag(id) over (partition by contact order by created_date) is not null as repeated_chargeback\n",
    "            from sf_back_office_ticket\n",
    "            inner join dbt.zrh_users\n",
    "                on sf_back_office_ticket.contact = zrh_users.contact_id\n",
    "            where chargeback_type = 'Unauthorized Transaction'\n",
    "                and created_date >= date('2020-01-01')\n",
    "                and created_date < date('2021-01-01')\n",
    "        )\n",
    "        where repeated_chargeback\n",
    "        group by 1, 2, 3\n",
    "    \"\"\",\n",
    ")\n",
    "\n",
    "# amount and count aggregated (taken from a separate sql query)\n",
    "raw_data = {\n",
    "    \"created\": [\n",
    "        \"2020-05\",\n",
    "        \"2020-09\",\n",
    "        \"2020-11\",\n",
    "        \"2020-10\",\n",
    "        \"2020-4\",\n",
    "        \"2020-07\",\n",
    "        \"2020-08\",\n",
    "        \"2020-06\",\n",
    "        \"2020-12\",\n",
    "    ],\n",
    "    \"cbs_count\": [\"2960\", \"1042\", \"4654\", \"1766\", \"22\", \"769\", \"752\", \"1262\", \"6600\"],\n",
    "    \"cbs_value\": [\n",
    "        \"154529.64\",\n",
    "        \"84300.03\",\n",
    "        \"303169.06\",\n",
    "        \"126786.94\",\n",
    "        \"598.86\",\n",
    "        \"40547.16\",\n",
    "        \"43495.55\",\n",
    "        \"95279.41\",\n",
    "        \"475103.45\",\n",
    "    ],\n",
    "    \"avg_value\": [\n",
    "        \"52.20595946\",\n",
    "        \"80.90214012\",\n",
    "        \"65.14161152\",\n",
    "        \"71.79328426\",\n",
    "        \"27.22090909\",\n",
    "        \"52.72712614\",\n",
    "        \"57.83982713\",\n",
    "        \"75.4987401\",\n",
    "        \"71.98537121\",\n",
    "    ],\n",
    "}\n",
    "\n",
    "cbs_calc = pd.DataFrame(\n",
    "    raw_data, columns=[\"created\", \"cbs_count\", \"cbs_value\", \"avg_value\"]\n",
    ")\n",
    "\n",
    "# rejected bo_ticets aggregated monthly\n",
    "cbs_reject = df_from_sql(\n",
    "    \"redshiftreader\",\n",
    "    \"\"\"\n",
    "        select \n",
    "            to_char(created_date, 'yyyy-mm') as created,\n",
    "            sum((resolution_type = 'Rejected' and created_by_role = 'API User')::int) as rejections_api,\n",
    "            avg((resolution_type = 'Rejected')::int::float) as reject_ratio\n",
    "        from sf_back_office_ticket\n",
    "        where chargeback_type = 'Unauthorized Transaction'\n",
    "            and created_date >= date('2020-01-01')\n",
    "            and created_date < date('2021-01-01')\n",
    "        group by 1\n",
    "        order by 1 desc\n",
    "    \"\"\",\n",
    ")\n",
    "\n",
    "# removed rejected and repeated to flatten the chart\n",
    "cbs_flat_1 = df_from_sql(\n",
    "    \"redshiftreader\",\n",
    "    \"\"\"\n",
    "        with base as (\n",
    "            select\n",
    "                sf_back_office_ticket.created_date as created,\n",
    "                created_by_role = 'API User' as automated,\n",
    "                resolution_type = 'Rejected' as rejected,\n",
    "                resolution_type is null as no_resolution,\n",
    "                lag(id) over (partition by contact order by created_date) is not null as repeated_chargeback\n",
    "            from sf_back_office_ticket\n",
    "            where chargeback_type = 'Unauthorized Transaction'\n",
    "                and created_date >= date('2020-01-01')\n",
    "                and created_date < date('2021-01-01')\n",
    "        )\n",
    "        select \n",
    "            to_char(created, 'yyyy-mm') as created,\n",
    "            count(*)\n",
    "        from base \n",
    "        where not repeated_chargeback\n",
    "            and not rejected\n",
    "        group by 1 \n",
    "    \"\"\",\n",
    ")"
   ]
  },
  {
   "cell_type": "markdown",
   "metadata": {},
   "source": [
    "# Quick look at increase of chargebacks after API automaiton was implemented\n",
    "Vladas Jankus<br/>\n",
    "2021-01-08\n",
    "\n",
    "### Contents:\n",
    "* [1. Spike in May](#spike_may)\n",
    "* [2. Spike in November-December](#spike_novdec)\n",
    "* [Assumption 1: People are filing for more smaller value amount chargebacks](#ass1)\n",
    "  * [Repeated ticket volumes](#sub1)\n",
    "  * [Average chargeback value](#sub2)\n",
    "* [Assumption 2: There is an increase in card fraud](#ass2)\n",
    "* [Assumption 3: People like the convenience of filing a CB via in-app form](#ass3)\n",
    "* [Assumption 4: People are incorrectly using the in-app](#ass4)\n",
    "* [Flattening the spikes](#conc)\n",
    "\n"
   ]
  },
  {
   "cell_type": "markdown",
   "metadata": {},
   "source": [
    "## TL; DR"
   ]
  },
  {
   "cell_type": "markdown",
   "metadata": {},
   "source": [
    "It was noticed, that after API-automization was introduced, there's an increased amount of unauthorized chargebacks raised. Automization was introduced in three markets (ITA, AUT, FRA) in May, and the rest of markets in November. FRA was discontinued in April, because the chargebacks spiked. Now the same behaviour appears to happen again in November.\n",
    "\n",
    "Chart below visualizes the issue:"
   ]
  },
  {
   "cell_type": "code",
   "execution_count": 4,
   "metadata": {
    "scrolled": false
   },
   "outputs": [
    {
     "data": {
      "text/html": [
       "\n",
       "<div id=\"altair-viz-4dec24575b5844bd8054e686cdb840f8\"></div>\n",
       "<script type=\"text/javascript\">\n",
       "  (function(spec, embedOpt){\n",
       "    let outputDiv = document.currentScript.previousElementSibling;\n",
       "    if (outputDiv.id !== \"altair-viz-4dec24575b5844bd8054e686cdb840f8\") {\n",
       "      outputDiv = document.getElementById(\"altair-viz-4dec24575b5844bd8054e686cdb840f8\");\n",
       "    }\n",
       "    const paths = {\n",
       "      \"vega\": \"https://cdn.jsdelivr.net/npm//vega@5?noext\",\n",
       "      \"vega-lib\": \"https://cdn.jsdelivr.net/npm//vega-lib?noext\",\n",
       "      \"vega-lite\": \"https://cdn.jsdelivr.net/npm//vega-lite@4.8.1?noext\",\n",
       "      \"vega-embed\": \"https://cdn.jsdelivr.net/npm//vega-embed@6?noext\",\n",
       "    };\n",
       "\n",
       "    function loadScript(lib) {\n",
       "      return new Promise(function(resolve, reject) {\n",
       "        var s = document.createElement('script');\n",
       "        s.src = paths[lib];\n",
       "        s.async = true;\n",
       "        s.onload = () => resolve(paths[lib]);\n",
       "        s.onerror = () => reject(`Error loading script: ${paths[lib]}`);\n",
       "        document.getElementsByTagName(\"head\")[0].appendChild(s);\n",
       "      });\n",
       "    }\n",
       "\n",
       "    function showError(err) {\n",
       "      outputDiv.innerHTML = `<div class=\"error\" style=\"color:red;\">${err}</div>`;\n",
       "      throw err;\n",
       "    }\n",
       "\n",
       "    function displayChart(vegaEmbed) {\n",
       "      vegaEmbed(outputDiv, spec, embedOpt)\n",
       "        .catch(err => showError(`Javascript Error: ${err.message}<br>This usually means there's a typo in your chart specification. See the javascript console for the full traceback.`));\n",
       "    }\n",
       "\n",
       "    if(typeof define === \"function\" && define.amd) {\n",
       "      requirejs.config({paths});\n",
       "      require([\"vega-embed\"], displayChart, err => showError(`Error loading script: ${err.message}`));\n",
       "    } else if (typeof vegaEmbed === \"function\") {\n",
       "      displayChart(vegaEmbed);\n",
       "    } else {\n",
       "      loadScript(\"vega\")\n",
       "        .then(() => loadScript(\"vega-lite\"))\n",
       "        .then(() => loadScript(\"vega-embed\"))\n",
       "        .catch(showError)\n",
       "        .then(() => displayChart(vegaEmbed));\n",
       "    }\n",
       "  })({\"config\": {\"view\": {\"continuousWidth\": 400, \"continuousHeight\": 300}}, \"data\": {\"name\": \"data-63f6ffa31c1532d60b904db4cda3f3ef\"}, \"mark\": {\"type\": \"area\", \"opacity\": 0.3}, \"encoding\": {\"color\": {\"type\": \"nominal\", \"field\": \"type\"}, \"x\": {\"type\": \"temporal\", \"field\": \"created\"}, \"y\": {\"type\": \"quantitative\", \"field\": \"count\", \"stack\": null}}, \"height\": 200, \"title\": \"Chargeback volume by created type\", \"width\": 500, \"$schema\": \"https://vega.github.io/schema/vega-lite/v4.8.1.json\", \"datasets\": {\"data-63f6ffa31c1532d60b904db4cda3f3ef\": [{\"created\": \"2020-01\", \"type\": \"total\", \"count\": 2030}, {\"created\": \"2020-02\", \"type\": \"total\", \"count\": 1417}, {\"created\": \"2020-03\", \"type\": \"total\", \"count\": 1846}, {\"created\": \"2020-04\", \"type\": \"automated\", \"count\": 21}, {\"created\": \"2020-04\", \"type\": \"total\", \"count\": 1474}, {\"created\": \"2020-05\", \"type\": \"automated\", \"count\": 2176}, {\"created\": \"2020-05\", \"type\": \"total\", \"count\": 3376}, {\"created\": \"2020-06\", \"type\": \"automated\", \"count\": 892}, {\"created\": \"2020-06\", \"type\": \"total\", \"count\": 2239}, {\"created\": \"2020-07\", \"type\": \"automated\", \"count\": 544}, {\"created\": \"2020-07\", \"type\": \"total\", \"count\": 1808}, {\"created\": \"2020-08\", \"type\": \"automated\", \"count\": 451}, {\"created\": \"2020-08\", \"type\": \"total\", \"count\": 1526}, {\"created\": \"2020-09\", \"type\": \"automated\", \"count\": 407}, {\"created\": \"2020-09\", \"type\": \"total\", \"count\": 1779}, {\"created\": \"2020-10\", \"type\": \"automated\", \"count\": 808}, {\"created\": \"2020-10\", \"type\": \"total\", \"count\": 2068}, {\"created\": \"2020-11\", \"type\": \"automated\", \"count\": 1973}, {\"created\": \"2020-11\", \"type\": \"total\", \"count\": 3087}, {\"created\": \"2020-12\", \"type\": \"automated\", \"count\": 3051}, {\"created\": \"2020-12\", \"type\": \"total\", \"count\": 3994}]}}, {\"mode\": \"vega-lite\"});\n",
       "</script>"
      ],
      "text/plain": [
       "alt.Chart(...)"
      ]
     },
     "metadata": {},
     "output_type": "display_data"
    }
   ],
   "source": [
    "source = cbs_m.groupby([\"created\", \"type\"])[\"count\"].sum().reset_index()\n",
    "\n",
    "alt.Chart(source).mark_area(opacity=0.3).encode(\n",
    "    x=\"created:T\", y=alt.Y(\"count:Q\", stack=None), color=\"type:N\"\n",
    ").properties(width=500, height=200, title=\"Chargeback volume by created type\").display()"
   ]
  },
  {
   "cell_type": "markdown",
   "metadata": {},
   "source": [
    "Unauthorized transaction chargeback volumes saw a spike in May and November-December. In both cases it looks that spikes were caused by solely by automated chargebacs. \n",
    "\n",
    "Unautomated ticket volumes slightly decreased, from 1500-2000 in Q1 to around 1000-1200 in the remainder of the year. In June-October, the weight of automated tickets seems to be reasonable - less than 1000 cases. That roughly replaces the volume lost on unautomated tickets.\n",
    "\n",
    "Months of May, November and December have much higher spikes of automated tickets. 2000-2500 in volume.\n",
    "\n",
    "The purpose of this research is to quickly look into the numbers to understand what was causing the spikes."
   ]
  },
  {
   "cell_type": "markdown",
   "metadata": {},
   "source": [
    "It was found, that the spikes are partially caused by users who created repeated BO tickets and by incorrectly raised requests that got rejected. This covers roughly around 40%-50% of the spike volume. \n",
    "\n",
    "Remaining volume is attributed to distinct customers raising valid requests. It could be attributed to behavioural reasons, especially if the customers were notified about the launch and started using in-app form on a higher level."
   ]
  },
  {
   "cell_type": "markdown",
   "metadata": {},
   "source": [
    "## 1. Spike in May <a class=\"anchor\" id=\"spike_may\"></a>"
   ]
  },
  {
   "cell_type": "markdown",
   "metadata": {},
   "source": [
    "Spike in may could have been caused only by Italy, Austria and/or France because only these markets had automation launched in May. Let's look at these markets separately first.\n",
    "\n",
    "Note: scroll right to see all charts. Charts have different scale."
   ]
  },
  {
   "cell_type": "code",
   "execution_count": 22,
   "metadata": {
    "scrolled": false
   },
   "outputs": [
    {
     "data": {
      "text/html": [
       "\n",
       "<div id=\"altair-viz-a0591bb0e20c474883798629379db853\"></div>\n",
       "<script type=\"text/javascript\">\n",
       "  (function(spec, embedOpt){\n",
       "    let outputDiv = document.currentScript.previousElementSibling;\n",
       "    if (outputDiv.id !== \"altair-viz-a0591bb0e20c474883798629379db853\") {\n",
       "      outputDiv = document.getElementById(\"altair-viz-a0591bb0e20c474883798629379db853\");\n",
       "    }\n",
       "    const paths = {\n",
       "      \"vega\": \"https://cdn.jsdelivr.net/npm//vega@5?noext\",\n",
       "      \"vega-lib\": \"https://cdn.jsdelivr.net/npm//vega-lib?noext\",\n",
       "      \"vega-lite\": \"https://cdn.jsdelivr.net/npm//vega-lite@4.8.1?noext\",\n",
       "      \"vega-embed\": \"https://cdn.jsdelivr.net/npm//vega-embed@6?noext\",\n",
       "    };\n",
       "\n",
       "    function loadScript(lib) {\n",
       "      return new Promise(function(resolve, reject) {\n",
       "        var s = document.createElement('script');\n",
       "        s.src = paths[lib];\n",
       "        s.async = true;\n",
       "        s.onload = () => resolve(paths[lib]);\n",
       "        s.onerror = () => reject(`Error loading script: ${paths[lib]}`);\n",
       "        document.getElementsByTagName(\"head\")[0].appendChild(s);\n",
       "      });\n",
       "    }\n",
       "\n",
       "    function showError(err) {\n",
       "      outputDiv.innerHTML = `<div class=\"error\" style=\"color:red;\">${err}</div>`;\n",
       "      throw err;\n",
       "    }\n",
       "\n",
       "    function displayChart(vegaEmbed) {\n",
       "      vegaEmbed(outputDiv, spec, embedOpt)\n",
       "        .catch(err => showError(`Javascript Error: ${err.message}<br>This usually means there's a typo in your chart specification. See the javascript console for the full traceback.`));\n",
       "    }\n",
       "\n",
       "    if(typeof define === \"function\" && define.amd) {\n",
       "      requirejs.config({paths});\n",
       "      require([\"vega-embed\"], displayChart, err => showError(`Error loading script: ${err.message}`));\n",
       "    } else if (typeof vegaEmbed === \"function\") {\n",
       "      displayChart(vegaEmbed);\n",
       "    } else {\n",
       "      loadScript(\"vega\")\n",
       "        .then(() => loadScript(\"vega-lite\"))\n",
       "        .then(() => loadScript(\"vega-embed\"))\n",
       "        .catch(showError)\n",
       "        .then(() => displayChart(vegaEmbed));\n",
       "    }\n",
       "  })({\"config\": {\"view\": {\"continuousWidth\": 400, \"continuousHeight\": 300}}, \"hconcat\": [{\"data\": {\"name\": \"data-fd659e4a6599ead188a45dd5079bcad3\"}, \"mark\": {\"type\": \"area\", \"opacity\": 0.3}, \"encoding\": {\"color\": {\"type\": \"nominal\", \"field\": \"type\"}, \"x\": {\"type\": \"temporal\", \"field\": \"created\"}, \"y\": {\"type\": \"quantitative\", \"field\": \"count\", \"stack\": null}}, \"height\": 200, \"title\": \"FRA\", \"width\": 600}, {\"data\": {\"name\": \"data-1f28787e8874223c491c2d8b13c6d289\"}, \"mark\": {\"type\": \"area\", \"opacity\": 0.3}, \"encoding\": {\"color\": {\"type\": \"nominal\", \"field\": \"type\"}, \"x\": {\"type\": \"temporal\", \"field\": \"created\"}, \"y\": {\"type\": \"quantitative\", \"field\": \"count\", \"stack\": null}}, \"height\": 200, \"title\": \"AUT\", \"width\": 600}, {\"data\": {\"name\": \"data-102fbf8a3aa9b098757e84516ce59529\"}, \"mark\": {\"type\": \"area\", \"opacity\": 0.3}, \"encoding\": {\"color\": {\"type\": \"nominal\", \"field\": \"type\"}, \"x\": {\"type\": \"temporal\", \"field\": \"created\"}, \"y\": {\"type\": \"quantitative\", \"field\": \"count\", \"stack\": null}}, \"height\": 200, \"title\": \"ITA\", \"width\": 600}], \"$schema\": \"https://vega.github.io/schema/vega-lite/v4.8.1.json\", \"datasets\": {\"data-fd659e4a6599ead188a45dd5079bcad3\": [{\"created\": \"2020-04\", \"market\": \"FRA\", \"type\": \"automated\", \"count\": 1}, {\"created\": \"2020-06\", \"market\": \"FRA\", \"type\": \"automated\", \"count\": 439}, {\"created\": \"2020-05\", \"market\": \"FRA\", \"type\": \"automated\", \"count\": 1310}, {\"created\": \"2020-12\", \"market\": \"FRA\", \"type\": \"total\", \"count\": 581}, {\"created\": \"2020-10\", \"market\": \"FRA\", \"type\": \"total\", \"count\": 527}, {\"created\": \"2020-02\", \"market\": \"FRA\", \"type\": \"total\", \"count\": 485}, {\"created\": \"2020-08\", \"market\": \"FRA\", \"type\": \"total\", \"count\": 522}, {\"created\": \"2020-01\", \"market\": \"FRA\", \"type\": \"total\", \"count\": 730}, {\"created\": \"2020-04\", \"market\": \"FRA\", \"type\": \"total\", \"count\": 582}, {\"created\": \"2020-03\", \"market\": \"FRA\", \"type\": \"total\", \"count\": 686}, {\"created\": \"2020-06\", \"market\": \"FRA\", \"type\": \"total\", \"count\": 972}, {\"created\": \"2020-11\", \"market\": \"FRA\", \"type\": \"total\", \"count\": 666}, {\"created\": \"2020-05\", \"market\": \"FRA\", \"type\": \"total\", \"count\": 1845}, {\"created\": \"2020-09\", \"market\": \"FRA\", \"type\": \"total\", \"count\": 659}, {\"created\": \"2020-07\", \"market\": \"FRA\", \"type\": \"total\", \"count\": 576}], \"data-1f28787e8874223c491c2d8b13c6d289\": [{\"created\": \"2020-07\", \"market\": \"AUT\", \"type\": \"automated\", \"count\": 108}, {\"created\": \"2020-12\", \"market\": \"AUT\", \"type\": \"automated\", \"count\": 138}, {\"created\": \"2020-08\", \"market\": \"AUT\", \"type\": \"automated\", \"count\": 113}, {\"created\": \"2020-04\", \"market\": \"AUT\", \"type\": \"automated\", \"count\": 12}, {\"created\": \"2020-10\", \"market\": \"AUT\", \"type\": \"automated\", \"count\": 93}, {\"created\": \"2020-05\", \"market\": \"AUT\", \"type\": \"automated\", \"count\": 249}, {\"created\": \"2020-11\", \"market\": \"AUT\", \"type\": \"automated\", \"count\": 141}, {\"created\": \"2020-09\", \"market\": \"AUT\", \"type\": \"automated\", \"count\": 104}, {\"created\": \"2020-06\", \"market\": \"AUT\", \"type\": \"automated\", \"count\": 107}, {\"created\": \"2020-05\", \"market\": \"AUT\", \"type\": \"total\", \"count\": 269}, {\"created\": \"2020-09\", \"market\": \"AUT\", \"type\": \"total\", \"count\": 121}, {\"created\": \"2020-06\", \"market\": \"AUT\", \"type\": \"total\", \"count\": 134}, {\"created\": \"2020-01\", \"market\": \"AUT\", \"type\": \"total\", \"count\": 80}, {\"created\": \"2020-10\", \"market\": \"AUT\", \"type\": \"total\", \"count\": 113}, {\"created\": \"2020-11\", \"market\": \"AUT\", \"type\": \"total\", \"count\": 182}, {\"created\": \"2020-04\", \"market\": \"AUT\", \"type\": \"total\", \"count\": 62}, {\"created\": \"2020-03\", \"market\": \"AUT\", \"type\": \"total\", \"count\": 66}, {\"created\": \"2020-08\", \"market\": \"AUT\", \"type\": \"total\", \"count\": 122}, {\"created\": \"2020-12\", \"market\": \"AUT\", \"type\": \"total\", \"count\": 159}, {\"created\": \"2020-07\", \"market\": \"AUT\", \"type\": \"total\", \"count\": 121}, {\"created\": \"2020-02\", \"market\": \"AUT\", \"type\": \"total\", \"count\": 62}], \"data-102fbf8a3aa9b098757e84516ce59529\": [{\"created\": \"2020-05\", \"market\": \"ITA\", \"type\": \"automated\", \"count\": 617}, {\"created\": \"2020-11\", \"market\": \"ITA\", \"type\": \"automated\", \"count\": 378}, {\"created\": \"2020-08\", \"market\": \"ITA\", \"type\": \"automated\", \"count\": 338}, {\"created\": \"2020-10\", \"market\": \"ITA\", \"type\": \"automated\", \"count\": 306}, {\"created\": \"2020-07\", \"market\": \"ITA\", \"type\": \"automated\", \"count\": 436}, {\"created\": \"2020-12\", \"market\": \"ITA\", \"type\": \"automated\", \"count\": 462}, {\"created\": \"2020-09\", \"market\": \"ITA\", \"type\": \"automated\", \"count\": 303}, {\"created\": \"2020-04\", \"market\": \"ITA\", \"type\": \"automated\", \"count\": 5}, {\"created\": \"2020-06\", \"market\": \"ITA\", \"type\": \"automated\", \"count\": 346}, {\"created\": \"2020-08\", \"market\": \"ITA\", \"type\": \"total\", \"count\": 366}, {\"created\": \"2020-02\", \"market\": \"ITA\", \"type\": \"total\", \"count\": 104}, {\"created\": \"2020-04\", \"market\": \"ITA\", \"type\": \"total\", \"count\": 137}, {\"created\": \"2020-06\", \"market\": \"ITA\", \"type\": \"total\", \"count\": 437}, {\"created\": \"2020-12\", \"market\": \"ITA\", \"type\": \"total\", \"count\": 490}, {\"created\": \"2020-01\", \"market\": \"ITA\", \"type\": \"total\", \"count\": 116}, {\"created\": \"2020-07\", \"market\": \"ITA\", \"type\": \"total\", \"count\": 474}, {\"created\": \"2020-10\", \"market\": \"ITA\", \"type\": \"total\", \"count\": 365}, {\"created\": \"2020-11\", \"market\": \"ITA\", \"type\": \"total\", \"count\": 426}, {\"created\": \"2020-05\", \"market\": \"ITA\", \"type\": \"total\", \"count\": 686}, {\"created\": \"2020-03\", \"market\": \"ITA\", \"type\": \"total\", \"count\": 138}, {\"created\": \"2020-09\", \"market\": \"ITA\", \"type\": \"total\", \"count\": 342}]}}, {\"mode\": \"vega-lite\"});\n",
       "</script>"
      ],
      "text/plain": [
       "alt.HConcatChart(...)"
      ]
     },
     "execution_count": 22,
     "metadata": {},
     "output_type": "execute_result"
    }
   ],
   "source": [
    "charts = []\n",
    "markets = [\"FRA\", \"AUT\", \"ITA\"]\n",
    "for market in markets:\n",
    "    source = cbs_m.loc[cbs_m[\"market\"] == market].sort_values(by=[\"type\"])\n",
    "    charts.append(\n",
    "        alt.Chart(source)\n",
    "        .mark_area(opacity=0.3)\n",
    "        .encode(x=\"created:T\", y=alt.Y(\"count:Q\", stack=None), color=\"type:N\")\n",
    "        .properties(width=600, height=200, title=market)\n",
    "    )\n",
    "alt.hconcat(*charts)"
   ]
  },
  {
   "cell_type": "markdown",
   "metadata": {},
   "source": [
    "There are several things to be emphasized here:\n",
    "\n",
    "1. First month after automation introduction saw a huge spike. In AUT and ITA markets this spike was not repeated again during the year.\n",
    "\n",
    "2. In AUT and ITA, increased volume of tickets remained throughout the year. At a lower level than in May, but at least 2-3 times higher than before. In France, the volume dropped back to usual after the automation was discontinued.\n",
    "\n",
    "3. July-October, looked normal in the overall chart, because the volume from AUT and ITA markets does not have a large ratio when comparison with others. Looking at these markets separately, it's evident that in July-October the ticket volumes remained elevated.\n",
    "\n",
    "4. There is no spike in November-December. There's an increase, but not significant compared to May."
   ]
  },
  {
   "cell_type": "markdown",
   "metadata": {},
   "source": [
    "## 2. Spike in November-December <a class=\"anchor\" id=\"spike_novdec\"></a>"
   ]
  },
  {
   "cell_type": "markdown",
   "metadata": {},
   "source": [
    "Since FRA, AUT and ITA markets did not see a significant spike in November - December, let's look at all other markets only.\n",
    "\n",
    "Note: scroll right to see all charts. Charts have different scale."
   ]
  },
  {
   "cell_type": "code",
   "execution_count": 25,
   "metadata": {
    "scrolled": false
   },
   "outputs": [
    {
     "data": {
      "text/html": [
       "\n",
       "<div id=\"altair-viz-76aebab68f2543a889deb22f2e5dced9\"></div>\n",
       "<script type=\"text/javascript\">\n",
       "  (function(spec, embedOpt){\n",
       "    let outputDiv = document.currentScript.previousElementSibling;\n",
       "    if (outputDiv.id !== \"altair-viz-76aebab68f2543a889deb22f2e5dced9\") {\n",
       "      outputDiv = document.getElementById(\"altair-viz-76aebab68f2543a889deb22f2e5dced9\");\n",
       "    }\n",
       "    const paths = {\n",
       "      \"vega\": \"https://cdn.jsdelivr.net/npm//vega@5?noext\",\n",
       "      \"vega-lib\": \"https://cdn.jsdelivr.net/npm//vega-lib?noext\",\n",
       "      \"vega-lite\": \"https://cdn.jsdelivr.net/npm//vega-lite@4.8.1?noext\",\n",
       "      \"vega-embed\": \"https://cdn.jsdelivr.net/npm//vega-embed@6?noext\",\n",
       "    };\n",
       "\n",
       "    function loadScript(lib) {\n",
       "      return new Promise(function(resolve, reject) {\n",
       "        var s = document.createElement('script');\n",
       "        s.src = paths[lib];\n",
       "        s.async = true;\n",
       "        s.onload = () => resolve(paths[lib]);\n",
       "        s.onerror = () => reject(`Error loading script: ${paths[lib]}`);\n",
       "        document.getElementsByTagName(\"head\")[0].appendChild(s);\n",
       "      });\n",
       "    }\n",
       "\n",
       "    function showError(err) {\n",
       "      outputDiv.innerHTML = `<div class=\"error\" style=\"color:red;\">${err}</div>`;\n",
       "      throw err;\n",
       "    }\n",
       "\n",
       "    function displayChart(vegaEmbed) {\n",
       "      vegaEmbed(outputDiv, spec, embedOpt)\n",
       "        .catch(err => showError(`Javascript Error: ${err.message}<br>This usually means there's a typo in your chart specification. See the javascript console for the full traceback.`));\n",
       "    }\n",
       "\n",
       "    if(typeof define === \"function\" && define.amd) {\n",
       "      requirejs.config({paths});\n",
       "      require([\"vega-embed\"], displayChart, err => showError(`Error loading script: ${err.message}`));\n",
       "    } else if (typeof vegaEmbed === \"function\") {\n",
       "      displayChart(vegaEmbed);\n",
       "    } else {\n",
       "      loadScript(\"vega\")\n",
       "        .then(() => loadScript(\"vega-lite\"))\n",
       "        .then(() => loadScript(\"vega-embed\"))\n",
       "        .catch(showError)\n",
       "        .then(() => displayChart(vegaEmbed));\n",
       "    }\n",
       "  })({\"config\": {\"view\": {\"continuousWidth\": 400, \"continuousHeight\": 300}}, \"hconcat\": [{\"data\": {\"name\": \"data-e7961e8e1391503f7a45d629c3cb2465\"}, \"mark\": {\"type\": \"area\", \"opacity\": 0.3}, \"encoding\": {\"color\": {\"type\": \"nominal\", \"field\": \"type\"}, \"x\": {\"type\": \"temporal\", \"field\": \"created\"}, \"y\": {\"type\": \"quantitative\", \"field\": \"count\", \"stack\": null}}, \"height\": 200, \"title\": \"DEU\", \"width\": 600}, {\"data\": {\"name\": \"data-b776bb19e801e404feb6bed951c37a9c\"}, \"mark\": {\"type\": \"area\", \"opacity\": 0.3}, \"encoding\": {\"color\": {\"type\": \"nominal\", \"field\": \"type\"}, \"x\": {\"type\": \"temporal\", \"field\": \"created\"}, \"y\": {\"type\": \"quantitative\", \"field\": \"count\", \"stack\": null}}, \"height\": 200, \"title\": \"ESP\", \"width\": 600}, {\"data\": {\"name\": \"data-5c7bf8721bd23668ec066497b73f5628\"}, \"mark\": {\"type\": \"area\", \"opacity\": 0.3}, \"encoding\": {\"color\": {\"type\": \"nominal\", \"field\": \"type\"}, \"x\": {\"type\": \"temporal\", \"field\": \"created\"}, \"y\": {\"type\": \"quantitative\", \"field\": \"count\", \"stack\": null}}, \"height\": 200, \"title\": \"GrE\", \"width\": 600}, {\"data\": {\"name\": \"data-d8bb6c195d572ee686e8ef9ce05f32fa\"}, \"mark\": {\"type\": \"area\", \"opacity\": 0.3}, \"encoding\": {\"color\": {\"type\": \"nominal\", \"field\": \"type\"}, \"x\": {\"type\": \"temporal\", \"field\": \"created\"}, \"y\": {\"type\": \"quantitative\", \"field\": \"count\", \"stack\": null}}, \"height\": 200, \"title\": \"NEuro\", \"width\": 600}], \"$schema\": \"https://vega.github.io/schema/vega-lite/v4.8.1.json\", \"datasets\": {\"data-e7961e8e1391503f7a45d629c3cb2465\": [{\"created\": \"2020-04\", \"market\": \"DEU\", \"type\": \"automated\", \"count\": 3}, {\"created\": \"2020-11\", \"market\": \"DEU\", \"type\": \"automated\", \"count\": 1012}, {\"created\": \"2020-10\", \"market\": \"DEU\", \"type\": \"automated\", \"count\": 374}, {\"created\": \"2020-12\", \"market\": \"DEU\", \"type\": \"automated\", \"count\": 1775}, {\"created\": \"2020-09\", \"market\": \"DEU\", \"type\": \"total\", \"count\": 480}, {\"created\": \"2020-01\", \"market\": \"DEU\", \"type\": \"total\", \"count\": 682}, {\"created\": \"2020-08\", \"market\": \"DEU\", \"type\": \"total\", \"count\": 344}, {\"created\": \"2020-03\", \"market\": \"DEU\", \"type\": \"total\", \"count\": 638}, {\"created\": \"2020-04\", \"market\": \"DEU\", \"type\": \"total\", \"count\": 482}, {\"created\": \"2020-05\", \"market\": \"DEU\", \"type\": \"total\", \"count\": 428}, {\"created\": \"2020-06\", \"market\": \"DEU\", \"type\": \"total\", \"count\": 518}, {\"created\": \"2020-07\", \"market\": \"DEU\", \"type\": \"total\", \"count\": 470}, {\"created\": \"2020-11\", \"market\": \"DEU\", \"type\": \"total\", \"count\": 1260}, {\"created\": \"2020-02\", \"market\": \"DEU\", \"type\": \"total\", \"count\": 478}, {\"created\": \"2020-10\", \"market\": \"DEU\", \"type\": \"total\", \"count\": 765}, {\"created\": \"2020-12\", \"market\": \"DEU\", \"type\": \"total\", \"count\": 2005}], \"data-b776bb19e801e404feb6bed951c37a9c\": [{\"created\": \"2020-11\", \"market\": \"ESP\", \"type\": \"automated\", \"count\": 184}, {\"created\": \"2020-10\", \"market\": \"ESP\", \"type\": \"automated\", \"count\": 35}, {\"created\": \"2020-12\", \"market\": \"ESP\", \"type\": \"automated\", \"count\": 271}, {\"created\": \"2020-11\", \"market\": \"ESP\", \"type\": \"total\", \"count\": 229}, {\"created\": \"2020-09\", \"market\": \"ESP\", \"type\": \"total\", \"count\": 79}, {\"created\": \"2020-06\", \"market\": \"ESP\", \"type\": \"total\", \"count\": 66}, {\"created\": \"2020-07\", \"market\": \"ESP\", \"type\": \"total\", \"count\": 76}, {\"created\": \"2020-10\", \"market\": \"ESP\", \"type\": \"total\", \"count\": 150}, {\"created\": \"2020-12\", \"market\": \"ESP\", \"type\": \"total\", \"count\": 304}, {\"created\": \"2020-05\", \"market\": \"ESP\", \"type\": \"total\", \"count\": 60}, {\"created\": \"2020-02\", \"market\": \"ESP\", \"type\": \"total\", \"count\": 72}, {\"created\": \"2020-01\", \"market\": \"ESP\", \"type\": \"total\", \"count\": 118}, {\"created\": \"2020-03\", \"market\": \"ESP\", \"type\": \"total\", \"count\": 92}, {\"created\": \"2020-08\", \"market\": \"ESP\", \"type\": \"total\", \"count\": 74}, {\"created\": \"2020-04\", \"market\": \"ESP\", \"type\": \"total\", \"count\": 65}], \"data-5c7bf8721bd23668ec066497b73f5628\": [{\"created\": \"2020-12\", \"market\": \"GrE\", \"type\": \"automated\", \"count\": 363}, {\"created\": \"2020-11\", \"market\": \"GrE\", \"type\": \"automated\", \"count\": 244}, {\"created\": \"2020-04\", \"market\": \"GrE\", \"type\": \"total\", \"count\": 92}, {\"created\": \"2020-12\", \"market\": \"GrE\", \"type\": \"total\", \"count\": 409}, {\"created\": \"2020-02\", \"market\": \"GrE\", \"type\": \"total\", \"count\": 90}, {\"created\": \"2020-09\", \"market\": \"GrE\", \"type\": \"total\", \"count\": 88}, {\"created\": \"2020-01\", \"market\": \"GrE\", \"type\": \"total\", \"count\": 125}, {\"created\": \"2020-08\", \"market\": \"GrE\", \"type\": \"total\", \"count\": 93}, {\"created\": \"2020-05\", \"market\": \"GrE\", \"type\": \"total\", \"count\": 81}, {\"created\": \"2020-11\", \"market\": \"GrE\", \"type\": \"total\", \"count\": 301}, {\"created\": \"2020-03\", \"market\": \"GrE\", \"type\": \"total\", \"count\": 119}, {\"created\": \"2020-06\", \"market\": \"GrE\", \"type\": \"total\", \"count\": 106}, {\"created\": \"2020-10\", \"market\": \"GrE\", \"type\": \"total\", \"count\": 138}, {\"created\": \"2020-07\", \"market\": \"GrE\", \"type\": \"total\", \"count\": 89}], \"data-d8bb6c195d572ee686e8ef9ce05f32fa\": [{\"created\": \"2020-11\", \"market\": \"NEuro\", \"type\": \"automated\", \"count\": 14}, {\"created\": \"2020-12\", \"market\": \"NEuro\", \"type\": \"automated\", \"count\": 42}, {\"created\": \"2020-11\", \"market\": \"NEuro\", \"type\": \"total\", \"count\": 23}, {\"created\": \"2020-09\", \"market\": \"NEuro\", \"type\": \"total\", \"count\": 10}, {\"created\": \"2020-06\", \"market\": \"NEuro\", \"type\": \"total\", \"count\": 5}, {\"created\": \"2020-07\", \"market\": \"NEuro\", \"type\": \"total\", \"count\": 1}, {\"created\": \"2020-05\", \"market\": \"NEuro\", \"type\": \"total\", \"count\": 6}, {\"created\": \"2020-10\", \"market\": \"NEuro\", \"type\": \"total\", \"count\": 10}, {\"created\": \"2020-02\", \"market\": \"NEuro\", \"type\": \"total\", \"count\": 3}, {\"created\": \"2020-08\", \"market\": \"NEuro\", \"type\": \"total\", \"count\": 5}, {\"created\": \"2020-04\", \"market\": \"NEuro\", \"type\": \"total\", \"count\": 10}, {\"created\": \"2020-12\", \"market\": \"NEuro\", \"type\": \"total\", \"count\": 46}, {\"created\": \"2020-03\", \"market\": \"NEuro\", \"type\": \"total\", \"count\": 8}, {\"created\": \"2020-01\", \"market\": \"NEuro\", \"type\": \"total\", \"count\": 4}]}}, {\"mode\": \"vega-lite\"});\n",
       "</script>"
      ],
      "text/plain": [
       "alt.HConcatChart(...)"
      ]
     },
     "execution_count": 25,
     "metadata": {},
     "output_type": "execute_result"
    }
   ],
   "source": [
    "charts = []\n",
    "markets = [\"DEU\", \"ESP\", \"GrE\", \"NEuro\"]\n",
    "\n",
    "for market in markets:\n",
    "    source = cbs_m.loc[cbs_m[\"market\"] == market].sort_values(by=[\"type\"])\n",
    "    charts.append(\n",
    "        alt.Chart(source)\n",
    "        .mark_area(opacity=0.3)\n",
    "        .encode(x=\"created:T\", y=alt.Y(\"count:Q\", stack=None), color=\"type:N\")\n",
    "        .properties(width=600, height=200, title=market)\n",
    "    )\n",
    "alt.hconcat(*charts)"
   ]
  },
  {
   "cell_type": "markdown",
   "metadata": {},
   "source": [
    "All markets have significant increases in November-December. It looks like the volume of unautomated chargebacks sharnk in most of them, but this was outweighted by immense automated ticket volumes.\n",
    "\n",
    "Partially this could be comparable to a spike in May for AUT, ITA and FRA markets. This would allow to assume that volumes in 2021 should drop, albeit to a level that is still higher than previously.\n",
    "\n",
    "Issue does not seem to be maket specific. Same pattern repeats in all markets."
   ]
  },
  {
   "cell_type": "markdown",
   "metadata": {},
   "source": [
    "## Assumption 1: People are filing for more smaller value amount chargebacks <a class=\"anchor\" id=\"ass1\"></a>"
   ]
  },
  {
   "cell_type": "markdown",
   "metadata": {},
   "source": [
    "#### Repeated ticket volumes. <a class=\"anchor\" id=\"sub1\"></a>"
   ]
  },
  {
   "cell_type": "markdown",
   "metadata": {},
   "source": [
    "At first, let's look at overall volumes of repeated chargebacks. Below chart shows the volume of unauthorised chargeback tickets that were created by a user who already had at least one ticket in 2020. From overall volumes it excludes all first tickets and shows only repeated volumes.\n",
    "\n",
    "NOTE: Chart shows automated volume vs unautomated volume. Previous charts displayed automated inside total volume of tickets."
   ]
  },
  {
   "cell_type": "code",
   "execution_count": 26,
   "metadata": {},
   "outputs": [
    {
     "data": {
      "text/html": [
       "\n",
       "<div id=\"altair-viz-d290fe5a7b894b458e0cef3ea435bb2b\"></div>\n",
       "<script type=\"text/javascript\">\n",
       "  (function(spec, embedOpt){\n",
       "    let outputDiv = document.currentScript.previousElementSibling;\n",
       "    if (outputDiv.id !== \"altair-viz-d290fe5a7b894b458e0cef3ea435bb2b\") {\n",
       "      outputDiv = document.getElementById(\"altair-viz-d290fe5a7b894b458e0cef3ea435bb2b\");\n",
       "    }\n",
       "    const paths = {\n",
       "      \"vega\": \"https://cdn.jsdelivr.net/npm//vega@5?noext\",\n",
       "      \"vega-lib\": \"https://cdn.jsdelivr.net/npm//vega-lib?noext\",\n",
       "      \"vega-lite\": \"https://cdn.jsdelivr.net/npm//vega-lite@4.8.1?noext\",\n",
       "      \"vega-embed\": \"https://cdn.jsdelivr.net/npm//vega-embed@6?noext\",\n",
       "    };\n",
       "\n",
       "    function loadScript(lib) {\n",
       "      return new Promise(function(resolve, reject) {\n",
       "        var s = document.createElement('script');\n",
       "        s.src = paths[lib];\n",
       "        s.async = true;\n",
       "        s.onload = () => resolve(paths[lib]);\n",
       "        s.onerror = () => reject(`Error loading script: ${paths[lib]}`);\n",
       "        document.getElementsByTagName(\"head\")[0].appendChild(s);\n",
       "      });\n",
       "    }\n",
       "\n",
       "    function showError(err) {\n",
       "      outputDiv.innerHTML = `<div class=\"error\" style=\"color:red;\">${err}</div>`;\n",
       "      throw err;\n",
       "    }\n",
       "\n",
       "    function displayChart(vegaEmbed) {\n",
       "      vegaEmbed(outputDiv, spec, embedOpt)\n",
       "        .catch(err => showError(`Javascript Error: ${err.message}<br>This usually means there's a typo in your chart specification. See the javascript console for the full traceback.`));\n",
       "    }\n",
       "\n",
       "    if(typeof define === \"function\" && define.amd) {\n",
       "      requirejs.config({paths});\n",
       "      require([\"vega-embed\"], displayChart, err => showError(`Error loading script: ${err.message}`));\n",
       "    } else if (typeof vegaEmbed === \"function\") {\n",
       "      displayChart(vegaEmbed);\n",
       "    } else {\n",
       "      loadScript(\"vega\")\n",
       "        .then(() => loadScript(\"vega-lite\"))\n",
       "        .then(() => loadScript(\"vega-embed\"))\n",
       "        .catch(showError)\n",
       "        .then(() => displayChart(vegaEmbed));\n",
       "    }\n",
       "  })({\"config\": {\"view\": {\"continuousWidth\": 400, \"continuousHeight\": 300}}, \"data\": {\"name\": \"data-3151c6907711af24c1ea3502ec061dbf\"}, \"mark\": {\"type\": \"area\", \"opacity\": 0.3}, \"encoding\": {\"color\": {\"type\": \"nominal\", \"field\": \"automated\"}, \"x\": {\"type\": \"temporal\", \"field\": \"created\"}, \"y\": {\"type\": \"quantitative\", \"field\": \"count\", \"stack\": null}}, \"height\": 200, \"title\": \"Repeated chargebacks\", \"width\": 600, \"$schema\": \"https://vega.github.io/schema/vega-lite/v4.8.1.json\", \"datasets\": {\"data-3151c6907711af24c1ea3502ec061dbf\": [{\"created\": \"2020-01\", \"automated\": false, \"count\": 85}, {\"created\": \"2020-02\", \"automated\": false, \"count\": 67}, {\"created\": \"2020-03\", \"automated\": false, \"count\": 111}, {\"created\": \"2020-04\", \"automated\": false, \"count\": 70}, {\"created\": \"2020-04\", \"automated\": true, \"count\": 9}, {\"created\": \"2020-05\", \"automated\": false, \"count\": 67}, {\"created\": \"2020-05\", \"automated\": true, \"count\": 783}, {\"created\": \"2020-06\", \"automated\": false, \"count\": 140}, {\"created\": \"2020-06\", \"automated\": true, \"count\": 114}, {\"created\": \"2020-07\", \"automated\": false, \"count\": 93}, {\"created\": \"2020-07\", \"automated\": true, \"count\": 65}, {\"created\": \"2020-08\", \"automated\": false, \"count\": 80}, {\"created\": \"2020-08\", \"automated\": true, \"count\": 71}, {\"created\": \"2020-09\", \"automated\": false, \"count\": 90}, {\"created\": \"2020-09\", \"automated\": true, \"count\": 64}, {\"created\": \"2020-10\", \"automated\": false, \"count\": 78}, {\"created\": \"2020-10\", \"automated\": true, \"count\": 154}, {\"created\": \"2020-11\", \"automated\": false, \"count\": 100}, {\"created\": \"2020-11\", \"automated\": true, \"count\": 416}, {\"created\": \"2020-12\", \"automated\": false, \"count\": 109}, {\"created\": \"2020-12\", \"automated\": true, \"count\": 861}]}}, {\"mode\": \"vega-lite\"});\n",
       "</script>"
      ],
      "text/plain": [
       "alt.Chart(...)"
      ]
     },
     "metadata": {},
     "output_type": "display_data"
    }
   ],
   "source": [
    "source = cbs_u.groupby([\"created\", \"automated\"])[\"count\"].sum().reset_index()\n",
    "\n",
    "alt.Chart(source).mark_area(opacity=0.3).encode(\n",
    "    x=\"created:T\", y=alt.Y(\"count:Q\", stack=None), color=\"automated:N\"\n",
    ").properties(width=600, height=200, title=\"Repeated chargebacks\").display()"
   ]
  },
  {
   "cell_type": "markdown",
   "metadata": {},
   "source": [
    "There are evident spikes of repeated tickets in the same months where we have spikes overall.\n",
    "\n",
    "However, it remains unknown why volume looks normal in June-October. Also, the spikes of ~800 repeated tickets does not explain the overall spikes, that are around 1500-2000 tickets above usual level."
   ]
  },
  {
   "cell_type": "markdown",
   "metadata": {},
   "source": [
    "Further, let's focus only on automated tickets. Below chart shows the ratio of repeated tickets in all automated tickets."
   ]
  },
  {
   "cell_type": "code",
   "execution_count": 28,
   "metadata": {
    "scrolled": false
   },
   "outputs": [
    {
     "data": {
      "text/html": [
       "\n",
       "<div id=\"altair-viz-861db7d4617347a4967ad0ff29d39c50\"></div>\n",
       "<script type=\"text/javascript\">\n",
       "  (function(spec, embedOpt){\n",
       "    let outputDiv = document.currentScript.previousElementSibling;\n",
       "    if (outputDiv.id !== \"altair-viz-861db7d4617347a4967ad0ff29d39c50\") {\n",
       "      outputDiv = document.getElementById(\"altair-viz-861db7d4617347a4967ad0ff29d39c50\");\n",
       "    }\n",
       "    const paths = {\n",
       "      \"vega\": \"https://cdn.jsdelivr.net/npm//vega@5?noext\",\n",
       "      \"vega-lib\": \"https://cdn.jsdelivr.net/npm//vega-lib?noext\",\n",
       "      \"vega-lite\": \"https://cdn.jsdelivr.net/npm//vega-lite@4.8.1?noext\",\n",
       "      \"vega-embed\": \"https://cdn.jsdelivr.net/npm//vega-embed@6?noext\",\n",
       "    };\n",
       "\n",
       "    function loadScript(lib) {\n",
       "      return new Promise(function(resolve, reject) {\n",
       "        var s = document.createElement('script');\n",
       "        s.src = paths[lib];\n",
       "        s.async = true;\n",
       "        s.onload = () => resolve(paths[lib]);\n",
       "        s.onerror = () => reject(`Error loading script: ${paths[lib]}`);\n",
       "        document.getElementsByTagName(\"head\")[0].appendChild(s);\n",
       "      });\n",
       "    }\n",
       "\n",
       "    function showError(err) {\n",
       "      outputDiv.innerHTML = `<div class=\"error\" style=\"color:red;\">${err}</div>`;\n",
       "      throw err;\n",
       "    }\n",
       "\n",
       "    function displayChart(vegaEmbed) {\n",
       "      vegaEmbed(outputDiv, spec, embedOpt)\n",
       "        .catch(err => showError(`Javascript Error: ${err.message}<br>This usually means there's a typo in your chart specification. See the javascript console for the full traceback.`));\n",
       "    }\n",
       "\n",
       "    if(typeof define === \"function\" && define.amd) {\n",
       "      requirejs.config({paths});\n",
       "      require([\"vega-embed\"], displayChart, err => showError(`Error loading script: ${err.message}`));\n",
       "    } else if (typeof vegaEmbed === \"function\") {\n",
       "      displayChart(vegaEmbed);\n",
       "    } else {\n",
       "      loadScript(\"vega\")\n",
       "        .then(() => loadScript(\"vega-lite\"))\n",
       "        .then(() => loadScript(\"vega-embed\"))\n",
       "        .catch(showError)\n",
       "        .then(() => displayChart(vegaEmbed));\n",
       "    }\n",
       "  })({\"config\": {\"view\": {\"continuousWidth\": 400, \"continuousHeight\": 300}}, \"data\": {\"name\": \"data-923be2a527bfee450df79ed38750e177\"}, \"mark\": \"line\", \"encoding\": {\"x\": {\"type\": \"temporal\", \"field\": \"created\"}, \"y\": {\"type\": \"quantitative\", \"field\": \"repeat_ratio\"}}, \"height\": 200, \"title\": \"Repeat ratio\", \"width\": 600, \"$schema\": \"https://vega.github.io/schema/vega-lite/v4.8.1.json\", \"datasets\": {\"data-923be2a527bfee450df79ed38750e177\": [{\"created\": \"2020-01\", \"count_x\": 2030, \"count_y\": null, \"repeat_ratio\": null}, {\"created\": \"2020-02\", \"count_x\": 1417, \"count_y\": null, \"repeat_ratio\": null}, {\"created\": \"2020-03\", \"count_x\": 1846, \"count_y\": null, \"repeat_ratio\": null}, {\"created\": \"2020-04\", \"count_x\": 1474, \"count_y\": 9.0, \"repeat_ratio\": 0.006105834464043419}, {\"created\": \"2020-05\", \"count_x\": 3376, \"count_y\": 783.0, \"repeat_ratio\": 0.23193127962085308}, {\"created\": \"2020-06\", \"count_x\": 2239, \"count_y\": 114.0, \"repeat_ratio\": 0.05091558731576597}, {\"created\": \"2020-07\", \"count_x\": 1808, \"count_y\": 65.0, \"repeat_ratio\": 0.03595132743362832}, {\"created\": \"2020-08\", \"count_x\": 1526, \"count_y\": 71.0, \"repeat_ratio\": 0.04652686762778506}, {\"created\": \"2020-09\", \"count_x\": 1779, \"count_y\": 64.0, \"repeat_ratio\": 0.035975267003934795}, {\"created\": \"2020-10\", \"count_x\": 2068, \"count_y\": 154.0, \"repeat_ratio\": 0.07446808510638298}, {\"created\": \"2020-11\", \"count_x\": 3087, \"count_y\": 416.0, \"repeat_ratio\": 0.13475866537091027}, {\"created\": \"2020-12\", \"count_x\": 3994, \"count_y\": 861.0, \"repeat_ratio\": 0.21557336004006009}]}}, {\"mode\": \"vega-lite\"});\n",
       "</script>"
      ],
      "text/plain": [
       "alt.Chart(...)"
      ]
     },
     "metadata": {},
     "output_type": "display_data"
    }
   ],
   "source": [
    "# take only automated tickets and group only by date\n",
    "cbs_m_ovr = (\n",
    "    cbs_m.loc[cbs_m[\"type\"] == \"total\"].groupby(\"created\")[\"count\"].sum().reset_index()\n",
    ")\n",
    "cbs_u_ovr = (\n",
    "    cbs_u.loc[cbs_u[\"automated\"] == True]\n",
    "    .groupby(\"created\")[\"count\"]\n",
    "    .sum()\n",
    "    .reset_index()\n",
    ")\n",
    "\n",
    "# join both on created month and get the percentage of repeated tickets\n",
    "cbs_c = pd.merge(cbs_m_ovr, cbs_u_ovr, on=\"created\", how=\"left\")\n",
    "cbs_c[\"repeat_ratio\"] = cbs_c[\"count_y\"] / cbs_c[\"count_x\"]\n",
    "\n",
    "# draw chart\n",
    "source = cbs_c\n",
    "alt.Chart(source).mark_line().encode(\n",
    "    x=\"created:T\", y=alt.Y(\"repeat_ratio:Q\")\n",
    ").properties(width=600, height=200, title=\"Repeat ratio\").display()"
   ]
  },
  {
   "cell_type": "markdown",
   "metadata": {},
   "source": [
    "Even though it was noted that repeated tickets spiked at <800 in volume - not comprising all of the overall spikes, their ratio to overall automated tickets still increased significantly during the spikes. \n",
    "\n",
    "It suggests that repeated chargebacks contributed to around 20% of the spike. Remaining volume is yet of unknown origin.\n",
    "\n",
    "Below chart is just a quick look how repeated tickets look in volume when compared to all automated tickets."
   ]
  },
  {
   "cell_type": "code",
   "execution_count": 30,
   "metadata": {},
   "outputs": [
    {
     "data": {
      "text/html": [
       "\n",
       "<div id=\"altair-viz-f5b1e0f8d26f4b71b516d5426089f708\"></div>\n",
       "<script type=\"text/javascript\">\n",
       "  (function(spec, embedOpt){\n",
       "    let outputDiv = document.currentScript.previousElementSibling;\n",
       "    if (outputDiv.id !== \"altair-viz-f5b1e0f8d26f4b71b516d5426089f708\") {\n",
       "      outputDiv = document.getElementById(\"altair-viz-f5b1e0f8d26f4b71b516d5426089f708\");\n",
       "    }\n",
       "    const paths = {\n",
       "      \"vega\": \"https://cdn.jsdelivr.net/npm//vega@5?noext\",\n",
       "      \"vega-lib\": \"https://cdn.jsdelivr.net/npm//vega-lib?noext\",\n",
       "      \"vega-lite\": \"https://cdn.jsdelivr.net/npm//vega-lite@4.8.1?noext\",\n",
       "      \"vega-embed\": \"https://cdn.jsdelivr.net/npm//vega-embed@6?noext\",\n",
       "    };\n",
       "\n",
       "    function loadScript(lib) {\n",
       "      return new Promise(function(resolve, reject) {\n",
       "        var s = document.createElement('script');\n",
       "        s.src = paths[lib];\n",
       "        s.async = true;\n",
       "        s.onload = () => resolve(paths[lib]);\n",
       "        s.onerror = () => reject(`Error loading script: ${paths[lib]}`);\n",
       "        document.getElementsByTagName(\"head\")[0].appendChild(s);\n",
       "      });\n",
       "    }\n",
       "\n",
       "    function showError(err) {\n",
       "      outputDiv.innerHTML = `<div class=\"error\" style=\"color:red;\">${err}</div>`;\n",
       "      throw err;\n",
       "    }\n",
       "\n",
       "    function displayChart(vegaEmbed) {\n",
       "      vegaEmbed(outputDiv, spec, embedOpt)\n",
       "        .catch(err => showError(`Javascript Error: ${err.message}<br>This usually means there's a typo in your chart specification. See the javascript console for the full traceback.`));\n",
       "    }\n",
       "\n",
       "    if(typeof define === \"function\" && define.amd) {\n",
       "      requirejs.config({paths});\n",
       "      require([\"vega-embed\"], displayChart, err => showError(`Error loading script: ${err.message}`));\n",
       "    } else if (typeof vegaEmbed === \"function\") {\n",
       "      displayChart(vegaEmbed);\n",
       "    } else {\n",
       "      loadScript(\"vega\")\n",
       "        .then(() => loadScript(\"vega-lite\"))\n",
       "        .then(() => loadScript(\"vega-embed\"))\n",
       "        .catch(showError)\n",
       "        .then(() => displayChart(vegaEmbed));\n",
       "    }\n",
       "  })({\"config\": {\"view\": {\"continuousWidth\": 400, \"continuousHeight\": 300}}, \"data\": {\"name\": \"data-751dda6160121bf3a7f763ebc6e55016\"}, \"mark\": {\"type\": \"area\", \"opacity\": 0.3}, \"encoding\": {\"color\": {\"type\": \"nominal\", \"field\": \"legend\"}, \"x\": {\"type\": \"temporal\", \"field\": \"created\"}, \"y\": {\"type\": \"quantitative\", \"field\": \"count\", \"stack\": null}}, \"height\": 200, \"title\": \"Repeated vs. all automated\", \"width\": 600, \"$schema\": \"https://vega.github.io/schema/vega-lite/v4.8.1.json\", \"datasets\": {\"data-751dda6160121bf3a7f763ebc6e55016\": [{\"created\": \"2020-01\", \"count\": 2030, \"legend\": \"total_volume\"}, {\"created\": \"2020-02\", \"count\": 1417, \"legend\": \"total_volume\"}, {\"created\": \"2020-03\", \"count\": 1846, \"legend\": \"total_volume\"}, {\"created\": \"2020-04\", \"count\": 1474, \"legend\": \"total_volume\"}, {\"created\": \"2020-05\", \"count\": 3376, \"legend\": \"total_volume\"}, {\"created\": \"2020-06\", \"count\": 2239, \"legend\": \"total_volume\"}, {\"created\": \"2020-07\", \"count\": 1808, \"legend\": \"total_volume\"}, {\"created\": \"2020-08\", \"count\": 1526, \"legend\": \"total_volume\"}, {\"created\": \"2020-09\", \"count\": 1779, \"legend\": \"total_volume\"}, {\"created\": \"2020-10\", \"count\": 2068, \"legend\": \"total_volume\"}, {\"created\": \"2020-11\", \"count\": 3087, \"legend\": \"total_volume\"}, {\"created\": \"2020-12\", \"count\": 3994, \"legend\": \"total_volume\"}, {\"created\": \"2020-04\", \"count\": 9, \"legend\": \"repeated_tickets\"}, {\"created\": \"2020-05\", \"count\": 783, \"legend\": \"repeated_tickets\"}, {\"created\": \"2020-06\", \"count\": 114, \"legend\": \"repeated_tickets\"}, {\"created\": \"2020-07\", \"count\": 65, \"legend\": \"repeated_tickets\"}, {\"created\": \"2020-08\", \"count\": 71, \"legend\": \"repeated_tickets\"}, {\"created\": \"2020-09\", \"count\": 64, \"legend\": \"repeated_tickets\"}, {\"created\": \"2020-10\", \"count\": 154, \"legend\": \"repeated_tickets\"}, {\"created\": \"2020-11\", \"count\": 416, \"legend\": \"repeated_tickets\"}, {\"created\": \"2020-12\", \"count\": 861, \"legend\": \"repeated_tickets\"}]}}, {\"mode\": \"vega-lite\"});\n",
       "</script>"
      ],
      "text/plain": [
       "alt.Chart(...)"
      ]
     },
     "metadata": {},
     "output_type": "display_data"
    }
   ],
   "source": [
    "# take only automated tickets and group only by date\n",
    "cbs_m_ovr = (\n",
    "    cbs_m.loc[cbs_m[\"type\"] == \"total\"].groupby(\"created\")[\"count\"].sum().reset_index()\n",
    ")\n",
    "cbs_m_ovr[\"legend\"] = \"total_volume\"\n",
    "cbs_u_ovr = (\n",
    "    cbs_u.loc[cbs_u[\"automated\"] == True]\n",
    "    .groupby(\"created\")[\"count\"]\n",
    "    .sum()\n",
    "    .reset_index()\n",
    ")\n",
    "cbs_u_ovr[\"legend\"] = \"repeated_tickets\"\n",
    "\n",
    "# join both on created month and get the percentage of repeated tickets\n",
    "cbs_c = pd.concat([cbs_m_ovr, cbs_u_ovr])\n",
    "\n",
    "# draw chart\n",
    "source = cbs_c\n",
    "alt.Chart(source).mark_area(opacity=0.3).encode(\n",
    "    x=\"created:T\", y=alt.Y(\"count:Q\", stack=None), color=\"legend:N\"\n",
    ").properties(width=600, height=200, title=\"Repeated vs. all automated\").display()"
   ]
  },
  {
   "cell_type": "markdown",
   "metadata": {},
   "source": [
    "#### Average chargeback value <a class=\"anchor\" id=\"sub2\"></a>"
   ]
  },
  {
   "cell_type": "markdown",
   "metadata": {},
   "source": [
    "Below is an estimate of the average chargeback value."
   ]
  },
  {
   "cell_type": "code",
   "execution_count": 32,
   "metadata": {
    "scrolled": false
   },
   "outputs": [
    {
     "data": {
      "text/html": [
       "\n",
       "<div id=\"altair-viz-d8649f51fbb84c3590b1290cd025a101\"></div>\n",
       "<script type=\"text/javascript\">\n",
       "  (function(spec, embedOpt){\n",
       "    let outputDiv = document.currentScript.previousElementSibling;\n",
       "    if (outputDiv.id !== \"altair-viz-d8649f51fbb84c3590b1290cd025a101\") {\n",
       "      outputDiv = document.getElementById(\"altair-viz-d8649f51fbb84c3590b1290cd025a101\");\n",
       "    }\n",
       "    const paths = {\n",
       "      \"vega\": \"https://cdn.jsdelivr.net/npm//vega@5?noext\",\n",
       "      \"vega-lib\": \"https://cdn.jsdelivr.net/npm//vega-lib?noext\",\n",
       "      \"vega-lite\": \"https://cdn.jsdelivr.net/npm//vega-lite@4.8.1?noext\",\n",
       "      \"vega-embed\": \"https://cdn.jsdelivr.net/npm//vega-embed@6?noext\",\n",
       "    };\n",
       "\n",
       "    function loadScript(lib) {\n",
       "      return new Promise(function(resolve, reject) {\n",
       "        var s = document.createElement('script');\n",
       "        s.src = paths[lib];\n",
       "        s.async = true;\n",
       "        s.onload = () => resolve(paths[lib]);\n",
       "        s.onerror = () => reject(`Error loading script: ${paths[lib]}`);\n",
       "        document.getElementsByTagName(\"head\")[0].appendChild(s);\n",
       "      });\n",
       "    }\n",
       "\n",
       "    function showError(err) {\n",
       "      outputDiv.innerHTML = `<div class=\"error\" style=\"color:red;\">${err}</div>`;\n",
       "      throw err;\n",
       "    }\n",
       "\n",
       "    function displayChart(vegaEmbed) {\n",
       "      vegaEmbed(outputDiv, spec, embedOpt)\n",
       "        .catch(err => showError(`Javascript Error: ${err.message}<br>This usually means there's a typo in your chart specification. See the javascript console for the full traceback.`));\n",
       "    }\n",
       "\n",
       "    if(typeof define === \"function\" && define.amd) {\n",
       "      requirejs.config({paths});\n",
       "      require([\"vega-embed\"], displayChart, err => showError(`Error loading script: ${err.message}`));\n",
       "    } else if (typeof vegaEmbed === \"function\") {\n",
       "      displayChart(vegaEmbed);\n",
       "    } else {\n",
       "      loadScript(\"vega\")\n",
       "        .then(() => loadScript(\"vega-lite\"))\n",
       "        .then(() => loadScript(\"vega-embed\"))\n",
       "        .catch(showError)\n",
       "        .then(() => displayChart(vegaEmbed));\n",
       "    }\n",
       "  })({\"config\": {\"view\": {\"continuousWidth\": 400, \"continuousHeight\": 300}}, \"data\": {\"name\": \"data-2210cdb12e98b118904cb18849c57d05\"}, \"mark\": {\"type\": \"area\", \"opacity\": 0.3}, \"encoding\": {\"x\": {\"type\": \"temporal\", \"field\": \"created\"}, \"y\": {\"type\": \"quantitative\", \"field\": \"avg_value\"}}, \"height\": 200, \"title\": \"Average chargeback value\", \"width\": 600, \"$schema\": \"https://vega.github.io/schema/vega-lite/v4.8.1.json\", \"datasets\": {\"data-2210cdb12e98b118904cb18849c57d05\": [{\"created\": \"2020-05\", \"cbs_count\": \"2960\", \"cbs_value\": \"154529.64\", \"avg_value\": \"52.20595946\"}, {\"created\": \"2020-09\", \"cbs_count\": \"1042\", \"cbs_value\": \"84300.03\", \"avg_value\": \"80.90214012\"}, {\"created\": \"2020-11\", \"cbs_count\": \"4654\", \"cbs_value\": \"303169.06\", \"avg_value\": \"65.14161152\"}, {\"created\": \"2020-10\", \"cbs_count\": \"1766\", \"cbs_value\": \"126786.94\", \"avg_value\": \"71.79328426\"}, {\"created\": \"2020-4\", \"cbs_count\": \"22\", \"cbs_value\": \"598.86\", \"avg_value\": \"27.22090909\"}, {\"created\": \"2020-07\", \"cbs_count\": \"769\", \"cbs_value\": \"40547.16\", \"avg_value\": \"52.72712614\"}, {\"created\": \"2020-08\", \"cbs_count\": \"752\", \"cbs_value\": \"43495.55\", \"avg_value\": \"57.83982713\"}, {\"created\": \"2020-06\", \"cbs_count\": \"1262\", \"cbs_value\": \"95279.41\", \"avg_value\": \"75.4987401\"}, {\"created\": \"2020-12\", \"cbs_count\": \"6600\", \"cbs_value\": \"475103.45\", \"avg_value\": \"71.98537121\"}]}}, {\"mode\": \"vega-lite\"});\n",
       "</script>"
      ],
      "text/plain": [
       "alt.Chart(...)"
      ]
     },
     "metadata": {},
     "output_type": "display_data"
    }
   ],
   "source": [
    "source = cbs_calc\n",
    "\n",
    "alt.Chart(source).mark_area(opacity=0.3).encode(\n",
    "    x=\"created:T\", y=\"avg_value:Q\"\n",
    ").properties(width=600, height=200, title=\"Average chargeback value\").display()"
   ]
  },
  {
   "cell_type": "markdown",
   "metadata": {},
   "source": [
    "This does not seem to correspond to the spikes in May and November-December. There is no evidence to confirm that our customers are creating more chargebacks in less value."
   ]
  },
  {
   "cell_type": "markdown",
   "metadata": {},
   "source": [
    "## Assumption 2: There is an increase in card fraud <a class=\"anchor\" id=\"ass2\"></a>"
   ]
  },
  {
   "cell_type": "markdown",
   "metadata": {},
   "source": [
    "Not looking into this assumption at the moment. Need to investigate how to quantify card fraud first. Remains an open question."
   ]
  },
  {
   "cell_type": "markdown",
   "metadata": {},
   "source": [
    "## Assumption 3: People like the convenience of filing a CB via in-app form <a class=\"anchor\" id=\"ass3\"></a>"
   ]
  },
  {
   "cell_type": "markdown",
   "metadata": {},
   "source": [
    "That could be true, but difficult to confirm from the data perspective.\n",
    "\n",
    "Since we collect no feedback (my guess) on the in-app form, we cannot be certain on this point.\n",
    "\n",
    "We can only speculate, but it appears that the spikes are behavioural since they happen right after launching the feature in every market. Or at least in the case of ITA and AUT, with a hopefull drop in January for other markets.\n",
    "\n",
    "If no other assumption explains the spikes fully, they could probably be attributed to people liking the in-app form and using it more.\n",
    "\n",
    "However this assumption would make no sense if the customers were not aware about the launch. If they were not notified, such a sudden behavioural spike would make no sense."
   ]
  },
  {
   "cell_type": "markdown",
   "metadata": {},
   "source": [
    "## Assumption 4: People are incorrectly using the in-app <a class=\"anchor\" id=\"ass4\"></a>"
   ]
  },
  {
   "cell_type": "markdown",
   "metadata": {},
   "source": [
    "There was a suggestion to look at the amount of rejections. Charts below display, that rejections really seem to have at least some influence to the spikes."
   ]
  },
  {
   "cell_type": "code",
   "execution_count": 35,
   "metadata": {},
   "outputs": [
    {
     "data": {
      "text/html": [
       "\n",
       "<div id=\"altair-viz-c41a8293622641b8ba6050fc8531494a\"></div>\n",
       "<script type=\"text/javascript\">\n",
       "  (function(spec, embedOpt){\n",
       "    let outputDiv = document.currentScript.previousElementSibling;\n",
       "    if (outputDiv.id !== \"altair-viz-c41a8293622641b8ba6050fc8531494a\") {\n",
       "      outputDiv = document.getElementById(\"altair-viz-c41a8293622641b8ba6050fc8531494a\");\n",
       "    }\n",
       "    const paths = {\n",
       "      \"vega\": \"https://cdn.jsdelivr.net/npm//vega@5?noext\",\n",
       "      \"vega-lib\": \"https://cdn.jsdelivr.net/npm//vega-lib?noext\",\n",
       "      \"vega-lite\": \"https://cdn.jsdelivr.net/npm//vega-lite@4.8.1?noext\",\n",
       "      \"vega-embed\": \"https://cdn.jsdelivr.net/npm//vega-embed@6?noext\",\n",
       "    };\n",
       "\n",
       "    function loadScript(lib) {\n",
       "      return new Promise(function(resolve, reject) {\n",
       "        var s = document.createElement('script');\n",
       "        s.src = paths[lib];\n",
       "        s.async = true;\n",
       "        s.onload = () => resolve(paths[lib]);\n",
       "        s.onerror = () => reject(`Error loading script: ${paths[lib]}`);\n",
       "        document.getElementsByTagName(\"head\")[0].appendChild(s);\n",
       "      });\n",
       "    }\n",
       "\n",
       "    function showError(err) {\n",
       "      outputDiv.innerHTML = `<div class=\"error\" style=\"color:red;\">${err}</div>`;\n",
       "      throw err;\n",
       "    }\n",
       "\n",
       "    function displayChart(vegaEmbed) {\n",
       "      vegaEmbed(outputDiv, spec, embedOpt)\n",
       "        .catch(err => showError(`Javascript Error: ${err.message}<br>This usually means there's a typo in your chart specification. See the javascript console for the full traceback.`));\n",
       "    }\n",
       "\n",
       "    if(typeof define === \"function\" && define.amd) {\n",
       "      requirejs.config({paths});\n",
       "      require([\"vega-embed\"], displayChart, err => showError(`Error loading script: ${err.message}`));\n",
       "    } else if (typeof vegaEmbed === \"function\") {\n",
       "      displayChart(vegaEmbed);\n",
       "    } else {\n",
       "      loadScript(\"vega\")\n",
       "        .then(() => loadScript(\"vega-lite\"))\n",
       "        .then(() => loadScript(\"vega-embed\"))\n",
       "        .catch(showError)\n",
       "        .then(() => displayChart(vegaEmbed));\n",
       "    }\n",
       "  })({\"config\": {\"view\": {\"continuousWidth\": 400, \"continuousHeight\": 300}}, \"hconcat\": [{\"mark\": \"line\", \"encoding\": {\"x\": {\"type\": \"temporal\", \"field\": \"created\"}, \"y\": {\"type\": \"quantitative\", \"field\": \"reject_ratio\"}}, \"height\": 200, \"title\": \"Reject ratio\", \"width\": 600}, {\"mark\": {\"type\": \"area\", \"opacity\": 0.3}, \"encoding\": {\"x\": {\"type\": \"temporal\", \"field\": \"created\"}, \"y\": {\"type\": \"quantitative\", \"field\": \"rejections_api\"}}, \"height\": 200, \"title\": \"Rejections for API chargebacks\", \"width\": 600}], \"data\": {\"name\": \"data-c24cd5fec9d8c9db33476de2107bc503\"}, \"$schema\": \"https://vega.github.io/schema/vega-lite/v4.8.1.json\", \"datasets\": {\"data-c24cd5fec9d8c9db33476de2107bc503\": [{\"created\": \"2020-12\", \"rejections_api\": 149, \"reject_ratio\": 0.0753271624640919}, {\"created\": \"2020-11\", \"rejections_api\": 195, \"reject_ratio\": 0.107888220728688}, {\"created\": \"2020-10\", \"rejections_api\": 67, \"reject_ratio\": 0.0680680680680681}, {\"created\": \"2020-09\", \"rejections_api\": 45, \"reject_ratio\": 0.0820135746606335}, {\"created\": \"2020-08\", \"rejections_api\": 69, \"reject_ratio\": 0.094488188976378}, {\"created\": \"2020-07\", \"rejections_api\": 47, \"reject_ratio\": 0.0592141671278362}, {\"created\": \"2020-06\", \"rejections_api\": 64, \"reject_ratio\": 0.0777479892761394}, {\"created\": \"2020-05\", \"rejections_api\": 463, \"reject_ratio\": 0.155851851851852}, {\"created\": \"2020-04\", \"rejections_api\": 4, \"reject_ratio\": 0.0373895309313392}, {\"created\": \"2020-03\", \"rejections_api\": 0, \"reject_ratio\": 0.0515184381778742}, {\"created\": \"2020-02\", \"rejections_api\": 0, \"reject_ratio\": 0.0494350282485876}, {\"created\": \"2020-01\", \"rejections_api\": 0, \"reject_ratio\": 0.0586206896551724}]}}, {\"mode\": \"vega-lite\"});\n",
       "</script>"
      ],
      "text/plain": [
       "alt.HConcatChart(...)"
      ]
     },
     "execution_count": 35,
     "metadata": {},
     "output_type": "execute_result"
    }
   ],
   "source": [
    "source = cbs_reject\n",
    "\n",
    "chart_ratio = (\n",
    "    alt.Chart(source)\n",
    "    .mark_line()\n",
    "    .encode(x=\"created:T\", y=alt.Y(\"reject_ratio:Q\"))\n",
    "    .properties(width=600, height=200, title=\"Reject ratio\")\n",
    ")\n",
    "\n",
    "chart_count = (\n",
    "    alt.Chart(source)\n",
    "    .mark_area(opacity=0.3)\n",
    "    .encode(x=\"created:T\", y=alt.Y(\"rejections_api:Q\"))\n",
    "    .properties(width=600, height=200, title=\"Rejections for API chargebacks\")\n",
    ")\n",
    "\n",
    "chart_ratio | chart_count"
   ]
  },
  {
   "cell_type": "markdown",
   "metadata": {},
   "source": [
    "There was an obvious spike in May, contributing to around 400 additional tickets that were rejected.\n",
    "\n",
    "There's also a visible increase in November, not too large though. I don't know how long the chargeback process takes, but there's a possibility that this volume might still grow. At least for the month of December it should definitely still grow to some extent."
   ]
  },
  {
   "cell_type": "markdown",
   "metadata": {},
   "source": [
    "## Flattening the spikes <a class=\"anchor\" id=\"conc\"></a>"
   ]
  },
  {
   "cell_type": "markdown",
   "metadata": {},
   "source": [
    "It was determined, that rejected tickets and recontacts contributed to the spikes. Below chart just displays the volume of chargebacks without repeated tickets and rejected tickets."
   ]
  },
  {
   "cell_type": "code",
   "execution_count": 40,
   "metadata": {},
   "outputs": [
    {
     "data": {
      "text/html": [
       "\n",
       "<div id=\"altair-viz-41bbe753beda4799bf69aaa67199cd96\"></div>\n",
       "<script type=\"text/javascript\">\n",
       "  (function(spec, embedOpt){\n",
       "    let outputDiv = document.currentScript.previousElementSibling;\n",
       "    if (outputDiv.id !== \"altair-viz-41bbe753beda4799bf69aaa67199cd96\") {\n",
       "      outputDiv = document.getElementById(\"altair-viz-41bbe753beda4799bf69aaa67199cd96\");\n",
       "    }\n",
       "    const paths = {\n",
       "      \"vega\": \"https://cdn.jsdelivr.net/npm//vega@5?noext\",\n",
       "      \"vega-lib\": \"https://cdn.jsdelivr.net/npm//vega-lib?noext\",\n",
       "      \"vega-lite\": \"https://cdn.jsdelivr.net/npm//vega-lite@4.8.1?noext\",\n",
       "      \"vega-embed\": \"https://cdn.jsdelivr.net/npm//vega-embed@6?noext\",\n",
       "    };\n",
       "\n",
       "    function loadScript(lib) {\n",
       "      return new Promise(function(resolve, reject) {\n",
       "        var s = document.createElement('script');\n",
       "        s.src = paths[lib];\n",
       "        s.async = true;\n",
       "        s.onload = () => resolve(paths[lib]);\n",
       "        s.onerror = () => reject(`Error loading script: ${paths[lib]}`);\n",
       "        document.getElementsByTagName(\"head\")[0].appendChild(s);\n",
       "      });\n",
       "    }\n",
       "\n",
       "    function showError(err) {\n",
       "      outputDiv.innerHTML = `<div class=\"error\" style=\"color:red;\">${err}</div>`;\n",
       "      throw err;\n",
       "    }\n",
       "\n",
       "    function displayChart(vegaEmbed) {\n",
       "      vegaEmbed(outputDiv, spec, embedOpt)\n",
       "        .catch(err => showError(`Javascript Error: ${err.message}<br>This usually means there's a typo in your chart specification. See the javascript console for the full traceback.`));\n",
       "    }\n",
       "\n",
       "    if(typeof define === \"function\" && define.amd) {\n",
       "      requirejs.config({paths});\n",
       "      require([\"vega-embed\"], displayChart, err => showError(`Error loading script: ${err.message}`));\n",
       "    } else if (typeof vegaEmbed === \"function\") {\n",
       "      displayChart(vegaEmbed);\n",
       "    } else {\n",
       "      loadScript(\"vega\")\n",
       "        .then(() => loadScript(\"vega-lite\"))\n",
       "        .then(() => loadScript(\"vega-embed\"))\n",
       "        .catch(showError)\n",
       "        .then(() => displayChart(vegaEmbed));\n",
       "    }\n",
       "  })({\"config\": {\"view\": {\"continuousWidth\": 400, \"continuousHeight\": 300}}, \"data\": {\"name\": \"data-cdb40ee577b3dc4cc2e3499fd37b05d2\"}, \"mark\": {\"type\": \"area\", \"opacity\": 0.3}, \"encoding\": {\"x\": {\"type\": \"temporal\", \"field\": \"created\"}, \"y\": {\"type\": \"quantitative\", \"field\": \"count\"}}, \"height\": 200, \"title\": \"Non-repeated non-rejected chargebacks\", \"width\": 600, \"$schema\": \"https://vega.github.io/schema/vega-lite/v4.8.1.json\", \"datasets\": {\"data-cdb40ee577b3dc4cc2e3499fd37b05d2\": [{\"created\": \"2020-08\", \"count\": 1291}, {\"created\": \"2020-07\", \"count\": 1581}, {\"created\": \"2020-10\", \"count\": 1696}, {\"created\": \"2020-04\", \"count\": 1356}, {\"created\": \"2020-01\", \"count\": 1881}, {\"created\": \"2020-05\", \"count\": 2406}, {\"created\": \"2020-09\", \"count\": 1525}, {\"created\": \"2020-06\", \"count\": 1911}, {\"created\": \"2020-11\", \"count\": 2152}, {\"created\": \"2020-02\", \"count\": 1304}, {\"created\": \"2020-03\", \"count\": 1670}, {\"created\": \"2020-12\", \"count\": 2235}]}}, {\"mode\": \"vega-lite\"});\n",
       "</script>"
      ],
      "text/plain": [
       "alt.Chart(...)"
      ]
     },
     "metadata": {},
     "output_type": "display_data"
    }
   ],
   "source": [
    "source = cbs_flat_1\n",
    "\n",
    "alt.Chart(source).mark_area(opacity=0.3).encode(\n",
    "    x=\"created:T\", y=alt.Y(\"count:Q\")\n",
    ").properties(\n",
    "    width=600, height=200, title=\"Non-repeated non-rejected chargebacks\"\n",
    ").display()"
   ]
  },
  {
   "cell_type": "markdown",
   "metadata": {},
   "source": [
    "After removing recontacts and rejected tickets, it looks like some amount of spikes still remains. These are all unique customers raising valid (except Nov-Dec where some are not rejected yet) chargeback requests.\n",
    "\n",
    "This could possibly be related with the fact that customers are aware of the launch for this feature and therefore the activity increases after launch as more people start using it. This could partially explain why after a month it decreased in ITA and AUT. It also did not spike in ITA and AUS in November-December."
   ]
  },
  {
   "cell_type": "code",
   "execution_count": 43,
   "metadata": {
    "metadata": {
     "tags": [
      "remove_cell"
     ]
    }
   },
   "outputs": [
    {
     "data": {
      "text/html": [
       "\n",
       "<script>\n",
       "    code_show=true; \n",
       "    function code_toggle() {\n",
       "        if (code_show){\n",
       "            $('div.input').hide();\n",
       "        } else {\n",
       "            $('div.input').show();\n",
       "            }\n",
       "        code_show = !code_show\n",
       " \n",
       "        $('div.output_subarea').css(\"text-align\", \"center\"); \n",
       "        $('body').css(\"font-family\", \"Montserrat, sans-serif\");\n",
       "        $('h1').css(\"font-family\", \"Karla, sans-serif\");\n",
       "        $('h2').css(\"font-family\", \"Karla, sans-serif\");\n",
       "    } \n",
       "    $( document ).ready(code_toggle);\n",
       "    \n",
       "    </script>\n",
       "    <form action=\"javascript:code_toggle()\">\n",
       "        <input type=\"submit\" value=\"Click here to toggle on/off the raw code.\">\n",
       "    </form>\n"
      ],
      "text/plain": [
       "<IPython.core.display.HTML object>"
      ]
     },
     "execution_count": 43,
     "metadata": {},
     "output_type": "execute_result"
    }
   ],
   "source": [
    "HTML(\n",
    "    \"\"\"\n",
    "<script>\n",
    "    code_show=true; \n",
    "    function code_toggle() {\n",
    "        if (code_show){\n",
    "            $('div.input').hide();\n",
    "        } else {\n",
    "            $('div.input').show();\n",
    "            }\n",
    "        code_show = !code_show\n",
    " \n",
    "        $('div.output_subarea').css(\"text-align\", \"center\"); \n",
    "        $('body').css(\"font-family\", \"Montserrat, sans-serif\");\n",
    "        $('h1').css(\"font-family\", \"Karla, sans-serif\");\n",
    "        $('h2').css(\"font-family\", \"Karla, sans-serif\");\n",
    "    } \n",
    "    $( document ).ready(code_toggle);\n",
    "    \n",
    "    </script>\n",
    "    <form action=\"javascript:code_toggle()\">\n",
    "        <input type=\"submit\" value=\"Click here to toggle on/off the raw code.\">\n",
    "    </form>\n",
    "\"\"\"\n",
    ")"
   ]
  },
  {
   "cell_type": "code",
   "execution_count": null,
   "metadata": {},
   "outputs": [],
   "source": []
  }
 ],
 "metadata": {
  "kernelspec": {
   "display_name": "Python 3",
   "language": "python",
   "name": "python3"
  },
  "language_info": {
   "codemirror_mode": {
    "name": "ipython",
    "version": 3
   },
   "file_extension": ".py",
   "mimetype": "text/x-python",
   "name": "python",
   "nbconvert_exporter": "python",
   "pygments_lexer": "ipython3",
   "version": "3.7.2"
  }
 },
 "nbformat": 4,
 "nbformat_minor": 4
}
