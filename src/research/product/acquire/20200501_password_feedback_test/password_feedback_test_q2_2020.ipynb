{
 "cells": [
  {
   "cell_type": "markdown",
   "source": [
    "title: AB test - testing password strength feedback in the signup funnel.    \n",
    "author: Fabio Schmidt-Fischbach   \n",
    "date: 2020-05-01   \n",
    "region: EU   \n",
    "summary: More than 50% of users have to enter the PW more than once in the sign up funnel. Proposed solution is to add a password strength meter. Conversion rate from pw screen to account creation increase from 94.5% to 94.9%.\n",
    "link: https://docs.google.com/presentation/d/1qmWUtapzLv3dpeW9KPTjMBLp3Pk19aCUGMOe9dbG1hI/edit?usp=sharing   \n",
    "tags: acquire, signup, sign up, funnel, ab test, password"
   ],
   "metadata": {}
  }
 ],
 "metadata": {
  "kernelspec": {
   "display_name": "Python 3",
   "language": "python",
   "name": "python3"
  },
  "language_info": {
   "codemirror_mode": {
    "name": "ipython",
    "version": 3
   },
   "file_extension": ".py",
   "mimetype": "text/x-python",
   "name": "python",
   "nbconvert_exporter": "python",
   "pygments_lexer": "ipython3",
   "version": "3.7.3"
  }
 },
 "nbformat": 4,
 "nbformat_minor": 2
}