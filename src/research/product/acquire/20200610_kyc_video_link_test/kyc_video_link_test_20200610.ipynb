{
 "cells": [
  {
   "cell_type": "markdown",
   "source": [
    "title: AB Test: Remove video kyc link from flow   \n",
    "author: Fabio Schmidt-Fischbach  \n",
    "date: 2020-06-10  \n",
    "region: EU  \n",
    "summary: Control - before initiating the KYC call, we have a link to an explainer video (like this one) on youtube. We remove this link in the treatment group. Clicking on this video might take users out of the KYC flow. Main conversion rate of starting the KYC flow to initiating a KYC call increased from 92% to 93% in the treatment. Crucially, the higher number of people initiating the call was not counteracted by a lower % completing the call. Rather, we observe the same % KYCi to KYCc (7day) conversion for both treatment and control. What's the impact of this feature then? Monthly, we currently have roughly 30k users starting the video flow. Increasing the % that start and also finish KYC from 63% to 64% produces an added = 30k x 1% = 300 KYCc per month. Annually, we'd expect an added 3600 KYCc per year and an increase of something close to 1pp in the video flow conversion rate.\n",
    "tags: kyc, acquire, ab test  "
   ],
   "metadata": {}
  },
  {
   "cell_type": "code",
   "execution_count": 1,
   "source": [
    "import pandas as pd\n",
    "import os\n",
    "import seaborn as sns\n",
    "from statsmodels.stats.proportion import proportions_ztest\n",
    "import altair as alt"
   ],
   "outputs": [],
   "metadata": {}
  },
  {
   "cell_type": "markdown",
   "source": [
    "### 0. A note on why we need AB testing for product development. \n",
    "\n",
    "This test started with a UX research driven question. Is it a good thing to have a video link on the KYC video screen allowing users to exit the flow? the data team looking at the correlation between clicking on the link to view the video and progressing with the flow. \n",
    "\n",
    "While our UX assessment told us that taking people out of the flow might be detrimental, the correlation suggested the opposite. People who clicked the video were more likely to move on with their KYC journey. \n",
    "\n",
    "Why did we move on with the project anyway? Our main interpretation at the time was that very ambitious users would be much more likely to both click on the link and then also to progress. The correlation hence did not only capture the effect of taking the users out of the flow but also partly it told us a story user quality. \n",
    "\n",
    "To isolate the effect of the video link, we needed an AB test.\n"
   ],
   "metadata": {}
  },
  {
   "cell_type": "markdown",
   "source": [
    "### 1. Setup. \n",
    "\n",
    "- Target group: users that do KYC via video (IDNow) since 20th May 2020 and have the current app versions installed. \n",
    "- Feature change: Control - before initiating the KYC call, we have a link to an explainer video (like this one) on youtube. We remove this link in the treatment group. \n",
    "- Rational: Clicking on this video might take users out of the KYC flow.\n",
    "- Main KPIs: conversion to KYCi and KYCi to KYCc.\n"
   ],
   "metadata": {}
  },
  {
   "cell_type": "markdown",
   "source": [
    "### 2. Summary \n",
    "\n",
    "Main conversion rate of starting the KYC flow to initiating a KYC call increased from 92% to 93% in the treatment. \n",
    "\n",
    "Crucially, the higher number of people initiating the call was not counteracted by a lower % completing the call. Rather, we observe the same % KYCi to KYCc (7day) conversion for both treatment and control. \n",
    "\n",
    "What's the impact of this feature then? \n",
    "\n",
    "Monthly, we currently have roughly 30k users starting the video flow. Increasing the % that start and also finish KYC from 63% to 64% produces an added = 30k x 1% = 300 KYCc per month. \n",
    "\n",
    "Annually, we'd expect an added 3600 KYCc per year and an increase of something close to 1pp in the video flow conversion rate.\n",
    "\n",
    "\n"
   ],
   "metadata": {}
  },
  {
   "cell_type": "code",
   "execution_count": 2,
   "source": [
    "##### Query to pull the data from the dwh.\n",
    "query = \"\"\" \n",
    "\n",
    "---get set of users that were part of the experiment for the first time. \n",
    "with users as ( \n",
    "\n",
    "select user_created, min(platform) as platform, min(os_major) as os_major    \n",
    "from dbt.zrh_kyc_funnel \n",
    "where se_action like 'kyc.video%' and app_version in ('n26-ios_3.45', 'n26-ios_3.46', 'n26-android_3.45') and created >= '2020-05-20'\n",
    "group by 1 \n",
    "\n",
    ")\n",
    "\n",
    "select  case when is_user_in_tg(user_id, 'idnow.show-video-link', 50) = True then 'Control' else 'Treatment' end as treatment, \n",
    "\t\tzu.user_id,\n",
    "\t\ttnc_country_group,\n",
    "\t\tproduct_id, \n",
    "\t\tkyc_first_initiated, \n",
    "\t\tkyc_first_completed, \n",
    "\t\tage_group,\n",
    "\t\tgender, \n",
    "\t\tplatform, \n",
    "\t\tos_major \n",
    "from users inner join dbt.zrh_users AS zu using (user_created) \n",
    "group by 1,2,3,4,5,6,7,8,9,10\n",
    "\n",
    "\"\"\""
   ],
   "outputs": [],
   "metadata": {}
  },
  {
   "cell_type": "code",
   "execution_count": 103,
   "source": [
    "##### Make checks to data consistency.\n",
    "df = pd.read_csv(\"kyc_removing_video_link.csv\")\n",
    "\n",
    "# d = df.groupby(\"user_id\")[\"treatment\"].agg(\"nunique\").reset_index()\n",
    "# if d.loc[d[\"treatment\"]>1,:].shape[0] > 0:\n",
    "# print(\"Users were part of both groups\")\n",
    "# else:\n",
    "# print(\"No single user saw both variants.\")"
   ],
   "outputs": [],
   "metadata": {}
  },
  {
   "cell_type": "markdown",
   "source": [
    "### Step 3. Sample size\n",
    "\n",
    "\n",
    "It's not ideal that the sample sizes are quite far apart. I tested the validity of the assignment by checking how often users in the treatment actually clicked the link: https://metabase-product.tech26.de/question/2013?app_version=n26-android_3.45&app_version=n26-ios_3.46&app_version=n26-ios_3.45&start_date=2020-05-20\n"
   ],
   "metadata": {}
  },
  {
   "cell_type": "code",
   "execution_count": 19,
   "source": [
    "df = pd.read_csv(\"kyc_removing_video_link.csv\")\n",
    "\n",
    "df = df.groupby([\"treatment\"])[\"user_id\"].agg(\"nunique\").reset_index()\n",
    "\n",
    "alt.Chart(df).mark_bar().encode(\n",
    "    x=alt.X(\"treatment:N\", axis=alt.Axis(title=\"Group\")),\n",
    "    y=alt.Y(\"user_id:Q\", axis=alt.Axis(title=\"Number of users\")),\n",
    ").properties(width=500, height=500, title=\"Sample size\")"
   ],
   "outputs": [
    {
     "output_type": "execute_result",
     "data": {
      "text/plain": [
       "alt.Chart(...)"
      ],
      "text/html": [
       "\n",
       "<div id=\"altair-viz-51c4a66cde8a407497ae040d1404efc8\"></div>\n",
       "<script type=\"text/javascript\">\n",
       "  (function(spec, embedOpt){\n",
       "    const outputDiv = document.getElementById(\"altair-viz-51c4a66cde8a407497ae040d1404efc8\");\n",
       "    const paths = {\n",
       "      \"vega\": \"https://cdn.jsdelivr.net/npm//vega@5?noext\",\n",
       "      \"vega-lib\": \"https://cdn.jsdelivr.net/npm//vega-lib?noext\",\n",
       "      \"vega-lite\": \"https://cdn.jsdelivr.net/npm//vega-lite@4.0.2?noext\",\n",
       "      \"vega-embed\": \"https://cdn.jsdelivr.net/npm//vega-embed@6?noext\",\n",
       "    };\n",
       "\n",
       "    function loadScript(lib) {\n",
       "      return new Promise(function(resolve, reject) {\n",
       "        var s = document.createElement('script');\n",
       "        s.src = paths[lib];\n",
       "        s.async = true;\n",
       "        s.onload = () => resolve(paths[lib]);\n",
       "        s.onerror = () => reject(`Error loading script: ${paths[lib]}`);\n",
       "        document.getElementsByTagName(\"head\")[0].appendChild(s);\n",
       "      });\n",
       "    }\n",
       "\n",
       "    function showError(err) {\n",
       "      outputDiv.innerHTML = `<div class=\"error\" style=\"color:red;\">${err}</div>`;\n",
       "      throw err;\n",
       "    }\n",
       "\n",
       "    function displayChart(vegaEmbed) {\n",
       "      vegaEmbed(outputDiv, spec, embedOpt)\n",
       "        .catch(err => showError(`Javascript Error: ${err.message}<br>This usually means there's a typo in your chart specification. See the javascript console for the full traceback.`));\n",
       "    }\n",
       "\n",
       "    if(typeof define === \"function\" && define.amd) {\n",
       "      requirejs.config({paths});\n",
       "      require([\"vega-embed\"], displayChart, err => showError(`Error loading script: ${err.message}`));\n",
       "    } else if (typeof vegaEmbed === \"function\") {\n",
       "      displayChart(vegaEmbed);\n",
       "    } else {\n",
       "      loadScript(\"vega\")\n",
       "        .then(() => loadScript(\"vega-lite\"))\n",
       "        .then(() => loadScript(\"vega-embed\"))\n",
       "        .catch(showError)\n",
       "        .then(() => displayChart(vegaEmbed));\n",
       "    }\n",
       "  })({\"config\": {\"view\": {\"continuousWidth\": 400, \"continuousHeight\": 300}}, \"data\": {\"name\": \"data-de1b21de415f7913a2ab4f1d63092326\"}, \"mark\": \"bar\", \"encoding\": {\"x\": {\"type\": \"nominal\", \"axis\": {\"title\": \"Group\"}, \"field\": \"treatment\"}, \"y\": {\"type\": \"quantitative\", \"axis\": {\"title\": \"Number of users\"}, \"field\": \"user_id\"}}, \"height\": 500, \"title\": \"Sample size\", \"width\": 500, \"$schema\": \"https://vega.github.io/schema/vega-lite/v4.0.2.json\", \"datasets\": {\"data-de1b21de415f7913a2ab4f1d63092326\": [{\"treatment\": \"Control\", \"user_id\": 9785}, {\"treatment\": \"Treatment\", \"user_id\": 9411}]}}, {\"mode\": \"vega-lite\"});\n",
       "</script>"
      ]
     },
     "metadata": {},
     "execution_count": 19
    }
   ],
   "metadata": {}
  },
  {
   "cell_type": "markdown",
   "source": [
    "### Step 4. Main KPI \n",
    "\n",
    "Our intervention starts at the beginning of the KYC flow - before the KYC process in cmd is officially initiated. \n",
    "\n",
    "The goal of this test is to increase the % of users that start the KYC flow and then also successfully manage to initiate a KYC process. \n",
    "\n",
    "This % of users that initiate a KYC process is shown below. "
   ],
   "metadata": {}
  },
  {
   "cell_type": "code",
   "execution_count": 59,
   "source": [
    "df = pd.read_csv(\"kyc_removing_video_link.csv\")\n",
    "\n",
    "# make sure we are unique on the user level.\n",
    "df = (\n",
    "    df.groupby([\"treatment\", \"user_id\"])[\"kyc_first_initiated\"].agg(\"min\").reset_index()\n",
    ")\n",
    "\n",
    "# now, count how many users managed to initiate kyc.\n",
    "df[\"kyci\"] = 0\n",
    "df.loc[df[\"kyc_first_initiated\"].isna() == False, \"kyci\"] = 1\n",
    "\n",
    "df = df.groupby([\"treatment\"])[\"kyci\"].agg(\"mean\").reset_index()\n",
    "\n",
    "alt.Chart(df).mark_bar().encode(\n",
    "    x=alt.X(\"treatment:N\", axis=alt.Axis(title=\"Group\")),\n",
    "    y=alt.Y(\n",
    "        \"kyci:Q\",\n",
    "        axis=alt.Axis(title=\"% of users that initiate KYC\", format=\"%\"),\n",
    "        scale=alt.Scale(domain=[0.90, 0.94]),\n",
    "    ),\n",
    ").properties(width=500, height=500, title=\"% of users that initiate KYC\")"
   ],
   "outputs": [
    {
     "output_type": "execute_result",
     "data": {
      "text/plain": [
       "alt.Chart(...)"
      ],
      "text/html": [
       "\n",
       "<div id=\"altair-viz-c80296ba7b95487b96d8c4561ecee533\"></div>\n",
       "<script type=\"text/javascript\">\n",
       "  (function(spec, embedOpt){\n",
       "    const outputDiv = document.getElementById(\"altair-viz-c80296ba7b95487b96d8c4561ecee533\");\n",
       "    const paths = {\n",
       "      \"vega\": \"https://cdn.jsdelivr.net/npm//vega@5?noext\",\n",
       "      \"vega-lib\": \"https://cdn.jsdelivr.net/npm//vega-lib?noext\",\n",
       "      \"vega-lite\": \"https://cdn.jsdelivr.net/npm//vega-lite@4.0.2?noext\",\n",
       "      \"vega-embed\": \"https://cdn.jsdelivr.net/npm//vega-embed@6?noext\",\n",
       "    };\n",
       "\n",
       "    function loadScript(lib) {\n",
       "      return new Promise(function(resolve, reject) {\n",
       "        var s = document.createElement('script');\n",
       "        s.src = paths[lib];\n",
       "        s.async = true;\n",
       "        s.onload = () => resolve(paths[lib]);\n",
       "        s.onerror = () => reject(`Error loading script: ${paths[lib]}`);\n",
       "        document.getElementsByTagName(\"head\")[0].appendChild(s);\n",
       "      });\n",
       "    }\n",
       "\n",
       "    function showError(err) {\n",
       "      outputDiv.innerHTML = `<div class=\"error\" style=\"color:red;\">${err}</div>`;\n",
       "      throw err;\n",
       "    }\n",
       "\n",
       "    function displayChart(vegaEmbed) {\n",
       "      vegaEmbed(outputDiv, spec, embedOpt)\n",
       "        .catch(err => showError(`Javascript Error: ${err.message}<br>This usually means there's a typo in your chart specification. See the javascript console for the full traceback.`));\n",
       "    }\n",
       "\n",
       "    if(typeof define === \"function\" && define.amd) {\n",
       "      requirejs.config({paths});\n",
       "      require([\"vega-embed\"], displayChart, err => showError(`Error loading script: ${err.message}`));\n",
       "    } else if (typeof vegaEmbed === \"function\") {\n",
       "      displayChart(vegaEmbed);\n",
       "    } else {\n",
       "      loadScript(\"vega\")\n",
       "        .then(() => loadScript(\"vega-lite\"))\n",
       "        .then(() => loadScript(\"vega-embed\"))\n",
       "        .catch(showError)\n",
       "        .then(() => displayChart(vegaEmbed));\n",
       "    }\n",
       "  })({\"config\": {\"view\": {\"continuousWidth\": 400, \"continuousHeight\": 300}}, \"data\": {\"name\": \"data-5825ca9594f0ad03b73e566127b6dbbd\"}, \"mark\": \"bar\", \"encoding\": {\"x\": {\"type\": \"nominal\", \"axis\": {\"title\": \"Group\"}, \"field\": \"treatment\"}, \"y\": {\"type\": \"quantitative\", \"axis\": {\"format\": \"%\", \"title\": \"% of users that initiate KYC\"}, \"field\": \"kyci\", \"scale\": {\"domain\": [0.9, 0.94]}}}, \"height\": 500, \"title\": \"% of users that initiate KYC\", \"width\": 500, \"$schema\": \"https://vega.github.io/schema/vega-lite/v4.0.2.json\", \"datasets\": {\"data-5825ca9594f0ad03b73e566127b6dbbd\": [{\"treatment\": \"Control\", \"kyci\": 0.9192641798671436}, {\"treatment\": \"Treatment\", \"kyci\": 0.9304005950483477}]}}, {\"mode\": \"vega-lite\"});\n",
       "</script>"
      ]
     },
     "metadata": {},
     "execution_count": 59
    }
   ],
   "metadata": {}
  },
  {
   "cell_type": "markdown",
   "source": [
    "There is a difference between the two groups. The next step is to check whether this difference is significant.\n",
    "\n",
    "Why do we do this? This check helps us understand whether the difference between the groups could have also arisen by chance with a high probability. \n",
    "\n",
    "If we claim a \"statistically significant difference\", the concrete interpretation is that the chance of this difference being created by chance is 5%. "
   ],
   "metadata": {}
  },
  {
   "cell_type": "code",
   "execution_count": 38,
   "source": [
    "from statsmodels.stats.proportion import proportions_ztest\n",
    "\n",
    "df = pd.read_csv(\"kyc_removing_video_link.csv\")\n",
    "\n",
    "# make sure we are unique on the user level.\n",
    "df = (\n",
    "    df.groupby([\"treatment\", \"user_id\"])[\"kyc_first_initiated\"].agg(\"min\").reset_index()\n",
    ")\n",
    "\n",
    "# now, count how many users managed to initiate kyc.\n",
    "df[\"kyci\"] = 0\n",
    "df.loc[df[\"kyc_first_initiated\"].isna() == False, \"kyci\"] = 1\n",
    "\n",
    "df = df.groupby(\"treatment\")[\"kyci\"].agg([\"count\", \"sum\"]).reset_index()\n",
    "\n",
    "# run z test. (two sided)\n",
    "stat, pval = proportions_ztest(df[\"sum\"], df[\"count\"])\n",
    "\n",
    "print(\n",
    "    \"The z-score for this test is %s which corresponds to a p-value of %s\"\n",
    "    % (round(stat, 2), round(pval, 4))\n",
    ")\n",
    "\n",
    "if pval < 0.05:\n",
    "    print(\"The difference is significant.\")\n",
    "else:\n",
    "    print(\"The difference is not signficiant.\")\n",
    "\n",
    "\n",
    "# compute the effect size.\n",
    "df[\"cr\"] = df[\"sum\"] / df[\"count\"]\n",
    "\n",
    "mu_v = df.loc[df[\"treatment\"] == \"Treatment\", \"cr\"][1]\n",
    "mu_c = df.loc[df[\"treatment\"] != \"Treatment\", \"cr\"][0]\n",
    "effect_size = 100 * ((mu_v - mu_c) / mu_c)\n",
    "\n",
    "print(\"The effect size is %s Percent\" % (round(effect_size, 2)))"
   ],
   "outputs": [
    {
     "output_type": "stream",
     "name": "stdout",
     "text": [
      "The z-score for this test is -2.92 which corresponds to a p-value of 0.0035\n",
      "The difference is significant.\n",
      "The effect size is 1.21 Percent\n"
     ]
    }
   ],
   "metadata": {}
  },
  {
   "cell_type": "markdown",
   "source": [
    "### Step 5. Check whether treatment negatively affect KYC conversion rates. \n",
    "\n",
    "Maybe the lack of information prevents some people to complete KYC? This does not seem to be an issue.\n",
    "\n",
    "We compute the % KYCi to KYCc (7 day) for control and treatment unsers: we see no difference between the two groups."
   ],
   "metadata": {}
  },
  {
   "cell_type": "code",
   "execution_count": 104,
   "source": [
    "from datetime import datetime, timedelta\n",
    "\n",
    "df = pd.read_csv(\"kyc_removing_video_link.csv\")\n",
    "\n",
    "# make sure we are unique on the user level.\n",
    "df = (\n",
    "    df.groupby([\"treatment\", \"user_id\"])[\"kyc_first_completed\", \"kyc_first_initiated\"]\n",
    "    .agg(\"min\")\n",
    "    .reset_index()\n",
    ")\n",
    "\n",
    "# drop all users that did not initiate kyc\n",
    "df = df.loc[df[\"kyc_first_initiated\"].isna() == False, :]\n",
    "# drop recent joiners to the sample\n",
    "df = df.loc[\n",
    "    pd.to_datetime(df[\"kyc_first_initiated\"]) <= datetime.now() - timedelta(days=7), :\n",
    "]\n",
    "\n",
    "df[\"date_diff\"] = (\n",
    "    pd.to_datetime(df[\"kyc_first_completed\"])\n",
    "    - pd.to_datetime(df[\"kyc_first_initiated\"])\n",
    ").dt.days\n",
    "# now, count how many users managed to initiate kyc.\n",
    "df[\"kycc\"] = 0\n",
    "df.loc[df[\"date_diff\"] <= 7, \"kycc\"] = 1\n",
    "\n",
    "\n",
    "df = df.groupby([\"treatment\"])[\"kycc\"].agg(\"mean\").reset_index()\n",
    "\n",
    "alt.Chart(df).mark_bar().encode(\n",
    "    x=alt.X(\"treatment:N\", axis=alt.Axis(title=\"Group\")),\n",
    "    y=alt.Y(\"kycc:Q\", axis=alt.Axis(title=\"% of users that complete KYC\", format=\"%\")),\n",
    ").properties(width=500, height=500, title=\"% of users that complete KYC\")"
   ],
   "outputs": [
    {
     "output_type": "stream",
     "name": "stderr",
     "text": [
      "/Users/fabioschmidt-fischbach/anaconda3/lib/python3.7/site-packages/ipykernel_launcher.py:6: FutureWarning: Indexing with multiple keys (implicitly converted to a tuple of keys) will be deprecated, use a list instead.\n",
      "  \n"
     ]
    },
    {
     "output_type": "execute_result",
     "data": {
      "text/plain": [
       "alt.Chart(...)"
      ],
      "text/html": [
       "\n",
       "<div id=\"altair-viz-101cf9be47ad452fbe14bc43f5e03dcc\"></div>\n",
       "<script type=\"text/javascript\">\n",
       "  (function(spec, embedOpt){\n",
       "    const outputDiv = document.getElementById(\"altair-viz-101cf9be47ad452fbe14bc43f5e03dcc\");\n",
       "    const paths = {\n",
       "      \"vega\": \"https://cdn.jsdelivr.net/npm//vega@5?noext\",\n",
       "      \"vega-lib\": \"https://cdn.jsdelivr.net/npm//vega-lib?noext\",\n",
       "      \"vega-lite\": \"https://cdn.jsdelivr.net/npm//vega-lite@4.0.2?noext\",\n",
       "      \"vega-embed\": \"https://cdn.jsdelivr.net/npm//vega-embed@6?noext\",\n",
       "    };\n",
       "\n",
       "    function loadScript(lib) {\n",
       "      return new Promise(function(resolve, reject) {\n",
       "        var s = document.createElement('script');\n",
       "        s.src = paths[lib];\n",
       "        s.async = true;\n",
       "        s.onload = () => resolve(paths[lib]);\n",
       "        s.onerror = () => reject(`Error loading script: ${paths[lib]}`);\n",
       "        document.getElementsByTagName(\"head\")[0].appendChild(s);\n",
       "      });\n",
       "    }\n",
       "\n",
       "    function showError(err) {\n",
       "      outputDiv.innerHTML = `<div class=\"error\" style=\"color:red;\">${err}</div>`;\n",
       "      throw err;\n",
       "    }\n",
       "\n",
       "    function displayChart(vegaEmbed) {\n",
       "      vegaEmbed(outputDiv, spec, embedOpt)\n",
       "        .catch(err => showError(`Javascript Error: ${err.message}<br>This usually means there's a typo in your chart specification. See the javascript console for the full traceback.`));\n",
       "    }\n",
       "\n",
       "    if(typeof define === \"function\" && define.amd) {\n",
       "      requirejs.config({paths});\n",
       "      require([\"vega-embed\"], displayChart, err => showError(`Error loading script: ${err.message}`));\n",
       "    } else if (typeof vegaEmbed === \"function\") {\n",
       "      displayChart(vegaEmbed);\n",
       "    } else {\n",
       "      loadScript(\"vega\")\n",
       "        .then(() => loadScript(\"vega-lite\"))\n",
       "        .then(() => loadScript(\"vega-embed\"))\n",
       "        .catch(showError)\n",
       "        .then(() => displayChart(vegaEmbed));\n",
       "    }\n",
       "  })({\"config\": {\"view\": {\"continuousWidth\": 400, \"continuousHeight\": 300}}, \"data\": {\"name\": \"data-9a12768889e8d61b91d61b81a295b12b\"}, \"mark\": \"bar\", \"encoding\": {\"x\": {\"type\": \"nominal\", \"axis\": {\"title\": \"Group\"}, \"field\": \"treatment\"}, \"y\": {\"type\": \"quantitative\", \"axis\": {\"format\": \"%\", \"title\": \"% of users that complete KYC\"}, \"field\": \"kycc\"}}, \"height\": 500, \"title\": \"% of users that complete KYC\", \"width\": 500, \"$schema\": \"https://vega.github.io/schema/vega-lite/v4.0.2.json\", \"datasets\": {\"data-9a12768889e8d61b91d61b81a295b12b\": [{\"treatment\": \"Control\", \"kycc\": 0.601095461658842}, {\"treatment\": \"Treatment\", \"kycc\": 0.603112840466926}]}}, {\"mode\": \"vega-lite\"});\n",
       "</script>"
      ]
     },
     "metadata": {},
     "execution_count": 104
    }
   ],
   "metadata": {}
  },
  {
   "cell_type": "code",
   "execution_count": 95,
   "source": [
    "df.head()"
   ],
   "outputs": [
    {
     "output_type": "execute_result",
     "data": {
      "text/plain": [
       "   treatment      kycc\n",
       "0    Control  0.601505\n",
       "1  Treatment  0.603084"
      ],
      "text/html": [
       "<div>\n",
       "<style scoped>\n",
       "    .dataframe tbody tr th:only-of-type {\n",
       "        vertical-align: middle;\n",
       "    }\n",
       "\n",
       "    .dataframe tbody tr th {\n",
       "        vertical-align: top;\n",
       "    }\n",
       "\n",
       "    .dataframe thead th {\n",
       "        text-align: right;\n",
       "    }\n",
       "</style>\n",
       "<table border=\"1\" class=\"dataframe\">\n",
       "  <thead>\n",
       "    <tr style=\"text-align: right;\">\n",
       "      <th></th>\n",
       "      <th>treatment</th>\n",
       "      <th>kycc</th>\n",
       "    </tr>\n",
       "  </thead>\n",
       "  <tbody>\n",
       "    <tr>\n",
       "      <th>0</th>\n",
       "      <td>Control</td>\n",
       "      <td>0.601505</td>\n",
       "    </tr>\n",
       "    <tr>\n",
       "      <th>1</th>\n",
       "      <td>Treatment</td>\n",
       "      <td>0.603084</td>\n",
       "    </tr>\n",
       "  </tbody>\n",
       "</table>\n",
       "</div>"
      ]
     },
     "metadata": {},
     "execution_count": 95
    }
   ],
   "metadata": {}
  },
  {
   "cell_type": "code",
   "execution_count": 100,
   "source": [
    "from datetime import datetime, timedelta\n",
    "\n",
    "df = pd.read_csv(\"kyc_removing_video_link.csv\")\n",
    "\n",
    "# make sure we are unique on the user level.\n",
    "df = (\n",
    "    df.groupby([\"treatment\", \"user_id\"])[\"kyc_first_completed\", \"kyc_first_initiated\"]\n",
    "    .agg(\"min\")\n",
    "    .reset_index()\n",
    ")\n",
    "\n",
    "# now, count how many users managed to initiate kyc.\n",
    "df[\"kycc\"] = 0\n",
    "df.loc[df[\"kyc_first_completed\"].isna() == False, \"kycc\"] = 1\n",
    "\n",
    "df = df.groupby([\"treatment\"])[\"kycc\"].agg(\"mean\").reset_index()\n",
    "\n",
    "alt.Chart(df).mark_bar().encode(\n",
    "    x=alt.X(\"treatment:N\", axis=alt.Axis(title=\"Group\")),\n",
    "    y=alt.Y(\"kycc:Q\", axis=alt.Axis(title=\"% of users that complete KYC\", format=\"%\")),\n",
    ").properties(\n",
    "    width=500, height=500, title=\"% of users that complete KYC from flow start\"\n",
    ")"
   ],
   "outputs": [
    {
     "output_type": "stream",
     "name": "stderr",
     "text": [
      "/Users/fabioschmidt-fischbach/anaconda3/lib/python3.7/site-packages/ipykernel_launcher.py:6: FutureWarning: Indexing with multiple keys (implicitly converted to a tuple of keys) will be deprecated, use a list instead.\n",
      "  \n"
     ]
    },
    {
     "output_type": "execute_result",
     "data": {
      "text/plain": [
       "alt.Chart(...)"
      ],
      "text/html": [
       "\n",
       "<div id=\"altair-viz-b37af740c20b4fe38f904d5cb007460b\"></div>\n",
       "<script type=\"text/javascript\">\n",
       "  (function(spec, embedOpt){\n",
       "    const outputDiv = document.getElementById(\"altair-viz-b37af740c20b4fe38f904d5cb007460b\");\n",
       "    const paths = {\n",
       "      \"vega\": \"https://cdn.jsdelivr.net/npm//vega@5?noext\",\n",
       "      \"vega-lib\": \"https://cdn.jsdelivr.net/npm//vega-lib?noext\",\n",
       "      \"vega-lite\": \"https://cdn.jsdelivr.net/npm//vega-lite@4.0.2?noext\",\n",
       "      \"vega-embed\": \"https://cdn.jsdelivr.net/npm//vega-embed@6?noext\",\n",
       "    };\n",
       "\n",
       "    function loadScript(lib) {\n",
       "      return new Promise(function(resolve, reject) {\n",
       "        var s = document.createElement('script');\n",
       "        s.src = paths[lib];\n",
       "        s.async = true;\n",
       "        s.onload = () => resolve(paths[lib]);\n",
       "        s.onerror = () => reject(`Error loading script: ${paths[lib]}`);\n",
       "        document.getElementsByTagName(\"head\")[0].appendChild(s);\n",
       "      });\n",
       "    }\n",
       "\n",
       "    function showError(err) {\n",
       "      outputDiv.innerHTML = `<div class=\"error\" style=\"color:red;\">${err}</div>`;\n",
       "      throw err;\n",
       "    }\n",
       "\n",
       "    function displayChart(vegaEmbed) {\n",
       "      vegaEmbed(outputDiv, spec, embedOpt)\n",
       "        .catch(err => showError(`Javascript Error: ${err.message}<br>This usually means there's a typo in your chart specification. See the javascript console for the full traceback.`));\n",
       "    }\n",
       "\n",
       "    if(typeof define === \"function\" && define.amd) {\n",
       "      requirejs.config({paths});\n",
       "      require([\"vega-embed\"], displayChart, err => showError(`Error loading script: ${err.message}`));\n",
       "    } else if (typeof vegaEmbed === \"function\") {\n",
       "      displayChart(vegaEmbed);\n",
       "    } else {\n",
       "      loadScript(\"vega\")\n",
       "        .then(() => loadScript(\"vega-lite\"))\n",
       "        .then(() => loadScript(\"vega-embed\"))\n",
       "        .catch(showError)\n",
       "        .then(() => displayChart(vegaEmbed));\n",
       "    }\n",
       "  })({\"config\": {\"view\": {\"continuousWidth\": 400, \"continuousHeight\": 300}}, \"data\": {\"name\": \"data-b70f28169184ab9c5b8a20de6443e042\"}, \"mark\": \"bar\", \"encoding\": {\"x\": {\"type\": \"nominal\", \"axis\": {\"title\": \"Group\"}, \"field\": \"treatment\"}, \"y\": {\"type\": \"quantitative\", \"axis\": {\"format\": \"%\", \"title\": \"% of users that complete KYC\"}, \"field\": \"kycc\"}}, \"height\": 500, \"title\": \"% of users that complete KYC from flow start\", \"width\": 500, \"$schema\": \"https://vega.github.io/schema/vega-lite/v4.0.2.json\", \"datasets\": {\"data-b70f28169184ab9c5b8a20de6443e042\": [{\"treatment\": \"Control\", \"kycc\": 0.631987736331119}, {\"treatment\": \"Treatment\", \"kycc\": 0.6406333014557433}]}}, {\"mode\": \"vega-lite\"});\n",
       "</script>"
      ]
     },
     "metadata": {},
     "execution_count": 100
    }
   ],
   "metadata": {}
  },
  {
   "cell_type": "code",
   "execution_count": 101,
   "source": [
    "df.head()"
   ],
   "outputs": [
    {
     "output_type": "execute_result",
     "data": {
      "text/plain": [
       "   treatment      kycc\n",
       "0    Control  0.631988\n",
       "1  Treatment  0.640633"
      ],
      "text/html": [
       "<div>\n",
       "<style scoped>\n",
       "    .dataframe tbody tr th:only-of-type {\n",
       "        vertical-align: middle;\n",
       "    }\n",
       "\n",
       "    .dataframe tbody tr th {\n",
       "        vertical-align: top;\n",
       "    }\n",
       "\n",
       "    .dataframe thead th {\n",
       "        text-align: right;\n",
       "    }\n",
       "</style>\n",
       "<table border=\"1\" class=\"dataframe\">\n",
       "  <thead>\n",
       "    <tr style=\"text-align: right;\">\n",
       "      <th></th>\n",
       "      <th>treatment</th>\n",
       "      <th>kycc</th>\n",
       "    </tr>\n",
       "  </thead>\n",
       "  <tbody>\n",
       "    <tr>\n",
       "      <th>0</th>\n",
       "      <td>Control</td>\n",
       "      <td>0.631988</td>\n",
       "    </tr>\n",
       "    <tr>\n",
       "      <th>1</th>\n",
       "      <td>Treatment</td>\n",
       "      <td>0.640633</td>\n",
       "    </tr>\n",
       "  </tbody>\n",
       "</table>\n",
       "</div>"
      ]
     },
     "metadata": {},
     "execution_count": 101
    }
   ],
   "metadata": {}
  },
  {
   "cell_type": "markdown",
   "source": [
    "### Step 6. Show primary KPI by a couple of other dimensions. "
   ],
   "metadata": {}
  },
  {
   "cell_type": "code",
   "execution_count": 55,
   "source": [
    "df = pd.read_csv(\"kyc_removing_video_link.csv\")\n",
    "\n",
    "# make sure we are unique on the user level.\n",
    "df = (\n",
    "    df.groupby([\"treatment\", \"platform\", \"user_id\"])[\"kyc_first_initiated\"]\n",
    "    .agg(\"min\")\n",
    "    .reset_index()\n",
    ")\n",
    "\n",
    "# now, count how many users managed to initiate kyc.\n",
    "df[\"kyci\"] = 0\n",
    "df.loc[df[\"kyc_first_initiated\"].isna() == False, \"kyci\"] = 1\n",
    "\n",
    "df = df.groupby([\"treatment\", \"platform\"])[\"kyci\"].agg(\"mean\").reset_index()\n",
    "\n",
    "alt.Chart(df).mark_bar().encode(\n",
    "    x=alt.X(\"treatment:N\", axis=alt.Axis(title=\"Group\")),\n",
    "    y=alt.Y(\"kyci:Q\", axis=alt.Axis(title=\"% of users that initiate KYC\", format=\"%\")),\n",
    "    column=\"platform\",\n",
    ").properties(width=500, height=500, title=\"% of users that initiate KYC\")"
   ],
   "outputs": [
    {
     "output_type": "execute_result",
     "data": {
      "text/plain": [
       "alt.Chart(...)"
      ],
      "text/html": [
       "\n",
       "<div id=\"altair-viz-848cd0c579ee4b9289846facea3e97fb\"></div>\n",
       "<script type=\"text/javascript\">\n",
       "  (function(spec, embedOpt){\n",
       "    const outputDiv = document.getElementById(\"altair-viz-848cd0c579ee4b9289846facea3e97fb\");\n",
       "    const paths = {\n",
       "      \"vega\": \"https://cdn.jsdelivr.net/npm//vega@5?noext\",\n",
       "      \"vega-lib\": \"https://cdn.jsdelivr.net/npm//vega-lib?noext\",\n",
       "      \"vega-lite\": \"https://cdn.jsdelivr.net/npm//vega-lite@4.0.2?noext\",\n",
       "      \"vega-embed\": \"https://cdn.jsdelivr.net/npm//vega-embed@6?noext\",\n",
       "    };\n",
       "\n",
       "    function loadScript(lib) {\n",
       "      return new Promise(function(resolve, reject) {\n",
       "        var s = document.createElement('script');\n",
       "        s.src = paths[lib];\n",
       "        s.async = true;\n",
       "        s.onload = () => resolve(paths[lib]);\n",
       "        s.onerror = () => reject(`Error loading script: ${paths[lib]}`);\n",
       "        document.getElementsByTagName(\"head\")[0].appendChild(s);\n",
       "      });\n",
       "    }\n",
       "\n",
       "    function showError(err) {\n",
       "      outputDiv.innerHTML = `<div class=\"error\" style=\"color:red;\">${err}</div>`;\n",
       "      throw err;\n",
       "    }\n",
       "\n",
       "    function displayChart(vegaEmbed) {\n",
       "      vegaEmbed(outputDiv, spec, embedOpt)\n",
       "        .catch(err => showError(`Javascript Error: ${err.message}<br>This usually means there's a typo in your chart specification. See the javascript console for the full traceback.`));\n",
       "    }\n",
       "\n",
       "    if(typeof define === \"function\" && define.amd) {\n",
       "      requirejs.config({paths});\n",
       "      require([\"vega-embed\"], displayChart, err => showError(`Error loading script: ${err.message}`));\n",
       "    } else if (typeof vegaEmbed === \"function\") {\n",
       "      displayChart(vegaEmbed);\n",
       "    } else {\n",
       "      loadScript(\"vega\")\n",
       "        .then(() => loadScript(\"vega-lite\"))\n",
       "        .then(() => loadScript(\"vega-embed\"))\n",
       "        .catch(showError)\n",
       "        .then(() => displayChart(vegaEmbed));\n",
       "    }\n",
       "  })({\"config\": {\"view\": {\"continuousWidth\": 400, \"continuousHeight\": 300}}, \"data\": {\"name\": \"data-d4eeabf30191a04d2ad6f33ad872a918\"}, \"mark\": \"bar\", \"encoding\": {\"column\": {\"type\": \"nominal\", \"field\": \"platform\"}, \"x\": {\"type\": \"nominal\", \"axis\": {\"title\": \"Group\"}, \"field\": \"treatment\"}, \"y\": {\"type\": \"quantitative\", \"axis\": {\"format\": \"%\", \"title\": \"% of users that initiate KYC\"}, \"field\": \"kyci\"}}, \"height\": 500, \"title\": \"% of users that initiate KYC\", \"width\": 500, \"$schema\": \"https://vega.github.io/schema/vega-lite/v4.0.2.json\", \"datasets\": {\"data-d4eeabf30191a04d2ad6f33ad872a918\": [{\"treatment\": \"Control\", \"platform\": \"Android\", \"kyci\": 0.9427489418578748}, {\"treatment\": \"Control\", \"platform\": \"iOS\", \"kyci\": 0.8993580060422961}, {\"treatment\": \"Treatment\", \"platform\": \"Android\", \"kyci\": 0.9481902058197303}, {\"treatment\": \"Treatment\", \"platform\": \"iOS\", \"kyci\": 0.9158950617283951}]}}, {\"mode\": \"vega-lite\"});\n",
       "</script>"
      ]
     },
     "metadata": {},
     "execution_count": 55
    }
   ],
   "metadata": {}
  },
  {
   "cell_type": "code",
   "execution_count": 56,
   "source": [
    "df = pd.read_csv(\"kyc_removing_video_link.csv\")\n",
    "\n",
    "# make sure we are unique on the user level.\n",
    "df = (\n",
    "    df.groupby([\"treatment\", \"age_group\", \"user_id\"])[\"kyc_first_initiated\"]\n",
    "    .agg(\"min\")\n",
    "    .reset_index()\n",
    ")\n",
    "\n",
    "# now, count how many users managed to initiate kyc.\n",
    "df[\"kyci\"] = 0\n",
    "df.loc[df[\"kyc_first_initiated\"].isna() == False, \"kyci\"] = 1\n",
    "\n",
    "df = df.groupby([\"treatment\", \"age_group\"])[\"kyci\"].agg(\"mean\").reset_index()\n",
    "\n",
    "alt.Chart(df).mark_bar().encode(\n",
    "    x=alt.X(\"treatment:N\", axis=alt.Axis(title=\"Group\")),\n",
    "    y=alt.Y(\"kyci:Q\", axis=alt.Axis(title=\"% of users that initiate KYC\", format=\"%\")),\n",
    "    column=\"age_group\",\n",
    ").properties(width=500, height=500, title=\"% of users that initiate KYC\")"
   ],
   "outputs": [
    {
     "output_type": "execute_result",
     "data": {
      "text/plain": [
       "alt.Chart(...)"
      ],
      "text/html": [
       "\n",
       "<div id=\"altair-viz-e26caab99d634faa9687b841a26c8405\"></div>\n",
       "<script type=\"text/javascript\">\n",
       "  (function(spec, embedOpt){\n",
       "    const outputDiv = document.getElementById(\"altair-viz-e26caab99d634faa9687b841a26c8405\");\n",
       "    const paths = {\n",
       "      \"vega\": \"https://cdn.jsdelivr.net/npm//vega@5?noext\",\n",
       "      \"vega-lib\": \"https://cdn.jsdelivr.net/npm//vega-lib?noext\",\n",
       "      \"vega-lite\": \"https://cdn.jsdelivr.net/npm//vega-lite@4.0.2?noext\",\n",
       "      \"vega-embed\": \"https://cdn.jsdelivr.net/npm//vega-embed@6?noext\",\n",
       "    };\n",
       "\n",
       "    function loadScript(lib) {\n",
       "      return new Promise(function(resolve, reject) {\n",
       "        var s = document.createElement('script');\n",
       "        s.src = paths[lib];\n",
       "        s.async = true;\n",
       "        s.onload = () => resolve(paths[lib]);\n",
       "        s.onerror = () => reject(`Error loading script: ${paths[lib]}`);\n",
       "        document.getElementsByTagName(\"head\")[0].appendChild(s);\n",
       "      });\n",
       "    }\n",
       "\n",
       "    function showError(err) {\n",
       "      outputDiv.innerHTML = `<div class=\"error\" style=\"color:red;\">${err}</div>`;\n",
       "      throw err;\n",
       "    }\n",
       "\n",
       "    function displayChart(vegaEmbed) {\n",
       "      vegaEmbed(outputDiv, spec, embedOpt)\n",
       "        .catch(err => showError(`Javascript Error: ${err.message}<br>This usually means there's a typo in your chart specification. See the javascript console for the full traceback.`));\n",
       "    }\n",
       "\n",
       "    if(typeof define === \"function\" && define.amd) {\n",
       "      requirejs.config({paths});\n",
       "      require([\"vega-embed\"], displayChart, err => showError(`Error loading script: ${err.message}`));\n",
       "    } else if (typeof vegaEmbed === \"function\") {\n",
       "      displayChart(vegaEmbed);\n",
       "    } else {\n",
       "      loadScript(\"vega\")\n",
       "        .then(() => loadScript(\"vega-lite\"))\n",
       "        .then(() => loadScript(\"vega-embed\"))\n",
       "        .catch(showError)\n",
       "        .then(() => displayChart(vegaEmbed));\n",
       "    }\n",
       "  })({\"config\": {\"view\": {\"continuousWidth\": 400, \"continuousHeight\": 300}}, \"data\": {\"name\": \"data-47fa1a66cd3d5457e9a752148b119184\"}, \"mark\": \"bar\", \"encoding\": {\"column\": {\"type\": \"nominal\", \"field\": \"age_group\"}, \"x\": {\"type\": \"nominal\", \"axis\": {\"title\": \"Group\"}, \"field\": \"treatment\"}, \"y\": {\"type\": \"quantitative\", \"axis\": {\"format\": \"%\", \"title\": \"% of users that initiate KYC\"}, \"field\": \"kyci\"}}, \"height\": 500, \"title\": \"% of users that initiate KYC\", \"width\": 500, \"$schema\": \"https://vega.github.io/schema/vega-lite/v4.0.2.json\", \"datasets\": {\"data-47fa1a66cd3d5457e9a752148b119184\": [{\"treatment\": \"Control\", \"age_group\": \"18-19\", \"kyci\": 0.8688}, {\"treatment\": \"Control\", \"age_group\": \"20-24\", \"kyci\": 0.9134020618556701}, {\"treatment\": \"Control\", \"age_group\": \"25-29\", \"kyci\": 0.9283387622149837}, {\"treatment\": \"Control\", \"age_group\": \"30-34\", \"kyci\": 0.9216533004318322}, {\"treatment\": \"Control\", \"age_group\": \"35-39\", \"kyci\": 0.9272211720226843}, {\"treatment\": \"Control\", \"age_group\": \"40-44\", \"kyci\": 0.9225449515905948}, {\"treatment\": \"Control\", \"age_group\": \"45-49\", \"kyci\": 0.908289241622575}, {\"treatment\": \"Control\", \"age_group\": \"50-54\", \"kyci\": 0.9247572815533981}, {\"treatment\": \"Control\", \"age_group\": \"55-59\", \"kyci\": 0.9497907949790795}, {\"treatment\": \"Control\", \"age_group\": \"60-64\", \"kyci\": 0.9262295081967213}, {\"treatment\": \"Control\", \"age_group\": \">= 65\", \"kyci\": 0.9512195121951219}, {\"treatment\": \"Treatment\", \"age_group\": \"18-19\", \"kyci\": 0.9018987341772152}, {\"treatment\": \"Treatment\", \"age_group\": \"20-24\", \"kyci\": 0.9174986862848135}, {\"treatment\": \"Treatment\", \"age_group\": \"25-29\", \"kyci\": 0.9368318756073858}, {\"treatment\": \"Treatment\", \"age_group\": \"30-34\", \"kyci\": 0.949475065616798}, {\"treatment\": \"Treatment\", \"age_group\": \"35-39\", \"kyci\": 0.9283611383709519}, {\"treatment\": \"Treatment\", \"age_group\": \"40-44\", \"kyci\": 0.9365781710914455}, {\"treatment\": \"Treatment\", \"age_group\": \"45-49\", \"kyci\": 0.9334532374100719}, {\"treatment\": \"Treatment\", \"age_group\": \"50-54\", \"kyci\": 0.9196675900277008}, {\"treatment\": \"Treatment\", \"age_group\": \"55-59\", \"kyci\": 0.9295774647887324}, {\"treatment\": \"Treatment\", \"age_group\": \"60-64\", \"kyci\": 0.9629629629629629}, {\"treatment\": \"Treatment\", \"age_group\": \">= 65\", \"kyci\": 0.944}]}}, {\"mode\": \"vega-lite\"});\n",
       "</script>"
      ]
     },
     "metadata": {},
     "execution_count": 56
    }
   ],
   "metadata": {}
  },
  {
   "cell_type": "code",
   "execution_count": 58,
   "source": [
    "df = pd.read_csv(\"kyc_removing_video_link.csv\")\n",
    "\n",
    "# make sure we are unique on the user level.\n",
    "df = (\n",
    "    df.groupby([\"treatment\", \"gender\", \"user_id\"])[\"kyc_first_initiated\"]\n",
    "    .agg(\"min\")\n",
    "    .reset_index()\n",
    ")\n",
    "\n",
    "# now, count how many users managed to initiate kyc.\n",
    "df[\"kyci\"] = 0\n",
    "df.loc[df[\"kyc_first_initiated\"].isna() == False, \"kyci\"] = 1\n",
    "\n",
    "df = df.groupby([\"treatment\", \"gender\"])[\"kyci\"].agg(\"mean\").reset_index()\n",
    "\n",
    "alt.Chart(df).mark_bar().encode(\n",
    "    x=alt.X(\"treatment:N\", axis=alt.Axis(title=\"Group\")),\n",
    "    y=alt.Y(\"kyci:Q\", axis=alt.Axis(title=\"% of users that initiate KYC\", format=\"%\")),\n",
    "    column=\"gender\",\n",
    ").properties(width=500, height=500, title=\"% of users that initiate KYC\")"
   ],
   "outputs": [
    {
     "output_type": "execute_result",
     "data": {
      "text/plain": [
       "alt.Chart(...)"
      ],
      "text/html": [
       "\n",
       "<div id=\"altair-viz-30e266eebb4e4ca2aafd70e86327c2c3\"></div>\n",
       "<script type=\"text/javascript\">\n",
       "  (function(spec, embedOpt){\n",
       "    const outputDiv = document.getElementById(\"altair-viz-30e266eebb4e4ca2aafd70e86327c2c3\");\n",
       "    const paths = {\n",
       "      \"vega\": \"https://cdn.jsdelivr.net/npm//vega@5?noext\",\n",
       "      \"vega-lib\": \"https://cdn.jsdelivr.net/npm//vega-lib?noext\",\n",
       "      \"vega-lite\": \"https://cdn.jsdelivr.net/npm//vega-lite@4.0.2?noext\",\n",
       "      \"vega-embed\": \"https://cdn.jsdelivr.net/npm//vega-embed@6?noext\",\n",
       "    };\n",
       "\n",
       "    function loadScript(lib) {\n",
       "      return new Promise(function(resolve, reject) {\n",
       "        var s = document.createElement('script');\n",
       "        s.src = paths[lib];\n",
       "        s.async = true;\n",
       "        s.onload = () => resolve(paths[lib]);\n",
       "        s.onerror = () => reject(`Error loading script: ${paths[lib]}`);\n",
       "        document.getElementsByTagName(\"head\")[0].appendChild(s);\n",
       "      });\n",
       "    }\n",
       "\n",
       "    function showError(err) {\n",
       "      outputDiv.innerHTML = `<div class=\"error\" style=\"color:red;\">${err}</div>`;\n",
       "      throw err;\n",
       "    }\n",
       "\n",
       "    function displayChart(vegaEmbed) {\n",
       "      vegaEmbed(outputDiv, spec, embedOpt)\n",
       "        .catch(err => showError(`Javascript Error: ${err.message}<br>This usually means there's a typo in your chart specification. See the javascript console for the full traceback.`));\n",
       "    }\n",
       "\n",
       "    if(typeof define === \"function\" && define.amd) {\n",
       "      requirejs.config({paths});\n",
       "      require([\"vega-embed\"], displayChart, err => showError(`Error loading script: ${err.message}`));\n",
       "    } else if (typeof vegaEmbed === \"function\") {\n",
       "      displayChart(vegaEmbed);\n",
       "    } else {\n",
       "      loadScript(\"vega\")\n",
       "        .then(() => loadScript(\"vega-lite\"))\n",
       "        .then(() => loadScript(\"vega-embed\"))\n",
       "        .catch(showError)\n",
       "        .then(() => displayChart(vegaEmbed));\n",
       "    }\n",
       "  })({\"config\": {\"view\": {\"continuousWidth\": 400, \"continuousHeight\": 300}}, \"data\": {\"name\": \"data-cc98def00ce68a13d1a116fd7b3e0169\"}, \"mark\": \"bar\", \"encoding\": {\"column\": {\"type\": \"nominal\", \"field\": \"gender\"}, \"x\": {\"type\": \"nominal\", \"axis\": {\"title\": \"Group\"}, \"field\": \"treatment\"}, \"y\": {\"type\": \"quantitative\", \"axis\": {\"format\": \"%\", \"title\": \"% of users that initiate KYC\"}, \"field\": \"kyci\"}}, \"height\": 500, \"title\": \"% of users that initiate KYC\", \"width\": 500, \"$schema\": \"https://vega.github.io/schema/vega-lite/v4.0.2.json\", \"datasets\": {\"data-cc98def00ce68a13d1a116fd7b3e0169\": [{\"treatment\": \"Control\", \"gender\": \"FEMALE\", \"kyci\": 0.9088}, {\"treatment\": \"Control\", \"gender\": \"MALE\", \"kyci\": 0.9241741741741741}, {\"treatment\": \"Treatment\", \"gender\": \"FEMALE\", \"kyci\": 0.9251215559157212}, {\"treatment\": \"Treatment\", \"gender\": \"MALE\", \"kyci\": 0.9329750237116662}]}}, {\"mode\": \"vega-lite\"});\n",
       "</script>"
      ]
     },
     "metadata": {},
     "execution_count": 58
    }
   ],
   "metadata": {}
  }
 ],
 "metadata": {
  "kernelspec": {
   "display_name": "Python 3",
   "language": "python",
   "name": "python3"
  },
  "language_info": {
   "codemirror_mode": {
    "name": "ipython",
    "version": 3
   },
   "file_extension": ".py",
   "mimetype": "text/x-python",
   "name": "python",
   "nbconvert_exporter": "python",
   "pygments_lexer": "ipython3",
   "version": "3.7.3"
  }
 },
 "nbformat": 4,
 "nbformat_minor": 2
}