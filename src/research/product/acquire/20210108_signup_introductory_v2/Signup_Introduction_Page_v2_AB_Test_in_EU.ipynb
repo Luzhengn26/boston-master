{
 "cells": [
  {
   "cell_type": "markdown",
   "metadata": {},
   "source": [
    "title: Signup Introductory Page v2 – A/B Test in EU\n",
    "author: Claudia Dai\n",
    "date: 2021-01-08\n",
    "region: EU\n",
    "tags: acquire, ab test, signup, introductory page, conversion, cs contact\n",
    "summary: A new introductory page design intends to provide users with more information on the account opening process experience. The goal of the new page design is to increase conversion and reduce CS contacts. The A/B test was launched mid October 2020. The flows in EU and US have different designs, thus, are set up separately from another. We will not analyze the US in this report. We analyze the time period from 20th October until 20th December 2020 for the EU experiment. We observe a 0.10pp increase with > 80% confidence for % SUI to KYCC within 7d. 0.45% (988 out of 217,936) exposed users in the treatment group clicked on the iframe. The lift translates into additional 375 users for monthly conversion, i.e. added monthly net contribution of 378.75 EUR. The page redesign contribution is minor, but also seems to have no negative impact on sign-up. For the hypothesis “the iframe provides useful information to improve signup conversion” it is recommended to set up a separate test.\n",
    "\n",
    "\n",
    "# Signup Introductory Page v2 – A/B Test in EU\n",
    "\n",
    "A new introductory page design intends to provide users with more information on the account opening process experience. The goal of the new page design is to increase conversion and reduce CS contacts.\n",
    "\n",
    "The A/B test was launched mid October 2020. The flows in EU and US have different designs, thus, are set up separately from another. We will not analyze the US in this report. We analyze the time period from 20th October until 20th December 2020 for the EU experiment.\n",
    "\n",
    "We observe a 0.10pp increase with > 80% confidence for % SUI to KYCC within 7d. 0.45% (988 out of 217,936) exposed users in the treatment group clicked on the iframe.\n",
    "\n",
    "The lift translates into additional 375 users for monthly conversion, i.e. added monthly net contribution of 378.75 EUR. The page redesign contribution is minor, but also seems to have no negative impact on sign-up. For the hypothesis “the iframe provides useful information to improve signup conversion” it is recommended to set up a separate test.\n",
    "\n",
    "**Slides can be found [here](https://docs.google.com/presentation/d/1MH6-_gdiAf8XVA-sGyYjHSdfxBp0eLGzOdYxWFAr3vw/edit#slide=id.gb0a5380750_0_409).**\n",
    "\n",
    "This notebook queries and visualizes the data for the analysis."
   ]
  },
  {
   "cell_type": "code",
   "execution_count": 1,
   "metadata": {},
   "outputs": [],
   "source": [
    "%%capture\n",
    "!pip install seaborn"
   ]
  },
  {
   "cell_type": "code",
   "execution_count": 2,
   "metadata": {},
   "outputs": [],
   "source": [
    "import time\n",
    "import warnings\n",
    "\n",
    "warnings.filterwarnings(\"ignore\")\n",
    "from datetime import datetime\n",
    "from os import path\n",
    "from utils.datalib_database import df_from_sql"
   ]
  },
  {
   "cell_type": "code",
   "execution_count": 3,
   "metadata": {},
   "outputs": [],
   "source": [
    "import pandas as pd\n",
    "\n",
    "import matplotlib.pyplot as plt\n",
    "\n",
    "plt.rcParams[\"figure.figsize\"] = (12, 10)\n",
    "import seaborn as sns\n",
    "\n",
    "sns.set()"
   ]
  },
  {
   "cell_type": "code",
   "execution_count": 4,
   "metadata": {},
   "outputs": [],
   "source": [
    "####################################################################\n",
    "# Functions to get data from DWH\n",
    "\n",
    "\n",
    "def timer(elapsed_time):\n",
    "    return time.strftime(\"%H:%M:%S\", time.gmtime(elapsed_time))\n",
    "\n",
    "\n",
    "def generate_filename(folder, ticket_number, description, date_start, date_end):\n",
    "    return \"{}{}-extract-{}-{}-{}.csv\".format(\n",
    "        folder, ticket_number, description, date_start, date_end\n",
    "    )\n",
    "\n",
    "\n",
    "def query_data(query):\n",
    "    return df_from_sql(\"redshiftreader\", query)\n",
    "\n",
    "\n",
    "def save_data(data, filename):\n",
    "    data.to_csv(filename, index=False)\n",
    "\n",
    "\n",
    "def get_data(query, filename):\n",
    "    ts = time.time()\n",
    "    data = query_data(query)\n",
    "    te = time.time() - ts\n",
    "    print(\"Finished querying data. Time elapsed: {}.\".format(timer(te)))\n",
    "\n",
    "    ts = time.time()\n",
    "    save_data(data, filename)\n",
    "    te = time.time() - ts\n",
    "    print(\"Finished saving data. Time elapsed: {}.\\n\".format(timer(te)))\n",
    "\n",
    "\n",
    "def check_file_exist(filename):\n",
    "    return path.exists(filename)"
   ]
  },
  {
   "cell_type": "code",
   "execution_count": 5,
   "metadata": {},
   "outputs": [],
   "source": [
    "date_start = \"2020-10-20\"\n",
    "date_end = \"2020-12-20\""
   ]
  },
  {
   "cell_type": "markdown",
   "metadata": {},
   "source": [
    "---\n",
    "\n",
    "# What's our sample size?"
   ]
  },
  {
   "cell_type": "code",
   "execution_count": 6,
   "metadata": {},
   "outputs": [],
   "source": [
    "query = \"\"\"\n",
    "SELECT\n",
    "    dbt.stg_upper_funnel.se_property,\n",
    "    COUNT(DISTINCT COALESCE(dbt.stg_upper_funnel.shadow_user_id::text, dbt.stg_upper_funnel.domain_userid::text))::float AS user\n",
    "FROM dbt.stg_upper_funnel \n",
    "LEFT JOIN dbt.zrh_lower_funnel \n",
    "    ON dbt.zrh_lower_funnel.user_created = dbt.stg_upper_funnel.user_created \n",
    "    AND datediff('days', dbt.zrh_lower_funnel.user_created::date, dbt.zrh_lower_funnel.created::date) <= 7\n",
    "WHERE 1=1\n",
    "    AND dbt.stg_upper_funnel.se_property IN ('introductory_page_v2_eu', 'introductory_page_v2_eu_control')\n",
    "    AND dbt.stg_upper_funnel.created >= '{}'\n",
    "    AND dbt.stg_upper_funnel.created <= '{}'\n",
    "    AND coalesce(dbt.stg_upper_funnel.user_created, current_date) >= dbt.stg_upper_funnel.created \n",
    "    AND dbt.stg_upper_funnel.country != 'USA' \n",
    "    AND datediff('days', dbt.stg_upper_funnel.created::date, current_date) >= 7\n",
    "GROUP BY 1\n",
    "ORDER BY 1\n",
    "\"\"\".format(\n",
    "    date_start, date_end, date_start, date_end\n",
    ")"
   ]
  },
  {
   "cell_type": "code",
   "execution_count": 7,
   "metadata": {},
   "outputs": [
    {
     "name": "stdout",
     "output_type": "stream",
     "text": [
      "{\"message\": \"started\", \"db\": \"redshiftreader\", \"name\": \"datalib-logger\", \"args\": [], \"levelname\": \"INFO\", \"pathname\": \"/usr/local/lib/python3.7/site-packages/datalib/database.py\", \"filename\": \"database.py\", \"module\": \"database\", \"lineno\": 114, \"funcName\": \"df_from_sql\", \"created\": \"20210107T125854\", \"processName\": \"MainProcess\", \"service\": \"fargo\", \"environment\": \"local\", \"loggerId\": \"5ca6d301-84e5-41e0-ac48-81de3899471f\", \"hostname\": \"172.18.0.4\"}\n",
      "{\"message\": \"success\", \"db\": \"redshiftreader\", \"duration\": 19.2249, \"name\": \"datalib-logger\", \"args\": [], \"levelname\": \"INFO\", \"pathname\": \"/usr/local/lib/python3.7/site-packages/datalib/database.py\", \"filename\": \"database.py\", \"module\": \"database\", \"lineno\": 124, \"funcName\": \"df_from_sql\", \"created\": \"20210107T125914\", \"processName\": \"MainProcess\", \"service\": \"fargo\", \"environment\": \"local\", \"loggerId\": \"5ca6d301-84e5-41e0-ac48-81de3899471f\", \"hostname\": \"172.18.0.4\"}\n",
      "Finished querying data. Time elapsed: 00:00:37.\n",
      "Finished saving data. Time elapsed: 00:00:00.\n",
      "\n"
     ]
    }
   ],
   "source": [
    "filename = generate_filename(\"data/\", \"DATA-9307\", \"samplesize\", date_start, date_end)\n",
    "# get_data(query, filename)"
   ]
  },
  {
   "cell_type": "code",
   "execution_count": 8,
   "metadata": {},
   "outputs": [
    {
     "data": {
      "text/plain": [
       "(2, 2)"
      ]
     },
     "execution_count": 8,
     "metadata": {},
     "output_type": "execute_result"
    }
   ],
   "source": [
    "samplesize = pd.read_csv(filename)\n",
    "samplesize.shape"
   ]
  },
  {
   "cell_type": "code",
   "execution_count": 9,
   "metadata": {},
   "outputs": [
    {
     "data": {
      "text/html": [
       "<div>\n",
       "<style scoped>\n",
       "    .dataframe tbody tr th:only-of-type {\n",
       "        vertical-align: middle;\n",
       "    }\n",
       "\n",
       "    .dataframe tbody tr th {\n",
       "        vertical-align: top;\n",
       "    }\n",
       "\n",
       "    .dataframe thead th {\n",
       "        text-align: right;\n",
       "    }\n",
       "</style>\n",
       "<table border=\"1\" class=\"dataframe\">\n",
       "  <thead>\n",
       "    <tr style=\"text-align: right;\">\n",
       "      <th></th>\n",
       "      <th>se_property</th>\n",
       "      <th>user</th>\n",
       "    </tr>\n",
       "  </thead>\n",
       "  <tbody>\n",
       "    <tr>\n",
       "      <th>0</th>\n",
       "      <td>introductory_page_v2_eu</td>\n",
       "      <td>217936.0</td>\n",
       "    </tr>\n",
       "    <tr>\n",
       "      <th>1</th>\n",
       "      <td>introductory_page_v2_eu_control</td>\n",
       "      <td>217529.0</td>\n",
       "    </tr>\n",
       "  </tbody>\n",
       "</table>\n",
       "</div>"
      ],
      "text/plain": [
       "                       se_property      user\n",
       "0          introductory_page_v2_eu  217936.0\n",
       "1  introductory_page_v2_eu_control  217529.0"
      ]
     },
     "execution_count": 9,
     "metadata": {},
     "output_type": "execute_result"
    }
   ],
   "source": [
    "samplesize.head()"
   ]
  },
  {
   "cell_type": "code",
   "execution_count": 10,
   "metadata": {},
   "outputs": [
    {
     "data": {
      "image/png": "[encoded data removed]",
      "text/plain": [
       "<Figure size 864x720 with 1 Axes>"
      ]
     },
     "metadata": {},
     "output_type": "display_data"
    }
   ],
   "source": [
    "ax = sns.barplot(x=\"se_property\", y=\"user\", data=samplesize)\n",
    "for p in ax.patches:\n",
    "    ax.annotate(\n",
    "        format(p.get_height(), \".1f\"),\n",
    "        (p.get_x() + p.get_width() / 2.0, p.get_height()),\n",
    "        ha=\"center\",\n",
    "        va=\"center\",\n",
    "        xytext=(0, 9),\n",
    "        textcoords=\"offset points\",\n",
    "    )"
   ]
  },
  {
   "cell_type": "markdown",
   "metadata": {},
   "source": [
    "---\n",
    "\n",
    "# How many users clicked on the iframe?"
   ]
  },
  {
   "cell_type": "code",
   "execution_count": 11,
   "metadata": {},
   "outputs": [],
   "source": [
    "query = \"\"\"\n",
    "DROP TABLE IF EXISTS clicks;\n",
    "\n",
    "CREATE TEMP TABLE clicks AS\n",
    "SELECT\n",
    "    *\n",
    "FROM dbt.snowplow\n",
    "WHERE 1=1\n",
    "    AND se_property = 'introductory_page_v2_eu'\n",
    "    AND collector_tstamp >= '{}'\n",
    "    AND collector_tstamp <= '{}';\n",
    "    \n",
    "SELECT\n",
    "    CASE WHEN n_clicks > 0 THEN 'clicked' ELSE 'not_clicked' END AS flag,\n",
    "    COUNT(user)\n",
    "FROM (\n",
    "    SELECT\n",
    "        coalesce(dbt.stg_upper_funnel.shadow_user_id::text, dbt.stg_upper_funnel.domain_userid::text) AS user,\n",
    "        COUNT(DISTINCT CASE WHEN clicks.se_action = 'registration.introduction_info_dialog_open' THEN clicks.event_id END) AS n_clicks\n",
    "    FROM dbt.stg_upper_funnel \n",
    "    LEFT JOIN dbt.zrh_lower_funnel \n",
    "        ON dbt.zrh_lower_funnel.user_created = dbt.stg_upper_funnel.user_created \n",
    "        AND datediff('days', dbt.zrh_lower_funnel.user_created::date, dbt.zrh_lower_funnel.created::date) <= 7\n",
    "    LEFT JOIN clicks\n",
    "        ON dbt.stg_upper_funnel.user_created = clicks.user_created\n",
    "        AND dbt.stg_upper_funnel.shadow_user_id = clicks.shadow_user_id\n",
    "        AND dbt.stg_upper_funnel.domain_userid = clicks.domain_userid\n",
    "    WHERE 1=1\n",
    "        AND dbt.stg_upper_funnel.se_property = 'introductory_page_v2_eu'\n",
    "        AND dbt.stg_upper_funnel.created >= '{}'\n",
    "        AND dbt.stg_upper_funnel.created <= '{}'\n",
    "        AND coalesce(dbt.stg_upper_funnel.user_created, current_date) >= dbt.stg_upper_funnel.created \n",
    "        AND dbt.stg_upper_funnel.country != 'USA' \n",
    "        AND datediff('days', dbt.stg_upper_funnel.created::date, current_date) >= 7\n",
    "    GROUP BY 1\n",
    ")\n",
    "GROUP BY 1\n",
    "ORDER BY 1\n",
    "\"\"\".format(\n",
    "    date_start, date_end, date_start, date_end\n",
    ")"
   ]
  },
  {
   "cell_type": "code",
   "execution_count": 12,
   "metadata": {},
   "outputs": [
    {
     "name": "stdout",
     "output_type": "stream",
     "text": [
      "{\"message\": \"started\", \"db\": \"redshiftreader\", \"name\": \"datalib-logger\", \"args\": [], \"levelname\": \"INFO\", \"pathname\": \"/usr/local/lib/python3.7/site-packages/datalib/database.py\", \"filename\": \"database.py\", \"module\": \"database\", \"lineno\": 114, \"funcName\": \"df_from_sql\", \"created\": \"20210107T125919\", \"processName\": \"MainProcess\", \"service\": \"fargo\", \"environment\": \"local\", \"loggerId\": \"5ca6d301-84e5-41e0-ac48-81de3899471f\", \"hostname\": \"172.18.0.4\"}\n",
      "{\"message\": \"success\", \"db\": \"redshiftreader\", \"duration\": 135.6101, \"name\": \"datalib-logger\", \"args\": [], \"levelname\": \"INFO\", \"pathname\": \"/usr/local/lib/python3.7/site-packages/datalib/database.py\", \"filename\": \"database.py\", \"module\": \"database\", \"lineno\": 124, \"funcName\": \"df_from_sql\", \"created\": \"20210107T130135\", \"processName\": \"MainProcess\", \"service\": \"fargo\", \"environment\": \"local\", \"loggerId\": \"5ca6d301-84e5-41e0-ac48-81de3899471f\", \"hostname\": \"172.18.0.4\"}\n",
      "Finished querying data. Time elapsed: 00:02:28.\n",
      "Finished saving data. Time elapsed: 00:00:00.\n",
      "\n"
     ]
    }
   ],
   "source": [
    "filename = generate_filename(\"data/\", \"DATA-9307\", \"nclicks\", date_start, date_end)\n",
    "# get_data(query, filename)"
   ]
  },
  {
   "cell_type": "code",
   "execution_count": 13,
   "metadata": {},
   "outputs": [
    {
     "data": {
      "text/plain": [
       "(2, 2)"
      ]
     },
     "execution_count": 13,
     "metadata": {},
     "output_type": "execute_result"
    }
   ],
   "source": [
    "nclicks = pd.read_csv(filename)\n",
    "nclicks.shape"
   ]
  },
  {
   "cell_type": "code",
   "execution_count": 14,
   "metadata": {
    "scrolled": true
   },
   "outputs": [
    {
     "data": {
      "text/html": [
       "<div>\n",
       "<style scoped>\n",
       "    .dataframe tbody tr th:only-of-type {\n",
       "        vertical-align: middle;\n",
       "    }\n",
       "\n",
       "    .dataframe tbody tr th {\n",
       "        vertical-align: top;\n",
       "    }\n",
       "\n",
       "    .dataframe thead th {\n",
       "        text-align: right;\n",
       "    }\n",
       "</style>\n",
       "<table border=\"1\" class=\"dataframe\">\n",
       "  <thead>\n",
       "    <tr style=\"text-align: right;\">\n",
       "      <th></th>\n",
       "      <th>flag</th>\n",
       "      <th>count</th>\n",
       "    </tr>\n",
       "  </thead>\n",
       "  <tbody>\n",
       "    <tr>\n",
       "      <th>0</th>\n",
       "      <td>clicked</td>\n",
       "      <td>988</td>\n",
       "    </tr>\n",
       "    <tr>\n",
       "      <th>1</th>\n",
       "      <td>not_clicked</td>\n",
       "      <td>216949</td>\n",
       "    </tr>\n",
       "  </tbody>\n",
       "</table>\n",
       "</div>"
      ],
      "text/plain": [
       "          flag   count\n",
       "0      clicked     988\n",
       "1  not_clicked  216949"
      ]
     },
     "execution_count": 14,
     "metadata": {},
     "output_type": "execute_result"
    }
   ],
   "source": [
    "nclicks.head()"
   ]
  },
  {
   "cell_type": "code",
   "execution_count": 15,
   "metadata": {},
   "outputs": [
    {
     "data": {
      "image/png": "[encoded data removed]",
      "text/plain": [
       "<Figure size 864x720 with 1 Axes>"
      ]
     },
     "metadata": {},
     "output_type": "display_data"
    }
   ],
   "source": [
    "ax = sns.barplot(x=\"flag\", y=\"count\", data=nclicks)\n",
    "for p in ax.patches:\n",
    "    ax.annotate(\n",
    "        format(p.get_height(), \".1f\"),\n",
    "        (p.get_x() + p.get_width() / 2.0, p.get_height()),\n",
    "        ha=\"center\",\n",
    "        va=\"center\",\n",
    "        xytext=(0, 9),\n",
    "        textcoords=\"offset points\",\n",
    "    )"
   ]
  },
  {
   "cell_type": "markdown",
   "metadata": {},
   "source": [
    "---\n",
    "\n",
    "# What is the click distribution for users?"
   ]
  },
  {
   "cell_type": "code",
   "execution_count": 16,
   "metadata": {},
   "outputs": [],
   "source": [
    "query = \"\"\"\n",
    "DROP TABLE IF EXISTS clicks;\n",
    "\n",
    "CREATE TEMP TABLE clicks AS\n",
    "SELECT\n",
    "    *\n",
    "FROM dbt.snowplow\n",
    "WHERE 1=1\n",
    "    AND se_property = 'introductory_page_v2_eu'\n",
    "    AND collector_tstamp >= '{}'\n",
    "    AND collector_tstamp <= '{}';\n",
    "    \n",
    "SELECT\n",
    "    n_clicks,\n",
    "    COUNT(user)\n",
    "FROM (\n",
    "    SELECT\n",
    "        coalesce(dbt.stg_upper_funnel.shadow_user_id::text, dbt.stg_upper_funnel.domain_userid::text) AS user,\n",
    "        COUNT(DISTINCT CASE WHEN clicks.se_action = 'registration.introduction_info_dialog_open' THEN clicks.event_id END) AS n_clicks\n",
    "    FROM dbt.stg_upper_funnel \n",
    "    LEFT JOIN dbt.zrh_lower_funnel \n",
    "        ON dbt.zrh_lower_funnel.user_created = dbt.stg_upper_funnel.user_created \n",
    "        AND datediff('days', dbt.zrh_lower_funnel.user_created::date, dbt.zrh_lower_funnel.created::date) <= 7\n",
    "    LEFT JOIN clicks\n",
    "        ON dbt.stg_upper_funnel.user_created = clicks.user_created\n",
    "        AND dbt.stg_upper_funnel.shadow_user_id = clicks.shadow_user_id\n",
    "        AND dbt.stg_upper_funnel.domain_userid = clicks.domain_userid\n",
    "    WHERE 1=1\n",
    "        AND dbt.stg_upper_funnel.se_property = 'introductory_page_v2_eu'\n",
    "        AND dbt.stg_upper_funnel.created >= '{}'\n",
    "        AND dbt.stg_upper_funnel.created <= '{}'\n",
    "        AND coalesce(dbt.stg_upper_funnel.user_created, current_date) >= dbt.stg_upper_funnel.created \n",
    "        AND dbt.stg_upper_funnel.country != 'USA' \n",
    "        AND datediff('days', dbt.stg_upper_funnel.created::date, current_date) >= 7\n",
    "    GROUP BY 1\n",
    "    HAVING n_clicks > 0\n",
    ")\n",
    "GROUP BY 1\n",
    "ORDER BY 1\n",
    "\"\"\".format(\n",
    "    date_start, date_end, date_start, date_end\n",
    ")"
   ]
  },
  {
   "cell_type": "code",
   "execution_count": 17,
   "metadata": {},
   "outputs": [
    {
     "name": "stdout",
     "output_type": "stream",
     "text": [
      "{\"message\": \"started\", \"db\": \"redshiftreader\", \"name\": \"datalib-logger\", \"args\": [], \"levelname\": \"INFO\", \"pathname\": \"/usr/local/lib/python3.7/site-packages/datalib/database.py\", \"filename\": \"database.py\", \"module\": \"database\", \"lineno\": 114, \"funcName\": \"df_from_sql\", \"created\": \"20210107T130152\", \"processName\": \"MainProcess\", \"service\": \"fargo\", \"environment\": \"local\", \"loggerId\": \"5ca6d301-84e5-41e0-ac48-81de3899471f\", \"hostname\": \"172.18.0.4\"}\n",
      "{\"message\": \"success\", \"db\": \"redshiftreader\", \"duration\": 190.9414, \"name\": \"datalib-logger\", \"args\": [], \"levelname\": \"INFO\", \"pathname\": \"/usr/local/lib/python3.7/site-packages/datalib/database.py\", \"filename\": \"database.py\", \"module\": \"database\", \"lineno\": 124, \"funcName\": \"df_from_sql\", \"created\": \"20210107T130503\", \"processName\": \"MainProcess\", \"service\": \"fargo\", \"environment\": \"local\", \"loggerId\": \"5ca6d301-84e5-41e0-ac48-81de3899471f\", \"hostname\": \"172.18.0.4\"}\n",
      "Finished querying data. Time elapsed: 00:04:00.\n",
      "Finished saving data. Time elapsed: 00:00:00.\n",
      "\n"
     ]
    }
   ],
   "source": [
    "filename = generate_filename(\"data/\", \"DATA-9307\", \"dclicks\", date_start, date_end)\n",
    "# get_data(query, filename)"
   ]
  },
  {
   "cell_type": "code",
   "execution_count": 18,
   "metadata": {},
   "outputs": [
    {
     "data": {
      "text/plain": [
       "(7, 2)"
      ]
     },
     "execution_count": 18,
     "metadata": {},
     "output_type": "execute_result"
    }
   ],
   "source": [
    "dclicks = pd.read_csv(filename)\n",
    "dclicks.shape"
   ]
  },
  {
   "cell_type": "code",
   "execution_count": 19,
   "metadata": {
    "scrolled": true
   },
   "outputs": [
    {
     "data": {
      "text/html": [
       "<div>\n",
       "<style scoped>\n",
       "    .dataframe tbody tr th:only-of-type {\n",
       "        vertical-align: middle;\n",
       "    }\n",
       "\n",
       "    .dataframe tbody tr th {\n",
       "        vertical-align: top;\n",
       "    }\n",
       "\n",
       "    .dataframe thead th {\n",
       "        text-align: right;\n",
       "    }\n",
       "</style>\n",
       "<table border=\"1\" class=\"dataframe\">\n",
       "  <thead>\n",
       "    <tr style=\"text-align: right;\">\n",
       "      <th></th>\n",
       "      <th>n_clicks</th>\n",
       "      <th>count</th>\n",
       "    </tr>\n",
       "  </thead>\n",
       "  <tbody>\n",
       "    <tr>\n",
       "      <th>0</th>\n",
       "      <td>1</td>\n",
       "      <td>899</td>\n",
       "    </tr>\n",
       "    <tr>\n",
       "      <th>1</th>\n",
       "      <td>2</td>\n",
       "      <td>70</td>\n",
       "    </tr>\n",
       "    <tr>\n",
       "      <th>2</th>\n",
       "      <td>3</td>\n",
       "      <td>10</td>\n",
       "    </tr>\n",
       "    <tr>\n",
       "      <th>3</th>\n",
       "      <td>4</td>\n",
       "      <td>4</td>\n",
       "    </tr>\n",
       "    <tr>\n",
       "      <th>4</th>\n",
       "      <td>5</td>\n",
       "      <td>3</td>\n",
       "    </tr>\n",
       "    <tr>\n",
       "      <th>5</th>\n",
       "      <td>7</td>\n",
       "      <td>1</td>\n",
       "    </tr>\n",
       "    <tr>\n",
       "      <th>6</th>\n",
       "      <td>8</td>\n",
       "      <td>1</td>\n",
       "    </tr>\n",
       "  </tbody>\n",
       "</table>\n",
       "</div>"
      ],
      "text/plain": [
       "   n_clicks  count\n",
       "0         1    899\n",
       "1         2     70\n",
       "2         3     10\n",
       "3         4      4\n",
       "4         5      3\n",
       "5         7      1\n",
       "6         8      1"
      ]
     },
     "execution_count": 19,
     "metadata": {},
     "output_type": "execute_result"
    }
   ],
   "source": [
    "dclicks"
   ]
  },
  {
   "cell_type": "code",
   "execution_count": 20,
   "metadata": {},
   "outputs": [
    {
     "data": {
      "image/png": "[encoded data removed]",
      "text/plain": [
       "<Figure size 864x720 with 1 Axes>"
      ]
     },
     "metadata": {},
     "output_type": "display_data"
    }
   ],
   "source": [
    "ax = sns.barplot(x=\"n_clicks\", y=\"count\", data=dclicks)\n",
    "for p in ax.patches:\n",
    "    ax.annotate(\n",
    "        format(p.get_height(), \".1f\"),\n",
    "        (p.get_x() + p.get_width() / 2.0, p.get_height()),\n",
    "        ha=\"center\",\n",
    "        va=\"center\",\n",
    "        xytext=(0, 9),\n",
    "        textcoords=\"offset points\",\n",
    "    )"
   ]
  },
  {
   "cell_type": "code",
   "execution_count": 21,
   "metadata": {},
   "outputs": [
    {
     "data": {
      "text/html": [
       "<div>\n",
       "<style scoped>\n",
       "    .dataframe tbody tr th:only-of-type {\n",
       "        vertical-align: middle;\n",
       "    }\n",
       "\n",
       "    .dataframe tbody tr th {\n",
       "        vertical-align: top;\n",
       "    }\n",
       "\n",
       "    .dataframe thead th {\n",
       "        text-align: right;\n",
       "    }\n",
       "</style>\n",
       "<table border=\"1\" class=\"dataframe\">\n",
       "  <thead>\n",
       "    <tr style=\"text-align: right;\">\n",
       "      <th></th>\n",
       "      <th>n_clicks</th>\n",
       "      <th>count</th>\n",
       "    </tr>\n",
       "  </thead>\n",
       "  <tbody>\n",
       "    <tr>\n",
       "      <th>0</th>\n",
       "      <td>1</td>\n",
       "      <td>899</td>\n",
       "    </tr>\n",
       "    <tr>\n",
       "      <th>1</th>\n",
       "      <td>2</td>\n",
       "      <td>70</td>\n",
       "    </tr>\n",
       "    <tr>\n",
       "      <th>2</th>\n",
       "      <td>3</td>\n",
       "      <td>10</td>\n",
       "    </tr>\n",
       "    <tr>\n",
       "      <th>3</th>\n",
       "      <td>4</td>\n",
       "      <td>4</td>\n",
       "    </tr>\n",
       "    <tr>\n",
       "      <th>4</th>\n",
       "      <td>5</td>\n",
       "      <td>3</td>\n",
       "    </tr>\n",
       "    <tr>\n",
       "      <th>5</th>\n",
       "      <td>7</td>\n",
       "      <td>1</td>\n",
       "    </tr>\n",
       "    <tr>\n",
       "      <th>6</th>\n",
       "      <td>8</td>\n",
       "      <td>1</td>\n",
       "    </tr>\n",
       "  </tbody>\n",
       "</table>\n",
       "</div>"
      ],
      "text/plain": [
       "   n_clicks  count\n",
       "0         1    899\n",
       "1         2     70\n",
       "2         3     10\n",
       "3         4      4\n",
       "4         5      3\n",
       "5         7      1\n",
       "6         8      1"
      ]
     },
     "execution_count": 21,
     "metadata": {},
     "output_type": "execute_result"
    }
   ],
   "source": [
    "dclicks"
   ]
  },
  {
   "cell_type": "code",
   "execution_count": 22,
   "metadata": {},
   "outputs": [
    {
     "data": {
      "text/plain": [
       "988"
      ]
     },
     "execution_count": 22,
     "metadata": {},
     "output_type": "execute_result"
    }
   ],
   "source": [
    "dclicks[\"count\"].sum()"
   ]
  },
  {
   "cell_type": "markdown",
   "metadata": {},
   "source": [
    "---\n",
    "\n",
    "# What about CS contact points?"
   ]
  },
  {
   "cell_type": "markdown",
   "metadata": {},
   "source": [
    "[CS Tagging System](https://number26-jira.atlassian.net/wiki/spaces/CSKB/pages/1169227779/Tagging+System+2.0)"
   ]
  },
  {
   "cell_type": "code",
   "execution_count": 23,
   "metadata": {},
   "outputs": [],
   "source": [
    "query = \"\"\"  \n",
    "DROP TABLE IF EXISTS clicks;\n",
    "\n",
    "CREATE TEMP TABLE clicks AS\n",
    "SELECT\n",
    "    *\n",
    "FROM dbt.snowplow\n",
    "WHERE 1=1\n",
    "    AND se_property = 'introductory_page_v2_eu'\n",
    "    AND collector_tstamp >= '{}'\n",
    "    AND collector_tstamp <= '{}';\n",
    "    \n",
    "CREATE TEMP TABLE cs AS\n",
    "SELECT\n",
    "    dbt.sf_all_contacts.id,\n",
    "    dbt.sf_all_contacts.user_id,\n",
    "    dbt.zrh_users.user_created,\n",
    "    dbt.sf_all_contacts.initiated_date,\n",
    "    dbt.sf_all_contacts.case_tag,\n",
    "    dbt.sf_all_contacts.cs_tag\n",
    "FROM dbt.sf_all_contacts\n",
    "INNER JOIN dbt.zrh_users\n",
    "ON dbt.sf_all_contacts.user_id = dbt.zrh_users.user_id\n",
    "WHERE 1=1\n",
    "    AND dbt.sf_all_contacts.initiated_date >= '2020-10-20'\n",
    "    AND dbt.sf_all_contacts.initiated_date <= '2020-12-20'\n",
    "    AND dbt.sf_all_contacts.cs_tag IN (\n",
    "        'sign_up',\n",
    "        'kyc_issue',\n",
    "        'kyc_acceptance'\n",
    "    );\n",
    "    \n",
    "SELECT\n",
    "    CASE WHEN n_clicks > 0 THEN 'clicked' ELSE 'not_clicked' END AS flag,\n",
    "    COUNT(CASE WHEN n_cs > 0 THEN user END) AS cs_contacted,\n",
    "    COUNT(CASE WHEN n_cs = 0 THEN user END) AS no_cs\n",
    "FROM (\n",
    "    SELECT\n",
    "        coalesce(dbt.stg_upper_funnel.shadow_user_id::text, dbt.stg_upper_funnel.domain_userid::text) AS user,\n",
    "        COUNT(DISTINCT CASE WHEN clicks.se_action = 'registration.introduction_info_dialog_open' THEN clicks.event_id END) AS n_clicks,\n",
    "        COUNT(cs.id) AS n_cs\n",
    "    FROM dbt.stg_upper_funnel \n",
    "    LEFT JOIN dbt.zrh_lower_funnel \n",
    "        ON dbt.zrh_lower_funnel.user_created = dbt.stg_upper_funnel.user_created \n",
    "        AND datediff('days', dbt.zrh_lower_funnel.user_created::date, dbt.zrh_lower_funnel.created::date) <= 7\n",
    "    LEFT JOIN clicks\n",
    "        ON dbt.stg_upper_funnel.user_created = clicks.user_created\n",
    "        AND dbt.stg_upper_funnel.shadow_user_id = clicks.shadow_user_id\n",
    "        AND dbt.stg_upper_funnel.domain_userid = clicks.domain_userid\n",
    "    LEFT JOIN cs\n",
    "        ON cs.user_created = dbt.stg_upper_funnel.user_created\n",
    "    WHERE 1=1\n",
    "        AND dbt.stg_upper_funnel.se_property = 'introductory_page_v2_eu'\n",
    "        AND dbt.stg_upper_funnel.created >= '{}'\n",
    "        AND dbt.stg_upper_funnel.created <= '{}'\n",
    "        AND coalesce(dbt.stg_upper_funnel.user_created, current_date) >= dbt.stg_upper_funnel.created \n",
    "        AND dbt.stg_upper_funnel.country != 'USA' \n",
    "        AND datediff('days', dbt.stg_upper_funnel.created::date, current_date) >= 7\n",
    "    GROUP BY 1\n",
    ")\n",
    "GROUP BY 1\n",
    "ORDER BY 1\n",
    "\"\"\".format(\n",
    "    date_start, date_end, date_start, date_end, date_start, date_end\n",
    ")"
   ]
  },
  {
   "cell_type": "code",
   "execution_count": 24,
   "metadata": {},
   "outputs": [
    {
     "name": "stdout",
     "output_type": "stream",
     "text": [
      "{\"message\": \"started\", \"db\": \"redshiftreader\", \"name\": \"datalib-logger\", \"args\": [], \"levelname\": \"INFO\", \"pathname\": \"/usr/local/lib/python3.7/site-packages/datalib/database.py\", \"filename\": \"database.py\", \"module\": \"database\", \"lineno\": 114, \"funcName\": \"df_from_sql\", \"created\": \"20210107T130555\", \"processName\": \"MainProcess\", \"service\": \"fargo\", \"environment\": \"local\", \"loggerId\": \"5ca6d301-84e5-41e0-ac48-81de3899471f\", \"hostname\": \"172.18.0.4\"}\n",
      "{\"message\": \"success\", \"db\": \"redshiftreader\", \"duration\": 171.9347, \"name\": \"datalib-logger\", \"args\": [], \"levelname\": \"INFO\", \"pathname\": \"/usr/local/lib/python3.7/site-packages/datalib/database.py\", \"filename\": \"database.py\", \"module\": \"database\", \"lineno\": 124, \"funcName\": \"df_from_sql\", \"created\": \"20210107T130847\", \"processName\": \"MainProcess\", \"service\": \"fargo\", \"environment\": \"local\", \"loggerId\": \"5ca6d301-84e5-41e0-ac48-81de3899471f\", \"hostname\": \"172.18.0.4\"}\n",
      "Finished querying data. Time elapsed: 00:03:05.\n",
      "Finished saving data. Time elapsed: 00:00:00.\n",
      "\n"
     ]
    }
   ],
   "source": [
    "filename = generate_filename(\"data/\", \"DATA-9307\", \"cs\", date_start, date_end)\n",
    "# get_data(query, filename)"
   ]
  },
  {
   "cell_type": "code",
   "execution_count": 25,
   "metadata": {},
   "outputs": [
    {
     "data": {
      "text/plain": [
       "(2, 3)"
      ]
     },
     "execution_count": 25,
     "metadata": {},
     "output_type": "execute_result"
    }
   ],
   "source": [
    "cs = pd.read_csv(filename)\n",
    "cs.shape"
   ]
  },
  {
   "cell_type": "code",
   "execution_count": 26,
   "metadata": {},
   "outputs": [
    {
     "data": {
      "text/html": [
       "<div>\n",
       "<style scoped>\n",
       "    .dataframe tbody tr th:only-of-type {\n",
       "        vertical-align: middle;\n",
       "    }\n",
       "\n",
       "    .dataframe tbody tr th {\n",
       "        vertical-align: top;\n",
       "    }\n",
       "\n",
       "    .dataframe thead th {\n",
       "        text-align: right;\n",
       "    }\n",
       "</style>\n",
       "<table border=\"1\" class=\"dataframe\">\n",
       "  <thead>\n",
       "    <tr style=\"text-align: right;\">\n",
       "      <th></th>\n",
       "      <th>flag</th>\n",
       "      <th>cs_contacted</th>\n",
       "      <th>no_cs</th>\n",
       "    </tr>\n",
       "  </thead>\n",
       "  <tbody>\n",
       "    <tr>\n",
       "      <th>0</th>\n",
       "      <td>clicked</td>\n",
       "      <td>67</td>\n",
       "      <td>921</td>\n",
       "    </tr>\n",
       "    <tr>\n",
       "      <th>1</th>\n",
       "      <td>not_clicked</td>\n",
       "      <td>3140</td>\n",
       "      <td>213809</td>\n",
       "    </tr>\n",
       "  </tbody>\n",
       "</table>\n",
       "</div>"
      ],
      "text/plain": [
       "          flag  cs_contacted   no_cs\n",
       "0      clicked            67     921\n",
       "1  not_clicked          3140  213809"
      ]
     },
     "execution_count": 26,
     "metadata": {},
     "output_type": "execute_result"
    }
   ],
   "source": [
    "cs.head()"
   ]
  },
  {
   "cell_type": "code",
   "execution_count": 27,
   "metadata": {},
   "outputs": [],
   "source": [
    "cs = cs.set_index(\"flag\").unstack().reset_index(name=\"value\")\n",
    "cs.rename(columns={\"level_0\": \"feat\"}, inplace=True)"
   ]
  },
  {
   "cell_type": "code",
   "execution_count": 28,
   "metadata": {},
   "outputs": [
    {
     "data": {
      "text/html": [
       "<div>\n",
       "<style scoped>\n",
       "    .dataframe tbody tr th:only-of-type {\n",
       "        vertical-align: middle;\n",
       "    }\n",
       "\n",
       "    .dataframe tbody tr th {\n",
       "        vertical-align: top;\n",
       "    }\n",
       "\n",
       "    .dataframe thead th {\n",
       "        text-align: right;\n",
       "    }\n",
       "</style>\n",
       "<table border=\"1\" class=\"dataframe\">\n",
       "  <thead>\n",
       "    <tr style=\"text-align: right;\">\n",
       "      <th></th>\n",
       "      <th>feat</th>\n",
       "      <th>flag</th>\n",
       "      <th>value</th>\n",
       "    </tr>\n",
       "  </thead>\n",
       "  <tbody>\n",
       "    <tr>\n",
       "      <th>0</th>\n",
       "      <td>cs_contacted</td>\n",
       "      <td>clicked</td>\n",
       "      <td>67</td>\n",
       "    </tr>\n",
       "    <tr>\n",
       "      <th>1</th>\n",
       "      <td>cs_contacted</td>\n",
       "      <td>not_clicked</td>\n",
       "      <td>3140</td>\n",
       "    </tr>\n",
       "    <tr>\n",
       "      <th>2</th>\n",
       "      <td>no_cs</td>\n",
       "      <td>clicked</td>\n",
       "      <td>921</td>\n",
       "    </tr>\n",
       "    <tr>\n",
       "      <th>3</th>\n",
       "      <td>no_cs</td>\n",
       "      <td>not_clicked</td>\n",
       "      <td>213809</td>\n",
       "    </tr>\n",
       "  </tbody>\n",
       "</table>\n",
       "</div>"
      ],
      "text/plain": [
       "           feat         flag   value\n",
       "0  cs_contacted      clicked      67\n",
       "1  cs_contacted  not_clicked    3140\n",
       "2         no_cs      clicked     921\n",
       "3         no_cs  not_clicked  213809"
      ]
     },
     "execution_count": 28,
     "metadata": {},
     "output_type": "execute_result"
    }
   ],
   "source": [
    "cs"
   ]
  },
  {
   "cell_type": "code",
   "execution_count": 71,
   "metadata": {},
   "outputs": [
    {
     "data": {
      "text/plain": [
       "0.004533441010204831"
      ]
     },
     "execution_count": 71,
     "metadata": {},
     "output_type": "execute_result"
    }
   ],
   "source": [
    "988 / 217936"
   ]
  },
  {
   "cell_type": "code",
   "execution_count": 49,
   "metadata": {},
   "outputs": [],
   "source": [
    "clicked_yes = cs[cs[\"flag\"] == \"clicked\"]\n",
    "clicked_no = cs[cs[\"flag\"] == \"not_clicked\"]"
   ]
  },
  {
   "cell_type": "code",
   "execution_count": 68,
   "metadata": {},
   "outputs": [
    {
     "data": {
      "text/plain": [
       "6.781376518218623"
      ]
     },
     "execution_count": 68,
     "metadata": {},
     "output_type": "execute_result"
    }
   ],
   "source": [
    "100 * clicked_yes[clicked_yes[\"feat\"] == \"cs_contacted\"].value.iloc[0] / (\n",
    "    clicked_yes[clicked_yes[\"feat\"] == \"cs_contacted\"].value.iloc[0]\n",
    "    + clicked_yes[clicked_yes[\"feat\"] == \"no_cs\"].value.iloc[0]\n",
    ")"
   ]
  },
  {
   "cell_type": "code",
   "execution_count": 69,
   "metadata": {},
   "outputs": [
    {
     "data": {
      "text/plain": [
       "1.4473447676642897"
      ]
     },
     "execution_count": 69,
     "metadata": {},
     "output_type": "execute_result"
    }
   ],
   "source": [
    "100 * clicked_no[clicked_no[\"feat\"] == \"cs_contacted\"].value.iloc[0] / (\n",
    "    clicked_no[clicked_no[\"feat\"] == \"cs_contacted\"].value.iloc[0]\n",
    "    + clicked_no[clicked_no[\"feat\"] == \"no_cs\"].value.iloc[0]\n",
    ")"
   ]
  },
  {
   "cell_type": "code",
   "execution_count": 70,
   "metadata": {},
   "outputs": [
    {
     "data": {
      "text/plain": [
       "216949"
      ]
     },
     "execution_count": 70,
     "metadata": {},
     "output_type": "execute_result"
    }
   ],
   "source": [
    "3140 + 213809"
   ]
  },
  {
   "cell_type": "code",
   "execution_count": 32,
   "metadata": {},
   "outputs": [
    {
     "data": {
      "image/png": "[encoded data removed]",
      "text/plain": [
       "<Figure size 864x720 with 1 Axes>"
      ]
     },
     "metadata": {},
     "output_type": "display_data"
    }
   ],
   "source": [
    "ax = sns.barplot(x=\"flag\", y=\"value\", hue=\"feat\", data=cs)\n",
    "for p in ax.patches:\n",
    "    ax.annotate(\n",
    "        format(p.get_height(), \".1f\"),\n",
    "        (p.get_x() + p.get_width() / 2.0, p.get_height()),\n",
    "        ha=\"center\",\n",
    "        va=\"center\",\n",
    "        xytext=(0, 9),\n",
    "        textcoords=\"offset points\",\n",
    "    )"
   ]
  },
  {
   "cell_type": "code",
   "execution_count": null,
   "metadata": {},
   "outputs": [],
   "source": []
  }
 ],
 "metadata": {
  "kernelspec": {
   "display_name": "Python 3",
   "language": "python",
   "name": "python3"
  },
  "language_info": {
   "codemirror_mode": {
    "name": "ipython",
    "version": 3
   },
   "file_extension": ".py",
   "mimetype": "text/x-python",
   "name": "python",
   "nbconvert_exporter": "python",
   "pygments_lexer": "ipython3",
   "version": "3.7.2"
  }
 },
 "nbformat": 4,
 "nbformat_minor": 4
}
