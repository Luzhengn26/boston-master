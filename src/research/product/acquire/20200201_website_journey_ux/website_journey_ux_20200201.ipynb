{
 "cells": [
  {
   "cell_type": "markdown",
   "source": [
    "title: Website journey - ux investigation.\n",
    "author: Fabio Schmidt-Fischbach   \n",
    "date: 2020-02-01   \n",
    "region: US\n",
    "link: https://docs.google.com/presentation/d/1z8jmHl4Fso3-jUiwFE-TQp6w6wRfAdmMiuGkemvqaWs/edit?usp=sharing   \n",
    "tags: website, journey, ux, acquire, growth\n",
    "summary: Our goal here is to understand how users navigate our website, as well as how the journey of a converting user differs from a non-converting user. We found that our traffic comes from performance marketing (63.8% of sessions), SEO (16.8%) and organic (19%). As for the platform split, we have mobile device with 65% and computer with 32%. We also found that 85% and 72% of sessions on a mobile device and computer respectively last only one page. Top 10% of sessions last more than 2 (3) on a mobile device (computer). Interestingly, one more page view typically increases conversion rate to SUI by 1pp."
   ],
   "metadata": {}
  },
  {
   "cell_type": "code",
   "execution_count": null,
   "source": [
    "from IPython import get_ipython\n",
    "import os \n",
    "get_ipython().system('pip install -U scikit-learn matplotlib')\n",
    "get_ipython().system('pip install -U fuzzywuzzy')\n",
    "get_ipython().system('pip install -U altair')\n",
    "get_ipython().system('pip install -U seaborn')\n",
    "get_ipython().system('pip install -U statsmodels')\n",
    "get_ipython().system('pip install -U vega')\n",
    "get_ipython().system('pip install -U altair vega_datasets notebook vega')\n",
    "import os\n",
    "os.chdir('/app')\n",
    "# Import Libraries\n",
    "import pandas as pd\n",
    "import numpy as np \n",
    "from sklearn.preprocessing import MinMaxScaler\n",
    "from utils.datalib_database import df_from_sql\n",
    "from multiprocessing import Pool\n",
    "import time\n",
    "import gc \n",
    "from sklearn.metrics.pairwise import cosine_similarity\n",
    "import seaborn as sns\n",
    "from scipy.stats import ks_2samp\n",
    "import scipy.stats as stats\n",
    "import statsmodels\n",
    "from pylab import savefig\n",
    "from statsmodels.sandbox.stats.multicomp import multipletests\n",
    "from statsmodels.stats.proportion import proportions_ztest\n",
    "import altair as alt\n",
    "alt.renderers.enable('notebook')\n",
    "overall_start = time.time()"
   ],
   "outputs": [],
   "metadata": {}
  },
  {
   "cell_type": "markdown",
   "source": [
    "# Get data"
   ],
   "metadata": {}
  },
  {
   "cell_type": "code",
   "execution_count": 2,
   "source": [
    "# sample\n",
    "\n",
    "query = \"\"\" \n",
    "select  domain_sessionid, \n",
    "        min(collector_tstamp) as start, \n",
    "        max(collector_tstamp) as end, \n",
    "        max(page_count) as visits, \n",
    "        median(seconds_spent) as median_time\n",
    "from dev_dbt.zrh_websessions \n",
    "group by 1\n",
    "\"\"\"\n",
    "\n",
    "df = df_from_sql(\"redshiftreader\", query)\n",
    "df.to_pickle(\"session_stats.pkl\")"
   ],
   "outputs": [
    {
     "output_type": "error",
     "ename": "NameError",
     "evalue": "name 'df_from_sql' is not defined",
     "traceback": [
      "\u001b[0;31m---------------------------------------------------------------------------\u001b[0m",
      "\u001b[0;31mNameError\u001b[0m                                 Traceback (most recent call last)",
      "\u001b[0;32m<ipython-input-2-e4ead82a5a49>\u001b[0m in \u001b[0;36m<module>\u001b[0;34m\u001b[0m\n\u001b[1;32m     11\u001b[0m \"\"\"\n\u001b[1;32m     12\u001b[0m \u001b[0;34m\u001b[0m\u001b[0m\n\u001b[0;32m---> 13\u001b[0;31m \u001b[0mdf\u001b[0m \u001b[0;34m=\u001b[0m \u001b[0mdf_from_sql\u001b[0m\u001b[0;34m(\u001b[0m\u001b[0;34m'redshiftreader'\u001b[0m\u001b[0;34m,\u001b[0m \u001b[0mquery\u001b[0m\u001b[0;34m)\u001b[0m\u001b[0;34m\u001b[0m\u001b[0;34m\u001b[0m\u001b[0m\n\u001b[0m\u001b[1;32m     14\u001b[0m \u001b[0mdf\u001b[0m\u001b[0;34m.\u001b[0m\u001b[0mto_pickle\u001b[0m\u001b[0;34m(\u001b[0m\u001b[0;34m'session_stats.pkl'\u001b[0m\u001b[0;34m)\u001b[0m\u001b[0;34m\u001b[0m\u001b[0;34m\u001b[0m\u001b[0m\n\u001b[1;32m     15\u001b[0m \u001b[0;34m\u001b[0m\u001b[0m\n",
      "\u001b[0;31mNameError\u001b[0m: name 'df_from_sql' is not defined"
     ]
    }
   ],
   "metadata": {}
  },
  {
   "cell_type": "code",
   "execution_count": 3,
   "source": [
    "# sample\n",
    "\n",
    "query = \"\"\" \n",
    "\n",
    "select domain_sessionid, \n",
    "        shadow_channel, \n",
    "        count(1) as visits,\n",
    "        median(seconds_spent) as median_time\n",
    "from dev_dbt.zrh_websessions \n",
    "group by 1,2\n",
    "\n",
    "\"\"\"\n",
    "\n",
    "df = df_from_sql(\"redshiftreader\", query)\n",
    "df.to_pickle(\"page_stats.pkl\")"
   ],
   "outputs": [
    {
     "output_type": "stream",
     "name": "stdout",
     "text": [
      "{\"message\": \"started\", \"db\": \"redshiftreader\", \"name\": \"datalib-logger\", \"args\": [], \"levelname\": \"INFO\", \"pathname\": \"/usr/local/lib/python3.7/site-packages/datalib/database.py\", \"filename\": \"database.py\", \"module\": \"database\", \"lineno\": 114, \"funcName\": \"df_from_sql\", \"created\": \"20200309T090850\", \"processName\": \"MainProcess\", \"service\": \"fargo\", \"environment\": \"local\", \"loggerId\": \"b36a7d20-2c27-4465-ad9c-b84a1547f59a\", \"hostname\": \"172.21.0.4\"}\n",
      "{\"message\": \"success\", \"db\": \"redshiftreader\", \"duration\": 953.1336, \"name\": \"datalib-logger\", \"args\": [], \"levelname\": \"INFO\", \"pathname\": \"/usr/local/lib/python3.7/site-packages/datalib/database.py\", \"filename\": \"database.py\", \"module\": \"database\", \"lineno\": 124, \"funcName\": \"df_from_sql\", \"created\": \"20200309T092443\", \"processName\": \"MainProcess\", \"service\": \"fargo\", \"environment\": \"local\", \"loggerId\": \"b36a7d20-2c27-4465-ad9c-b84a1547f59a\", \"hostname\": \"172.21.0.4\"}\n"
     ]
    }
   ],
   "metadata": {}
  },
  {
   "cell_type": "code",
   "execution_count": 3,
   "source": [
    "# sample\n",
    "\n",
    "query = \"\"\" \n",
    "\n",
    "with d as (\n",
    "select domain_sessionid, \n",
    "       first_value(dvce_type) over(partition by domain_sessionid order by collector_tstamp rows unbounded preceding) as device,\n",
    "       first_value(lang) over(partition by domain_sessionid order by collector_tstamp rows unbounded preceding) as lang,\n",
    "       first_value(country) over(partition by domain_sessionid order by collector_tstamp rows unbounded preceding) as country,\n",
    "       first_value(marketing_channel) over(partition by domain_sessionid order by collector_tstamp rows unbounded preceding) as marketing_channel,\n",
    "       max(cta_session) over(partition by domain_sessionid order by collector_tstamp rows unbounded preceding) as cta_session\n",
    "from dev_dbt.zrh_websessions \n",
    ")\n",
    "\n",
    "select domain_sessionid, \n",
    "        device, \n",
    "        lang,\n",
    "        country, \n",
    "       case when marketing_channel in ('email_friend_referral') then 'friend_referral'\n",
    "                        when marketing_channel in (\n",
    "                                                'organic_social',\n",
    "                                                'other',\n",
    "                                                'lost_souls',\n",
    "                                                'crm',\n",
    "                                                'internal',\n",
    "                                                'direct', 'app_store', 'brand_influencer') \n",
    "                            then  'organic'\n",
    "                    when marketing_channel = 'organic_search' then 'SEO'\n",
    "                    when marketing_channel in ('paid_search', 'paid_search_non_brand', 'paid_search_brand',\n",
    "                                        'paid_search_unknown', 'paid_social',\n",
    "                                        'affiliate', 'display_ads') then 'performance'\n",
    "                    when marketing_channel in ('partnership', 'ambassador') then 'partnership'\n",
    "                    else 'no source' end as attr_info, \n",
    "        cta_session\n",
    "from d \n",
    "group by 1,2,3,4,5,6\n",
    "\n",
    "\"\"\"\n",
    "\n",
    "df = df_from_sql(\"redshiftreader\", query)\n",
    "df.to_pickle(\"session_dem.pkl\")"
   ],
   "outputs": [
    {
     "output_type": "stream",
     "name": "stdout",
     "text": [
      "{\"message\": \"started\", \"db\": \"redshiftreader\", \"name\": \"datalib-logger\", \"args\": [], \"levelname\": \"INFO\", \"pathname\": \"/usr/local/lib/python3.7/site-packages/datalib/database.py\", \"filename\": \"database.py\", \"module\": \"database\", \"lineno\": 114, \"funcName\": \"df_from_sql\", \"created\": \"20200309T095442\", \"processName\": \"MainProcess\", \"service\": \"fargo\", \"environment\": \"local\", \"loggerId\": \"49de5ee9-bd63-499a-8f71-df471633dd88\", \"hostname\": \"172.21.0.4\"}\n",
      "{\"message\": \"success\", \"db\": \"redshiftreader\", \"duration\": 894.7337, \"name\": \"datalib-logger\", \"args\": [], \"levelname\": \"INFO\", \"pathname\": \"/usr/local/lib/python3.7/site-packages/datalib/database.py\", \"filename\": \"database.py\", \"module\": \"database\", \"lineno\": 124, \"funcName\": \"df_from_sql\", \"created\": \"20200309T100936\", \"processName\": \"MainProcess\", \"service\": \"fargo\", \"environment\": \"local\", \"loggerId\": \"49de5ee9-bd63-499a-8f71-df471633dd88\", \"hostname\": \"172.21.0.4\"}\n"
     ]
    }
   ],
   "metadata": {}
  },
  {
   "cell_type": "markdown",
   "source": [
    "# Merge dataframes"
   ],
   "metadata": {}
  },
  {
   "cell_type": "code",
   "execution_count": 3,
   "source": [
    "import pandas as pd\n",
    "\n",
    "df = pd.read_pickle(\"session_dem.pkl\")\n",
    "\n",
    "page_stats = pd.read_pickle(\"session_stats.pkl\").fillna(0)\n",
    "\n",
    "df = pd.merge(df, page_stats, on=\"domain_sessionid\")\n",
    "df.to_pickle(\"temp.pkl\")"
   ],
   "outputs": [
    {
     "output_type": "error",
     "ename": "FileNotFoundError",
     "evalue": "[Errno 2] No such file or directory: 'session_dem.pkl'",
     "traceback": [
      "\u001b[0;31m---------------------------------------------------------------------------\u001b[0m",
      "\u001b[0;31mFileNotFoundError\u001b[0m                         Traceback (most recent call last)",
      "\u001b[0;32m<ipython-input-3-0494231eaed2>\u001b[0m in \u001b[0;36m<module>\u001b[0;34m\u001b[0m\n\u001b[1;32m      1\u001b[0m \u001b[0;32mimport\u001b[0m \u001b[0mpandas\u001b[0m \u001b[0;32mas\u001b[0m \u001b[0mpd\u001b[0m\u001b[0;34m\u001b[0m\u001b[0;34m\u001b[0m\u001b[0m\n\u001b[1;32m      2\u001b[0m \u001b[0;34m\u001b[0m\u001b[0m\n\u001b[0;32m----> 3\u001b[0;31m \u001b[0mdf\u001b[0m \u001b[0;34m=\u001b[0m \u001b[0mpd\u001b[0m\u001b[0;34m.\u001b[0m\u001b[0mread_pickle\u001b[0m\u001b[0;34m(\u001b[0m\u001b[0;34m'session_dem.pkl'\u001b[0m\u001b[0;34m)\u001b[0m\u001b[0;34m\u001b[0m\u001b[0;34m\u001b[0m\u001b[0m\n\u001b[0m\u001b[1;32m      4\u001b[0m \u001b[0;34m\u001b[0m\u001b[0m\n\u001b[1;32m      5\u001b[0m \u001b[0mpage_stats\u001b[0m \u001b[0;34m=\u001b[0m \u001b[0mpd\u001b[0m\u001b[0;34m.\u001b[0m\u001b[0mread_pickle\u001b[0m\u001b[0;34m(\u001b[0m\u001b[0;34m'session_stats.pkl'\u001b[0m\u001b[0;34m)\u001b[0m\u001b[0;34m.\u001b[0m\u001b[0mfillna\u001b[0m\u001b[0;34m(\u001b[0m\u001b[0;36m0\u001b[0m\u001b[0;34m)\u001b[0m\u001b[0;34m\u001b[0m\u001b[0;34m\u001b[0m\u001b[0m\n",
      "\u001b[0;32m~/anaconda3/lib/python3.7/site-packages/pandas/io/pickle.py\u001b[0m in \u001b[0;36mread_pickle\u001b[0;34m(filepath_or_buffer, compression)\u001b[0m\n\u001b[1;32m    168\u001b[0m     \u001b[0;32mif\u001b[0m \u001b[0;32mnot\u001b[0m \u001b[0misinstance\u001b[0m\u001b[0;34m(\u001b[0m\u001b[0mfp_or_buf\u001b[0m\u001b[0;34m,\u001b[0m \u001b[0mstr\u001b[0m\u001b[0;34m)\u001b[0m \u001b[0;32mand\u001b[0m \u001b[0mcompression\u001b[0m \u001b[0;34m==\u001b[0m \u001b[0;34m\"infer\"\u001b[0m\u001b[0;34m:\u001b[0m\u001b[0;34m\u001b[0m\u001b[0;34m\u001b[0m\u001b[0m\n\u001b[1;32m    169\u001b[0m         \u001b[0mcompression\u001b[0m \u001b[0;34m=\u001b[0m \u001b[0;32mNone\u001b[0m\u001b[0;34m\u001b[0m\u001b[0;34m\u001b[0m\u001b[0m\n\u001b[0;32m--> 170\u001b[0;31m     \u001b[0mf\u001b[0m\u001b[0;34m,\u001b[0m \u001b[0mfh\u001b[0m \u001b[0;34m=\u001b[0m \u001b[0mget_handle\u001b[0m\u001b[0;34m(\u001b[0m\u001b[0mfp_or_buf\u001b[0m\u001b[0;34m,\u001b[0m \u001b[0;34m\"rb\"\u001b[0m\u001b[0;34m,\u001b[0m \u001b[0mcompression\u001b[0m\u001b[0;34m=\u001b[0m\u001b[0mcompression\u001b[0m\u001b[0;34m,\u001b[0m \u001b[0mis_text\u001b[0m\u001b[0;34m=\u001b[0m\u001b[0;32mFalse\u001b[0m\u001b[0;34m)\u001b[0m\u001b[0;34m\u001b[0m\u001b[0;34m\u001b[0m\u001b[0m\n\u001b[0m\u001b[1;32m    171\u001b[0m \u001b[0;34m\u001b[0m\u001b[0m\n\u001b[1;32m    172\u001b[0m     \u001b[0;31m# 1) try standard library Pickle\u001b[0m\u001b[0;34m\u001b[0m\u001b[0;34m\u001b[0m\u001b[0;34m\u001b[0m\u001b[0m\n",
      "\u001b[0;32m~/anaconda3/lib/python3.7/site-packages/pandas/io/common.py\u001b[0m in \u001b[0;36mget_handle\u001b[0;34m(path_or_buf, mode, encoding, compression, memory_map, is_text)\u001b[0m\n\u001b[1;32m    432\u001b[0m         \u001b[0;32melse\u001b[0m\u001b[0;34m:\u001b[0m\u001b[0;34m\u001b[0m\u001b[0;34m\u001b[0m\u001b[0m\n\u001b[1;32m    433\u001b[0m             \u001b[0;31m# Binary mode\u001b[0m\u001b[0;34m\u001b[0m\u001b[0;34m\u001b[0m\u001b[0;34m\u001b[0m\u001b[0m\n\u001b[0;32m--> 434\u001b[0;31m             \u001b[0mf\u001b[0m \u001b[0;34m=\u001b[0m \u001b[0mopen\u001b[0m\u001b[0;34m(\u001b[0m\u001b[0mpath_or_buf\u001b[0m\u001b[0;34m,\u001b[0m \u001b[0mmode\u001b[0m\u001b[0;34m)\u001b[0m\u001b[0;34m\u001b[0m\u001b[0;34m\u001b[0m\u001b[0m\n\u001b[0m\u001b[1;32m    435\u001b[0m         \u001b[0mhandles\u001b[0m\u001b[0;34m.\u001b[0m\u001b[0mappend\u001b[0m\u001b[0;34m(\u001b[0m\u001b[0mf\u001b[0m\u001b[0;34m)\u001b[0m\u001b[0;34m\u001b[0m\u001b[0;34m\u001b[0m\u001b[0m\n\u001b[1;32m    436\u001b[0m \u001b[0;34m\u001b[0m\u001b[0m\n",
      "\u001b[0;31mFileNotFoundError\u001b[0m: [Errno 2] No such file or directory: 'session_dem.pkl'"
     ]
    }
   ],
   "metadata": {}
  },
  {
   "cell_type": "code",
   "execution_count": 6,
   "source": [
    "import pandas as pd\n",
    "\n",
    "page_stats = pd.read_pickle(\"page_stats.pkl\")\n",
    "\n",
    "page_stats = page_stats.pivot(\n",
    "    index=\"domain_sessionid\", columns=\"shadow_channel\", values=[\"visits\", \"median_time\"]\n",
    ").fillna(0)\n",
    "page_stats.columns = [\" \".join(col).strip() for col in page_stats.columns.values]\n",
    "page_stats = page_stats.reset_index()\n",
    "\n",
    "page_stats = page_stats.to_pickle(\"temp2.pkl\")"
   ],
   "outputs": [],
   "metadata": {}
  },
  {
   "cell_type": "code",
   "execution_count": 5,
   "source": [
    "import pandas as pd\n",
    "\n",
    "df = pd.read_pickle(\"temp.pkl\")\n",
    "page_stats = pd.read_pickle(\"temp2.pkl\")\n",
    "\n",
    "print(\"Import successful\")"
   ],
   "outputs": [
    {
     "output_type": "stream",
     "name": "stdout",
     "text": [
      "Import successful\n"
     ]
    }
   ],
   "metadata": {}
  },
  {
   "cell_type": "code",
   "execution_count": 4,
   "source": [
    "import pandas as pd\n",
    "\n",
    "final = pd.merge(df, page_stats, on=\"domain_sessionid\")\n",
    "\n",
    "print(\"Merge successful\")"
   ],
   "outputs": [
    {
     "output_type": "error",
     "ename": "NameError",
     "evalue": "name 'df' is not defined",
     "traceback": [
      "\u001b[0;31m---------------------------------------------------------------------------\u001b[0m",
      "\u001b[0;31mNameError\u001b[0m                                 Traceback (most recent call last)",
      "\u001b[0;32m<ipython-input-4-151828d066b5>\u001b[0m in \u001b[0;36m<module>\u001b[0;34m\u001b[0m\n\u001b[1;32m      1\u001b[0m \u001b[0;32mimport\u001b[0m \u001b[0mpandas\u001b[0m \u001b[0;32mas\u001b[0m \u001b[0mpd\u001b[0m\u001b[0;34m\u001b[0m\u001b[0;34m\u001b[0m\u001b[0m\n\u001b[1;32m      2\u001b[0m \u001b[0;34m\u001b[0m\u001b[0m\n\u001b[0;32m----> 3\u001b[0;31m \u001b[0mfinal\u001b[0m \u001b[0;34m=\u001b[0m \u001b[0mpd\u001b[0m\u001b[0;34m.\u001b[0m\u001b[0mmerge\u001b[0m\u001b[0;34m(\u001b[0m\u001b[0mdf\u001b[0m\u001b[0;34m,\u001b[0m \u001b[0mpage_stats\u001b[0m\u001b[0;34m,\u001b[0m \u001b[0mon\u001b[0m \u001b[0;34m=\u001b[0m \u001b[0;34m'domain_sessionid'\u001b[0m\u001b[0;34m)\u001b[0m\u001b[0;34m\u001b[0m\u001b[0;34m\u001b[0m\u001b[0m\n\u001b[0m\u001b[1;32m      4\u001b[0m \u001b[0;34m\u001b[0m\u001b[0m\n\u001b[1;32m      5\u001b[0m \u001b[0mprint\u001b[0m\u001b[0;34m(\u001b[0m\u001b[0;34m\"Merge successful\"\u001b[0m\u001b[0;34m)\u001b[0m\u001b[0;34m\u001b[0m\u001b[0;34m\u001b[0m\u001b[0m\n",
      "\u001b[0;31mNameError\u001b[0m: name 'df' is not defined"
     ]
    }
   ],
   "metadata": {
    "scrolled": true
   }
  },
  {
   "cell_type": "code",
   "execution_count": 7,
   "source": [
    "final.to_csv(\"websessions_final.csv\")\n",
    "print(\"Export successful\")"
   ],
   "outputs": [
    {
     "output_type": "stream",
     "name": "stdout",
     "text": [
      "Export sucessful\n"
     ]
    }
   ],
   "metadata": {}
  },
  {
   "cell_type": "code",
   "execution_count": 2,
   "source": [
    "import pandas as pd\n",
    "\n",
    "final = pd.read_csv(\"websessions_final.csv\")\n",
    "final.to_pickle(\"websessions_final.pkl\")\n",
    "\n",
    "print(\"Successfully pickled\")"
   ],
   "outputs": [
    {
     "output_type": "stream",
     "name": "stdout",
     "text": [
      "Successfully pickled\n"
     ]
    }
   ],
   "metadata": {}
  },
  {
   "cell_type": "markdown",
   "source": [
    "# Descriptives"
   ],
   "metadata": {}
  },
  {
   "cell_type": "code",
   "execution_count": 5,
   "source": [
    "df = pd.read_pickle(\"websessions_final.pkl\")\n",
    "\n",
    "\n",
    "df[\"count\"] = 1\n",
    "\n",
    "df = df.loc[:, [\"count\", \"attr_info\", \"country\"]]\n",
    "\n",
    "df = df.groupby([\"attr_info\", \"country\"]).agg(\"sum\").reset_index()\n",
    "\n",
    "df = df.loc[df[\"country\"] != \"us\", :]\n",
    "df = df.loc[df[\"country\"] != \"gb\", :]\n",
    "df = df.loc[df[\"country\"] != \"ch\", :]\n",
    "\n",
    "df[\"group\"] = 1\n",
    "df[\"total\"] = df.groupby(\"group\")[\"count\"].transform(\"sum\")\n",
    "\n",
    "\n",
    "df[\"perc\"] = 100 * df[\"count\"] / df[\"total\"]\n",
    "df[\"perc\"] = df[\"perc\"].round(1)\n",
    "\n",
    "\n",
    "alt.Chart(df).mark_rect().encode(x=\"attr_info:O\", y=\"country:O\", color=\"perc:Q\")\n",
    "\n",
    "# Configure common options\n",
    "base = alt.Chart(df).encode(\n",
    "    alt.X(\"attr_info:O\", axis=alt.Axis(title=\"Marketing channel\")),\n",
    "    alt.Y(\"country:O\", axis=alt.Axis(title=\"Market\")),\n",
    ")\n",
    "\n",
    "# Configure heatmap\n",
    "heatmap = (\n",
    "    base.mark_rect()\n",
    "    .encode(\n",
    "        color=alt.Color(\n",
    "            \"perc:Q\",\n",
    "            scale=alt.Scale(scheme=\"viridis\"),\n",
    "            legend=alt.Legend(direction=\"horizontal\"),\n",
    "        )\n",
    "    )\n",
    "    .properties(\n",
    "        width=400, height=400, title=\"% of websessions across market and channel\"\n",
    "    )\n",
    ")\n",
    "\n",
    "# Configure text\n",
    "text = base.mark_text(baseline=\"middle\").encode(text=\"perc:Q\", color=alt.value(\"white\"))\n",
    "\n",
    "# Draw the chart\n",
    "heatmap + text"
   ],
   "outputs": [
    {
     "output_type": "execute_result",
     "data": {
      "text/plain": [
       "alt.LayerChart(...)"
      ],
      "text/html": [
       "\n",
       "<div id=\"altair-viz-ac263bd8aa23429f8e3ddd1e1c2dbdba\"></div>\n",
       "<script type=\"text/javascript\">\n",
       "  (function(spec, embedOpt){\n",
       "    const outputDiv = document.getElementById(\"altair-viz-ac263bd8aa23429f8e3ddd1e1c2dbdba\");\n",
       "    const paths = {\n",
       "      \"vega\": \"https://cdn.jsdelivr.net/npm//vega@5?noext\",\n",
       "      \"vega-lib\": \"https://cdn.jsdelivr.net/npm//vega-lib?noext\",\n",
       "      \"vega-lite\": \"https://cdn.jsdelivr.net/npm//vega-lite@4.0.2?noext\",\n",
       "      \"vega-embed\": \"https://cdn.jsdelivr.net/npm//vega-embed@6?noext\",\n",
       "    };\n",
       "\n",
       "    function loadScript(lib) {\n",
       "      return new Promise(function(resolve, reject) {\n",
       "        var s = document.createElement('script');\n",
       "        s.src = paths[lib];\n",
       "        s.async = true;\n",
       "        s.onload = () => resolve(paths[lib]);\n",
       "        s.onerror = () => reject(`Error loading script: ${paths[lib]}`);\n",
       "        document.getElementsByTagName(\"head\")[0].appendChild(s);\n",
       "      });\n",
       "    }\n",
       "\n",
       "    function showError(err) {\n",
       "      outputDiv.innerHTML = `<div class=\"error\" style=\"color:red;\">${err}</div>`;\n",
       "      throw err;\n",
       "    }\n",
       "\n",
       "    function displayChart(vegaEmbed) {\n",
       "      vegaEmbed(outputDiv, spec, embedOpt)\n",
       "        .catch(err => showError(`Javascript Error: ${err.message}<br>This usually means there's a typo in your chart specification. See the javascript console for the full traceback.`));\n",
       "    }\n",
       "\n",
       "    if(typeof define === \"function\" && define.amd) {\n",
       "      requirejs.config({paths});\n",
       "      require([\"vega-embed\"], displayChart, err => showError(`Error loading script: ${err.message}`));\n",
       "    } else if (typeof vegaEmbed === \"function\") {\n",
       "      displayChart(vegaEmbed);\n",
       "    } else {\n",
       "      loadScript(\"vega\")\n",
       "        .then(() => loadScript(\"vega-lite\"))\n",
       "        .then(() => loadScript(\"vega-embed\"))\n",
       "        .catch(showError)\n",
       "        .then(() => displayChart(vegaEmbed));\n",
       "    }\n",
       "  })({\"config\": {\"view\": {\"continuousWidth\": 400, \"continuousHeight\": 300}}, \"layer\": [{\"mark\": \"rect\", \"encoding\": {\"color\": {\"type\": \"quantitative\", \"field\": \"perc\", \"legend\": {\"direction\": \"horizontal\"}, \"scale\": {\"scheme\": \"viridis\"}}, \"x\": {\"type\": \"ordinal\", \"axis\": {\"title\": \"Marketing channel\"}, \"field\": \"attr_info\"}, \"y\": {\"type\": \"ordinal\", \"axis\": {\"title\": \"Market\"}, \"field\": \"country\"}}, \"height\": 400, \"title\": \"% of websessions across market and channel\", \"width\": 400}, {\"mark\": {\"type\": \"text\", \"baseline\": \"middle\"}, \"encoding\": {\"color\": {\"value\": \"white\"}, \"text\": {\"type\": \"quantitative\", \"field\": \"perc\"}, \"x\": {\"type\": \"ordinal\", \"axis\": {\"title\": \"Marketing channel\"}, \"field\": \"attr_info\"}, \"y\": {\"type\": \"ordinal\", \"axis\": {\"title\": \"Market\"}, \"field\": \"country\"}}}], \"data\": {\"name\": \"data-33e3435609a69e8bc7dfa08fff74d440\"}, \"$schema\": \"https://vega.github.io/schema/vega-lite/v4.0.2.json\", \"datasets\": {\"data-33e3435609a69e8bc7dfa08fff74d440\": [{\"attr_info\": \"SEO\", \"country\": \"at\", \"count\": 22800, \"group\": 1, \"total\": 5359840, \"perc\": 0.4}, {\"attr_info\": \"SEO\", \"country\": \"de\", \"count\": 203931, \"group\": 1, \"total\": 5359840, \"perc\": 3.8}, {\"attr_info\": \"SEO\", \"country\": \"es\", \"count\": 64085, \"group\": 1, \"total\": 5359840, \"perc\": 1.2}, {\"attr_info\": \"SEO\", \"country\": \"eu\", \"count\": 250705, \"group\": 1, \"total\": 5359840, \"perc\": 4.7}, {\"attr_info\": \"SEO\", \"country\": \"fr\", \"count\": 252509, \"group\": 1, \"total\": 5359840, \"perc\": 4.7}, {\"attr_info\": \"SEO\", \"country\": \"it\", \"count\": 96851, \"group\": 1, \"total\": 5359840, \"perc\": 1.8}, {\"attr_info\": \"friend_referral\", \"country\": \"at\", \"count\": 114, \"group\": 1, \"total\": 5359840, \"perc\": 0.0}, {\"attr_info\": \"friend_referral\", \"country\": \"de\", \"count\": 2257, \"group\": 1, \"total\": 5359840, \"perc\": 0.0}, {\"attr_info\": \"friend_referral\", \"country\": \"es\", \"count\": 497, \"group\": 1, \"total\": 5359840, \"perc\": 0.0}, {\"attr_info\": \"friend_referral\", \"country\": \"eu\", \"count\": 4268, \"group\": 1, \"total\": 5359840, \"perc\": 0.1}, {\"attr_info\": \"friend_referral\", \"country\": \"fr\", \"count\": 1177, \"group\": 1, \"total\": 5359840, \"perc\": 0.0}, {\"attr_info\": \"friend_referral\", \"country\": \"it\", \"count\": 1142, \"group\": 1, \"total\": 5359840, \"perc\": 0.0}, {\"attr_info\": \"no source\", \"country\": \"at\", \"count\": 3, \"group\": 1, \"total\": 5359840, \"perc\": 0.0}, {\"attr_info\": \"no source\", \"country\": \"de\", \"count\": 34, \"group\": 1, \"total\": 5359840, \"perc\": 0.0}, {\"attr_info\": \"no source\", \"country\": \"es\", \"count\": 4, \"group\": 1, \"total\": 5359840, \"perc\": 0.0}, {\"attr_info\": \"no source\", \"country\": \"eu\", \"count\": 41, \"group\": 1, \"total\": 5359840, \"perc\": 0.0}, {\"attr_info\": \"no source\", \"country\": \"fr\", \"count\": 552, \"group\": 1, \"total\": 5359840, \"perc\": 0.0}, {\"attr_info\": \"no source\", \"country\": \"it\", \"count\": 15, \"group\": 1, \"total\": 5359840, \"perc\": 0.0}, {\"attr_info\": \"organic\", \"country\": \"at\", \"count\": 32133, \"group\": 1, \"total\": 5359840, \"perc\": 0.6}, {\"attr_info\": \"organic\", \"country\": \"de\", \"count\": 347067, \"group\": 1, \"total\": 5359840, \"perc\": 6.5}, {\"attr_info\": \"organic\", \"country\": \"es\", \"count\": 68109, \"group\": 1, \"total\": 5359840, \"perc\": 1.3}, {\"attr_info\": \"organic\", \"country\": \"eu\", \"count\": 210993, \"group\": 1, \"total\": 5359840, \"perc\": 3.9}, {\"attr_info\": \"organic\", \"country\": \"fr\", \"count\": 238922, \"group\": 1, \"total\": 5359840, \"perc\": 4.5}, {\"attr_info\": \"organic\", \"country\": \"it\", \"count\": 80373, \"group\": 1, \"total\": 5359840, \"perc\": 1.5}, {\"attr_info\": \"partnership\", \"country\": \"de\", \"count\": 2326, \"group\": 1, \"total\": 5359840, \"perc\": 0.0}, {\"attr_info\": \"partnership\", \"country\": \"es\", \"count\": 5122, \"group\": 1, \"total\": 5359840, \"perc\": 0.1}, {\"attr_info\": \"partnership\", \"country\": \"eu\", \"count\": 1408, \"group\": 1, \"total\": 5359840, \"perc\": 0.0}, {\"attr_info\": \"partnership\", \"country\": \"fr\", \"count\": 21, \"group\": 1, \"total\": 5359840, \"perc\": 0.0}, {\"attr_info\": \"partnership\", \"country\": \"it\", \"count\": 203, \"group\": 1, \"total\": 5359840, \"perc\": 0.0}, {\"attr_info\": \"performance\", \"country\": \"at\", \"count\": 91720, \"group\": 1, \"total\": 5359840, \"perc\": 1.7}, {\"attr_info\": \"performance\", \"country\": \"de\", \"count\": 795559, \"group\": 1, \"total\": 5359840, \"perc\": 14.8}, {\"attr_info\": \"performance\", \"country\": \"es\", \"count\": 337681, \"group\": 1, \"total\": 5359840, \"perc\": 6.3}, {\"attr_info\": \"performance\", \"country\": \"eu\", \"count\": 244730, \"group\": 1, \"total\": 5359840, \"perc\": 4.6}, {\"attr_info\": \"performance\", \"country\": \"fr\", \"count\": 1525679, \"group\": 1, \"total\": 5359840, \"perc\": 28.5}, {\"attr_info\": \"performance\", \"country\": \"it\", \"count\": 476809, \"group\": 1, \"total\": 5359840, \"perc\": 8.9}]}}, {\"mode\": \"vega-lite\"});\n",
       "</script>"
      ]
     },
     "metadata": {},
     "execution_count": 5
    }
   ],
   "metadata": {}
  },
  {
   "cell_type": "code",
   "execution_count": 12,
   "source": [
    "df = pd.read_pickle(\"websessions_final.pkl\")\n",
    "\n",
    "\n",
    "df[\"count\"] = 1\n",
    "\n",
    "df = df.loc[:, [\"count\", \"attr_info\", \"country\"]]\n",
    "\n",
    "df = df.groupby([\"attr_info\"]).agg(\"sum\").reset_index()\n",
    "\n",
    "df[\"group\"] = 1\n",
    "df[\"total\"] = df.groupby(\"group\")[\"count\"].transform(\"sum\")\n",
    "\n",
    "\n",
    "df[\"perc\"] = 100 * df[\"count\"] / df[\"total\"]\n",
    "df[\"perc\"] = df[\"perc\"].round(1)\n",
    "\n",
    "df.head(10)"
   ],
   "outputs": [
    {
     "output_type": "execute_result",
     "data": {
      "text/plain": [
       "         attr_info    count  group    total  perc\n",
       "0              SEO   993806      1  5904682  16.8\n",
       "1  friend_referral    11153      1  5904682   0.2\n",
       "2        no source      965      1  5904682   0.0\n",
       "3          organic  1120103      1  5904682  19.0\n",
       "4      partnership    10087      1  5904682   0.2\n",
       "5      performance  3768568      1  5904682  63.8"
      ],
      "text/html": [
       "<div>\n",
       "<style scoped>\n",
       "    .dataframe tbody tr th:only-of-type {\n",
       "        vertical-align: middle;\n",
       "    }\n",
       "\n",
       "    .dataframe tbody tr th {\n",
       "        vertical-align: top;\n",
       "    }\n",
       "\n",
       "    .dataframe thead th {\n",
       "        text-align: right;\n",
       "    }\n",
       "</style>\n",
       "<table border=\"1\" class=\"dataframe\">\n",
       "  <thead>\n",
       "    <tr style=\"text-align: right;\">\n",
       "      <th></th>\n",
       "      <th>attr_info</th>\n",
       "      <th>count</th>\n",
       "      <th>group</th>\n",
       "      <th>total</th>\n",
       "      <th>perc</th>\n",
       "    </tr>\n",
       "  </thead>\n",
       "  <tbody>\n",
       "    <tr>\n",
       "      <th>0</th>\n",
       "      <td>SEO</td>\n",
       "      <td>993806</td>\n",
       "      <td>1</td>\n",
       "      <td>5904682</td>\n",
       "      <td>16.8</td>\n",
       "    </tr>\n",
       "    <tr>\n",
       "      <th>1</th>\n",
       "      <td>friend_referral</td>\n",
       "      <td>11153</td>\n",
       "      <td>1</td>\n",
       "      <td>5904682</td>\n",
       "      <td>0.2</td>\n",
       "    </tr>\n",
       "    <tr>\n",
       "      <th>2</th>\n",
       "      <td>no source</td>\n",
       "      <td>965</td>\n",
       "      <td>1</td>\n",
       "      <td>5904682</td>\n",
       "      <td>0.0</td>\n",
       "    </tr>\n",
       "    <tr>\n",
       "      <th>3</th>\n",
       "      <td>organic</td>\n",
       "      <td>1120103</td>\n",
       "      <td>1</td>\n",
       "      <td>5904682</td>\n",
       "      <td>19.0</td>\n",
       "    </tr>\n",
       "    <tr>\n",
       "      <th>4</th>\n",
       "      <td>partnership</td>\n",
       "      <td>10087</td>\n",
       "      <td>1</td>\n",
       "      <td>5904682</td>\n",
       "      <td>0.2</td>\n",
       "    </tr>\n",
       "    <tr>\n",
       "      <th>5</th>\n",
       "      <td>performance</td>\n",
       "      <td>3768568</td>\n",
       "      <td>1</td>\n",
       "      <td>5904682</td>\n",
       "      <td>63.8</td>\n",
       "    </tr>\n",
       "  </tbody>\n",
       "</table>\n",
       "</div>"
      ]
     },
     "metadata": {},
     "execution_count": 12
    }
   ],
   "metadata": {}
  },
  {
   "cell_type": "code",
   "execution_count": 6,
   "source": [
    "df = pd.read_pickle(\"websessions_final.pkl\")\n",
    "\n",
    "\n",
    "df[\"count\"] = 1\n",
    "\n",
    "df = df.loc[:, [\"count\", \"device\", \"attr_info\"]]\n",
    "\n",
    "df = df.groupby([\"device\", \"attr_info\"]).agg(\"sum\").reset_index()\n",
    "\n",
    "\n",
    "df[\"group\"] = 1\n",
    "df[\"total\"] = df.groupby(\"group\")[\"count\"].transform(\"sum\")\n",
    "\n",
    "\n",
    "df[\"perc\"] = 100 * df[\"count\"] / df[\"total\"]\n",
    "df[\"perc\"] = df[\"perc\"].round(1)\n",
    "\n",
    "\n",
    "alt.Chart(df).mark_rect().encode(x=\"device:O\", y=\"attr_info:O\", color=\"perc:Q\")\n",
    "\n",
    "# Configure common options\n",
    "base = alt.Chart(df).encode(\n",
    "    alt.X(\"device:O\", axis=alt.Axis(title=\"Device\")),\n",
    "    alt.Y(\"attr_info:O\", axis=alt.Axis(title=\"Marketing channel\")),\n",
    ")\n",
    "\n",
    "# Configure heatmap\n",
    "heatmap = (\n",
    "    base.mark_rect()\n",
    "    .encode(\n",
    "        color=alt.Color(\n",
    "            \"perc:Q\",\n",
    "            scale=alt.Scale(scheme=\"viridis\"),\n",
    "            legend=alt.Legend(direction=\"horizontal\"),\n",
    "        )\n",
    "    )\n",
    "    .properties(\n",
    "        width=400, height=400, title=\"% of websessions across channel and device\"\n",
    "    )\n",
    ")\n",
    "\n",
    "# Configure text\n",
    "text = base.mark_text(baseline=\"middle\").encode(text=\"perc:Q\", color=alt.value(\"white\"))\n",
    "\n",
    "# Draw the chart\n",
    "heatmap + text"
   ],
   "outputs": [
    {
     "output_type": "execute_result",
     "data": {
      "text/plain": [
       "alt.LayerChart(...)"
      ],
      "text/html": [
       "\n",
       "<div id=\"altair-viz-5cb2add156ac4f0e918bf8b0102b409c\"></div>\n",
       "<script type=\"text/javascript\">\n",
       "  (function(spec, embedOpt){\n",
       "    const outputDiv = document.getElementById(\"altair-viz-5cb2add156ac4f0e918bf8b0102b409c\");\n",
       "    const paths = {\n",
       "      \"vega\": \"https://cdn.jsdelivr.net/npm//vega@5?noext\",\n",
       "      \"vega-lib\": \"https://cdn.jsdelivr.net/npm//vega-lib?noext\",\n",
       "      \"vega-lite\": \"https://cdn.jsdelivr.net/npm//vega-lite@4.0.2?noext\",\n",
       "      \"vega-embed\": \"https://cdn.jsdelivr.net/npm//vega-embed@6?noext\",\n",
       "    };\n",
       "\n",
       "    function loadScript(lib) {\n",
       "      return new Promise(function(resolve, reject) {\n",
       "        var s = document.createElement('script');\n",
       "        s.src = paths[lib];\n",
       "        s.async = true;\n",
       "        s.onload = () => resolve(paths[lib]);\n",
       "        s.onerror = () => reject(`Error loading script: ${paths[lib]}`);\n",
       "        document.getElementsByTagName(\"head\")[0].appendChild(s);\n",
       "      });\n",
       "    }\n",
       "\n",
       "    function showError(err) {\n",
       "      outputDiv.innerHTML = `<div class=\"error\" style=\"color:red;\">${err}</div>`;\n",
       "      throw err;\n",
       "    }\n",
       "\n",
       "    function displayChart(vegaEmbed) {\n",
       "      vegaEmbed(outputDiv, spec, embedOpt)\n",
       "        .catch(err => showError(`Javascript Error: ${err.message}<br>This usually means there's a typo in your chart specification. See the javascript console for the full traceback.`));\n",
       "    }\n",
       "\n",
       "    if(typeof define === \"function\" && define.amd) {\n",
       "      requirejs.config({paths});\n",
       "      require([\"vega-embed\"], displayChart, err => showError(`Error loading script: ${err.message}`));\n",
       "    } else if (typeof vegaEmbed === \"function\") {\n",
       "      displayChart(vegaEmbed);\n",
       "    } else {\n",
       "      loadScript(\"vega\")\n",
       "        .then(() => loadScript(\"vega-lite\"))\n",
       "        .then(() => loadScript(\"vega-embed\"))\n",
       "        .catch(showError)\n",
       "        .then(() => displayChart(vegaEmbed));\n",
       "    }\n",
       "  })({\"config\": {\"view\": {\"continuousWidth\": 400, \"continuousHeight\": 300}}, \"layer\": [{\"mark\": \"rect\", \"encoding\": {\"color\": {\"type\": \"quantitative\", \"field\": \"perc\", \"legend\": {\"direction\": \"horizontal\"}, \"scale\": {\"scheme\": \"viridis\"}}, \"x\": {\"type\": \"ordinal\", \"axis\": {\"title\": \"Device\"}, \"field\": \"device\"}, \"y\": {\"type\": \"ordinal\", \"axis\": {\"title\": \"Marketing channel\"}, \"field\": \"attr_info\"}}, \"height\": 400, \"title\": \"% of websessions across channel and device\", \"width\": 400}, {\"mark\": {\"type\": \"text\", \"baseline\": \"middle\"}, \"encoding\": {\"color\": {\"value\": \"white\"}, \"text\": {\"type\": \"quantitative\", \"field\": \"perc\"}, \"x\": {\"type\": \"ordinal\", \"axis\": {\"title\": \"Device\"}, \"field\": \"device\"}, \"y\": {\"type\": \"ordinal\", \"axis\": {\"title\": \"Marketing channel\"}, \"field\": \"attr_info\"}}}], \"data\": {\"name\": \"data-e52cd08caebd8ff627c8b642bc218bc9\"}, \"$schema\": \"https://vega.github.io/schema/vega-lite/v4.0.2.json\", \"datasets\": {\"data-e52cd08caebd8ff627c8b642bc218bc9\": [{\"device\": \"Computer\", \"attr_info\": \"SEO\", \"count\": 547566, \"group\": 1, \"total\": 5904682, \"perc\": 9.3}, {\"device\": \"Computer\", \"attr_info\": \"friend_referral\", \"count\": 5093, \"group\": 1, \"total\": 5904682, \"perc\": 0.1}, {\"device\": \"Computer\", \"attr_info\": \"no source\", \"count\": 224, \"group\": 1, \"total\": 5904682, \"perc\": 0.0}, {\"device\": \"Computer\", \"attr_info\": \"organic\", \"count\": 625085, \"group\": 1, \"total\": 5904682, \"perc\": 10.6}, {\"device\": \"Computer\", \"attr_info\": \"partnership\", \"count\": 2125, \"group\": 1, \"total\": 5904682, \"perc\": 0.0}, {\"device\": \"Computer\", \"attr_info\": \"performance\", \"count\": 760773, \"group\": 1, \"total\": 5904682, \"perc\": 12.9}, {\"device\": \"Game console\", \"attr_info\": \"SEO\", \"count\": 115, \"group\": 1, \"total\": 5904682, \"perc\": 0.0}, {\"device\": \"Game console\", \"attr_info\": \"organic\", \"count\": 35, \"group\": 1, \"total\": 5904682, \"perc\": 0.0}, {\"device\": \"Game console\", \"attr_info\": \"performance\", \"count\": 315, \"group\": 1, \"total\": 5904682, \"perc\": 0.0}, {\"device\": \"Mobile\", \"attr_info\": \"SEO\", \"count\": 436013, \"group\": 1, \"total\": 5904682, \"perc\": 7.4}, {\"device\": \"Mobile\", \"attr_info\": \"friend_referral\", \"count\": 6010, \"group\": 1, \"total\": 5904682, \"perc\": 0.1}, {\"device\": \"Mobile\", \"attr_info\": \"no source\", \"count\": 732, \"group\": 1, \"total\": 5904682, \"perc\": 0.0}, {\"device\": \"Mobile\", \"attr_info\": \"organic\", \"count\": 476230, \"group\": 1, \"total\": 5904682, \"perc\": 8.1}, {\"device\": \"Mobile\", \"attr_info\": \"partnership\", \"count\": 7847, \"group\": 1, \"total\": 5904682, \"perc\": 0.1}, {\"device\": \"Mobile\", \"attr_info\": \"performance\", \"count\": 2950048, \"group\": 1, \"total\": 5904682, \"perc\": 50.0}, {\"device\": \"Tablet\", \"attr_info\": \"SEO\", \"count\": 10103, \"group\": 1, \"total\": 5904682, \"perc\": 0.2}, {\"device\": \"Tablet\", \"attr_info\": \"friend_referral\", \"count\": 50, \"group\": 1, \"total\": 5904682, \"perc\": 0.0}, {\"device\": \"Tablet\", \"attr_info\": \"no source\", \"count\": 9, \"group\": 1, \"total\": 5904682, \"perc\": 0.0}, {\"device\": \"Tablet\", \"attr_info\": \"organic\", \"count\": 11566, \"group\": 1, \"total\": 5904682, \"perc\": 0.2}, {\"device\": \"Tablet\", \"attr_info\": \"partnership\", \"count\": 115, \"group\": 1, \"total\": 5904682, \"perc\": 0.0}, {\"device\": \"Tablet\", \"attr_info\": \"performance\", \"count\": 44559, \"group\": 1, \"total\": 5904682, \"perc\": 0.8}, {\"device\": \"Unknown\", \"attr_info\": \"SEO\", \"count\": 9, \"group\": 1, \"total\": 5904682, \"perc\": 0.0}, {\"device\": \"Unknown\", \"attr_info\": \"organic\", \"count\": 7187, \"group\": 1, \"total\": 5904682, \"perc\": 0.1}, {\"device\": \"Unknown\", \"attr_info\": \"performance\", \"count\": 12873, \"group\": 1, \"total\": 5904682, \"perc\": 0.2}]}}, {\"mode\": \"vega-lite\"});\n",
       "</script>"
      ]
     },
     "metadata": {},
     "execution_count": 6
    }
   ],
   "metadata": {}
  },
  {
   "cell_type": "code",
   "execution_count": 13,
   "source": [
    "df = pd.read_pickle(\"websessions_final.pkl\")\n",
    "\n",
    "\n",
    "df[\"count\"] = 1\n",
    "\n",
    "df = df.loc[:, [\"count\", \"device\", \"country\"]]\n",
    "\n",
    "df = df.groupby([\"device\"]).agg(\"sum\").reset_index()\n",
    "\n",
    "df[\"group\"] = 1\n",
    "df[\"total\"] = df.groupby(\"group\")[\"count\"].transform(\"sum\")\n",
    "\n",
    "\n",
    "df[\"perc\"] = 100 * df[\"count\"] / df[\"total\"]\n",
    "df[\"perc\"] = df[\"perc\"].round(1)\n",
    "\n",
    "df.head(10)"
   ],
   "outputs": [
    {
     "output_type": "execute_result",
     "data": {
      "text/plain": [
       "         device    count  group    total  perc\n",
       "0      Computer  1940866      1  5904682  32.9\n",
       "1  Game console      465      1  5904682   0.0\n",
       "2        Mobile  3876880      1  5904682  65.7\n",
       "3        Tablet    66402      1  5904682   1.1\n",
       "4       Unknown    20069      1  5904682   0.3"
      ],
      "text/html": [
       "<div>\n",
       "<style scoped>\n",
       "    .dataframe tbody tr th:only-of-type {\n",
       "        vertical-align: middle;\n",
       "    }\n",
       "\n",
       "    .dataframe tbody tr th {\n",
       "        vertical-align: top;\n",
       "    }\n",
       "\n",
       "    .dataframe thead th {\n",
       "        text-align: right;\n",
       "    }\n",
       "</style>\n",
       "<table border=\"1\" class=\"dataframe\">\n",
       "  <thead>\n",
       "    <tr style=\"text-align: right;\">\n",
       "      <th></th>\n",
       "      <th>device</th>\n",
       "      <th>count</th>\n",
       "      <th>group</th>\n",
       "      <th>total</th>\n",
       "      <th>perc</th>\n",
       "    </tr>\n",
       "  </thead>\n",
       "  <tbody>\n",
       "    <tr>\n",
       "      <th>0</th>\n",
       "      <td>Computer</td>\n",
       "      <td>1940866</td>\n",
       "      <td>1</td>\n",
       "      <td>5904682</td>\n",
       "      <td>32.9</td>\n",
       "    </tr>\n",
       "    <tr>\n",
       "      <th>1</th>\n",
       "      <td>Game console</td>\n",
       "      <td>465</td>\n",
       "      <td>1</td>\n",
       "      <td>5904682</td>\n",
       "      <td>0.0</td>\n",
       "    </tr>\n",
       "    <tr>\n",
       "      <th>2</th>\n",
       "      <td>Mobile</td>\n",
       "      <td>3876880</td>\n",
       "      <td>1</td>\n",
       "      <td>5904682</td>\n",
       "      <td>65.7</td>\n",
       "    </tr>\n",
       "    <tr>\n",
       "      <th>3</th>\n",
       "      <td>Tablet</td>\n",
       "      <td>66402</td>\n",
       "      <td>1</td>\n",
       "      <td>5904682</td>\n",
       "      <td>1.1</td>\n",
       "    </tr>\n",
       "    <tr>\n",
       "      <th>4</th>\n",
       "      <td>Unknown</td>\n",
       "      <td>20069</td>\n",
       "      <td>1</td>\n",
       "      <td>5904682</td>\n",
       "      <td>0.3</td>\n",
       "    </tr>\n",
       "  </tbody>\n",
       "</table>\n",
       "</div>"
      ]
     },
     "metadata": {},
     "execution_count": 13
    }
   ],
   "metadata": {}
  },
  {
   "cell_type": "markdown",
   "source": [
    "# length of visit"
   ],
   "metadata": {}
  },
  {
   "cell_type": "code",
   "execution_count": 7,
   "source": [
    "df = pd.read_pickle(\"websessions_final.pkl\")\n",
    "\n",
    "\n",
    "df[\"count\"] = 1\n",
    "\n",
    "df = df.loc[:, [\"count\", \"visits\", \"device\"]]\n",
    "\n",
    "df = df.groupby([\"visits\", \"device\"]).agg(\"sum\").reset_index()\n",
    "\n",
    "df[\"total\"] = df.groupby(\"device\")[\"count\"].transform(\"sum\")\n",
    "df[\"perc\"] = 100 * df[\"count\"] / df[\"total\"]\n",
    "df[\"perc\"] = df[\"perc\"].round(1)\n",
    "\n",
    "df[\"cum\"] = df.groupby(\"device\")[\"perc\"].cumsum()\n",
    "\n",
    "df = df.loc[df[\"device\"].isin([\"Computer\", \"Mobile\"])]\n",
    "df = df.loc[df[\"visits\"] < 10, :]\n",
    "\n",
    "alt.Chart(df).mark_line().encode(\n",
    "    x=alt.X(\"visits:Q\", axis=alt.Axis(title=\"Session length\")),\n",
    "    y=alt.Y(\"cum:Q\", axis=alt.Axis(title=\"Percentile\")),\n",
    "    color=\"device:N\",\n",
    ").properties(title=\"# of pages seen in session by device\")"
   ],
   "outputs": [
    {
     "output_type": "execute_result",
     "data": {
      "text/plain": [
       "alt.Chart(...)"
      ],
      "text/html": [
       "\n",
       "<div id=\"altair-viz-5a306a7ec4ff46f78f2b14b47f8a8dd9\"></div>\n",
       "<script type=\"text/javascript\">\n",
       "  (function(spec, embedOpt){\n",
       "    const outputDiv = document.getElementById(\"altair-viz-5a306a7ec4ff46f78f2b14b47f8a8dd9\");\n",
       "    const paths = {\n",
       "      \"vega\": \"https://cdn.jsdelivr.net/npm//vega@5?noext\",\n",
       "      \"vega-lib\": \"https://cdn.jsdelivr.net/npm//vega-lib?noext\",\n",
       "      \"vega-lite\": \"https://cdn.jsdelivr.net/npm//vega-lite@4.0.2?noext\",\n",
       "      \"vega-embed\": \"https://cdn.jsdelivr.net/npm//vega-embed@6?noext\",\n",
       "    };\n",
       "\n",
       "    function loadScript(lib) {\n",
       "      return new Promise(function(resolve, reject) {\n",
       "        var s = document.createElement('script');\n",
       "        s.src = paths[lib];\n",
       "        s.async = true;\n",
       "        s.onload = () => resolve(paths[lib]);\n",
       "        s.onerror = () => reject(`Error loading script: ${paths[lib]}`);\n",
       "        document.getElementsByTagName(\"head\")[0].appendChild(s);\n",
       "      });\n",
       "    }\n",
       "\n",
       "    function showError(err) {\n",
       "      outputDiv.innerHTML = `<div class=\"error\" style=\"color:red;\">${err}</div>`;\n",
       "      throw err;\n",
       "    }\n",
       "\n",
       "    function displayChart(vegaEmbed) {\n",
       "      vegaEmbed(outputDiv, spec, embedOpt)\n",
       "        .catch(err => showError(`Javascript Error: ${err.message}<br>This usually means there's a typo in your chart specification. See the javascript console for the full traceback.`));\n",
       "    }\n",
       "\n",
       "    if(typeof define === \"function\" && define.amd) {\n",
       "      requirejs.config({paths});\n",
       "      require([\"vega-embed\"], displayChart, err => showError(`Error loading script: ${err.message}`));\n",
       "    } else if (typeof vegaEmbed === \"function\") {\n",
       "      displayChart(vegaEmbed);\n",
       "    } else {\n",
       "      loadScript(\"vega\")\n",
       "        .then(() => loadScript(\"vega-lite\"))\n",
       "        .then(() => loadScript(\"vega-embed\"))\n",
       "        .catch(showError)\n",
       "        .then(() => displayChart(vegaEmbed));\n",
       "    }\n",
       "  })({\"config\": {\"view\": {\"continuousWidth\": 400, \"continuousHeight\": 300}}, \"data\": {\"name\": \"data-a83796ea2d4b6f451c839e8751f6f944\"}, \"mark\": \"line\", \"encoding\": {\"color\": {\"type\": \"nominal\", \"field\": \"device\"}, \"x\": {\"type\": \"quantitative\", \"axis\": {\"title\": \"Number of pages\"}, \"field\": \"visits\"}, \"y\": {\"type\": \"quantitative\", \"axis\": {\"title\": \"Percentile\"}, \"field\": \"cum\"}}, \"title\": \"# of pages seen in session by device\", \"$schema\": \"https://vega.github.io/schema/vega-lite/v4.0.2.json\", \"datasets\": {\"data-a83796ea2d4b6f451c839e8751f6f944\": [{\"visits\": 1, \"device\": \"Computer\", \"count\": 1409983, \"total\": 1940866, \"perc\": 72.6, \"cum\": 72.6}, {\"visits\": 1, \"device\": \"Mobile\", \"count\": 3279860, \"total\": 3876880, \"perc\": 84.6, \"cum\": 84.6}, {\"visits\": 2, \"device\": \"Computer\", \"count\": 189415, \"total\": 1940866, \"perc\": 9.8, \"cum\": 82.39999999999999}, {\"visits\": 2, \"device\": \"Mobile\", \"count\": 258969, \"total\": 3876880, \"perc\": 6.7, \"cum\": 91.3}, {\"visits\": 3, \"device\": \"Computer\", \"count\": 123101, \"total\": 1940866, \"perc\": 6.3, \"cum\": 88.69999999999999}, {\"visits\": 3, \"device\": \"Mobile\", \"count\": 153474, \"total\": 3876880, \"perc\": 4.0, \"cum\": 95.3}, {\"visits\": 4, \"device\": \"Computer\", \"count\": 75458, \"total\": 1940866, \"perc\": 3.9, \"cum\": 92.6}, {\"visits\": 4, \"device\": \"Mobile\", \"count\": 75341, \"total\": 3876880, \"perc\": 1.9, \"cum\": 97.2}, {\"visits\": 5, \"device\": \"Computer\", \"count\": 49644, \"total\": 1940866, \"perc\": 2.6, \"cum\": 95.19999999999999}, {\"visits\": 5, \"device\": \"Mobile\", \"count\": 44511, \"total\": 3876880, \"perc\": 1.1, \"cum\": 98.3}, {\"visits\": 6, \"device\": \"Computer\", \"count\": 31284, \"total\": 1940866, \"perc\": 1.6, \"cum\": 96.79999999999998}, {\"visits\": 6, \"device\": \"Mobile\", \"count\": 24476, \"total\": 3876880, \"perc\": 0.6, \"cum\": 98.89999999999999}, {\"visits\": 7, \"device\": \"Computer\", \"count\": 20312, \"total\": 1940866, \"perc\": 1.0, \"cum\": 97.79999999999998}, {\"visits\": 7, \"device\": \"Mobile\", \"count\": 14744, \"total\": 3876880, \"perc\": 0.4, \"cum\": 99.3}, {\"visits\": 8, \"device\": \"Computer\", \"count\": 13110, \"total\": 1940866, \"perc\": 0.7, \"cum\": 98.49999999999999}, {\"visits\": 8, \"device\": \"Mobile\", \"count\": 8865, \"total\": 3876880, \"perc\": 0.2, \"cum\": 99.5}, {\"visits\": 9, \"device\": \"Computer\", \"count\": 8736, \"total\": 1940866, \"perc\": 0.5, \"cum\": 98.99999999999999}, {\"visits\": 9, \"device\": \"Mobile\", \"count\": 5574, \"total\": 3876880, \"perc\": 0.1, \"cum\": 99.6}]}}, {\"mode\": \"vega-lite\"});\n",
       "</script>"
      ]
     },
     "metadata": {},
     "execution_count": 7
    }
   ],
   "metadata": {}
  },
  {
   "cell_type": "code",
   "execution_count": 9,
   "source": [
    "df = pd.read_pickle(\"websessions_final.pkl\")\n",
    "\n",
    "\n",
    "df[\"count\"] = 1\n",
    "\n",
    "df = df.loc[:, [\"count\", \"visits\", \"attr_info\"]]\n",
    "\n",
    "df = df.groupby([\"visits\", \"attr_info\"]).agg(\"sum\").reset_index()\n",
    "\n",
    "df[\"total\"] = df.groupby(\"attr_info\")[\"count\"].transform(\"sum\")\n",
    "df[\"perc\"] = 100 * df[\"count\"] / df[\"total\"]\n",
    "df[\"perc\"] = df[\"perc\"].round(1)\n",
    "\n",
    "df[\"cum\"] = df.groupby(\"attr_info\")[\"perc\"].cumsum()\n",
    "\n",
    "df = df.loc[df[\"attr_info\"].isin([\"performance\", \"organic\", \"SEO\"])]\n",
    "df = df.loc[df[\"visits\"] < 10, :]\n",
    "\n",
    "alt.Chart(df).mark_line().encode(\n",
    "    x=alt.X(\"visits:Q\", axis=alt.Axis(title=\"Session length\")),\n",
    "    y=alt.Y(\"cum:Q\", axis=alt.Axis(title=\"Percentile\")),\n",
    "    color=\"attr_info:N\",\n",
    ").properties(title=\"# of pages seen in session by channel\")"
   ],
   "outputs": [
    {
     "output_type": "execute_result",
     "data": {
      "text/plain": [
       "alt.Chart(...)"
      ],
      "text/html": [
       "\n",
       "<div id=\"altair-viz-acee104598124a419014fc4985895ad7\"></div>\n",
       "<script type=\"text/javascript\">\n",
       "  (function(spec, embedOpt){\n",
       "    const outputDiv = document.getElementById(\"altair-viz-acee104598124a419014fc4985895ad7\");\n",
       "    const paths = {\n",
       "      \"vega\": \"https://cdn.jsdelivr.net/npm//vega@5?noext\",\n",
       "      \"vega-lib\": \"https://cdn.jsdelivr.net/npm//vega-lib?noext\",\n",
       "      \"vega-lite\": \"https://cdn.jsdelivr.net/npm//vega-lite@4.0.2?noext\",\n",
       "      \"vega-embed\": \"https://cdn.jsdelivr.net/npm//vega-embed@6?noext\",\n",
       "    };\n",
       "\n",
       "    function loadScript(lib) {\n",
       "      return new Promise(function(resolve, reject) {\n",
       "        var s = document.createElement('script');\n",
       "        s.src = paths[lib];\n",
       "        s.async = true;\n",
       "        s.onload = () => resolve(paths[lib]);\n",
       "        s.onerror = () => reject(`Error loading script: ${paths[lib]}`);\n",
       "        document.getElementsByTagName(\"head\")[0].appendChild(s);\n",
       "      });\n",
       "    }\n",
       "\n",
       "    function showError(err) {\n",
       "      outputDiv.innerHTML = `<div class=\"error\" style=\"color:red;\">${err}</div>`;\n",
       "      throw err;\n",
       "    }\n",
       "\n",
       "    function displayChart(vegaEmbed) {\n",
       "      vegaEmbed(outputDiv, spec, embedOpt)\n",
       "        .catch(err => showError(`Javascript Error: ${err.message}<br>This usually means there's a typo in your chart specification. See the javascript console for the full traceback.`));\n",
       "    }\n",
       "\n",
       "    if(typeof define === \"function\" && define.amd) {\n",
       "      requirejs.config({paths});\n",
       "      require([\"vega-embed\"], displayChart, err => showError(`Error loading script: ${err.message}`));\n",
       "    } else if (typeof vegaEmbed === \"function\") {\n",
       "      displayChart(vegaEmbed);\n",
       "    } else {\n",
       "      loadScript(\"vega\")\n",
       "        .then(() => loadScript(\"vega-lite\"))\n",
       "        .then(() => loadScript(\"vega-embed\"))\n",
       "        .catch(showError)\n",
       "        .then(() => displayChart(vegaEmbed));\n",
       "    }\n",
       "  })({\"config\": {\"view\": {\"continuousWidth\": 400, \"continuousHeight\": 300}}, \"data\": {\"name\": \"data-9604e8d44669769888df1794224b1404\"}, \"mark\": \"line\", \"encoding\": {\"color\": {\"type\": \"nominal\", \"field\": \"attr_info\"}, \"x\": {\"type\": \"quantitative\", \"axis\": {\"title\": \"Number of pages\"}, \"field\": \"visits\"}, \"y\": {\"type\": \"quantitative\", \"axis\": {\"title\": \"Percentile\"}, \"field\": \"cum\"}}, \"title\": \"# of pages seen in session by channel\", \"$schema\": \"https://vega.github.io/schema/vega-lite/v4.0.2.json\", \"datasets\": {\"data-9604e8d44669769888df1794224b1404\": [{\"visits\": 1, \"attr_info\": \"SEO\", \"count\": 675814, \"total\": 993806, \"perc\": 68.0, \"cum\": 68.0}, {\"visits\": 1, \"attr_info\": \"organic\", \"count\": 906341, \"total\": 1120103, \"perc\": 80.9, \"cum\": 80.9}, {\"visits\": 1, \"attr_info\": \"performance\", \"count\": 3156857, \"total\": 3768568, \"perc\": 83.8, \"cum\": 83.8}, {\"visits\": 2, \"attr_info\": \"SEO\", \"count\": 118824, \"total\": 993806, \"perc\": 12.0, \"cum\": 80.0}, {\"visits\": 2, \"attr_info\": \"organic\", \"count\": 84602, \"total\": 1120103, \"perc\": 7.6, \"cum\": 88.5}, {\"visits\": 2, \"attr_info\": \"performance\", \"count\": 250811, \"total\": 3768568, \"perc\": 6.7, \"cum\": 90.5}, {\"visits\": 3, \"attr_info\": \"SEO\", \"count\": 78365, \"total\": 993806, \"perc\": 7.9, \"cum\": 87.9}, {\"visits\": 3, \"attr_info\": \"organic\", \"count\": 52261, \"total\": 1120103, \"perc\": 4.7, \"cum\": 93.2}, {\"visits\": 3, \"attr_info\": \"performance\", \"count\": 149747, \"total\": 3768568, \"perc\": 4.0, \"cum\": 94.5}, {\"visits\": 4, \"attr_info\": \"SEO\", \"count\": 44430, \"total\": 993806, \"perc\": 4.5, \"cum\": 92.4}, {\"visits\": 4, \"attr_info\": \"organic\", \"count\": 28891, \"total\": 1120103, \"perc\": 2.6, \"cum\": 95.8}, {\"visits\": 4, \"attr_info\": \"performance\", \"count\": 79645, \"total\": 3768568, \"perc\": 2.1, \"cum\": 96.6}, {\"visits\": 5, \"attr_info\": \"SEO\", \"count\": 28281, \"total\": 993806, \"perc\": 2.8, \"cum\": 95.2}, {\"visits\": 5, \"attr_info\": \"organic\", \"count\": 17811, \"total\": 1120103, \"perc\": 1.6, \"cum\": 97.39999999999999}, {\"visits\": 5, \"attr_info\": \"performance\", \"count\": 49478, \"total\": 3768568, \"perc\": 1.3, \"cum\": 97.89999999999999}, {\"visits\": 6, \"attr_info\": \"SEO\", \"count\": 17057, \"total\": 993806, \"perc\": 1.7, \"cum\": 96.9}, {\"visits\": 6, \"attr_info\": \"organic\", \"count\": 10614, \"total\": 1120103, \"perc\": 0.9, \"cum\": 98.3}, {\"visits\": 6, \"attr_info\": \"performance\", \"count\": 28888, \"total\": 3768568, \"perc\": 0.8, \"cum\": 98.69999999999999}, {\"visits\": 7, \"attr_info\": \"SEO\", \"count\": 10653, \"total\": 993806, \"perc\": 1.1, \"cum\": 98.0}, {\"visits\": 7, \"attr_info\": \"organic\", \"count\": 6502, \"total\": 1120103, \"perc\": 0.6, \"cum\": 98.89999999999999}, {\"visits\": 7, \"attr_info\": \"performance\", \"count\": 18431, \"total\": 3768568, \"perc\": 0.5, \"cum\": 99.19999999999999}, {\"visits\": 8, \"attr_info\": \"SEO\", \"count\": 6672, \"total\": 993806, \"perc\": 0.7, \"cum\": 98.7}, {\"visits\": 8, \"attr_info\": \"organic\", \"count\": 4184, \"total\": 1120103, \"perc\": 0.4, \"cum\": 99.3}, {\"visits\": 8, \"attr_info\": \"performance\", \"count\": 11443, \"total\": 3768568, \"perc\": 0.3, \"cum\": 99.49999999999999}, {\"visits\": 9, \"attr_info\": \"SEO\", \"count\": 4327, \"total\": 993806, \"perc\": 0.4, \"cum\": 99.10000000000001}, {\"visits\": 9, \"attr_info\": \"organic\", \"count\": 2718, \"total\": 1120103, \"perc\": 0.2, \"cum\": 99.5}, {\"visits\": 9, \"attr_info\": \"performance\", \"count\": 7485, \"total\": 3768568, \"perc\": 0.2, \"cum\": 99.69999999999999}]}}, {\"mode\": \"vega-lite\"});\n",
       "</script>"
      ]
     },
     "metadata": {},
     "execution_count": 9
    }
   ],
   "metadata": {}
  },
  {
   "cell_type": "markdown",
   "source": [
    "# Length and conversion"
   ],
   "metadata": {}
  },
  {
   "cell_type": "code",
   "execution_count": null,
   "source": [
    "df = pd.read_pickle(\"websessions_final.pkl\")\n",
    "\n",
    "df = df.loc[:, [\"cta_session\", \"visits\", \"attr_info\"]]\n",
    "\n",
    "df = df.groupby([\"attr_info\", \"visits\"]).agg(\"mean\").reset_index()\n",
    "df[\"cta_session\"] = df[\"cta_session\"] * 100\n",
    "df = df.loc[df[\"attr_info\"].isin([\"performance\", \"organic\", \"SEO\"]), :]\n",
    "df = df.loc[df[\"visits\"] < 10, :]\n",
    "\n",
    "alt.Chart(df).mark_line().encode(\n",
    "    x=alt.X(\"visits:Q\", axis=alt.Axis(title=\"Session length (pages viewed)\")),\n",
    "    y=alt.Y(\"cta_session:Q\", axis=alt.Axis(title=\"% sessions that converted to SUI\")),\n",
    "    color=\"attr_info:N\",\n",
    ").properties(title=\"# of pages seen and % of sessions that converted\")"
   ],
   "outputs": [],
   "metadata": {}
  },
  {
   "cell_type": "code",
   "execution_count": 27,
   "source": [
    "df = pd.read_pickle(\"websessions_final.pkl\")\n",
    "\n",
    "df = df.loc[:, [\"cta_session\", \"attr_info\", \"device\"]]\n",
    "\n",
    "df = df.groupby([\"attr_info\", \"device\"]).agg(\"mean\").reset_index()\n",
    "df[\"cta_session\"] = round(df[\"cta_session\"] * 100, 1)\n",
    "\n",
    "alt.Chart(df).mark_rect().encode(x=\"device:O\", y=\"attr_info:O\", color=\"cta_session:Q\")\n",
    "\n",
    "# Configure common options\n",
    "base = alt.Chart(df).encode(\n",
    "    alt.X(\"device:O\", axis=alt.Axis(title=\"Device\")),\n",
    "    alt.Y(\"attr_info:O\", axis=alt.Axis(title=\"Marketing channel\")),\n",
    ")\n",
    "\n",
    "# Configure heatmap\n",
    "heatmap = (\n",
    "    base.mark_rect()\n",
    "    .encode(\n",
    "        color=alt.Color(\n",
    "            \"cta_session:Q\",\n",
    "            scale=alt.Scale(scheme=\"viridis\"),\n",
    "            legend=alt.Legend(direction=\"horizontal\"),\n",
    "        )\n",
    "    )\n",
    "    .properties(width=400, height=400, title=\"% conversion across channel and device\")\n",
    ")\n",
    "\n",
    "# Configure text\n",
    "text = base.mark_text(baseline=\"middle\").encode(\n",
    "    text=\"cta_session:Q\", color=alt.value(\"white\")\n",
    ")\n",
    "\n",
    "# Draw the chart\n",
    "heatmap + text"
   ],
   "outputs": [
    {
     "output_type": "execute_result",
     "data": {
      "text/plain": [
       "alt.LayerChart(...)"
      ],
      "text/html": [
       "\n",
       "<div id=\"altair-viz-eace60b089054446843297c3036fcb3e\"></div>\n",
       "<script type=\"text/javascript\">\n",
       "  (function(spec, embedOpt){\n",
       "    const outputDiv = document.getElementById(\"altair-viz-eace60b089054446843297c3036fcb3e\");\n",
       "    const paths = {\n",
       "      \"vega\": \"https://cdn.jsdelivr.net/npm//vega@5?noext\",\n",
       "      \"vega-lib\": \"https://cdn.jsdelivr.net/npm//vega-lib?noext\",\n",
       "      \"vega-lite\": \"https://cdn.jsdelivr.net/npm//vega-lite@4.0.2?noext\",\n",
       "      \"vega-embed\": \"https://cdn.jsdelivr.net/npm//vega-embed@6?noext\",\n",
       "    };\n",
       "\n",
       "    function loadScript(lib) {\n",
       "      return new Promise(function(resolve, reject) {\n",
       "        var s = document.createElement('script');\n",
       "        s.src = paths[lib];\n",
       "        s.async = true;\n",
       "        s.onload = () => resolve(paths[lib]);\n",
       "        s.onerror = () => reject(`Error loading script: ${paths[lib]}`);\n",
       "        document.getElementsByTagName(\"head\")[0].appendChild(s);\n",
       "      });\n",
       "    }\n",
       "\n",
       "    function showError(err) {\n",
       "      outputDiv.innerHTML = `<div class=\"error\" style=\"color:red;\">${err}</div>`;\n",
       "      throw err;\n",
       "    }\n",
       "\n",
       "    function displayChart(vegaEmbed) {\n",
       "      vegaEmbed(outputDiv, spec, embedOpt)\n",
       "        .catch(err => showError(`Javascript Error: ${err.message}<br>This usually means there's a typo in your chart specification. See the javascript console for the full traceback.`));\n",
       "    }\n",
       "\n",
       "    if(typeof define === \"function\" && define.amd) {\n",
       "      requirejs.config({paths});\n",
       "      require([\"vega-embed\"], displayChart, err => showError(`Error loading script: ${err.message}`));\n",
       "    } else if (typeof vegaEmbed === \"function\") {\n",
       "      displayChart(vegaEmbed);\n",
       "    } else {\n",
       "      loadScript(\"vega\")\n",
       "        .then(() => loadScript(\"vega-lite\"))\n",
       "        .then(() => loadScript(\"vega-embed\"))\n",
       "        .catch(showError)\n",
       "        .then(() => displayChart(vegaEmbed));\n",
       "    }\n",
       "  })({\"config\": {\"view\": {\"continuousWidth\": 400, \"continuousHeight\": 300}}, \"layer\": [{\"mark\": \"rect\", \"encoding\": {\"color\": {\"type\": \"quantitative\", \"field\": \"cta_session\", \"legend\": {\"direction\": \"horizontal\"}, \"scale\": {\"scheme\": \"viridis\"}}, \"x\": {\"type\": \"ordinal\", \"axis\": {\"title\": \"Device\"}, \"field\": \"device\"}, \"y\": {\"type\": \"ordinal\", \"axis\": {\"title\": \"Marketing channel\"}, \"field\": \"attr_info\"}}, \"height\": 400, \"title\": \"% conversion across channel and device\", \"width\": 400}, {\"mark\": {\"type\": \"text\", \"baseline\": \"middle\"}, \"encoding\": {\"color\": {\"value\": \"white\"}, \"text\": {\"type\": \"quantitative\", \"field\": \"cta_session\"}, \"x\": {\"type\": \"ordinal\", \"axis\": {\"title\": \"Device\"}, \"field\": \"device\"}, \"y\": {\"type\": \"ordinal\", \"axis\": {\"title\": \"Marketing channel\"}, \"field\": \"attr_info\"}}}], \"data\": {\"name\": \"data-c97cb5110a9678426ab1afeda6f2d7e9\"}, \"$schema\": \"https://vega.github.io/schema/vega-lite/v4.0.2.json\", \"datasets\": {\"data-c97cb5110a9678426ab1afeda6f2d7e9\": [{\"attr_info\": \"SEO\", \"device\": \"Computer\", \"cta_session\": 4.6}, {\"attr_info\": \"SEO\", \"device\": \"Game console\", \"cta_session\": 0.0}, {\"attr_info\": \"SEO\", \"device\": \"Mobile\", \"cta_session\": 4.6}, {\"attr_info\": \"SEO\", \"device\": \"Tablet\", \"cta_session\": 4.2}, {\"attr_info\": \"SEO\", \"device\": \"Unknown\", \"cta_session\": 0.0}, {\"attr_info\": \"friend_referral\", \"device\": \"Computer\", \"cta_session\": 0.4}, {\"attr_info\": \"friend_referral\", \"device\": \"Mobile\", \"cta_session\": 0.5}, {\"attr_info\": \"friend_referral\", \"device\": \"Tablet\", \"cta_session\": 0.0}, {\"attr_info\": \"no source\", \"device\": \"Computer\", \"cta_session\": 4.5}, {\"attr_info\": \"no source\", \"device\": \"Mobile\", \"cta_session\": 2.0}, {\"attr_info\": \"no source\", \"device\": \"Tablet\", \"cta_session\": 0.0}, {\"attr_info\": \"organic\", \"device\": \"Computer\", \"cta_session\": 1.2}, {\"attr_info\": \"organic\", \"device\": \"Game console\", \"cta_session\": 2.9}, {\"attr_info\": \"organic\", \"device\": \"Mobile\", \"cta_session\": 1.7}, {\"attr_info\": \"organic\", \"device\": \"Tablet\", \"cta_session\": 1.4}, {\"attr_info\": \"organic\", \"device\": \"Unknown\", \"cta_session\": 0.0}, {\"attr_info\": \"partnership\", \"device\": \"Computer\", \"cta_session\": 10.9}, {\"attr_info\": \"partnership\", \"device\": \"Mobile\", \"cta_session\": 3.6}, {\"attr_info\": \"partnership\", \"device\": \"Tablet\", \"cta_session\": 5.2}, {\"attr_info\": \"performance\", \"device\": \"Computer\", \"cta_session\": 6.7}, {\"attr_info\": \"performance\", \"device\": \"Game console\", \"cta_session\": 2.2}, {\"attr_info\": \"performance\", \"device\": \"Mobile\", \"cta_session\": 3.7}, {\"attr_info\": \"performance\", \"device\": \"Tablet\", \"cta_session\": 3.5}, {\"attr_info\": \"performance\", \"device\": \"Unknown\", \"cta_session\": 0.0}]}}, {\"mode\": \"vega-lite\"});\n",
       "</script>"
      ]
     },
     "metadata": {},
     "execution_count": 27
    }
   ],
   "metadata": {}
  },
  {
   "cell_type": "markdown",
   "source": [
    "# correlation of web pages "
   ],
   "metadata": {}
  },
  {
   "cell_type": "code",
   "execution_count": 44,
   "source": [
    "import re\n",
    "from scipy.spatial.distance import cdist, jaccard, squareform\n",
    "import pandas as pd\n",
    "from sklearn.metrics import pairwise_distances\n",
    "import numpy as np\n",
    "\n",
    "df = pd.read_pickle(\"websessions_final.pkl\")\n",
    "# drop sessions that are only one page view.\n",
    "df = df.loc[df[\"visits\"] > 1, :]\n",
    "\n",
    "\n",
    "# select the visit columns\n",
    "visit_cols = [col for col in df.columns if re.match(\"visits [a-z]+\", col)]\n",
    "X = df.loc[:, visit_cols]\n",
    "\n",
    "# now move data to 0 / 1\n",
    "X[X != 0] = 1"
   ],
   "outputs": [],
   "metadata": {}
  },
  {
   "cell_type": "code",
   "execution_count": null,
   "source": [
    "# implement jacard similarity"
   ],
   "outputs": [],
   "metadata": {}
  },
  {
   "cell_type": "code",
   "execution_count": 47,
   "source": [
    "sim = 1 - pairwise_distances(X.T.to_numpy(), metric=\"jaccard\")\n",
    "\n",
    "sim = pd.DataFrame(sim, columns=visit_cols, index=visit_cols).reset_index()\n",
    "\n",
    "# melt it to long\n",
    "\n",
    "sim = pd.melt(sim, id_vars=[\"index\"])"
   ],
   "outputs": [
    {
     "output_type": "stream",
     "name": "stderr",
     "text": [
      "/usr/local/lib/python3.7/site-packages/sklearn/metrics/pairwise.py:1738: DataConversionWarning: Data was converted to boolean for metric jaccard\n",
      "  warnings.warn(msg, DataConversionWarning)\n"
     ]
    },
    {
     "output_type": "execute_result",
     "data": {
      "text/plain": [
       "                        index            variable     value\n",
       "0          visits accountPage  visits accountPage  1.000000\n",
       "1         visits applepayPage  visits accountPage  0.012747\n",
       "2  visits businessAccountPage  visits accountPage  0.104443\n",
       "3      visits businessYouPage  visits accountPage  0.012345\n",
       "4               visits cash26  visits accountPage  0.010159"
      ],
      "text/html": [
       "<div>\n",
       "<style scoped>\n",
       "    .dataframe tbody tr th:only-of-type {\n",
       "        vertical-align: middle;\n",
       "    }\n",
       "\n",
       "    .dataframe tbody tr th {\n",
       "        vertical-align: top;\n",
       "    }\n",
       "\n",
       "    .dataframe thead th {\n",
       "        text-align: right;\n",
       "    }\n",
       "</style>\n",
       "<table border=\"1\" class=\"dataframe\">\n",
       "  <thead>\n",
       "    <tr style=\"text-align: right;\">\n",
       "      <th></th>\n",
       "      <th>index</th>\n",
       "      <th>variable</th>\n",
       "      <th>value</th>\n",
       "    </tr>\n",
       "  </thead>\n",
       "  <tbody>\n",
       "    <tr>\n",
       "      <th>0</th>\n",
       "      <td>visits accountPage</td>\n",
       "      <td>visits accountPage</td>\n",
       "      <td>1.000000</td>\n",
       "    </tr>\n",
       "    <tr>\n",
       "      <th>1</th>\n",
       "      <td>visits applepayPage</td>\n",
       "      <td>visits accountPage</td>\n",
       "      <td>0.012747</td>\n",
       "    </tr>\n",
       "    <tr>\n",
       "      <th>2</th>\n",
       "      <td>visits businessAccountPage</td>\n",
       "      <td>visits accountPage</td>\n",
       "      <td>0.104443</td>\n",
       "    </tr>\n",
       "    <tr>\n",
       "      <th>3</th>\n",
       "      <td>visits businessYouPage</td>\n",
       "      <td>visits accountPage</td>\n",
       "      <td>0.012345</td>\n",
       "    </tr>\n",
       "    <tr>\n",
       "      <th>4</th>\n",
       "      <td>visits cash26</td>\n",
       "      <td>visits accountPage</td>\n",
       "      <td>0.010159</td>\n",
       "    </tr>\n",
       "  </tbody>\n",
       "</table>\n",
       "</div>"
      ]
     },
     "metadata": {},
     "execution_count": 47
    }
   ],
   "metadata": {}
  },
  {
   "cell_type": "code",
   "execution_count": 53,
   "source": [
    "sim.shape"
   ],
   "outputs": [
    {
     "output_type": "execute_result",
     "data": {
      "text/plain": [
       "(256, 3)"
      ]
     },
     "metadata": {},
     "execution_count": 53
    }
   ],
   "metadata": {}
  },
  {
   "cell_type": "code",
   "execution_count": 56,
   "source": [
    "sim[\"value\"] = sim[\"value\"].round(2)\n",
    "alt.Chart(sim).mark_rect().encode(x=\"index:O\", y=\"variable:O\", color=\"value:Q\")\n",
    "\n",
    "# Configure common options\n",
    "base = alt.Chart(sim).encode(\n",
    "    alt.X(\"index:O\", axis=alt.Axis(title=\"Page\")),\n",
    "    alt.Y(\"variable:O\", axis=alt.Axis(title=\"Page\")),\n",
    ")\n",
    "\n",
    "# Configure heatmap\n",
    "heatmap = (\n",
    "    base.mark_rect()\n",
    "    .encode(\n",
    "        color=alt.Color(\n",
    "            \"value:Q\",\n",
    "            scale=alt.Scale(scheme=\"viridis\"),\n",
    "            legend=alt.Legend(direction=\"horizontal\"),\n",
    "        )\n",
    "    )\n",
    "    .properties(\n",
    "        width=400, height=400, title=\"Jaccard distance (correlation) across pages\"\n",
    "    )\n",
    ")\n",
    "\n",
    "# Configure text\n",
    "text = base.mark_text(baseline=\"middle\").encode(\n",
    "    text=\"value:Q\", color=alt.value(\"white\")\n",
    ")\n",
    "\n",
    "# Draw the chart\n",
    "heatmap + text"
   ],
   "outputs": [
    {
     "output_type": "execute_result",
     "data": {
      "text/plain": [
       "alt.LayerChart(...)"
      ],
      "text/html": [
       "\n",
       "<div id=\"altair-viz-4d6b6601491c41d5a52f8c1d5c3df616\"></div>\n",
       "<script type=\"text/javascript\">\n",
       "  (function(spec, embedOpt){\n",
       "    const outputDiv = document.getElementById(\"altair-viz-4d6b6601491c41d5a52f8c1d5c3df616\");\n",
       "    const paths = {\n",
       "      \"vega\": \"https://cdn.jsdelivr.net/npm//vega@5?noext\",\n",
       "      \"vega-lib\": \"https://cdn.jsdelivr.net/npm//vega-lib?noext\",\n",
       "      \"vega-lite\": \"https://cdn.jsdelivr.net/npm//vega-lite@4.0.2?noext\",\n",
       "      \"vega-embed\": \"https://cdn.jsdelivr.net/npm//vega-embed@6?noext\",\n",
       "    };\n",
       "\n",
       "    function loadScript(lib) {\n",
       "      return new Promise(function(resolve, reject) {\n",
       "        var s = document.createElement('script');\n",
       "        s.src = paths[lib];\n",
       "        s.async = true;\n",
       "        s.onload = () => resolve(paths[lib]);\n",
       "        s.onerror = () => reject(`Error loading script: ${paths[lib]}`);\n",
       "        document.getElementsByTagName(\"head\")[0].appendChild(s);\n",
       "      });\n",
       "    }\n",
       "\n",
       "    function showError(err) {\n",
       "      outputDiv.innerHTML = `<div class=\"error\" style=\"color:red;\">${err}</div>`;\n",
       "      throw err;\n",
       "    }\n",
       "\n",
       "    function displayChart(vegaEmbed) {\n",
       "      vegaEmbed(outputDiv, spec, embedOpt)\n",
       "        .catch(err => showError(`Javascript Error: ${err.message}<br>This usually means there's a typo in your chart specification. See the javascript console for the full traceback.`));\n",
       "    }\n",
       "\n",
       "    if(typeof define === \"function\" && define.amd) {\n",
       "      requirejs.config({paths});\n",
       "      require([\"vega-embed\"], displayChart, err => showError(`Error loading script: ${err.message}`));\n",
       "    } else if (typeof vegaEmbed === \"function\") {\n",
       "      displayChart(vegaEmbed);\n",
       "    } else {\n",
       "      loadScript(\"vega\")\n",
       "        .then(() => loadScript(\"vega-lite\"))\n",
       "        .then(() => loadScript(\"vega-embed\"))\n",
       "        .catch(showError)\n",
       "        .then(() => displayChart(vegaEmbed));\n",
       "    }\n",
       "  })({\"config\": {\"view\": {\"continuousWidth\": 400, \"continuousHeight\": 300}}, \"layer\": [{\"mark\": \"rect\", \"encoding\": {\"color\": {\"type\": \"quantitative\", \"field\": \"value\", \"legend\": {\"direction\": \"horizontal\"}, \"scale\": {\"scheme\": \"viridis\"}}, \"x\": {\"type\": \"ordinal\", \"axis\": {\"title\": \"Page\"}, \"field\": \"index\"}, \"y\": {\"type\": \"ordinal\", \"axis\": {\"title\": \"Page\"}, \"field\": \"variable\"}}, \"height\": 400, \"title\": \"Jaccard distance (correlation) across pages\", \"width\": 400}, {\"mark\": {\"type\": \"text\", \"baseline\": \"middle\"}, \"encoding\": {\"color\": {\"value\": \"white\"}, \"text\": {\"type\": \"quantitative\", \"field\": \"value\"}, \"x\": {\"type\": \"ordinal\", \"axis\": {\"title\": \"Page\"}, \"field\": \"index\"}, \"y\": {\"type\": \"ordinal\", \"axis\": {\"title\": \"Page\"}, \"field\": \"variable\"}}}], \"data\": {\"name\": \"data-5359fb2197528a169937db8da52b4865\"}, \"$schema\": \"https://vega.github.io/schema/vega-lite/v4.0.2.json\", \"datasets\": {\"data-5359fb2197528a169937db8da52b4865\": [{\"index\": \"visits accountPage\", \"variable\": \"visits accountPage\", \"value\": 1.0}, {\"index\": \"visits applepayPage\", \"variable\": \"visits accountPage\", \"value\": 0.0}, {\"index\": \"visits businessAccountPage\", \"variable\": \"visits accountPage\", \"value\": 0.1}, {\"index\": \"visits businessYouPage\", \"variable\": \"visits accountPage\", \"value\": 0.0}, {\"index\": \"visits cash26\", \"variable\": \"visits accountPage\", \"value\": 0.0}, {\"index\": \"visits creditPage\", \"variable\": \"visits accountPage\", \"value\": 0.0}, {\"index\": \"visits googlepayPage\", \"variable\": \"visits accountPage\", \"value\": 0.0}, {\"index\": \"visits homepage\", \"variable\": \"visits accountPage\", \"value\": 0.4}, {\"index\": \"visits insurancePage\", \"variable\": \"visits accountPage\", \"value\": 0.0}, {\"index\": \"visits metalAccountPage\", \"variable\": \"visits accountPage\", \"value\": 0.1}, {\"index\": \"visits overdraftPage\", \"variable\": \"visits accountPage\", \"value\": 0.0}, {\"index\": \"visits plansPage\", \"variable\": \"visits accountPage\", \"value\": 0.3}, {\"index\": \"visits savingsPage\", \"variable\": \"visits accountPage\", \"value\": 0.0}, {\"index\": \"visits sharedspacespage\", \"variable\": \"visits accountPage\", \"value\": 0.0}, {\"index\": \"visits spaces\", \"variable\": \"visits accountPage\", \"value\": 0.0}, {\"index\": \"visits youaccountpage\", \"variable\": \"visits accountPage\", \"value\": 0.2}, {\"index\": \"visits accountPage\", \"variable\": \"visits applepayPage\", \"value\": 0.0}, {\"index\": \"visits applepayPage\", \"variable\": \"visits applepayPage\", \"value\": 1.0}, {\"index\": \"visits businessAccountPage\", \"variable\": \"visits applepayPage\", \"value\": 0.0}, {\"index\": \"visits businessYouPage\", \"variable\": \"visits applepayPage\", \"value\": 0.0}, {\"index\": \"visits cash26\", \"variable\": \"visits applepayPage\", \"value\": 0.0}, {\"index\": \"visits creditPage\", \"variable\": \"visits applepayPage\", \"value\": 0.0}, {\"index\": \"visits googlepayPage\", \"variable\": \"visits applepayPage\", \"value\": 0.0}, {\"index\": \"visits homepage\", \"variable\": \"visits applepayPage\", \"value\": 0.0}, {\"index\": \"visits insurancePage\", \"variable\": \"visits applepayPage\", \"value\": 0.0}, {\"index\": \"visits metalAccountPage\", \"variable\": \"visits applepayPage\", \"value\": 0.0}, {\"index\": \"visits overdraftPage\", \"variable\": \"visits applepayPage\", \"value\": 0.0}, {\"index\": \"visits plansPage\", \"variable\": \"visits applepayPage\", \"value\": 0.0}, {\"index\": \"visits savingsPage\", \"variable\": \"visits applepayPage\", \"value\": 0.0}, {\"index\": \"visits sharedspacespage\", \"variable\": \"visits applepayPage\", \"value\": 0.0}, {\"index\": \"visits spaces\", \"variable\": \"visits applepayPage\", \"value\": 0.0}, {\"index\": \"visits youaccountpage\", \"variable\": \"visits applepayPage\", \"value\": 0.0}, {\"index\": \"visits accountPage\", \"variable\": \"visits businessAccountPage\", \"value\": 0.1}, {\"index\": \"visits applepayPage\", \"variable\": \"visits businessAccountPage\", \"value\": 0.0}, {\"index\": \"visits businessAccountPage\", \"variable\": \"visits businessAccountPage\", \"value\": 1.0}, {\"index\": \"visits businessYouPage\", \"variable\": \"visits businessAccountPage\", \"value\": 0.1}, {\"index\": \"visits cash26\", \"variable\": \"visits businessAccountPage\", \"value\": 0.0}, {\"index\": \"visits creditPage\", \"variable\": \"visits businessAccountPage\", \"value\": 0.0}, {\"index\": \"visits googlepayPage\", \"variable\": \"visits businessAccountPage\", \"value\": 0.0}, {\"index\": \"visits homepage\", \"variable\": \"visits businessAccountPage\", \"value\": 0.1}, {\"index\": \"visits insurancePage\", \"variable\": \"visits businessAccountPage\", \"value\": 0.0}, {\"index\": \"visits metalAccountPage\", \"variable\": \"visits businessAccountPage\", \"value\": 0.1}, {\"index\": \"visits overdraftPage\", \"variable\": \"visits businessAccountPage\", \"value\": 0.0}, {\"index\": \"visits plansPage\", \"variable\": \"visits businessAccountPage\", \"value\": 0.1}, {\"index\": \"visits savingsPage\", \"variable\": \"visits businessAccountPage\", \"value\": 0.0}, {\"index\": \"visits sharedspacespage\", \"variable\": \"visits businessAccountPage\", \"value\": 0.0}, {\"index\": \"visits spaces\", \"variable\": \"visits businessAccountPage\", \"value\": 0.0}, {\"index\": \"visits youaccountpage\", \"variable\": \"visits businessAccountPage\", \"value\": 0.1}, {\"index\": \"visits accountPage\", \"variable\": \"visits businessYouPage\", \"value\": 0.0}, {\"index\": \"visits applepayPage\", \"variable\": \"visits businessYouPage\", \"value\": 0.0}, {\"index\": \"visits businessAccountPage\", \"variable\": \"visits businessYouPage\", \"value\": 0.1}, {\"index\": \"visits businessYouPage\", \"variable\": \"visits businessYouPage\", \"value\": 1.0}, {\"index\": \"visits cash26\", \"variable\": \"visits businessYouPage\", \"value\": 0.0}, {\"index\": \"visits creditPage\", \"variable\": \"visits businessYouPage\", \"value\": 0.0}, {\"index\": \"visits googlepayPage\", \"variable\": \"visits businessYouPage\", \"value\": 0.0}, {\"index\": \"visits homepage\", \"variable\": \"visits businessYouPage\", \"value\": 0.0}, {\"index\": \"visits insurancePage\", \"variable\": \"visits businessYouPage\", \"value\": 0.0}, {\"index\": \"visits metalAccountPage\", \"variable\": \"visits businessYouPage\", \"value\": 0.0}, {\"index\": \"visits overdraftPage\", \"variable\": \"visits businessYouPage\", \"value\": 0.0}, {\"index\": \"visits plansPage\", \"variable\": \"visits businessYouPage\", \"value\": 0.0}, {\"index\": \"visits savingsPage\", \"variable\": \"visits businessYouPage\", \"value\": 0.0}, {\"index\": \"visits sharedspacespage\", \"variable\": \"visits businessYouPage\", \"value\": 0.0}, {\"index\": \"visits spaces\", \"variable\": \"visits businessYouPage\", \"value\": 0.0}, {\"index\": \"visits youaccountpage\", \"variable\": \"visits businessYouPage\", \"value\": 0.0}, {\"index\": \"visits accountPage\", \"variable\": \"visits cash26\", \"value\": 0.0}, {\"index\": \"visits applepayPage\", \"variable\": \"visits cash26\", \"value\": 0.0}, {\"index\": \"visits businessAccountPage\", \"variable\": \"visits cash26\", \"value\": 0.0}, {\"index\": \"visits businessYouPage\", \"variable\": \"visits cash26\", \"value\": 0.0}, {\"index\": \"visits cash26\", \"variable\": \"visits cash26\", \"value\": 1.0}, {\"index\": \"visits creditPage\", \"variable\": \"visits cash26\", \"value\": 0.0}, {\"index\": \"visits googlepayPage\", \"variable\": \"visits cash26\", \"value\": 0.0}, {\"index\": \"visits homepage\", \"variable\": \"visits cash26\", \"value\": 0.0}, {\"index\": \"visits insurancePage\", \"variable\": \"visits cash26\", \"value\": 0.0}, {\"index\": \"visits metalAccountPage\", \"variable\": \"visits cash26\", \"value\": 0.0}, {\"index\": \"visits overdraftPage\", \"variable\": \"visits cash26\", \"value\": 0.1}, {\"index\": \"visits plansPage\", \"variable\": \"visits cash26\", \"value\": 0.0}, {\"index\": \"visits savingsPage\", \"variable\": \"visits cash26\", \"value\": 0.1}, {\"index\": \"visits sharedspacespage\", \"variable\": \"visits cash26\", \"value\": 0.0}, {\"index\": \"visits spaces\", \"variable\": \"visits cash26\", \"value\": 0.0}, {\"index\": \"visits youaccountpage\", \"variable\": \"visits cash26\", \"value\": 0.0}, {\"index\": \"visits accountPage\", \"variable\": \"visits creditPage\", \"value\": 0.0}, {\"index\": \"visits applepayPage\", \"variable\": \"visits creditPage\", \"value\": 0.0}, {\"index\": \"visits businessAccountPage\", \"variable\": \"visits creditPage\", \"value\": 0.0}, {\"index\": \"visits businessYouPage\", \"variable\": \"visits creditPage\", \"value\": 0.0}, {\"index\": \"visits cash26\", \"variable\": \"visits creditPage\", \"value\": 0.0}, {\"index\": \"visits creditPage\", \"variable\": \"visits creditPage\", \"value\": 1.0}, {\"index\": \"visits googlepayPage\", \"variable\": \"visits creditPage\", \"value\": 0.0}, {\"index\": \"visits homepage\", \"variable\": \"visits creditPage\", \"value\": 0.0}, {\"index\": \"visits insurancePage\", \"variable\": \"visits creditPage\", \"value\": 0.0}, {\"index\": \"visits metalAccountPage\", \"variable\": \"visits creditPage\", \"value\": 0.0}, {\"index\": \"visits overdraftPage\", \"variable\": \"visits creditPage\", \"value\": 0.1}, {\"index\": \"visits plansPage\", \"variable\": \"visits creditPage\", \"value\": 0.0}, {\"index\": \"visits savingsPage\", \"variable\": \"visits creditPage\", \"value\": 0.0}, {\"index\": \"visits sharedspacespage\", \"variable\": \"visits creditPage\", \"value\": 0.0}, {\"index\": \"visits spaces\", \"variable\": \"visits creditPage\", \"value\": 0.0}, {\"index\": \"visits youaccountpage\", \"variable\": \"visits creditPage\", \"value\": 0.0}, {\"index\": \"visits accountPage\", \"variable\": \"visits googlepayPage\", \"value\": 0.0}, {\"index\": \"visits applepayPage\", \"variable\": \"visits googlepayPage\", \"value\": 0.0}, {\"index\": \"visits businessAccountPage\", \"variable\": \"visits googlepayPage\", \"value\": 0.0}, {\"index\": \"visits businessYouPage\", \"variable\": \"visits googlepayPage\", \"value\": 0.0}, {\"index\": \"visits cash26\", \"variable\": \"visits googlepayPage\", \"value\": 0.0}, {\"index\": \"visits creditPage\", \"variable\": \"visits googlepayPage\", \"value\": 0.0}, {\"index\": \"visits googlepayPage\", \"variable\": \"visits googlepayPage\", \"value\": 1.0}, {\"index\": \"visits homepage\", \"variable\": \"visits googlepayPage\", \"value\": 0.0}, {\"index\": \"visits insurancePage\", \"variable\": \"visits googlepayPage\", \"value\": 0.0}, {\"index\": \"visits metalAccountPage\", \"variable\": \"visits googlepayPage\", \"value\": 0.0}, {\"index\": \"visits overdraftPage\", \"variable\": \"visits googlepayPage\", \"value\": 0.0}, {\"index\": \"visits plansPage\", \"variable\": \"visits googlepayPage\", \"value\": 0.0}, {\"index\": \"visits savingsPage\", \"variable\": \"visits googlepayPage\", \"value\": 0.0}, {\"index\": \"visits sharedspacespage\", \"variable\": \"visits googlepayPage\", \"value\": 0.0}, {\"index\": \"visits spaces\", \"variable\": \"visits googlepayPage\", \"value\": 0.0}, {\"index\": \"visits youaccountpage\", \"variable\": \"visits googlepayPage\", \"value\": 0.0}, {\"index\": \"visits accountPage\", \"variable\": \"visits homepage\", \"value\": 0.4}, {\"index\": \"visits applepayPage\", \"variable\": \"visits homepage\", \"value\": 0.0}, {\"index\": \"visits businessAccountPage\", \"variable\": \"visits homepage\", \"value\": 0.1}, {\"index\": \"visits businessYouPage\", \"variable\": \"visits homepage\", \"value\": 0.0}, {\"index\": \"visits cash26\", \"variable\": \"visits homepage\", \"value\": 0.0}, {\"index\": \"visits creditPage\", \"variable\": \"visits homepage\", \"value\": 0.0}, {\"index\": \"visits googlepayPage\", \"variable\": \"visits homepage\", \"value\": 0.0}, {\"index\": \"visits homepage\", \"variable\": \"visits homepage\", \"value\": 1.0}, {\"index\": \"visits insurancePage\", \"variable\": \"visits homepage\", \"value\": 0.0}, {\"index\": \"visits metalAccountPage\", \"variable\": \"visits homepage\", \"value\": 0.1}, {\"index\": \"visits overdraftPage\", \"variable\": \"visits homepage\", \"value\": 0.0}, {\"index\": \"visits plansPage\", \"variable\": \"visits homepage\", \"value\": 0.3}, {\"index\": \"visits savingsPage\", \"variable\": \"visits homepage\", \"value\": 0.0}, {\"index\": \"visits sharedspacespage\", \"variable\": \"visits homepage\", \"value\": 0.0}, {\"index\": \"visits spaces\", \"variable\": \"visits homepage\", \"value\": 0.0}, {\"index\": \"visits youaccountpage\", \"variable\": \"visits homepage\", \"value\": 0.2}, {\"index\": \"visits accountPage\", \"variable\": \"visits insurancePage\", \"value\": 0.0}, {\"index\": \"visits applepayPage\", \"variable\": \"visits insurancePage\", \"value\": 0.0}, {\"index\": \"visits businessAccountPage\", \"variable\": \"visits insurancePage\", \"value\": 0.0}, {\"index\": \"visits businessYouPage\", \"variable\": \"visits insurancePage\", \"value\": 0.0}, {\"index\": \"visits cash26\", \"variable\": \"visits insurancePage\", \"value\": 0.0}, {\"index\": \"visits creditPage\", \"variable\": \"visits insurancePage\", \"value\": 0.0}, {\"index\": \"visits googlepayPage\", \"variable\": \"visits insurancePage\", \"value\": 0.0}, {\"index\": \"visits homepage\", \"variable\": \"visits insurancePage\", \"value\": 0.0}, {\"index\": \"visits insurancePage\", \"variable\": \"visits insurancePage\", \"value\": 1.0}, {\"index\": \"visits metalAccountPage\", \"variable\": \"visits insurancePage\", \"value\": 0.0}, {\"index\": \"visits overdraftPage\", \"variable\": \"visits insurancePage\", \"value\": 0.0}, {\"index\": \"visits plansPage\", \"variable\": \"visits insurancePage\", \"value\": 0.0}, {\"index\": \"visits savingsPage\", \"variable\": \"visits insurancePage\", \"value\": 0.1}, {\"index\": \"visits sharedspacespage\", \"variable\": \"visits insurancePage\", \"value\": 0.0}, {\"index\": \"visits spaces\", \"variable\": \"visits insurancePage\", \"value\": 0.0}, {\"index\": \"visits youaccountpage\", \"variable\": \"visits insurancePage\", \"value\": 0.0}, {\"index\": \"visits accountPage\", \"variable\": \"visits metalAccountPage\", \"value\": 0.1}, {\"index\": \"visits applepayPage\", \"variable\": \"visits metalAccountPage\", \"value\": 0.0}, {\"index\": \"visits businessAccountPage\", \"variable\": \"visits metalAccountPage\", \"value\": 0.1}, {\"index\": \"visits businessYouPage\", \"variable\": \"visits metalAccountPage\", \"value\": 0.0}, {\"index\": \"visits cash26\", \"variable\": \"visits metalAccountPage\", \"value\": 0.0}, {\"index\": \"visits creditPage\", \"variable\": \"visits metalAccountPage\", \"value\": 0.0}, {\"index\": \"visits googlepayPage\", \"variable\": \"visits metalAccountPage\", \"value\": 0.0}, {\"index\": \"visits homepage\", \"variable\": \"visits metalAccountPage\", \"value\": 0.1}, {\"index\": \"visits insurancePage\", \"variable\": \"visits metalAccountPage\", \"value\": 0.0}, {\"index\": \"visits metalAccountPage\", \"variable\": \"visits metalAccountPage\", \"value\": 1.0}, {\"index\": \"visits overdraftPage\", \"variable\": \"visits metalAccountPage\", \"value\": 0.0}, {\"index\": \"visits plansPage\", \"variable\": \"visits metalAccountPage\", \"value\": 0.2}, {\"index\": \"visits savingsPage\", \"variable\": \"visits metalAccountPage\", \"value\": 0.0}, {\"index\": \"visits sharedspacespage\", \"variable\": \"visits metalAccountPage\", \"value\": 0.0}, {\"index\": \"visits spaces\", \"variable\": \"visits metalAccountPage\", \"value\": 0.0}, {\"index\": \"visits youaccountpage\", \"variable\": \"visits metalAccountPage\", \"value\": 0.2}, {\"index\": \"visits accountPage\", \"variable\": \"visits overdraftPage\", \"value\": 0.0}, {\"index\": \"visits applepayPage\", \"variable\": \"visits overdraftPage\", \"value\": 0.0}, {\"index\": \"visits businessAccountPage\", \"variable\": \"visits overdraftPage\", \"value\": 0.0}, {\"index\": \"visits businessYouPage\", \"variable\": \"visits overdraftPage\", \"value\": 0.0}, {\"index\": \"visits cash26\", \"variable\": \"visits overdraftPage\", \"value\": 0.1}, {\"index\": \"visits creditPage\", \"variable\": \"visits overdraftPage\", \"value\": 0.1}, {\"index\": \"visits googlepayPage\", \"variable\": \"visits overdraftPage\", \"value\": 0.0}, {\"index\": \"visits homepage\", \"variable\": \"visits overdraftPage\", \"value\": 0.0}, {\"index\": \"visits insurancePage\", \"variable\": \"visits overdraftPage\", \"value\": 0.0}, {\"index\": \"visits metalAccountPage\", \"variable\": \"visits overdraftPage\", \"value\": 0.0}, {\"index\": \"visits overdraftPage\", \"variable\": \"visits overdraftPage\", \"value\": 1.0}, {\"index\": \"visits plansPage\", \"variable\": \"visits overdraftPage\", \"value\": 0.0}, {\"index\": \"visits savingsPage\", \"variable\": \"visits overdraftPage\", \"value\": 0.0}, {\"index\": \"visits sharedspacespage\", \"variable\": \"visits overdraftPage\", \"value\": 0.0}, {\"index\": \"visits spaces\", \"variable\": \"visits overdraftPage\", \"value\": 0.0}, {\"index\": \"visits youaccountpage\", \"variable\": \"visits overdraftPage\", \"value\": 0.0}, {\"index\": \"visits accountPage\", \"variable\": \"visits plansPage\", \"value\": 0.3}, {\"index\": \"visits applepayPage\", \"variable\": \"visits plansPage\", \"value\": 0.0}, {\"index\": \"visits businessAccountPage\", \"variable\": \"visits plansPage\", \"value\": 0.1}, {\"index\": \"visits businessYouPage\", \"variable\": \"visits plansPage\", \"value\": 0.0}, {\"index\": \"visits cash26\", \"variable\": \"visits plansPage\", \"value\": 0.0}, {\"index\": \"visits creditPage\", \"variable\": \"visits plansPage\", \"value\": 0.0}, {\"index\": \"visits googlepayPage\", \"variable\": \"visits plansPage\", \"value\": 0.0}, {\"index\": \"visits homepage\", \"variable\": \"visits plansPage\", \"value\": 0.3}, {\"index\": \"visits insurancePage\", \"variable\": \"visits plansPage\", \"value\": 0.0}, {\"index\": \"visits metalAccountPage\", \"variable\": \"visits plansPage\", \"value\": 0.2}, {\"index\": \"visits overdraftPage\", \"variable\": \"visits plansPage\", \"value\": 0.0}, {\"index\": \"visits plansPage\", \"variable\": \"visits plansPage\", \"value\": 1.0}, {\"index\": \"visits savingsPage\", \"variable\": \"visits plansPage\", \"value\": 0.0}, {\"index\": \"visits sharedspacespage\", \"variable\": \"visits plansPage\", \"value\": 0.0}, {\"index\": \"visits spaces\", \"variable\": \"visits plansPage\", \"value\": 0.0}, {\"index\": \"visits youaccountpage\", \"variable\": \"visits plansPage\", \"value\": 0.2}, {\"index\": \"visits accountPage\", \"variable\": \"visits savingsPage\", \"value\": 0.0}, {\"index\": \"visits applepayPage\", \"variable\": \"visits savingsPage\", \"value\": 0.0}, {\"index\": \"visits businessAccountPage\", \"variable\": \"visits savingsPage\", \"value\": 0.0}, {\"index\": \"visits businessYouPage\", \"variable\": \"visits savingsPage\", \"value\": 0.0}, {\"index\": \"visits cash26\", \"variable\": \"visits savingsPage\", \"value\": 0.1}, {\"index\": \"visits creditPage\", \"variable\": \"visits savingsPage\", \"value\": 0.0}, {\"index\": \"visits googlepayPage\", \"variable\": \"visits savingsPage\", \"value\": 0.0}, {\"index\": \"visits homepage\", \"variable\": \"visits savingsPage\", \"value\": 0.0}, {\"index\": \"visits insurancePage\", \"variable\": \"visits savingsPage\", \"value\": 0.1}, {\"index\": \"visits metalAccountPage\", \"variable\": \"visits savingsPage\", \"value\": 0.0}, {\"index\": \"visits overdraftPage\", \"variable\": \"visits savingsPage\", \"value\": 0.0}, {\"index\": \"visits plansPage\", \"variable\": \"visits savingsPage\", \"value\": 0.0}, {\"index\": \"visits savingsPage\", \"variable\": \"visits savingsPage\", \"value\": 1.0}, {\"index\": \"visits sharedspacespage\", \"variable\": \"visits savingsPage\", \"value\": 0.0}, {\"index\": \"visits spaces\", \"variable\": \"visits savingsPage\", \"value\": 0.0}, {\"index\": \"visits youaccountpage\", \"variable\": \"visits savingsPage\", \"value\": 0.0}, {\"index\": \"visits accountPage\", \"variable\": \"visits sharedspacespage\", \"value\": 0.0}, {\"index\": \"visits applepayPage\", \"variable\": \"visits sharedspacespage\", \"value\": 0.0}, {\"index\": \"visits businessAccountPage\", \"variable\": \"visits sharedspacespage\", \"value\": 0.0}, {\"index\": \"visits businessYouPage\", \"variable\": \"visits sharedspacespage\", \"value\": 0.0}, {\"index\": \"visits cash26\", \"variable\": \"visits sharedspacespage\", \"value\": 0.0}, {\"index\": \"visits creditPage\", \"variable\": \"visits sharedspacespage\", \"value\": 0.0}, {\"index\": \"visits googlepayPage\", \"variable\": \"visits sharedspacespage\", \"value\": 0.0}, {\"index\": \"visits homepage\", \"variable\": \"visits sharedspacespage\", \"value\": 0.0}, {\"index\": \"visits insurancePage\", \"variable\": \"visits sharedspacespage\", \"value\": 0.0}, {\"index\": \"visits metalAccountPage\", \"variable\": \"visits sharedspacespage\", \"value\": 0.0}, {\"index\": \"visits overdraftPage\", \"variable\": \"visits sharedspacespage\", \"value\": 0.0}, {\"index\": \"visits plansPage\", \"variable\": \"visits sharedspacespage\", \"value\": 0.0}, {\"index\": \"visits savingsPage\", \"variable\": \"visits sharedspacespage\", \"value\": 0.0}, {\"index\": \"visits sharedspacespage\", \"variable\": \"visits sharedspacespage\", \"value\": 1.0}, {\"index\": \"visits spaces\", \"variable\": \"visits sharedspacespage\", \"value\": 0.1}, {\"index\": \"visits youaccountpage\", \"variable\": \"visits sharedspacespage\", \"value\": 0.0}, {\"index\": \"visits accountPage\", \"variable\": \"visits spaces\", \"value\": 0.0}, {\"index\": \"visits applepayPage\", \"variable\": \"visits spaces\", \"value\": 0.0}, {\"index\": \"visits businessAccountPage\", \"variable\": \"visits spaces\", \"value\": 0.0}, {\"index\": \"visits businessYouPage\", \"variable\": \"visits spaces\", \"value\": 0.0}, {\"index\": \"visits cash26\", \"variable\": \"visits spaces\", \"value\": 0.0}, {\"index\": \"visits creditPage\", \"variable\": \"visits spaces\", \"value\": 0.0}, {\"index\": \"visits googlepayPage\", \"variable\": \"visits spaces\", \"value\": 0.0}, {\"index\": \"visits homepage\", \"variable\": \"visits spaces\", \"value\": 0.0}, {\"index\": \"visits insurancePage\", \"variable\": \"visits spaces\", \"value\": 0.0}, {\"index\": \"visits metalAccountPage\", \"variable\": \"visits spaces\", \"value\": 0.0}, {\"index\": \"visits overdraftPage\", \"variable\": \"visits spaces\", \"value\": 0.0}, {\"index\": \"visits plansPage\", \"variable\": \"visits spaces\", \"value\": 0.0}, {\"index\": \"visits savingsPage\", \"variable\": \"visits spaces\", \"value\": 0.0}, {\"index\": \"visits sharedspacespage\", \"variable\": \"visits spaces\", \"value\": 0.1}, {\"index\": \"visits spaces\", \"variable\": \"visits spaces\", \"value\": 1.0}, {\"index\": \"visits youaccountpage\", \"variable\": \"visits spaces\", \"value\": 0.0}, {\"index\": \"visits accountPage\", \"variable\": \"visits youaccountpage\", \"value\": 0.2}, {\"index\": \"visits applepayPage\", \"variable\": \"visits youaccountpage\", \"value\": 0.0}, {\"index\": \"visits businessAccountPage\", \"variable\": \"visits youaccountpage\", \"value\": 0.1}, {\"index\": \"visits businessYouPage\", \"variable\": \"visits youaccountpage\", \"value\": 0.0}, {\"index\": \"visits cash26\", \"variable\": \"visits youaccountpage\", \"value\": 0.0}, {\"index\": \"visits creditPage\", \"variable\": \"visits youaccountpage\", \"value\": 0.0}, {\"index\": \"visits googlepayPage\", \"variable\": \"visits youaccountpage\", \"value\": 0.0}, {\"index\": \"visits homepage\", \"variable\": \"visits youaccountpage\", \"value\": 0.2}, {\"index\": \"visits insurancePage\", \"variable\": \"visits youaccountpage\", \"value\": 0.0}, {\"index\": \"visits metalAccountPage\", \"variable\": \"visits youaccountpage\", \"value\": 0.2}, {\"index\": \"visits overdraftPage\", \"variable\": \"visits youaccountpage\", \"value\": 0.0}, {\"index\": \"visits plansPage\", \"variable\": \"visits youaccountpage\", \"value\": 0.2}, {\"index\": \"visits savingsPage\", \"variable\": \"visits youaccountpage\", \"value\": 0.0}, {\"index\": \"visits sharedspacespage\", \"variable\": \"visits youaccountpage\", \"value\": 0.0}, {\"index\": \"visits spaces\", \"variable\": \"visits youaccountpage\", \"value\": 0.0}, {\"index\": \"visits youaccountpage\", \"variable\": \"visits youaccountpage\", \"value\": 1.0}]}}, {\"mode\": \"vega-lite\"});\n",
       "</script>"
      ]
     },
     "metadata": {},
     "execution_count": 56
    }
   ],
   "metadata": {}
  }
 ],
 "metadata": {
  "kernelspec": {
   "display_name": "Python 3",
   "language": "python",
   "name": "python3"
  },
  "language_info": {
   "codemirror_mode": {
    "name": "ipython",
    "version": 3
   },
   "file_extension": ".py",
   "mimetype": "text/x-python",
   "name": "python",
   "nbconvert_exporter": "python",
   "pygments_lexer": "ipython3",
   "version": "3.7.3"
  }
 },
 "nbformat": 4,
 "nbformat_minor": 4
}