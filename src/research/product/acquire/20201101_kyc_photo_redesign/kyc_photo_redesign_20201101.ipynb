{
 "cells": [
  {
   "cell_type": "markdown",
   "source": [
    "title: KYC document warnings AB test\n",
    "author: Fabio Schmidt-Fischbach  \n",
    "date: 2020-11-01  \n",
    "region: EU  \n",
    "summary: Overall, the variant performs significantly worse than the control : 1pp difference in % document selection to KYC. The difference seems to be driven by more users failing to upload their data to fourthline and not by worse conversion post submission.\n",
    "link: https://docs.google.com/presentation/d/1YYCS8Wmtc6FGV-3gKOr_Wlkss96GYnUAb07Qk6TYmFw/edit?usp=sharing    \n",
    "tags: kyc, acquire, ab test, safened, fourthline"
   ],
   "metadata": {}
  }
 ],
 "metadata": {
  "kernelspec": {
   "display_name": "Python 3",
   "language": "python",
   "name": "python3"
  },
  "language_info": {
   "codemirror_mode": {
    "name": "ipython",
    "version": 3
   },
   "file_extension": ".py",
   "mimetype": "text/x-python",
   "name": "python",
   "nbconvert_exporter": "python",
   "pygments_lexer": "ipython3",
   "version": "3.7.3"
  }
 },
 "nbformat": 4,
 "nbformat_minor": 2
}