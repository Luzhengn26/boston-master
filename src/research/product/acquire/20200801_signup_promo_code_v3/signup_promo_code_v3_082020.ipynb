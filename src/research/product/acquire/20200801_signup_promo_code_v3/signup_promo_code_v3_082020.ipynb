{
 "cells": [
  {
   "cell_type": "markdown",
   "source": [
    "title: AB test: promo code v3 - redesigning the promo code field\n",
    "author: Fabio Schmidt-Fischbach   \n",
    "date: 2020-08-14  \n",
    "region: EU    \n",
    "link: https://docs.google.com/presentation/d/1cDCWy7cswQ4nAb-WY4vp9odheQvpaCrM7Mx2h0HfIJY/edit?usp=sharing   \n",
    "summary: V2 of this test removed the explicit promo-code step: we saw overall conversion improvement but also lower % of user with friend referrals on signup. V3 is a redesign of v2 to make promo code field more prominent. No significant boost in SUI to KYCc (7d) (78% confidence in lift < 95%). % SU friend referral goes up by 4pp to 18.5% - v1 was higher on 22.5%. \n",
    "tags: signup, promo-code, acquire, ab, friend referral"
   ],
   "metadata": {}
  }
 ],
 "metadata": {
  "kernelspec": {
   "display_name": "Python 3",
   "language": "python",
   "name": "python3"
  },
  "language_info": {
   "codemirror_mode": {
    "name": "ipython",
    "version": 3
   },
   "file_extension": ".py",
   "mimetype": "text/x-python",
   "name": "python",
   "nbconvert_exporter": "python",
   "pygments_lexer": "ipython3",
   "version": "3.7.3"
  }
 },
 "nbformat": 4,
 "nbformat_minor": 2
}