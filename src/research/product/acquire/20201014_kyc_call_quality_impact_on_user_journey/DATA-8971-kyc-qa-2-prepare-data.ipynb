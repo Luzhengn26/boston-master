{
 "cells": [
  {
   "cell_type": "markdown",
   "metadata": {},
   "source": [
    "title: Analyse impact of bad video verification experience on subsequent user journey  \n",
    "author: Claudia Dai   \n",
    "date: 2020-10-14   \n",
    "region: EU   \n",
    "tags: acquire, kyc, call quality, user journey, video verification, logistic regression\n",
    "summary: There is an internal KYC QA team that reviews video KYC verification calls and rates them for quality, on several dimensions. This work aims to analyze whether bad KYC call quality has an effect on the subsequent user journey (card activation and first-time MAU). We are observing the effect of KYC call quality on 1271 users who initiated KYC in the time period from 2020-05-05 until 2020-08-05. We conducted exploratory data analysis, statistical tests (t-test, chi-square test), and logistic regression to analyze the variables’ relationship and provide a quantified value for the strength of association."
   ]
  },
  {
   "cell_type": "markdown",
   "metadata": {},
   "source": [
    "[DATA-8971]\n",
    "# Analyse impact of bad video verification experience on subsequent user journey\n",
    "\n",
    "There is an internal KYC QA team that reviews video KYC verification calls and rates them for quality, on several dimensions. Our hypothesis is that users who have a bad experience with video KYC will be much less likely to become loyal N26 customers. Could you analyse the data to see if there is support for this hypothesis? Any other interesting findings you turn up from the data would also be useful to share."
   ]
  },
  {
   "cell_type": "markdown",
   "metadata": {},
   "source": [
    "# KYC QA data\n",
    "\n",
    "The QA team collect their findings in this spreadsheet: https://docs.google.com/spreadsheets/d/1snu_SAm5Cj0rYTQHPsML_wLTRE2eu77Lyi_Z9Y1-2_0/edit?usp=sharing\n",
    "\n",
    "Jasmin Altmann is the QA team lead, and can provide additional context on the data or the video KYC process.\n",
    "\n",
    "**Data sampling**: 2% of all calls received are sampled at random.\n",
    "\n",
    "**Error classification**:\n",
    "- **minor** = watch, for internal reporting, no exposure to user\n",
    "- **serious** = error, for internal reporting, no exposure to user\n",
    "- **reset** = for BAFIN/GDPR, the call has to be reset means that the user has to do it again.\n",
    "\n",
    "**Duration of call**: 7-8 minutes is acceptable, if it's longer then something didn't go right usually on the user side. If it's a longer call, agent might get irritated which has an impact on user experience of KYC call.\n",
    "\n",
    "**Audio and video quality**: is measured on agent's side, so we don't have any direct insights whether the quality was good on the user side. That could be infered from the duration of the call. If quality on agent side is not good, agent might get irritated too.\n",
    "\n",
    "**Error scoring**: was done by one of the working students. Right now it's not working, but Jasmin can get it working if it proves to be of value for analysis.\n",
    "\n",
    "**Sheet tabs**: Until August 2020, two batches are saved in two sheets for each month. The batches go from 5th of every month until 20th, and from 20th until 5th. As of September 2020, there will be weekly batches that all are entered into one single sheet for the month."
   ]
  },
  {
   "cell_type": "code",
   "execution_count": 1,
   "metadata": {},
   "outputs": [],
   "source": [
    "%%capture\n",
    "!pip install imblearn"
   ]
  },
  {
   "cell_type": "code",
   "execution_count": 2,
   "metadata": {},
   "outputs": [],
   "source": [
    "from functions import *"
   ]
  },
  {
   "cell_type": "markdown",
   "metadata": {},
   "source": [
    "---\n",
    "\n",
    "# Prep data"
   ]
  },
  {
   "cell_type": "code",
   "execution_count": 3,
   "metadata": {},
   "outputs": [],
   "source": [
    "df_kyc = pd.read_csv(\"kyc_qa.csv\", index_col=0)\n",
    "cols_as_datetime(df_kyc, [\"call_initiated\", \"call_completed\"])\n",
    "date_start = df_kyc.call_initiated.min().date()\n",
    "date_end = df_kyc.call_initiated.max().date() - timedelta(days=30)"
   ]
  },
  {
   "cell_type": "code",
   "execution_count": 4,
   "metadata": {},
   "outputs": [],
   "source": [
    "filename = generate_filename(\"data/\", \"DATA-8971\", \"merged\", date_start, date_end)\n",
    "data = pd.read_csv(filename)"
   ]
  },
  {
   "cell_type": "code",
   "execution_count": 5,
   "metadata": {},
   "outputs": [
    {
     "data": {
      "text/plain": [
       "(1272, 18)"
      ]
     },
     "execution_count": 5,
     "metadata": {},
     "output_type": "execute_result"
    }
   ],
   "source": [
    "data.shape"
   ]
  },
  {
   "cell_type": "code",
   "execution_count": 6,
   "metadata": {},
   "outputs": [
    {
     "data": {
      "text/html": [
       "<div>\n",
       "<style scoped>\n",
       "    .dataframe tbody tr th:only-of-type {\n",
       "        vertical-align: middle;\n",
       "    }\n",
       "\n",
       "    .dataframe tbody tr th {\n",
       "        vertical-align: top;\n",
       "    }\n",
       "\n",
       "    .dataframe thead th {\n",
       "        text-align: right;\n",
       "    }\n",
       "</style>\n",
       "<table border=\"1\" class=\"dataframe\">\n",
       "  <thead>\n",
       "    <tr style=\"text-align: right;\">\n",
       "      <th></th>\n",
       "      <th>user_id</th>\n",
       "      <th>call_initiated</th>\n",
       "      <th>call_completed</th>\n",
       "      <th>call_duration</th>\n",
       "      <th>audio_video_quality</th>\n",
       "      <th>competence</th>\n",
       "      <th>feedback</th>\n",
       "      <th>language</th>\n",
       "      <th>guidance</th>\n",
       "      <th>error_classification</th>\n",
       "      <th>error_scoring_total</th>\n",
       "      <th>user_created</th>\n",
       "      <th>kyc_finished</th>\n",
       "      <th>closed_at</th>\n",
       "      <th>product_id</th>\n",
       "      <th>is_premium</th>\n",
       "      <th>is_card_f30d</th>\n",
       "      <th>is_ftmau_f30d</th>\n",
       "    </tr>\n",
       "  </thead>\n",
       "  <tbody>\n",
       "    <tr>\n",
       "      <th>0</th>\n",
       "      <td>0019a7d1-328b-41bf-9715-6cd2d2d34d4b</td>\n",
       "      <td>2020-05-25 14:55:36.930</td>\n",
       "      <td>2020-05-25 15:16:28.466</td>\n",
       "      <td>OK</td>\n",
       "      <td>OK</td>\n",
       "      <td>good</td>\n",
       "      <td>good</td>\n",
       "      <td>good</td>\n",
       "      <td>good</td>\n",
       "      <td>None</td>\n",
       "      <td>4</td>\n",
       "      <td>2020-05-25 13:22:20.995211</td>\n",
       "      <td>2020-05-25 15:16:28.466000+00:00</td>\n",
       "      <td>NaN</td>\n",
       "      <td>STANDARD</td>\n",
       "      <td>False</td>\n",
       "      <td>1.000</td>\n",
       "      <td>1</td>\n",
       "    </tr>\n",
       "    <tr>\n",
       "      <th>1</th>\n",
       "      <td>002e7dcd-52f2-4974-943e-d3a74f944c96</td>\n",
       "      <td>2020-06-24 10:25:19.735</td>\n",
       "      <td>2020-06-24 10:32:27.857</td>\n",
       "      <td>efficient</td>\n",
       "      <td>acceptable</td>\n",
       "      <td>good</td>\n",
       "      <td>good</td>\n",
       "      <td>good</td>\n",
       "      <td>good</td>\n",
       "      <td>None</td>\n",
       "      <td>4</td>\n",
       "      <td>2020-03-21 12:58:35.118166</td>\n",
       "      <td>2020-06-24 10:32:27.857000+00:00</td>\n",
       "      <td>NaN</td>\n",
       "      <td>STANDARD</td>\n",
       "      <td>False</td>\n",
       "      <td>1.000</td>\n",
       "      <td>0</td>\n",
       "    </tr>\n",
       "    <tr>\n",
       "      <th>2</th>\n",
       "      <td>008183a4-de4e-4ca9-a9e2-b6bd1940da09</td>\n",
       "      <td>2020-07-28 16:27:50.054</td>\n",
       "      <td>2020-07-28 16:49:25.515</td>\n",
       "      <td>long</td>\n",
       "      <td>acceptable</td>\n",
       "      <td>good</td>\n",
       "      <td>good</td>\n",
       "      <td>good</td>\n",
       "      <td>good</td>\n",
       "      <td>None</td>\n",
       "      <td>4</td>\n",
       "      <td>2020-07-28 16:04:51.754697</td>\n",
       "      <td>2020-07-28 16:49:25.515000+00:00</td>\n",
       "      <td>NaN</td>\n",
       "      <td>STANDARD</td>\n",
       "      <td>False</td>\n",
       "      <td>1.000</td>\n",
       "      <td>1</td>\n",
       "    </tr>\n",
       "    <tr>\n",
       "      <th>3</th>\n",
       "      <td>00bf352f-302a-4c57-9cc5-7fe49dec6c5e</td>\n",
       "      <td>2020-05-25 10:50:13.983</td>\n",
       "      <td>2020-05-25 11:00:41.469</td>\n",
       "      <td>efficient</td>\n",
       "      <td>very good</td>\n",
       "      <td>good</td>\n",
       "      <td>good</td>\n",
       "      <td>good</td>\n",
       "      <td>good</td>\n",
       "      <td>None</td>\n",
       "      <td>4</td>\n",
       "      <td>2020-05-25 08:29:02.788190</td>\n",
       "      <td>2020-05-25 11:00:41.469000+00:00</td>\n",
       "      <td>NaN</td>\n",
       "      <td>STANDARD</td>\n",
       "      <td>False</td>\n",
       "      <td>1.000</td>\n",
       "      <td>1</td>\n",
       "    </tr>\n",
       "    <tr>\n",
       "      <th>4</th>\n",
       "      <td>00ed6466-ca09-486d-b4f8-c15f0bbe077d</td>\n",
       "      <td>2020-07-28 06:54:46.561</td>\n",
       "      <td>2020-07-28 07:26:36.848</td>\n",
       "      <td>OK</td>\n",
       "      <td>acceptable</td>\n",
       "      <td>good</td>\n",
       "      <td>good</td>\n",
       "      <td>good</td>\n",
       "      <td>good</td>\n",
       "      <td>None</td>\n",
       "      <td>4</td>\n",
       "      <td>2019-10-12 21:49:54.057021</td>\n",
       "      <td>2020-07-28 07:26:36.848000+00:00</td>\n",
       "      <td>NaN</td>\n",
       "      <td>BUSINESS_CARD</td>\n",
       "      <td>False</td>\n",
       "      <td>1.000</td>\n",
       "      <td>0</td>\n",
       "    </tr>\n",
       "  </tbody>\n",
       "</table>\n",
       "</div>"
      ],
      "text/plain": [
       "                                user_id           call_initiated  \\\n",
       "0  0019a7d1-328b-41bf-9715-6cd2d2d34d4b  2020-05-25 14:55:36.930   \n",
       "1  002e7dcd-52f2-4974-943e-d3a74f944c96  2020-06-24 10:25:19.735   \n",
       "2  008183a4-de4e-4ca9-a9e2-b6bd1940da09  2020-07-28 16:27:50.054   \n",
       "3  00bf352f-302a-4c57-9cc5-7fe49dec6c5e  2020-05-25 10:50:13.983   \n",
       "4  00ed6466-ca09-486d-b4f8-c15f0bbe077d  2020-07-28 06:54:46.561   \n",
       "\n",
       "            call_completed call_duration audio_video_quality competence  \\\n",
       "0  2020-05-25 15:16:28.466            OK                  OK       good   \n",
       "1  2020-06-24 10:32:27.857     efficient          acceptable       good   \n",
       "2  2020-07-28 16:49:25.515          long          acceptable       good   \n",
       "3  2020-05-25 11:00:41.469     efficient           very good       good   \n",
       "4  2020-07-28 07:26:36.848            OK          acceptable       good   \n",
       "\n",
       "  feedback language guidance error_classification error_scoring_total  \\\n",
       "0     good     good     good                 None                   4   \n",
       "1     good     good     good                 None                   4   \n",
       "2     good     good     good                 None                   4   \n",
       "3     good     good     good                 None                   4   \n",
       "4     good     good     good                 None                   4   \n",
       "\n",
       "                 user_created                      kyc_finished closed_at  \\\n",
       "0  2020-05-25 13:22:20.995211  2020-05-25 15:16:28.466000+00:00       NaN   \n",
       "1  2020-03-21 12:58:35.118166  2020-06-24 10:32:27.857000+00:00       NaN   \n",
       "2  2020-07-28 16:04:51.754697  2020-07-28 16:49:25.515000+00:00       NaN   \n",
       "3  2020-05-25 08:29:02.788190  2020-05-25 11:00:41.469000+00:00       NaN   \n",
       "4  2019-10-12 21:49:54.057021  2020-07-28 07:26:36.848000+00:00       NaN   \n",
       "\n",
       "      product_id  is_premium  is_card_f30d  is_ftmau_f30d  \n",
       "0       STANDARD       False         1.000              1  \n",
       "1       STANDARD       False         1.000              0  \n",
       "2       STANDARD       False         1.000              1  \n",
       "3       STANDARD       False         1.000              1  \n",
       "4  BUSINESS_CARD       False         1.000              0  "
      ]
     },
     "execution_count": 6,
     "metadata": {},
     "output_type": "execute_result"
    }
   ],
   "source": [
    "data.head()"
   ]
  },
  {
   "cell_type": "code",
   "execution_count": 7,
   "metadata": {},
   "outputs": [
    {
     "name": "stdout",
     "output_type": "stream",
     "text": [
      "<class 'pandas.core.frame.DataFrame'>\n",
      "RangeIndex: 1272 entries, 0 to 1271\n",
      "Data columns (total 18 columns):\n",
      "user_id                 1272 non-null object\n",
      "call_initiated          1272 non-null object\n",
      "call_completed          1272 non-null object\n",
      "call_duration           1236 non-null object\n",
      "audio_video_quality     1237 non-null object\n",
      "competence              1237 non-null object\n",
      "feedback                1237 non-null object\n",
      "language                1237 non-null object\n",
      "guidance                1236 non-null object\n",
      "error_classification    1272 non-null object\n",
      "error_scoring_total     1272 non-null object\n",
      "user_created            1272 non-null object\n",
      "kyc_finished            1111 non-null object\n",
      "closed_at               68 non-null object\n",
      "product_id              1271 non-null object\n",
      "is_premium              1272 non-null bool\n",
      "is_card_f30d            1111 non-null float64\n",
      "is_ftmau_f30d           1272 non-null int64\n",
      "dtypes: bool(1), float64(1), int64(1), object(15)\n",
      "memory usage: 170.3+ KB\n"
     ]
    }
   ],
   "source": [
    "data.info()"
   ]
  },
  {
   "cell_type": "code",
   "execution_count": 8,
   "metadata": {},
   "outputs": [],
   "source": [
    "data.is_card_f30d = data.is_card_f30d.fillna(0)"
   ]
  },
  {
   "cell_type": "code",
   "execution_count": 9,
   "metadata": {},
   "outputs": [],
   "source": [
    "cols_obj = []\n",
    "\n",
    "cols_int = [\"is_card_f30d\", \"is_ftmau_f30d\"]\n",
    "\n",
    "cols_dt = [\n",
    "    \"call_initiated\",\n",
    "    \"call_completed\",\n",
    "    \"user_created\",\n",
    "    \"kyc_finished\",\n",
    "    \"closed_at\",\n",
    "]\n",
    "\n",
    "correct_dtypes(data, cols_obj, cols_int, cols_dt)"
   ]
  },
  {
   "cell_type": "code",
   "execution_count": 10,
   "metadata": {},
   "outputs": [],
   "source": [
    "data[\"is_closed\"] = pd.notnull(\n",
    "    data.closed_at\n",
    ")  # returns True if account closed, False if not\n",
    "data[\"is_closed\"] = data[\"is_closed\"].astype(int)\n",
    "\n",
    "data[\"is_premium\"] = data[\"is_closed\"].astype(int)\n",
    "\n",
    "data = data[\n",
    "    data.error_classification != \"Fraud\"\n",
    "]  # drop cases that are fraud as these wouldn't become loyal customers anyway\n",
    "\n",
    "data = data.replace(\n",
    "    {\n",
    "        \"error_classification\": {\n",
    "            \"Serious\": np.nan,\n",
    "            \"Minor\": np.nan,\n",
    "            \"Please Specify\": np.nan,\n",
    "            \"please specify\": np.nan,\n",
    "            \"None\": np.nan,\n",
    "        }\n",
    "    }\n",
    ")\n",
    "\n",
    "# have to re-bin audio_video_quality because the valuation changed a few months ago\n",
    "data[\"audio_video_quality\"] = (\n",
    "    data[\"audio_video_quality\"]\n",
    "    .replace(\"very good\", \"acceptable\")\n",
    "    .replace(\"OK\", \"acceptable\")\n",
    "    .replace(\"improvable\", \"not acceptable\")\n",
    ")\n",
    "\n",
    "data[\"kyc_reset\"] = pd.notnull(\n",
    "    data.error_classification\n",
    ")  # returns True if account closed, False if not\n",
    "data[\"kyc_reset\"] = data[\"kyc_reset\"].astype(str)\n",
    "\n",
    "data[\"su_to_kyc_days\"] = (data[\"call_initiated\"] - data[\"user_created\"]).dt.days\n",
    "# data is highly skewed towards zero value\n",
    "data[\"su_to_kyc_days_log\"] = np.log(data[\"su_to_kyc_days\"] + 1)"
   ]
  },
  {
   "cell_type": "code",
   "execution_count": 11,
   "metadata": {},
   "outputs": [],
   "source": [
    "rm_cols = [\n",
    "    \"closed_at\",  # converted to is_closed\n",
    "    \"product_id\",  # we have is_premium\n",
    "    \"error_classification\",  # we have kyc_reset\n",
    "    \"user_created\",  # we use user_id\n",
    "    \"kyc_finished\",\n",
    "    \"call_initiated\",\n",
    "    \"call_completed\",\n",
    "    \"error_scoring_total\",  # for now remove because not working\n",
    "]\n",
    "\n",
    "data.drop(rm_cols, axis=1, inplace=True)"
   ]
  },
  {
   "cell_type": "code",
   "execution_count": 12,
   "metadata": {},
   "outputs": [],
   "source": [
    "filename = generate_filename(\"data/\", \"DATA-8971\", \"cleaned\", date_start, date_end)\n",
    "# save_data(data, filename)"
   ]
  },
  {
   "cell_type": "code",
   "execution_count": null,
   "metadata": {},
   "outputs": [],
   "source": []
  }
 ],
 "metadata": {
  "kernelspec": {
   "display_name": "Python 3 (ipykernel)",
   "language": "python",
   "name": "python3"
  },
  "language_info": {
   "codemirror_mode": {
    "name": "ipython",
    "version": 3
   },
   "file_extension": ".py",
   "mimetype": "text/x-python",
   "name": "python",
   "nbconvert_exporter": "python",
   "pygments_lexer": "ipython3",
   "version": "3.10.9"
  }
 },
 "nbformat": 4,
 "nbformat_minor": 4
}
