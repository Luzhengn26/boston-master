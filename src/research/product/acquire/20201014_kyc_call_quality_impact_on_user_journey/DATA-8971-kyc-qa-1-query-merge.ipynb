{
 "cells": [
  {
   "cell_type": "markdown",
   "metadata": {},
   "source": [
    "title: Analyse impact of bad video verification experience on subsequent user journey  \n",
    "author: Claudia Dai   \n",
    "date: 2020-10-14   \n",
    "region: EU   \n",
    "tags: acquire, kyc, call quality, user journey, video verification, logistic regression\n",
    "summary: There is an internal KYC QA team that reviews video KYC verification calls and rates them for quality, on several dimensions. This work aims to analyze whether bad KYC call quality has an effect on the subsequent user journey (card activation and first-time MAU). We are observing the effect of KYC call quality on 1271 users who initiated KYC in the time period from 2020-05-05 until 2020-08-05. We conducted exploratory data analysis, statistical tests (t-test, chi-square test), and logistic regression to analyze the variables’ relationship and provide a quantified value for the strength of association."
   ]
  },
  {
   "cell_type": "markdown",
   "metadata": {},
   "source": [
    "[DATA-8971]\n",
    "# Analyse impact of bad video verification experience on subsequent user journey\n",
    "\n",
    "There is an internal KYC QA team that reviews video KYC verification calls and rates them for quality, on several dimensions. Our hypothesis is that users who have a bad experience with video KYC will be much less likely to become loyal N26 customers. Could you analyse the data to see if there is support for this hypothesis? Any other interesting findings you turn up from the data would also be useful to share."
   ]
  },
  {
   "cell_type": "markdown",
   "metadata": {},
   "source": [
    "# KYC QA data\n",
    "\n",
    "The QA team collect their findings in this spreadsheet: https://docs.google.com/spreadsheets/d/1snu_SAm5Cj0rYTQHPsML_wLTRE2eu77Lyi_Z9Y1-2_0/edit?usp=sharing\n",
    "\n",
    "Jasmin Altmann is the QA team lead, and can provide additional context on the data or the video KYC process.\n",
    "\n",
    "**Data sampling**: 2% of all calls received are sampled at random.\n",
    "\n",
    "**Error classification**:\n",
    "- **minor** = watch, for internal reporting, no exposure to user\n",
    "- **serious** = error, for internal reporting, no exposure to user\n",
    "- **reset** = for BAFIN/GDPR, the call has to be reset means that the user has to do it again.\n",
    "\n",
    "**Duration of call**: 7-8 minutes is acceptable, if it's longer then something didn't go right usually on the user side. If it's a longer call, agent might get irritated which has an impact on user experience of KYC call.\n",
    "\n",
    "**Audio and video quality**: is measured on agent's side, so we don't have any direct insights whether the quality was good on the user side. That could be infered from the duration of the call. If quality on agent side is not good, agent might get irritated too.\n",
    "\n",
    "**Error scoring**: was done by one of the working students. Right now it's not working, but Jasmin can get it working if it proves to be of value for analysis.\n",
    "\n",
    "**Sheet tabs**: Until August 2020, two batches are saved in two sheets for each month. The batches go from 5th of every month until 20th, and from 20th until 5th. As of September 2020, there will be weekly batches that all are entered into one single sheet for the month."
   ]
  },
  {
   "cell_type": "code",
   "execution_count": 2,
   "metadata": {},
   "outputs": [],
   "source": [
    "%%capture\n",
    "!pip install imblearn"
   ]
  },
  {
   "cell_type": "code",
   "execution_count": 3,
   "metadata": {},
   "outputs": [],
   "source": [
    "from functions import *"
   ]
  },
  {
   "cell_type": "markdown",
   "metadata": {},
   "source": [
    "---\n",
    "\n",
    "# Get data"
   ]
  },
  {
   "cell_type": "code",
   "execution_count": 22,
   "metadata": {},
   "outputs": [
    {
     "data": {
      "text/plain": [
       "(1732, 11)"
      ]
     },
     "execution_count": 22,
     "metadata": {},
     "output_type": "execute_result"
    }
   ],
   "source": [
    "df_kyc = pd.read_csv(\"kyc_qa.csv\", index_col=0)\n",
    "cols_as_datetime(df_kyc, [\"call_initiated\", \"call_completed\"])\n",
    "df_kyc.shape"
   ]
  },
  {
   "cell_type": "code",
   "execution_count": 23,
   "metadata": {},
   "outputs": [],
   "source": [
    "date_start = df_kyc.call_initiated.min().date()\n",
    "date_end = df_kyc.call_initiated.max().date() - timedelta(days=30)"
   ]
  },
  {
   "cell_type": "code",
   "execution_count": 24,
   "metadata": {},
   "outputs": [
    {
     "data": {
      "text/plain": [
       "(1272, 11)"
      ]
     },
     "execution_count": 24,
     "metadata": {},
     "output_type": "execute_result"
    }
   ],
   "source": [
    "df_kyc = df_kyc[\n",
    "    df_kyc.call_completed <= date_end\n",
    "]  # filter out most recent 30 days to give users enough time for action\n",
    "df_kyc.shape"
   ]
  },
  {
   "cell_type": "code",
   "execution_count": 7,
   "metadata": {},
   "outputs": [],
   "source": [
    "user_ids = str(set(df_kyc.user_id)).replace(\"{\", \"(\").replace(\"}\", \")\")"
   ]
  },
  {
   "cell_type": "code",
   "execution_count": 8,
   "metadata": {},
   "outputs": [],
   "source": [
    "query = \"\"\"\n",
    "SELECT\n",
    "    user_id,\n",
    "    us.user_created,\n",
    "    kyc_finished,\n",
    "    closed_at,\n",
    "    product_id,\n",
    "    is_premium,\n",
    "    is_card_f30d,\n",
    "    CASE WHEN DATEDIFF('days', fa.user_created::date, fa.first_active::date) <= 30 THEN 1 ELSE 0 END AS is_ftmau_f30d\n",
    "    /* CASE WHEN txn_ts BETWEEN kyc_finished::date AND DATEADD('day',30,kyc_finished::date) THEN COUNT(txn_ts) END AS count_txn_f30d */\n",
    "FROM\n",
    "    dbt.zrh_users as us\n",
    "    \n",
    "LEFT JOIN\n",
    "    dbt.stg_cohort_first_active as fa\n",
    "ON\n",
    "    us.user_created = fa.user_created\n",
    "\n",
    "LEFT JOIN\n",
    "    dbt.zrh_transactions as txn\n",
    "ON\n",
    "    txn.user_created = us.user_created\n",
    "\n",
    "LEFT JOIN\n",
    "    (\n",
    "        SELECT\n",
    "            step1.user_created,\n",
    "            step1.created AS kyc_finished,\n",
    "            CASE WHEN datediff('days', step1.created::date, step2.created::date) <= 30 THEN 1 ELSE 0 END AS is_card_f30d\n",
    "        FROM (\n",
    "            SELECT user_created,step,created\n",
    "            FROM dbt.zrh_lower_funnel\n",
    "            WHERE step LIKE 'kyc_finished') step1\n",
    "        INNER JOIN (\n",
    "            SELECT user_created,step,created\n",
    "            FROM dbt.zrh_lower_funnel\n",
    "            WHERE step LIKE 'card_activated') step2\n",
    "        ON step1.user_created = step2.user_created\n",
    "    ) ca\n",
    "ON\n",
    "    us.user_created = ca.user_created\n",
    "\n",
    "WHERE \n",
    "    user_id IN {}\n",
    "\"\"\".format(\n",
    "    user_ids\n",
    ")"
   ]
  },
  {
   "cell_type": "code",
   "execution_count": 9,
   "metadata": {},
   "outputs": [],
   "source": [
    "filename = generate_filename(\"data/\", \"DATA-8971\", \"users\", date_start, date_end)\n",
    "# get_data(query, filename)"
   ]
  },
  {
   "cell_type": "code",
   "execution_count": 10,
   "metadata": {},
   "outputs": [
    {
     "data": {
      "text/plain": [
       "(141201, 8)"
      ]
     },
     "execution_count": 10,
     "metadata": {},
     "output_type": "execute_result"
    }
   ],
   "source": [
    "df_users = pd.read_csv(filename)\n",
    "df_users.shape"
   ]
  },
  {
   "cell_type": "code",
   "execution_count": 13,
   "metadata": {},
   "outputs": [
    {
     "data": {
      "text/plain": [
       "True     139930\n",
       "False      1271\n",
       "dtype: int64"
      ]
     },
     "execution_count": 13,
     "metadata": {},
     "output_type": "execute_result"
    }
   ],
   "source": [
    "df_users.duplicated().value_counts()"
   ]
  },
  {
   "cell_type": "code",
   "execution_count": 14,
   "metadata": {},
   "outputs": [
    {
     "data": {
      "text/plain": [
       "(1271, 8)"
      ]
     },
     "execution_count": 14,
     "metadata": {},
     "output_type": "execute_result"
    }
   ],
   "source": [
    "df_users.drop_duplicates(inplace=True, keep=\"first\")\n",
    "df_users.shape"
   ]
  },
  {
   "cell_type": "code",
   "execution_count": 19,
   "metadata": {},
   "outputs": [],
   "source": [
    "data = pd.merge(left=df_kyc, right=df_users, how=\"inner\", on=\"user_id\", sort=True)"
   ]
  },
  {
   "cell_type": "code",
   "execution_count": 20,
   "metadata": {},
   "outputs": [
    {
     "data": {
      "text/plain": [
       "(1272, 11)"
      ]
     },
     "execution_count": 20,
     "metadata": {},
     "output_type": "execute_result"
    }
   ],
   "source": [
    "df_kyc[~df_kyc.isin(data)].shape"
   ]
  },
  {
   "cell_type": "code",
   "execution_count": 13,
   "metadata": {},
   "outputs": [
    {
     "data": {
      "text/plain": [
       "False    1272\n",
       "dtype: int64"
      ]
     },
     "execution_count": 13,
     "metadata": {},
     "output_type": "execute_result"
    }
   ],
   "source": [
    "data.duplicated().value_counts()"
   ]
  },
  {
   "cell_type": "code",
   "execution_count": 14,
   "metadata": {},
   "outputs": [
    {
     "data": {
      "text/plain": [
       "(1272, 18)"
      ]
     },
     "execution_count": 14,
     "metadata": {},
     "output_type": "execute_result"
    }
   ],
   "source": [
    "data.shape"
   ]
  },
  {
   "cell_type": "code",
   "execution_count": 15,
   "metadata": {},
   "outputs": [],
   "source": [
    "filename = generate_filename(\"data/\", \"DATA-8971\", \"merged\", date_start, date_end)\n",
    "# save_data(data, filename)"
   ]
  }
 ],
 "metadata": {
  "kernelspec": {
   "display_name": "Python 3 (ipykernel)",
   "language": "python",
   "name": "python3"
  },
  "language_info": {
   "codemirror_mode": {
    "name": "ipython",
    "version": 3
   },
   "file_extension": ".py",
   "mimetype": "text/x-python",
   "name": "python",
   "nbconvert_exporter": "python",
   "pygments_lexer": "ipython3",
   "version": "3.10.9"
  }
 },
 "nbformat": 4,
 "nbformat_minor": 4
}
