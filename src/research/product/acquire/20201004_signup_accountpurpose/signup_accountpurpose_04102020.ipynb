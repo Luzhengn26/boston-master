{
 "cells": [
  {
   "cell_type": "markdown",
   "source": [
    "title: Signup - account purpose question test\n",
    "author: Fabio Schmidt-Fischbach     \n",
    "date: 2020-10-05     \n",
    "region: EU     \n",
    "summary: What? Test additional questions on ITA signup flow - required for AFC. Why? Understand % conversion impact in onboarding journey. When? 26th August - early October 2020. In the observed data, there is no obvious drop in conversion due to the treatment. The risk of worsening our % SUI to KYC (7d) conversion with variant is roughly 10%. \n",
    "link: https://docs.google.com/presentation/d/1Rwfzn3C_Dk5yYNAuU3QWn0uilzqZdsnJ8-mHp_16DTg/edit?usp=sharing     \n",
    "tags: acquire, signup, ab test, KYC    \n"
   ],
   "metadata": {}
  },
  {
   "cell_type": "code",
   "execution_count": null,
   "source": [],
   "outputs": [],
   "metadata": {}
  }
 ],
 "metadata": {
  "kernelspec": {
   "display_name": "Python 3",
   "language": "python",
   "name": "python3"
  },
  "language_info": {
   "codemirror_mode": {
    "name": "ipython",
    "version": 3
   },
   "file_extension": ".py",
   "mimetype": "text/x-python",
   "name": "python",
   "nbconvert_exporter": "python",
   "pygments_lexer": "ipython3",
   "version": "3.7.3"
  }
 },
 "nbformat": 4,
 "nbformat_minor": 2
}