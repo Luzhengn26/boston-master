{
 "cells": [
  {
   "cell_type": "markdown",
   "metadata": {},
   "source": [
    "title: KYC document warnings AB test\n",
    "author: Fabio Schmidt-Fischbach  \n",
    "date: 2020-09-21  \n",
    "region: EU  \n",
    "link: https://docs.google.com/presentation/d/1ObfKFqkOvaoKecmm4uWcyitBXtTVETVN6TKFa_SMxjI/edit?usp=sharing    \n",
    "tags: kyc, acquire, ab, test, documents, safened, fourthline, split"
   ]
  },
  {
   "cell_type": "code",
   "execution_count": null,
   "metadata": {},
   "outputs": [],
   "source": []
  }
 ],
 "metadata": {
  "kernelspec": {
   "display_name": "Python 3",
   "language": "python",
   "name": "python3"
  },
  "language_info": {
   "codemirror_mode": {
    "name": "ipython",
    "version": 3
   },
   "file_extension": ".py",
   "mimetype": "text/x-python",
   "name": "python",
   "nbconvert_exporter": "python",
   "pygments_lexer": "ipython3",
   "version": "3.7.3"
  }
 },
 "nbformat": 4,
 "nbformat_minor": 2
}
