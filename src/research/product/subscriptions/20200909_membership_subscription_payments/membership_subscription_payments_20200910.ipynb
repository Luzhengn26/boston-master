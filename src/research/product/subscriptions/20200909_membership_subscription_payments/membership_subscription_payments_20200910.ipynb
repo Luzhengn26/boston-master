{
 "cells": [
  {
   "cell_type": "markdown",
   "source": [
    "title: Membership subscription payments - deep dive   \n",
    "author: Fabio Schmidt-Fischbach   \n",
    "date: 2020-09-09   \n",
    "region: EU   \n",
    "summary: Hypothetically, we should collect 12 fees from each premium user. The problem is, it's not that simple. Not all users are charged 12 times: employees, discounts, or dunning. Not all charges are paid. Goal is to explore repayment dynamics of our premium users. Measure premium health with actual subscription payments rather than dunning process. Provide reliable way to estimate how much revenue we should expect from premium users e.g. Metal users that joined a year ago on avg. paid 8 Euros per month (rather than 17 Euro). 50-60% of new premium users fall into dunning on the initial payment. Recovery rates for users that at some point are much higher than for users that fall into dunning on first payment.\n",
    "link: https://docs.google.com/presentation/d/1Ub_jahc-3BRZJAjp9eqKRlKjOFAOdkjytSG0Ogz7u70/edit?usp=sharing   \n",
    "tags: memberships, finance, premium, metal, you, dunning, arrears   "
   ],
   "metadata": {}
  },
  {
   "cell_type": "code",
   "execution_count": null,
   "source": [
    "import pandas as pd\n",
    "import altair as alt\n",
    "import os\n",
    "import io\n",
    "from google.colab import files\n",
    "import numpy as np"
   ],
   "outputs": [],
   "metadata": {}
  },
  {
   "cell_type": "code",
   "execution_count": 3,
   "source": [
    "# Code to read csv file into Colaboratory:\n",
    "!pip install -U -q PyDrive\n",
    "from pydrive.auth import GoogleAuth\n",
    "from pydrive.drive import GoogleDrive\n",
    "from google.colab import auth\n",
    "from oauth2client.client import GoogleCredentials\n",
    "\n",
    "# Authenticate and create the PyDrive client.\n",
    "auth.authenticate_user()\n",
    "gauth = GoogleAuth()\n",
    "gauth.credentials = GoogleCredentials.get_application_default()\n",
    "drive = GoogleDrive(gauth)"
   ],
   "outputs": [],
   "metadata": {
    "colab": {},
    "colab_type": "code",
    "id": "ciaud9_9FaTo"
   }
  },
  {
   "cell_type": "markdown",
   "source": [
    "## Evaluate zrh_subscription_payments"
   ],
   "metadata": {
    "colab_type": "text",
    "id": "ttwCBXLqGj-C"
   }
  },
  {
   "cell_type": "code",
   "execution_count": null,
   "source": [
    "query = \"\"\"\n",
    "select *\n",
    "from dbt.zrh_subscription_payments\n",
    "where subscription_valid_from >= '2019-01-01'\n",
    "\"\"\""
   ],
   "outputs": [],
   "metadata": {
    "colab": {},
    "colab_type": "code",
    "id": "GkCb62rDGqBR"
   }
  },
  {
   "cell_type": "code",
   "execution_count": 4,
   "source": [
    "link = (\n",
    "    \"https://drive.google.com/file/d/1vbpMqHcP-ggUiKS_sKI3Q4-LvnOn3zVy/view?usp=sharing\"\n",
    ")\n",
    "id = \"1vbpMqHcP-ggUiKS_sKI3Q4-LvnOn3zVy\"\n",
    "\n",
    "downloaded = drive.CreateFile({\"id\": id})\n",
    "downloaded.GetContentFile(\"Filename.csv\")\n",
    "df = pd.read_csv(\"Filename.csv\")"
   ],
   "outputs": [],
   "metadata": {
    "colab": {},
    "colab_type": "code",
    "id": "CwYl4AQKLFSa"
   }
  },
  {
   "cell_type": "markdown",
   "source": [
    "## Model QA\n",
    "\n",
    "1. What % of users are charged \n",
    "  - market \n",
    "  - product\n",
    "  - entry flow \n",
    "  - month of sub\n",
    "  - depending on how they exited \n",
    "\n",
    "2. What % of users fall into arrears \n",
    "  - market \n",
    "  - product\n",
    "  - entry flow \n",
    "  - month of sub \n",
    "3. What % of arrears tx are recovered? \n",
    "  - .. all these dimensions. \n",
    "  - how long does it take? e.g. % recovery probability after not having recovered after t days. \n",
    "\n"
   ],
   "metadata": {
    "colab_type": "text",
    "id": "kSzlyKHWNWPb"
   }
  },
  {
   "cell_type": "code",
   "execution_count": null,
   "source": [],
   "outputs": [],
   "metadata": {
    "colab": {},
    "colab_type": "code",
    "id": "MwZtNwtPXa2F"
   }
  },
  {
   "cell_type": "markdown",
   "source": [
    "## Business metrics : \n",
    "\n",
    "1. Expected monthly recurring revenue \n",
    "  - show distributions across various dimensions.\n",
    "\n",
    "  "
   ],
   "metadata": {
    "colab_type": "text",
    "id": "WxuRzfI0PZfH"
   }
  },
  {
   "cell_type": "markdown",
   "source": [
    "### 1. What % of users are charged \n",
    "\n",
    "In a world where we have 100% retention, we should be charging 100% of the 12 monthly charges to our customers. \n",
    "\n",
    "How close to 100% do we get? \n",
    "\n"
   ],
   "metadata": {
    "colab_type": "text",
    "id": "YsDHIf8hPCWp"
   }
  },
  {
   "cell_type": "code",
   "execution_count": 25,
   "source": [
    "data = df\n",
    "\n",
    "# trim market\n",
    "data[\"market\"] = data[\"market\"].str.strip()\n",
    "\n",
    "# drop UK\n",
    "data = data.loc[data[\"market\"] != \"GBR\", :]\n",
    "\n",
    "data[\"month\"] = pd.to_datetime(data[\"subscription_valid_from\"]).dt.to_period(\"M\")\n",
    "\n",
    "# drop all subscription pamyents that would not be running anymore.\n",
    "data = data.loc[data[\"subscription_valid_from\"] < \"2019-09-01\", :]\n",
    "\n",
    "data = (\n",
    "    data.groupby([\"product_id\", \"month\", \"enter_reason\"])[\"charged\"]\n",
    "    .agg(\"mean\")\n",
    "    .reset_index()\n",
    ")\n",
    "\n",
    "data[\"month\"] = data[\"month\"].astype(str)\n",
    "\n",
    "alt.Chart(\n",
    "    data.loc[\n",
    "        (data[\"enter_reason\"] != \"DOWNGRADED\") & (data[\"enter_reason\"] != \"RENEWED\"), :\n",
    "    ]\n",
    ").mark_line().encode(\n",
    "    x=alt.X(\"month:N\", axis=alt.Axis(title=\"Month of sub start\")),\n",
    "    y=alt.Y(\"charged:Q\", axis=alt.Axis(format=\"%\", title=\"% subs charged\")),\n",
    "    color=\"product_id:N\",\n",
    ").properties(\n",
    "    width=300, height=300, title=\"% of 12 months charged\"\n",
    ").facet(\n",
    "    facet=\"enter_reason:N\", columns=3\n",
    ")\n",
    "\n",
    "##note that renewal for metal dont make too mcuh sense prior June 2019 --> we launched in June 2018."
   ],
   "outputs": [
    {
     "output_type": "stream",
     "name": "stderr",
     "text": [
      "/usr/local/lib/python3.6/dist-packages/ipykernel_launcher.py:9: SettingWithCopyWarning: \n",
      "A value is trying to be set on a copy of a slice from a DataFrame.\n",
      "Try using .loc[row_indexer,col_indexer] = value instead\n",
      "\n",
      "See the caveats in the documentation: https://pandas.pydata.org/pandas-docs/stable/user_guide/indexing.html#returning-a-view-versus-a-copy\n",
      "  if __name__ == '__main__':\n"
     ]
    },
    {
     "output_type": "execute_result",
     "data": {
      "text/plain": [
       "alt.FacetChart(...)"
      ],
      "text/html": [
       "\n",
       "<div id=\"altair-viz-94c533e1c84a473baf33834e5f4b4e6d\"></div>\n",
       "<script type=\"text/javascript\">\n",
       "  (function(spec, embedOpt){\n",
       "    let outputDiv = document.currentScript.previousElementSibling;\n",
       "    if (outputDiv.id !== \"altair-viz-94c533e1c84a473baf33834e5f4b4e6d\") {\n",
       "      outputDiv = document.getElementById(\"altair-viz-94c533e1c84a473baf33834e5f4b4e6d\");\n",
       "    }\n",
       "    const paths = {\n",
       "      \"vega\": \"https://cdn.jsdelivr.net/npm//vega@5?noext\",\n",
       "      \"vega-lib\": \"https://cdn.jsdelivr.net/npm//vega-lib?noext\",\n",
       "      \"vega-lite\": \"https://cdn.jsdelivr.net/npm//vega-lite@4.8.1?noext\",\n",
       "      \"vega-embed\": \"https://cdn.jsdelivr.net/npm//vega-embed@6?noext\",\n",
       "    };\n",
       "\n",
       "    function loadScript(lib) {\n",
       "      return new Promise(function(resolve, reject) {\n",
       "        var s = document.createElement('script');\n",
       "        s.src = paths[lib];\n",
       "        s.async = true;\n",
       "        s.onload = () => resolve(paths[lib]);\n",
       "        s.onerror = () => reject(`Error loading script: ${paths[lib]}`);\n",
       "        document.getElementsByTagName(\"head\")[0].appendChild(s);\n",
       "      });\n",
       "    }\n",
       "\n",
       "    function showError(err) {\n",
       "      outputDiv.innerHTML = `<div class=\"error\" style=\"color:red;\">${err}</div>`;\n",
       "      throw err;\n",
       "    }\n",
       "\n",
       "    function displayChart(vegaEmbed) {\n",
       "      vegaEmbed(outputDiv, spec, embedOpt)\n",
       "        .catch(err => showError(`Javascript Error: ${err.message}<br>This usually means there's a typo in your chart specification. See the javascript console for the full traceback.`));\n",
       "    }\n",
       "\n",
       "    if(typeof define === \"function\" && define.amd) {\n",
       "      requirejs.config({paths});\n",
       "      require([\"vega-embed\"], displayChart, err => showError(`Error loading script: ${err.message}`));\n",
       "    } else if (typeof vegaEmbed === \"function\") {\n",
       "      displayChart(vegaEmbed);\n",
       "    } else {\n",
       "      loadScript(\"vega\")\n",
       "        .then(() => loadScript(\"vega-lite\"))\n",
       "        .then(() => loadScript(\"vega-embed\"))\n",
       "        .catch(showError)\n",
       "        .then(() => displayChart(vegaEmbed));\n",
       "    }\n",
       "  })({\"config\": {\"view\": {\"continuousWidth\": 400, \"continuousHeight\": 300}}, \"data\": {\"name\": \"data-7a41058d818ddbc58941f235f2d04359\"}, \"facet\": {\"type\": \"nominal\", \"field\": \"enter_reason\"}, \"spec\": {\"mark\": \"line\", \"encoding\": {\"color\": {\"type\": \"nominal\", \"field\": \"product_id\"}, \"x\": {\"type\": \"nominal\", \"axis\": {\"title\": \"Month of sub start\"}, \"field\": \"month\"}, \"y\": {\"type\": \"quantitative\", \"axis\": {\"format\": \"%\", \"title\": \"% subs charged\"}, \"field\": \"charged\"}}, \"height\": 300, \"title\": \"% of 12 months charged\", \"width\": 300}, \"columns\": 3, \"$schema\": \"https://vega.github.io/schema/vega-lite/v4.8.1.json\", \"datasets\": {\"data-7a41058d818ddbc58941f235f2d04359\": [{\"product_id\": \"BLACK_CARD_MONTHLY\", \"month\": \"2019-01\", \"enter_reason\": \"SIGNUP\", \"charged\": 0.6951089845826688}, {\"product_id\": \"BLACK_CARD_MONTHLY\", \"month\": \"2019-01\", \"enter_reason\": \"UPGRADED\", \"charged\": 0.7271767381416504}, {\"product_id\": \"BLACK_CARD_MONTHLY\", \"month\": \"2019-02\", \"enter_reason\": \"SIGNUP\", \"charged\": 0.6715712581991652}, {\"product_id\": \"BLACK_CARD_MONTHLY\", \"month\": \"2019-02\", \"enter_reason\": \"UPGRADED\", \"charged\": 0.6651305683563749}, {\"product_id\": \"BLACK_CARD_MONTHLY\", \"month\": \"2019-03\", \"enter_reason\": \"SIGNUP\", \"charged\": 0.651227537332321}, {\"product_id\": \"BLACK_CARD_MONTHLY\", \"month\": \"2019-03\", \"enter_reason\": \"UPGRADED\", \"charged\": 0.6676204101096805}, {\"product_id\": \"BLACK_CARD_MONTHLY\", \"month\": \"2019-04\", \"enter_reason\": \"SIGNUP\", \"charged\": 0.6342435503850918}, {\"product_id\": \"BLACK_CARD_MONTHLY\", \"month\": \"2019-04\", \"enter_reason\": \"UPGRADED\", \"charged\": 0.7053308823529412}, {\"product_id\": \"BLACK_CARD_MONTHLY\", \"month\": \"2019-05\", \"enter_reason\": \"SIGNUP\", \"charged\": 0.6647346234910902}, {\"product_id\": \"BLACK_CARD_MONTHLY\", \"month\": \"2019-05\", \"enter_reason\": \"UPGRADED\", \"charged\": 0.718671679197995}, {\"product_id\": \"BLACK_CARD_MONTHLY\", \"month\": \"2019-06\", \"enter_reason\": \"SIGNUP\", \"charged\": 0.6901905734218139}, {\"product_id\": \"BLACK_CARD_MONTHLY\", \"month\": \"2019-06\", \"enter_reason\": \"UPGRADED\", \"charged\": 0.6936951754385965}, {\"product_id\": \"BLACK_CARD_MONTHLY\", \"month\": \"2019-07\", \"enter_reason\": \"SIGNUP\", \"charged\": 0.7083420739808405}, {\"product_id\": \"BLACK_CARD_MONTHLY\", \"month\": \"2019-07\", \"enter_reason\": \"UPGRADED\", \"charged\": 0.7057898631150573}, {\"product_id\": \"BLACK_CARD_MONTHLY\", \"month\": \"2019-08\", \"enter_reason\": \"SIGNUP\", \"charged\": 0.7328134619331007}, {\"product_id\": \"BLACK_CARD_MONTHLY\", \"month\": \"2019-08\", \"enter_reason\": \"UPGRADED\", \"charged\": 0.7638167013167013}, {\"product_id\": \"BUSINESS_BLACK\", \"month\": \"2019-01\", \"enter_reason\": \"SIGNUP\", \"charged\": 0.6568056902683479}, {\"product_id\": \"BUSINESS_BLACK\", \"month\": \"2019-01\", \"enter_reason\": \"UPGRADED\", \"charged\": 0.7960526315789473}, {\"product_id\": \"BUSINESS_BLACK\", \"month\": \"2019-02\", \"enter_reason\": \"SIGNUP\", \"charged\": 0.6536831812255541}, {\"product_id\": \"BUSINESS_BLACK\", \"month\": \"2019-02\", \"enter_reason\": \"UPGRADED\", \"charged\": 0.7734082397003745}, {\"product_id\": \"BUSINESS_BLACK\", \"month\": \"2019-03\", \"enter_reason\": \"SIGNUP\", \"charged\": 0.6241506794564349}, {\"product_id\": \"BUSINESS_BLACK\", \"month\": \"2019-03\", \"enter_reason\": \"UPGRADED\", \"charged\": 0.7843038821954484}, {\"product_id\": \"BUSINESS_BLACK\", \"month\": \"2019-04\", \"enter_reason\": \"SIGNUP\", \"charged\": 0.5953337453646477}, {\"product_id\": \"BUSINESS_BLACK\", \"month\": \"2019-04\", \"enter_reason\": \"UPGRADED\", \"charged\": 0.7846774193548387}, {\"product_id\": \"BUSINESS_BLACK\", \"month\": \"2019-05\", \"enter_reason\": \"SIGNUP\", \"charged\": 0.6077586206896551}, {\"product_id\": \"BUSINESS_BLACK\", \"month\": \"2019-05\", \"enter_reason\": \"UPGRADED\", \"charged\": 0.7427437641723356}, {\"product_id\": \"BUSINESS_BLACK\", \"month\": \"2019-06\", \"enter_reason\": \"SIGNUP\", \"charged\": 0.5955597118315323}, {\"product_id\": \"BUSINESS_BLACK\", \"month\": \"2019-06\", \"enter_reason\": \"UPGRADED\", \"charged\": 0.7420390344119158}, {\"product_id\": \"BUSINESS_BLACK\", \"month\": \"2019-07\", \"enter_reason\": \"SIGNUP\", \"charged\": 0.5997018144905469}, {\"product_id\": \"BUSINESS_BLACK\", \"month\": \"2019-07\", \"enter_reason\": \"UPGRADED\", \"charged\": 0.7269547325102881}, {\"product_id\": \"BUSINESS_BLACK\", \"month\": \"2019-08\", \"enter_reason\": \"SIGNUP\", \"charged\": 0.6136154553817847}, {\"product_id\": \"BUSINESS_BLACK\", \"month\": \"2019-08\", \"enter_reason\": \"UPGRADED\", \"charged\": 0.7313614262560778}, {\"product_id\": \"FLEX_ACCOUNT_MONTHLY\", \"month\": \"2019-01\", \"enter_reason\": \"SIGNUP\", \"charged\": 0.7879841112214498}, {\"product_id\": \"FLEX_ACCOUNT_MONTHLY\", \"month\": \"2019-02\", \"enter_reason\": \"SIGNUP\", \"charged\": 0.7535325702981489}, {\"product_id\": \"FLEX_ACCOUNT_MONTHLY\", \"month\": \"2019-03\", \"enter_reason\": \"SIGNUP\", \"charged\": 0.6982806433721576}, {\"product_id\": \"FLEX_ACCOUNT_MONTHLY\", \"month\": \"2019-04\", \"enter_reason\": \"SIGNUP\", \"charged\": 0.6862565044383226}, {\"product_id\": \"FLEX_ACCOUNT_MONTHLY\", \"month\": \"2019-05\", \"enter_reason\": \"SIGNUP\", \"charged\": 0.6933239524702939}, {\"product_id\": \"FLEX_ACCOUNT_MONTHLY\", \"month\": \"2019-06\", \"enter_reason\": \"SIGNUP\", \"charged\": 0.7117280747275558}, {\"product_id\": \"FLEX_ACCOUNT_MONTHLY\", \"month\": \"2019-07\", \"enter_reason\": \"SIGNUP\", \"charged\": 0.723391812865497}, {\"product_id\": \"FLEX_ACCOUNT_MONTHLY\", \"month\": \"2019-08\", \"enter_reason\": \"SIGNUP\", \"charged\": 0.7204904405652536}, {\"product_id\": \"METAL_CARD_MONTHLY\", \"month\": \"2019-01\", \"enter_reason\": \"SIGNUP\", \"charged\": 0.6409908331873649}, {\"product_id\": \"METAL_CARD_MONTHLY\", \"month\": \"2019-01\", \"enter_reason\": \"UPGRADED\", \"charged\": 0.7606492173466769}, {\"product_id\": \"METAL_CARD_MONTHLY\", \"month\": \"2019-02\", \"enter_reason\": \"SIGNUP\", \"charged\": 0.6287935478506693}, {\"product_id\": \"METAL_CARD_MONTHLY\", \"month\": \"2019-02\", \"enter_reason\": \"UPGRADED\", \"charged\": 0.7453972868217055}, {\"product_id\": \"METAL_CARD_MONTHLY\", \"month\": \"2019-03\", \"enter_reason\": \"SIGNUP\", \"charged\": 0.6292589945198952}, {\"product_id\": \"METAL_CARD_MONTHLY\", \"month\": \"2019-03\", \"enter_reason\": \"UPGRADED\", \"charged\": 0.7670697908793147}, {\"product_id\": \"METAL_CARD_MONTHLY\", \"month\": \"2019-04\", \"enter_reason\": \"SIGNUP\", \"charged\": 0.6790479856299718}, {\"product_id\": \"METAL_CARD_MONTHLY\", \"month\": \"2019-04\", \"enter_reason\": \"UPGRADED\", \"charged\": 0.7243497971844428}, {\"product_id\": \"METAL_CARD_MONTHLY\", \"month\": \"2019-05\", \"enter_reason\": \"SIGNUP\", \"charged\": 0.6746879106438897}, {\"product_id\": \"METAL_CARD_MONTHLY\", \"month\": \"2019-05\", \"enter_reason\": \"UPGRADED\", \"charged\": 0.7198360254527656}, {\"product_id\": \"METAL_CARD_MONTHLY\", \"month\": \"2019-06\", \"enter_reason\": \"SIGNUP\", \"charged\": 0.6546267893660531}, {\"product_id\": \"METAL_CARD_MONTHLY\", \"month\": \"2019-06\", \"enter_reason\": \"UPGRADED\", \"charged\": 0.740009746588694}, {\"product_id\": \"METAL_CARD_MONTHLY\", \"month\": \"2019-07\", \"enter_reason\": \"SIGNUP\", \"charged\": 0.6517955711409832}, {\"product_id\": \"METAL_CARD_MONTHLY\", \"month\": \"2019-07\", \"enter_reason\": \"UPGRADED\", \"charged\": 0.7285617059891107}, {\"product_id\": \"METAL_CARD_MONTHLY\", \"month\": \"2019-08\", \"enter_reason\": \"SIGNUP\", \"charged\": 0.6391758594525185}, {\"product_id\": \"METAL_CARD_MONTHLY\", \"month\": \"2019-08\", \"enter_reason\": \"UPGRADED\", \"charged\": 0.7396993318485523}]}}, {\"mode\": \"vega-lite\"});\n",
       "</script>"
      ]
     },
     "metadata": {
      "tags": []
     },
     "execution_count": 25
    }
   ],
   "metadata": {
    "colab": {
     "base_uri": "https://localhost:8080/",
     "height": 536
    },
    "colab_type": "code",
    "id": "GT6-3_BpOo2K",
    "outputId": "6ed59f95-fb1d-46d5-824c-3a0d60b18582"
   }
  },
  {
   "cell_type": "markdown",
   "source": [
    "### Why are not all users charged? \n",
    "\n",
    "Most likely this is because of churn. The next graph visualizes the % of payments we charged to customers while they still had the product e.g. dropping all payment numbers that happened after they were dropped by dunning/AML.\n",
    "\n",
    "What explains the delta between 100% and the realized values now? \n",
    "- we did not charge fees from customers that should be charged\n",
    "- user had a discount \n",
    "- user was an employee \n",
    "- problem in our code\n",
    "\n"
   ],
   "metadata": {
    "colab_type": "text",
    "id": "NouF3Xa_Si6G"
   }
  },
  {
   "cell_type": "code",
   "execution_count": 23,
   "source": [
    "data = df\n",
    "\n",
    "# drop all subscription pamyents that would not be running anymore.\n",
    "data = data.loc[data[\"subscription_valid_from\"] < \"2019-09-01\", :]\n",
    "\n",
    "# trim market\n",
    "data[\"market\"] = data[\"market\"].str.strip()\n",
    "\n",
    "# drop UK\n",
    "data = data.loc[data[\"market\"] != \"GBR\", :]\n",
    "data[\"month\"] = pd.to_datetime(data[\"subscription_valid_from\"]).dt.to_period(\"M\")\n",
    "\n",
    "data[\"age_churn\"] = (\n",
    "    pd.to_datetime(data[\"subscription_valid_until\"])\n",
    "    - pd.to_datetime(data[\"subscription_valid_from\"])\n",
    ") / np.timedelta64(1, \"M\")\n",
    "data[\"age_churn\"] = data[\"age_churn\"].round()\n",
    "\n",
    "# keep only payment_no that were still relevant for user -_> e.g. drop payment_no that would have happened after churn.\n",
    "data = data.loc[data[\"age_churn\"] >= data[\"payment_no\"], :]\n",
    "\n",
    "data = (\n",
    "    data.groupby([\"product_id\", \"month\", \"enter_reason\"])[\"charged\"]\n",
    "    .agg(\"mean\")\n",
    "    .reset_index()\n",
    ")\n",
    "\n",
    "data[\"month\"] = data[\"month\"].astype(str)\n",
    "\n",
    "alt.Chart(\n",
    "    data.loc[\n",
    "        (data[\"enter_reason\"] != \"DOWNGRADED\") & (data[\"enter_reason\"] != \"RENEWED\"), :\n",
    "    ]\n",
    ").mark_line().encode(\n",
    "    x=alt.X(\"month:N\", axis=alt.Axis(title=\"Month of sub start\")),\n",
    "    y=alt.Y(\"charged:Q\", axis=alt.Axis(format=\"%\", title=\"% subs charged\")),\n",
    "    color=\"product_id:N\",\n",
    ").properties(\n",
    "    width=300, height=300, title=\"% of 12 months charged\"\n",
    ").facet(\n",
    "    facet=\"enter_reason:N\", columns=3\n",
    ")"
   ],
   "outputs": [
    {
     "output_type": "stream",
     "name": "stderr",
     "text": [
      "/usr/local/lib/python3.6/dist-packages/ipykernel_launcher.py:7: SettingWithCopyWarning: \n",
      "A value is trying to be set on a copy of a slice from a DataFrame.\n",
      "Try using .loc[row_indexer,col_indexer] = value instead\n",
      "\n",
      "See the caveats in the documentation: https://pandas.pydata.org/pandas-docs/stable/user_guide/indexing.html#returning-a-view-versus-a-copy\n",
      "  import sys\n"
     ]
    },
    {
     "output_type": "execute_result",
     "data": {
      "text/plain": [
       "alt.FacetChart(...)"
      ],
      "text/html": [
       "\n",
       "<div id=\"altair-viz-818b668eefe3440c8c84fe81485b4ac5\"></div>\n",
       "<script type=\"text/javascript\">\n",
       "  (function(spec, embedOpt){\n",
       "    let outputDiv = document.currentScript.previousElementSibling;\n",
       "    if (outputDiv.id !== \"altair-viz-818b668eefe3440c8c84fe81485b4ac5\") {\n",
       "      outputDiv = document.getElementById(\"altair-viz-818b668eefe3440c8c84fe81485b4ac5\");\n",
       "    }\n",
       "    const paths = {\n",
       "      \"vega\": \"https://cdn.jsdelivr.net/npm//vega@5?noext\",\n",
       "      \"vega-lib\": \"https://cdn.jsdelivr.net/npm//vega-lib?noext\",\n",
       "      \"vega-lite\": \"https://cdn.jsdelivr.net/npm//vega-lite@4.8.1?noext\",\n",
       "      \"vega-embed\": \"https://cdn.jsdelivr.net/npm//vega-embed@6?noext\",\n",
       "    };\n",
       "\n",
       "    function loadScript(lib) {\n",
       "      return new Promise(function(resolve, reject) {\n",
       "        var s = document.createElement('script');\n",
       "        s.src = paths[lib];\n",
       "        s.async = true;\n",
       "        s.onload = () => resolve(paths[lib]);\n",
       "        s.onerror = () => reject(`Error loading script: ${paths[lib]}`);\n",
       "        document.getElementsByTagName(\"head\")[0].appendChild(s);\n",
       "      });\n",
       "    }\n",
       "\n",
       "    function showError(err) {\n",
       "      outputDiv.innerHTML = `<div class=\"error\" style=\"color:red;\">${err}</div>`;\n",
       "      throw err;\n",
       "    }\n",
       "\n",
       "    function displayChart(vegaEmbed) {\n",
       "      vegaEmbed(outputDiv, spec, embedOpt)\n",
       "        .catch(err => showError(`Javascript Error: ${err.message}<br>This usually means there's a typo in your chart specification. See the javascript console for the full traceback.`));\n",
       "    }\n",
       "\n",
       "    if(typeof define === \"function\" && define.amd) {\n",
       "      requirejs.config({paths});\n",
       "      require([\"vega-embed\"], displayChart, err => showError(`Error loading script: ${err.message}`));\n",
       "    } else if (typeof vegaEmbed === \"function\") {\n",
       "      displayChart(vegaEmbed);\n",
       "    } else {\n",
       "      loadScript(\"vega\")\n",
       "        .then(() => loadScript(\"vega-lite\"))\n",
       "        .then(() => loadScript(\"vega-embed\"))\n",
       "        .catch(showError)\n",
       "        .then(() => displayChart(vegaEmbed));\n",
       "    }\n",
       "  })({\"config\": {\"view\": {\"continuousWidth\": 400, \"continuousHeight\": 300}}, \"data\": {\"name\": \"data-7664bb8dc93419ec06436e5d56e26c57\"}, \"facet\": {\"type\": \"nominal\", \"field\": \"enter_reason\"}, \"spec\": {\"mark\": \"line\", \"encoding\": {\"color\": {\"type\": \"nominal\", \"field\": \"product_id\"}, \"x\": {\"type\": \"nominal\", \"axis\": {\"title\": \"Month of sub start\"}, \"field\": \"month\"}, \"y\": {\"type\": \"quantitative\", \"axis\": {\"format\": \"%\", \"title\": \"% subs charged\"}, \"field\": \"charged\"}}, \"height\": 300, \"title\": \"% of 12 months charged\", \"width\": 300}, \"columns\": 3, \"$schema\": \"https://vega.github.io/schema/vega-lite/v4.8.1.json\", \"datasets\": {\"data-7664bb8dc93419ec06436e5d56e26c57\": [{\"product_id\": \"BLACK_CARD_MONTHLY\", \"month\": \"2019-01\", \"enter_reason\": \"SIGNUP\", \"charged\": 0.9845630005998377}, {\"product_id\": \"BLACK_CARD_MONTHLY\", \"month\": \"2019-01\", \"enter_reason\": \"UPGRADED\", \"charged\": 0.9483338760447194}, {\"product_id\": \"BLACK_CARD_MONTHLY\", \"month\": \"2019-02\", \"enter_reason\": \"SIGNUP\", \"charged\": 0.9846255166462279}, {\"product_id\": \"BLACK_CARD_MONTHLY\", \"month\": \"2019-02\", \"enter_reason\": \"UPGRADED\", \"charged\": 0.9306004233039991}, {\"product_id\": \"BLACK_CARD_MONTHLY\", \"month\": \"2019-03\", \"enter_reason\": \"SIGNUP\", \"charged\": 0.9867373482579221}, {\"product_id\": \"BLACK_CARD_MONTHLY\", \"month\": \"2019-03\", \"enter_reason\": \"UPGRADED\", \"charged\": 0.9526325057228385}, {\"product_id\": \"BLACK_CARD_MONTHLY\", \"month\": \"2019-04\", \"enter_reason\": \"SIGNUP\", \"charged\": 0.9916324390457047}, {\"product_id\": \"BLACK_CARD_MONTHLY\", \"month\": \"2019-04\", \"enter_reason\": \"UPGRADED\", \"charged\": 0.9715755514866161}, {\"product_id\": \"BLACK_CARD_MONTHLY\", \"month\": \"2019-05\", \"enter_reason\": \"SIGNUP\", \"charged\": 0.9927509522054306}, {\"product_id\": \"BLACK_CARD_MONTHLY\", \"month\": \"2019-05\", \"enter_reason\": \"UPGRADED\", \"charged\": 0.9950386335908906}, {\"product_id\": \"BLACK_CARD_MONTHLY\", \"month\": \"2019-06\", \"enter_reason\": \"SIGNUP\", \"charged\": 0.9740087970225462}, {\"product_id\": \"BLACK_CARD_MONTHLY\", \"month\": \"2019-06\", \"enter_reason\": \"UPGRADED\", \"charged\": 0.8996924879191682}, {\"product_id\": \"BLACK_CARD_MONTHLY\", \"month\": \"2019-07\", \"enter_reason\": \"SIGNUP\", \"charged\": 0.9841715535235066}, {\"product_id\": \"BLACK_CARD_MONTHLY\", \"month\": \"2019-07\", \"enter_reason\": \"UPGRADED\", \"charged\": 0.9191372987755609}, {\"product_id\": \"BLACK_CARD_MONTHLY\", \"month\": \"2019-08\", \"enter_reason\": \"SIGNUP\", \"charged\": 0.9896504357711254}, {\"product_id\": \"BLACK_CARD_MONTHLY\", \"month\": \"2019-08\", \"enter_reason\": \"UPGRADED\", \"charged\": 0.9470617338244187}, {\"product_id\": \"BUSINESS_BLACK\", \"month\": \"2019-01\", \"enter_reason\": \"SIGNUP\", \"charged\": 0.9916201117318436}, {\"product_id\": \"BUSINESS_BLACK\", \"month\": \"2019-01\", \"enter_reason\": \"UPGRADED\", \"charged\": 0.9951060358890701}, {\"product_id\": \"BUSINESS_BLACK\", \"month\": \"2019-02\", \"enter_reason\": \"SIGNUP\", \"charged\": 0.9877735978112175}, {\"product_id\": \"BUSINESS_BLACK\", \"month\": \"2019-02\", \"enter_reason\": \"UPGRADED\", \"charged\": 0.9874809160305343}, {\"product_id\": \"BUSINESS_BLACK\", \"month\": \"2019-03\", \"enter_reason\": \"SIGNUP\", \"charged\": 0.9812849388317265}, {\"product_id\": \"BUSINESS_BLACK\", \"month\": \"2019-03\", \"enter_reason\": \"UPGRADED\", \"charged\": 0.9917944288490607}, {\"product_id\": \"BUSINESS_BLACK\", \"month\": \"2019-04\", \"enter_reason\": \"SIGNUP\", \"charged\": 0.990523869122117}, {\"product_id\": \"BUSINESS_BLACK\", \"month\": \"2019-04\", \"enter_reason\": \"UPGRADED\", \"charged\": 0.9980701754385964}, {\"product_id\": \"BUSINESS_BLACK\", \"month\": \"2019-05\", \"enter_reason\": \"SIGNUP\", \"charged\": 0.9949745737361652}, {\"product_id\": \"BUSINESS_BLACK\", \"month\": \"2019-05\", \"enter_reason\": \"UPGRADED\", \"charged\": 0.9945286853212444}, {\"product_id\": \"BUSINESS_BLACK\", \"month\": \"2019-06\", \"enter_reason\": \"SIGNUP\", \"charged\": 0.9950039125985674}, {\"product_id\": \"BUSINESS_BLACK\", \"month\": \"2019-06\", \"enter_reason\": \"UPGRADED\", \"charged\": 0.996077032810271}, {\"product_id\": \"BUSINESS_BLACK\", \"month\": \"2019-07\", \"enter_reason\": \"SIGNUP\", \"charged\": 0.9970893514196276}, {\"product_id\": \"BUSINESS_BLACK\", \"month\": \"2019-07\", \"enter_reason\": \"UPGRADED\", \"charged\": 0.9894080092861288}, {\"product_id\": \"BUSINESS_BLACK\", \"month\": \"2019-08\", \"enter_reason\": \"SIGNUP\", \"charged\": 0.9908441558441559}, {\"product_id\": \"BUSINESS_BLACK\", \"month\": \"2019-08\", \"enter_reason\": \"UPGRADED\", \"charged\": 0.9914529914529915}, {\"product_id\": \"FLEX_ACCOUNT_MONTHLY\", \"month\": \"2019-01\", \"enter_reason\": \"SIGNUP\", \"charged\": 0.9873808089043281}, {\"product_id\": \"FLEX_ACCOUNT_MONTHLY\", \"month\": \"2019-02\", \"enter_reason\": \"SIGNUP\", \"charged\": 0.9861963920224666}, {\"product_id\": \"FLEX_ACCOUNT_MONTHLY\", \"month\": \"2019-03\", \"enter_reason\": \"SIGNUP\", \"charged\": 0.9831104855735397}, {\"product_id\": \"FLEX_ACCOUNT_MONTHLY\", \"month\": \"2019-04\", \"enter_reason\": \"SIGNUP\", \"charged\": 0.9936495222838835}, {\"product_id\": \"FLEX_ACCOUNT_MONTHLY\", \"month\": \"2019-05\", \"enter_reason\": \"SIGNUP\", \"charged\": 0.9968757232122194}, {\"product_id\": \"FLEX_ACCOUNT_MONTHLY\", \"month\": \"2019-06\", \"enter_reason\": \"SIGNUP\", \"charged\": 0.999000124984377}, {\"product_id\": \"FLEX_ACCOUNT_MONTHLY\", \"month\": \"2019-07\", \"enter_reason\": \"SIGNUP\", \"charged\": 0.9993067110371603}, {\"product_id\": \"FLEX_ACCOUNT_MONTHLY\", \"month\": \"2019-08\", \"enter_reason\": \"SIGNUP\", \"charged\": 0.999354069363013}, {\"product_id\": \"METAL_CARD_MONTHLY\", \"month\": \"2019-01\", \"enter_reason\": \"SIGNUP\", \"charged\": 0.9961262417415276}, {\"product_id\": \"METAL_CARD_MONTHLY\", \"month\": \"2019-01\", \"enter_reason\": \"UPGRADED\", \"charged\": 0.9896306452995115}, {\"product_id\": \"METAL_CARD_MONTHLY\", \"month\": \"2019-02\", \"enter_reason\": \"SIGNUP\", \"charged\": 0.9940816114629841}, {\"product_id\": \"METAL_CARD_MONTHLY\", \"month\": \"2019-02\", \"enter_reason\": \"UPGRADED\", \"charged\": 0.9871400307759948}, {\"product_id\": \"METAL_CARD_MONTHLY\", \"month\": \"2019-03\", \"enter_reason\": \"SIGNUP\", \"charged\": 0.9952450740921674}, {\"product_id\": \"METAL_CARD_MONTHLY\", \"month\": \"2019-03\", \"enter_reason\": \"UPGRADED\", \"charged\": 0.9862945427361076}, {\"product_id\": \"METAL_CARD_MONTHLY\", \"month\": \"2019-04\", \"enter_reason\": \"SIGNUP\", \"charged\": 0.9974562175912337}, {\"product_id\": \"METAL_CARD_MONTHLY\", \"month\": \"2019-04\", \"enter_reason\": \"UPGRADED\", \"charged\": 0.9804459976701614}, {\"product_id\": \"METAL_CARD_MONTHLY\", \"month\": \"2019-05\", \"enter_reason\": \"SIGNUP\", \"charged\": 0.9970733338907936}, {\"product_id\": \"METAL_CARD_MONTHLY\", \"month\": \"2019-05\", \"enter_reason\": \"UPGRADED\", \"charged\": 0.9787891799055388}, {\"product_id\": \"METAL_CARD_MONTHLY\", \"month\": \"2019-06\", \"enter_reason\": \"SIGNUP\", \"charged\": 0.9977019835510401}, {\"product_id\": \"METAL_CARD_MONTHLY\", \"month\": \"2019-06\", \"enter_reason\": \"UPGRADED\", \"charged\": 0.9156906248387596}, {\"product_id\": \"METAL_CARD_MONTHLY\", \"month\": \"2019-07\", \"enter_reason\": \"SIGNUP\", \"charged\": 0.9979415397282833}, {\"product_id\": \"METAL_CARD_MONTHLY\", \"month\": \"2019-07\", \"enter_reason\": \"UPGRADED\", \"charged\": 0.9424830017627801}, {\"product_id\": \"METAL_CARD_MONTHLY\", \"month\": \"2019-08\", \"enter_reason\": \"SIGNUP\", \"charged\": 0.9909765200548023}, {\"product_id\": \"METAL_CARD_MONTHLY\", \"month\": \"2019-08\", \"enter_reason\": \"UPGRADED\", \"charged\": 0.9594175960346965}]}}, {\"mode\": \"vega-lite\"});\n",
       "</script>"
      ]
     },
     "metadata": {
      "tags": []
     },
     "execution_count": 23
    }
   ],
   "metadata": {
    "colab": {
     "base_uri": "https://localhost:8080/",
     "height": 537
    },
    "colab_type": "code",
    "id": "ubwv2ujrSofh",
    "outputId": "38a4883a-083e-4e0e-fe13-c1427222192d"
   }
  },
  {
   "cell_type": "markdown",
   "source": [
    "Let's drop discounts + employees explicitly. \n"
   ],
   "metadata": {
    "colab_type": "text",
    "id": "zZqq4wu-UceB"
   }
  },
  {
   "cell_type": "code",
   "execution_count": 22,
   "source": [
    "data = df\n",
    "\n",
    "# drop all discount_flg and overwrite_flg = True\n",
    "\n",
    "data = data.loc[(data[\"discount_flg\"] == False) & (data[\"override_flg\"] == False), :]\n",
    "\n",
    "# drop all subscription pamyents that would not be running anymore.\n",
    "data = data.loc[data[\"subscription_valid_from\"] < \"2019-09-01\", :]\n",
    "\n",
    "# trim market\n",
    "data[\"market\"] = data[\"market\"].str.strip()\n",
    "\n",
    "# drop UK\n",
    "data = data.loc[data[\"market\"] != \"GBR\", :]\n",
    "data[\"month\"] = pd.to_datetime(data[\"subscription_valid_from\"]).dt.to_period(\"M\")\n",
    "\n",
    "data[\"age_churn\"] = (\n",
    "    pd.to_datetime(data[\"subscription_valid_until\"])\n",
    "    - pd.to_datetime(data[\"subscription_valid_from\"])\n",
    ") / np.timedelta64(1, \"M\")\n",
    "data[\"age_churn\"] = data[\"age_churn\"].round()\n",
    "\n",
    "# keep only payment_no that were still relevant for user -_> e.g. drop payment_no that would have happened after churn.\n",
    "data = data.loc[data[\"age_churn\"] >= data[\"payment_no\"], :]\n",
    "\n",
    "data = (\n",
    "    data.groupby([\"product_id\", \"month\", \"enter_reason\"])[\"charged\"]\n",
    "    .agg(\"mean\")\n",
    "    .reset_index()\n",
    ")\n",
    "\n",
    "data[\"month\"] = data[\"month\"].astype(str)\n",
    "\n",
    "alt.Chart(\n",
    "    data.loc[\n",
    "        (data[\"enter_reason\"] != \"DOWNGRADED\") & (data[\"enter_reason\"] != \"RENEWED\"), :\n",
    "    ]\n",
    ").mark_line().encode(\n",
    "    x=alt.X(\"month:N\", axis=alt.Axis(title=\"Month of sub start\")),\n",
    "    y=alt.Y(\"charged:Q\", axis=alt.Axis(format=\"%\", title=\"% subs charged\")),\n",
    "    color=\"product_id:N\",\n",
    ").properties(\n",
    "    width=300, height=300, title=\"% of 12 months charged\"\n",
    ").facet(\n",
    "    facet=\"enter_reason:N\", columns=3\n",
    ")"
   ],
   "outputs": [
    {
     "output_type": "execute_result",
     "data": {
      "text/plain": [
       "alt.FacetChart(...)"
      ],
      "text/html": [
       "\n",
       "<div id=\"altair-viz-9830d592827c49508c5baf4691f5a488\"></div>\n",
       "<script type=\"text/javascript\">\n",
       "  (function(spec, embedOpt){\n",
       "    let outputDiv = document.currentScript.previousElementSibling;\n",
       "    if (outputDiv.id !== \"altair-viz-9830d592827c49508c5baf4691f5a488\") {\n",
       "      outputDiv = document.getElementById(\"altair-viz-9830d592827c49508c5baf4691f5a488\");\n",
       "    }\n",
       "    const paths = {\n",
       "      \"vega\": \"https://cdn.jsdelivr.net/npm//vega@5?noext\",\n",
       "      \"vega-lib\": \"https://cdn.jsdelivr.net/npm//vega-lib?noext\",\n",
       "      \"vega-lite\": \"https://cdn.jsdelivr.net/npm//vega-lite@4.8.1?noext\",\n",
       "      \"vega-embed\": \"https://cdn.jsdelivr.net/npm//vega-embed@6?noext\",\n",
       "    };\n",
       "\n",
       "    function loadScript(lib) {\n",
       "      return new Promise(function(resolve, reject) {\n",
       "        var s = document.createElement('script');\n",
       "        s.src = paths[lib];\n",
       "        s.async = true;\n",
       "        s.onload = () => resolve(paths[lib]);\n",
       "        s.onerror = () => reject(`Error loading script: ${paths[lib]}`);\n",
       "        document.getElementsByTagName(\"head\")[0].appendChild(s);\n",
       "      });\n",
       "    }\n",
       "\n",
       "    function showError(err) {\n",
       "      outputDiv.innerHTML = `<div class=\"error\" style=\"color:red;\">${err}</div>`;\n",
       "      throw err;\n",
       "    }\n",
       "\n",
       "    function displayChart(vegaEmbed) {\n",
       "      vegaEmbed(outputDiv, spec, embedOpt)\n",
       "        .catch(err => showError(`Javascript Error: ${err.message}<br>This usually means there's a typo in your chart specification. See the javascript console for the full traceback.`));\n",
       "    }\n",
       "\n",
       "    if(typeof define === \"function\" && define.amd) {\n",
       "      requirejs.config({paths});\n",
       "      require([\"vega-embed\"], displayChart, err => showError(`Error loading script: ${err.message}`));\n",
       "    } else if (typeof vegaEmbed === \"function\") {\n",
       "      displayChart(vegaEmbed);\n",
       "    } else {\n",
       "      loadScript(\"vega\")\n",
       "        .then(() => loadScript(\"vega-lite\"))\n",
       "        .then(() => loadScript(\"vega-embed\"))\n",
       "        .catch(showError)\n",
       "        .then(() => displayChart(vegaEmbed));\n",
       "    }\n",
       "  })({\"config\": {\"view\": {\"continuousWidth\": 400, \"continuousHeight\": 300}}, \"data\": {\"name\": \"data-666adca64e8cab7865b777ee86c435ae\"}, \"facet\": {\"type\": \"nominal\", \"field\": \"enter_reason\"}, \"spec\": {\"mark\": \"line\", \"encoding\": {\"color\": {\"type\": \"nominal\", \"field\": \"product_id\"}, \"x\": {\"type\": \"nominal\", \"axis\": {\"title\": \"Month of sub start\"}, \"field\": \"month\"}, \"y\": {\"type\": \"quantitative\", \"axis\": {\"format\": \"%\", \"title\": \"% subs charged\"}, \"field\": \"charged\"}}, \"height\": 300, \"title\": \"% of 12 months charged\", \"width\": 300}, \"columns\": 3, \"$schema\": \"https://vega.github.io/schema/vega-lite/v4.8.1.json\", \"datasets\": {\"data-666adca64e8cab7865b777ee86c435ae\": [{\"product_id\": \"BLACK_CARD_MONTHLY\", \"month\": \"2019-01\", \"enter_reason\": \"SIGNUP\", \"charged\": 0.9961141752023494}, {\"product_id\": \"BLACK_CARD_MONTHLY\", \"month\": \"2019-01\", \"enter_reason\": \"UPGRADED\", \"charged\": 0.9935720844811754}, {\"product_id\": \"BLACK_CARD_MONTHLY\", \"month\": \"2019-02\", \"enter_reason\": \"SIGNUP\", \"charged\": 0.9941832394528106}, {\"product_id\": \"BLACK_CARD_MONTHLY\", \"month\": \"2019-02\", \"enter_reason\": \"UPGRADED\", \"charged\": 0.994453822040029}, {\"product_id\": \"BLACK_CARD_MONTHLY\", \"month\": \"2019-03\", \"enter_reason\": \"SIGNUP\", \"charged\": 0.9957385797921064}, {\"product_id\": \"BLACK_CARD_MONTHLY\", \"month\": \"2019-03\", \"enter_reason\": \"UPGRADED\", \"charged\": 0.9940718784735088}, {\"product_id\": \"BLACK_CARD_MONTHLY\", \"month\": \"2019-04\", \"enter_reason\": \"SIGNUP\", \"charged\": 0.9963287827826508}, {\"product_id\": \"BLACK_CARD_MONTHLY\", \"month\": \"2019-04\", \"enter_reason\": \"UPGRADED\", \"charged\": 0.9953182677590708}, {\"product_id\": \"BLACK_CARD_MONTHLY\", \"month\": \"2019-05\", \"enter_reason\": \"SIGNUP\", \"charged\": 0.9981688154215437}, {\"product_id\": \"BLACK_CARD_MONTHLY\", \"month\": \"2019-05\", \"enter_reason\": \"UPGRADED\", \"charged\": 0.9981195323358679}, {\"product_id\": \"BLACK_CARD_MONTHLY\", \"month\": \"2019-06\", \"enter_reason\": \"SIGNUP\", \"charged\": 0.9992041258117916}, {\"product_id\": \"BLACK_CARD_MONTHLY\", \"month\": \"2019-06\", \"enter_reason\": \"UPGRADED\", \"charged\": 0.9991842062326644}, {\"product_id\": \"BLACK_CARD_MONTHLY\", \"month\": \"2019-07\", \"enter_reason\": \"SIGNUP\", \"charged\": 0.9996950909645289}, {\"product_id\": \"BLACK_CARD_MONTHLY\", \"month\": \"2019-07\", \"enter_reason\": \"UPGRADED\", \"charged\": 0.9991878722252301}, {\"product_id\": \"BLACK_CARD_MONTHLY\", \"month\": \"2019-08\", \"enter_reason\": \"SIGNUP\", \"charged\": 0.9939484906964001}, {\"product_id\": \"BLACK_CARD_MONTHLY\", \"month\": \"2019-08\", \"enter_reason\": \"UPGRADED\", \"charged\": 0.9986644213460311}, {\"product_id\": \"BUSINESS_BLACK\", \"month\": \"2019-01\", \"enter_reason\": \"SIGNUP\", \"charged\": 0.9927351516696405}, {\"product_id\": \"BUSINESS_BLACK\", \"month\": \"2019-01\", \"enter_reason\": \"UPGRADED\", \"charged\": 0.9951060358890701}, {\"product_id\": \"BUSINESS_BLACK\", \"month\": \"2019-02\", \"enter_reason\": \"SIGNUP\", \"charged\": 0.9895404663923183}, {\"product_id\": \"BUSINESS_BLACK\", \"month\": \"2019-02\", \"enter_reason\": \"UPGRADED\", \"charged\": 0.9895801409745633}, {\"product_id\": \"BUSINESS_BLACK\", \"month\": \"2019-03\", \"enter_reason\": \"SIGNUP\", \"charged\": 0.9817547843010055}, {\"product_id\": \"BUSINESS_BLACK\", \"month\": \"2019-03\", \"enter_reason\": \"UPGRADED\", \"charged\": 0.9930720935267374}, {\"product_id\": \"BUSINESS_BLACK\", \"month\": \"2019-04\", \"enter_reason\": \"SIGNUP\", \"charged\": 0.9905136925004475}, {\"product_id\": \"BUSINESS_BLACK\", \"month\": \"2019-04\", \"enter_reason\": \"UPGRADED\", \"charged\": 0.9980661040787623}, {\"product_id\": \"BUSINESS_BLACK\", \"month\": \"2019-05\", \"enter_reason\": \"SIGNUP\", \"charged\": 0.996521113243762}, {\"product_id\": \"BUSINESS_BLACK\", \"month\": \"2019-05\", \"enter_reason\": \"UPGRADED\", \"charged\": 0.9962411902897416}, {\"product_id\": \"BUSINESS_BLACK\", \"month\": \"2019-06\", \"enter_reason\": \"SIGNUP\", \"charged\": 0.9969171250680046}, {\"product_id\": \"BUSINESS_BLACK\", \"month\": \"2019-06\", \"enter_reason\": \"UPGRADED\", \"charged\": 0.9996418338108882}, {\"product_id\": \"BUSINESS_BLACK\", \"month\": \"2019-07\", \"enter_reason\": \"SIGNUP\", \"charged\": 0.9987887463524748}, {\"product_id\": \"BUSINESS_BLACK\", \"month\": \"2019-07\", \"enter_reason\": \"UPGRADED\", \"charged\": 0.9991204925241864}, {\"product_id\": \"BUSINESS_BLACK\", \"month\": \"2019-08\", \"enter_reason\": \"SIGNUP\", \"charged\": 0.9912269300753834}, {\"product_id\": \"BUSINESS_BLACK\", \"month\": \"2019-08\", \"enter_reason\": \"UPGRADED\", \"charged\": 0.9980875884490342}, {\"product_id\": \"FLEX_ACCOUNT_MONTHLY\", \"month\": \"2019-01\", \"enter_reason\": \"SIGNUP\", \"charged\": 0.9873808089043281}, {\"product_id\": \"FLEX_ACCOUNT_MONTHLY\", \"month\": \"2019-02\", \"enter_reason\": \"SIGNUP\", \"charged\": 0.9861963920224666}, {\"product_id\": \"FLEX_ACCOUNT_MONTHLY\", \"month\": \"2019-03\", \"enter_reason\": \"SIGNUP\", \"charged\": 0.9831104855735397}, {\"product_id\": \"FLEX_ACCOUNT_MONTHLY\", \"month\": \"2019-04\", \"enter_reason\": \"SIGNUP\", \"charged\": 0.9936495222838835}, {\"product_id\": \"FLEX_ACCOUNT_MONTHLY\", \"month\": \"2019-05\", \"enter_reason\": \"SIGNUP\", \"charged\": 0.9968757232122194}, {\"product_id\": \"FLEX_ACCOUNT_MONTHLY\", \"month\": \"2019-06\", \"enter_reason\": \"SIGNUP\", \"charged\": 0.9989993746091307}, {\"product_id\": \"FLEX_ACCOUNT_MONTHLY\", \"month\": \"2019-07\", \"enter_reason\": \"SIGNUP\", \"charged\": 0.9993067110371603}, {\"product_id\": \"FLEX_ACCOUNT_MONTHLY\", \"month\": \"2019-08\", \"enter_reason\": \"SIGNUP\", \"charged\": 0.999354069363013}, {\"product_id\": \"METAL_CARD_MONTHLY\", \"month\": \"2019-01\", \"enter_reason\": \"SIGNUP\", \"charged\": 0.9968576665793796}, {\"product_id\": \"METAL_CARD_MONTHLY\", \"month\": \"2019-01\", \"enter_reason\": \"UPGRADED\", \"charged\": 0.9960995059374187}, {\"product_id\": \"METAL_CARD_MONTHLY\", \"month\": \"2019-02\", \"enter_reason\": \"SIGNUP\", \"charged\": 0.9961785652249435}, {\"product_id\": \"METAL_CARD_MONTHLY\", \"month\": \"2019-02\", \"enter_reason\": \"UPGRADED\", \"charged\": 0.9973273942093541}, {\"product_id\": \"METAL_CARD_MONTHLY\", \"month\": \"2019-03\", \"enter_reason\": \"SIGNUP\", \"charged\": 0.995695979653722}, {\"product_id\": \"METAL_CARD_MONTHLY\", \"month\": \"2019-03\", \"enter_reason\": \"UPGRADED\", \"charged\": 0.9954602774274905}, {\"product_id\": \"METAL_CARD_MONTHLY\", \"month\": \"2019-04\", \"enter_reason\": \"SIGNUP\", \"charged\": 0.9978450386913508}, {\"product_id\": \"METAL_CARD_MONTHLY\", \"month\": \"2019-04\", \"enter_reason\": \"UPGRADED\", \"charged\": 0.9964340295466123}, {\"product_id\": \"METAL_CARD_MONTHLY\", \"month\": \"2019-05\", \"enter_reason\": \"SIGNUP\", \"charged\": 0.9984499371596146}, {\"product_id\": \"METAL_CARD_MONTHLY\", \"month\": \"2019-05\", \"enter_reason\": \"UPGRADED\", \"charged\": 0.9986802745029034}, {\"product_id\": \"METAL_CARD_MONTHLY\", \"month\": \"2019-06\", \"enter_reason\": \"SIGNUP\", \"charged\": 0.9992306757905819}, {\"product_id\": \"METAL_CARD_MONTHLY\", \"month\": \"2019-06\", \"enter_reason\": \"UPGRADED\", \"charged\": 0.99898505779532}, {\"product_id\": \"METAL_CARD_MONTHLY\", \"month\": \"2019-07\", \"enter_reason\": \"SIGNUP\", \"charged\": 0.9993548387096775}, {\"product_id\": \"METAL_CARD_MONTHLY\", \"month\": \"2019-07\", \"enter_reason\": \"UPGRADED\", \"charged\": 0.9991978609625668}, {\"product_id\": \"METAL_CARD_MONTHLY\", \"month\": \"2019-08\", \"enter_reason\": \"SIGNUP\", \"charged\": 0.991064041039219}, {\"product_id\": \"METAL_CARD_MONTHLY\", \"month\": \"2019-08\", \"enter_reason\": \"UPGRADED\", \"charged\": 0.9978056021685814}]}}, {\"mode\": \"vega-lite\"});\n",
       "</script>"
      ]
     },
     "metadata": {
      "tags": []
     },
     "execution_count": 22
    }
   ],
   "metadata": {
    "colab": {
     "base_uri": "https://localhost:8080/",
     "height": 435
    },
    "colab_type": "code",
    "id": "IFOBnjKNUfAZ",
    "outputId": "e47abab2-2047-49be-d599-298c818a33c2"
   }
  },
  {
   "cell_type": "markdown",
   "source": [
    "#### Do we find charges AFTER the subscription already should have ended? "
   ],
   "metadata": {
    "colab_type": "text",
    "id": "PpT9xNUSVz9p"
   }
  },
  {
   "cell_type": "code",
   "execution_count": 18,
   "source": [
    "data = df\n",
    "\n",
    "# drop all discount_flg and overwrite_flg = True\n",
    "data = data.loc[(data[\"discount_flg\"] == False) & (data[\"override_flg\"] == False), :]\n",
    "\n",
    "# drop all subscription pamyents that would not be running anymore.\n",
    "data = data.loc[data[\"subscription_valid_from\"] < \"2019-09-01\", :]\n",
    "\n",
    "# trim market\n",
    "data[\"market\"] = data[\"market\"].str.strip()\n",
    "\n",
    "# drop UK\n",
    "data = data.loc[data[\"market\"] != \"GBR\", :]\n",
    "data[\"month\"] = pd.to_datetime(data[\"subscription_valid_from\"]).dt.to_period(\"M\")\n",
    "\n",
    "data[\"age_churn\"] = (\n",
    "    pd.to_datetime(data[\"subscription_valid_until\"])\n",
    "    - pd.to_datetime(data[\"subscription_valid_from\"])\n",
    ") / np.timedelta64(1, \"M\")\n",
    "data[\"age_churn\"] = data[\"age_churn\"].round()\n",
    "\n",
    "# scheduled date\n",
    "data[\"days\"] = data[\"payment_no\"].astype(int) * 30\n",
    "data[\"scheduled_date\"] = (\n",
    "    pd.to_datetime(data[\"subscription_valid_from\"])\n",
    "    + pd.to_timedelta(data[\"days\"], unit=\"D\")\n",
    ").dt.date\n",
    "\n",
    "# difference between scheduled data and sub_end\n",
    "data[\"diff\"] = (\n",
    "    pd.to_datetime(data[\"scheduled_date\"])\n",
    "    - pd.to_datetime(data[\"subscription_valid_until\"])\n",
    ") / np.timedelta64(1, \"M\")\n",
    "data[\"diff\"] = data[\"diff\"].round()\n",
    "\n",
    "data = data.groupby([\"product_id\", \"diff\"])[\"charged\"].agg(\"mean\").reset_index()\n",
    "\n",
    "alt.Chart(data.loc[abs(data[\"diff\"]) <= 3, :]).mark_line().encode(\n",
    "    x=alt.X(\"diff:N\", axis=alt.Axis(title=\"Months to subscription end\")),\n",
    "    y=alt.Y(\"charged:Q\", axis=alt.Axis(format=\"%\", title=\"% subs charged\")),\n",
    "    color=\"product_id:N\",\n",
    ").properties(width=500, height=500, title=\"% of 12 months charged\")"
   ],
   "outputs": [
    {
     "output_type": "execute_result",
     "data": {
      "text/plain": [
       "alt.Chart(...)"
      ],
      "text/html": [
       "\n",
       "<div id=\"altair-viz-ae6aaa1c99504a35aa0cbf0bd967440c\"></div>\n",
       "<script type=\"text/javascript\">\n",
       "  (function(spec, embedOpt){\n",
       "    let outputDiv = document.currentScript.previousElementSibling;\n",
       "    if (outputDiv.id !== \"altair-viz-ae6aaa1c99504a35aa0cbf0bd967440c\") {\n",
       "      outputDiv = document.getElementById(\"altair-viz-ae6aaa1c99504a35aa0cbf0bd967440c\");\n",
       "    }\n",
       "    const paths = {\n",
       "      \"vega\": \"https://cdn.jsdelivr.net/npm//vega@5?noext\",\n",
       "      \"vega-lib\": \"https://cdn.jsdelivr.net/npm//vega-lib?noext\",\n",
       "      \"vega-lite\": \"https://cdn.jsdelivr.net/npm//vega-lite@4.8.1?noext\",\n",
       "      \"vega-embed\": \"https://cdn.jsdelivr.net/npm//vega-embed@6?noext\",\n",
       "    };\n",
       "\n",
       "    function loadScript(lib) {\n",
       "      return new Promise(function(resolve, reject) {\n",
       "        var s = document.createElement('script');\n",
       "        s.src = paths[lib];\n",
       "        s.async = true;\n",
       "        s.onload = () => resolve(paths[lib]);\n",
       "        s.onerror = () => reject(`Error loading script: ${paths[lib]}`);\n",
       "        document.getElementsByTagName(\"head\")[0].appendChild(s);\n",
       "      });\n",
       "    }\n",
       "\n",
       "    function showError(err) {\n",
       "      outputDiv.innerHTML = `<div class=\"error\" style=\"color:red;\">${err}</div>`;\n",
       "      throw err;\n",
       "    }\n",
       "\n",
       "    function displayChart(vegaEmbed) {\n",
       "      vegaEmbed(outputDiv, spec, embedOpt)\n",
       "        .catch(err => showError(`Javascript Error: ${err.message}<br>This usually means there's a typo in your chart specification. See the javascript console for the full traceback.`));\n",
       "    }\n",
       "\n",
       "    if(typeof define === \"function\" && define.amd) {\n",
       "      requirejs.config({paths});\n",
       "      require([\"vega-embed\"], displayChart, err => showError(`Error loading script: ${err.message}`));\n",
       "    } else if (typeof vegaEmbed === \"function\") {\n",
       "      displayChart(vegaEmbed);\n",
       "    } else {\n",
       "      loadScript(\"vega\")\n",
       "        .then(() => loadScript(\"vega-lite\"))\n",
       "        .then(() => loadScript(\"vega-embed\"))\n",
       "        .catch(showError)\n",
       "        .then(() => displayChart(vegaEmbed));\n",
       "    }\n",
       "  })({\"config\": {\"view\": {\"continuousWidth\": 400, \"continuousHeight\": 300}}, \"data\": {\"name\": \"data-03e6ab79181a33a72573cca02cb178b8\"}, \"mark\": \"line\", \"encoding\": {\"color\": {\"type\": \"nominal\", \"field\": \"product_id\"}, \"x\": {\"type\": \"nominal\", \"axis\": {\"title\": \"Months to subscription end\"}, \"field\": \"diff\"}, \"y\": {\"type\": \"quantitative\", \"axis\": {\"format\": \"%\", \"title\": \"% subs charged\"}, \"field\": \"charged\"}}, \"height\": 500, \"title\": \"% of 12 months charged\", \"width\": 500, \"$schema\": \"https://vega.github.io/schema/vega-lite/v4.8.1.json\", \"datasets\": {\"data-03e6ab79181a33a72573cca02cb178b8\": [{\"product_id\": \"BLACK_CARD_MONTHLY\", \"diff\": -3.0, \"charged\": 0.9983091075500675}, {\"product_id\": \"BLACK_CARD_MONTHLY\", \"diff\": -2.0, \"charged\": 0.9964463506165275}, {\"product_id\": \"BLACK_CARD_MONTHLY\", \"diff\": -1.0, \"charged\": 0.9958882445967316}, {\"product_id\": \"BLACK_CARD_MONTHLY\", \"diff\": -0.0, \"charged\": 0.9813616054971467}, {\"product_id\": \"BLACK_CARD_MONTHLY\", \"diff\": 1.0, \"charged\": 0.2703984819734345}, {\"product_id\": \"BLACK_CARD_MONTHLY\", \"diff\": 2.0, \"charged\": 9.020386072523904e-05}, {\"product_id\": \"BLACK_CARD_MONTHLY\", \"diff\": 3.0, \"charged\": 9.280742459396752e-05}, {\"product_id\": \"BUSINESS_BLACK\", \"diff\": -3.0, \"charged\": 0.9993334073991779}, {\"product_id\": \"BUSINESS_BLACK\", \"diff\": -2.0, \"charged\": 0.9959125055236412}, {\"product_id\": \"BUSINESS_BLACK\", \"diff\": -1.0, \"charged\": 0.9954999451212819}, {\"product_id\": \"BUSINESS_BLACK\", \"diff\": -0.0, \"charged\": 0.9883344134802333}, {\"product_id\": \"BUSINESS_BLACK\", \"diff\": 1.0, \"charged\": 0.2619047619047619}, {\"product_id\": \"BUSINESS_BLACK\", \"diff\": 2.0, \"charged\": 0.0}, {\"product_id\": \"BUSINESS_BLACK\", \"diff\": 3.0, \"charged\": 0.0}, {\"product_id\": \"METAL_CARD_MONTHLY\", \"diff\": -3.0, \"charged\": 0.9994182241291543}, {\"product_id\": \"METAL_CARD_MONTHLY\", \"diff\": -2.0, \"charged\": 0.9961364867304567}, {\"product_id\": \"METAL_CARD_MONTHLY\", \"diff\": -1.0, \"charged\": 0.9957864667023746}, {\"product_id\": \"METAL_CARD_MONTHLY\", \"diff\": -0.0, \"charged\": 0.9791162969970917}, {\"product_id\": \"METAL_CARD_MONTHLY\", \"diff\": 1.0, \"charged\": 0.2450522570602624}, {\"product_id\": \"METAL_CARD_MONTHLY\", \"diff\": 2.0, \"charged\": 0.0004655493482309125}, {\"product_id\": \"METAL_CARD_MONTHLY\", \"diff\": 3.0, \"charged\": 0.00023781212841854935}]}}, {\"mode\": \"vega-lite\"});\n",
       "</script>"
      ]
     },
     "metadata": {
      "tags": []
     },
     "execution_count": 18
    }
   ],
   "metadata": {
    "colab": {
     "base_uri": "https://localhost:8080/",
     "height": 584
    },
    "colab_type": "code",
    "id": "59gtr8h6V3-k",
    "outputId": "5ea54ddd-e89f-4c2b-bad4-f2f73a38976f"
   }
  },
  {
   "cell_type": "markdown",
   "source": [
    "# Summary: % charged. \n",
    "\n",
    "It looks like our model captures all charges by users that should be charged. We reach 100% once we drop payments that were scheduled after the account was already downgraded + drop users with discounts / employees.\n",
    "\n",
    "\n",
    "\n"
   ],
   "metadata": {
    "colab_type": "text",
    "id": "6i7A7gdkVs1_"
   }
  },
  {
   "cell_type": "code",
   "execution_count": null,
   "source": [],
   "outputs": [],
   "metadata": {
    "colab": {},
    "colab_type": "code",
    "id": "4VYkmR9NXKcE"
   }
  },
  {
   "cell_type": "markdown",
   "source": [
    "## % of charges that are paid"
   ],
   "metadata": {
    "colab_type": "text",
    "id": "cGBCU9_i3T-B"
   }
  },
  {
   "cell_type": "code",
   "execution_count": 9,
   "source": [
    "data = df\n",
    "\n",
    "# drop all discount_flg and overwrite_flg = True\n",
    "data = data.loc[(data[\"discount_flg\"] == False) & (data[\"override_flg\"] == False), :]\n",
    "\n",
    "# trim market\n",
    "data[\"market\"] = data[\"market\"].str.strip()\n",
    "\n",
    "# drop UK\n",
    "data = data.loc[data[\"market\"] != \"GBR\", :]\n",
    "\n",
    "# keep only payments that were charged\n",
    "data = data.loc[data[\"charged\"] == True, :]\n",
    "\n",
    "# restrict on relevant cohorts\n",
    "data = data.loc[\n",
    "    pd.to_datetime(data[\"subscription_valid_from\"]) < pd.to_datetime(\"2020-08-01\"), :\n",
    "]\n",
    "data = data.loc[\n",
    "    pd.to_datetime(data[\"subscription_valid_from\"]) >= pd.to_datetime(\"2019-01-01\"), :\n",
    "]\n",
    "\n",
    "# convert to monthly cohorts\n",
    "data[\"month\"] = pd.to_datetime(data[\"subscription_valid_from\"]).dt.to_period(\"M\")\n",
    "\n",
    "# drop downgraders\n",
    "data = data.loc[data[\"enter_reason\"] != \"DOWNGRADED\", :]\n",
    "\n",
    "data = (\n",
    "    data.groupby([\"month\", \"product_id\", \"enter_reason\"])[\"paid\"]\n",
    "    .agg(\"mean\")\n",
    "    .reset_index()\n",
    ")\n",
    "\n",
    "data[\"month\"] = data[\"month\"].astype(str)\n",
    "\n",
    "alt.Chart(data).mark_line().encode(\n",
    "    x=alt.X(\"month:N\", axis=alt.Axis(title=\"Monthly cohort\")),\n",
    "    y=alt.Y(\n",
    "        \"paid:Q\", axis=alt.Axis(format=\"%\", title=\"% of charged fees that are paid\")\n",
    "    ),\n",
    "    color=\"product_id:N\",\n",
    ").properties(width=300, height=300, title=\"% of charged fees that are paid\").facet(\n",
    "    facet=\"enter_reason:N\", columns=3\n",
    ")"
   ],
   "outputs": [
    {
     "output_type": "stream",
     "name": "stderr",
     "text": [
      "/usr/local/lib/python3.6/dist-packages/ipykernel_launcher.py:7: SettingWithCopyWarning: \n",
      "A value is trying to be set on a copy of a slice from a DataFrame.\n",
      "Try using .loc[row_indexer,col_indexer] = value instead\n",
      "\n",
      "See the caveats in the documentation: https://pandas.pydata.org/pandas-docs/stable/user_guide/indexing.html#returning-a-view-versus-a-copy\n",
      "  import sys\n"
     ]
    },
    {
     "output_type": "execute_result",
     "data": {
      "text/plain": [
       "alt.FacetChart(...)"
      ],
      "text/html": [
       "\n",
       "<div id=\"altair-viz-0b6f7c806aff4898a2e5254c20b2a710\"></div>\n",
       "<script type=\"text/javascript\">\n",
       "  (function(spec, embedOpt){\n",
       "    let outputDiv = document.currentScript.previousElementSibling;\n",
       "    if (outputDiv.id !== \"altair-viz-0b6f7c806aff4898a2e5254c20b2a710\") {\n",
       "      outputDiv = document.getElementById(\"altair-viz-0b6f7c806aff4898a2e5254c20b2a710\");\n",
       "    }\n",
       "    const paths = {\n",
       "      \"vega\": \"https://cdn.jsdelivr.net/npm//vega@5?noext\",\n",
       "      \"vega-lib\": \"https://cdn.jsdelivr.net/npm//vega-lib?noext\",\n",
       "      \"vega-lite\": \"https://cdn.jsdelivr.net/npm//vega-lite@4.8.1?noext\",\n",
       "      \"vega-embed\": \"https://cdn.jsdelivr.net/npm//vega-embed@6?noext\",\n",
       "    };\n",
       "\n",
       "    function loadScript(lib) {\n",
       "      return new Promise(function(resolve, reject) {\n",
       "        var s = document.createElement('script');\n",
       "        s.src = paths[lib];\n",
       "        s.async = true;\n",
       "        s.onload = () => resolve(paths[lib]);\n",
       "        s.onerror = () => reject(`Error loading script: ${paths[lib]}`);\n",
       "        document.getElementsByTagName(\"head\")[0].appendChild(s);\n",
       "      });\n",
       "    }\n",
       "\n",
       "    function showError(err) {\n",
       "      outputDiv.innerHTML = `<div class=\"error\" style=\"color:red;\">${err}</div>`;\n",
       "      throw err;\n",
       "    }\n",
       "\n",
       "    function displayChart(vegaEmbed) {\n",
       "      vegaEmbed(outputDiv, spec, embedOpt)\n",
       "        .catch(err => showError(`Javascript Error: ${err.message}<br>This usually means there's a typo in your chart specification. See the javascript console for the full traceback.`));\n",
       "    }\n",
       "\n",
       "    if(typeof define === \"function\" && define.amd) {\n",
       "      requirejs.config({paths});\n",
       "      require([\"vega-embed\"], displayChart, err => showError(`Error loading script: ${err.message}`));\n",
       "    } else if (typeof vegaEmbed === \"function\") {\n",
       "      displayChart(vegaEmbed);\n",
       "    } else {\n",
       "      loadScript(\"vega\")\n",
       "        .then(() => loadScript(\"vega-lite\"))\n",
       "        .then(() => loadScript(\"vega-embed\"))\n",
       "        .catch(showError)\n",
       "        .then(() => displayChart(vegaEmbed));\n",
       "    }\n",
       "  })({\"config\": {\"view\": {\"continuousWidth\": 400, \"continuousHeight\": 300}}, \"data\": {\"name\": \"data-dc8d93f1e7f9797f8c2547346cb4f912\"}, \"facet\": {\"type\": \"nominal\", \"field\": \"enter_reason\"}, \"spec\": {\"mark\": \"line\", \"encoding\": {\"color\": {\"type\": \"nominal\", \"field\": \"product_id\"}, \"x\": {\"type\": \"nominal\", \"axis\": {\"title\": \"Monthly cohort\"}, \"field\": \"month\"}, \"y\": {\"type\": \"quantitative\", \"axis\": {\"format\": \"%\", \"title\": \"% of charged fees that are paid\"}, \"field\": \"paid\"}}, \"height\": 300, \"title\": \"% of charged fees that are paid\", \"width\": 300}, \"columns\": 3, \"$schema\": \"https://vega.github.io/schema/vega-lite/v4.8.1.json\", \"datasets\": {\"data-dc8d93f1e7f9797f8c2547346cb4f912\": [{\"month\": \"2019-01\", \"product_id\": \"BLACK_CARD_MONTHLY\", \"enter_reason\": \"RENEWED\", \"paid\": 0.9709826467799467}, {\"month\": \"2019-01\", \"product_id\": \"BLACK_CARD_MONTHLY\", \"enter_reason\": \"SIGNUP\", \"paid\": 0.836617262423714}, {\"month\": \"2019-01\", \"product_id\": \"BLACK_CARD_MONTHLY\", \"enter_reason\": \"UPGRADED\", \"paid\": 0.918394950405771}, {\"month\": \"2019-01\", \"product_id\": \"BUSINESS_BLACK\", \"enter_reason\": \"SIGNUP\", \"paid\": 0.757557063541024}, {\"month\": \"2019-01\", \"product_id\": \"BUSINESS_BLACK\", \"enter_reason\": \"UPGRADED\", \"paid\": 0.8847566574839302}, {\"month\": \"2019-01\", \"product_id\": \"FLEX_ACCOUNT_MONTHLY\", \"enter_reason\": \"SIGNUP\", \"paid\": 0.7283833928446405}, {\"month\": \"2019-01\", \"product_id\": \"METAL_CARD_MONTHLY\", \"enter_reason\": \"RENEWED\", \"paid\": 0.9355237154150198}, {\"month\": \"2019-01\", \"product_id\": \"METAL_CARD_MONTHLY\", \"enter_reason\": \"SIGNUP\", \"paid\": 0.7393157522850045}, {\"month\": \"2019-01\", \"product_id\": \"METAL_CARD_MONTHLY\", \"enter_reason\": \"UPGRADED\", \"paid\": 0.8887382425218202}, {\"month\": \"2019-02\", \"product_id\": \"BLACK_CARD_MONTHLY\", \"enter_reason\": \"RENEWED\", \"paid\": 0.9598422871832283}, {\"month\": \"2019-02\", \"product_id\": \"BLACK_CARD_MONTHLY\", \"enter_reason\": \"SIGNUP\", \"paid\": 0.8389860684559576}, {\"month\": \"2019-02\", \"product_id\": \"BLACK_CARD_MONTHLY\", \"enter_reason\": \"UPGRADED\", \"paid\": 0.8911620294599017}, {\"month\": \"2019-02\", \"product_id\": \"BUSINESS_BLACK\", \"enter_reason\": \"SIGNUP\", \"paid\": 0.7950424222259191}, {\"month\": \"2019-02\", \"product_id\": \"BUSINESS_BLACK\", \"enter_reason\": \"UPGRADED\", \"paid\": 0.9048196423158533}, {\"month\": \"2019-02\", \"product_id\": \"FLEX_ACCOUNT_MONTHLY\", \"enter_reason\": \"SIGNUP\", \"paid\": 0.7392996108949417}, {\"month\": \"2019-02\", \"product_id\": \"METAL_CARD_MONTHLY\", \"enter_reason\": \"RENEWED\", \"paid\": 0.8677940046118371}, {\"month\": \"2019-02\", \"product_id\": \"METAL_CARD_MONTHLY\", \"enter_reason\": \"SIGNUP\", \"paid\": 0.7554547561500513}, {\"month\": \"2019-02\", \"product_id\": \"METAL_CARD_MONTHLY\", \"enter_reason\": \"UPGRADED\", \"paid\": 0.8887681946556594}, {\"month\": \"2019-03\", \"product_id\": \"BLACK_CARD_MONTHLY\", \"enter_reason\": \"RENEWED\", \"paid\": 0.9613997230184547}, {\"month\": \"2019-03\", \"product_id\": \"BLACK_CARD_MONTHLY\", \"enter_reason\": \"SIGNUP\", \"paid\": 0.8116669585352091}, {\"month\": \"2019-03\", \"product_id\": \"BLACK_CARD_MONTHLY\", \"enter_reason\": \"UPGRADED\", \"paid\": 0.9051475881929446}, {\"month\": \"2019-03\", \"product_id\": \"BUSINESS_BLACK\", \"enter_reason\": \"SIGNUP\", \"paid\": 0.7506406149903908}, {\"month\": \"2019-03\", \"product_id\": \"BUSINESS_BLACK\", \"enter_reason\": \"UPGRADED\", \"paid\": 0.9038666951506088}, {\"month\": \"2019-03\", \"product_id\": \"FLEX_ACCOUNT_MONTHLY\", \"enter_reason\": \"SIGNUP\", \"paid\": 0.7253772835583797}, {\"month\": \"2019-03\", \"product_id\": \"METAL_CARD_MONTHLY\", \"enter_reason\": \"RENEWED\", \"paid\": 0.7564807541241163}, {\"month\": \"2019-03\", \"product_id\": \"METAL_CARD_MONTHLY\", \"enter_reason\": \"SIGNUP\", \"paid\": 0.7366592990211557}, {\"month\": \"2019-03\", \"product_id\": \"METAL_CARD_MONTHLY\", \"enter_reason\": \"UPGRADED\", \"paid\": 0.8971593248250309}, {\"month\": \"2019-04\", \"product_id\": \"BLACK_CARD_MONTHLY\", \"enter_reason\": \"RENEWED\", \"paid\": 0.95871597177888}, {\"month\": \"2019-04\", \"product_id\": \"BLACK_CARD_MONTHLY\", \"enter_reason\": \"SIGNUP\", \"paid\": 0.8245211216701746}, {\"month\": \"2019-04\", \"product_id\": \"BLACK_CARD_MONTHLY\", \"enter_reason\": \"UPGRADED\", \"paid\": 0.9048411100411451}, {\"month\": \"2019-04\", \"product_id\": \"BUSINESS_BLACK\", \"enter_reason\": \"SIGNUP\", \"paid\": 0.7670390577639213}, {\"month\": \"2019-04\", \"product_id\": \"BUSINESS_BLACK\", \"enter_reason\": \"UPGRADED\", \"paid\": 0.8795056642636457}, {\"month\": \"2019-04\", \"product_id\": \"FLEX_ACCOUNT_MONTHLY\", \"enter_reason\": \"SIGNUP\", \"paid\": 0.7458742194469223}, {\"month\": \"2019-04\", \"product_id\": \"METAL_CARD_MONTHLY\", \"enter_reason\": \"RENEWED\", \"paid\": 0.8353601496725912}, {\"month\": \"2019-04\", \"product_id\": \"METAL_CARD_MONTHLY\", \"enter_reason\": \"SIGNUP\", \"paid\": 0.8086413916989694}, {\"month\": \"2019-04\", \"product_id\": \"METAL_CARD_MONTHLY\", \"enter_reason\": \"UPGRADED\", \"paid\": 0.8896329365079365}, {\"month\": \"2019-05\", \"product_id\": \"BLACK_CARD_MONTHLY\", \"enter_reason\": \"RENEWED\", \"paid\": 0.9599622698714817}, {\"month\": \"2019-05\", \"product_id\": \"BLACK_CARD_MONTHLY\", \"enter_reason\": \"SIGNUP\", \"paid\": 0.8422584680523479}, {\"month\": \"2019-05\", \"product_id\": \"BLACK_CARD_MONTHLY\", \"enter_reason\": \"UPGRADED\", \"paid\": 0.9084266539591772}, {\"month\": \"2019-05\", \"product_id\": \"BUSINESS_BLACK\", \"enter_reason\": \"RENEWED\", \"paid\": 0.84}, {\"month\": \"2019-05\", \"product_id\": \"BUSINESS_BLACK\", \"enter_reason\": \"SIGNUP\", \"paid\": 0.7447041847041848}, {\"month\": \"2019-05\", \"product_id\": \"BUSINESS_BLACK\", \"enter_reason\": \"UPGRADED\", \"paid\": 0.8645801526717557}, {\"month\": \"2019-05\", \"product_id\": \"FLEX_ACCOUNT_MONTHLY\", \"enter_reason\": \"SIGNUP\", \"paid\": 0.7473785094148157}, {\"month\": \"2019-05\", \"product_id\": \"METAL_CARD_MONTHLY\", \"enter_reason\": \"RENEWED\", \"paid\": 0.788135593220339}, {\"month\": \"2019-05\", \"product_id\": \"METAL_CARD_MONTHLY\", \"enter_reason\": \"SIGNUP\", \"paid\": 0.791270807957775}, {\"month\": \"2019-05\", \"product_id\": \"METAL_CARD_MONTHLY\", \"enter_reason\": \"UPGRADED\", \"paid\": 0.8824031404676566}, {\"month\": \"2019-06\", \"product_id\": \"BLACK_CARD_MONTHLY\", \"enter_reason\": \"RENEWED\", \"paid\": 0.9572607651456212}, {\"month\": \"2019-06\", \"product_id\": \"BLACK_CARD_MONTHLY\", \"enter_reason\": \"SIGNUP\", \"paid\": 0.8680799477790556}, {\"month\": \"2019-06\", \"product_id\": \"BLACK_CARD_MONTHLY\", \"enter_reason\": \"UPGRADED\", \"paid\": 0.9217474034726076}, {\"month\": \"2019-06\", \"product_id\": \"BUSINESS_BLACK\", \"enter_reason\": \"RENEWED\", \"paid\": 0.7455621301775148}, {\"month\": \"2019-06\", \"product_id\": \"BUSINESS_BLACK\", \"enter_reason\": \"SIGNUP\", \"paid\": 0.7139193285148053}, {\"month\": \"2019-06\", \"product_id\": \"BUSINESS_BLACK\", \"enter_reason\": \"UPGRADED\", \"paid\": 0.8543722943722943}, {\"month\": \"2019-06\", \"product_id\": \"FLEX_ACCOUNT_MONTHLY\", \"enter_reason\": \"SIGNUP\", \"paid\": 0.7620089991487292}, {\"month\": \"2019-06\", \"product_id\": \"METAL_CARD_MONTHLY\", \"enter_reason\": \"RENEWED\", \"paid\": 0.9446376539148417}, {\"month\": \"2019-06\", \"product_id\": \"METAL_CARD_MONTHLY\", \"enter_reason\": \"SIGNUP\", \"paid\": 0.7693030540328896}, {\"month\": \"2019-06\", \"product_id\": \"METAL_CARD_MONTHLY\", \"enter_reason\": \"UPGRADED\", \"paid\": 0.9039138082673702}, {\"month\": \"2019-07\", \"product_id\": \"BLACK_CARD_MONTHLY\", \"enter_reason\": \"RENEWED\", \"paid\": 0.9564661187781052}, {\"month\": \"2019-07\", \"product_id\": \"BLACK_CARD_MONTHLY\", \"enter_reason\": \"SIGNUP\", \"paid\": 0.8656879548898329}, {\"month\": \"2019-07\", \"product_id\": \"BLACK_CARD_MONTHLY\", \"enter_reason\": \"UPGRADED\", \"paid\": 0.916261976637354}, {\"month\": \"2019-07\", \"product_id\": \"BUSINESS_BLACK\", \"enter_reason\": \"RENEWED\", \"paid\": 0.631578947368421}, {\"month\": \"2019-07\", \"product_id\": \"BUSINESS_BLACK\", \"enter_reason\": \"SIGNUP\", \"paid\": 0.7195341450502911}, {\"month\": \"2019-07\", \"product_id\": \"BUSINESS_BLACK\", \"enter_reason\": \"UPGRADED\", \"paid\": 0.8521874557553447}, {\"month\": \"2019-07\", \"product_id\": \"FLEX_ACCOUNT_MONTHLY\", \"enter_reason\": \"SIGNUP\", \"paid\": 0.764843258780203}, {\"month\": \"2019-07\", \"product_id\": \"METAL_CARD_MONTHLY\", \"enter_reason\": \"RENEWED\", \"paid\": 0.9252041500650914}, {\"month\": \"2019-07\", \"product_id\": \"METAL_CARD_MONTHLY\", \"enter_reason\": \"SIGNUP\", \"paid\": 0.7432712215320911}, {\"month\": \"2019-07\", \"product_id\": \"METAL_CARD_MONTHLY\", \"enter_reason\": \"UPGRADED\", \"paid\": 0.89018242295099}, {\"month\": \"2019-08\", \"product_id\": \"BLACK_CARD_MONTHLY\", \"enter_reason\": \"RENEWED\", \"paid\": 0.9550170512982443}, {\"month\": \"2019-08\", \"product_id\": \"BLACK_CARD_MONTHLY\", \"enter_reason\": \"SIGNUP\", \"paid\": 0.8674177789205488}, {\"month\": \"2019-08\", \"product_id\": \"BLACK_CARD_MONTHLY\", \"enter_reason\": \"UPGRADED\", \"paid\": 0.9309815950920245}, {\"month\": \"2019-08\", \"product_id\": \"BUSINESS_BLACK\", \"enter_reason\": \"RENEWED\", \"paid\": 0.693069306930693}, {\"month\": \"2019-08\", \"product_id\": \"BUSINESS_BLACK\", \"enter_reason\": \"SIGNUP\", \"paid\": 0.7128483939507562}, {\"month\": \"2019-08\", \"product_id\": \"BUSINESS_BLACK\", \"enter_reason\": \"UPGRADED\", \"paid\": 0.8683043960103436}, {\"month\": \"2019-08\", \"product_id\": \"FLEX_ACCOUNT_MONTHLY\", \"enter_reason\": \"SIGNUP\", \"paid\": 0.7895875396596481}, {\"month\": \"2019-08\", \"product_id\": \"METAL_CARD_MONTHLY\", \"enter_reason\": \"RENEWED\", \"paid\": 0.9196114675075205}, {\"month\": \"2019-08\", \"product_id\": \"METAL_CARD_MONTHLY\", \"enter_reason\": \"SIGNUP\", \"paid\": 0.7428212450028555}, {\"month\": \"2019-08\", \"product_id\": \"METAL_CARD_MONTHLY\", \"enter_reason\": \"UPGRADED\", \"paid\": 0.8887981403530816}, {\"month\": \"2019-09\", \"product_id\": \"BLACK_CARD_MONTHLY\", \"enter_reason\": \"RENEWED\", \"paid\": 0.9517789317235179}, {\"month\": \"2019-09\", \"product_id\": \"BLACK_CARD_MONTHLY\", \"enter_reason\": \"SIGNUP\", \"paid\": 0.8716409840497432}, {\"month\": \"2019-09\", \"product_id\": \"BLACK_CARD_MONTHLY\", \"enter_reason\": \"UPGRADED\", \"paid\": 0.924780341452961}, {\"month\": \"2019-09\", \"product_id\": \"BUSINESS_BLACK\", \"enter_reason\": \"RENEWED\", \"paid\": 0.9259782608695653}, {\"month\": \"2019-09\", \"product_id\": \"BUSINESS_BLACK\", \"enter_reason\": \"SIGNUP\", \"paid\": 0.7620893561103811}, {\"month\": \"2019-09\", \"product_id\": \"BUSINESS_BLACK\", \"enter_reason\": \"UPGRADED\", \"paid\": 0.845112517580872}, {\"month\": \"2019-09\", \"product_id\": \"FLEX_ACCOUNT_MONTHLY\", \"enter_reason\": \"SIGNUP\", \"paid\": 0.8140183008964652}, {\"month\": \"2019-09\", \"product_id\": \"METAL_CARD_MONTHLY\", \"enter_reason\": \"RENEWED\", \"paid\": 0.9191910192444761}, {\"month\": \"2019-09\", \"product_id\": \"METAL_CARD_MONTHLY\", \"enter_reason\": \"SIGNUP\", \"paid\": 0.757577221242785}, {\"month\": \"2019-09\", \"product_id\": \"METAL_CARD_MONTHLY\", \"enter_reason\": \"UPGRADED\", \"paid\": 0.8982655966865131}, {\"month\": \"2019-10\", \"product_id\": \"BLACK_CARD_MONTHLY\", \"enter_reason\": \"RENEWED\", \"paid\": 0.9560059501673485}, {\"month\": \"2019-10\", \"product_id\": \"BLACK_CARD_MONTHLY\", \"enter_reason\": \"SIGNUP\", \"paid\": 0.8597225213031039}, {\"month\": \"2019-10\", \"product_id\": \"BLACK_CARD_MONTHLY\", \"enter_reason\": \"UPGRADED\", \"paid\": 0.9348908156711625}, {\"month\": \"2019-10\", \"product_id\": \"BUSINESS_BLACK\", \"enter_reason\": \"RENEWED\", \"paid\": 0.9189873417721519}, {\"month\": \"2019-10\", \"product_id\": \"BUSINESS_BLACK\", \"enter_reason\": \"SIGNUP\", \"paid\": 0.7442285559542346}, {\"month\": \"2019-10\", \"product_id\": \"BUSINESS_BLACK\", \"enter_reason\": \"UPGRADED\", \"paid\": 0.8677028051554208}, {\"month\": \"2019-10\", \"product_id\": \"FLEX_ACCOUNT_MONTHLY\", \"enter_reason\": \"SIGNUP\", \"paid\": 0.8095669687814703}, {\"month\": \"2019-10\", \"product_id\": \"METAL_CARD_MONTHLY\", \"enter_reason\": \"RENEWED\", \"paid\": 0.918854108679827}, {\"month\": \"2019-10\", \"product_id\": \"METAL_CARD_MONTHLY\", \"enter_reason\": \"SIGNUP\", \"paid\": 0.7528915090804627}, {\"month\": \"2019-10\", \"product_id\": \"METAL_CARD_MONTHLY\", \"enter_reason\": \"UPGRADED\", \"paid\": 0.90019818799547}, {\"month\": \"2019-11\", \"product_id\": \"BLACK_CARD_MONTHLY\", \"enter_reason\": \"RENEWED\", \"paid\": 0.9586277412364369}, {\"month\": \"2019-11\", \"product_id\": \"BLACK_CARD_MONTHLY\", \"enter_reason\": \"SIGNUP\", \"paid\": 0.8483639265762171}, {\"month\": \"2019-11\", \"product_id\": \"BLACK_CARD_MONTHLY\", \"enter_reason\": \"UPGRADED\", \"paid\": 0.926459719142646}, {\"month\": \"2019-11\", \"product_id\": \"BUSINESS_BLACK\", \"enter_reason\": \"RENEWED\", \"paid\": 0.9184514003294892}, {\"month\": \"2019-11\", \"product_id\": \"BUSINESS_BLACK\", \"enter_reason\": \"SIGNUP\", \"paid\": 0.7171939074399531}, {\"month\": \"2019-11\", \"product_id\": \"BUSINESS_BLACK\", \"enter_reason\": \"UPGRADED\", \"paid\": 0.8472001813647699}, {\"month\": \"2019-11\", \"product_id\": \"FLEX_ACCOUNT_MONTHLY\", \"enter_reason\": \"SIGNUP\", \"paid\": 0.8218554017276062}, {\"month\": \"2019-11\", \"product_id\": \"METAL_CARD_MONTHLY\", \"enter_reason\": \"RENEWED\", \"paid\": 0.9066018727035676}, {\"month\": \"2019-11\", \"product_id\": \"METAL_CARD_MONTHLY\", \"enter_reason\": \"SIGNUP\", \"paid\": 0.7342985652844808}, {\"month\": \"2019-11\", \"product_id\": \"METAL_CARD_MONTHLY\", \"enter_reason\": \"UPGRADED\", \"paid\": 0.9072343632253203}, {\"month\": \"2019-12\", \"product_id\": \"BLACK_CARD_MONTHLY\", \"enter_reason\": \"RENEWED\", \"paid\": 0.9565355861745282}, {\"month\": \"2019-12\", \"product_id\": \"BLACK_CARD_MONTHLY\", \"enter_reason\": \"SIGNUP\", \"paid\": 0.8622953689923838}, {\"month\": \"2019-12\", \"product_id\": \"BLACK_CARD_MONTHLY\", \"enter_reason\": \"UPGRADED\", \"paid\": 0.9295109299740645}, {\"month\": \"2019-12\", \"product_id\": \"BUSINESS_BLACK\", \"enter_reason\": \"RENEWED\", \"paid\": 0.902736043017555}, {\"month\": \"2019-12\", \"product_id\": \"BUSINESS_BLACK\", \"enter_reason\": \"SIGNUP\", \"paid\": 0.7466075156576201}, {\"month\": \"2019-12\", \"product_id\": \"BUSINESS_BLACK\", \"enter_reason\": \"UPGRADED\", \"paid\": 0.8655294638901196}, {\"month\": \"2019-12\", \"product_id\": \"FLEX_ACCOUNT_MONTHLY\", \"enter_reason\": \"SIGNUP\", \"paid\": 0.8091842992946949}, {\"month\": \"2019-12\", \"product_id\": \"METAL_CARD_MONTHLY\", \"enter_reason\": \"RENEWED\", \"paid\": 0.9415721083455344}, {\"month\": \"2019-12\", \"product_id\": \"METAL_CARD_MONTHLY\", \"enter_reason\": \"SIGNUP\", \"paid\": 0.7178086407879044}, {\"month\": \"2019-12\", \"product_id\": \"METAL_CARD_MONTHLY\", \"enter_reason\": \"UPGRADED\", \"paid\": 0.8982836763503975}, {\"month\": \"2020-01\", \"product_id\": \"BLACK_CARD_MONTHLY\", \"enter_reason\": \"RENEWED\", \"paid\": 0.9541950037034543}, {\"month\": \"2020-01\", \"product_id\": \"BLACK_CARD_MONTHLY\", \"enter_reason\": \"SIGNUP\", \"paid\": 0.8567449263828094}, {\"month\": \"2020-01\", \"product_id\": \"BLACK_CARD_MONTHLY\", \"enter_reason\": \"UPGRADED\", \"paid\": 0.9314473217452998}, {\"month\": \"2020-01\", \"product_id\": \"BUSINESS_BLACK\", \"enter_reason\": \"RENEWED\", \"paid\": 0.9247744452572543}, {\"month\": \"2020-01\", \"product_id\": \"BUSINESS_BLACK\", \"enter_reason\": \"SIGNUP\", \"paid\": 0.7416908130219874}, {\"month\": \"2020-01\", \"product_id\": \"BUSINESS_BLACK\", \"enter_reason\": \"UPGRADED\", \"paid\": 0.849744711889132}, {\"month\": \"2020-01\", \"product_id\": \"FLEX_ACCOUNT_MONTHLY\", \"enter_reason\": \"SIGNUP\", \"paid\": 0.8036208732694355}, {\"month\": \"2020-01\", \"product_id\": \"METAL_CARD_MONTHLY\", \"enter_reason\": \"RENEWED\", \"paid\": 0.9187760055478502}, {\"month\": \"2020-01\", \"product_id\": \"METAL_CARD_MONTHLY\", \"enter_reason\": \"SIGNUP\", \"paid\": 0.7074458467435721}, {\"month\": \"2020-01\", \"product_id\": \"METAL_CARD_MONTHLY\", \"enter_reason\": \"UPGRADED\", \"paid\": 0.9120531233109412}, {\"month\": \"2020-02\", \"product_id\": \"BLACK_CARD_MONTHLY\", \"enter_reason\": \"RENEWED\", \"paid\": 0.9501699524133242}, {\"month\": \"2020-02\", \"product_id\": \"BLACK_CARD_MONTHLY\", \"enter_reason\": \"SIGNUP\", \"paid\": 0.8125404974330858}, {\"month\": \"2020-02\", \"product_id\": \"BLACK_CARD_MONTHLY\", \"enter_reason\": \"UPGRADED\", \"paid\": 0.9156041287188829}, {\"month\": \"2020-02\", \"product_id\": \"BUSINESS_BLACK\", \"enter_reason\": \"RENEWED\", \"paid\": 0.9066411682892906}, {\"month\": \"2020-02\", \"product_id\": \"BUSINESS_BLACK\", \"enter_reason\": \"SIGNUP\", \"paid\": 0.706686291000841}, {\"month\": \"2020-02\", \"product_id\": \"BUSINESS_BLACK\", \"enter_reason\": \"UPGRADED\", \"paid\": 0.8462004238570996}, {\"month\": \"2020-02\", \"product_id\": \"FLEX_ACCOUNT_MONTHLY\", \"enter_reason\": \"SIGNUP\", \"paid\": 0.7829047786779383}, {\"month\": \"2020-02\", \"product_id\": \"METAL_CARD_MONTHLY\", \"enter_reason\": \"RENEWED\", \"paid\": 0.9122549019607843}, {\"month\": \"2020-02\", \"product_id\": \"METAL_CARD_MONTHLY\", \"enter_reason\": \"SIGNUP\", \"paid\": 0.669208424110385}, {\"month\": \"2020-02\", \"product_id\": \"METAL_CARD_MONTHLY\", \"enter_reason\": \"UPGRADED\", \"paid\": 0.893714916720346}, {\"month\": \"2020-03\", \"product_id\": \"BLACK_CARD_MONTHLY\", \"enter_reason\": \"RENEWED\", \"paid\": 0.950266174284207}, {\"month\": \"2020-03\", \"product_id\": \"BLACK_CARD_MONTHLY\", \"enter_reason\": \"SIGNUP\", \"paid\": 0.7760927104943129}, {\"month\": \"2020-03\", \"product_id\": \"BLACK_CARD_MONTHLY\", \"enter_reason\": \"UPGRADED\", \"paid\": 0.9157427937915743}, {\"month\": \"2020-03\", \"product_id\": \"BUSINESS_BLACK\", \"enter_reason\": \"RENEWED\", \"paid\": 0.9243447180301827}, {\"month\": \"2020-03\", \"product_id\": \"BUSINESS_BLACK\", \"enter_reason\": \"SIGNUP\", \"paid\": 0.7289484153295319}, {\"month\": \"2020-03\", \"product_id\": \"BUSINESS_BLACK\", \"enter_reason\": \"UPGRADED\", \"paid\": 0.8245094409477971}, {\"month\": \"2020-03\", \"product_id\": \"FLEX_ACCOUNT_MONTHLY\", \"enter_reason\": \"SIGNUP\", \"paid\": 0.8082236132095835}, {\"month\": \"2020-03\", \"product_id\": \"METAL_CARD_MONTHLY\", \"enter_reason\": \"RENEWED\", \"paid\": 0.909689707166098}, {\"month\": \"2020-03\", \"product_id\": \"METAL_CARD_MONTHLY\", \"enter_reason\": \"SIGNUP\", \"paid\": 0.6627759731321918}, {\"month\": \"2020-03\", \"product_id\": \"METAL_CARD_MONTHLY\", \"enter_reason\": \"UPGRADED\", \"paid\": 0.8826514088308324}, {\"month\": \"2020-04\", \"product_id\": \"BLACK_CARD_MONTHLY\", \"enter_reason\": \"RENEWED\", \"paid\": 0.9492425378731063}, {\"month\": \"2020-04\", \"product_id\": \"BLACK_CARD_MONTHLY\", \"enter_reason\": \"SIGNUP\", \"paid\": 0.7887216126562898}, {\"month\": \"2020-04\", \"product_id\": \"BLACK_CARD_MONTHLY\", \"enter_reason\": \"UPGRADED\", \"paid\": 0.8814031180400891}, {\"month\": \"2020-04\", \"product_id\": \"BUSINESS_BLACK\", \"enter_reason\": \"RENEWED\", \"paid\": 0.910060606060606}, {\"month\": \"2020-04\", \"product_id\": \"BUSINESS_BLACK\", \"enter_reason\": \"SIGNUP\", \"paid\": 0.7151835924578234}, {\"month\": \"2020-04\", \"product_id\": \"BUSINESS_BLACK\", \"enter_reason\": \"UPGRADED\", \"paid\": 0.826417004048583}, {\"month\": \"2020-04\", \"product_id\": \"FLEX_ACCOUNT_MONTHLY\", \"enter_reason\": \"SIGNUP\", \"paid\": 0.824745269286754}, {\"month\": \"2020-04\", \"product_id\": \"METAL_CARD_MONTHLY\", \"enter_reason\": \"RENEWED\", \"paid\": 0.9062924400181077}, {\"month\": \"2020-04\", \"product_id\": \"METAL_CARD_MONTHLY\", \"enter_reason\": \"SIGNUP\", \"paid\": 0.6688980819857089}, {\"month\": \"2020-04\", \"product_id\": \"METAL_CARD_MONTHLY\", \"enter_reason\": \"UPGRADED\", \"paid\": 0.8679720822024041}, {\"month\": \"2020-05\", \"product_id\": \"BLACK_CARD_MONTHLY\", \"enter_reason\": \"RENEWED\", \"paid\": 0.9416279069767441}, {\"month\": \"2020-05\", \"product_id\": \"BLACK_CARD_MONTHLY\", \"enter_reason\": \"SIGNUP\", \"paid\": 0.7898115269052172}, {\"month\": \"2020-05\", \"product_id\": \"BLACK_CARD_MONTHLY\", \"enter_reason\": \"UPGRADED\", \"paid\": 0.8829450675870003}, {\"month\": \"2020-05\", \"product_id\": \"BUSINESS_BLACK\", \"enter_reason\": \"RENEWED\", \"paid\": 0.9045818505338078}, {\"month\": \"2020-05\", \"product_id\": \"BUSINESS_BLACK\", \"enter_reason\": \"SIGNUP\", \"paid\": 0.6985294117647058}, {\"month\": \"2020-05\", \"product_id\": \"BUSINESS_BLACK\", \"enter_reason\": \"UPGRADED\", \"paid\": 0.776483638380477}, {\"month\": \"2020-05\", \"product_id\": \"FLEX_ACCOUNT_MONTHLY\", \"enter_reason\": \"SIGNUP\", \"paid\": 0.8417187236197873}, {\"month\": \"2020-05\", \"product_id\": \"METAL_CARD_MONTHLY\", \"enter_reason\": \"RENEWED\", \"paid\": 0.8974724562540506}, {\"month\": \"2020-05\", \"product_id\": \"METAL_CARD_MONTHLY\", \"enter_reason\": \"SIGNUP\", \"paid\": 0.6761974584555229}, {\"month\": \"2020-05\", \"product_id\": \"METAL_CARD_MONTHLY\", \"enter_reason\": \"UPGRADED\", \"paid\": 0.8600360938439944}, {\"month\": \"2020-06\", \"product_id\": \"BLACK_CARD_MONTHLY\", \"enter_reason\": \"RENEWED\", \"paid\": 0.9442721202881026}, {\"month\": \"2020-06\", \"product_id\": \"BLACK_CARD_MONTHLY\", \"enter_reason\": \"SIGNUP\", \"paid\": 0.7541907310888858}, {\"month\": \"2020-06\", \"product_id\": \"BLACK_CARD_MONTHLY\", \"enter_reason\": \"UPGRADED\", \"paid\": 0.8713204373423045}, {\"month\": \"2020-06\", \"product_id\": \"BUSINESS_BLACK\", \"enter_reason\": \"RENEWED\", \"paid\": 0.8950675463399309}, {\"month\": \"2020-06\", \"product_id\": \"BUSINESS_BLACK\", \"enter_reason\": \"SIGNUP\", \"paid\": 0.6486886632825719}, {\"month\": \"2020-06\", \"product_id\": \"BUSINESS_BLACK\", \"enter_reason\": \"UPGRADED\", \"paid\": 0.8897100625355315}, {\"month\": \"2020-06\", \"product_id\": \"BUSINESS_METAL\", \"enter_reason\": \"RENEWED\", \"paid\": 0.7}, {\"month\": \"2020-06\", \"product_id\": \"BUSINESS_METAL\", \"enter_reason\": \"SIGNUP\", \"paid\": 0.6286742651469706}, {\"month\": \"2020-06\", \"product_id\": \"BUSINESS_METAL\", \"enter_reason\": \"UPGRADED\", \"paid\": 0.9314079422382672}, {\"month\": \"2020-06\", \"product_id\": \"FLEX_ACCOUNT_MONTHLY\", \"enter_reason\": \"SIGNUP\", \"paid\": 0.8484359233097881}, {\"month\": \"2020-06\", \"product_id\": \"METAL_CARD_MONTHLY\", \"enter_reason\": \"RENEWED\", \"paid\": 0.9215132250215838}, {\"month\": \"2020-06\", \"product_id\": \"METAL_CARD_MONTHLY\", \"enter_reason\": \"SIGNUP\", \"paid\": 0.6537829742004059}, {\"month\": \"2020-06\", \"product_id\": \"METAL_CARD_MONTHLY\", \"enter_reason\": \"UPGRADED\", \"paid\": 0.8857474825716499}, {\"month\": \"2020-07\", \"product_id\": \"BLACK_CARD_MONTHLY\", \"enter_reason\": \"RENEWED\", \"paid\": 0.9350203061543267}, {\"month\": \"2020-07\", \"product_id\": \"BLACK_CARD_MONTHLY\", \"enter_reason\": \"SIGNUP\", \"paid\": 0.7384136288697564}, {\"month\": \"2020-07\", \"product_id\": \"BLACK_CARD_MONTHLY\", \"enter_reason\": \"UPGRADED\", \"paid\": 0.8815927348934683}, {\"month\": \"2020-07\", \"product_id\": \"BUSINESS_BLACK\", \"enter_reason\": \"RENEWED\", \"paid\": 0.8898573692551506}, {\"month\": \"2020-07\", \"product_id\": \"BUSINESS_BLACK\", \"enter_reason\": \"SIGNUP\", \"paid\": 0.6896995708154506}, {\"month\": \"2020-07\", \"product_id\": \"BUSINESS_BLACK\", \"enter_reason\": \"UPGRADED\", \"paid\": 0.850328947368421}, {\"month\": \"2020-07\", \"product_id\": \"BUSINESS_METAL\", \"enter_reason\": \"RENEWED\", \"paid\": 0.6904761904761905}, {\"month\": \"2020-07\", \"product_id\": \"BUSINESS_METAL\", \"enter_reason\": \"SIGNUP\", \"paid\": 0.6646209386281589}, {\"month\": \"2020-07\", \"product_id\": \"BUSINESS_METAL\", \"enter_reason\": \"UPGRADED\", \"paid\": 0.8936484490398818}, {\"month\": \"2020-07\", \"product_id\": \"FLEX_ACCOUNT_MONTHLY\", \"enter_reason\": \"SIGNUP\", \"paid\": 0.7750160359204619}, {\"month\": \"2020-07\", \"product_id\": \"METAL_CARD_MONTHLY\", \"enter_reason\": \"RENEWED\", \"paid\": 0.8934780318196186}, {\"month\": \"2020-07\", \"product_id\": \"METAL_CARD_MONTHLY\", \"enter_reason\": \"SIGNUP\", \"paid\": 0.6622942042564584}, {\"month\": \"2020-07\", \"product_id\": \"METAL_CARD_MONTHLY\", \"enter_reason\": \"UPGRADED\", \"paid\": 0.885331347728965}]}}, {\"mode\": \"vega-lite\"});\n",
       "</script>"
      ]
     },
     "metadata": {
      "tags": []
     },
     "execution_count": 9
    }
   ],
   "metadata": {
    "colab": {
     "base_uri": "https://localhost:8080/",
     "height": 535
    },
    "colab_type": "code",
    "id": "ZJXe1WDrXKkG",
    "outputId": "b87d17f3-7056-4164-d446-56c8864dc70b"
   }
  },
  {
   "cell_type": "code",
   "execution_count": 12,
   "source": [
    "data = df\n",
    "\n",
    "# drop all discount_flg and overwrite_flg = True\n",
    "data = data.loc[(data[\"discount_flg\"] == False) & (data[\"override_flg\"] == False), :]\n",
    "\n",
    "# trim market\n",
    "data[\"market\"] = data[\"market\"].str.strip()\n",
    "\n",
    "# drop UK\n",
    "data = data.loc[data[\"market\"] != \"GBR\", :]\n",
    "\n",
    "data.loc[\n",
    "    data[\"market\"].isin([\"FRA\", \"DEU\", \"ITA\", \"ESP\", \"AUT\"]) == False, \"market\"\n",
    "] = \"other\"\n",
    "\n",
    "# keep only payments that were charged\n",
    "data = data.loc[data[\"charged\"] == True, :]\n",
    "\n",
    "# restrict on relevant cohorts\n",
    "data = data.loc[\n",
    "    pd.to_datetime(data[\"subscription_valid_from\"]) < pd.to_datetime(\"2020-08-01\"), :\n",
    "]\n",
    "data = data.loc[\n",
    "    pd.to_datetime(data[\"subscription_valid_from\"]) >= pd.to_datetime(\"2019-01-01\"), :\n",
    "]\n",
    "\n",
    "# convert to monthly cohorts\n",
    "data[\"month\"] = pd.to_datetime(data[\"subscription_valid_from\"]).dt.to_period(\"M\")\n",
    "\n",
    "# drop downgraders\n",
    "data = data.loc[data[\"enter_reason\"] != \"DOWNGRADED\", :]\n",
    "\n",
    "data = (\n",
    "    data.groupby([\"month\", \"market\", \"enter_reason\"])[\"paid\"].agg(\"mean\").reset_index()\n",
    ")\n",
    "\n",
    "data[\"month\"] = data[\"month\"].astype(str)\n",
    "\n",
    "alt.Chart(data).mark_line().encode(\n",
    "    x=alt.X(\"month:N\", axis=alt.Axis(title=\"Monthly cohort\")),\n",
    "    y=alt.Y(\n",
    "        \"paid:Q\", axis=alt.Axis(format=\"%\", title=\"% of charged fees that are paid\")\n",
    "    ),\n",
    "    color=\"market:N\",\n",
    ").properties(width=300, height=300, title=\"% of charged fees that are paid\").facet(\n",
    "    facet=\"enter_reason:N\", columns=3\n",
    ")"
   ],
   "outputs": [
    {
     "output_type": "stream",
     "name": "stderr",
     "text": [
      "/usr/local/lib/python3.6/dist-packages/ipykernel_launcher.py:7: SettingWithCopyWarning: \n",
      "A value is trying to be set on a copy of a slice from a DataFrame.\n",
      "Try using .loc[row_indexer,col_indexer] = value instead\n",
      "\n",
      "See the caveats in the documentation: https://pandas.pydata.org/pandas-docs/stable/user_guide/indexing.html#returning-a-view-versus-a-copy\n",
      "  import sys\n"
     ]
    },
    {
     "output_type": "execute_result",
     "data": {
      "text/plain": [
       "alt.FacetChart(...)"
      ],
      "text/html": [
       "\n",
       "<div id=\"altair-viz-e0525f12530b402faa86673495f722dc\"></div>\n",
       "<script type=\"text/javascript\">\n",
       "  (function(spec, embedOpt){\n",
       "    let outputDiv = document.currentScript.previousElementSibling;\n",
       "    if (outputDiv.id !== \"altair-viz-e0525f12530b402faa86673495f722dc\") {\n",
       "      outputDiv = document.getElementById(\"altair-viz-e0525f12530b402faa86673495f722dc\");\n",
       "    }\n",
       "    const paths = {\n",
       "      \"vega\": \"https://cdn.jsdelivr.net/npm//vega@5?noext\",\n",
       "      \"vega-lib\": \"https://cdn.jsdelivr.net/npm//vega-lib?noext\",\n",
       "      \"vega-lite\": \"https://cdn.jsdelivr.net/npm//vega-lite@4.8.1?noext\",\n",
       "      \"vega-embed\": \"https://cdn.jsdelivr.net/npm//vega-embed@6?noext\",\n",
       "    };\n",
       "\n",
       "    function loadScript(lib) {\n",
       "      return new Promise(function(resolve, reject) {\n",
       "        var s = document.createElement('script');\n",
       "        s.src = paths[lib];\n",
       "        s.async = true;\n",
       "        s.onload = () => resolve(paths[lib]);\n",
       "        s.onerror = () => reject(`Error loading script: ${paths[lib]}`);\n",
       "        document.getElementsByTagName(\"head\")[0].appendChild(s);\n",
       "      });\n",
       "    }\n",
       "\n",
       "    function showError(err) {\n",
       "      outputDiv.innerHTML = `<div class=\"error\" style=\"color:red;\">${err}</div>`;\n",
       "      throw err;\n",
       "    }\n",
       "\n",
       "    function displayChart(vegaEmbed) {\n",
       "      vegaEmbed(outputDiv, spec, embedOpt)\n",
       "        .catch(err => showError(`Javascript Error: ${err.message}<br>This usually means there's a typo in your chart specification. See the javascript console for the full traceback.`));\n",
       "    }\n",
       "\n",
       "    if(typeof define === \"function\" && define.amd) {\n",
       "      requirejs.config({paths});\n",
       "      require([\"vega-embed\"], displayChart, err => showError(`Error loading script: ${err.message}`));\n",
       "    } else if (typeof vegaEmbed === \"function\") {\n",
       "      displayChart(vegaEmbed);\n",
       "    } else {\n",
       "      loadScript(\"vega\")\n",
       "        .then(() => loadScript(\"vega-lite\"))\n",
       "        .then(() => loadScript(\"vega-embed\"))\n",
       "        .catch(showError)\n",
       "        .then(() => displayChart(vegaEmbed));\n",
       "    }\n",
       "  })({\"config\": {\"view\": {\"continuousWidth\": 400, \"continuousHeight\": 300}}, \"data\": {\"name\": \"data-c283b7bbad9013d3b6980bf94856a337\"}, \"facet\": {\"type\": \"nominal\", \"field\": \"enter_reason\"}, \"spec\": {\"mark\": \"line\", \"encoding\": {\"color\": {\"type\": \"nominal\", \"field\": \"market\"}, \"x\": {\"type\": \"nominal\", \"axis\": {\"title\": \"Monthly cohort\"}, \"field\": \"month\"}, \"y\": {\"type\": \"quantitative\", \"axis\": {\"format\": \"%\", \"title\": \"% of charged fees that are paid\"}, \"field\": \"paid\"}}, \"height\": 300, \"title\": \"% of charged fees that are paid\", \"width\": 300}, \"columns\": 3, \"$schema\": \"https://vega.github.io/schema/vega-lite/v4.8.1.json\", \"datasets\": {\"data-c283b7bbad9013d3b6980bf94856a337\": [{\"month\": \"2019-01\", \"market\": \"AUT\", \"enter_reason\": \"RENEWED\", \"paid\": 0.9658385093167702}, {\"month\": \"2019-01\", \"market\": \"AUT\", \"enter_reason\": \"SIGNUP\", \"paid\": 0.8374536464771323}, {\"month\": \"2019-01\", \"market\": \"AUT\", \"enter_reason\": \"UPGRADED\", \"paid\": 0.9410029498525073}, {\"month\": \"2019-01\", \"market\": \"DEU\", \"enter_reason\": \"RENEWED\", \"paid\": 0.9724570842941327}, {\"month\": \"2019-01\", \"market\": \"DEU\", \"enter_reason\": \"SIGNUP\", \"paid\": 0.8008845950022421}, {\"month\": \"2019-01\", \"market\": \"DEU\", \"enter_reason\": \"UPGRADED\", \"paid\": 0.9520061728395062}, {\"month\": \"2019-01\", \"market\": \"ESP\", \"enter_reason\": \"RENEWED\", \"paid\": 0.9346627068307171}, {\"month\": \"2019-01\", \"market\": \"ESP\", \"enter_reason\": \"SIGNUP\", \"paid\": 0.5914967346394775}, {\"month\": \"2019-01\", \"market\": \"ESP\", \"enter_reason\": \"UPGRADED\", \"paid\": 0.8256555634301913}, {\"month\": \"2019-01\", \"market\": \"FRA\", \"enter_reason\": \"RENEWED\", \"paid\": 0.9702487473156765}, {\"month\": \"2019-01\", \"market\": \"FRA\", \"enter_reason\": \"SIGNUP\", \"paid\": 0.8111329799053998}, {\"month\": \"2019-01\", \"market\": \"FRA\", \"enter_reason\": \"UPGRADED\", \"paid\": 0.8924271229404309}, {\"month\": \"2019-01\", \"market\": \"ITA\", \"enter_reason\": \"RENEWED\", \"paid\": 0.9496886674968866}, {\"month\": \"2019-01\", \"market\": \"ITA\", \"enter_reason\": \"SIGNUP\", \"paid\": 0.6705421458359662}, {\"month\": \"2019-01\", \"market\": \"ITA\", \"enter_reason\": \"UPGRADED\", \"paid\": 0.8347521281922884}, {\"month\": \"2019-01\", \"market\": \"other\", \"enter_reason\": \"RENEWED\", \"paid\": 0.9533649289099526}, {\"month\": \"2019-01\", \"market\": \"other\", \"enter_reason\": \"SIGNUP\", \"paid\": 0.7255088195386703}, {\"month\": \"2019-01\", \"market\": \"other\", \"enter_reason\": \"UPGRADED\", \"paid\": 0.844}, {\"month\": \"2019-02\", \"market\": \"AUT\", \"enter_reason\": \"RENEWED\", \"paid\": 0.9730941704035875}, {\"month\": \"2019-02\", \"market\": \"AUT\", \"enter_reason\": \"SIGNUP\", \"paid\": 0.857031857031857}, {\"month\": \"2019-02\", \"market\": \"AUT\", \"enter_reason\": \"UPGRADED\", \"paid\": 0.9428571428571428}, {\"month\": \"2019-02\", \"market\": \"DEU\", \"enter_reason\": \"RENEWED\", \"paid\": 0.9602371460697128}, {\"month\": \"2019-02\", \"market\": \"DEU\", \"enter_reason\": \"SIGNUP\", \"paid\": 0.8043466192961031}, {\"month\": \"2019-02\", \"market\": \"DEU\", \"enter_reason\": \"UPGRADED\", \"paid\": 0.9481611893583725}, {\"month\": \"2019-02\", \"market\": \"ESP\", \"enter_reason\": \"RENEWED\", \"paid\": 0.955989110707804}, {\"month\": \"2019-02\", \"market\": \"ESP\", \"enter_reason\": \"SIGNUP\", \"paid\": 0.6668868339938353}, {\"month\": \"2019-02\", \"market\": \"ESP\", \"enter_reason\": \"UPGRADED\", \"paid\": 0.8609388839681134}, {\"month\": \"2019-02\", \"market\": \"FRA\", \"enter_reason\": \"RENEWED\", \"paid\": 0.9601264346969972}, {\"month\": \"2019-02\", \"market\": \"FRA\", \"enter_reason\": \"SIGNUP\", \"paid\": 0.810913200912573}, {\"month\": \"2019-02\", \"market\": \"FRA\", \"enter_reason\": \"UPGRADED\", \"paid\": 0.8939803202778314}, {\"month\": \"2019-02\", \"market\": \"ITA\", \"enter_reason\": \"RENEWED\", \"paid\": 0.9244844612256753}, {\"month\": \"2019-02\", \"market\": \"ITA\", \"enter_reason\": \"SIGNUP\", \"paid\": 0.7203247727473303}, {\"month\": \"2019-02\", \"market\": \"ITA\", \"enter_reason\": \"UPGRADED\", \"paid\": 0.8713355048859935}, {\"month\": \"2019-02\", \"market\": \"other\", \"enter_reason\": \"RENEWED\", \"paid\": 0.9259853345554537}, {\"month\": \"2019-02\", \"market\": \"other\", \"enter_reason\": \"SIGNUP\", \"paid\": 0.7574543122795768}, {\"month\": \"2019-02\", \"market\": \"other\", \"enter_reason\": \"UPGRADED\", \"paid\": 0.7498666666666667}, {\"month\": \"2019-03\", \"market\": \"AUT\", \"enter_reason\": \"RENEWED\", \"paid\": 0.9714576962283384}, {\"month\": \"2019-03\", \"market\": \"AUT\", \"enter_reason\": \"SIGNUP\", \"paid\": 0.8167053364269141}, {\"month\": \"2019-03\", \"market\": \"AUT\", \"enter_reason\": \"UPGRADED\", \"paid\": 0.9341176470588235}, {\"month\": \"2019-03\", \"market\": \"DEU\", \"enter_reason\": \"RENEWED\", \"paid\": 0.9764370792335577}, {\"month\": \"2019-03\", \"market\": \"DEU\", \"enter_reason\": \"SIGNUP\", \"paid\": 0.790908023023611}, {\"month\": \"2019-03\", \"market\": \"DEU\", \"enter_reason\": \"UPGRADED\", \"paid\": 0.9702699178510888}, {\"month\": \"2019-03\", \"market\": \"ESP\", \"enter_reason\": \"RENEWED\", \"paid\": 0.9284578696343402}, {\"month\": \"2019-03\", \"market\": \"ESP\", \"enter_reason\": \"SIGNUP\", \"paid\": 0.6072068841878809}, {\"month\": \"2019-03\", \"market\": \"ESP\", \"enter_reason\": \"UPGRADED\", \"paid\": 0.8162040510127532}, {\"month\": \"2019-03\", \"market\": \"FRA\", \"enter_reason\": \"RENEWED\", \"paid\": 0.9563972471994776}, {\"month\": \"2019-03\", \"market\": \"FRA\", \"enter_reason\": \"SIGNUP\", \"paid\": 0.7861752473827621}, {\"month\": \"2019-03\", \"market\": \"FRA\", \"enter_reason\": \"UPGRADED\", \"paid\": 0.8838072611181231}, {\"month\": \"2019-03\", \"market\": \"ITA\", \"enter_reason\": \"RENEWED\", \"paid\": 0.9335925815136106}, {\"month\": \"2019-03\", \"market\": \"ITA\", \"enter_reason\": \"SIGNUP\", \"paid\": 0.7178750897343862}, {\"month\": \"2019-03\", \"market\": \"ITA\", \"enter_reason\": \"UPGRADED\", \"paid\": 0.8695208970438328}, {\"month\": \"2019-03\", \"market\": \"other\", \"enter_reason\": \"RENEWED\", \"paid\": 0.9403640929064658}, {\"month\": \"2019-03\", \"market\": \"other\", \"enter_reason\": \"SIGNUP\", \"paid\": 0.729733600687482}, {\"month\": \"2019-03\", \"market\": \"other\", \"enter_reason\": \"UPGRADED\", \"paid\": 0.8318385650224215}, {\"month\": \"2019-04\", \"market\": \"AUT\", \"enter_reason\": \"RENEWED\", \"paid\": 0.9776566757493188}, {\"month\": \"2019-04\", \"market\": \"AUT\", \"enter_reason\": \"SIGNUP\", \"paid\": 0.8890464374335342}, {\"month\": \"2019-04\", \"market\": \"AUT\", \"enter_reason\": \"UPGRADED\", \"paid\": 0.9465138490926457}, {\"month\": \"2019-04\", \"market\": \"DEU\", \"enter_reason\": \"RENEWED\", \"paid\": 0.976144063863362}, {\"month\": \"2019-04\", \"market\": \"DEU\", \"enter_reason\": \"SIGNUP\", \"paid\": 0.8058629661751952}, {\"month\": \"2019-04\", \"market\": \"DEU\", \"enter_reason\": \"UPGRADED\", \"paid\": 0.9522121384004538}, {\"month\": \"2019-04\", \"market\": \"ESP\", \"enter_reason\": \"RENEWED\", \"paid\": 0.9296750133191263}, {\"month\": \"2019-04\", \"market\": \"ESP\", \"enter_reason\": \"SIGNUP\", \"paid\": 0.6781150159744409}, {\"month\": \"2019-04\", \"market\": \"ESP\", \"enter_reason\": \"UPGRADED\", \"paid\": 0.8301486199575372}, {\"month\": \"2019-04\", \"market\": \"FRA\", \"enter_reason\": \"RENEWED\", \"paid\": 0.9547287207565953}, {\"month\": \"2019-04\", \"market\": \"FRA\", \"enter_reason\": \"SIGNUP\", \"paid\": 0.816245413779046}, {\"month\": \"2019-04\", \"market\": \"FRA\", \"enter_reason\": \"UPGRADED\", \"paid\": 0.8810151157953127}, {\"month\": \"2019-04\", \"market\": \"ITA\", \"enter_reason\": \"RENEWED\", \"paid\": 0.9343434343434344}, {\"month\": \"2019-04\", \"market\": \"ITA\", \"enter_reason\": \"SIGNUP\", \"paid\": 0.7361339512632681}, {\"month\": \"2019-04\", \"market\": \"ITA\", \"enter_reason\": \"UPGRADED\", \"paid\": 0.852359208523592}, {\"month\": \"2019-04\", \"market\": \"other\", \"enter_reason\": \"RENEWED\", \"paid\": 0.944754058638236}, {\"month\": \"2019-04\", \"market\": \"other\", \"enter_reason\": \"SIGNUP\", \"paid\": 0.7467422964893454}, {\"month\": \"2019-04\", \"market\": \"other\", \"enter_reason\": \"UPGRADED\", \"paid\": 0.8593023255813953}, {\"month\": \"2019-05\", \"market\": \"AUT\", \"enter_reason\": \"RENEWED\", \"paid\": 0.9650872817955112}, {\"month\": \"2019-05\", \"market\": \"AUT\", \"enter_reason\": \"SIGNUP\", \"paid\": 0.8386776859504133}, {\"month\": \"2019-05\", \"market\": \"AUT\", \"enter_reason\": \"UPGRADED\", \"paid\": 0.9411764705882353}, {\"month\": \"2019-05\", \"market\": \"DEU\", \"enter_reason\": \"RENEWED\", \"paid\": 0.9731188168282202}, {\"month\": \"2019-05\", \"market\": \"DEU\", \"enter_reason\": \"SIGNUP\", \"paid\": 0.8005520807854921}, {\"month\": \"2019-05\", \"market\": \"DEU\", \"enter_reason\": \"UPGRADED\", \"paid\": 0.953131538568838}, {\"month\": \"2019-05\", \"market\": \"ESP\", \"enter_reason\": \"RENEWED\", \"paid\": 0.9293827160493827}, {\"month\": \"2019-05\", \"market\": \"ESP\", \"enter_reason\": \"SIGNUP\", \"paid\": 0.7052154195011338}, {\"month\": \"2019-05\", \"market\": \"ESP\", \"enter_reason\": \"UPGRADED\", \"paid\": 0.8250186150409531}, {\"month\": \"2019-05\", \"market\": \"FRA\", \"enter_reason\": \"RENEWED\", \"paid\": 0.9575187378793438}, {\"month\": \"2019-05\", \"market\": \"FRA\", \"enter_reason\": \"SIGNUP\", \"paid\": 0.8217048129611679}, {\"month\": \"2019-05\", \"market\": \"FRA\", \"enter_reason\": \"UPGRADED\", \"paid\": 0.8782055402018124}, {\"month\": \"2019-05\", \"market\": \"ITA\", \"enter_reason\": \"RENEWED\", \"paid\": 0.939487975174554}, {\"month\": \"2019-05\", \"market\": \"ITA\", \"enter_reason\": \"SIGNUP\", \"paid\": 0.7147483470516799}, {\"month\": \"2019-05\", \"market\": \"ITA\", \"enter_reason\": \"UPGRADED\", \"paid\": 0.8553008595988538}, {\"month\": \"2019-05\", \"market\": \"other\", \"enter_reason\": \"RENEWED\", \"paid\": 0.9429373246024322}, {\"month\": \"2019-05\", \"market\": \"other\", \"enter_reason\": \"SIGNUP\", \"paid\": 0.7244985849637012}, {\"month\": \"2019-05\", \"market\": \"other\", \"enter_reason\": \"UPGRADED\", \"paid\": 0.8321146534074291}, {\"month\": \"2019-06\", \"market\": \"AUT\", \"enter_reason\": \"RENEWED\", \"paid\": 0.9589412962334578}, {\"month\": \"2019-06\", \"market\": \"AUT\", \"enter_reason\": \"SIGNUP\", \"paid\": 0.8363551836355184}, {\"month\": \"2019-06\", \"market\": \"AUT\", \"enter_reason\": \"UPGRADED\", \"paid\": 0.9021937842778793}, {\"month\": \"2019-06\", \"market\": \"DEU\", \"enter_reason\": \"RENEWED\", \"paid\": 0.9705741244202782}, {\"month\": \"2019-06\", \"market\": \"DEU\", \"enter_reason\": \"SIGNUP\", \"paid\": 0.8103962668298653}, {\"month\": \"2019-06\", \"market\": \"DEU\", \"enter_reason\": \"UPGRADED\", \"paid\": 0.9594317516110135}, {\"month\": \"2019-06\", \"market\": \"ESP\", \"enter_reason\": \"RENEWED\", \"paid\": 0.9258713794796269}, {\"month\": \"2019-06\", \"market\": \"ESP\", \"enter_reason\": \"SIGNUP\", \"paid\": 0.6522801302931596}, {\"month\": \"2019-06\", \"market\": \"ESP\", \"enter_reason\": \"UPGRADED\", \"paid\": 0.8280166435506241}, {\"month\": \"2019-06\", \"market\": \"FRA\", \"enter_reason\": \"RENEWED\", \"paid\": 0.9490577867567662}, {\"month\": \"2019-06\", \"market\": \"FRA\", \"enter_reason\": \"SIGNUP\", \"paid\": 0.8233720308028756}, {\"month\": \"2019-06\", \"market\": \"FRA\", \"enter_reason\": \"UPGRADED\", \"paid\": 0.8926184042099274}, {\"month\": \"2019-06\", \"market\": \"ITA\", \"enter_reason\": \"RENEWED\", \"paid\": 0.9453802125919869}, {\"month\": \"2019-06\", \"market\": \"ITA\", \"enter_reason\": \"SIGNUP\", \"paid\": 0.7350570852921424}, {\"month\": \"2019-06\", \"market\": \"ITA\", \"enter_reason\": \"UPGRADED\", \"paid\": 0.86497461928934}, {\"month\": \"2019-06\", \"market\": \"other\", \"enter_reason\": \"RENEWED\", \"paid\": 0.9276492082825822}, {\"month\": \"2019-06\", \"market\": \"other\", \"enter_reason\": \"SIGNUP\", \"paid\": 0.6923520923520924}, {\"month\": \"2019-06\", \"market\": \"other\", \"enter_reason\": \"UPGRADED\", \"paid\": 0.8955650929899857}, {\"month\": \"2019-07\", \"market\": \"AUT\", \"enter_reason\": \"RENEWED\", \"paid\": 0.9568138195777351}, {\"month\": \"2019-07\", \"market\": \"AUT\", \"enter_reason\": \"SIGNUP\", \"paid\": 0.8364036293648611}, {\"month\": \"2019-07\", \"market\": \"AUT\", \"enter_reason\": \"UPGRADED\", \"paid\": 0.9244629244629244}, {\"month\": \"2019-07\", \"market\": \"DEU\", \"enter_reason\": \"RENEWED\", \"paid\": 0.9556383577052868}, {\"month\": \"2019-07\", \"market\": \"DEU\", \"enter_reason\": \"SIGNUP\", \"paid\": 0.8105029790771788}, {\"month\": \"2019-07\", \"market\": \"DEU\", \"enter_reason\": \"UPGRADED\", \"paid\": 0.9621273166800967}, {\"month\": \"2019-07\", \"market\": \"ESP\", \"enter_reason\": \"RENEWED\", \"paid\": 0.8930300096805421}, {\"month\": \"2019-07\", \"market\": \"ESP\", \"enter_reason\": \"SIGNUP\", \"paid\": 0.6732905982905983}, {\"month\": \"2019-07\", \"market\": \"ESP\", \"enter_reason\": \"UPGRADED\", \"paid\": 0.8288376655223149}, {\"month\": \"2019-07\", \"market\": \"FRA\", \"enter_reason\": \"RENEWED\", \"paid\": 0.9473171313790223}, {\"month\": \"2019-07\", \"market\": \"FRA\", \"enter_reason\": \"SIGNUP\", \"paid\": 0.8032200357781754}, {\"month\": \"2019-07\", \"market\": \"FRA\", \"enter_reason\": \"UPGRADED\", \"paid\": 0.8887013279315777}, {\"month\": \"2019-07\", \"market\": \"ITA\", \"enter_reason\": \"RENEWED\", \"paid\": 0.9243697478991597}, {\"month\": \"2019-07\", \"market\": \"ITA\", \"enter_reason\": \"SIGNUP\", \"paid\": 0.7456761006289309}, {\"month\": \"2019-07\", \"market\": \"ITA\", \"enter_reason\": \"UPGRADED\", \"paid\": 0.8578280232956492}, {\"month\": \"2019-07\", \"market\": \"other\", \"enter_reason\": \"RENEWED\", \"paid\": 0.9088966069997328}, {\"month\": \"2019-07\", \"market\": \"other\", \"enter_reason\": \"SIGNUP\", \"paid\": 0.6808667452830188}, {\"month\": \"2019-07\", \"market\": \"other\", \"enter_reason\": \"UPGRADED\", \"paid\": 0.8379250100792904}, {\"month\": \"2019-08\", \"market\": \"AUT\", \"enter_reason\": \"RENEWED\", \"paid\": 0.9512195121951219}, {\"month\": \"2019-08\", \"market\": \"AUT\", \"enter_reason\": \"SIGNUP\", \"paid\": 0.8329596412556054}, {\"month\": \"2019-08\", \"market\": \"AUT\", \"enter_reason\": \"UPGRADED\", \"paid\": 0.9301136363636363}, {\"month\": \"2019-08\", \"market\": \"DEU\", \"enter_reason\": \"RENEWED\", \"paid\": 0.961344965930077}, {\"month\": \"2019-08\", \"market\": \"DEU\", \"enter_reason\": \"SIGNUP\", \"paid\": 0.8336427044661942}, {\"month\": \"2019-08\", \"market\": \"DEU\", \"enter_reason\": \"UPGRADED\", \"paid\": 0.9679041697147037}, {\"month\": \"2019-08\", \"market\": \"ESP\", \"enter_reason\": \"RENEWED\", \"paid\": 0.9172297297297297}, {\"month\": \"2019-08\", \"market\": \"ESP\", \"enter_reason\": \"SIGNUP\", \"paid\": 0.6869365048916171}, {\"month\": \"2019-08\", \"market\": \"ESP\", \"enter_reason\": \"UPGRADED\", \"paid\": 0.8551564310544612}, {\"month\": \"2019-08\", \"market\": \"FRA\", \"enter_reason\": \"RENEWED\", \"paid\": 0.9422600135902004}, {\"month\": \"2019-08\", \"market\": \"FRA\", \"enter_reason\": \"SIGNUP\", \"paid\": 0.8020255772036735}, {\"month\": \"2019-08\", \"market\": \"FRA\", \"enter_reason\": \"UPGRADED\", \"paid\": 0.8893252409853624}, {\"month\": \"2019-08\", \"market\": \"ITA\", \"enter_reason\": \"RENEWED\", \"paid\": 0.9237938596491229}, {\"month\": \"2019-08\", \"market\": \"ITA\", \"enter_reason\": \"SIGNUP\", \"paid\": 0.7344880768774469}, {\"month\": \"2019-08\", \"market\": \"ITA\", \"enter_reason\": \"UPGRADED\", \"paid\": 0.8743882544861338}, {\"month\": \"2019-08\", \"market\": \"other\", \"enter_reason\": \"RENEWED\", \"paid\": 0.8857946554149085}, {\"month\": \"2019-08\", \"market\": \"other\", \"enter_reason\": \"SIGNUP\", \"paid\": 0.6873252210717254}, {\"month\": \"2019-08\", \"market\": \"other\", \"enter_reason\": \"UPGRADED\", \"paid\": 0.8466222645099905}, {\"month\": \"2019-09\", \"market\": \"AUT\", \"enter_reason\": \"RENEWED\", \"paid\": 0.9594074074074074}, {\"month\": \"2019-09\", \"market\": \"AUT\", \"enter_reason\": \"SIGNUP\", \"paid\": 0.8545067423704755}, {\"month\": \"2019-09\", \"market\": \"AUT\", \"enter_reason\": \"UPGRADED\", \"paid\": 0.9480176211453745}, {\"month\": \"2019-09\", \"market\": \"DEU\", \"enter_reason\": \"RENEWED\", \"paid\": 0.9556629976339883}, {\"month\": \"2019-09\", \"market\": \"DEU\", \"enter_reason\": \"SIGNUP\", \"paid\": 0.8472246041273652}, {\"month\": \"2019-09\", \"market\": \"DEU\", \"enter_reason\": \"UPGRADED\", \"paid\": 0.965136151304546}, {\"month\": \"2019-09\", \"market\": \"ESP\", \"enter_reason\": \"RENEWED\", \"paid\": 0.9074670571010249}, {\"month\": \"2019-09\", \"market\": \"ESP\", \"enter_reason\": \"SIGNUP\", \"paid\": 0.7270861833105335}, {\"month\": \"2019-09\", \"market\": \"ESP\", \"enter_reason\": \"UPGRADED\", \"paid\": 0.8496844520940906}, {\"month\": \"2019-09\", \"market\": \"FRA\", \"enter_reason\": \"RENEWED\", \"paid\": 0.9377436584402425}, {\"month\": \"2019-09\", \"market\": \"FRA\", \"enter_reason\": \"SIGNUP\", \"paid\": 0.80549610151353}, {\"month\": \"2019-09\", \"market\": \"FRA\", \"enter_reason\": \"UPGRADED\", \"paid\": 0.8938882639670042}, {\"month\": \"2019-09\", \"market\": \"ITA\", \"enter_reason\": \"RENEWED\", \"paid\": 0.9321817924394733}, {\"month\": \"2019-09\", \"market\": \"ITA\", \"enter_reason\": \"SIGNUP\", \"paid\": 0.7691109669046075}, {\"month\": \"2019-09\", \"market\": \"ITA\", \"enter_reason\": \"UPGRADED\", \"paid\": 0.8528455284552846}, {\"month\": \"2019-09\", \"market\": \"other\", \"enter_reason\": \"RENEWED\", \"paid\": 0.8993464052287582}, {\"month\": \"2019-09\", \"market\": \"other\", \"enter_reason\": \"SIGNUP\", \"paid\": 0.729010291727927}, {\"month\": \"2019-09\", \"market\": \"other\", \"enter_reason\": \"UPGRADED\", \"paid\": 0.8369175627240143}, {\"month\": \"2019-10\", \"market\": \"AUT\", \"enter_reason\": \"RENEWED\", \"paid\": 0.9708442123585727}, {\"month\": \"2019-10\", \"market\": \"AUT\", \"enter_reason\": \"SIGNUP\", \"paid\": 0.8412358519424901}, {\"month\": \"2019-10\", \"market\": \"AUT\", \"enter_reason\": \"UPGRADED\", \"paid\": 0.9367296631059984}, {\"month\": \"2019-10\", \"market\": \"DEU\", \"enter_reason\": \"RENEWED\", \"paid\": 0.9674716609167078}, {\"month\": \"2019-10\", \"market\": \"DEU\", \"enter_reason\": \"SIGNUP\", \"paid\": 0.8429464033407642}, {\"month\": \"2019-10\", \"market\": \"DEU\", \"enter_reason\": \"UPGRADED\", \"paid\": 0.9711437565582371}, {\"month\": \"2019-10\", \"market\": \"ESP\", \"enter_reason\": \"RENEWED\", \"paid\": 0.9245241257193448}, {\"month\": \"2019-10\", \"market\": \"ESP\", \"enter_reason\": \"SIGNUP\", \"paid\": 0.7205562798783137}, {\"month\": \"2019-10\", \"market\": \"ESP\", \"enter_reason\": \"UPGRADED\", \"paid\": 0.8600706713780919}, {\"month\": \"2019-10\", \"market\": \"FRA\", \"enter_reason\": \"RENEWED\", \"paid\": 0.9382306108975106}, {\"month\": \"2019-10\", \"market\": \"FRA\", \"enter_reason\": \"SIGNUP\", \"paid\": 0.7949963417608324}, {\"month\": \"2019-10\", \"market\": \"FRA\", \"enter_reason\": \"UPGRADED\", \"paid\": 0.8962899392659097}, {\"month\": \"2019-10\", \"market\": \"ITA\", \"enter_reason\": \"RENEWED\", \"paid\": 0.9255139871924503}, {\"month\": \"2019-10\", \"market\": \"ITA\", \"enter_reason\": \"SIGNUP\", \"paid\": 0.7465048799788974}, {\"month\": \"2019-10\", \"market\": \"ITA\", \"enter_reason\": \"UPGRADED\", \"paid\": 0.8866126727012863}, {\"month\": \"2019-10\", \"market\": \"other\", \"enter_reason\": \"RENEWED\", \"paid\": 0.899703424103532}, {\"month\": \"2019-10\", \"market\": \"other\", \"enter_reason\": \"SIGNUP\", \"paid\": 0.7002719684891682}, {\"month\": \"2019-10\", \"market\": \"other\", \"enter_reason\": \"UPGRADED\", \"paid\": 0.8588478310764287}, {\"month\": \"2019-11\", \"market\": \"AUT\", \"enter_reason\": \"RENEWED\", \"paid\": 0.9639689578713969}, {\"month\": \"2019-11\", \"market\": \"AUT\", \"enter_reason\": \"SIGNUP\", \"paid\": 0.813421453990849}, {\"month\": \"2019-11\", \"market\": \"AUT\", \"enter_reason\": \"UPGRADED\", \"paid\": 0.9557522123893806}, {\"month\": \"2019-11\", \"market\": \"DEU\", \"enter_reason\": \"RENEWED\", \"paid\": 0.9740799436520514}, {\"month\": \"2019-11\", \"market\": \"DEU\", \"enter_reason\": \"SIGNUP\", \"paid\": 0.8516114592658908}, {\"month\": \"2019-11\", \"market\": \"DEU\", \"enter_reason\": \"UPGRADED\", \"paid\": 0.9697805807384049}, {\"month\": \"2019-11\", \"market\": \"ESP\", \"enter_reason\": \"RENEWED\", \"paid\": 0.9303836633663366}, {\"month\": \"2019-11\", \"market\": \"ESP\", \"enter_reason\": \"SIGNUP\", \"paid\": 0.7652294853963839}, {\"month\": \"2019-11\", \"market\": \"ESP\", \"enter_reason\": \"UPGRADED\", \"paid\": 0.9009247027741083}, {\"month\": \"2019-11\", \"market\": \"FRA\", \"enter_reason\": \"RENEWED\", \"paid\": 0.9335777294077214}, {\"month\": \"2019-11\", \"market\": \"FRA\", \"enter_reason\": \"SIGNUP\", \"paid\": 0.7655150687808464}, {\"month\": \"2019-11\", \"market\": \"FRA\", \"enter_reason\": \"UPGRADED\", \"paid\": 0.8912690433841157}, {\"month\": \"2019-11\", \"market\": \"ITA\", \"enter_reason\": \"RENEWED\", \"paid\": 0.9150674520235607}, {\"month\": \"2019-11\", \"market\": \"ITA\", \"enter_reason\": \"SIGNUP\", \"paid\": 0.7393175530279742}, {\"month\": \"2019-11\", \"market\": \"ITA\", \"enter_reason\": \"UPGRADED\", \"paid\": 0.8827708703374778}, {\"month\": \"2019-11\", \"market\": \"other\", \"enter_reason\": \"RENEWED\", \"paid\": 0.9198845182244677}, {\"month\": \"2019-11\", \"market\": \"other\", \"enter_reason\": \"SIGNUP\", \"paid\": 0.6762542540344714}, {\"month\": \"2019-11\", \"market\": \"other\", \"enter_reason\": \"UPGRADED\", \"paid\": 0.8162534435261708}, {\"month\": \"2019-12\", \"market\": \"AUT\", \"enter_reason\": \"RENEWED\", \"paid\": 0.9724789484493735}, {\"month\": \"2019-12\", \"market\": \"AUT\", \"enter_reason\": \"SIGNUP\", \"paid\": 0.8387434554973822}, {\"month\": \"2019-12\", \"market\": \"AUT\", \"enter_reason\": \"UPGRADED\", \"paid\": 0.9460654288240495}, {\"month\": \"2019-12\", \"market\": \"DEU\", \"enter_reason\": \"RENEWED\", \"paid\": 0.9722110696874103}, {\"month\": \"2019-12\", \"market\": \"DEU\", \"enter_reason\": \"SIGNUP\", \"paid\": 0.8437101676634964}, {\"month\": \"2019-12\", \"market\": \"DEU\", \"enter_reason\": \"UPGRADED\", \"paid\": 0.9737360472751149}, {\"month\": \"2019-12\", \"market\": \"ESP\", \"enter_reason\": \"RENEWED\", \"paid\": 0.9032023289665211}, {\"month\": \"2019-12\", \"market\": \"ESP\", \"enter_reason\": \"SIGNUP\", \"paid\": 0.7077024358130349}, {\"month\": \"2019-12\", \"market\": \"ESP\", \"enter_reason\": \"UPGRADED\", \"paid\": 0.8943850267379679}, {\"month\": \"2019-12\", \"market\": \"FRA\", \"enter_reason\": \"RENEWED\", \"paid\": 0.9369734680322997}, {\"month\": \"2019-12\", \"market\": \"FRA\", \"enter_reason\": \"SIGNUP\", \"paid\": 0.7729413767663583}, {\"month\": \"2019-12\", \"market\": \"FRA\", \"enter_reason\": \"UPGRADED\", \"paid\": 0.8854974160206718}, {\"month\": \"2019-12\", \"market\": \"ITA\", \"enter_reason\": \"RENEWED\", \"paid\": 0.9247787610619469}, {\"month\": \"2019-12\", \"market\": \"ITA\", \"enter_reason\": \"SIGNUP\", \"paid\": 0.7681548189308297}, {\"month\": \"2019-12\", \"market\": \"ITA\", \"enter_reason\": \"UPGRADED\", \"paid\": 0.8718879668049793}, {\"month\": \"2019-12\", \"market\": \"other\", \"enter_reason\": \"RENEWED\", \"paid\": 0.9161807580174927}, {\"month\": \"2019-12\", \"market\": \"other\", \"enter_reason\": \"SIGNUP\", \"paid\": 0.6979661912308505}, {\"month\": \"2019-12\", \"market\": \"other\", \"enter_reason\": \"UPGRADED\", \"paid\": 0.8450771055753262}, {\"month\": \"2020-01\", \"market\": \"AUT\", \"enter_reason\": \"RENEWED\", \"paid\": 0.9547880690737833}, {\"month\": \"2020-01\", \"market\": \"AUT\", \"enter_reason\": \"SIGNUP\", \"paid\": 0.8452666987025469}, {\"month\": \"2020-01\", \"market\": \"AUT\", \"enter_reason\": \"UPGRADED\", \"paid\": 0.9468779123951537}, {\"month\": \"2020-01\", \"market\": \"DEU\", \"enter_reason\": \"RENEWED\", \"paid\": 0.9689517520082795}, {\"month\": \"2020-01\", \"market\": \"DEU\", \"enter_reason\": \"SIGNUP\", \"paid\": 0.8528021978021978}, {\"month\": \"2020-01\", \"market\": \"DEU\", \"enter_reason\": \"UPGRADED\", \"paid\": 0.9737206085753803}, {\"month\": \"2020-01\", \"market\": \"ESP\", \"enter_reason\": \"RENEWED\", \"paid\": 0.922917897223863}, {\"month\": \"2020-01\", \"market\": \"ESP\", \"enter_reason\": \"SIGNUP\", \"paid\": 0.7063318777292577}, {\"month\": \"2020-01\", \"market\": \"ESP\", \"enter_reason\": \"UPGRADED\", \"paid\": 0.8599250936329588}, {\"month\": \"2020-01\", \"market\": \"FRA\", \"enter_reason\": \"RENEWED\", \"paid\": 0.9405525880951466}, {\"month\": \"2020-01\", \"market\": \"FRA\", \"enter_reason\": \"SIGNUP\", \"paid\": 0.7613549290564642}, {\"month\": \"2020-01\", \"market\": \"FRA\", \"enter_reason\": \"UPGRADED\", \"paid\": 0.8949714553843747}, {\"month\": \"2020-01\", \"market\": \"ITA\", \"enter_reason\": \"RENEWED\", \"paid\": 0.9096764748938662}, {\"month\": \"2020-01\", \"market\": \"ITA\", \"enter_reason\": \"SIGNUP\", \"paid\": 0.7417010410528383}, {\"month\": \"2020-01\", \"market\": \"ITA\", \"enter_reason\": \"UPGRADED\", \"paid\": 0.8739539748953975}, {\"month\": \"2020-01\", \"market\": \"other\", \"enter_reason\": \"RENEWED\", \"paid\": 0.9056489167847742}, {\"month\": \"2020-01\", \"market\": \"other\", \"enter_reason\": \"SIGNUP\", \"paid\": 0.6951879271070615}, {\"month\": \"2020-01\", \"market\": \"other\", \"enter_reason\": \"UPGRADED\", \"paid\": 0.8496951219512195}, {\"month\": \"2020-02\", \"market\": \"AUT\", \"enter_reason\": \"RENEWED\", \"paid\": 0.9588652482269504}, {\"month\": \"2020-02\", \"market\": \"AUT\", \"enter_reason\": \"SIGNUP\", \"paid\": 0.7747191011235955}, {\"month\": \"2020-02\", \"market\": \"AUT\", \"enter_reason\": \"UPGRADED\", \"paid\": 0.9359104781281791}, {\"month\": \"2020-02\", \"market\": \"DEU\", \"enter_reason\": \"RENEWED\", \"paid\": 0.9689890598009377}, {\"month\": \"2020-02\", \"market\": \"DEU\", \"enter_reason\": \"SIGNUP\", \"paid\": 0.8345430978613091}, {\"month\": \"2020-02\", \"market\": \"DEU\", \"enter_reason\": \"UPGRADED\", \"paid\": 0.9686635944700461}, {\"month\": \"2020-02\", \"market\": \"ESP\", \"enter_reason\": \"RENEWED\", \"paid\": 0.9123076923076923}, {\"month\": \"2020-02\", \"market\": \"ESP\", \"enter_reason\": \"SIGNUP\", \"paid\": 0.6296180338134001}, {\"month\": \"2020-02\", \"market\": \"ESP\", \"enter_reason\": \"UPGRADED\", \"paid\": 0.8778433024431339}, {\"month\": \"2020-02\", \"market\": \"FRA\", \"enter_reason\": \"RENEWED\", \"paid\": 0.9363185378590079}, {\"month\": \"2020-02\", \"market\": \"FRA\", \"enter_reason\": \"SIGNUP\", \"paid\": 0.7223744007968623}, {\"month\": \"2020-02\", \"market\": \"FRA\", \"enter_reason\": \"UPGRADED\", \"paid\": 0.8792983155586565}, {\"month\": \"2020-02\", \"market\": \"ITA\", \"enter_reason\": \"RENEWED\", \"paid\": 0.9125922969467172}, {\"month\": \"2020-02\", \"market\": \"ITA\", \"enter_reason\": \"SIGNUP\", \"paid\": 0.6747797867408437}, {\"month\": \"2020-02\", \"market\": \"ITA\", \"enter_reason\": \"UPGRADED\", \"paid\": 0.8393207054212932}, {\"month\": \"2020-02\", \"market\": \"other\", \"enter_reason\": \"RENEWED\", \"paid\": 0.8944458406634833}, {\"month\": \"2020-02\", \"market\": \"other\", \"enter_reason\": \"SIGNUP\", \"paid\": 0.6453430560159098}, {\"month\": \"2020-02\", \"market\": \"other\", \"enter_reason\": \"UPGRADED\", \"paid\": 0.8388786198398028}, {\"month\": \"2020-03\", \"market\": \"AUT\", \"enter_reason\": \"RENEWED\", \"paid\": 0.9588607594936709}, {\"month\": \"2020-03\", \"market\": \"AUT\", \"enter_reason\": \"SIGNUP\", \"paid\": 0.7062404870624048}, {\"month\": \"2020-03\", \"market\": \"AUT\", \"enter_reason\": \"UPGRADED\", \"paid\": 0.8989751098096632}, {\"month\": \"2020-03\", \"market\": \"DEU\", \"enter_reason\": \"RENEWED\", \"paid\": 0.9704053717980602}, {\"month\": \"2020-03\", \"market\": \"DEU\", \"enter_reason\": \"SIGNUP\", \"paid\": 0.8362381483547128}, {\"month\": \"2020-03\", \"market\": \"DEU\", \"enter_reason\": \"UPGRADED\", \"paid\": 0.9662997079308021}, {\"month\": \"2020-03\", \"market\": \"ESP\", \"enter_reason\": \"RENEWED\", \"paid\": 0.9177057356608479}, {\"month\": \"2020-03\", \"market\": \"ESP\", \"enter_reason\": \"SIGNUP\", \"paid\": 0.6093165589935396}, {\"month\": \"2020-03\", \"market\": \"ESP\", \"enter_reason\": \"UPGRADED\", \"paid\": 0.828125}, {\"month\": \"2020-03\", \"market\": \"FRA\", \"enter_reason\": \"RENEWED\", \"paid\": 0.934944079228208}, {\"month\": \"2020-03\", \"market\": \"FRA\", \"enter_reason\": \"SIGNUP\", \"paid\": 0.7136881245642575}, {\"month\": \"2020-03\", \"market\": \"FRA\", \"enter_reason\": \"UPGRADED\", \"paid\": 0.8845199702307119}, {\"month\": \"2020-03\", \"market\": \"ITA\", \"enter_reason\": \"RENEWED\", \"paid\": 0.9115418894830659}, {\"month\": \"2020-03\", \"market\": \"ITA\", \"enter_reason\": \"SIGNUP\", \"paid\": 0.6786463798530955}, {\"month\": \"2020-03\", \"market\": \"ITA\", \"enter_reason\": \"UPGRADED\", \"paid\": 0.8256013745704467}, {\"month\": \"2020-03\", \"market\": \"other\", \"enter_reason\": \"RENEWED\", \"paid\": 0.9172892209178228}, {\"month\": \"2020-03\", \"market\": \"other\", \"enter_reason\": \"SIGNUP\", \"paid\": 0.640254827792156}, {\"month\": \"2020-03\", \"market\": \"other\", \"enter_reason\": \"UPGRADED\", \"paid\": 0.8056118999323868}, {\"month\": \"2020-04\", \"market\": \"AUT\", \"enter_reason\": \"RENEWED\", \"paid\": 0.9396662387676509}, {\"month\": \"2020-04\", \"market\": \"AUT\", \"enter_reason\": \"SIGNUP\", \"paid\": 0.7393364928909952}, {\"month\": \"2020-04\", \"market\": \"AUT\", \"enter_reason\": \"UPGRADED\", \"paid\": 0.8404558404558404}, {\"month\": \"2020-04\", \"market\": \"DEU\", \"enter_reason\": \"RENEWED\", \"paid\": 0.9715171700930286}, {\"month\": \"2020-04\", \"market\": \"DEU\", \"enter_reason\": \"SIGNUP\", \"paid\": 0.8341477645685945}, {\"month\": \"2020-04\", \"market\": \"DEU\", \"enter_reason\": \"UPGRADED\", \"paid\": 0.96875}, {\"month\": \"2020-04\", \"market\": \"ESP\", \"enter_reason\": \"RENEWED\", \"paid\": 0.9181757209926223}, {\"month\": \"2020-04\", \"market\": \"ESP\", \"enter_reason\": \"SIGNUP\", \"paid\": 0.5638864241348713}, {\"month\": \"2020-04\", \"market\": \"ESP\", \"enter_reason\": \"UPGRADED\", \"paid\": 0.7695749440715883}, {\"month\": \"2020-04\", \"market\": \"FRA\", \"enter_reason\": \"RENEWED\", \"paid\": 0.9338924518993587}, {\"month\": \"2020-04\", \"market\": \"FRA\", \"enter_reason\": \"SIGNUP\", \"paid\": 0.7355758841748902}, {\"month\": \"2020-04\", \"market\": \"FRA\", \"enter_reason\": \"UPGRADED\", \"paid\": 0.8593717495319326}, {\"month\": \"2020-04\", \"market\": \"ITA\", \"enter_reason\": \"RENEWED\", \"paid\": 0.9121352785145889}, {\"month\": \"2020-04\", \"market\": \"ITA\", \"enter_reason\": \"SIGNUP\", \"paid\": 0.6548608601373328}, {\"month\": \"2020-04\", \"market\": \"ITA\", \"enter_reason\": \"UPGRADED\", \"paid\": 0.8205741626794258}, {\"month\": \"2020-04\", \"market\": \"other\", \"enter_reason\": \"RENEWED\", \"paid\": 0.9090909090909091}, {\"month\": \"2020-04\", \"market\": \"other\", \"enter_reason\": \"SIGNUP\", \"paid\": 0.6315527950310559}, {\"month\": \"2020-04\", \"market\": \"other\", \"enter_reason\": \"UPGRADED\", \"paid\": 0.7768115942028986}, {\"month\": \"2020-05\", \"market\": \"AUT\", \"enter_reason\": \"RENEWED\", \"paid\": 0.9419544452608376}, {\"month\": \"2020-05\", \"market\": \"AUT\", \"enter_reason\": \"SIGNUP\", \"paid\": 0.7126984126984127}, {\"month\": \"2020-05\", \"market\": \"AUT\", \"enter_reason\": \"UPGRADED\", \"paid\": 0.8646864686468647}, {\"month\": \"2020-05\", \"market\": \"DEU\", \"enter_reason\": \"RENEWED\", \"paid\": 0.9632461040870333}, {\"month\": \"2020-05\", \"market\": \"DEU\", \"enter_reason\": \"SIGNUP\", \"paid\": 0.8483628922237381}, {\"month\": \"2020-05\", \"market\": \"DEU\", \"enter_reason\": \"UPGRADED\", \"paid\": 0.9586108468125595}, {\"month\": \"2020-05\", \"market\": \"ESP\", \"enter_reason\": \"RENEWED\", \"paid\": 0.9148936170212766}, {\"month\": \"2020-05\", \"market\": \"ESP\", \"enter_reason\": \"SIGNUP\", \"paid\": 0.6394293125810635}, {\"month\": \"2020-05\", \"market\": \"ESP\", \"enter_reason\": \"UPGRADED\", \"paid\": 0.8122676579925651}, {\"month\": \"2020-05\", \"market\": \"FRA\", \"enter_reason\": \"RENEWED\", \"paid\": 0.9238078708725648}, {\"month\": \"2020-05\", \"market\": \"FRA\", \"enter_reason\": \"SIGNUP\", \"paid\": 0.7249982816688432}, {\"month\": \"2020-05\", \"market\": \"FRA\", \"enter_reason\": \"UPGRADED\", \"paid\": 0.8563447725458898}, {\"month\": \"2020-05\", \"market\": \"ITA\", \"enter_reason\": \"RENEWED\", \"paid\": 0.9054205607476635}, {\"month\": \"2020-05\", \"market\": \"ITA\", \"enter_reason\": \"SIGNUP\", \"paid\": 0.6711409395973155}, {\"month\": \"2020-05\", \"market\": \"ITA\", \"enter_reason\": \"UPGRADED\", \"paid\": 0.8480825958702065}, {\"month\": \"2020-05\", \"market\": \"other\", \"enter_reason\": \"RENEWED\", \"paid\": 0.9019950997549877}, {\"month\": \"2020-05\", \"market\": \"other\", \"enter_reason\": \"SIGNUP\", \"paid\": 0.5963572267920094}, {\"month\": \"2020-05\", \"market\": \"other\", \"enter_reason\": \"UPGRADED\", \"paid\": 0.7209302325581395}, {\"month\": \"2020-06\", \"market\": \"AUT\", \"enter_reason\": \"RENEWED\", \"paid\": 0.9584103512014788}, {\"month\": \"2020-06\", \"market\": \"AUT\", \"enter_reason\": \"SIGNUP\", \"paid\": 0.6779184247538678}, {\"month\": \"2020-06\", \"market\": \"AUT\", \"enter_reason\": \"UPGRADED\", \"paid\": 0.8846153846153846}, {\"month\": \"2020-06\", \"market\": \"DEU\", \"enter_reason\": \"RENEWED\", \"paid\": 0.9666470761093153}, {\"month\": \"2020-06\", \"market\": \"DEU\", \"enter_reason\": \"SIGNUP\", \"paid\": 0.8510725397085311}, {\"month\": \"2020-06\", \"market\": \"DEU\", \"enter_reason\": \"UPGRADED\", \"paid\": 0.9706959706959707}, {\"month\": \"2020-06\", \"market\": \"ESP\", \"enter_reason\": \"RENEWED\", \"paid\": 0.9070548712206047}, {\"month\": \"2020-06\", \"market\": \"ESP\", \"enter_reason\": \"SIGNUP\", \"paid\": 0.5996258185219832}, {\"month\": \"2020-06\", \"market\": \"ESP\", \"enter_reason\": \"UPGRADED\", \"paid\": 0.832258064516129}, {\"month\": \"2020-06\", \"market\": \"FRA\", \"enter_reason\": \"RENEWED\", \"paid\": 0.9263586823113555}, {\"month\": \"2020-06\", \"market\": \"FRA\", \"enter_reason\": \"SIGNUP\", \"paid\": 0.680409646514701}, {\"month\": \"2020-06\", \"market\": \"FRA\", \"enter_reason\": \"UPGRADED\", \"paid\": 0.9008470353761834}, {\"month\": \"2020-06\", \"market\": \"ITA\", \"enter_reason\": \"RENEWED\", \"paid\": 0.9171861086375779}, {\"month\": \"2020-06\", \"market\": \"ITA\", \"enter_reason\": \"SIGNUP\", \"paid\": 0.6554673182651192}, {\"month\": \"2020-06\", \"market\": \"ITA\", \"enter_reason\": \"UPGRADED\", \"paid\": 0.9159869494290375}, {\"month\": \"2020-06\", \"market\": \"other\", \"enter_reason\": \"RENEWED\", \"paid\": 0.8994115998879237}, {\"month\": \"2020-06\", \"market\": \"other\", \"enter_reason\": \"SIGNUP\", \"paid\": 0.5872112487445598}, {\"month\": \"2020-06\", \"market\": \"other\", \"enter_reason\": \"UPGRADED\", \"paid\": 0.7815045519885002}, {\"month\": \"2020-07\", \"market\": \"AUT\", \"enter_reason\": \"RENEWED\", \"paid\": 0.9142512077294686}, {\"month\": \"2020-07\", \"market\": \"AUT\", \"enter_reason\": \"SIGNUP\", \"paid\": 0.639344262295082}, {\"month\": \"2020-07\", \"market\": \"AUT\", \"enter_reason\": \"UPGRADED\", \"paid\": 0.8979591836734694}, {\"month\": \"2020-07\", \"market\": \"DEU\", \"enter_reason\": \"RENEWED\", \"paid\": 0.9597844112769486}, {\"month\": \"2020-07\", \"market\": \"DEU\", \"enter_reason\": \"SIGNUP\", \"paid\": 0.7893001099303775}, {\"month\": \"2020-07\", \"market\": \"DEU\", \"enter_reason\": \"UPGRADED\", \"paid\": 0.9670146137787057}, {\"month\": \"2020-07\", \"market\": \"ESP\", \"enter_reason\": \"RENEWED\", \"paid\": 0.9154160982264665}, {\"month\": \"2020-07\", \"market\": \"ESP\", \"enter_reason\": \"SIGNUP\", \"paid\": 0.6338028169014085}, {\"month\": \"2020-07\", \"market\": \"ESP\", \"enter_reason\": \"UPGRADED\", \"paid\": 0.8361266294227188}, {\"month\": \"2020-07\", \"market\": \"FRA\", \"enter_reason\": \"RENEWED\", \"paid\": 0.9054435345124218}, {\"month\": \"2020-07\", \"market\": \"FRA\", \"enter_reason\": \"SIGNUP\", \"paid\": 0.6879010082493126}, {\"month\": \"2020-07\", \"market\": \"FRA\", \"enter_reason\": \"UPGRADED\", \"paid\": 0.8755097660442155}, {\"month\": \"2020-07\", \"market\": \"ITA\", \"enter_reason\": \"RENEWED\", \"paid\": 0.9002949852507375}, {\"month\": \"2020-07\", \"market\": \"ITA\", \"enter_reason\": \"SIGNUP\", \"paid\": 0.6734397677793904}, {\"month\": \"2020-07\", \"market\": \"ITA\", \"enter_reason\": \"UPGRADED\", \"paid\": 0.89281210592686}, {\"month\": \"2020-07\", \"market\": \"other\", \"enter_reason\": \"RENEWED\", \"paid\": 0.8826666666666667}, {\"month\": \"2020-07\", \"market\": \"other\", \"enter_reason\": \"SIGNUP\", \"paid\": 0.6162138852953859}, {\"month\": \"2020-07\", \"market\": \"other\", \"enter_reason\": \"UPGRADED\", \"paid\": 0.7849162011173184}]}}, {\"mode\": \"vega-lite\"});\n",
       "</script>"
      ]
     },
     "metadata": {
      "tags": []
     },
     "execution_count": 12
    }
   ],
   "metadata": {
    "colab": {
     "base_uri": "https://localhost:8080/",
     "height": 535
    },
    "colab_type": "code",
    "id": "cuQ17Ck16xB1",
    "outputId": "3b9d3780-f0fe-4a22-f022-91cb43e70175"
   }
  },
  {
   "cell_type": "code",
   "execution_count": null,
   "source": [
    "data = df\n",
    "\n",
    "# drop all discount_flg and overwrite_flg = True\n",
    "data = data.loc[(data[\"discount_flg\"] == False) & (data[\"override_flg\"] == False), :]\n",
    "\n",
    "# trim market\n",
    "data[\"market\"] = data[\"market\"].str.strip()\n",
    "\n",
    "# drop UK\n",
    "data = data.loc[data[\"market\"] != \"GBR\", :]\n",
    "\n",
    "data.loc[\n",
    "    data[\"market\"].isin([\"FRA\", \"DEU\", \"ITA\", \"ESP\", \"AUT\"]) == False, \"market\"\n",
    "] = \"other\"\n",
    "\n",
    "# keep only payments that were charged\n",
    "data = data.loc[data[\"charged\"] == True, :]\n",
    "\n",
    "# restrict on relevant cohorts\n",
    "data = data.loc[\n",
    "    pd.to_datetime(data[\"subscription_valid_from\"]) < pd.to_datetime(\"2020-08-01\"), :\n",
    "]\n",
    "data = data.loc[\n",
    "    pd.to_datetime(data[\"subscription_valid_from\"]) >= pd.to_datetime(\"2019-01-01\"), :\n",
    "]\n",
    "\n",
    "# convert to monthly cohorts\n",
    "data[\"month\"] = pd.to_datetime(data[\"subscription_valid_from\"]).dt.to_period(\"M\")\n",
    "\n",
    "# drop downgraders\n",
    "data = data.loc[data[\"enter_reason\"] != \"DOWNGRADED\", :]\n",
    "\n",
    "data = (\n",
    "    data.groupby([\"payment_no\", \"market\", \"enter_reason\"])[\"arrears\"]\n",
    "    .agg(\"mean\")\n",
    "    .reset_index()\n",
    ")\n",
    "\n",
    "alt.Chart(data).mark_line().encode(\n",
    "    x=alt.X(\"payment_no:N\", axis=alt.Axis(title=\"Payment #\")),\n",
    "    y=alt.Y(\n",
    "        \"arrears:Q\",\n",
    "        axis=alt.Axis(format=\"%\", title=\"% of charged fees that were in arrears\"),\n",
    "    ),\n",
    "    color=\"market:N\",\n",
    ").properties(width=300, height=300, title=\"% of charged fees that are paid\").facet(\n",
    "    facet=\"enter_reason:N\", columns=3\n",
    ")"
   ],
   "outputs": [],
   "metadata": {
    "colab": {},
    "colab_type": "code",
    "id": "Os58wJoaH424"
   }
  },
  {
   "cell_type": "code",
   "execution_count": 17,
   "source": [
    "data = df\n",
    "\n",
    "# drop all discount_flg and overwrite_flg = True\n",
    "data = data.loc[(data[\"discount_flg\"] == False) & (data[\"override_flg\"] == False), :]\n",
    "\n",
    "# trim market\n",
    "data[\"market\"] = data[\"market\"].str.strip()\n",
    "\n",
    "# drop UK\n",
    "data = data.loc[data[\"market\"] != \"GBR\", :]\n",
    "\n",
    "data.loc[\n",
    "    data[\"market\"].isin([\"FRA\", \"DEU\", \"ITA\", \"ESP\", \"AUT\"]) == False, \"market\"\n",
    "] = \"other\"\n",
    "\n",
    "# keep only payments that were charged\n",
    "data = data.loc[data[\"charged\"] == True, :]\n",
    "\n",
    "# restrict on relevant cohorts\n",
    "data = data.loc[\n",
    "    pd.to_datetime(data[\"subscription_valid_from\"]) < pd.to_datetime(\"2020-08-01\"), :\n",
    "]\n",
    "data = data.loc[\n",
    "    pd.to_datetime(data[\"subscription_valid_from\"]) >= pd.to_datetime(\"2019-01-01\"), :\n",
    "]\n",
    "\n",
    "# convert to monthly cohorts\n",
    "data[\"month\"] = pd.to_datetime(data[\"subscription_valid_from\"]).dt.to_period(\"M\")\n",
    "\n",
    "# drop downgraders\n",
    "data = data.loc[data[\"enter_reason\"] != \"DOWNGRADED\", :]\n",
    "\n",
    "data = (\n",
    "    data.groupby([\"payment_no\", \"market\", \"enter_reason\"])[\"arrears\"]\n",
    "    .agg(\"mean\")\n",
    "    .reset_index()\n",
    ")\n",
    "\n",
    "alt.Chart(data).mark_line().encode(\n",
    "    x=alt.X(\"payment_no:N\", axis=alt.Axis(title=\"Payment #\")),\n",
    "    y=alt.Y(\n",
    "        \"arrears:Q\",\n",
    "        axis=alt.Axis(format=\"%\", title=\"% of charged fees that were in arrears\"),\n",
    "    ),\n",
    "    color=\"market:N\",\n",
    ").properties(width=300, height=300, title=\"% of charged fees that are paid\").facet(\n",
    "    facet=\"enter_reason:N\", columns=3\n",
    ")"
   ],
   "outputs": [
    {
     "output_type": "stream",
     "name": "stderr",
     "text": [
      "/usr/local/lib/python3.6/dist-packages/ipykernel_launcher.py:7: SettingWithCopyWarning: \n",
      "A value is trying to be set on a copy of a slice from a DataFrame.\n",
      "Try using .loc[row_indexer,col_indexer] = value instead\n",
      "\n",
      "See the caveats in the documentation: https://pandas.pydata.org/pandas-docs/stable/user_guide/indexing.html#returning-a-view-versus-a-copy\n",
      "  import sys\n"
     ]
    },
    {
     "output_type": "execute_result",
     "data": {
      "text/plain": [
       "alt.FacetChart(...)"
      ],
      "text/html": [
       "\n",
       "<div id=\"altair-viz-e10f495f979545d8a0c3497b2171a484\"></div>\n",
       "<script type=\"text/javascript\">\n",
       "  (function(spec, embedOpt){\n",
       "    let outputDiv = document.currentScript.previousElementSibling;\n",
       "    if (outputDiv.id !== \"altair-viz-e10f495f979545d8a0c3497b2171a484\") {\n",
       "      outputDiv = document.getElementById(\"altair-viz-e10f495f979545d8a0c3497b2171a484\");\n",
       "    }\n",
       "    const paths = {\n",
       "      \"vega\": \"https://cdn.jsdelivr.net/npm//vega@5?noext\",\n",
       "      \"vega-lib\": \"https://cdn.jsdelivr.net/npm//vega-lib?noext\",\n",
       "      \"vega-lite\": \"https://cdn.jsdelivr.net/npm//vega-lite@4.8.1?noext\",\n",
       "      \"vega-embed\": \"https://cdn.jsdelivr.net/npm//vega-embed@6?noext\",\n",
       "    };\n",
       "\n",
       "    function loadScript(lib) {\n",
       "      return new Promise(function(resolve, reject) {\n",
       "        var s = document.createElement('script');\n",
       "        s.src = paths[lib];\n",
       "        s.async = true;\n",
       "        s.onload = () => resolve(paths[lib]);\n",
       "        s.onerror = () => reject(`Error loading script: ${paths[lib]}`);\n",
       "        document.getElementsByTagName(\"head\")[0].appendChild(s);\n",
       "      });\n",
       "    }\n",
       "\n",
       "    function showError(err) {\n",
       "      outputDiv.innerHTML = `<div class=\"error\" style=\"color:red;\">${err}</div>`;\n",
       "      throw err;\n",
       "    }\n",
       "\n",
       "    function displayChart(vegaEmbed) {\n",
       "      vegaEmbed(outputDiv, spec, embedOpt)\n",
       "        .catch(err => showError(`Javascript Error: ${err.message}<br>This usually means there's a typo in your chart specification. See the javascript console for the full traceback.`));\n",
       "    }\n",
       "\n",
       "    if(typeof define === \"function\" && define.amd) {\n",
       "      requirejs.config({paths});\n",
       "      require([\"vega-embed\"], displayChart, err => showError(`Error loading script: ${err.message}`));\n",
       "    } else if (typeof vegaEmbed === \"function\") {\n",
       "      displayChart(vegaEmbed);\n",
       "    } else {\n",
       "      loadScript(\"vega\")\n",
       "        .then(() => loadScript(\"vega-lite\"))\n",
       "        .then(() => loadScript(\"vega-embed\"))\n",
       "        .catch(showError)\n",
       "        .then(() => displayChart(vegaEmbed));\n",
       "    }\n",
       "  })({\"config\": {\"view\": {\"continuousWidth\": 400, \"continuousHeight\": 300}}, \"data\": {\"name\": \"data-4bb8f09dd032bcdb5272e6266c4cf63a\"}, \"facet\": {\"type\": \"nominal\", \"field\": \"enter_reason\"}, \"spec\": {\"mark\": \"line\", \"encoding\": {\"color\": {\"type\": \"nominal\", \"field\": \"market\"}, \"x\": {\"type\": \"nominal\", \"axis\": {\"title\": \"Payment #\"}, \"field\": \"payment_no\"}, \"y\": {\"type\": \"quantitative\", \"axis\": {\"format\": \"%\", \"title\": \"% of charged fees that were in arrears\"}, \"field\": \"arrears\"}}, \"height\": 300, \"title\": \"% of charged fees that are paid\", \"width\": 300}, \"columns\": 3, \"$schema\": \"https://vega.github.io/schema/vega-lite/v4.8.1.json\", \"datasets\": {\"data-4bb8f09dd032bcdb5272e6266c4cf63a\": [{\"payment_no\": 1, \"market\": \"AUT\", \"enter_reason\": \"RENEWED\", \"arrears\": 0.20248380129589633}, {\"payment_no\": 1, \"market\": \"AUT\", \"enter_reason\": \"SIGNUP\", \"arrears\": 0.5041444096518696}, {\"payment_no\": 1, \"market\": \"AUT\", \"enter_reason\": \"UPGRADED\", \"arrears\": 0.35675449602676707}, {\"payment_no\": 1, \"market\": \"DEU\", \"enter_reason\": \"RENEWED\", \"arrears\": 0.14633105802047783}, {\"payment_no\": 1, \"market\": \"DEU\", \"enter_reason\": \"SIGNUP\", \"arrears\": 0.5535320255115921}, {\"payment_no\": 1, \"market\": \"DEU\", \"enter_reason\": \"UPGRADED\", \"arrears\": 0.20983149794347883}, {\"payment_no\": 1, \"market\": \"ESP\", \"enter_reason\": \"RENEWED\", \"arrears\": 0.24692622950819673}, {\"payment_no\": 1, \"market\": \"ESP\", \"enter_reason\": \"SIGNUP\", \"arrears\": 0.6436751233262861}, {\"payment_no\": 1, \"market\": \"ESP\", \"enter_reason\": \"UPGRADED\", \"arrears\": 0.49052396878483834}, {\"payment_no\": 1, \"market\": \"FRA\", \"enter_reason\": \"RENEWED\", \"arrears\": 0.24893567387881263}, {\"payment_no\": 1, \"market\": \"FRA\", \"enter_reason\": \"SIGNUP\", \"arrears\": 0.5816876291480709}, {\"payment_no\": 1, \"market\": \"FRA\", \"enter_reason\": \"UPGRADED\", \"arrears\": 0.4797078931013052}, {\"payment_no\": 1, \"market\": \"ITA\", \"enter_reason\": \"RENEWED\", \"arrears\": 0.26648160999306036}, {\"payment_no\": 1, \"market\": \"ITA\", \"enter_reason\": \"SIGNUP\", \"arrears\": 0.6358793150312585}, {\"payment_no\": 1, \"market\": \"ITA\", \"enter_reason\": \"UPGRADED\", \"arrears\": 0.46733067729083666}, {\"payment_no\": 1, \"market\": \"other\", \"enter_reason\": \"RENEWED\", \"arrears\": 0.28141008943301205}, {\"payment_no\": 1, \"market\": \"other\", \"enter_reason\": \"SIGNUP\", \"arrears\": 0.6319109139153508}, {\"payment_no\": 1, \"market\": \"other\", \"enter_reason\": \"UPGRADED\", \"arrears\": 0.4998571020291512}, {\"payment_no\": 2, \"market\": \"AUT\", \"enter_reason\": \"RENEWED\", \"arrears\": 0.19358427591322083}, {\"payment_no\": 2, \"market\": \"AUT\", \"enter_reason\": \"SIGNUP\", \"arrears\": 0.48928571428571427}, {\"payment_no\": 2, \"market\": \"AUT\", \"enter_reason\": \"UPGRADED\", \"arrears\": 0.2775310834813499}, {\"payment_no\": 2, \"market\": \"DEU\", \"enter_reason\": \"RENEWED\", \"arrears\": 0.13597767004554134}, {\"payment_no\": 2, \"market\": \"DEU\", \"enter_reason\": \"SIGNUP\", \"arrears\": 0.4812894464762434}, {\"payment_no\": 2, \"market\": \"DEU\", \"enter_reason\": \"UPGRADED\", \"arrears\": 0.14627472990037885}, {\"payment_no\": 2, \"market\": \"ESP\", \"enter_reason\": \"RENEWED\", \"arrears\": 0.23821564023839625}, {\"payment_no\": 2, \"market\": \"ESP\", \"enter_reason\": \"SIGNUP\", \"arrears\": 0.6300886556902479}, {\"payment_no\": 2, \"market\": \"ESP\", \"enter_reason\": \"UPGRADED\", \"arrears\": 0.3646288209606987}, {\"payment_no\": 2, \"market\": \"FRA\", \"enter_reason\": \"RENEWED\", \"arrears\": 0.24398381486476894}, {\"payment_no\": 2, \"market\": \"FRA\", \"enter_reason\": \"SIGNUP\", \"arrears\": 0.5427942857691828}, {\"payment_no\": 2, \"market\": \"FRA\", \"enter_reason\": \"UPGRADED\", \"arrears\": 0.3629692542891116}, {\"payment_no\": 2, \"market\": \"ITA\", \"enter_reason\": \"RENEWED\", \"arrears\": 0.2511792452830189}, {\"payment_no\": 2, \"market\": \"ITA\", \"enter_reason\": \"SIGNUP\", \"arrears\": 0.5980408526743474}, {\"payment_no\": 2, \"market\": \"ITA\", \"enter_reason\": \"UPGRADED\", \"arrears\": 0.3335551119982258}, {\"payment_no\": 2, \"market\": \"other\", \"enter_reason\": \"RENEWED\", \"arrears\": 0.2725678419789551}, {\"payment_no\": 2, \"market\": \"other\", \"enter_reason\": \"SIGNUP\", \"arrears\": 0.62020642405908}, {\"payment_no\": 2, \"market\": \"other\", \"enter_reason\": \"UPGRADED\", \"arrears\": 0.3988239000315027}, {\"payment_no\": 3, \"market\": \"AUT\", \"enter_reason\": \"RENEWED\", \"arrears\": 0.19157011586096684}, {\"payment_no\": 3, \"market\": \"AUT\", \"enter_reason\": \"SIGNUP\", \"arrears\": 0.48074632790789995}, {\"payment_no\": 3, \"market\": \"AUT\", \"enter_reason\": \"UPGRADED\", \"arrears\": 0.27656546489563566}, {\"payment_no\": 3, \"market\": \"DEU\", \"enter_reason\": \"RENEWED\", \"arrears\": 0.1325304993082631}, {\"payment_no\": 3, \"market\": \"DEU\", \"enter_reason\": \"SIGNUP\", \"arrears\": 0.4546202583724183}, {\"payment_no\": 3, \"market\": \"DEU\", \"enter_reason\": \"UPGRADED\", \"arrears\": 0.1548314606741573}, {\"payment_no\": 3, \"market\": \"ESP\", \"enter_reason\": \"RENEWED\", \"arrears\": 0.2300237341772152}, {\"payment_no\": 3, \"market\": \"ESP\", \"enter_reason\": \"SIGNUP\", \"arrears\": 0.6287114442202364}, {\"payment_no\": 3, \"market\": \"ESP\", \"enter_reason\": \"UPGRADED\", \"arrears\": 0.3723223393403604}, {\"payment_no\": 3, \"market\": \"FRA\", \"enter_reason\": \"RENEWED\", \"arrears\": 0.23776492832644447}, {\"payment_no\": 3, \"market\": \"FRA\", \"enter_reason\": \"SIGNUP\", \"arrears\": 0.5266675523489316}, {\"payment_no\": 3, \"market\": \"FRA\", \"enter_reason\": \"UPGRADED\", \"arrears\": 0.3878533877430977}, {\"payment_no\": 3, \"market\": \"ITA\", \"enter_reason\": \"RENEWED\", \"arrears\": 0.2544767210505372}, {\"payment_no\": 3, \"market\": \"ITA\", \"enter_reason\": \"SIGNUP\", \"arrears\": 0.5809289232934554}, {\"payment_no\": 3, \"market\": \"ITA\", \"enter_reason\": \"UPGRADED\", \"arrears\": 0.37064796905222436}, {\"payment_no\": 3, \"market\": \"other\", \"enter_reason\": \"RENEWED\", \"arrears\": 0.26283260004190234}, {\"payment_no\": 3, \"market\": \"other\", \"enter_reason\": \"SIGNUP\", \"arrears\": 0.6160556800305096}, {\"payment_no\": 3, \"market\": \"other\", \"enter_reason\": \"UPGRADED\", \"arrears\": 0.41458404655939746}, {\"payment_no\": 4, \"market\": \"AUT\", \"enter_reason\": \"RENEWED\", \"arrears\": 0.18153846153846154}, {\"payment_no\": 4, \"market\": \"AUT\", \"enter_reason\": \"SIGNUP\", \"arrears\": 0.4124253285543608}, {\"payment_no\": 4, \"market\": \"AUT\", \"enter_reason\": \"UPGRADED\", \"arrears\": 0.2826321467098166}, {\"payment_no\": 4, \"market\": \"DEU\", \"enter_reason\": \"RENEWED\", \"arrears\": 0.12627586206896552}, {\"payment_no\": 4, \"market\": \"DEU\", \"enter_reason\": \"SIGNUP\", \"arrears\": 0.4326819800636907}, {\"payment_no\": 4, \"market\": \"DEU\", \"enter_reason\": \"UPGRADED\", \"arrears\": 0.14392476278444874}, {\"payment_no\": 4, \"market\": \"ESP\", \"enter_reason\": \"RENEWED\", \"arrears\": 0.21647007426823942}, {\"payment_no\": 4, \"market\": \"ESP\", \"enter_reason\": \"SIGNUP\", \"arrears\": 0.5687285223367697}, {\"payment_no\": 4, \"market\": \"ESP\", \"enter_reason\": \"UPGRADED\", \"arrears\": 0.37139470564994076}, {\"payment_no\": 4, \"market\": \"FRA\", \"enter_reason\": \"RENEWED\", \"arrears\": 0.2330552913343577}, {\"payment_no\": 4, \"market\": \"FRA\", \"enter_reason\": \"SIGNUP\", \"arrears\": 0.46155698030967285}, {\"payment_no\": 4, \"market\": \"FRA\", \"enter_reason\": \"UPGRADED\", \"arrears\": 0.379878840328862}, {\"payment_no\": 4, \"market\": \"ITA\", \"enter_reason\": \"RENEWED\", \"arrears\": 0.24462186737635838}, {\"payment_no\": 4, \"market\": \"ITA\", \"enter_reason\": \"SIGNUP\", \"arrears\": 0.5155594152554639}, {\"payment_no\": 4, \"market\": \"ITA\", \"enter_reason\": \"UPGRADED\", \"arrears\": 0.3715027401211422}, {\"payment_no\": 4, \"market\": \"other\", \"enter_reason\": \"RENEWED\", \"arrears\": 0.24626676790685903}, {\"payment_no\": 4, \"market\": \"other\", \"enter_reason\": \"SIGNUP\", \"arrears\": 0.5412844036697247}, {\"payment_no\": 4, \"market\": \"other\", \"enter_reason\": \"UPGRADED\", \"arrears\": 0.4001885775862069}, {\"payment_no\": 5, \"market\": \"AUT\", \"enter_reason\": \"RENEWED\", \"arrears\": 0.17789949988092402}, {\"payment_no\": 5, \"market\": \"AUT\", \"enter_reason\": \"SIGNUP\", \"arrears\": 0.36730769230769234}, {\"payment_no\": 5, \"market\": \"AUT\", \"enter_reason\": \"UPGRADED\", \"arrears\": 0.2593023255813954}, {\"payment_no\": 5, \"market\": \"DEU\", \"enter_reason\": \"RENEWED\", \"arrears\": 0.11951464622027022}, {\"payment_no\": 5, \"market\": \"DEU\", \"enter_reason\": \"SIGNUP\", \"arrears\": 0.40005283550545967}, {\"payment_no\": 5, \"market\": \"DEU\", \"enter_reason\": \"UPGRADED\", \"arrears\": 0.1472826573551795}, {\"payment_no\": 5, \"market\": \"ESP\", \"enter_reason\": \"RENEWED\", \"arrears\": 0.20847376023110256}, {\"payment_no\": 5, \"market\": \"ESP\", \"enter_reason\": \"SIGNUP\", \"arrears\": 0.49631025278693675}, {\"payment_no\": 5, \"market\": \"ESP\", \"enter_reason\": \"UPGRADED\", \"arrears\": 0.32838589981447125}, {\"payment_no\": 5, \"market\": \"FRA\", \"enter_reason\": \"RENEWED\", \"arrears\": 0.22517597119982805}, {\"payment_no\": 5, \"market\": \"FRA\", \"enter_reason\": \"SIGNUP\", \"arrears\": 0.4158590175776547}, {\"payment_no\": 5, \"market\": \"FRA\", \"enter_reason\": \"UPGRADED\", \"arrears\": 0.359568812758417}, {\"payment_no\": 5, \"market\": \"ITA\", \"enter_reason\": \"RENEWED\", \"arrears\": 0.23902379200392446}, {\"payment_no\": 5, \"market\": \"ITA\", \"enter_reason\": \"SIGNUP\", \"arrears\": 0.4444948304008707}, {\"payment_no\": 5, \"market\": \"ITA\", \"enter_reason\": \"UPGRADED\", \"arrears\": 0.33088725817211473}, {\"payment_no\": 5, \"market\": \"other\", \"enter_reason\": \"RENEWED\", \"arrears\": 0.23328550932568148}, {\"payment_no\": 5, \"market\": \"other\", \"enter_reason\": \"SIGNUP\", \"arrears\": 0.48073610023492563}, {\"payment_no\": 5, \"market\": \"other\", \"enter_reason\": \"UPGRADED\", \"arrears\": 0.35475213135459427}, {\"payment_no\": 6, \"market\": \"AUT\", \"enter_reason\": \"RENEWED\", \"arrears\": 0.1675378985886043}, {\"payment_no\": 6, \"market\": \"AUT\", \"enter_reason\": \"SIGNUP\", \"arrears\": 0.3288861309339125}, {\"payment_no\": 6, \"market\": \"AUT\", \"enter_reason\": \"UPGRADED\", \"arrears\": 0.24685138539042822}, {\"payment_no\": 6, \"market\": \"DEU\", \"enter_reason\": \"RENEWED\", \"arrears\": 0.11649550706033376}, {\"payment_no\": 6, \"market\": \"DEU\", \"enter_reason\": \"SIGNUP\", \"arrears\": 0.37433642554560564}, {\"payment_no\": 6, \"market\": \"DEU\", \"enter_reason\": \"UPGRADED\", \"arrears\": 0.1466058185966914}, {\"payment_no\": 6, \"market\": \"ESP\", \"enter_reason\": \"RENEWED\", \"arrears\": 0.20096076861489193}, {\"payment_no\": 6, \"market\": \"ESP\", \"enter_reason\": \"SIGNUP\", \"arrears\": 0.3922217625155151}, {\"payment_no\": 6, \"market\": \"ESP\", \"enter_reason\": \"UPGRADED\", \"arrears\": 0.29698253043938594}, {\"payment_no\": 6, \"market\": \"FRA\", \"enter_reason\": \"RENEWED\", \"arrears\": 0.2174786242745544}, {\"payment_no\": 6, \"market\": \"FRA\", \"enter_reason\": \"SIGNUP\", \"arrears\": 0.3769619857120509}, {\"payment_no\": 6, \"market\": \"FRA\", \"enter_reason\": \"UPGRADED\", \"arrears\": 0.3484979937100098}, {\"payment_no\": 6, \"market\": \"ITA\", \"enter_reason\": \"RENEWED\", \"arrears\": 0.2352702153596099}, {\"payment_no\": 6, \"market\": \"ITA\", \"enter_reason\": \"SIGNUP\", \"arrears\": 0.37488799283154123}, {\"payment_no\": 6, \"market\": \"ITA\", \"enter_reason\": \"UPGRADED\", \"arrears\": 0.32761833768169957}, {\"payment_no\": 6, \"market\": \"other\", \"enter_reason\": \"RENEWED\", \"arrears\": 0.224109768049657}, {\"payment_no\": 6, \"market\": \"other\", \"enter_reason\": \"SIGNUP\", \"arrears\": 0.42928564561099897}, {\"payment_no\": 6, \"market\": \"other\", \"enter_reason\": \"UPGRADED\", \"arrears\": 0.33369079535299373}, {\"payment_no\": 7, \"market\": \"AUT\", \"enter_reason\": \"RENEWED\", \"arrears\": 0.17075281222959332}, {\"payment_no\": 7, \"market\": \"AUT\", \"enter_reason\": \"SIGNUP\", \"arrears\": 0.3174061433447099}, {\"payment_no\": 7, \"market\": \"AUT\", \"enter_reason\": \"UPGRADED\", \"arrears\": 0.23461798512508453}, {\"payment_no\": 7, \"market\": \"DEU\", \"enter_reason\": \"RENEWED\", \"arrears\": 0.11245209884156279}, {\"payment_no\": 7, \"market\": \"DEU\", \"enter_reason\": \"SIGNUP\", \"arrears\": 0.35115637598132826}, {\"payment_no\": 7, \"market\": \"DEU\", \"enter_reason\": \"UPGRADED\", \"arrears\": 0.14271141487299807}, {\"payment_no\": 7, \"market\": \"ESP\", \"enter_reason\": \"RENEWED\", \"arrears\": 0.19049043062200957}, {\"payment_no\": 7, \"market\": \"ESP\", \"enter_reason\": \"SIGNUP\", \"arrears\": 0.3470330739299611}, {\"payment_no\": 7, \"market\": \"ESP\", \"enter_reason\": \"UPGRADED\", \"arrears\": 0.26}, {\"payment_no\": 7, \"market\": \"FRA\", \"enter_reason\": \"RENEWED\", \"arrears\": 0.21606074551311552}, {\"payment_no\": 7, \"market\": \"FRA\", \"enter_reason\": \"SIGNUP\", \"arrears\": 0.3552756332114317}, {\"payment_no\": 7, \"market\": \"FRA\", \"enter_reason\": \"UPGRADED\", \"arrears\": 0.3428828828828829}, {\"payment_no\": 7, \"market\": \"ITA\", \"enter_reason\": \"RENEWED\", \"arrears\": 0.22881226053639847}, {\"payment_no\": 7, \"market\": \"ITA\", \"enter_reason\": \"SIGNUP\", \"arrears\": 0.3391249207355739}, {\"payment_no\": 7, \"market\": \"ITA\", \"enter_reason\": \"UPGRADED\", \"arrears\": 0.29677689409794894}, {\"payment_no\": 7, \"market\": \"other\", \"enter_reason\": \"RENEWED\", \"arrears\": 0.22096684571216893}, {\"payment_no\": 7, \"market\": \"other\", \"enter_reason\": \"SIGNUP\", \"arrears\": 0.3798536859876196}, {\"payment_no\": 7, \"market\": \"other\", \"enter_reason\": \"UPGRADED\", \"arrears\": 0.312474767864352}, {\"payment_no\": 8, \"market\": \"AUT\", \"enter_reason\": \"RENEWED\", \"arrears\": 0.16286540314808867}, {\"payment_no\": 8, \"market\": \"AUT\", \"enter_reason\": \"SIGNUP\", \"arrears\": 0.2946360153256705}, {\"payment_no\": 8, \"market\": \"AUT\", \"enter_reason\": \"UPGRADED\", \"arrears\": 0.2420091324200913}, {\"payment_no\": 8, \"market\": \"DEU\", \"enter_reason\": \"RENEWED\", \"arrears\": 0.111084208997143}, {\"payment_no\": 8, \"market\": \"DEU\", \"enter_reason\": \"SIGNUP\", \"arrears\": 0.3227681982790126}, {\"payment_no\": 8, \"market\": \"DEU\", \"enter_reason\": \"UPGRADED\", \"arrears\": 0.14858623408809282}, {\"payment_no\": 8, \"market\": \"ESP\", \"enter_reason\": \"RENEWED\", \"arrears\": 0.19447287615148415}, {\"payment_no\": 8, \"market\": \"ESP\", \"enter_reason\": \"SIGNUP\", \"arrears\": 0.2991967871485944}, {\"payment_no\": 8, \"market\": \"ESP\", \"enter_reason\": \"UPGRADED\", \"arrears\": 0.246922024623803}, {\"payment_no\": 8, \"market\": \"FRA\", \"enter_reason\": \"RENEWED\", \"arrears\": 0.2101736835305192}, {\"payment_no\": 8, \"market\": \"FRA\", \"enter_reason\": \"SIGNUP\", \"arrears\": 0.33230229242075243}, {\"payment_no\": 8, \"market\": \"FRA\", \"enter_reason\": \"UPGRADED\", \"arrears\": 0.33367174280879863}, {\"payment_no\": 8, \"market\": \"ITA\", \"enter_reason\": \"RENEWED\", \"arrears\": 0.21780436312456017}, {\"payment_no\": 8, \"market\": \"ITA\", \"enter_reason\": \"SIGNUP\", \"arrears\": 0.32034192987539845}, {\"payment_no\": 8, \"market\": \"ITA\", \"enter_reason\": \"UPGRADED\", \"arrears\": 0.30438842203548083}, {\"payment_no\": 8, \"market\": \"other\", \"enter_reason\": \"RENEWED\", \"arrears\": 0.21810787671232876}, {\"payment_no\": 8, \"market\": \"other\", \"enter_reason\": \"SIGNUP\", \"arrears\": 0.3558298319327731}, {\"payment_no\": 8, \"market\": \"other\", \"enter_reason\": \"UPGRADED\", \"arrears\": 0.2986499068901304}, {\"payment_no\": 9, \"market\": \"AUT\", \"enter_reason\": \"RENEWED\", \"arrears\": 0.1519734415344891}, {\"payment_no\": 9, \"market\": \"AUT\", \"enter_reason\": \"SIGNUP\", \"arrears\": 0.28335506301608}, {\"payment_no\": 9, \"market\": \"AUT\", \"enter_reason\": \"UPGRADED\", \"arrears\": 0.2262210796915167}, {\"payment_no\": 9, \"market\": \"DEU\", \"enter_reason\": \"RENEWED\", \"arrears\": 0.10981181333623409}, {\"payment_no\": 9, \"market\": \"DEU\", \"enter_reason\": \"SIGNUP\", \"arrears\": 0.313592962128527}, {\"payment_no\": 9, \"market\": \"DEU\", \"enter_reason\": \"UPGRADED\", \"arrears\": 0.1423694525224428}, {\"payment_no\": 9, \"market\": \"ESP\", \"enter_reason\": \"RENEWED\", \"arrears\": 0.1852589641434263}, {\"payment_no\": 9, \"market\": \"ESP\", \"enter_reason\": \"SIGNUP\", \"arrears\": 0.28665568369028005}, {\"payment_no\": 9, \"market\": \"ESP\", \"enter_reason\": \"UPGRADED\", \"arrears\": 0.24473889321901793}, {\"payment_no\": 9, \"market\": \"FRA\", \"enter_reason\": \"RENEWED\", \"arrears\": 0.2057932601287391}, {\"payment_no\": 9, \"market\": \"FRA\", \"enter_reason\": \"SIGNUP\", \"arrears\": 0.3289877300613497}, {\"payment_no\": 9, \"market\": \"FRA\", \"enter_reason\": \"UPGRADED\", \"arrears\": 0.32889542534251875}, {\"payment_no\": 9, \"market\": \"ITA\", \"enter_reason\": \"RENEWED\", \"arrears\": 0.22084110213383054}, {\"payment_no\": 9, \"market\": \"ITA\", \"enter_reason\": \"SIGNUP\", \"arrears\": 0.3168877385959237}, {\"payment_no\": 9, \"market\": \"ITA\", \"enter_reason\": \"UPGRADED\", \"arrears\": 0.28046833422032996}, {\"payment_no\": 9, \"market\": \"other\", \"enter_reason\": \"RENEWED\", \"arrears\": 0.2157686604053386}, {\"payment_no\": 9, \"market\": \"other\", \"enter_reason\": \"SIGNUP\", \"arrears\": 0.33967635600839075}, {\"payment_no\": 9, \"market\": \"other\", \"enter_reason\": \"UPGRADED\", \"arrears\": 0.3040273756251645}, {\"payment_no\": 10, \"market\": \"AUT\", \"enter_reason\": \"RENEWED\", \"arrears\": 0.15214446952595936}, {\"payment_no\": 10, \"market\": \"AUT\", \"enter_reason\": \"SIGNUP\", \"arrears\": 0.26633906633906634}, {\"payment_no\": 10, \"market\": \"AUT\", \"enter_reason\": \"UPGRADED\", \"arrears\": 0.22577519379844962}, {\"payment_no\": 10, \"market\": \"DEU\", \"enter_reason\": \"RENEWED\", \"arrears\": 0.1046655656482246}, {\"payment_no\": 10, \"market\": \"DEU\", \"enter_reason\": \"SIGNUP\", \"arrears\": 0.299614452084741}, {\"payment_no\": 10, \"market\": \"DEU\", \"enter_reason\": \"UPGRADED\", \"arrears\": 0.1337652987760979}, {\"payment_no\": 10, \"market\": \"ESP\", \"enter_reason\": \"RENEWED\", \"arrears\": 0.18344827586206897}, {\"payment_no\": 10, \"market\": \"ESP\", \"enter_reason\": \"SIGNUP\", \"arrears\": 0.2650283553875236}, {\"payment_no\": 10, \"market\": \"ESP\", \"enter_reason\": \"UPGRADED\", \"arrears\": 0.22583559168925021}, {\"payment_no\": 10, \"market\": \"FRA\", \"enter_reason\": \"RENEWED\", \"arrears\": 0.19795289184856332}, {\"payment_no\": 10, \"market\": \"FRA\", \"enter_reason\": \"SIGNUP\", \"arrears\": 0.3161135724038006}, {\"payment_no\": 10, \"market\": \"FRA\", \"enter_reason\": \"UPGRADED\", \"arrears\": 0.3183019200281839}, {\"payment_no\": 10, \"market\": \"ITA\", \"enter_reason\": \"RENEWED\", \"arrears\": 0.21846681361743817}, {\"payment_no\": 10, \"market\": \"ITA\", \"enter_reason\": \"SIGNUP\", \"arrears\": 0.30519833363521104}, {\"payment_no\": 10, \"market\": \"ITA\", \"enter_reason\": \"UPGRADED\", \"arrears\": 0.28272894898586354}, {\"payment_no\": 10, \"market\": \"other\", \"enter_reason\": \"RENEWED\", \"arrears\": 0.20177701347090857}, {\"payment_no\": 10, \"market\": \"other\", \"enter_reason\": \"SIGNUP\", \"arrears\": 0.32369841546230194}, {\"payment_no\": 10, \"market\": \"other\", \"enter_reason\": \"UPGRADED\", \"arrears\": 0.29058539529269767}, {\"payment_no\": 11, \"market\": \"AUT\", \"enter_reason\": \"RENEWED\", \"arrears\": 0.15358361774744028}, {\"payment_no\": 11, \"market\": \"AUT\", \"enter_reason\": \"SIGNUP\", \"arrears\": 0.2616310892172961}, {\"payment_no\": 11, \"market\": \"AUT\", \"enter_reason\": \"UPGRADED\", \"arrears\": 0.2330316742081448}, {\"payment_no\": 11, \"market\": \"DEU\", \"enter_reason\": \"RENEWED\", \"arrears\": 0.10549567061318255}, {\"payment_no\": 11, \"market\": \"DEU\", \"enter_reason\": \"SIGNUP\", \"arrears\": 0.2842886041807148}, {\"payment_no\": 11, \"market\": \"DEU\", \"enter_reason\": \"UPGRADED\", \"arrears\": 0.13886146758802237}, {\"payment_no\": 11, \"market\": \"ESP\", \"enter_reason\": \"RENEWED\", \"arrears\": 0.18176825919824272}, {\"payment_no\": 11, \"market\": \"ESP\", \"enter_reason\": \"SIGNUP\", \"arrears\": 0.28484054172127565}, {\"payment_no\": 11, \"market\": \"ESP\", \"enter_reason\": \"UPGRADED\", \"arrears\": 0.2163308589607635}, {\"payment_no\": 11, \"market\": \"FRA\", \"enter_reason\": \"RENEWED\", \"arrears\": 0.18964789327028625}, {\"payment_no\": 11, \"market\": \"FRA\", \"enter_reason\": \"SIGNUP\", \"arrears\": 0.31063949666635365}, {\"payment_no\": 11, \"market\": \"FRA\", \"enter_reason\": \"UPGRADED\", \"arrears\": 0.3116022099447514}, {\"payment_no\": 11, \"market\": \"ITA\", \"enter_reason\": \"RENEWED\", \"arrears\": 0.20464982778415614}, {\"payment_no\": 11, \"market\": \"ITA\", \"enter_reason\": \"SIGNUP\", \"arrears\": 0.29139896373056995}, {\"payment_no\": 11, \"market\": \"ITA\", \"enter_reason\": \"UPGRADED\", \"arrears\": 0.2763433356594557}, {\"payment_no\": 11, \"market\": \"other\", \"enter_reason\": \"RENEWED\", \"arrears\": 0.19430950728660654}, {\"payment_no\": 11, \"market\": \"other\", \"enter_reason\": \"SIGNUP\", \"arrears\": 0.31665316045380876}, {\"payment_no\": 11, \"market\": \"other\", \"enter_reason\": \"UPGRADED\", \"arrears\": 0.2759214605580434}, {\"payment_no\": 12, \"market\": \"AUT\", \"enter_reason\": \"RENEWED\", \"arrears\": 0.14915693904020752}, {\"payment_no\": 12, \"market\": \"AUT\", \"enter_reason\": \"SIGNUP\", \"arrears\": 0.26583850931677017}, {\"payment_no\": 12, \"market\": \"AUT\", \"enter_reason\": \"UPGRADED\", \"arrears\": 0.2270967741935484}, {\"payment_no\": 12, \"market\": \"DEU\", \"enter_reason\": \"RENEWED\", \"arrears\": 0.09936989980373928}, {\"payment_no\": 12, \"market\": \"DEU\", \"enter_reason\": \"SIGNUP\", \"arrears\": 0.27023362536503964}, {\"payment_no\": 12, \"market\": \"DEU\", \"enter_reason\": \"UPGRADED\", \"arrears\": 0.12878504672897195}, {\"payment_no\": 12, \"market\": \"ESP\", \"enter_reason\": \"RENEWED\", \"arrears\": 0.14835948644793154}, {\"payment_no\": 12, \"market\": \"ESP\", \"enter_reason\": \"SIGNUP\", \"arrears\": 0.26925038245792965}, {\"payment_no\": 12, \"market\": \"ESP\", \"enter_reason\": \"UPGRADED\", \"arrears\": 0.22749391727493917}, {\"payment_no\": 12, \"market\": \"FRA\", \"enter_reason\": \"RENEWED\", \"arrears\": 0.18681890634657297}, {\"payment_no\": 12, \"market\": \"FRA\", \"enter_reason\": \"SIGNUP\", \"arrears\": 0.29932707186296736}, {\"payment_no\": 12, \"market\": \"FRA\", \"enter_reason\": \"UPGRADED\", \"arrears\": 0.3060725919032108}, {\"payment_no\": 12, \"market\": \"ITA\", \"enter_reason\": \"RENEWED\", \"arrears\": 0.21150592216582065}, {\"payment_no\": 12, \"market\": \"ITA\", \"enter_reason\": \"SIGNUP\", \"arrears\": 0.27792457362478984}, {\"payment_no\": 12, \"market\": \"ITA\", \"enter_reason\": \"UPGRADED\", \"arrears\": 0.27580645161290324}, {\"payment_no\": 12, \"market\": \"other\", \"enter_reason\": \"RENEWED\", \"arrears\": 0.1889108910891089}, {\"payment_no\": 12, \"market\": \"other\", \"enter_reason\": \"SIGNUP\", \"arrears\": 0.30914368650217705}, {\"payment_no\": 12, \"market\": \"other\", \"enter_reason\": \"UPGRADED\", \"arrears\": 0.28204113924050633}]}}, {\"mode\": \"vega-lite\"});\n",
       "</script>"
      ]
     },
     "metadata": {
      "tags": []
     },
     "execution_count": 17
    }
   ],
   "metadata": {
    "colab": {
     "base_uri": "https://localhost:8080/",
     "height": 510
    },
    "colab_type": "code",
    "id": "1CqOdg086NrR",
    "outputId": "03d288c4-4586-456e-872b-7fdffccb6958"
   }
  },
  {
   "cell_type": "code",
   "execution_count": 39,
   "source": [
    "data = df\n",
    "\n",
    "# drop all discount_flg and overwrite_flg = True\n",
    "data = data.loc[(data[\"discount_flg\"] == False) & (data[\"override_flg\"] == False), :]\n",
    "\n",
    "# trim market\n",
    "data[\"market\"] = data[\"market\"].str.strip()\n",
    "\n",
    "# drop UK\n",
    "data = data.loc[data[\"market\"] != \"GBR\", :]\n",
    "\n",
    "data.loc[\n",
    "    data[\"market\"].isin([\"FRA\", \"DEU\", \"ITA\", \"ESP\", \"AUT\"]) == False, \"market\"\n",
    "] = \"other\"\n",
    "\n",
    "# keep only payments that were charged\n",
    "data = data.loc[data[\"arrears\"] == True, :]\n",
    "\n",
    "data[\"first_arrears\"] = data.groupby([\"product_key\"])[\"payment_no\"].transform(\"min\")\n",
    "data = data.loc[data[\"first_arrears\"] == data[\"payment_no\"], :]\n",
    "# restrict on relevant cohorts\n",
    "data = data.loc[\n",
    "    pd.to_datetime(data[\"subscription_valid_from\"]) < pd.to_datetime(\"2020-08-01\"), :\n",
    "]\n",
    "data = data.loc[\n",
    "    pd.to_datetime(data[\"subscription_valid_from\"]) >= pd.to_datetime(\"2019-01-01\"), :\n",
    "]\n",
    "\n",
    "# drop downgraders\n",
    "data = data.loc[data[\"enter_reason\"] != \"DOWNGRADED\", :]\n",
    "\n",
    "data = data.groupby([\"first_arrears\", \"enter_reason\"])[\"paid\"].agg(\"mean\").reset_index()\n",
    "\n",
    "alt.Chart(data).mark_line().encode(\n",
    "    x=alt.X(\"first_arrears:N\", axis=alt.Axis(title=\"First payment in arrears\")),\n",
    "    y=alt.Y(\"paid:Q\", axis=alt.Axis(format=\"%\", title=\"% recovered\")),\n",
    "    color=\"enter_reason:N\",\n",
    ").properties(width=500, height=500, title=\"% of recovered arrears cases\")"
   ],
   "outputs": [
    {
     "output_type": "stream",
     "name": "stderr",
     "text": [
      "/usr/local/lib/python3.6/dist-packages/ipykernel_launcher.py:7: SettingWithCopyWarning: \n",
      "A value is trying to be set on a copy of a slice from a DataFrame.\n",
      "Try using .loc[row_indexer,col_indexer] = value instead\n",
      "\n",
      "See the caveats in the documentation: https://pandas.pydata.org/pandas-docs/stable/user_guide/indexing.html#returning-a-view-versus-a-copy\n",
      "  import sys\n"
     ]
    },
    {
     "output_type": "execute_result",
     "data": {
      "text/plain": [
       "alt.Chart(...)"
      ],
      "text/html": [
       "\n",
       "<div id=\"altair-viz-9bfee48386c1459eac5dcda62e4c8c42\"></div>\n",
       "<script type=\"text/javascript\">\n",
       "  (function(spec, embedOpt){\n",
       "    let outputDiv = document.currentScript.previousElementSibling;\n",
       "    if (outputDiv.id !== \"altair-viz-9bfee48386c1459eac5dcda62e4c8c42\") {\n",
       "      outputDiv = document.getElementById(\"altair-viz-9bfee48386c1459eac5dcda62e4c8c42\");\n",
       "    }\n",
       "    const paths = {\n",
       "      \"vega\": \"https://cdn.jsdelivr.net/npm//vega@5?noext\",\n",
       "      \"vega-lib\": \"https://cdn.jsdelivr.net/npm//vega-lib?noext\",\n",
       "      \"vega-lite\": \"https://cdn.jsdelivr.net/npm//vega-lite@4.8.1?noext\",\n",
       "      \"vega-embed\": \"https://cdn.jsdelivr.net/npm//vega-embed@6?noext\",\n",
       "    };\n",
       "\n",
       "    function loadScript(lib) {\n",
       "      return new Promise(function(resolve, reject) {\n",
       "        var s = document.createElement('script');\n",
       "        s.src = paths[lib];\n",
       "        s.async = true;\n",
       "        s.onload = () => resolve(paths[lib]);\n",
       "        s.onerror = () => reject(`Error loading script: ${paths[lib]}`);\n",
       "        document.getElementsByTagName(\"head\")[0].appendChild(s);\n",
       "      });\n",
       "    }\n",
       "\n",
       "    function showError(err) {\n",
       "      outputDiv.innerHTML = `<div class=\"error\" style=\"color:red;\">${err}</div>`;\n",
       "      throw err;\n",
       "    }\n",
       "\n",
       "    function displayChart(vegaEmbed) {\n",
       "      vegaEmbed(outputDiv, spec, embedOpt)\n",
       "        .catch(err => showError(`Javascript Error: ${err.message}<br>This usually means there's a typo in your chart specification. See the javascript console for the full traceback.`));\n",
       "    }\n",
       "\n",
       "    if(typeof define === \"function\" && define.amd) {\n",
       "      requirejs.config({paths});\n",
       "      require([\"vega-embed\"], displayChart, err => showError(`Error loading script: ${err.message}`));\n",
       "    } else if (typeof vegaEmbed === \"function\") {\n",
       "      displayChart(vegaEmbed);\n",
       "    } else {\n",
       "      loadScript(\"vega\")\n",
       "        .then(() => loadScript(\"vega-lite\"))\n",
       "        .then(() => loadScript(\"vega-embed\"))\n",
       "        .catch(showError)\n",
       "        .then(() => displayChart(vegaEmbed));\n",
       "    }\n",
       "  })({\"config\": {\"view\": {\"continuousWidth\": 400, \"continuousHeight\": 300}}, \"data\": {\"name\": \"data-25badade9f7656c8fd2ed08f857a661f\"}, \"mark\": \"line\", \"encoding\": {\"color\": {\"type\": \"nominal\", \"field\": \"enter_reason\"}, \"x\": {\"type\": \"nominal\", \"axis\": {\"title\": \"First payment in arrears\"}, \"field\": \"first_arrears\"}, \"y\": {\"type\": \"quantitative\", \"axis\": {\"format\": \"%\", \"title\": \"% recovered\"}, \"field\": \"paid\"}}, \"height\": 500, \"title\": \"% of recovered arrears cases\", \"width\": 500, \"$schema\": \"https://vega.github.io/schema/vega-lite/v4.8.1.json\", \"datasets\": {\"data-25badade9f7656c8fd2ed08f857a661f\": [{\"first_arrears\": 1, \"enter_reason\": \"RENEWED\", \"paid\": 0.7320887991927346}, {\"first_arrears\": 1, \"enter_reason\": \"SIGNUP\", \"paid\": 0.5586508302240193}, {\"first_arrears\": 1, \"enter_reason\": \"UPGRADED\", \"paid\": 0.7719225161424703}, {\"first_arrears\": 2, \"enter_reason\": \"RENEWED\", \"paid\": 0.8846373500856654}, {\"first_arrears\": 2, \"enter_reason\": \"SIGNUP\", \"paid\": 0.7928456238088257}, {\"first_arrears\": 2, \"enter_reason\": \"UPGRADED\", \"paid\": 0.8477429227237949}, {\"first_arrears\": 3, \"enter_reason\": \"RENEWED\", \"paid\": 0.8804236419542193}, {\"first_arrears\": 3, \"enter_reason\": \"SIGNUP\", \"paid\": 0.7893825735718407}, {\"first_arrears\": 3, \"enter_reason\": \"UPGRADED\", \"paid\": 0.8737137511693172}, {\"first_arrears\": 4, \"enter_reason\": \"RENEWED\", \"paid\": 0.8833592534992224}, {\"first_arrears\": 4, \"enter_reason\": \"SIGNUP\", \"paid\": 0.8420092838196287}, {\"first_arrears\": 4, \"enter_reason\": \"UPGRADED\", \"paid\": 0.890748031496063}, {\"first_arrears\": 5, \"enter_reason\": \"RENEWED\", \"paid\": 0.8843944471038775}, {\"first_arrears\": 5, \"enter_reason\": \"SIGNUP\", \"paid\": 0.8591114278926111}, {\"first_arrears\": 5, \"enter_reason\": \"UPGRADED\", \"paid\": 0.8984149855907781}, {\"first_arrears\": 6, \"enter_reason\": \"RENEWED\", \"paid\": 0.8658727671576308}, {\"first_arrears\": 6, \"enter_reason\": \"SIGNUP\", \"paid\": 0.8302063789868668}, {\"first_arrears\": 6, \"enter_reason\": \"UPGRADED\", \"paid\": 0.8989455184534271}, {\"first_arrears\": 7, \"enter_reason\": \"RENEWED\", \"paid\": 0.8828218413710641}, {\"first_arrears\": 7, \"enter_reason\": \"SIGNUP\", \"paid\": 0.8599452554744526}, {\"first_arrears\": 7, \"enter_reason\": \"UPGRADED\", \"paid\": 0.8926014319809069}, {\"first_arrears\": 8, \"enter_reason\": \"RENEWED\", \"paid\": 0.8755736868944416}, {\"first_arrears\": 8, \"enter_reason\": \"SIGNUP\", \"paid\": 0.8654485049833887}, {\"first_arrears\": 8, \"enter_reason\": \"UPGRADED\", \"paid\": 0.8929577464788733}, {\"first_arrears\": 9, \"enter_reason\": \"RENEWED\", \"paid\": 0.8544087491455913}, {\"first_arrears\": 9, \"enter_reason\": \"SIGNUP\", \"paid\": 0.8789938817131203}, {\"first_arrears\": 9, \"enter_reason\": \"UPGRADED\", \"paid\": 0.9052044609665427}, {\"first_arrears\": 10, \"enter_reason\": \"RENEWED\", \"paid\": 0.8774597495527728}, {\"first_arrears\": 10, \"enter_reason\": \"SIGNUP\", \"paid\": 0.8865784499054821}, {\"first_arrears\": 10, \"enter_reason\": \"UPGRADED\", \"paid\": 0.8941176470588236}, {\"first_arrears\": 11, \"enter_reason\": \"RENEWED\", \"paid\": 0.8586326767091541}, {\"first_arrears\": 11, \"enter_reason\": \"SIGNUP\", \"paid\": 0.8513089005235602}, {\"first_arrears\": 11, \"enter_reason\": \"UPGRADED\", \"paid\": 0.9113924050632911}, {\"first_arrears\": 12, \"enter_reason\": \"RENEWED\", \"paid\": 0.8447121820615796}, {\"first_arrears\": 12, \"enter_reason\": \"SIGNUP\", \"paid\": 0.8493723849372385}, {\"first_arrears\": 12, \"enter_reason\": \"UPGRADED\", \"paid\": 0.9175627240143369}]}}, {\"mode\": \"vega-lite\"});\n",
       "</script>"
      ]
     },
     "metadata": {
      "tags": []
     },
     "execution_count": 39
    }
   ],
   "metadata": {
    "colab": {
     "base_uri": "https://localhost:8080/",
     "height": 689
    },
    "colab_type": "code",
    "id": "bUmTiIR9PaQF",
    "outputId": "a415981c-4d7e-49e4-b448-fee315545a10"
   }
  },
  {
   "cell_type": "code",
   "execution_count": 50,
   "source": [
    "# time to recover\n",
    "\n",
    "data = df\n",
    "\n",
    "# drop all discount_flg and overwrite_flg = True\n",
    "data = data.loc[(data[\"discount_flg\"] == False) & (data[\"override_flg\"] == False), :]\n",
    "\n",
    "# trim market\n",
    "data[\"market\"] = data[\"market\"].str.strip()\n",
    "\n",
    "# drop UK\n",
    "data = data.loc[data[\"market\"] != \"GBR\", :]\n",
    "\n",
    "data.loc[\n",
    "    data[\"market\"].isin([\"FRA\", \"DEU\", \"ITA\", \"ESP\", \"AUT\"]) == False, \"market\"\n",
    "] = \"other\"\n",
    "\n",
    "# keep only payments that were in arrears\n",
    "data = data.loc[data[\"arrears\"] == True, :]\n",
    "data.loc[data[\"days_delay\"].isna() == True, \"days_delay\"] = 100000\n",
    "\n",
    "data[\"weeks\"] = (data[\"days_delay\"] / 7).round()\n",
    "\n",
    "data = data.groupby([\"weeks\", \"paid\"])[\"product_key\"].agg(\"count\").reset_index()\n",
    "\n",
    "data[\"perc\"] = (\n",
    "    100 * data[\"product_key\"] / data.groupby([\"paid\"])[\"product_key\"].transform(\"sum\")\n",
    ")\n",
    "data[\"cum\"] = data.groupby([\"paid\"])[\"perc\"].cumsum()\n",
    "\n",
    "\n",
    "alt.Chart(data.loc[data[\"weeks\"] < 30, :]).mark_line().encode(\n",
    "    x=alt.X(\"weeks:N\", axis=alt.Axis(title=\"Delay in weeks\")),\n",
    "    y=alt.Y(\"cum:Q\", axis=alt.Axis(title=\"Percentile\")),\n",
    "    color=\"paid:N\",\n",
    ").properties(width=500, height=500, title=\"Arrear case length by recovery status\")"
   ],
   "outputs": [
    {
     "output_type": "stream",
     "name": "stderr",
     "text": [
      "/usr/local/lib/python3.6/dist-packages/ipykernel_launcher.py:9: SettingWithCopyWarning: \n",
      "A value is trying to be set on a copy of a slice from a DataFrame.\n",
      "Try using .loc[row_indexer,col_indexer] = value instead\n",
      "\n",
      "See the caveats in the documentation: https://pandas.pydata.org/pandas-docs/stable/user_guide/indexing.html#returning-a-view-versus-a-copy\n",
      "  if __name__ == '__main__':\n"
     ]
    },
    {
     "output_type": "execute_result",
     "data": {
      "text/plain": [
       "alt.Chart(...)"
      ],
      "text/html": [
       "\n",
       "<div id=\"altair-viz-1b6d6d92885f4b0fbaa48b7349c838d8\"></div>\n",
       "<script type=\"text/javascript\">\n",
       "  (function(spec, embedOpt){\n",
       "    let outputDiv = document.currentScript.previousElementSibling;\n",
       "    if (outputDiv.id !== \"altair-viz-1b6d6d92885f4b0fbaa48b7349c838d8\") {\n",
       "      outputDiv = document.getElementById(\"altair-viz-1b6d6d92885f4b0fbaa48b7349c838d8\");\n",
       "    }\n",
       "    const paths = {\n",
       "      \"vega\": \"https://cdn.jsdelivr.net/npm//vega@5?noext\",\n",
       "      \"vega-lib\": \"https://cdn.jsdelivr.net/npm//vega-lib?noext\",\n",
       "      \"vega-lite\": \"https://cdn.jsdelivr.net/npm//vega-lite@4.8.1?noext\",\n",
       "      \"vega-embed\": \"https://cdn.jsdelivr.net/npm//vega-embed@6?noext\",\n",
       "    };\n",
       "\n",
       "    function loadScript(lib) {\n",
       "      return new Promise(function(resolve, reject) {\n",
       "        var s = document.createElement('script');\n",
       "        s.src = paths[lib];\n",
       "        s.async = true;\n",
       "        s.onload = () => resolve(paths[lib]);\n",
       "        s.onerror = () => reject(`Error loading script: ${paths[lib]}`);\n",
       "        document.getElementsByTagName(\"head\")[0].appendChild(s);\n",
       "      });\n",
       "    }\n",
       "\n",
       "    function showError(err) {\n",
       "      outputDiv.innerHTML = `<div class=\"error\" style=\"color:red;\">${err}</div>`;\n",
       "      throw err;\n",
       "    }\n",
       "\n",
       "    function displayChart(vegaEmbed) {\n",
       "      vegaEmbed(outputDiv, spec, embedOpt)\n",
       "        .catch(err => showError(`Javascript Error: ${err.message}<br>This usually means there's a typo in your chart specification. See the javascript console for the full traceback.`));\n",
       "    }\n",
       "\n",
       "    if(typeof define === \"function\" && define.amd) {\n",
       "      requirejs.config({paths});\n",
       "      require([\"vega-embed\"], displayChart, err => showError(`Error loading script: ${err.message}`));\n",
       "    } else if (typeof vegaEmbed === \"function\") {\n",
       "      displayChart(vegaEmbed);\n",
       "    } else {\n",
       "      loadScript(\"vega\")\n",
       "        .then(() => loadScript(\"vega-lite\"))\n",
       "        .then(() => loadScript(\"vega-embed\"))\n",
       "        .catch(showError)\n",
       "        .then(() => displayChart(vegaEmbed));\n",
       "    }\n",
       "  })({\"config\": {\"view\": {\"continuousWidth\": 400, \"continuousHeight\": 300}}, \"data\": {\"name\": \"data-11ec530c9b95b75392c17c6c451c4251\"}, \"mark\": \"line\", \"encoding\": {\"color\": {\"type\": \"nominal\", \"field\": \"paid\"}, \"x\": {\"type\": \"nominal\", \"axis\": {\"title\": \"Delay in weeks\"}, \"field\": \"weeks\"}, \"y\": {\"type\": \"quantitative\", \"axis\": {\"title\": \"Percentile\"}, \"field\": \"cum\"}}, \"height\": 500, \"title\": \"Arrear case length by recovery status\", \"width\": 500, \"$schema\": \"https://vega.github.io/schema/vega-lite/v4.8.1.json\", \"datasets\": {\"data-11ec530c9b95b75392c17c6c451c4251\": [{\"weeks\": 0.0, \"paid\": false, \"product_key\": 5308, \"perc\": 1.1049447735779143, \"cum\": 1.1049447735779143}, {\"weeks\": 0.0, \"paid\": true, \"product_key\": 164344, \"perc\": 24.72297522948753, \"cum\": 24.72297522948753}, {\"weeks\": 1.0, \"paid\": false, \"product_key\": 6233, \"perc\": 1.2974982618144575, \"cum\": 2.4024430353923716}, {\"weeks\": 1.0, \"paid\": true, \"product_key\": 174926, \"perc\": 26.314871032671324, \"cum\": 51.03784626215885}, {\"weeks\": 2.0, \"paid\": false, \"product_key\": 7563, \"perc\": 1.5743589530086222, \"cum\": 3.976801988400994}, {\"weeks\": 2.0, \"paid\": true, \"product_key\": 102246, \"perc\": 15.38130582993101, \"cum\": 66.41915209208986}, {\"weeks\": 3.0, \"paid\": false, \"product_key\": 6088, \"perc\": 1.2673142014962968, \"cum\": 5.244116189897291}, {\"weeks\": 3.0, \"paid\": true, \"product_key\": 57126, \"perc\": 8.593710040888043, \"cum\": 75.0128621329779}, {\"weeks\": 4.0, \"paid\": false, \"product_key\": 6420, \"perc\": 1.3364252913282235, \"cum\": 6.580541481225515}, {\"weeks\": 4.0, \"paid\": true, \"product_key\": 37226, \"perc\": 5.600067394568118, \"cum\": 80.61292952754602}, {\"weeks\": 5.0, \"paid\": false, \"product_key\": 6649, \"perc\": 1.3840952900375947, \"cum\": 7.964636771263109}, {\"weeks\": 5.0, \"paid\": true, \"product_key\": 27987, \"perc\": 4.2102048614349625, \"cum\": 84.82313438898098}, {\"weeks\": 6.0, \"paid\": false, \"product_key\": 15747, \"perc\": 3.277988950552264, \"cum\": 11.242625721815372}, {\"weeks\": 6.0, \"paid\": true, \"product_key\": 19970, \"perc\": 3.0041730475883877, \"cum\": 87.82730743656936}, {\"weeks\": 7.0, \"paid\": false, \"product_key\": 10910, \"perc\": 2.2710903315250652, \"cum\": 13.513716053340438}, {\"weeks\": 7.0, \"paid\": true, \"product_key\": 16241, \"perc\": 2.4432035285870306, \"cum\": 90.27051096515639}, {\"weeks\": 8.0, \"paid\": false, \"product_key\": 20561, \"perc\": 4.280099753115203, \"cum\": 17.79381580645564}, {\"weeks\": 8.0, \"paid\": true, \"product_key\": 12225, \"perc\": 1.8390593643849795, \"cum\": 92.10957032954137}, {\"weeks\": 9.0, \"paid\": false, \"product_key\": 13200, \"perc\": 2.7477903186187773, \"cum\": 20.541606125074416}, {\"weeks\": 9.0, \"paid\": true, \"product_key\": 10529, \"perc\": 1.5839227850805275, \"cum\": 93.6934931146219}, {\"weeks\": 10.0, \"paid\": false, \"product_key\": 26654, \"perc\": 5.548454784277643, \"cum\": 26.09006090935206}, {\"weeks\": 10.0, \"paid\": true, \"product_key\": 8497, \"perc\": 1.2782402796874577, \"cum\": 94.97173339430935}, {\"weeks\": 11.0, \"paid\": false, \"product_key\": 22641, \"perc\": 4.71308489423089, \"cum\": 30.80314580358295}, {\"weeks\": 11.0, \"paid\": true, \"product_key\": 6897, \"perc\": 1.0375453935511822, \"cum\": 96.00927878786054}, {\"weeks\": 12.0, \"paid\": false, \"product_key\": 19277, \"perc\": 4.012814694849559, \"cum\": 34.81596049843251}, {\"weeks\": 12.0, \"paid\": true, \"product_key\": 5287, \"perc\": 0.7953461643765551, \"cum\": 96.80462495223709}, {\"weeks\": 13.0, \"paid\": false, \"product_key\": 14559, \"perc\": 3.0306878218765743, \"cum\": 37.846648320309086}, {\"weeks\": 13.0, \"paid\": true, \"product_key\": 4581, \"perc\": 0.6891395458689236, \"cum\": 97.49376449810602}, {\"weeks\": 14.0, \"paid\": false, \"product_key\": 22086, \"perc\": 4.5975528012889635, \"cum\": 42.44420112159805}, {\"weeks\": 14.0, \"paid\": true, \"product_key\": 3597, \"perc\": 0.5411121908951142, \"cum\": 98.03487668900114}, {\"weeks\": 15.0, \"paid\": false, \"product_key\": 22800, \"perc\": 4.746183277614252, \"cum\": 47.1903843992123}, {\"weeks\": 15.0, \"paid\": true, \"product_key\": 2845, \"perc\": 0.42798559441106476, \"cum\": 98.4628622834122}, {\"weeks\": 16.0, \"paid\": false, \"product_key\": 11516, \"perc\": 2.3972388870616546, \"cum\": 49.58762328627395}, {\"weeks\": 16.0, \"paid\": true, \"product_key\": 2158, \"perc\": 0.3246372276763015, \"cum\": 98.78749951108851}, {\"weeks\": 17.0, \"paid\": false, \"product_key\": 33961, \"perc\": 7.06952325837972, \"cum\": 56.65714654465367}, {\"weeks\": 17.0, \"paid\": true, \"product_key\": 1656, \"perc\": 0.24911920715104507, \"cum\": 99.03661871823955}, {\"weeks\": 18.0, \"paid\": false, \"product_key\": 11303, \"perc\": 2.3528995432839426, \"cum\": 59.01004608793761}, {\"weeks\": 18.0, \"paid\": true, \"product_key\": 1381, \"perc\": 0.20774977359637273, \"cum\": 99.24436849183593}, {\"weeks\": 19.0, \"paid\": false, \"product_key\": 18449, \"perc\": 3.840453302136199, \"cum\": 62.85049939007381}, {\"weeks\": 19.0, \"paid\": true, \"product_key\": 1153, \"perc\": 0.17345075232195348, \"cum\": 99.41781924415788}, {\"weeks\": 20.0, \"paid\": false, \"product_key\": 10422, \"perc\": 2.169505356109462, \"cum\": 65.02000474618328}, {\"weeks\": 20.0, \"paid\": true, \"product_key\": 807, \"perc\": 0.12140048319498392, \"cum\": 99.53921972735287}, {\"weeks\": 21.0, \"paid\": false, \"product_key\": 9755, \"perc\": 2.0306586786459224, \"cum\": 67.0506634248292}, {\"weeks\": 21.0, \"paid\": true, \"product_key\": 609, \"perc\": 0.09161449103561983, \"cum\": 99.63083421838849}, {\"weeks\": 22.0, \"paid\": false, \"product_key\": 7566, \"perc\": 1.5749834508083083, \"cum\": 68.6256468756375}, {\"weeks\": 22.0, \"paid\": true, \"product_key\": 494, \"perc\": 0.07431454609457504, \"cum\": 99.70514876448306}, {\"weeks\": 23.0, \"paid\": false, \"product_key\": 7519, \"perc\": 1.5651996519465596, \"cum\": 70.19084652758406}, {\"weeks\": 23.0, \"paid\": true, \"product_key\": 394, \"perc\": 0.05927111571105782, \"cum\": 99.76441988019411}, {\"weeks\": 24.0, \"paid\": false, \"product_key\": 5553, \"perc\": 1.1559454272189447, \"cum\": 71.346791954803}, {\"weeks\": 24.0, \"paid\": true, \"product_key\": 328, \"perc\": 0.049342451657936465, \"cum\": 99.81376233185205}, {\"weeks\": 25.0, \"paid\": false, \"product_key\": 5121, \"perc\": 1.0660177440641485, \"cum\": 72.41280969886715}, {\"weeks\": 25.0, \"paid\": true, \"product_key\": 248, \"perc\": 0.03730770735112269, \"cum\": 99.85107003920317}, {\"weeks\": 26.0, \"paid\": false, \"product_key\": 3676, \"perc\": 0.7652179705486838, \"cum\": 73.17802766941584}, {\"weeks\": 26.0, \"paid\": true, \"product_key\": 194, \"perc\": 0.029184254944023394, \"cum\": 99.88025429414719}, {\"weeks\": 27.0, \"paid\": false, \"product_key\": 2593, \"perc\": 0.5397742648620067, \"cum\": 73.71780193427784}, {\"weeks\": 27.0, \"paid\": true, \"product_key\": 154, \"perc\": 0.02316688279061651, \"cum\": 99.90342117693781}, {\"weeks\": 28.0, \"paid\": false, \"product_key\": 2797, \"perc\": 0.5822401152406607, \"cum\": 74.30004204951851}, {\"weeks\": 28.0, \"paid\": true, \"product_key\": 115, \"perc\": 0.017299944941044795, \"cum\": 99.92072112187886}, {\"weeks\": 29.0, \"paid\": false, \"product_key\": 1859, \"perc\": 0.38698046987214446, \"cum\": 74.68702251939065}, {\"weeks\": 29.0, \"paid\": true, \"product_key\": 79, \"perc\": 0.011884310002978599, \"cum\": 99.93260543188184}]}}, {\"mode\": \"vega-lite\"});\n",
       "</script>"
      ]
     },
     "metadata": {
      "tags": []
     },
     "execution_count": 50
    }
   ],
   "metadata": {
    "colab": {
     "base_uri": "https://localhost:8080/",
     "height": 689
    },
    "colab_type": "code",
    "id": "SSdTNp8oXKmW",
    "outputId": "eb4487fc-644d-44a6-f795-2cf893a1a344"
   }
  },
  {
   "cell_type": "code",
   "execution_count": 64,
   "source": [
    "# time to recover\n",
    "\n",
    "data = df\n",
    "\n",
    "# drop all discount_flg and overwrite_flg = True\n",
    "data = data.loc[(data[\"discount_flg\"] == False) & (data[\"override_flg\"] == False), :]\n",
    "\n",
    "# trim market\n",
    "data[\"market\"] = data[\"market\"].str.strip()\n",
    "\n",
    "# drop UK\n",
    "data = data.loc[data[\"market\"] != \"GBR\", :]\n",
    "\n",
    "data.loc[\n",
    "    data[\"market\"].isin([\"FRA\", \"DEU\", \"ITA\", \"ESP\", \"AUT\"]) == False, \"market\"\n",
    "] = \"other\"\n",
    "\n",
    "# keep only payments that were in arrears\n",
    "data = data.loc[data[\"arrears\"] == True, :]\n",
    "data = data.loc[data[\"paid\"] == True, :]\n",
    "\n",
    "data[\"weeks\"] = (data[\"days_delay\"] / 7).round()\n",
    "\n",
    "data = data.groupby([\"weeks\", \"enter_reason\"])[\"product_key\"].agg(\"count\").reset_index()\n",
    "\n",
    "data[\"perc\"] = (\n",
    "    100\n",
    "    * data[\"product_key\"]\n",
    "    / data.groupby([\"enter_reason\"])[\"product_key\"].transform(\"sum\")\n",
    ")\n",
    "data[\"cum\"] = data.groupby([\"enter_reason\"])[\"perc\"].cumsum()\n",
    "\n",
    "data = data.loc[data[\"enter_reason\"] != \"DOWNGRADED\", :]\n",
    "\n",
    "alt.Chart(data.loc[data[\"weeks\"] < 30, :]).mark_line().encode(\n",
    "    x=alt.X(\"weeks:N\", axis=alt.Axis(title=\"Delay in weeks\")),\n",
    "    y=alt.Y(\"cum:Q\", axis=alt.Axis(title=\"% of all recovered cases\")),\n",
    "    color=\"enter_reason:N\",\n",
    ").properties(width=500, height=500, title=\"Weeks in arrears for recovered cases\")"
   ],
   "outputs": [
    {
     "output_type": "stream",
     "name": "stderr",
     "text": [
      "/usr/local/lib/python3.6/dist-packages/ipykernel_launcher.py:9: SettingWithCopyWarning: \n",
      "A value is trying to be set on a copy of a slice from a DataFrame.\n",
      "Try using .loc[row_indexer,col_indexer] = value instead\n",
      "\n",
      "See the caveats in the documentation: https://pandas.pydata.org/pandas-docs/stable/user_guide/indexing.html#returning-a-view-versus-a-copy\n",
      "  if __name__ == '__main__':\n"
     ]
    },
    {
     "output_type": "execute_result",
     "data": {
      "text/plain": [
       "alt.Chart(...)"
      ],
      "text/html": [
       "\n",
       "<div id=\"altair-viz-45017bbe23ab45ffa5633d8ff7d2e16c\"></div>\n",
       "<script type=\"text/javascript\">\n",
       "  (function(spec, embedOpt){\n",
       "    let outputDiv = document.currentScript.previousElementSibling;\n",
       "    if (outputDiv.id !== \"altair-viz-45017bbe23ab45ffa5633d8ff7d2e16c\") {\n",
       "      outputDiv = document.getElementById(\"altair-viz-45017bbe23ab45ffa5633d8ff7d2e16c\");\n",
       "    }\n",
       "    const paths = {\n",
       "      \"vega\": \"https://cdn.jsdelivr.net/npm//vega@5?noext\",\n",
       "      \"vega-lib\": \"https://cdn.jsdelivr.net/npm//vega-lib?noext\",\n",
       "      \"vega-lite\": \"https://cdn.jsdelivr.net/npm//vega-lite@4.8.1?noext\",\n",
       "      \"vega-embed\": \"https://cdn.jsdelivr.net/npm//vega-embed@6?noext\",\n",
       "    };\n",
       "\n",
       "    function loadScript(lib) {\n",
       "      return new Promise(function(resolve, reject) {\n",
       "        var s = document.createElement('script');\n",
       "        s.src = paths[lib];\n",
       "        s.async = true;\n",
       "        s.onload = () => resolve(paths[lib]);\n",
       "        s.onerror = () => reject(`Error loading script: ${paths[lib]}`);\n",
       "        document.getElementsByTagName(\"head\")[0].appendChild(s);\n",
       "      });\n",
       "    }\n",
       "\n",
       "    function showError(err) {\n",
       "      outputDiv.innerHTML = `<div class=\"error\" style=\"color:red;\">${err}</div>`;\n",
       "      throw err;\n",
       "    }\n",
       "\n",
       "    function displayChart(vegaEmbed) {\n",
       "      vegaEmbed(outputDiv, spec, embedOpt)\n",
       "        .catch(err => showError(`Javascript Error: ${err.message}<br>This usually means there's a typo in your chart specification. See the javascript console for the full traceback.`));\n",
       "    }\n",
       "\n",
       "    if(typeof define === \"function\" && define.amd) {\n",
       "      requirejs.config({paths});\n",
       "      require([\"vega-embed\"], displayChart, err => showError(`Error loading script: ${err.message}`));\n",
       "    } else if (typeof vegaEmbed === \"function\") {\n",
       "      displayChart(vegaEmbed);\n",
       "    } else {\n",
       "      loadScript(\"vega\")\n",
       "        .then(() => loadScript(\"vega-lite\"))\n",
       "        .then(() => loadScript(\"vega-embed\"))\n",
       "        .catch(showError)\n",
       "        .then(() => displayChart(vegaEmbed));\n",
       "    }\n",
       "  })({\"config\": {\"view\": {\"continuousWidth\": 400, \"continuousHeight\": 300}}, \"data\": {\"name\": \"data-3c8e7210bcf5566657cc28cff2cfaae8\"}, \"mark\": \"line\", \"encoding\": {\"color\": {\"type\": \"nominal\", \"field\": \"enter_reason\"}, \"x\": {\"type\": \"nominal\", \"axis\": {\"title\": \"Delay in weeks\"}, \"field\": \"weeks\"}, \"y\": {\"type\": \"quantitative\", \"axis\": {\"title\": \"% of all recovered cases\"}, \"field\": \"cum\"}}, \"height\": 500, \"title\": \"Weeks in arrears for recovered cases\", \"width\": 500, \"$schema\": \"https://vega.github.io/schema/vega-lite/v4.8.1.json\", \"datasets\": {\"data-3c8e7210bcf5566657cc28cff2cfaae8\": [{\"weeks\": 0.0, \"enter_reason\": \"RENEWED\", \"product_key\": 49340, \"perc\": 24.975955454315365, \"cum\": 24.975955454315365}, {\"weeks\": 0.0, \"enter_reason\": \"SIGNUP\", \"product_key\": 80300, \"perc\": 22.09218189871711, \"cum\": 22.09218189871711}, {\"weeks\": 0.0, \"enter_reason\": \"UPGRADED\", \"product_key\": 34693, \"perc\": 33.46225814541175, \"cum\": 33.46225814541175}, {\"weeks\": 1.0, \"enter_reason\": \"RENEWED\", \"product_key\": 52042, \"perc\": 26.343710453049862, \"cum\": 51.31966590736523}, {\"weeks\": 1.0, \"enter_reason\": \"SIGNUP\", \"product_key\": 95214, \"perc\": 26.195330103417824, \"cum\": 48.28751200213493}, {\"weeks\": 1.0, \"enter_reason\": \"UPGRADED\", \"product_key\": 27658, \"perc\": 26.67682632766836, \"cum\": 60.13908447308011}, {\"weeks\": 2.0, \"enter_reason\": \"RENEWED\", \"product_key\": 30678, \"perc\": 15.5292331055429, \"cum\": 66.84889901290813}, {\"weeks\": 2.0, \"enter_reason\": \"SIGNUP\", \"product_key\": 57060, \"perc\": 15.698379814953903, \"cum\": 63.985891817088834}, {\"weeks\": 2.0, \"enter_reason\": \"UPGRADED\", \"product_key\": 14505, \"perc\": 13.990431914195876, \"cum\": 74.12951638727598}, {\"weeks\": 3.0, \"enter_reason\": \"RENEWED\", \"product_key\": 16489, \"perc\": 8.346747658820552, \"cum\": 75.19564667172868}, {\"weeks\": 3.0, \"enter_reason\": \"SIGNUP\", \"product_key\": 32958, \"perc\": 9.067423798479684, \"cum\": 73.05331561556852}, {\"weeks\": 3.0, \"enter_reason\": \"UPGRADED\", \"product_key\": 7678, \"perc\": 7.405621250409923, \"cum\": 81.5351376376859}, {\"weeks\": 4.0, \"enter_reason\": \"RENEWED\", \"product_key\": 10785, \"perc\": 5.459377372817008, \"cum\": 80.65502404454568}, {\"weeks\": 4.0, \"enter_reason\": \"SIGNUP\", \"product_key\": 21814, \"perc\": 6.001480148675157, \"cum\": 79.05479576424368}, {\"weeks\": 4.0, \"enter_reason\": \"UPGRADED\", \"product_key\": 4624, \"perc\": 4.459962576438588, \"cum\": 85.99510021412449}, {\"weeks\": 5.0, \"enter_reason\": \"RENEWED\", \"product_key\": 8548, \"perc\": 4.327005821311061, \"cum\": 84.98202986585675}, {\"weeks\": 5.0, \"enter_reason\": \"SIGNUP\", \"product_key\": 16189, \"perc\": 4.453926933478597, \"cum\": 83.50872269772228}, {\"weeks\": 5.0, \"enter_reason\": \"UPGRADED\", \"product_key\": 3247, \"perc\": 3.131811956249156, \"cum\": 89.12691217037364}, {\"weeks\": 6.0, \"enter_reason\": \"RENEWED\", \"product_key\": 5933, \"perc\": 3.0032903062515817, \"cum\": 87.98532017210833}, {\"weeks\": 6.0, \"enter_reason\": \"SIGNUP\", \"product_key\": 11770, \"perc\": 3.2381691276201794, \"cum\": 86.74689182534246}, {\"weeks\": 6.0, \"enter_reason\": \"UPGRADED\", \"product_key\": 2267, \"perc\": 2.186577673180424, \"cum\": 91.31348984355407}, {\"weeks\": 7.0, \"enter_reason\": \"RENEWED\", \"product_key\": 4759, \"perc\": 2.4090103771197167, \"cum\": 90.39433054922804}, {\"weeks\": 7.0, \"enter_reason\": \"SIGNUP\", \"product_key\": 9691, \"perc\": 2.666193459283531, \"cum\": 89.41308528462599}, {\"weeks\": 7.0, \"enter_reason\": \"UPGRADED\", \"product_key\": 1790, \"perc\": 1.7264993537683984, \"cum\": 93.03998919732247}, {\"weeks\": 8.0, \"enter_reason\": \"RENEWED\", \"product_key\": 3516, \"perc\": 1.779802581624905, \"cum\": 92.17413313085295}, {\"weeks\": 8.0, \"enter_reason\": \"SIGNUP\", \"product_key\": 7331, \"perc\": 2.0169089103299522, \"cum\": 91.42999419495594}, {\"weeks\": 8.0, \"enter_reason\": \"UPGRADED\", \"product_key\": 1378, \"perc\": 1.3291151449680743, \"cum\": 94.36910434229054}, {\"weeks\": 9.0, \"enter_reason\": \"RENEWED\", \"product_key\": 3057, \"perc\": 1.5474563401670463, \"cum\": 93.72158947102}, {\"weeks\": 9.0, \"enter_reason\": \"SIGNUP\", \"product_key\": 6306, \"perc\": 1.7349103244496902, \"cum\": 93.16490451940562}, {\"weeks\": 9.0, \"enter_reason\": \"UPGRADED\", \"product_key\": 1166, \"perc\": 1.1246358918960628, \"cum\": 95.4937402341866}, {\"weeks\": 10.0, \"enter_reason\": \"RENEWED\", \"product_key\": 2423, \"perc\": 1.2265249303973678, \"cum\": 94.94811440141737}, {\"weeks\": 10.0, \"enter_reason\": \"SIGNUP\", \"product_key\": 5122, \"perc\": 1.4091675676865387, \"cum\": 94.57407208709216}, {\"weeks\": 10.0, \"enter_reason\": \"UPGRADED\", \"product_key\": 952, \"perc\": 0.9182275892667683, \"cum\": 96.41196782345337}, {\"weeks\": 11.0, \"enter_reason\": \"RENEWED\", \"product_key\": 2025, \"perc\": 1.0250569476082005, \"cum\": 95.97317134902558}, {\"weeks\": 11.0, \"enter_reason\": \"SIGNUP\", \"product_key\": 4102, \"perc\": 1.128544584664229, \"cum\": 95.70261667175639}, {\"weeks\": 11.0, \"enter_reason\": \"UPGRADED\", \"product_key\": 770, \"perc\": 0.7426840795540037, \"cum\": 97.15465190300738}, {\"weeks\": 12.0, \"enter_reason\": \"RENEWED\", \"product_key\": 1573, \"perc\": 0.7962541128828144, \"cum\": 96.7694254619084}, {\"weeks\": 12.0, \"enter_reason\": \"SIGNUP\", \"product_key\": 3115, \"perc\": 0.8570005805044061, \"cum\": 96.5596172522608}, {\"weeks\": 12.0, \"enter_reason\": \"UPGRADED\", \"product_key\": 598, \"perc\": 0.5767858176276549, \"cum\": 97.73143772063503}, {\"weeks\": 13.0, \"enter_reason\": \"RENEWED\", \"product_key\": 1317, \"perc\": 0.6666666666666666, \"cum\": 97.43609212857507}, {\"weeks\": 13.0, \"enter_reason\": \"SIGNUP\", \"product_key\": 2777, \"perc\": 0.7640098273068172, \"cum\": 97.32362707956761}, {\"weeks\": 13.0, \"enter_reason\": \"UPGRADED\", \"product_key\": 487, \"perc\": 0.4697235671984413, \"cum\": 98.20116128783347}, {\"weeks\": 14.0, \"enter_reason\": \"RENEWED\", \"product_key\": 1025, \"perc\": 0.518855985826373, \"cum\": 97.95494811440145}, {\"weeks\": 14.0, \"enter_reason\": \"SIGNUP\", \"product_key\": 2165, \"perc\": 0.5956360374934315, \"cum\": 97.91926311706105}, {\"weeks\": 14.0, \"enter_reason\": \"UPGRADED\", \"product_key\": 407, \"perc\": 0.3925615849071163, \"cum\": 98.59372287274059}, {\"weeks\": 15.0, \"enter_reason\": \"RENEWED\", \"product_key\": 831, \"perc\": 0.42065299924069854, \"cum\": 98.37560111364215}, {\"weeks\": 15.0, \"enter_reason\": \"SIGNUP\", \"product_key\": 1697, \"perc\": 0.46687960998907774, \"cum\": 98.38614272705013}, {\"weeks\": 15.0, \"enter_reason\": \"UPGRADED\", \"product_key\": 317, \"perc\": 0.3057543548293756, \"cum\": 98.89947722756996}, {\"weeks\": 16.0, \"enter_reason\": \"RENEWED\", \"product_key\": 646, \"perc\": 0.3270058213110605, \"cum\": 98.70260693495321}, {\"weeks\": 16.0, \"enter_reason\": \"SIGNUP\", \"product_key\": 1265, \"perc\": 0.3480275230619819, \"cum\": 98.73417025011211}, {\"weeks\": 16.0, \"enter_reason\": \"UPGRADED\", \"product_key\": 246, \"perc\": 0.23727309554582457, \"cum\": 99.13675032311579}, {\"weeks\": 17.0, \"enter_reason\": \"RENEWED\", \"product_key\": 490, \"perc\": 0.24803847127309542, \"cum\": 98.9506454062263}, {\"weeks\": 17.0, \"enter_reason\": \"SIGNUP\", \"product_key\": 983, \"perc\": 0.27044352187346105, \"cum\": 99.00461377198557}, {\"weeks\": 17.0, \"enter_reason\": \"UPGRADED\", \"product_key\": 183, \"perc\": 0.1765080344914061, \"cum\": 99.3132583576072}, {\"weeks\": 18.0, \"enter_reason\": \"RENEWED\", \"product_key\": 465, \"perc\": 0.23538344722854973, \"cum\": 99.18602885345484}, {\"weeks\": 18.0, \"enter_reason\": \"SIGNUP\", \"product_key\": 755, \"perc\": 0.20771603155082716, \"cum\": 99.2123298035364}, {\"weeks\": 18.0, \"enter_reason\": \"UPGRADED\", \"product_key\": 161, \"perc\": 0.1552884893612917, \"cum\": 99.4685468469685}, {\"weeks\": 19.0, \"enter_reason\": \"RENEWED\", \"product_key\": 365, \"perc\": 0.184763351050367, \"cum\": 99.37079220450521}, {\"weeks\": 19.0, \"enter_reason\": \"SIGNUP\", \"product_key\": 652, \"perc\": 0.1793786126770057, \"cum\": 99.3917084162134}, {\"weeks\": 19.0, \"enter_reason\": \"UPGRADED\", \"product_key\": 136, \"perc\": 0.1311753698952526, \"cum\": 99.59972221686374}, {\"weeks\": 20.0, \"enter_reason\": \"RENEWED\", \"product_key\": 244, \"perc\": 0.12351303467476588, \"cum\": 99.49430523917998}, {\"weeks\": 20.0, \"enter_reason\": \"SIGNUP\", \"product_key\": 475, \"perc\": 0.13068227150548728, \"cum\": 99.5223906877189}, {\"weeks\": 20.0, \"enter_reason\": \"UPGRADED\", \"product_key\": 88, \"perc\": 0.08487818052045758, \"cum\": 99.6846003973842}, {\"weeks\": 21.0, \"enter_reason\": \"RENEWED\", \"product_key\": 184, \"perc\": 0.09314097696785624, \"cum\": 99.58744621614784}, {\"weeks\": 21.0, \"enter_reason\": \"SIGNUP\", \"product_key\": 357, \"perc\": 0.09821804405780833, \"cum\": 99.6206087317767}, {\"weeks\": 21.0, \"enter_reason\": \"UPGRADED\", \"product_key\": 68, \"perc\": 0.0655876849476263, \"cum\": 99.75018808233183}, {\"weeks\": 22.0, \"enter_reason\": \"RENEWED\", \"product_key\": 157, \"perc\": 0.0794735509997469, \"cum\": 99.66691976714759}, {\"weeks\": 22.0, \"enter_reason\": \"SIGNUP\", \"product_key\": 278, \"perc\": 0.07648351890215888, \"cum\": 99.69709225067886}, {\"weeks\": 22.0, \"enter_reason\": \"UPGRADED\", \"product_key\": 59, \"perc\": 0.05690696193985224, \"cum\": 99.80709504427169}, {\"weeks\": 23.0, \"enter_reason\": \"RENEWED\", \"product_key\": 139, \"perc\": 0.070361933687674, \"cum\": 99.73728170083527}, {\"weeks\": 23.0, \"enter_reason\": \"SIGNUP\", \"product_key\": 216, \"perc\": 0.0594260434635479, \"cum\": 99.75651829414241}, {\"weeks\": 23.0, \"enter_reason\": \"UPGRADED\", \"product_key\": 39, \"perc\": 0.03761646636702097, \"cum\": 99.84471151063872}, {\"weeks\": 24.0, \"enter_reason\": \"RENEWED\", \"product_key\": 112, \"perc\": 0.05669450771956467, \"cum\": 99.79397620855484}, {\"weeks\": 24.0, \"enter_reason\": \"SIGNUP\", \"product_key\": 185, \"perc\": 0.050897305744242415, \"cum\": 99.80741559988665}, {\"weeks\": 24.0, \"enter_reason\": \"UPGRADED\", \"product_key\": 31, \"perc\": 0.029900268137888462, \"cum\": 99.87461177877661}, {\"weeks\": 25.0, \"enter_reason\": \"RENEWED\", \"product_key\": 74, \"perc\": 0.03745887117185523, \"cum\": 99.83143507972669}, {\"weeks\": 25.0, \"enter_reason\": \"SIGNUP\", \"product_key\": 146, \"perc\": 0.04016760345221293, \"cum\": 99.84758320333887}, {\"weeks\": 25.0, \"enter_reason\": \"UPGRADED\", \"product_key\": 28, \"perc\": 0.02700669380196377, \"cum\": 99.90161847257858}, {\"weeks\": 26.0, \"enter_reason\": \"RENEWED\", \"product_key\": 56, \"perc\": 0.028347253859782335, \"cum\": 99.85978233358647}, {\"weeks\": 26.0, \"enter_reason\": \"SIGNUP\", \"product_key\": 117, \"perc\": 0.03218910687608845, \"cum\": 99.87977231021496}, {\"weeks\": 26.0, \"enter_reason\": \"UPGRADED\", \"product_key\": 21, \"perc\": 0.02025502035147283, \"cum\": 99.92187349293005}, {\"weeks\": 27.0, \"enter_reason\": \"RENEWED\", \"product_key\": 50, \"perc\": 0.025310048089091368, \"cum\": 99.88509238167556}, {\"weeks\": 27.0, \"enter_reason\": \"SIGNUP\", \"product_key\": 86, \"perc\": 0.02366036915678296, \"cum\": 99.90343267937175}, {\"weeks\": 27.0, \"enter_reason\": \"UPGRADED\", \"product_key\": 18, \"perc\": 0.01736144601554814, \"cum\": 99.93923493894559}, {\"weeks\": 28.0, \"enter_reason\": \"RENEWED\", \"product_key\": 48, \"perc\": 0.024297646165527716, \"cum\": 99.90939002784108}, {\"weeks\": 28.0, \"enter_reason\": \"SIGNUP\", \"product_key\": 57, \"perc\": 0.015681872580658472, \"cum\": 99.9191145519524}, {\"weeks\": 28.0, \"enter_reason\": \"UPGRADED\", \"product_key\": 10, \"perc\": 0.009645247786415633, \"cum\": 99.948880186732}, {\"weeks\": 29.0, \"enter_reason\": \"RENEWED\", \"product_key\": 21, \"perc\": 0.010630220197418374, \"cum\": 99.9200202480385}, {\"weeks\": 29.0, \"enter_reason\": \"SIGNUP\", \"product_key\": 47, \"perc\": 0.012930666864753478, \"cum\": 99.93204521881715}, {\"weeks\": 29.0, \"enter_reason\": \"UPGRADED\", \"product_key\": 11, \"perc\": 0.010609772565057197, \"cum\": 99.95948995929706}]}}, {\"mode\": \"vega-lite\"});\n",
       "</script>"
      ]
     },
     "metadata": {
      "tags": []
     },
     "execution_count": 64
    }
   ],
   "metadata": {
    "colab": {
     "base_uri": "https://localhost:8080/",
     "height": 689
    },
    "colab_type": "code",
    "id": "GAaoCUxOT7NR",
    "outputId": "1aee9372-b1fa-46c9-e8f9-f9ac346595e2"
   }
  },
  {
   "cell_type": "code",
   "execution_count": null,
   "source": [],
   "outputs": [],
   "metadata": {
    "colab": {},
    "colab_type": "code",
    "id": "7NYLXKQHYs1t"
   }
  },
  {
   "cell_type": "markdown",
   "source": [
    "## MRR "
   ],
   "metadata": {
    "colab_type": "text",
    "id": "CWazQp5J9_7n"
   }
  },
  {
   "cell_type": "code",
   "execution_count": 34,
   "source": [
    "data = df\n",
    "\n",
    "# drop all discount_flg and overwrite_flg = True\n",
    "data = data.loc[(data[\"discount_flg\"] == False) & (data[\"override_flg\"] == False), :]\n",
    "\n",
    "# trim market\n",
    "data[\"market\"] = data[\"market\"].str.strip()\n",
    "\n",
    "# drop UK\n",
    "data = data.loc[data[\"market\"] != \"GBR\", :]\n",
    "\n",
    "data.loc[\n",
    "    data[\"market\"].isin([\"FRA\", \"DEU\", \"ITA\", \"ESP\", \"AUT\"]) == False, \"market\"\n",
    "] = \"other\"\n",
    "\n",
    "# restrict on relevant cohorts that completed 12 months already\n",
    "data = data.loc[\n",
    "    pd.to_datetime(data[\"subscription_valid_from\"]) < pd.to_datetime(\"2019-08-01\"), :\n",
    "]\n",
    "\n",
    "# replace amount cents to 0 if user did not pay\n",
    "data.loc[(data[\"paid\"] == False), \"amount_cents\"] = 0\n",
    "\n",
    "# aggregate on subscription period level\n",
    "data = (\n",
    "    data.groupby([\"market\", \"product_id\", \"product_key\", \"enter_reason\"])[\n",
    "        \"amount_cents\"\n",
    "    ]\n",
    "    .agg(\"sum\")\n",
    "    .reset_index()\n",
    ")\n",
    "\n",
    "data[\"amount_euro\"] = data[\"amount_cents\"] / 100\n",
    "\n",
    "data = data.groupby([\"market\", \"product_id\"])[\"amount_euro\"].agg(\"mean\").reset_index()\n",
    "\n",
    "data[\"amount_euro\"] = (data[\"amount_euro\"] / 12).round()\n",
    "\n",
    "data = data.loc[data[\"product_id\"] != \"FLEX_ACCOUNT_MONTHLY\", :]\n",
    "# Configure common options\n",
    "base = (\n",
    "    alt.Chart(data)\n",
    "    .encode(\n",
    "        alt.X(\"market:O\", scale=alt.Scale(paddingInner=0)),\n",
    "        alt.Y(\"product_id:O\", scale=alt.Scale(paddingInner=0)),\n",
    "    )\n",
    "    .properties(width=300, height=300)\n",
    ")\n",
    "\n",
    "# Configure heatmap\n",
    "heatmap = base.mark_rect().encode(\n",
    "    color=alt.Color(\n",
    "        \"amount_euro:Q\",\n",
    "        scale=alt.Scale(scheme=\"viridis\"),\n",
    "        legend=alt.Legend(direction=\"horizontal\"),\n",
    "    )\n",
    ")\n",
    "\n",
    "# Configure text\n",
    "text = base.mark_text(baseline=\"middle\").encode(text=\"amount_euro:Q\")\n",
    "\n",
    "# Draw the chart\n",
    "heatmap + text"
   ],
   "outputs": [
    {
     "output_type": "stream",
     "name": "stderr",
     "text": [
      "/usr/local/lib/python3.6/dist-packages/ipykernel_launcher.py:7: SettingWithCopyWarning: \n",
      "A value is trying to be set on a copy of a slice from a DataFrame.\n",
      "Try using .loc[row_indexer,col_indexer] = value instead\n",
      "\n",
      "See the caveats in the documentation: https://pandas.pydata.org/pandas-docs/stable/user_guide/indexing.html#returning-a-view-versus-a-copy\n",
      "  import sys\n"
     ]
    },
    {
     "output_type": "execute_result",
     "data": {
      "text/plain": [
       "alt.LayerChart(...)"
      ],
      "text/html": [
       "\n",
       "<div id=\"altair-viz-0f19b26acf8f44ba99b20a72411f3a1f\"></div>\n",
       "<script type=\"text/javascript\">\n",
       "  (function(spec, embedOpt){\n",
       "    let outputDiv = document.currentScript.previousElementSibling;\n",
       "    if (outputDiv.id !== \"altair-viz-0f19b26acf8f44ba99b20a72411f3a1f\") {\n",
       "      outputDiv = document.getElementById(\"altair-viz-0f19b26acf8f44ba99b20a72411f3a1f\");\n",
       "    }\n",
       "    const paths = {\n",
       "      \"vega\": \"https://cdn.jsdelivr.net/npm//vega@5?noext\",\n",
       "      \"vega-lib\": \"https://cdn.jsdelivr.net/npm//vega-lib?noext\",\n",
       "      \"vega-lite\": \"https://cdn.jsdelivr.net/npm//vega-lite@4.8.1?noext\",\n",
       "      \"vega-embed\": \"https://cdn.jsdelivr.net/npm//vega-embed@6?noext\",\n",
       "    };\n",
       "\n",
       "    function loadScript(lib) {\n",
       "      return new Promise(function(resolve, reject) {\n",
       "        var s = document.createElement('script');\n",
       "        s.src = paths[lib];\n",
       "        s.async = true;\n",
       "        s.onload = () => resolve(paths[lib]);\n",
       "        s.onerror = () => reject(`Error loading script: ${paths[lib]}`);\n",
       "        document.getElementsByTagName(\"head\")[0].appendChild(s);\n",
       "      });\n",
       "    }\n",
       "\n",
       "    function showError(err) {\n",
       "      outputDiv.innerHTML = `<div class=\"error\" style=\"color:red;\">${err}</div>`;\n",
       "      throw err;\n",
       "    }\n",
       "\n",
       "    function displayChart(vegaEmbed) {\n",
       "      vegaEmbed(outputDiv, spec, embedOpt)\n",
       "        .catch(err => showError(`Javascript Error: ${err.message}<br>This usually means there's a typo in your chart specification. See the javascript console for the full traceback.`));\n",
       "    }\n",
       "\n",
       "    if(typeof define === \"function\" && define.amd) {\n",
       "      requirejs.config({paths});\n",
       "      require([\"vega-embed\"], displayChart, err => showError(`Error loading script: ${err.message}`));\n",
       "    } else if (typeof vegaEmbed === \"function\") {\n",
       "      displayChart(vegaEmbed);\n",
       "    } else {\n",
       "      loadScript(\"vega\")\n",
       "        .then(() => loadScript(\"vega-lite\"))\n",
       "        .then(() => loadScript(\"vega-embed\"))\n",
       "        .catch(showError)\n",
       "        .then(() => displayChart(vegaEmbed));\n",
       "    }\n",
       "  })({\"config\": {\"view\": {\"continuousWidth\": 400, \"continuousHeight\": 300}}, \"layer\": [{\"mark\": \"rect\", \"encoding\": {\"color\": {\"type\": \"quantitative\", \"field\": \"amount_euro\", \"legend\": {\"direction\": \"horizontal\"}, \"scale\": {\"scheme\": \"viridis\"}}, \"x\": {\"type\": \"ordinal\", \"field\": \"market\", \"scale\": {\"paddingInner\": 0}}, \"y\": {\"type\": \"ordinal\", \"field\": \"product_id\", \"scale\": {\"paddingInner\": 0}}}, \"height\": 300, \"width\": 300}, {\"mark\": {\"type\": \"text\", \"baseline\": \"middle\"}, \"encoding\": {\"text\": {\"type\": \"quantitative\", \"field\": \"amount_euro\"}, \"x\": {\"type\": \"ordinal\", \"field\": \"market\", \"scale\": {\"paddingInner\": 0}}, \"y\": {\"type\": \"ordinal\", \"field\": \"product_id\", \"scale\": {\"paddingInner\": 0}}}, \"height\": 300, \"width\": 300}], \"data\": {\"name\": \"data-3fdaf81cdcbe1c7500cf107b8fac92f8\"}, \"$schema\": \"https://vega.github.io/schema/vega-lite/v4.8.1.json\", \"datasets\": {\"data-3fdaf81cdcbe1c7500cf107b8fac92f8\": [{\"market\": \"AUT\", \"product_id\": \"BLACK_CARD_MONTHLY\", \"amount_euro\": 6.0}, {\"market\": \"AUT\", \"product_id\": \"BUSINESS_BLACK\", \"amount_euro\": 6.0}, {\"market\": \"AUT\", \"product_id\": \"METAL_CARD_MONTHLY\", \"amount_euro\": 11.0}, {\"market\": \"DEU\", \"product_id\": \"BLACK_CARD_MONTHLY\", \"amount_euro\": 6.0}, {\"market\": \"DEU\", \"product_id\": \"BUSINESS_BLACK\", \"amount_euro\": 7.0}, {\"market\": \"DEU\", \"product_id\": \"METAL_CARD_MONTHLY\", \"amount_euro\": 12.0}, {\"market\": \"ESP\", \"product_id\": \"BLACK_CARD_MONTHLY\", \"amount_euro\": 5.0}, {\"market\": \"ESP\", \"product_id\": \"BUSINESS_BLACK\", \"amount_euro\": 3.0}, {\"market\": \"ESP\", \"product_id\": \"METAL_CARD_MONTHLY\", \"amount_euro\": 6.0}, {\"market\": \"FRA\", \"product_id\": \"BLACK_CARD_MONTHLY\", \"amount_euro\": 6.0}, {\"market\": \"FRA\", \"product_id\": \"BUSINESS_BLACK\", \"amount_euro\": 5.0}, {\"market\": \"FRA\", \"product_id\": \"METAL_CARD_MONTHLY\", \"amount_euro\": 10.0}, {\"market\": \"ITA\", \"product_id\": \"BLACK_CARD_MONTHLY\", \"amount_euro\": 5.0}, {\"market\": \"ITA\", \"product_id\": \"BUSINESS_BLACK\", \"amount_euro\": 4.0}, {\"market\": \"ITA\", \"product_id\": \"METAL_CARD_MONTHLY\", \"amount_euro\": 8.0}, {\"market\": \"other\", \"product_id\": \"BLACK_CARD_MONTHLY\", \"amount_euro\": 5.0}, {\"market\": \"other\", \"product_id\": \"BUSINESS_BLACK\", \"amount_euro\": 4.0}, {\"market\": \"other\", \"product_id\": \"METAL_CARD_MONTHLY\", \"amount_euro\": 10.0}]}}, {\"mode\": \"vega-lite\"});\n",
       "</script>"
      ]
     },
     "metadata": {
      "tags": []
     },
     "execution_count": 34
    }
   ],
   "metadata": {
    "colab": {
     "base_uri": "https://localhost:8080/",
     "height": 478
    },
    "colab_type": "code",
    "id": "-RuKjohlXKo5",
    "outputId": "43d4c1cd-829f-4392-c034-0c27288af700"
   }
  },
  {
   "cell_type": "code",
   "execution_count": 33,
   "source": [
    "data = df\n",
    "\n",
    "# drop all discount_flg and overwrite_flg = True\n",
    "data = data.loc[(data[\"discount_flg\"] == False) & (data[\"override_flg\"] == False), :]\n",
    "\n",
    "# trim market\n",
    "data[\"market\"] = data[\"market\"].str.strip()\n",
    "\n",
    "# drop UK\n",
    "data = data.loc[data[\"market\"] != \"GBR\", :]\n",
    "\n",
    "data.loc[\n",
    "    data[\"market\"].isin([\"FRA\", \"DEU\", \"ITA\", \"ESP\", \"AUT\"]) == False, \"market\"\n",
    "] = \"other\"\n",
    "\n",
    "# restrict on relevant cohorts that completed 12 months already\n",
    "data = data.loc[\n",
    "    pd.to_datetime(data[\"subscription_valid_from\"]) < pd.to_datetime(\"2019-08-01\"), :\n",
    "]\n",
    "\n",
    "# replace amount cents to 0 if user did not pay\n",
    "data.loc[(data[\"paid\"] == False), \"amount_cents\"] = 0\n",
    "\n",
    "# aggregate on subscription period level\n",
    "data = (\n",
    "    data.groupby([\"market\", \"product_id\", \"product_key\", \"enter_reason\"])[\n",
    "        \"amount_cents\"\n",
    "    ]\n",
    "    .agg(\"sum\")\n",
    "    .reset_index()\n",
    ")\n",
    "\n",
    "data[\"amount_euro\"] = data[\"amount_cents\"] / 100\n",
    "\n",
    "data = (\n",
    "    data.groupby([\"market\", \"product_id\", \"enter_reason\"])[\"amount_euro\"]\n",
    "    .agg(\"mean\")\n",
    "    .reset_index()\n",
    ")\n",
    "\n",
    "data[\"amount_euro\"] = (data[\"amount_euro\"] / 12).round()\n",
    "\n",
    "data = data.loc[data[\"product_id\"] != \"FLEX_ACCOUNT_MONTHLY\", :]\n",
    "\n",
    "\n",
    "def plot_heat(data, flow):\n",
    "    data = data.loc[data[\"enter_reason\"] == flow, :]\n",
    "    # Configure common options\n",
    "    base = (\n",
    "        alt.Chart(data)\n",
    "        .encode(\n",
    "            alt.X(\"market:O\", scale=alt.Scale(paddingInner=0)),\n",
    "            alt.Y(\"product_id:O\", scale=alt.Scale(paddingInner=0)),\n",
    "        )\n",
    "        .properties(width=200, height=200, title=flow)\n",
    "    )\n",
    "\n",
    "    # Configure heatmap\n",
    "    heatmap = base.mark_rect().encode(\n",
    "        color=alt.Color(\n",
    "            \"amount_euro:Q\",\n",
    "            scale=alt.Scale(scheme=\"viridis\"),\n",
    "            legend=alt.Legend(direction=\"horizontal\"),\n",
    "        )\n",
    "    )\n",
    "\n",
    "    # Configure text\n",
    "    text = base.mark_text(baseline=\"middle\").encode(text=\"amount_euro:Q\")\n",
    "\n",
    "    # Draw the chart\n",
    "    flow = heatmap + text\n",
    "    return flow\n",
    "\n",
    "\n",
    "signup = plot_heat(data, \"SIGNUP\")\n",
    "upgrade = plot_heat(data, \"UPGRADED\")\n",
    "renewal = plot_heat(data, \"RENEWED\")\n",
    "\n",
    "chart = signup | upgrade | renewal\n",
    "chart"
   ],
   "outputs": [
    {
     "output_type": "stream",
     "name": "stderr",
     "text": [
      "/usr/local/lib/python3.6/dist-packages/ipykernel_launcher.py:7: SettingWithCopyWarning: \n",
      "A value is trying to be set on a copy of a slice from a DataFrame.\n",
      "Try using .loc[row_indexer,col_indexer] = value instead\n",
      "\n",
      "See the caveats in the documentation: https://pandas.pydata.org/pandas-docs/stable/user_guide/indexing.html#returning-a-view-versus-a-copy\n",
      "  import sys\n"
     ]
    },
    {
     "output_type": "execute_result",
     "data": {
      "text/plain": [
       "alt.HConcatChart(...)"
      ],
      "text/html": [
       "\n",
       "<div id=\"altair-viz-bd3d921518164f3183aec1a32d1fa302\"></div>\n",
       "<script type=\"text/javascript\">\n",
       "  (function(spec, embedOpt){\n",
       "    let outputDiv = document.currentScript.previousElementSibling;\n",
       "    if (outputDiv.id !== \"altair-viz-bd3d921518164f3183aec1a32d1fa302\") {\n",
       "      outputDiv = document.getElementById(\"altair-viz-bd3d921518164f3183aec1a32d1fa302\");\n",
       "    }\n",
       "    const paths = {\n",
       "      \"vega\": \"https://cdn.jsdelivr.net/npm//vega@5?noext\",\n",
       "      \"vega-lib\": \"https://cdn.jsdelivr.net/npm//vega-lib?noext\",\n",
       "      \"vega-lite\": \"https://cdn.jsdelivr.net/npm//vega-lite@4.8.1?noext\",\n",
       "      \"vega-embed\": \"https://cdn.jsdelivr.net/npm//vega-embed@6?noext\",\n",
       "    };\n",
       "\n",
       "    function loadScript(lib) {\n",
       "      return new Promise(function(resolve, reject) {\n",
       "        var s = document.createElement('script');\n",
       "        s.src = paths[lib];\n",
       "        s.async = true;\n",
       "        s.onload = () => resolve(paths[lib]);\n",
       "        s.onerror = () => reject(`Error loading script: ${paths[lib]}`);\n",
       "        document.getElementsByTagName(\"head\")[0].appendChild(s);\n",
       "      });\n",
       "    }\n",
       "\n",
       "    function showError(err) {\n",
       "      outputDiv.innerHTML = `<div class=\"error\" style=\"color:red;\">${err}</div>`;\n",
       "      throw err;\n",
       "    }\n",
       "\n",
       "    function displayChart(vegaEmbed) {\n",
       "      vegaEmbed(outputDiv, spec, embedOpt)\n",
       "        .catch(err => showError(`Javascript Error: ${err.message}<br>This usually means there's a typo in your chart specification. See the javascript console for the full traceback.`));\n",
       "    }\n",
       "\n",
       "    if(typeof define === \"function\" && define.amd) {\n",
       "      requirejs.config({paths});\n",
       "      require([\"vega-embed\"], displayChart, err => showError(`Error loading script: ${err.message}`));\n",
       "    } else if (typeof vegaEmbed === \"function\") {\n",
       "      displayChart(vegaEmbed);\n",
       "    } else {\n",
       "      loadScript(\"vega\")\n",
       "        .then(() => loadScript(\"vega-lite\"))\n",
       "        .then(() => loadScript(\"vega-embed\"))\n",
       "        .catch(showError)\n",
       "        .then(() => displayChart(vegaEmbed));\n",
       "    }\n",
       "  })({\"config\": {\"view\": {\"continuousWidth\": 400, \"continuousHeight\": 300}}, \"hconcat\": [{\"layer\": [{\"mark\": \"rect\", \"encoding\": {\"color\": {\"type\": \"quantitative\", \"field\": \"amount_euro\", \"legend\": {\"direction\": \"horizontal\"}, \"scale\": {\"scheme\": \"viridis\"}}, \"x\": {\"type\": \"ordinal\", \"field\": \"market\", \"scale\": {\"paddingInner\": 0}}, \"y\": {\"type\": \"ordinal\", \"field\": \"product_id\", \"scale\": {\"paddingInner\": 0}}}, \"height\": 200, \"title\": \"SIGNUP\", \"width\": 200}, {\"mark\": {\"type\": \"text\", \"baseline\": \"middle\"}, \"encoding\": {\"text\": {\"type\": \"quantitative\", \"field\": \"amount_euro\"}, \"x\": {\"type\": \"ordinal\", \"field\": \"market\", \"scale\": {\"paddingInner\": 0}}, \"y\": {\"type\": \"ordinal\", \"field\": \"product_id\", \"scale\": {\"paddingInner\": 0}}}, \"height\": 200, \"title\": \"SIGNUP\", \"width\": 200}], \"data\": {\"name\": \"data-3642af311a25a700156982bab0e24aa7\"}}, {\"layer\": [{\"mark\": \"rect\", \"encoding\": {\"color\": {\"type\": \"quantitative\", \"field\": \"amount_euro\", \"legend\": {\"direction\": \"horizontal\"}, \"scale\": {\"scheme\": \"viridis\"}}, \"x\": {\"type\": \"ordinal\", \"field\": \"market\", \"scale\": {\"paddingInner\": 0}}, \"y\": {\"type\": \"ordinal\", \"field\": \"product_id\", \"scale\": {\"paddingInner\": 0}}}, \"height\": 200, \"title\": \"UPGRADED\", \"width\": 200}, {\"mark\": {\"type\": \"text\", \"baseline\": \"middle\"}, \"encoding\": {\"text\": {\"type\": \"quantitative\", \"field\": \"amount_euro\"}, \"x\": {\"type\": \"ordinal\", \"field\": \"market\", \"scale\": {\"paddingInner\": 0}}, \"y\": {\"type\": \"ordinal\", \"field\": \"product_id\", \"scale\": {\"paddingInner\": 0}}}, \"height\": 200, \"title\": \"UPGRADED\", \"width\": 200}], \"data\": {\"name\": \"data-ae5d37d60c300ea837c432b386deb1cd\"}}, {\"layer\": [{\"mark\": \"rect\", \"encoding\": {\"color\": {\"type\": \"quantitative\", \"field\": \"amount_euro\", \"legend\": {\"direction\": \"horizontal\"}, \"scale\": {\"scheme\": \"viridis\"}}, \"x\": {\"type\": \"ordinal\", \"field\": \"market\", \"scale\": {\"paddingInner\": 0}}, \"y\": {\"type\": \"ordinal\", \"field\": \"product_id\", \"scale\": {\"paddingInner\": 0}}}, \"height\": 200, \"title\": \"RENEWED\", \"width\": 200}, {\"mark\": {\"type\": \"text\", \"baseline\": \"middle\"}, \"encoding\": {\"text\": {\"type\": \"quantitative\", \"field\": \"amount_euro\"}, \"x\": {\"type\": \"ordinal\", \"field\": \"market\", \"scale\": {\"paddingInner\": 0}}, \"y\": {\"type\": \"ordinal\", \"field\": \"product_id\", \"scale\": {\"paddingInner\": 0}}}, \"height\": 200, \"title\": \"RENEWED\", \"width\": 200}], \"data\": {\"name\": \"data-8e6a37d49a20433d96d517d0d30660df\"}}], \"$schema\": \"https://vega.github.io/schema/vega-lite/v4.8.1.json\", \"datasets\": {\"data-3642af311a25a700156982bab0e24aa7\": [{\"market\": \"AUT\", \"product_id\": \"BLACK_CARD_MONTHLY\", \"enter_reason\": \"SIGNUP\", \"amount_euro\": 6.0}, {\"market\": \"AUT\", \"product_id\": \"BUSINESS_BLACK\", \"enter_reason\": \"SIGNUP\", \"amount_euro\": 6.0}, {\"market\": \"AUT\", \"product_id\": \"METAL_CARD_MONTHLY\", \"enter_reason\": \"SIGNUP\", \"amount_euro\": 9.0}, {\"market\": \"DEU\", \"product_id\": \"BLACK_CARD_MONTHLY\", \"enter_reason\": \"SIGNUP\", \"amount_euro\": 7.0}, {\"market\": \"DEU\", \"product_id\": \"BUSINESS_BLACK\", \"enter_reason\": \"SIGNUP\", \"amount_euro\": 6.0}, {\"market\": \"DEU\", \"product_id\": \"METAL_CARD_MONTHLY\", \"enter_reason\": \"SIGNUP\", \"amount_euro\": 11.0}, {\"market\": \"ESP\", \"product_id\": \"BLACK_CARD_MONTHLY\", \"enter_reason\": \"SIGNUP\", \"amount_euro\": 4.0}, {\"market\": \"ESP\", \"product_id\": \"BUSINESS_BLACK\", \"enter_reason\": \"SIGNUP\", \"amount_euro\": 3.0}, {\"market\": \"ESP\", \"product_id\": \"METAL_CARD_MONTHLY\", \"enter_reason\": \"SIGNUP\", \"amount_euro\": 5.0}, {\"market\": \"FRA\", \"product_id\": \"BLACK_CARD_MONTHLY\", \"enter_reason\": \"SIGNUP\", \"amount_euro\": 6.0}, {\"market\": \"FRA\", \"product_id\": \"BUSINESS_BLACK\", \"enter_reason\": \"SIGNUP\", \"amount_euro\": 5.0}, {\"market\": \"FRA\", \"product_id\": \"METAL_CARD_MONTHLY\", \"enter_reason\": \"SIGNUP\", \"amount_euro\": 9.0}, {\"market\": \"ITA\", \"product_id\": \"BLACK_CARD_MONTHLY\", \"enter_reason\": \"SIGNUP\", \"amount_euro\": 5.0}, {\"market\": \"ITA\", \"product_id\": \"BUSINESS_BLACK\", \"enter_reason\": \"SIGNUP\", \"amount_euro\": 4.0}, {\"market\": \"ITA\", \"product_id\": \"METAL_CARD_MONTHLY\", \"enter_reason\": \"SIGNUP\", \"amount_euro\": 7.0}, {\"market\": \"other\", \"product_id\": \"BLACK_CARD_MONTHLY\", \"enter_reason\": \"SIGNUP\", \"amount_euro\": 4.0}, {\"market\": \"other\", \"product_id\": \"BUSINESS_BLACK\", \"enter_reason\": \"SIGNUP\", \"amount_euro\": 3.0}, {\"market\": \"other\", \"product_id\": \"METAL_CARD_MONTHLY\", \"enter_reason\": \"SIGNUP\", \"amount_euro\": 7.0}], \"data-ae5d37d60c300ea837c432b386deb1cd\": [{\"market\": \"AUT\", \"product_id\": \"BLACK_CARD_MONTHLY\", \"enter_reason\": \"UPGRADED\", \"amount_euro\": 8.0}, {\"market\": \"AUT\", \"product_id\": \"BUSINESS_BLACK\", \"enter_reason\": \"UPGRADED\", \"amount_euro\": 7.0}, {\"market\": \"AUT\", \"product_id\": \"METAL_CARD_MONTHLY\", \"enter_reason\": \"UPGRADED\", \"amount_euro\": 13.0}, {\"market\": \"DEU\", \"product_id\": \"BLACK_CARD_MONTHLY\", \"enter_reason\": \"UPGRADED\", \"amount_euro\": 8.0}, {\"market\": \"DEU\", \"product_id\": \"BUSINESS_BLACK\", \"enter_reason\": \"UPGRADED\", \"amount_euro\": 8.0}, {\"market\": \"DEU\", \"product_id\": \"METAL_CARD_MONTHLY\", \"enter_reason\": \"UPGRADED\", \"amount_euro\": 14.0}, {\"market\": \"ESP\", \"product_id\": \"BLACK_CARD_MONTHLY\", \"enter_reason\": \"UPGRADED\", \"amount_euro\": 5.0}, {\"market\": \"ESP\", \"product_id\": \"BUSINESS_BLACK\", \"enter_reason\": \"UPGRADED\", \"amount_euro\": 5.0}, {\"market\": \"ESP\", \"product_id\": \"METAL_CARD_MONTHLY\", \"enter_reason\": \"UPGRADED\", \"amount_euro\": 9.0}, {\"market\": \"FRA\", \"product_id\": \"BLACK_CARD_MONTHLY\", \"enter_reason\": \"UPGRADED\", \"amount_euro\": 6.0}, {\"market\": \"FRA\", \"product_id\": \"BUSINESS_BLACK\", \"enter_reason\": \"UPGRADED\", \"amount_euro\": 6.0}, {\"market\": \"FRA\", \"product_id\": \"METAL_CARD_MONTHLY\", \"enter_reason\": \"UPGRADED\", \"amount_euro\": 11.0}, {\"market\": \"ITA\", \"product_id\": \"BLACK_CARD_MONTHLY\", \"enter_reason\": \"UPGRADED\", \"amount_euro\": 6.0}, {\"market\": \"ITA\", \"product_id\": \"BUSINESS_BLACK\", \"enter_reason\": \"UPGRADED\", \"amount_euro\": 6.0}, {\"market\": \"ITA\", \"product_id\": \"METAL_CARD_MONTHLY\", \"enter_reason\": \"UPGRADED\", \"amount_euro\": 10.0}, {\"market\": \"other\", \"product_id\": \"BLACK_CARD_MONTHLY\", \"enter_reason\": \"UPGRADED\", \"amount_euro\": 5.0}, {\"market\": \"other\", \"product_id\": \"BUSINESS_BLACK\", \"enter_reason\": \"UPGRADED\", \"amount_euro\": 6.0}, {\"market\": \"other\", \"product_id\": \"METAL_CARD_MONTHLY\", \"enter_reason\": \"UPGRADED\", \"amount_euro\": 12.0}], \"data-8e6a37d49a20433d96d517d0d30660df\": [{\"market\": \"AUT\", \"product_id\": \"BLACK_CARD_MONTHLY\", \"enter_reason\": \"RENEWED\", \"amount_euro\": 5.0}, {\"market\": \"AUT\", \"product_id\": \"BUSINESS_BLACK\", \"enter_reason\": \"RENEWED\", \"amount_euro\": 4.0}, {\"market\": \"AUT\", \"product_id\": \"METAL_CARD_MONTHLY\", \"enter_reason\": \"RENEWED\", \"amount_euro\": 13.0}, {\"market\": \"DEU\", \"product_id\": \"BLACK_CARD_MONTHLY\", \"enter_reason\": \"RENEWED\", \"amount_euro\": 5.0}, {\"market\": \"DEU\", \"product_id\": \"BUSINESS_BLACK\", \"enter_reason\": \"RENEWED\", \"amount_euro\": 1.0}, {\"market\": \"DEU\", \"product_id\": \"METAL_CARD_MONTHLY\", \"enter_reason\": \"RENEWED\", \"amount_euro\": 13.0}, {\"market\": \"ESP\", \"product_id\": \"BLACK_CARD_MONTHLY\", \"enter_reason\": \"RENEWED\", \"amount_euro\": 5.0}, {\"market\": \"ESP\", \"product_id\": \"BUSINESS_BLACK\", \"enter_reason\": \"RENEWED\", \"amount_euro\": 1.0}, {\"market\": \"ESP\", \"product_id\": \"METAL_CARD_MONTHLY\", \"enter_reason\": \"RENEWED\", \"amount_euro\": 4.0}, {\"market\": \"FRA\", \"product_id\": \"BLACK_CARD_MONTHLY\", \"enter_reason\": \"RENEWED\", \"amount_euro\": 5.0}, {\"market\": \"FRA\", \"product_id\": \"BUSINESS_BLACK\", \"enter_reason\": \"RENEWED\", \"amount_euro\": 3.0}, {\"market\": \"FRA\", \"product_id\": \"METAL_CARD_MONTHLY\", \"enter_reason\": \"RENEWED\", \"amount_euro\": 11.0}, {\"market\": \"ITA\", \"product_id\": \"BLACK_CARD_MONTHLY\", \"enter_reason\": \"RENEWED\", \"amount_euro\": 5.0}, {\"market\": \"ITA\", \"product_id\": \"BUSINESS_BLACK\", \"enter_reason\": \"RENEWED\", \"amount_euro\": 2.0}, {\"market\": \"ITA\", \"product_id\": \"METAL_CARD_MONTHLY\", \"enter_reason\": \"RENEWED\", \"amount_euro\": 11.0}, {\"market\": \"other\", \"product_id\": \"BLACK_CARD_MONTHLY\", \"enter_reason\": \"RENEWED\", \"amount_euro\": 5.0}, {\"market\": \"other\", \"product_id\": \"BUSINESS_BLACK\", \"enter_reason\": \"RENEWED\", \"amount_euro\": 2.0}, {\"market\": \"other\", \"product_id\": \"METAL_CARD_MONTHLY\", \"enter_reason\": \"RENEWED\", \"amount_euro\": 8.0}]}}, {\"mode\": \"vega-lite\"});\n",
       "</script>"
      ]
     },
     "metadata": {
      "tags": []
     },
     "execution_count": 33
    }
   ],
   "metadata": {
    "colab": {
     "base_uri": "https://localhost:8080/",
     "height": 397
    },
    "colab_type": "code",
    "id": "DlcscnA8AHwS",
    "outputId": "e6234b49-a38e-4b7a-ad33-bc3c3722cb3f"
   }
  },
  {
   "cell_type": "markdown",
   "source": [
    "# Summary: % of fees paid in arrears"
   ],
   "metadata": {
    "colab_type": "text",
    "id": "-z-h6poCXL38"
   }
  },
  {
   "cell_type": "code",
   "execution_count": null,
   "source": [
    "data_b = df\n",
    "\n",
    "# trim market\n",
    "data_b[\"market\"] = data_b[\"market\"].str.strip()\n",
    "\n",
    "# drop UK\n",
    "data_b = data_b.loc[data_b[\"market\"] != \"GBR\", :]\n",
    "\n",
    "data_b[\"month\"] = pd.to_datetime(data_b[\"subscription_valid_from\"]).dt.to_period(\"M\")"
   ],
   "outputs": [
    {
     "output_type": "stream",
     "name": "stderr",
     "text": [
      "/usr/local/lib/python3.6/dist-packages/ipykernel_launcher.py:9: SettingWithCopyWarning: \n",
      "A value is trying to be set on a copy of a slice from a DataFrame.\n",
      "Try using .loc[row_indexer,col_indexer] = value instead\n",
      "\n",
      "See the caveats in the documentation: https://pandas.pydata.org/pandas-docs/stable/user_guide/indexing.html#returning-a-view-versus-a-copy\n",
      "  if __name__ == '__main__':\n"
     ]
    }
   ],
   "metadata": {
    "colab": {
     "base_uri": "https://localhost:8080/",
     "height": 119
    },
    "colab_type": "code",
    "id": "iCr2bb2UXyCb",
    "outputId": "a6f851ed-5e8c-4843-971a-bb240ddfa8ea"
   }
  },
  {
   "cell_type": "code",
   "execution_count": null,
   "source": [
    "# drop all subscription pamyents that would not be running anymore.\n",
    "data_b = data_b.loc[data_b[\"subscription_valid_from\"] < \"2019-09-01\", :]\n",
    "\n",
    "data_b = (\n",
    "    data_b.loc[data_b[\"paid\"]]\n",
    "    .groupby([\"product_id\", \"month\", \"payment_no\"])[\"arrears\"]\n",
    "    .agg(\"means\")\n",
    "    .reset_index()\n",
    ")\n",
    "data_b.head(40)"
   ],
   "outputs": [
    {
     "output_type": "execute_result",
     "data": {
      "text/plain": [
       "           product_id    month enter_reason  payment_no  arrears\n",
       "0  BLACK_CARD_MONTHLY  2019-01   DOWNGRADED           1        7\n",
       "1  BLACK_CARD_MONTHLY  2019-01   DOWNGRADED           2        7\n",
       "2  BLACK_CARD_MONTHLY  2019-01   DOWNGRADED           3        7\n",
       "3  BLACK_CARD_MONTHLY  2019-01   DOWNGRADED           4        7\n",
       "4  BLACK_CARD_MONTHLY  2019-01   DOWNGRADED           5        7"
      ],
      "text/html": [
       "<div>\n",
       "<style scoped>\n",
       "    .dataframe tbody tr th:only-of-type {\n",
       "        vertical-align: middle;\n",
       "    }\n",
       "\n",
       "    .dataframe tbody tr th {\n",
       "        vertical-align: top;\n",
       "    }\n",
       "\n",
       "    .dataframe thead th {\n",
       "        text-align: right;\n",
       "    }\n",
       "</style>\n",
       "<table border=\"1\" class=\"dataframe\">\n",
       "  <thead>\n",
       "    <tr style=\"text-align: right;\">\n",
       "      <th></th>\n",
       "      <th>product_id</th>\n",
       "      <th>month</th>\n",
       "      <th>enter_reason</th>\n",
       "      <th>payment_no</th>\n",
       "      <th>arrears</th>\n",
       "    </tr>\n",
       "  </thead>\n",
       "  <tbody>\n",
       "    <tr>\n",
       "      <th>0</th>\n",
       "      <td>BLACK_CARD_MONTHLY</td>\n",
       "      <td>2019-01</td>\n",
       "      <td>DOWNGRADED</td>\n",
       "      <td>1</td>\n",
       "      <td>7</td>\n",
       "    </tr>\n",
       "    <tr>\n",
       "      <th>1</th>\n",
       "      <td>BLACK_CARD_MONTHLY</td>\n",
       "      <td>2019-01</td>\n",
       "      <td>DOWNGRADED</td>\n",
       "      <td>2</td>\n",
       "      <td>7</td>\n",
       "    </tr>\n",
       "    <tr>\n",
       "      <th>2</th>\n",
       "      <td>BLACK_CARD_MONTHLY</td>\n",
       "      <td>2019-01</td>\n",
       "      <td>DOWNGRADED</td>\n",
       "      <td>3</td>\n",
       "      <td>7</td>\n",
       "    </tr>\n",
       "    <tr>\n",
       "      <th>3</th>\n",
       "      <td>BLACK_CARD_MONTHLY</td>\n",
       "      <td>2019-01</td>\n",
       "      <td>DOWNGRADED</td>\n",
       "      <td>4</td>\n",
       "      <td>7</td>\n",
       "    </tr>\n",
       "    <tr>\n",
       "      <th>4</th>\n",
       "      <td>BLACK_CARD_MONTHLY</td>\n",
       "      <td>2019-01</td>\n",
       "      <td>DOWNGRADED</td>\n",
       "      <td>5</td>\n",
       "      <td>7</td>\n",
       "    </tr>\n",
       "  </tbody>\n",
       "</table>\n",
       "</div>"
      ]
     },
     "metadata": {
      "tags": []
     },
     "execution_count": 16
    }
   ],
   "metadata": {
    "colab": {
     "base_uri": "https://localhost:8080/",
     "height": 204
    },
    "colab_type": "code",
    "id": "4vIHMW2mXVpb",
    "outputId": "14b9212e-a7d8-431a-a5d7-ba14242d1b4d"
   }
  },
  {
   "cell_type": "code",
   "execution_count": null,
   "source": [
    "data_b[\"month\"] = data_b[\"month\"].astype(str)\n",
    "\n",
    "alt.Chart(data_b.loc[data_b[\"enter_reason\"] != \"DOWNGRADED\"]).mark_line().encode(\n",
    "    x=alt.X(\"month:N\", axis=alt.Axis(title=\"Month of sub start\")),\n",
    "    y=alt.Y(\"charged:Q\", axis=alt.Axis(format=\"%\", title=\"% subs charged\")),\n",
    "    color=\"product_id:N\",\n",
    ").properties(width=300, height=300, title=\"% of 12 months charged\").facet(\n",
    "    facet=\"enter_reason:N\", columns=3\n",
    ")\n",
    "\n",
    "##note that renewal for metal dont make too mcuh sense prior June 2019 --> we launched in June 2018."
   ],
   "outputs": [],
   "metadata": {
    "colab": {},
    "colab_type": "code",
    "id": "OZsuqtehXvUq"
   }
  }
 ],
 "metadata": {
  "colab": {
   "collapsed_sections": [],
   "name": "zrh_subscription_payments.ipynb",
   "provenance": []
  },
  "kernelspec": {
   "display_name": "Python 3",
   "language": "python",
   "name": "python3"
  },
  "language_info": {
   "codemirror_mode": {
    "name": "ipython",
    "version": 3
   },
   "file_extension": ".py",
   "mimetype": "text/x-python",
   "name": "python",
   "nbconvert_exporter": "python",
   "pygments_lexer": "ipython3",
   "version": "3.7.3"
  }
 },
 "nbformat": 4,
 "nbformat_minor": 1
}