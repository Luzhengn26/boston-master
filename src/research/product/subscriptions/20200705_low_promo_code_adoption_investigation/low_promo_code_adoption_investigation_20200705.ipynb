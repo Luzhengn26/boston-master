{
 "cells": [
  {
   "cell_type": "markdown",
   "metadata": {},
   "source": [
    "title: Low promo code adoption investigation    \n",
    "author: Fabio Schmidt-Fischbach   \n",
    "date: 2020-07-10   \n",
    "region: EU   \n",
    "tags: acquire, friend referral, promo code, signup"
   ]
  },
  {
   "cell_type": "code",
   "execution_count": null,
   "metadata": {},
   "outputs": [],
   "source": [
    "import pandas as pd\n",
    "import altair as alt\n",
    "import numpy as np"
   ]
  },
  {
   "cell_type": "code",
   "execution_count": 4,
   "metadata": {},
   "outputs": [],
   "source": [
    "query = \"\"\"\n",
    "\n",
    "WITH experiments AS ( \n",
    "\n",
    "SELECT user_created, se_property\n",
    "FROM dbt.stg_upper_funnel\n",
    "group by 1,2 \n",
    "\n",
    "), \n",
    "first_experiment as ( \n",
    "\n",
    "select user_created, se_property, count(1)\n",
    "from experiments \n",
    "group by 1,2\n",
    "having count(1) = 1 \n",
    "\n",
    ")\n",
    "\n",
    "\n",
    "SELECT ref.status, zu.*, se_property\n",
    "FROM dbt.zrh_users as zu \n",
    "left join u_referral as ref on ref.user_created = zu.user_created\n",
    "left join first_experiment as fe on fe.user_created = zu.user_created \n",
    "left join referrals on referrals.user_created = zu.user_created\n",
    "where zu.user_created >= '2020-01-01'\n",
    "\n",
    "\n",
    "\"\"\""
   ]
  },
  {
   "cell_type": "markdown",
   "metadata": {},
   "source": [
    "## Part 1. Problem description "
   ]
  },
  {
   "cell_type": "code",
   "execution_count": 33,
   "metadata": {},
   "outputs": [
    {
     "data": {
      "text/html": [
       "\n",
       "<div id=\"altair-viz-40ac19d799444e038fa7c194a419e2d5\"></div>\n",
       "<script type=\"text/javascript\">\n",
       "  (function(spec, embedOpt){\n",
       "    const outputDiv = document.getElementById(\"altair-viz-40ac19d799444e038fa7c194a419e2d5\");\n",
       "    const paths = {\n",
       "      \"vega\": \"https://cdn.jsdelivr.net/npm//vega@5?noext\",\n",
       "      \"vega-lib\": \"https://cdn.jsdelivr.net/npm//vega-lib?noext\",\n",
       "      \"vega-lite\": \"https://cdn.jsdelivr.net/npm//vega-lite@4.0.2?noext\",\n",
       "      \"vega-embed\": \"https://cdn.jsdelivr.net/npm//vega-embed@6?noext\",\n",
       "    };\n",
       "\n",
       "    function loadScript(lib) {\n",
       "      return new Promise(function(resolve, reject) {\n",
       "        var s = document.createElement('script');\n",
       "        s.src = paths[lib];\n",
       "        s.async = true;\n",
       "        s.onload = () => resolve(paths[lib]);\n",
       "        s.onerror = () => reject(`Error loading script: ${paths[lib]}`);\n",
       "        document.getElementsByTagName(\"head\")[0].appendChild(s);\n",
       "      });\n",
       "    }\n",
       "\n",
       "    function showError(err) {\n",
       "      outputDiv.innerHTML = `<div class=\"error\" style=\"color:red;\">${err}</div>`;\n",
       "      throw err;\n",
       "    }\n",
       "\n",
       "    function displayChart(vegaEmbed) {\n",
       "      vegaEmbed(outputDiv, spec, embedOpt)\n",
       "        .catch(err => showError(`Javascript Error: ${err.message}<br>This usually means there's a typo in your chart specification. See the javascript console for the full traceback.`));\n",
       "    }\n",
       "\n",
       "    if(typeof define === \"function\" && define.amd) {\n",
       "      requirejs.config({paths});\n",
       "      require([\"vega-embed\"], displayChart, err => showError(`Error loading script: ${err.message}`));\n",
       "    } else if (typeof vegaEmbed === \"function\") {\n",
       "      displayChart(vegaEmbed);\n",
       "    } else {\n",
       "      loadScript(\"vega\")\n",
       "        .then(() => loadScript(\"vega-lite\"))\n",
       "        .then(() => loadScript(\"vega-embed\"))\n",
       "        .catch(showError)\n",
       "        .then(() => displayChart(vegaEmbed));\n",
       "    }\n",
       "  })({\"config\": {\"view\": {\"continuousWidth\": 400, \"continuousHeight\": 300}}, \"data\": {\"name\": \"data-caf5c5c59f80e2a1a91615710b26a009\"}, \"mark\": \"line\", \"encoding\": {\"x\": {\"type\": \"quantitative\", \"axis\": {\"title\": \"Signup week\"}, \"field\": \"user_created\"}, \"y\": {\"type\": \"quantitative\", \"axis\": {\"title\": \"Number of signups\"}, \"field\": \"user_id\"}}, \"height\": 500, \"title\": \"# of signups\", \"width\": 500, \"$schema\": \"https://vega.github.io/schema/vega-lite/v4.0.2.json\", \"datasets\": {\"data-caf5c5c59f80e2a1a91615710b26a009\": [{\"user_created\": \"1\", \"user_id\": 31960}, {\"user_created\": \"2\", \"user_id\": 47484}, {\"user_created\": \"3\", \"user_id\": 45360}, {\"user_created\": \"4\", \"user_id\": 46078}, {\"user_created\": \"5\", \"user_id\": 48167}, {\"user_created\": \"6\", \"user_id\": 47567}, {\"user_created\": \"7\", \"user_id\": 44304}, {\"user_created\": \"8\", \"user_id\": 41747}, {\"user_created\": \"9\", \"user_id\": 40865}, {\"user_created\": \"10\", \"user_id\": 37243}, {\"user_created\": \"11\", \"user_id\": 27978}, {\"user_created\": \"12\", \"user_id\": 28752}, {\"user_created\": \"13\", \"user_id\": 34417}, {\"user_created\": \"14\", \"user_id\": 33079}, {\"user_created\": \"15\", \"user_id\": 28260}, {\"user_created\": \"16\", \"user_id\": 30192}, {\"user_created\": \"17\", \"user_id\": 29625}, {\"user_created\": \"18\", \"user_id\": 30856}, {\"user_created\": \"19\", \"user_id\": 30962}, {\"user_created\": \"20\", \"user_id\": 34110}, {\"user_created\": \"21\", \"user_id\": 29422}, {\"user_created\": \"22\", \"user_id\": 29851}, {\"user_created\": \"23\", \"user_id\": 31434}, {\"user_created\": \"24\", \"user_id\": 33461}, {\"user_created\": \"25\", \"user_id\": 32302}, {\"user_created\": \"26\", \"user_id\": 31399}, {\"user_created\": \"27\", \"user_id\": 29347}]}}, {\"mode\": \"vega-lite\"});\n",
       "</script>"
      ],
      "text/plain": [
       "alt.Chart(...)"
      ]
     },
     "execution_count": 33,
     "metadata": {},
     "output_type": "execute_result"
    }
   ],
   "source": [
    "df = pd.read_csv(\"low_promo_code.csv\")\n",
    "\n",
    "# total signups daily.\n",
    "df[\"user_created\"] = pd.to_datetime(df[\"user_created\"]).dt.date\n",
    "df = df.loc[df[\"user_created\"] < pd.to_datetime(\"2020-07-05\"), :]\n",
    "\n",
    "df[\"user_created\"] = pd.to_datetime(df[\"user_created\"]).dt.week\n",
    "\n",
    "df = df.groupby([\"user_created\"])[\"user_id\"].agg(\"nunique\").reset_index()\n",
    "\n",
    "df[\"user_created\"] = df[\"user_created\"].astype(str)\n",
    "\n",
    "alt.Chart(df).mark_line().encode(\n",
    "    x=alt.X(\"user_created:Q\", axis=alt.Axis(title=\"Signup week\")),\n",
    "    y=alt.Y(\"user_id:Q\", axis=alt.Axis(title=\"Number of signups\")),\n",
    ").properties(width=500, height=500, title=\"# of signups\")"
   ]
  },
  {
   "cell_type": "markdown",
   "metadata": {},
   "source": [
    "Signups did not plummet in the last two weeks - but also did not improve. This suggests that people still finish signup. "
   ]
  },
  {
   "cell_type": "code",
   "execution_count": 48,
   "metadata": {},
   "outputs": [
    {
     "data": {
      "text/html": [
       "\n",
       "<div id=\"altair-viz-69480ee5953b496d840d7465607858c1\"></div>\n",
       "<script type=\"text/javascript\">\n",
       "  (function(spec, embedOpt){\n",
       "    const outputDiv = document.getElementById(\"altair-viz-69480ee5953b496d840d7465607858c1\");\n",
       "    const paths = {\n",
       "      \"vega\": \"https://cdn.jsdelivr.net/npm//vega@5?noext\",\n",
       "      \"vega-lib\": \"https://cdn.jsdelivr.net/npm//vega-lib?noext\",\n",
       "      \"vega-lite\": \"https://cdn.jsdelivr.net/npm//vega-lite@4.0.2?noext\",\n",
       "      \"vega-embed\": \"https://cdn.jsdelivr.net/npm//vega-embed@6?noext\",\n",
       "    };\n",
       "\n",
       "    function loadScript(lib) {\n",
       "      return new Promise(function(resolve, reject) {\n",
       "        var s = document.createElement('script');\n",
       "        s.src = paths[lib];\n",
       "        s.async = true;\n",
       "        s.onload = () => resolve(paths[lib]);\n",
       "        s.onerror = () => reject(`Error loading script: ${paths[lib]}`);\n",
       "        document.getElementsByTagName(\"head\")[0].appendChild(s);\n",
       "      });\n",
       "    }\n",
       "\n",
       "    function showError(err) {\n",
       "      outputDiv.innerHTML = `<div class=\"error\" style=\"color:red;\">${err}</div>`;\n",
       "      throw err;\n",
       "    }\n",
       "\n",
       "    function displayChart(vegaEmbed) {\n",
       "      vegaEmbed(outputDiv, spec, embedOpt)\n",
       "        .catch(err => showError(`Javascript Error: ${err.message}<br>This usually means there's a typo in your chart specification. See the javascript console for the full traceback.`));\n",
       "    }\n",
       "\n",
       "    if(typeof define === \"function\" && define.amd) {\n",
       "      requirejs.config({paths});\n",
       "      require([\"vega-embed\"], displayChart, err => showError(`Error loading script: ${err.message}`));\n",
       "    } else if (typeof vegaEmbed === \"function\") {\n",
       "      displayChart(vegaEmbed);\n",
       "    } else {\n",
       "      loadScript(\"vega\")\n",
       "        .then(() => loadScript(\"vega-lite\"))\n",
       "        .then(() => loadScript(\"vega-embed\"))\n",
       "        .catch(showError)\n",
       "        .then(() => displayChart(vegaEmbed));\n",
       "    }\n",
       "  })({\"config\": {\"view\": {\"continuousWidth\": 400, \"continuousHeight\": 300}}, \"data\": {\"name\": \"data-268302acadc22cd5a6a57bdfe31603ea\"}, \"mark\": \"line\", \"encoding\": {\"color\": {\"type\": \"nominal\", \"field\": \"channel\"}, \"x\": {\"type\": \"quantitative\", \"axis\": {\"title\": \"Signup week\"}, \"field\": \"user_created\"}, \"y\": {\"type\": \"quantitative\", \"axis\": {\"title\": \"Number of signups\"}, \"field\": \"user_id\"}}, \"height\": 500, \"title\": \"# of signups\", \"width\": 500, \"$schema\": \"https://vega.github.io/schema/vega-lite/v4.0.2.json\", \"datasets\": {\"data-268302acadc22cd5a6a57bdfe31603ea\": [{\"user_created\": \"1\", \"channel\": \"friend referral\", \"user_id\": 7446}, {\"user_created\": \"1\", \"channel\": \"organic\", \"user_id\": 5812}, {\"user_created\": \"1\", \"channel\": \"other\", \"user_id\": 2184}, {\"user_created\": \"1\", \"channel\": \"partnerships\", \"user_id\": 78}, {\"user_created\": \"1\", \"channel\": \"performance\", \"user_id\": 13229}, {\"user_created\": \"1\", \"channel\": \"seo\", \"user_id\": 3211}, {\"user_created\": \"2\", \"channel\": \"friend referral\", \"user_id\": 10557}, {\"user_created\": \"2\", \"channel\": \"organic\", \"user_id\": 8779}, {\"user_created\": \"2\", \"channel\": \"other\", \"user_id\": 3298}, {\"user_created\": \"2\", \"channel\": \"partnerships\", \"user_id\": 83}, {\"user_created\": \"2\", \"channel\": \"performance\", \"user_id\": 19988}, {\"user_created\": \"2\", \"channel\": \"seo\", \"user_id\": 4779}, {\"user_created\": \"3\", \"channel\": \"friend referral\", \"user_id\": 9742}, {\"user_created\": \"3\", \"channel\": \"organic\", \"user_id\": 8634}, {\"user_created\": \"3\", \"channel\": \"other\", \"user_id\": 3148}, {\"user_created\": \"3\", \"channel\": \"partnerships\", \"user_id\": 76}, {\"user_created\": \"3\", \"channel\": \"performance\", \"user_id\": 19356}, {\"user_created\": \"3\", \"channel\": \"seo\", \"user_id\": 4404}, {\"user_created\": \"4\", \"channel\": \"friend referral\", \"user_id\": 9902}, {\"user_created\": \"4\", \"channel\": \"organic\", \"user_id\": 8979}, {\"user_created\": \"4\", \"channel\": \"other\", \"user_id\": 3171}, {\"user_created\": \"4\", \"channel\": \"partnerships\", \"user_id\": 33}, {\"user_created\": \"4\", \"channel\": \"performance\", \"user_id\": 19744}, {\"user_created\": \"4\", \"channel\": \"seo\", \"user_id\": 4249}, {\"user_created\": \"5\", \"channel\": \"friend referral\", \"user_id\": 10703}, {\"user_created\": \"5\", \"channel\": \"organic\", \"user_id\": 9300}, {\"user_created\": \"5\", \"channel\": \"other\", \"user_id\": 3291}, {\"user_created\": \"5\", \"channel\": \"partnerships\", \"user_id\": 51}, {\"user_created\": \"5\", \"channel\": \"performance\", \"user_id\": 20210}, {\"user_created\": \"5\", \"channel\": \"seo\", \"user_id\": 4612}, {\"user_created\": \"6\", \"channel\": \"friend referral\", \"user_id\": 11083}, {\"user_created\": \"6\", \"channel\": \"organic\", \"user_id\": 9728}, {\"user_created\": \"6\", \"channel\": \"other\", \"user_id\": 3266}, {\"user_created\": \"6\", \"channel\": \"partnerships\", \"user_id\": 28}, {\"user_created\": \"6\", \"channel\": \"performance\", \"user_id\": 18714}, {\"user_created\": \"6\", \"channel\": \"seo\", \"user_id\": 4748}, {\"user_created\": \"7\", \"channel\": \"friend referral\", \"user_id\": 10340}, {\"user_created\": \"7\", \"channel\": \"organic\", \"user_id\": 8794}, {\"user_created\": \"7\", \"channel\": \"other\", \"user_id\": 3074}, {\"user_created\": \"7\", \"channel\": \"partnerships\", \"user_id\": 140}, {\"user_created\": \"7\", \"channel\": \"performance\", \"user_id\": 17584}, {\"user_created\": \"7\", \"channel\": \"seo\", \"user_id\": 4372}, {\"user_created\": \"8\", \"channel\": \"friend referral\", \"user_id\": 9700}, {\"user_created\": \"8\", \"channel\": \"organic\", \"user_id\": 7404}, {\"user_created\": \"8\", \"channel\": \"other\", \"user_id\": 3065}, {\"user_created\": \"8\", \"channel\": \"partnerships\", \"user_id\": 39}, {\"user_created\": \"8\", \"channel\": \"performance\", \"user_id\": 17574}, {\"user_created\": \"8\", \"channel\": \"seo\", \"user_id\": 3965}, {\"user_created\": \"9\", \"channel\": \"friend referral\", \"user_id\": 9765}, {\"user_created\": \"9\", \"channel\": \"organic\", \"user_id\": 7079}, {\"user_created\": \"9\", \"channel\": \"other\", \"user_id\": 2878}, {\"user_created\": \"9\", \"channel\": \"partnerships\", \"user_id\": 23}, {\"user_created\": \"9\", \"channel\": \"performance\", \"user_id\": 17253}, {\"user_created\": \"9\", \"channel\": \"seo\", \"user_id\": 3867}, {\"user_created\": \"10\", \"channel\": \"friend referral\", \"user_id\": 8889}, {\"user_created\": \"10\", \"channel\": \"organic\", \"user_id\": 6557}, {\"user_created\": \"10\", \"channel\": \"other\", \"user_id\": 3882}, {\"user_created\": \"10\", \"channel\": \"partnerships\", \"user_id\": 38}, {\"user_created\": \"10\", \"channel\": \"performance\", \"user_id\": 14368}, {\"user_created\": \"10\", \"channel\": \"seo\", \"user_id\": 3509}, {\"user_created\": \"11\", \"channel\": \"friend referral\", \"user_id\": 6212}, {\"user_created\": \"11\", \"channel\": \"organic\", \"user_id\": 5466}, {\"user_created\": \"11\", \"channel\": \"other\", \"user_id\": 2012}, {\"user_created\": \"11\", \"channel\": \"partnerships\", \"user_id\": 24}, {\"user_created\": \"11\", \"channel\": \"performance\", \"user_id\": 11386}, {\"user_created\": \"11\", \"channel\": \"seo\", \"user_id\": 2878}, {\"user_created\": \"12\", \"channel\": \"friend referral\", \"user_id\": 5519}, {\"user_created\": \"12\", \"channel\": \"organic\", \"user_id\": 4663}, {\"user_created\": \"12\", \"channel\": \"other\", \"user_id\": 2225}, {\"user_created\": \"12\", \"channel\": \"partnerships\", \"user_id\": 23}, {\"user_created\": \"12\", \"channel\": \"performance\", \"user_id\": 13876}, {\"user_created\": \"12\", \"channel\": \"seo\", \"user_id\": 2446}, {\"user_created\": \"13\", \"channel\": \"friend referral\", \"user_id\": 6182}, {\"user_created\": \"13\", \"channel\": \"organic\", \"user_id\": 5279}, {\"user_created\": \"13\", \"channel\": \"other\", \"user_id\": 2607}, {\"user_created\": \"13\", \"channel\": \"partnerships\", \"user_id\": 10}, {\"user_created\": \"13\", \"channel\": \"performance\", \"user_id\": 17628}, {\"user_created\": \"13\", \"channel\": \"seo\", \"user_id\": 2711}, {\"user_created\": \"14\", \"channel\": \"friend referral\", \"user_id\": 6545}, {\"user_created\": \"14\", \"channel\": \"organic\", \"user_id\": 5407}, {\"user_created\": \"14\", \"channel\": \"other\", \"user_id\": 2692}, {\"user_created\": \"14\", \"channel\": \"partnerships\", \"user_id\": 13}, {\"user_created\": \"14\", \"channel\": \"performance\", \"user_id\": 15438}, {\"user_created\": \"14\", \"channel\": \"seo\", \"user_id\": 2984}, {\"user_created\": \"15\", \"channel\": \"friend referral\", \"user_id\": 5609}, {\"user_created\": \"15\", \"channel\": \"organic\", \"user_id\": 5109}, {\"user_created\": \"15\", \"channel\": \"other\", \"user_id\": 2239}, {\"user_created\": \"15\", \"channel\": \"partnerships\", \"user_id\": 16}, {\"user_created\": \"15\", \"channel\": \"performance\", \"user_id\": 12683}, {\"user_created\": \"15\", \"channel\": \"seo\", \"user_id\": 2604}, {\"user_created\": \"16\", \"channel\": \"friend referral\", \"user_id\": 6414}, {\"user_created\": \"16\", \"channel\": \"organic\", \"user_id\": 5226}, {\"user_created\": \"16\", \"channel\": \"other\", \"user_id\": 2299}, {\"user_created\": \"16\", \"channel\": \"partnerships\", \"user_id\": 14}, {\"user_created\": \"16\", \"channel\": \"performance\", \"user_id\": 13486}, {\"user_created\": \"16\", \"channel\": \"seo\", \"user_id\": 2753}, {\"user_created\": \"17\", \"channel\": \"friend referral\", \"user_id\": 6449}, {\"user_created\": \"17\", \"channel\": \"organic\", \"user_id\": 5227}, {\"user_created\": \"17\", \"channel\": \"other\", \"user_id\": 2321}, {\"user_created\": \"17\", \"channel\": \"partnerships\", \"user_id\": 5}, {\"user_created\": \"17\", \"channel\": \"performance\", \"user_id\": 12678}, {\"user_created\": \"17\", \"channel\": \"seo\", \"user_id\": 2945}, {\"user_created\": \"18\", \"channel\": \"friend referral\", \"user_id\": 6713}, {\"user_created\": \"18\", \"channel\": \"organic\", \"user_id\": 5624}, {\"user_created\": \"18\", \"channel\": \"other\", \"user_id\": 2513}, {\"user_created\": \"18\", \"channel\": \"partnerships\", \"user_id\": 16}, {\"user_created\": \"18\", \"channel\": \"performance\", \"user_id\": 12937}, {\"user_created\": \"18\", \"channel\": \"seo\", \"user_id\": 3053}, {\"user_created\": \"19\", \"channel\": \"friend referral\", \"user_id\": 6823}, {\"user_created\": \"19\", \"channel\": \"organic\", \"user_id\": 5680}, {\"user_created\": \"19\", \"channel\": \"other\", \"user_id\": 2542}, {\"user_created\": \"19\", \"channel\": \"partnerships\", \"user_id\": 18}, {\"user_created\": \"19\", \"channel\": \"performance\", \"user_id\": 12858}, {\"user_created\": \"19\", \"channel\": \"seo\", \"user_id\": 3041}, {\"user_created\": \"20\", \"channel\": \"friend referral\", \"user_id\": 7187}, {\"user_created\": \"20\", \"channel\": \"organic\", \"user_id\": 5677}, {\"user_created\": \"20\", \"channel\": \"other\", \"user_id\": 3530}, {\"user_created\": \"20\", \"channel\": \"partnerships\", \"user_id\": 15}, {\"user_created\": \"20\", \"channel\": \"performance\", \"user_id\": 14490}, {\"user_created\": \"20\", \"channel\": \"seo\", \"user_id\": 3211}, {\"user_created\": \"21\", \"channel\": \"friend referral\", \"user_id\": 6308}, {\"user_created\": \"21\", \"channel\": \"organic\", \"user_id\": 5090}, {\"user_created\": \"21\", \"channel\": \"other\", \"user_id\": 3242}, {\"user_created\": \"21\", \"channel\": \"partnerships\", \"user_id\": 14}, {\"user_created\": \"21\", \"channel\": \"performance\", \"user_id\": 12011}, {\"user_created\": \"21\", \"channel\": \"seo\", \"user_id\": 2757}, {\"user_created\": \"22\", \"channel\": \"friend referral\", \"user_id\": 6647}, {\"user_created\": \"22\", \"channel\": \"organic\", \"user_id\": 5553}, {\"user_created\": \"22\", \"channel\": \"other\", \"user_id\": 2269}, {\"user_created\": \"22\", \"channel\": \"partnerships\", \"user_id\": 19}, {\"user_created\": \"22\", \"channel\": \"performance\", \"user_id\": 12488}, {\"user_created\": \"22\", \"channel\": \"seo\", \"user_id\": 2875}, {\"user_created\": \"23\", \"channel\": \"friend referral\", \"user_id\": 6173}, {\"user_created\": \"23\", \"channel\": \"organic\", \"user_id\": 6011}, {\"user_created\": \"23\", \"channel\": \"other\", \"user_id\": 2529}, {\"user_created\": \"23\", \"channel\": \"partnerships\", \"user_id\": 16}, {\"user_created\": \"23\", \"channel\": \"performance\", \"user_id\": 13605}, {\"user_created\": \"23\", \"channel\": \"seo\", \"user_id\": 3100}, {\"user_created\": \"24\", \"channel\": \"friend referral\", \"user_id\": 6864}, {\"user_created\": \"24\", \"channel\": \"organic\", \"user_id\": 6717}, {\"user_created\": \"24\", \"channel\": \"other\", \"user_id\": 2529}, {\"user_created\": \"24\", \"channel\": \"partnerships\", \"user_id\": 17}, {\"user_created\": \"24\", \"channel\": \"performance\", \"user_id\": 14046}, {\"user_created\": \"24\", \"channel\": \"seo\", \"user_id\": 3288}, {\"user_created\": \"25\", \"channel\": \"friend referral\", \"user_id\": 6746}, {\"user_created\": \"25\", \"channel\": \"organic\", \"user_id\": 6532}, {\"user_created\": \"25\", \"channel\": \"other\", \"user_id\": 2590}, {\"user_created\": \"25\", \"channel\": \"partnerships\", \"user_id\": 15}, {\"user_created\": \"25\", \"channel\": \"performance\", \"user_id\": 13252}, {\"user_created\": \"25\", \"channel\": \"seo\", \"user_id\": 3167}, {\"user_created\": \"26\", \"channel\": \"friend referral\", \"user_id\": 4946}, {\"user_created\": \"26\", \"channel\": \"organic\", \"user_id\": 7095}, {\"user_created\": \"26\", \"channel\": \"other\", \"user_id\": 2614}, {\"user_created\": \"26\", \"channel\": \"partnerships\", \"user_id\": 8}, {\"user_created\": \"26\", \"channel\": \"performance\", \"user_id\": 13222}, {\"user_created\": \"26\", \"channel\": \"seo\", \"user_id\": 3514}, {\"user_created\": \"27\", \"channel\": \"friend referral\", \"user_id\": 3828}, {\"user_created\": \"27\", \"channel\": \"organic\", \"user_id\": 6685}, {\"user_created\": \"27\", \"channel\": \"other\", \"user_id\": 2515}, {\"user_created\": \"27\", \"channel\": \"partnerships\", \"user_id\": 13}, {\"user_created\": \"27\", \"channel\": \"performance\", \"user_id\": 12719}, {\"user_created\": \"27\", \"channel\": \"seo\", \"user_id\": 3587}]}}, {\"mode\": \"vega-lite\"});\n",
       "</script>"
      ],
      "text/plain": [
       "alt.Chart(...)"
      ]
     },
     "execution_count": 48,
     "metadata": {},
     "output_type": "execute_result"
    }
   ],
   "source": [
    "df = pd.read_csv(\"low_promo_code.csv\")\n",
    "\n",
    "# total signups daily.\n",
    "df[\"user_created\"] = pd.to_datetime(df[\"user_created\"])\n",
    "df = df.loc[df[\"user_created\"] < pd.to_datetime(\"2020-07-05\"), :]\n",
    "df[\"user_created\"] = pd.to_datetime(df[\"user_created\"]).dt.week\n",
    "\n",
    "# marketing channel\n",
    "df[\"channel\"] = \"other\"\n",
    "df.loc[\n",
    "    df[\"last_click_source\"].isin(\n",
    "        [\n",
    "            \"organic_social\",\n",
    "            \"other\",\n",
    "            \"lost_souls\",\n",
    "            \"crm\",\n",
    "            \"internal\",\n",
    "            \"direct\",\n",
    "            \"app_store\",\n",
    "            \"brand_influencer\",\n",
    "        ]\n",
    "    )\n",
    "    == True,\n",
    "    \"channel\",\n",
    "] = \"organic\"\n",
    "\n",
    "df.loc[df[\"last_click_source\"].isin([\"organic_search\"]) == True, \"channel\"] = \"seo\"\n",
    "df.loc[\n",
    "    df[\"last_click_source\"].isin(\n",
    "        [\n",
    "            \"paid_search\",\n",
    "            \"paid_search_non_brand\",\n",
    "            \"paid_search_brand\",\n",
    "            \"paid_search_unknown\",\n",
    "            \"paid_social\",\n",
    "            \"affiliate\",\n",
    "            \"display_ads\",\n",
    "        ]\n",
    "    )\n",
    "    == True,\n",
    "    \"channel\",\n",
    "] = \"performance\"\n",
    "\n",
    "df.loc[\n",
    "    df[\"last_click_source\"].isin([\"partnership\", \"ambassador\"]) == True, \"channel\"\n",
    "] = \"partnerships\"\n",
    "df.loc[\n",
    "    df[\"last_click_source\"].isin([\"email_friend_referral\", \"friend_referral\"]) == True,\n",
    "    \"channel\",\n",
    "] = \"friend referral\"\n",
    "\n",
    "df = df.groupby([\"user_created\", \"channel\"])[\"user_id\"].agg(\"nunique\").reset_index()\n",
    "\n",
    "df[\"user_created\"] = df[\"user_created\"].astype(str)\n",
    "\n",
    "alt.Chart(df).mark_line().encode(\n",
    "    x=alt.X(\"user_created:Q\", axis=alt.Axis(title=\"Signup week\")),\n",
    "    y=alt.Y(\"user_id:Q\", axis=alt.Axis(title=\"Number of signups\")),\n",
    "    color=\"channel:N\",\n",
    ").properties(width=500, height=500, title=\"# of signups\")"
   ]
  },
  {
   "cell_type": "code",
   "execution_count": 7,
   "metadata": {},
   "outputs": [
    {
     "data": {
      "text/html": [
       "\n",
       "<div id=\"altair-viz-9d71b6c45ff944b5a3862ba51589ac76\"></div>\n",
       "<script type=\"text/javascript\">\n",
       "  (function(spec, embedOpt){\n",
       "    const outputDiv = document.getElementById(\"altair-viz-9d71b6c45ff944b5a3862ba51589ac76\");\n",
       "    const paths = {\n",
       "      \"vega\": \"https://cdn.jsdelivr.net/npm//vega@5?noext\",\n",
       "      \"vega-lib\": \"https://cdn.jsdelivr.net/npm//vega-lib?noext\",\n",
       "      \"vega-lite\": \"https://cdn.jsdelivr.net/npm//vega-lite@4.0.2?noext\",\n",
       "      \"vega-embed\": \"https://cdn.jsdelivr.net/npm//vega-embed@6?noext\",\n",
       "    };\n",
       "\n",
       "    function loadScript(lib) {\n",
       "      return new Promise(function(resolve, reject) {\n",
       "        var s = document.createElement('script');\n",
       "        s.src = paths[lib];\n",
       "        s.async = true;\n",
       "        s.onload = () => resolve(paths[lib]);\n",
       "        s.onerror = () => reject(`Error loading script: ${paths[lib]}`);\n",
       "        document.getElementsByTagName(\"head\")[0].appendChild(s);\n",
       "      });\n",
       "    }\n",
       "\n",
       "    function showError(err) {\n",
       "      outputDiv.innerHTML = `<div class=\"error\" style=\"color:red;\">${err}</div>`;\n",
       "      throw err;\n",
       "    }\n",
       "\n",
       "    function displayChart(vegaEmbed) {\n",
       "      vegaEmbed(outputDiv, spec, embedOpt)\n",
       "        .catch(err => showError(`Javascript Error: ${err.message}<br>This usually means there's a typo in your chart specification. See the javascript console for the full traceback.`));\n",
       "    }\n",
       "\n",
       "    if(typeof define === \"function\" && define.amd) {\n",
       "      requirejs.config({paths});\n",
       "      require([\"vega-embed\"], displayChart, err => showError(`Error loading script: ${err.message}`));\n",
       "    } else if (typeof vegaEmbed === \"function\") {\n",
       "      displayChart(vegaEmbed);\n",
       "    } else {\n",
       "      loadScript(\"vega\")\n",
       "        .then(() => loadScript(\"vega-lite\"))\n",
       "        .then(() => loadScript(\"vega-embed\"))\n",
       "        .catch(showError)\n",
       "        .then(() => displayChart(vegaEmbed));\n",
       "    }\n",
       "  })({\"config\": {\"view\": {\"continuousWidth\": 400, \"continuousHeight\": 300}}, \"data\": {\"name\": \"data-7cfaade1c90ccad24cbd6d80d17e9ee8\"}, \"mark\": \"line\", \"encoding\": {\"x\": {\"type\": \"quantitative\", \"axis\": {\"title\": \"KYCc week\"}, \"field\": \"kyc_first_completed\"}, \"y\": {\"type\": \"quantitative\", \"axis\": {\"title\": \"Number of KYCc\"}, \"field\": \"user_id\"}}, \"height\": 500, \"title\": \"# of KYCc\", \"width\": 500, \"$schema\": \"https://vega.github.io/schema/vega-lite/v4.0.2.json\", \"datasets\": {\"data-7cfaade1c90ccad24cbd6d80d17e9ee8\": [{\"kyc_first_completed\": \"1\", \"user_id\": 13188}, {\"kyc_first_completed\": \"2\", \"user_id\": 24025}, {\"kyc_first_completed\": \"3\", \"user_id\": 23858}, {\"kyc_first_completed\": \"4\", \"user_id\": 24597}, {\"kyc_first_completed\": \"5\", \"user_id\": 26150}, {\"kyc_first_completed\": \"6\", \"user_id\": 25448}, {\"kyc_first_completed\": \"7\", \"user_id\": 23925}, {\"kyc_first_completed\": \"8\", \"user_id\": 24361}, {\"kyc_first_completed\": \"9\", \"user_id\": 22910}, {\"kyc_first_completed\": \"10\", \"user_id\": 22750}, {\"kyc_first_completed\": \"11\", \"user_id\": 17922}, {\"kyc_first_completed\": \"12\", \"user_id\": 14095}, {\"kyc_first_completed\": \"13\", \"user_id\": 16232}, {\"kyc_first_completed\": \"14\", \"user_id\": 16964}, {\"kyc_first_completed\": \"15\", \"user_id\": 15241}, {\"kyc_first_completed\": \"16\", \"user_id\": 15520}, {\"kyc_first_completed\": \"17\", \"user_id\": 15666}, {\"kyc_first_completed\": \"18\", \"user_id\": 16495}, {\"kyc_first_completed\": \"19\", \"user_id\": 17312}, {\"kyc_first_completed\": \"20\", \"user_id\": 18724}, {\"kyc_first_completed\": \"21\", \"user_id\": 16107}, {\"kyc_first_completed\": \"22\", \"user_id\": 16611}, {\"kyc_first_completed\": \"23\", \"user_id\": 17551}, {\"kyc_first_completed\": \"24\", \"user_id\": 18703}, {\"kyc_first_completed\": \"25\", \"user_id\": 18460}, {\"kyc_first_completed\": \"26\", \"user_id\": 18050}, {\"kyc_first_completed\": \"27\", \"user_id\": 17080}]}}, {\"mode\": \"vega-lite\"});\n",
       "</script>"
      ],
      "text/plain": [
       "alt.Chart(...)"
      ]
     },
     "execution_count": 7,
     "metadata": {},
     "output_type": "execute_result"
    }
   ],
   "source": [
    "df = pd.read_csv(\"low_promo_code.csv\")\n",
    "\n",
    "# total signups daily.\n",
    "df[\"kyc_first_completed\"] = pd.to_datetime(df[\"kyc_first_completed\"]).dt.date\n",
    "df = df.loc[df[\"kyc_first_completed\"] < pd.to_datetime(\"2020-07-05\"), :]\n",
    "\n",
    "df[\"kyc_first_completed\"] = pd.to_datetime(df[\"kyc_first_completed\"]).dt.week\n",
    "\n",
    "df = df.loc[df[\"kyc_first_completed\"].isna() == False, :]\n",
    "\n",
    "df = df.groupby([\"kyc_first_completed\"])[\"user_id\"].agg(\"nunique\").reset_index()\n",
    "\n",
    "df[\"kyc_first_completed\"] = df[\"kyc_first_completed\"].astype(str)\n",
    "\n",
    "alt.Chart(df).mark_line().encode(\n",
    "    x=alt.X(\"kyc_first_completed:Q\", axis=alt.Axis(title=\"KYCc week\")),\n",
    "    y=alt.Y(\"user_id:Q\", axis=alt.Axis(title=\"Number of KYCc\")),\n",
    ").properties(width=500, height=500, title=\"# of KYCc\")"
   ]
  },
  {
   "cell_type": "code",
   "execution_count": 10,
   "metadata": {},
   "outputs": [
    {
     "data": {
      "text/html": [
       "\n",
       "<div id=\"altair-viz-0c7cddc4be7744deb64f4f9e85afb68f\"></div>\n",
       "<script type=\"text/javascript\">\n",
       "  (function(spec, embedOpt){\n",
       "    const outputDiv = document.getElementById(\"altair-viz-0c7cddc4be7744deb64f4f9e85afb68f\");\n",
       "    const paths = {\n",
       "      \"vega\": \"https://cdn.jsdelivr.net/npm//vega@5?noext\",\n",
       "      \"vega-lib\": \"https://cdn.jsdelivr.net/npm//vega-lib?noext\",\n",
       "      \"vega-lite\": \"https://cdn.jsdelivr.net/npm//vega-lite@4.0.2?noext\",\n",
       "      \"vega-embed\": \"https://cdn.jsdelivr.net/npm//vega-embed@6?noext\",\n",
       "    };\n",
       "\n",
       "    function loadScript(lib) {\n",
       "      return new Promise(function(resolve, reject) {\n",
       "        var s = document.createElement('script');\n",
       "        s.src = paths[lib];\n",
       "        s.async = true;\n",
       "        s.onload = () => resolve(paths[lib]);\n",
       "        s.onerror = () => reject(`Error loading script: ${paths[lib]}`);\n",
       "        document.getElementsByTagName(\"head\")[0].appendChild(s);\n",
       "      });\n",
       "    }\n",
       "\n",
       "    function showError(err) {\n",
       "      outputDiv.innerHTML = `<div class=\"error\" style=\"color:red;\">${err}</div>`;\n",
       "      throw err;\n",
       "    }\n",
       "\n",
       "    function displayChart(vegaEmbed) {\n",
       "      vegaEmbed(outputDiv, spec, embedOpt)\n",
       "        .catch(err => showError(`Javascript Error: ${err.message}<br>This usually means there's a typo in your chart specification. See the javascript console for the full traceback.`));\n",
       "    }\n",
       "\n",
       "    if(typeof define === \"function\" && define.amd) {\n",
       "      requirejs.config({paths});\n",
       "      require([\"vega-embed\"], displayChart, err => showError(`Error loading script: ${err.message}`));\n",
       "    } else if (typeof vegaEmbed === \"function\") {\n",
       "      displayChart(vegaEmbed);\n",
       "    } else {\n",
       "      loadScript(\"vega\")\n",
       "        .then(() => loadScript(\"vega-lite\"))\n",
       "        .then(() => loadScript(\"vega-embed\"))\n",
       "        .catch(showError)\n",
       "        .then(() => displayChart(vegaEmbed));\n",
       "    }\n",
       "  })({\"config\": {\"view\": {\"continuousWidth\": 400, \"continuousHeight\": 300}}, \"data\": {\"name\": \"data-73a249b267c4e451e22d081cf73b2410\"}, \"mark\": \"line\", \"encoding\": {\"color\": {\"type\": \"nominal\", \"field\": \"channel\"}, \"x\": {\"type\": \"quantitative\", \"axis\": {\"title\": \"KYCc week\"}, \"field\": \"kyc_first_completed\"}, \"y\": {\"type\": \"quantitative\", \"axis\": {\"title\": \"Number of kycc\"}, \"field\": \"user_id\"}}, \"height\": 500, \"title\": \"# of kycc\", \"width\": 500, \"$schema\": \"https://vega.github.io/schema/vega-lite/v4.0.2.json\", \"datasets\": {\"data-73a249b267c4e451e22d081cf73b2410\": [{\"kyc_first_completed\": \"1\", \"channel\": \"friend referral\", \"user_id\": 4003}, {\"kyc_first_completed\": \"1\", \"channel\": \"organic\", \"user_id\": 2330}, {\"kyc_first_completed\": \"1\", \"channel\": \"other\", \"user_id\": 879}, {\"kyc_first_completed\": \"1\", \"channel\": \"partnerships\", \"user_id\": 43}, {\"kyc_first_completed\": \"1\", \"channel\": \"performance\", \"user_id\": 4316}, {\"kyc_first_completed\": \"1\", \"channel\": \"seo\", \"user_id\": 1617}, {\"kyc_first_completed\": \"2\", \"channel\": \"friend referral\", \"user_id\": 6948}, {\"kyc_first_completed\": \"2\", \"channel\": \"organic\", \"user_id\": 4379}, {\"kyc_first_completed\": \"2\", \"channel\": \"other\", \"user_id\": 1578}, {\"kyc_first_completed\": \"2\", \"channel\": \"partnerships\", \"user_id\": 41}, {\"kyc_first_completed\": \"2\", \"channel\": \"performance\", \"user_id\": 8293}, {\"kyc_first_completed\": \"2\", \"channel\": \"seo\", \"user_id\": 2786}, {\"kyc_first_completed\": \"3\", \"channel\": \"friend referral\", \"user_id\": 6545}, {\"kyc_first_completed\": \"3\", \"channel\": \"organic\", \"user_id\": 4392}, {\"kyc_first_completed\": \"3\", \"channel\": \"other\", \"user_id\": 1593}, {\"kyc_first_completed\": \"3\", \"channel\": \"partnerships\", \"user_id\": 40}, {\"kyc_first_completed\": \"3\", \"channel\": \"performance\", \"user_id\": 8625}, {\"kyc_first_completed\": \"3\", \"channel\": \"seo\", \"user_id\": 2663}, {\"kyc_first_completed\": \"4\", \"channel\": \"friend referral\", \"user_id\": 6892}, {\"kyc_first_completed\": \"4\", \"channel\": \"organic\", \"user_id\": 4609}, {\"kyc_first_completed\": \"4\", \"channel\": \"other\", \"user_id\": 1603}, {\"kyc_first_completed\": \"4\", \"channel\": \"partnerships\", \"user_id\": 9}, {\"kyc_first_completed\": \"4\", \"channel\": \"performance\", \"user_id\": 8973}, {\"kyc_first_completed\": \"4\", \"channel\": \"seo\", \"user_id\": 2511}, {\"kyc_first_completed\": \"5\", \"channel\": \"friend referral\", \"user_id\": 7424}, {\"kyc_first_completed\": \"5\", \"channel\": \"organic\", \"user_id\": 4912}, {\"kyc_first_completed\": \"5\", \"channel\": \"other\", \"user_id\": 1742}, {\"kyc_first_completed\": \"5\", \"channel\": \"partnerships\", \"user_id\": 15}, {\"kyc_first_completed\": \"5\", \"channel\": \"performance\", \"user_id\": 9302}, {\"kyc_first_completed\": \"5\", \"channel\": \"seo\", \"user_id\": 2755}, {\"kyc_first_completed\": \"6\", \"channel\": \"friend referral\", \"user_id\": 7366}, {\"kyc_first_completed\": \"6\", \"channel\": \"organic\", \"user_id\": 4911}, {\"kyc_first_completed\": \"6\", \"channel\": \"other\", \"user_id\": 1728}, {\"kyc_first_completed\": \"6\", \"channel\": \"partnerships\", \"user_id\": 6}, {\"kyc_first_completed\": \"6\", \"channel\": \"performance\", \"user_id\": 8657}, {\"kyc_first_completed\": \"6\", \"channel\": \"seo\", \"user_id\": 2780}, {\"kyc_first_completed\": \"7\", \"channel\": \"friend referral\", \"user_id\": 7047}, {\"kyc_first_completed\": \"7\", \"channel\": \"organic\", \"user_id\": 4562}, {\"kyc_first_completed\": \"7\", \"channel\": \"other\", \"user_id\": 1576}, {\"kyc_first_completed\": \"7\", \"channel\": \"partnerships\", \"user_id\": 45}, {\"kyc_first_completed\": \"7\", \"channel\": \"performance\", \"user_id\": 8076}, {\"kyc_first_completed\": \"7\", \"channel\": \"seo\", \"user_id\": 2619}, {\"kyc_first_completed\": \"8\", \"channel\": \"friend referral\", \"user_id\": 7313}, {\"kyc_first_completed\": \"8\", \"channel\": \"organic\", \"user_id\": 4371}, {\"kyc_first_completed\": \"8\", \"channel\": \"other\", \"user_id\": 1741}, {\"kyc_first_completed\": \"8\", \"channel\": \"partnerships\", \"user_id\": 14}, {\"kyc_first_completed\": \"8\", \"channel\": \"performance\", \"user_id\": 8378}, {\"kyc_first_completed\": \"8\", \"channel\": \"seo\", \"user_id\": 2544}, {\"kyc_first_completed\": \"9\", \"channel\": \"friend referral\", \"user_id\": 6878}, {\"kyc_first_completed\": \"9\", \"channel\": \"organic\", \"user_id\": 3916}, {\"kyc_first_completed\": \"9\", \"channel\": \"other\", \"user_id\": 1630}, {\"kyc_first_completed\": \"9\", \"channel\": \"partnerships\", \"user_id\": 10}, {\"kyc_first_completed\": \"9\", \"channel\": \"performance\", \"user_id\": 8084}, {\"kyc_first_completed\": \"9\", \"channel\": \"seo\", \"user_id\": 2392}, {\"kyc_first_completed\": \"10\", \"channel\": \"friend referral\", \"user_id\": 6797}, {\"kyc_first_completed\": \"10\", \"channel\": \"organic\", \"user_id\": 3825}, {\"kyc_first_completed\": \"10\", \"channel\": \"other\", \"user_id\": 2190}, {\"kyc_first_completed\": \"10\", \"channel\": \"partnerships\", \"user_id\": 24}, {\"kyc_first_completed\": \"10\", \"channel\": \"performance\", \"user_id\": 7614}, {\"kyc_first_completed\": \"10\", \"channel\": \"seo\", \"user_id\": 2300}, {\"kyc_first_completed\": \"11\", \"channel\": \"friend referral\", \"user_id\": 4930}, {\"kyc_first_completed\": \"11\", \"channel\": \"organic\", \"user_id\": 3454}, {\"kyc_first_completed\": \"11\", \"channel\": \"other\", \"user_id\": 1325}, {\"kyc_first_completed\": \"11\", \"channel\": \"partnerships\", \"user_id\": 13}, {\"kyc_first_completed\": \"11\", \"channel\": \"performance\", \"user_id\": 6257}, {\"kyc_first_completed\": \"11\", \"channel\": \"seo\", \"user_id\": 1943}, {\"kyc_first_completed\": \"12\", \"channel\": \"friend referral\", \"user_id\": 3842}, {\"kyc_first_completed\": \"12\", \"channel\": \"organic\", \"user_id\": 2380}, {\"kyc_first_completed\": \"12\", \"channel\": \"other\", \"user_id\": 1057}, {\"kyc_first_completed\": \"12\", \"channel\": \"partnerships\", \"user_id\": 11}, {\"kyc_first_completed\": \"12\", \"channel\": \"performance\", \"user_id\": 5378}, {\"kyc_first_completed\": \"12\", \"channel\": \"seo\", \"user_id\": 1427}, {\"kyc_first_completed\": \"13\", \"channel\": \"friend referral\", \"user_id\": 4157}, {\"kyc_first_completed\": \"13\", \"channel\": \"organic\", \"user_id\": 2557}, {\"kyc_first_completed\": \"13\", \"channel\": \"other\", \"user_id\": 1206}, {\"kyc_first_completed\": \"13\", \"channel\": \"partnerships\", \"user_id\": 4}, {\"kyc_first_completed\": \"13\", \"channel\": \"performance\", \"user_id\": 6688}, {\"kyc_first_completed\": \"13\", \"channel\": \"seo\", \"user_id\": 1620}, {\"kyc_first_completed\": \"14\", \"channel\": \"friend referral\", \"user_id\": 4465}, {\"kyc_first_completed\": \"14\", \"channel\": \"organic\", \"user_id\": 2791}, {\"kyc_first_completed\": \"14\", \"channel\": \"other\", \"user_id\": 1367}, {\"kyc_first_completed\": \"14\", \"channel\": \"partnerships\", \"user_id\": 6}, {\"kyc_first_completed\": \"14\", \"channel\": \"performance\", \"user_id\": 6558}, {\"kyc_first_completed\": \"14\", \"channel\": \"seo\", \"user_id\": 1777}, {\"kyc_first_completed\": \"15\", \"channel\": \"friend referral\", \"user_id\": 3976}, {\"kyc_first_completed\": \"15\", \"channel\": \"organic\", \"user_id\": 2641}, {\"kyc_first_completed\": \"15\", \"channel\": \"other\", \"user_id\": 1164}, {\"kyc_first_completed\": \"15\", \"channel\": \"partnerships\", \"user_id\": 3}, {\"kyc_first_completed\": \"15\", \"channel\": \"performance\", \"user_id\": 5891}, {\"kyc_first_completed\": \"15\", \"channel\": \"seo\", \"user_id\": 1566}, {\"kyc_first_completed\": \"16\", \"channel\": \"friend referral\", \"user_id\": 4307}, {\"kyc_first_completed\": \"16\", \"channel\": \"organic\", \"user_id\": 2702}, {\"kyc_first_completed\": \"16\", \"channel\": \"other\", \"user_id\": 1163}, {\"kyc_first_completed\": \"16\", \"channel\": \"partnerships\", \"user_id\": 9}, {\"kyc_first_completed\": \"16\", \"channel\": \"performance\", \"user_id\": 5742}, {\"kyc_first_completed\": \"16\", \"channel\": \"seo\", \"user_id\": 1597}, {\"kyc_first_completed\": \"17\", \"channel\": \"friend referral\", \"user_id\": 4366}, {\"kyc_first_completed\": \"17\", \"channel\": \"organic\", \"user_id\": 2742}, {\"kyc_first_completed\": \"17\", \"channel\": \"other\", \"user_id\": 1191}, {\"kyc_first_completed\": \"17\", \"channel\": \"partnerships\", \"user_id\": 6}, {\"kyc_first_completed\": \"17\", \"channel\": \"performance\", \"user_id\": 5610}, {\"kyc_first_completed\": \"17\", \"channel\": \"seo\", \"user_id\": 1751}, {\"kyc_first_completed\": \"18\", \"channel\": \"friend referral\", \"user_id\": 4520}, {\"kyc_first_completed\": \"18\", \"channel\": \"organic\", \"user_id\": 2909}, {\"kyc_first_completed\": \"18\", \"channel\": \"other\", \"user_id\": 1306}, {\"kyc_first_completed\": \"18\", \"channel\": \"partnerships\", \"user_id\": 5}, {\"kyc_first_completed\": \"18\", \"channel\": \"performance\", \"user_id\": 5970}, {\"kyc_first_completed\": \"18\", \"channel\": \"seo\", \"user_id\": 1785}, {\"kyc_first_completed\": \"19\", \"channel\": \"friend referral\", \"user_id\": 4851}, {\"kyc_first_completed\": \"19\", \"channel\": \"organic\", \"user_id\": 3032}, {\"kyc_first_completed\": \"19\", \"channel\": \"other\", \"user_id\": 1313}, {\"kyc_first_completed\": \"19\", \"channel\": \"partnerships\", \"user_id\": 8}, {\"kyc_first_completed\": \"19\", \"channel\": \"performance\", \"user_id\": 6281}, {\"kyc_first_completed\": \"19\", \"channel\": \"seo\", \"user_id\": 1827}, {\"kyc_first_completed\": \"20\", \"channel\": \"friend referral\", \"user_id\": 5001}, {\"kyc_first_completed\": \"20\", \"channel\": \"organic\", \"user_id\": 3065}, {\"kyc_first_completed\": \"20\", \"channel\": \"other\", \"user_id\": 1604}, {\"kyc_first_completed\": \"20\", \"channel\": \"partnerships\", \"user_id\": 5}, {\"kyc_first_completed\": \"20\", \"channel\": \"performance\", \"user_id\": 7191}, {\"kyc_first_completed\": \"20\", \"channel\": \"seo\", \"user_id\": 1858}, {\"kyc_first_completed\": \"21\", \"channel\": \"friend referral\", \"user_id\": 4304}, {\"kyc_first_completed\": \"21\", \"channel\": \"organic\", \"user_id\": 2630}, {\"kyc_first_completed\": \"21\", \"channel\": \"other\", \"user_id\": 1903}, {\"kyc_first_completed\": \"21\", \"channel\": \"partnerships\", \"user_id\": 5}, {\"kyc_first_completed\": \"21\", \"channel\": \"performance\", \"user_id\": 5602}, {\"kyc_first_completed\": \"21\", \"channel\": \"seo\", \"user_id\": 1663}, {\"kyc_first_completed\": \"22\", \"channel\": \"friend referral\", \"user_id\": 4588}, {\"kyc_first_completed\": \"22\", \"channel\": \"organic\", \"user_id\": 2981}, {\"kyc_first_completed\": \"22\", \"channel\": \"other\", \"user_id\": 1222}, {\"kyc_first_completed\": \"22\", \"channel\": \"partnerships\", \"user_id\": 5}, {\"kyc_first_completed\": \"22\", \"channel\": \"performance\", \"user_id\": 6108}, {\"kyc_first_completed\": \"22\", \"channel\": \"seo\", \"user_id\": 1707}, {\"kyc_first_completed\": \"23\", \"channel\": \"friend referral\", \"user_id\": 4296}, {\"kyc_first_completed\": \"23\", \"channel\": \"organic\", \"user_id\": 3305}, {\"kyc_first_completed\": \"23\", \"channel\": \"other\", \"user_id\": 1377}, {\"kyc_first_completed\": \"23\", \"channel\": \"partnerships\", \"user_id\": 1}, {\"kyc_first_completed\": \"23\", \"channel\": \"performance\", \"user_id\": 6717}, {\"kyc_first_completed\": \"23\", \"channel\": \"seo\", \"user_id\": 1855}, {\"kyc_first_completed\": \"24\", \"channel\": \"friend referral\", \"user_id\": 4683}, {\"kyc_first_completed\": \"24\", \"channel\": \"organic\", \"user_id\": 3703}, {\"kyc_first_completed\": \"24\", \"channel\": \"other\", \"user_id\": 1421}, {\"kyc_first_completed\": \"24\", \"channel\": \"partnerships\", \"user_id\": 8}, {\"kyc_first_completed\": \"24\", \"channel\": \"performance\", \"user_id\": 6870}, {\"kyc_first_completed\": \"24\", \"channel\": \"seo\", \"user_id\": 2018}, {\"kyc_first_completed\": \"25\", \"channel\": \"friend referral\", \"user_id\": 4816}, {\"kyc_first_completed\": \"25\", \"channel\": \"organic\", \"user_id\": 3647}, {\"kyc_first_completed\": \"25\", \"channel\": \"other\", \"user_id\": 1454}, {\"kyc_first_completed\": \"25\", \"channel\": \"partnerships\", \"user_id\": 5}, {\"kyc_first_completed\": \"25\", \"channel\": \"performance\", \"user_id\": 6552}, {\"kyc_first_completed\": \"25\", \"channel\": \"seo\", \"user_id\": 1986}, {\"kyc_first_completed\": \"26\", \"channel\": \"friend referral\", \"user_id\": 3685}, {\"kyc_first_completed\": \"26\", \"channel\": \"organic\", \"user_id\": 3900}, {\"kyc_first_completed\": \"26\", \"channel\": \"other\", \"user_id\": 1475}, {\"kyc_first_completed\": \"26\", \"channel\": \"partnerships\", \"user_id\": 2}, {\"kyc_first_completed\": \"26\", \"channel\": \"performance\", \"user_id\": 6812}, {\"kyc_first_completed\": \"26\", \"channel\": \"seo\", \"user_id\": 2176}, {\"kyc_first_completed\": \"27\", \"channel\": \"friend referral\", \"user_id\": 2973}, {\"kyc_first_completed\": \"27\", \"channel\": \"organic\", \"user_id\": 3894}, {\"kyc_first_completed\": \"27\", \"channel\": \"other\", \"user_id\": 1429}, {\"kyc_first_completed\": \"27\", \"channel\": \"partnerships\", \"user_id\": 5}, {\"kyc_first_completed\": \"27\", \"channel\": \"performance\", \"user_id\": 6431}, {\"kyc_first_completed\": \"27\", \"channel\": \"seo\", \"user_id\": 2348}]}}, {\"mode\": \"vega-lite\"});\n",
       "</script>"
      ],
      "text/plain": [
       "alt.Chart(...)"
      ]
     },
     "execution_count": 10,
     "metadata": {},
     "output_type": "execute_result"
    }
   ],
   "source": [
    "df = pd.read_csv(\"low_promo_code.csv\")\n",
    "\n",
    "# total signups daily.\n",
    "df[\"kyc_first_completed\"] = pd.to_datetime(df[\"kyc_first_completed\"])\n",
    "df = df.loc[df[\"kyc_first_completed\"] < pd.to_datetime(\"2020-07-05\"), :]\n",
    "df[\"kyc_first_completed\"] = pd.to_datetime(df[\"kyc_first_completed\"]).dt.week\n",
    "\n",
    "# marketing channel\n",
    "df[\"channel\"] = \"other\"\n",
    "df.loc[\n",
    "    df[\"last_click_source\"].isin(\n",
    "        [\n",
    "            \"organic_social\",\n",
    "            \"other\",\n",
    "            \"lost_souls\",\n",
    "            \"crm\",\n",
    "            \"internal\",\n",
    "            \"direct\",\n",
    "            \"app_store\",\n",
    "            \"brand_influencer\",\n",
    "        ]\n",
    "    )\n",
    "    == True,\n",
    "    \"channel\",\n",
    "] = \"organic\"\n",
    "\n",
    "df.loc[df[\"last_click_source\"].isin([\"organic_search\"]) == True, \"channel\"] = \"seo\"\n",
    "df.loc[\n",
    "    df[\"last_click_source\"].isin(\n",
    "        [\n",
    "            \"paid_search\",\n",
    "            \"paid_search_non_brand\",\n",
    "            \"paid_search_brand\",\n",
    "            \"paid_search_unknown\",\n",
    "            \"paid_social\",\n",
    "            \"affiliate\",\n",
    "            \"display_ads\",\n",
    "        ]\n",
    "    )\n",
    "    == True,\n",
    "    \"channel\",\n",
    "] = \"performance\"\n",
    "\n",
    "df.loc[\n",
    "    df[\"last_click_source\"].isin([\"partnership\", \"ambassador\"]) == True, \"channel\"\n",
    "] = \"partnerships\"\n",
    "df.loc[\n",
    "    df[\"last_click_source\"].isin([\"email_friend_referral\", \"friend_referral\"]) == True,\n",
    "    \"channel\",\n",
    "] = \"friend referral\"\n",
    "\n",
    "df = df.loc[df[\"kyc_first_completed\"].isna() == False, :]\n",
    "\n",
    "df = (\n",
    "    df.groupby([\"kyc_first_completed\", \"channel\"])[\"user_id\"]\n",
    "    .agg(\"nunique\")\n",
    "    .reset_index()\n",
    ")\n",
    "\n",
    "df[\"kyc_first_completed\"] = df[\"kyc_first_completed\"].astype(str)\n",
    "\n",
    "alt.Chart(df).mark_line().encode(\n",
    "    x=alt.X(\"kyc_first_completed:Q\", axis=alt.Axis(title=\"KYCc week\")),\n",
    "    y=alt.Y(\"user_id:Q\", axis=alt.Axis(title=\"Number of kycc\")),\n",
    "    color=\"channel:N\",\n",
    ").properties(width=500, height=500, title=\"# of kycc\")"
   ]
  },
  {
   "cell_type": "markdown",
   "metadata": {},
   "source": [
    "We see a big drop in friend referral signups and a compensating surge in organic + seo signups. What could be causing this? \n",
    "\n",
    "The primary candidate is the \"promo-code\" feature that the signup team tested and launched. This feature removed the explicit promo-code step and instead included the promo-code entry on the password screen. \n",
    "\n",
    "Did we see a drop in friend referral signups in this test? Yes! On the one hand, we pushed % SUI to SU up by 0.7pp we also took a hit on % SU that are friend referrals. \n",
    "\n",
    "(Side note: this query now only looks at friend referral usage - the original analysis also considered whether a user had applied any other promo code. The effect size and pattern are the same across both versions but the level is lower if we only consider friend referral promo codes). \n",
    "\n",
    "- First graph - % of SU that have friend referral code from promo code experiment: variant performs 3-4pp lower than control. This is sth we already knew."
   ]
  },
  {
   "cell_type": "code",
   "execution_count": 3,
   "metadata": {},
   "outputs": [
    {
     "name": "stderr",
     "output_type": "stream",
     "text": [
      "/Users/fabioschmidt-fischbach/anaconda3/lib/python3.7/site-packages/IPython/core/interactiveshell.py:3057: DtypeWarning: Columns (33) have mixed types.Specify dtype option on import or set low_memory=False.\n",
      "  interactivity=interactivity, compiler=compiler, result=result)\n"
     ]
    },
    {
     "data": {
      "text/plain": [
       "[Text(0, 0.5, '% of SU using friend referral'), Text(0.5, 0, 'Group')]"
      ]
     },
     "execution_count": 3,
     "metadata": {},
     "output_type": "execute_result"
    },
    {
     "data": {
      "image/png": "[encoded data removed]",
      "text/plain": [
       "<Figure size 1080x576 with 1 Axes>"
      ]
     },
     "metadata": {
      "needs_background": "light"
     },
     "output_type": "display_data"
    }
   ],
   "source": [
    "import seaborn as sns\n",
    "from matplotlib import pyplot as plt\n",
    "\n",
    "df = pd.read_csv(\"low_promo_code.csv\")\n",
    "\n",
    "# total signups daily.\n",
    "df[\"user_created\"] = pd.to_datetime(df[\"user_created\"])\n",
    "df = df.loc[df[\"user_created\"] < pd.to_datetime(\"2020-07-05\"), :]\n",
    "\n",
    "df = df.loc[df[\"se_property\"].isin([\"promo_code_v2\", \"promo_code_v2_control\"]), :]\n",
    "\n",
    "df[\"referral\"] = 0\n",
    "df.loc[df[\"status\"].isna() == False, \"referral\"] = 100\n",
    "\n",
    "plt.figure(figsize=(15, 8))\n",
    "bar = sns.barplot(x=\"se_property\", y=\"referral\", data=df)\n",
    "bar.set(xlabel=\"Group\", ylabel=\"% of SU using friend referral\")"
   ]
  },
  {
   "cell_type": "markdown",
   "metadata": {},
   "source": [
    "The alarming thing is not that friend referrals went down but that they went down by much more than we expected. Below you see the % of SU that are friend referrals across time. The drop in the last two weeks exceeds the tested impact. "
   ]
  },
  {
   "cell_type": "code",
   "execution_count": 6,
   "metadata": {},
   "outputs": [
    {
     "data": {
      "text/html": [
       "\n",
       "<div id=\"altair-viz-b8b98a8f9e8049cf887008c69540e944\"></div>\n",
       "<script type=\"text/javascript\">\n",
       "  (function(spec, embedOpt){\n",
       "    const outputDiv = document.getElementById(\"altair-viz-b8b98a8f9e8049cf887008c69540e944\");\n",
       "    const paths = {\n",
       "      \"vega\": \"https://cdn.jsdelivr.net/npm//vega@5?noext\",\n",
       "      \"vega-lib\": \"https://cdn.jsdelivr.net/npm//vega-lib?noext\",\n",
       "      \"vega-lite\": \"https://cdn.jsdelivr.net/npm//vega-lite@4.0.2?noext\",\n",
       "      \"vega-embed\": \"https://cdn.jsdelivr.net/npm//vega-embed@6?noext\",\n",
       "    };\n",
       "\n",
       "    function loadScript(lib) {\n",
       "      return new Promise(function(resolve, reject) {\n",
       "        var s = document.createElement('script');\n",
       "        s.src = paths[lib];\n",
       "        s.async = true;\n",
       "        s.onload = () => resolve(paths[lib]);\n",
       "        s.onerror = () => reject(`Error loading script: ${paths[lib]}`);\n",
       "        document.getElementsByTagName(\"head\")[0].appendChild(s);\n",
       "      });\n",
       "    }\n",
       "\n",
       "    function showError(err) {\n",
       "      outputDiv.innerHTML = `<div class=\"error\" style=\"color:red;\">${err}</div>`;\n",
       "      throw err;\n",
       "    }\n",
       "\n",
       "    function displayChart(vegaEmbed) {\n",
       "      vegaEmbed(outputDiv, spec, embedOpt)\n",
       "        .catch(err => showError(`Javascript Error: ${err.message}<br>This usually means there's a typo in your chart specification. See the javascript console for the full traceback.`));\n",
       "    }\n",
       "\n",
       "    if(typeof define === \"function\" && define.amd) {\n",
       "      requirejs.config({paths});\n",
       "      require([\"vega-embed\"], displayChart, err => showError(`Error loading script: ${err.message}`));\n",
       "    } else if (typeof vegaEmbed === \"function\") {\n",
       "      displayChart(vegaEmbed);\n",
       "    } else {\n",
       "      loadScript(\"vega\")\n",
       "        .then(() => loadScript(\"vega-lite\"))\n",
       "        .then(() => loadScript(\"vega-embed\"))\n",
       "        .catch(showError)\n",
       "        .then(() => displayChart(vegaEmbed));\n",
       "    }\n",
       "  })({\"config\": {\"view\": {\"continuousWidth\": 400, \"continuousHeight\": 300}}, \"data\": {\"name\": \"data-e76a37eafae2788d34a1eb5cd6a79ec1\"}, \"mark\": \"line\", \"encoding\": {\"x\": {\"type\": \"quantitative\", \"axis\": {\"title\": \"Signup week\"}, \"field\": \"user_created\"}, \"y\": {\"type\": \"quantitative\", \"axis\": {\"format\": \"%\", \"title\": \"% of SU that are friend referral\"}, \"field\": \"referral\"}}, \"height\": 500, \"title\": \"% of SU that are friend referral over time\", \"width\": 500, \"$schema\": \"https://vega.github.io/schema/vega-lite/v4.0.2.json\", \"datasets\": {\"data-e76a37eafae2788d34a1eb5cd6a79ec1\": [{\"user_created\": 1, \"referral\": 0.2394521410579345}, {\"user_created\": 2, \"referral\": 0.2295591851357293}, {\"user_created\": 3, \"referral\": 0.22600599036332855}, {\"user_created\": 4, \"referral\": 0.22509260289652322}, {\"user_created\": 5, \"referral\": 0.23244197627742733}, {\"user_created\": 6, \"referral\": 0.2385324082348927}, {\"user_created\": 7, \"referral\": 0.23734859322842156}, {\"user_created\": 8, \"referral\": 0.23591042658830683}, {\"user_created\": 9, \"referral\": 0.2379123529630042}, {\"user_created\": 10, \"referral\": 0.23845710504407966}, {\"user_created\": 11, \"referral\": 0.22380266474612892}, {\"user_created\": 12, \"referral\": 0.19242873570174907}, {\"user_created\": 13, \"referral\": 0.18026275588145432}, {\"user_created\": 14, \"referral\": 0.20152160840806296}, {\"user_created\": 15, \"referral\": 0.2071849358300021}, {\"user_created\": 16, \"referral\": 0.22161086134782707}, {\"user_created\": 17, \"referral\": 0.21899454246195604}, {\"user_created\": 18, \"referral\": 0.22788432689422788}, {\"user_created\": 19, \"referral\": 0.23584284709140016}, {\"user_created\": 20, \"referral\": 0.2230140868550471}, {\"user_created\": 21, \"referral\": 0.22546789860222696}, {\"user_created\": 22, \"referral\": 0.23571198732704637}, {\"user_created\": 23, \"referral\": 0.20491192096187902}, {\"user_created\": 24, \"referral\": 0.22185903583801453}, {\"user_created\": 25, \"referral\": 0.22298996218495715}, {\"user_created\": 26, \"referral\": 0.17011366900570396}, {\"user_created\": 27, \"referral\": 0.14099414943504088}]}}, {\"mode\": \"vega-lite\"});\n",
       "</script>"
      ],
      "text/plain": [
       "alt.Chart(...)"
      ]
     },
     "execution_count": 6,
     "metadata": {},
     "output_type": "execute_result"
    }
   ],
   "source": [
    "df = pd.read_csv(\"low_promo_code.csv\")\n",
    "\n",
    "# total signups daily.\n",
    "df[\"user_created\"] = pd.to_datetime(df[\"user_created\"])\n",
    "df = df.loc[df[\"user_created\"] < pd.to_datetime(\"2020-07-05\"), :]\n",
    "df[\"user_created\"] = pd.to_datetime(df[\"user_created\"]).dt.week\n",
    "\n",
    "df[\"referral\"] = 0\n",
    "df.loc[df[\"status\"].isna() == False, \"referral\"] = 1\n",
    "df = df.groupby([\"user_created\"])[\"referral\"].agg(\"mean\").reset_index()\n",
    "\n",
    "alt.Chart(df).mark_line().encode(\n",
    "    x=alt.X(\"user_created:Q\", axis=alt.Axis(title=\"Signup week\")),\n",
    "    y=alt.Y(\n",
    "        \"referral:Q\",\n",
    "        axis=alt.Axis(title=\"% of SU that are friend referral\", format=\"%\"),\n",
    "    ),\n",
    ").properties(width=500, height=500, title=\"% of SU that are friend referral over time\")"
   ]
  },
  {
   "cell_type": "markdown",
   "metadata": {},
   "source": [
    " #### Hypothesis 1. This is just an attribution problem - people still sign up with friend referral codes. \n",
    " \n",
    " The way to check this is to not look at marketing attribution (that is generated from snowplow data) but rather from the backend data from uranium. \n",
    " \n",
    "- Number of friend referral signups in the backend also decreased: our attribution is hence still working as intended. What pushes friend referrals down is a lower % of users entering a promo code. "
   ]
  },
  {
   "cell_type": "code",
   "execution_count": 51,
   "metadata": {},
   "outputs": [
    {
     "data": {
      "text/html": [
       "\n",
       "<div id=\"altair-viz-4b119c0f32f148acba84c0b7bd54383b\"></div>\n",
       "<script type=\"text/javascript\">\n",
       "  (function(spec, embedOpt){\n",
       "    const outputDiv = document.getElementById(\"altair-viz-4b119c0f32f148acba84c0b7bd54383b\");\n",
       "    const paths = {\n",
       "      \"vega\": \"https://cdn.jsdelivr.net/npm//vega@5?noext\",\n",
       "      \"vega-lib\": \"https://cdn.jsdelivr.net/npm//vega-lib?noext\",\n",
       "      \"vega-lite\": \"https://cdn.jsdelivr.net/npm//vega-lite@4.0.2?noext\",\n",
       "      \"vega-embed\": \"https://cdn.jsdelivr.net/npm//vega-embed@6?noext\",\n",
       "    };\n",
       "\n",
       "    function loadScript(lib) {\n",
       "      return new Promise(function(resolve, reject) {\n",
       "        var s = document.createElement('script');\n",
       "        s.src = paths[lib];\n",
       "        s.async = true;\n",
       "        s.onload = () => resolve(paths[lib]);\n",
       "        s.onerror = () => reject(`Error loading script: ${paths[lib]}`);\n",
       "        document.getElementsByTagName(\"head\")[0].appendChild(s);\n",
       "      });\n",
       "    }\n",
       "\n",
       "    function showError(err) {\n",
       "      outputDiv.innerHTML = `<div class=\"error\" style=\"color:red;\">${err}</div>`;\n",
       "      throw err;\n",
       "    }\n",
       "\n",
       "    function displayChart(vegaEmbed) {\n",
       "      vegaEmbed(outputDiv, spec, embedOpt)\n",
       "        .catch(err => showError(`Javascript Error: ${err.message}<br>This usually means there's a typo in your chart specification. See the javascript console for the full traceback.`));\n",
       "    }\n",
       "\n",
       "    if(typeof define === \"function\" && define.amd) {\n",
       "      requirejs.config({paths});\n",
       "      require([\"vega-embed\"], displayChart, err => showError(`Error loading script: ${err.message}`));\n",
       "    } else if (typeof vegaEmbed === \"function\") {\n",
       "      displayChart(vegaEmbed);\n",
       "    } else {\n",
       "      loadScript(\"vega\")\n",
       "        .then(() => loadScript(\"vega-lite\"))\n",
       "        .then(() => loadScript(\"vega-embed\"))\n",
       "        .catch(showError)\n",
       "        .then(() => displayChart(vegaEmbed));\n",
       "    }\n",
       "  })({\"config\": {\"view\": {\"continuousWidth\": 400, \"continuousHeight\": 300}}, \"data\": {\"name\": \"data-274d5a4a490ba6b47cc78d72690299cc\"}, \"mark\": \"line\", \"encoding\": {\"x\": {\"type\": \"quantitative\", \"axis\": {\"title\": \"Signup week\"}, \"field\": \"user_created\"}, \"y\": {\"type\": \"quantitative\", \"axis\": {\"title\": \"Number of signups registered in uranium\"}, \"field\": \"referral\"}}, \"height\": 500, \"title\": \"# of signups registered in the backend as friend referral\", \"width\": 500, \"$schema\": \"https://vega.github.io/schema/vega-lite/v4.0.2.json\", \"datasets\": {\"data-274d5a4a490ba6b47cc78d72690299cc\": [{\"user_created\": 1, \"referral\": 9126}, {\"user_created\": 2, \"referral\": 14097}, {\"user_created\": 3, \"referral\": 13884}, {\"user_created\": 4, \"referral\": 14159}, {\"user_created\": 5, \"referral\": 15403}, {\"user_created\": 6, \"referral\": 14680}, {\"user_created\": 7, \"referral\": 12443}, {\"user_created\": 8, \"referral\": 11641}, {\"user_created\": 9, \"referral\": 12823}, {\"user_created\": 10, \"referral\": 11171}, {\"user_created\": 11, \"referral\": 7458}, {\"user_created\": 12, \"referral\": 6359}, {\"user_created\": 13, \"referral\": 7080}, {\"user_created\": 14, \"referral\": 7708}, {\"user_created\": 15, \"referral\": 7878}, {\"user_created\": 16, \"referral\": 9908}, {\"user_created\": 17, \"referral\": 7584}, {\"user_created\": 18, \"referral\": 9874}, {\"user_created\": 19, \"referral\": 10391}, {\"user_created\": 20, \"referral\": 10702}, {\"user_created\": 21, \"referral\": 9517}, {\"user_created\": 22, \"referral\": 9523}, {\"user_created\": 23, \"referral\": 8794}, {\"user_created\": 24, \"referral\": 11335}, {\"user_created\": 25, \"referral\": 11263}, {\"user_created\": 26, \"referral\": 8291}, {\"user_created\": 27, \"referral\": 6314}]}}, {\"mode\": \"vega-lite\"});\n",
       "</script>"
      ],
      "text/plain": [
       "alt.Chart(...)"
      ]
     },
     "execution_count": 51,
     "metadata": {},
     "output_type": "execute_result"
    }
   ],
   "source": [
    "df = pd.read_csv(\"low_promo_code.csv\")\n",
    "\n",
    "# total signups daily.\n",
    "df[\"user_created\"] = pd.to_datetime(df[\"user_created\"])\n",
    "df = df.loc[df[\"user_created\"] < pd.to_datetime(\"2020-07-05\"), :]\n",
    "df[\"user_created\"] = pd.to_datetime(df[\"user_created\"]).dt.week\n",
    "\n",
    "df[\"referral\"] = 0\n",
    "df.loc[df[\"status\"].isna() == False, \"referral\"] = 1\n",
    "df = df.groupby([\"user_created\"])[\"referral\"].agg(\"sum\").reset_index()\n",
    "\n",
    "alt.Chart(df).mark_line().encode(\n",
    "    x=alt.X(\"user_created:Q\", axis=alt.Axis(title=\"Signup week\")),\n",
    "    y=alt.Y(\n",
    "        \"referral:Q\", axis=alt.Axis(title=\"Number of signups registered in uranium\")\n",
    "    ),\n",
    ").properties(\n",
    "    width=500,\n",
    "    height=500,\n",
    "    title=\"# of signups registered in the backend as friend referral\",\n",
    ")"
   ]
  },
  {
   "cell_type": "markdown",
   "metadata": {},
   "source": [
    "#### Hypothesis 2. Fewer people click on the promo code field now. \n",
    "\n",
    "We changed the event that was tracking this. Prior the experiment we measure the number of users entering a promo code with the 631 (registration.field_filled) event looking for promo code entries regardless of whether the user entered a valid code or not. \n",
    "\n",
    "During and after launch of the feature, the signup team introduced an explicit event for promo code entry that only fires if the code is valid (action = registration.promo_code_entered). This is a more strict definition than before introducing a (hard to quantify) downward bias in the time series. \n",
    "\n",
    "- Below I visualize the number of users entering a promo code. This seem to have stayed roughly stable. In terms of quantity, we roughly get 3-5k users each week clicking this which seems reasonable. "
   ]
  },
  {
   "cell_type": "code",
   "execution_count": 56,
   "metadata": {},
   "outputs": [],
   "source": [
    "Query = \"\"\"\n",
    "select collector_date, count(1) \n",
    "from dbt.snowplow as sn \n",
    "left join dbt.stg_web_userid  as web on sn.event_id = web.event_id and sn.collector_tstamp >= current_date - interval '2 months'\n",
    "where collector_date >= current_date - interval '2 months' and \n",
    "    (( event_type = 631 and json_extract_path_text(se_label, 'fieldName') like 'promo%')\n",
    "    or \n",
    "    ( event_type = -18473325 ))\n",
    "    and collector_date < current_date \n",
    "group by 1\n",
    "order by 1 \n",
    "\"\"\""
   ]
  },
  {
   "cell_type": "markdown",
   "metadata": {},
   "source": [
    "![](promo_entries.png)"
   ]
  },
  {
   "cell_type": "markdown",
   "metadata": {},
   "source": [
    "#### Hypothesis 3. More errors are fired. \n",
    "\n",
    "It looks like we removed tracking for this with the new feature. "
   ]
  },
  {
   "cell_type": "code",
   "execution_count": null,
   "metadata": {},
   "outputs": [],
   "source": [
    "query = \"\"\"\n",
    "select collector_date, count(distinct web.user_created) \n",
    "from dbt.snowplow as sn \n",
    "left join dbt.stg_web_userid  as web on sn.event_id = web.event_id and sn.collector_tstamp >= current_date - interval '2 months'\n",
    "where collector_date >= current_date - interval '2 months' and \n",
    "    ( event_type = 632 and json_extract_path_text(se_label, 'fieldName') like 'promo%')\n",
    "    and collector_date < current_date \n",
    "group by 1\n",
    "order by 1 \n",
    "\n",
    "\n",
    "\"\"\""
   ]
  },
  {
   "cell_type": "markdown",
   "metadata": {},
   "source": [
    "#### Hypothesis 4. Re-engagement"
   ]
  },
  {
   "cell_type": "code",
   "execution_count": 4,
   "metadata": {},
   "outputs": [
    {
     "data": {
      "text/plain": [
       "[Text(0, 0.5, '% of SU using friend referral'), Text(0.5, 0, 'Group')]"
      ]
     },
     "execution_count": 4,
     "metadata": {},
     "output_type": "execute_result"
    },
    {
     "data": {
      "image/png": "[encoded data removed]",
      "text/plain": [
       "<Figure size 1080x576 with 1 Axes>"
      ]
     },
     "metadata": {
      "needs_background": "light"
     },
     "output_type": "display_data"
    }
   ],
   "source": [
    "import seaborn as sns\n",
    "from matplotlib import pyplot as plt\n",
    "\n",
    "df = pd.read_csv(\"low_promo_code.csv\")\n",
    "\n",
    "# total signups daily.\n",
    "df[\"user_created\"] = pd.to_datetime(df[\"user_created\"])\n",
    "df = df.loc[df[\"user_created\"] < pd.to_datetime(\"2020-07-05\"), :]\n",
    "\n",
    "df = df.loc[\n",
    "    df[\"se_property\"].isin([\"user_reengagement\", \"user_reengagement_control\"]), :\n",
    "]\n",
    "\n",
    "df[\"referral\"] = 0\n",
    "df.loc[df[\"status\"].isna() == False, \"referral\"] = 100\n",
    "\n",
    "plt.figure(figsize=(15, 8))\n",
    "bar = sns.barplot(x=\"se_property\", y=\"referral\", data=df)\n",
    "bar.set(xlabel=\"Group\", ylabel=\"% of SU using friend referral\")"
   ]
  },
  {
   "cell_type": "code",
   "execution_count": null,
   "metadata": {},
   "outputs": [],
   "source": [
    "import seaborn as sns\n",
    "from matplotlib import pyplot as plt\n",
    "\n",
    "df = pd.read_csv(\"low_promo_code.csv\")\n",
    "\n",
    "# total signups daily.\n",
    "df[\"user_created\"] = pd.to_datetime(df[\"user_created\"])\n",
    "df = df.loc[df[\"user_created\"] < pd.to_datetime(\"2020-07-05\"), :]\n",
    "df = df.loc[df[\"user_created\"] > pd.to_datetime(\"2020-05-01\"), :]\n",
    "\n",
    "df = df.loc[\n",
    "    df[\"se_property\"].isin([\"user_reengagement\", \"user_reengagement_control\"]), :\n",
    "]\n",
    "\n",
    "df[\"referral\"] = 0\n",
    "df.loc[df[\"status\"].isna() == False, \"referral\"] = 100\n",
    "\n",
    "plt.figure(figsize=(15, 8))\n",
    "bar = sns.barplot(x=\"user_created\", y=\"referral\", hue=\"se_property\", data=df)\n",
    "bar.set(xlabel=\"Week\", ylabel=\"% of SU using friend referral\")"
   ]
  }
 ],
 "metadata": {
  "kernelspec": {
   "display_name": "Python 3",
   "language": "python",
   "name": "python3"
  },
  "language_info": {
   "codemirror_mode": {
    "name": "ipython",
    "version": 3
   },
   "file_extension": ".py",
   "mimetype": "text/x-python",
   "name": "python",
   "nbconvert_exporter": "python",
   "pygments_lexer": "ipython3",
   "version": "3.7.3"
  }
 },
 "nbformat": 4,
 "nbformat_minor": 2
}
