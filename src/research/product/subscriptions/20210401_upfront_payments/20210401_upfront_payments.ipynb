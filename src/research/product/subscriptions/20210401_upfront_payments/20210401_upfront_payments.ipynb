{
 "cells": [
  {
   "cell_type": "markdown",
   "metadata": {},
   "source": [
    "title: Statistics behind upfront payment testing        \n",
    "author: Fabio Schmidt-Fischbach   \n",
    "date: 2021-07-05  \n",
    "region: EU   \n",
    "link: https://docs.google.com/presentation/d/148z3P03Nr_l2qpP8w4SvsIhoi1CN-OyoQAz6EIEBcqU/edit?usp=sharing     \n",
    "tags: memberships, xsell, discount, upfront payments, upfront, premium, retention, monetization, bayesian, experimentation   \n",
    "\n",
    "summary: \"This proposes a way to run experiments in the context of the upfront payment functionality. The key challenge is to quantify the uncertainty around a non-binary outcome (revenue per user) in a Bayesian way. We do so by modelling revenue per user as a random variable composed by a \"product selection\" (dirichlet), a \"price\" and a retention (beta) component.\"\n"
   ]
  },
  {
   "cell_type": "code",
   "execution_count": 3,
   "metadata": {},
   "outputs": [],
   "source": [
    "import pandas as pd\n",
    "import scipy as sc\n",
    "import altair as alt"
   ]
  },
  {
   "cell_type": "markdown",
   "metadata": {},
   "source": [
    "## What is our north star metric? \n",
    "\n",
    "We model expected premium fee revenue within 12 months per user as our ultimate success metric. \n",
    "\n",
    "## Why is that hard? \n",
    "\n",
    "For users that don't choose to pay upfront 12 months in advance, we actually don't know how much they'll pay us. How can we compare these user groups? "
   ]
  },
  {
   "cell_type": "markdown",
   "metadata": {},
   "source": [
    "## How does our experiment look like? \n",
    "\n",
    "- Control group: only gets monthly billing options \n",
    "- Variant group(s): different design, differnt payment options (e.g. we vary frequency of payment and or discounts attached to different payment plans) "
   ]
  },
  {
   "cell_type": "markdown",
   "metadata": {},
   "source": [
    "## Modelling revenue per user as (x-sell) x (% that pay)"
   ]
  },
  {
   "cell_type": "markdown",
   "metadata": {},
   "source": [
    "Revenue per user consists of two levers\n",
    "\n",
    "- x-sell e.g. what % of people pick which plan and tier \n",
    "- retention e.g. what % of people that picked each plan also pay their bill. \n",
    "\n",
    "We believe that upfront payments can influence revenue per user through both levers - we should hence try to capture both effects as well as possible. \n",
    "\n",
    "\n",
    "\n",
    "\n",
    "\n",
    "\n",
    "\n",
    "\n",
    "\n",
    "\n",
    "\n",
    "\n",
    "\n",
    "\n",
    "\n",
    "\n",
    "\n",
    "\n",
    "\n",
    "\n",
    "\n"
   ]
  },
  {
   "cell_type": "markdown",
   "metadata": {},
   "source": [
    "Let \n",
    "- $ i \\in \\{1,2,3...\\}$ be the index for the variants we want to compare.\n",
    "- $ j$ be a particular payment plan in variant i which we can attach a front-loaded nominal price tag $p_{i,j}$. For the monthly smart tier $p_{control,smart-monthly}$ this would be $12 \\times 4.90 = 58.80$. \n",
    "- let $f(i,j)$ be a pmf that summarizes how likely a user is to choose j if being presented variant i. If in variant-A 10% of users pick the monthly smart plan, then f(variant_a, monthly-smart)=10%. \n",
    "- let $d(i,j) \\in [0,1] $ be a random variable that discounts the nominal price $p_{i,j}$ to account for churn. If $E(d(variant_a, smart-monthly)) = 50\\%$ then we actually don't expect to collect 58.80 but 29.4 from each user that makes that choice.\n",
    "\n",
    "Then the expected revenue per user $r_{i}$ from a variant can be summarized by \n",
    "\n",
    "$ r_{i} = \\sum_{j} f_{i,j}(\\theta_{i})) \\times p_{i,j} \\times d_{i,j}(\\delta_{i})$\n",
    "\n",
    "This sum consists of two stochastic elements (x-sell and discount factors) that we need to estimate and one vector of scalars $ p_{i,j} $ that we already know. The remaining challenge is to derive posterior distribution for the x-sell and the discount factor component of our formula. \n",
    "\n",
    "\n",
    "\n"
   ]
  },
  {
   "cell_type": "markdown",
   "metadata": {},
   "source": [
    "## How to model x-sell choices"
   ]
  },
  {
   "cell_type": "markdown",
   "metadata": {},
   "source": [
    "We usually model events in AB tests that can only have two outcomes : convert or not. In our x-sell experiment, there are many more different possibilities. Imagine, we present 3 premium tiers and 2 different payment plans for each (monthly, yearly). In this scenario, a user can pick $3 \\times 2$ + 1 (\"not-premium\") = 7 different things."
   ]
  },
  {
   "cell_type": "markdown",
   "metadata": {},
   "source": [
    "We hence model a user's choices $f_{i,j}(\\theta_{i})$ in variant $i$ as a draw from a multinomial distribution (https://en.wikipedia.org/wiki/Multinomial_distribution). This is a natural choice and also handy since the multinomial distribution has a easy-to-handle-conjugate prior (Dirichlet) for the use in Bayesian statistics. \n",
    "\n",
    "Bayesian inference of the Dirichlet's parameters (e.g. the x-sell probabilities of each plan $j$) is standard. "
   ]
  },
  {
   "cell_type": "markdown",
   "metadata": {},
   "source": [
    "## How to model discount factors "
   ]
  },
  {
   "cell_type": "markdown",
   "metadata": {},
   "source": [
    "Here, we need to cut some corners since we won't be able to wait 12 months until actual payments have realized. I propose to model a discount factor associated with variant $i$ and plan $j$ as a Bernoulli process (beta prior). Think of a bernoulli RV to model the probability of an (un-) fair coin showing heads at a coin. The expected value of this flip is the discount rate we want to estimate. \n",
    "\n",
    "- For the monthly payment, I propose to estimate the discount rate wit historicals and fix them via the priors of the Beta prior to the Bernoulli (basically, we'd not add evidence to the prior and sample from it directly). \n",
    "- For the upfront payments, I propose to grant a user 14 days to pay. All users that pay within that timeframe would be considered a conversion, everyone else not. This is what I'd use to feed as evidence into the prior. For upfront plans that require more than one payment $t$, I propose to compute the discount rate:\n",
    "\n",
    "$ d_{i,j}(\\delta_{i}) =\\delta_{i,j}^{t}$.\n",
    "\n",
    "As an example, if our posterior for the first payment of our bi-annual plan centers around 70%, then we'd use $0.7^{2}=0.49$ as the discount factor.\n"
   ]
  },
  {
   "cell_type": "markdown",
   "metadata": {},
   "source": [
    "Modelling this as a bernoulli process makes inference fairly easy (since we know how to handle a beta prior). "
   ]
  },
  {
   "cell_type": "markdown",
   "metadata": {},
   "source": [
    "## Sampling from the posteriors"
   ]
  },
  {
   "cell_type": "markdown",
   "metadata": {},
   "source": [
    "We can use the loss-function approach to compare the posteriors. To do so, we sample x-sell weights from f(i,j) and discount factors d(i,j) from the posteriors and plug it into \n",
    "\n",
    "$ r_{i}(\\theta_{i}, \\delta_{i}) = \\sum_{j} f_{i,j}(\\theta_{i}) \\times p_{i,j} \\times d_{i,j}(\\delta_{i})$\n",
    "\n",
    "for each variant i. \n",
    "\n",
    "This returns one sample for revenue for each variant. We repeat this M times and then compare whether $r_{A} > r_{B}$. Prob(A>B) is # of times $(r_{A} > r_{B})/ M$. \n",
    "\n",
    "Compare this paper for a similar analysis. \n",
    "\n",
    "https://cdn2.hubspot.net/hubfs/310840/VWO_SmartStats_technical_whitepaper.pdf"
   ]
  },
  {
   "cell_type": "markdown",
   "metadata": {},
   "source": [
    "## Deriving priors for monthly options "
   ]
  },
  {
   "cell_type": "code",
   "execution_count": null,
   "metadata": {},
   "outputs": [],
   "source": []
  },
  {
   "cell_type": "code",
   "execution_count": null,
   "metadata": {},
   "outputs": [],
   "source": []
  },
  {
   "cell_type": "code",
   "execution_count": null,
   "metadata": {},
   "outputs": [],
   "source": []
  },
  {
   "cell_type": "code",
   "execution_count": 2,
   "metadata": {},
   "outputs": [
    {
     "data": {
      "text/html": [
       "\n",
       "<div id=\"altair-viz-f7ae1d41724c43d39d4ea9954c9c5e51\"></div>\n",
       "<script type=\"text/javascript\">\n",
       "  (function(spec, embedOpt){\n",
       "    let outputDiv = document.currentScript.previousElementSibling;\n",
       "    if (outputDiv.id !== \"altair-viz-f7ae1d41724c43d39d4ea9954c9c5e51\") {\n",
       "      outputDiv = document.getElementById(\"altair-viz-f7ae1d41724c43d39d4ea9954c9c5e51\");\n",
       "    }\n",
       "    const paths = {\n",
       "      \"vega\": \"https://cdn.jsdelivr.net/npm//vega@5?noext\",\n",
       "      \"vega-lib\": \"https://cdn.jsdelivr.net/npm//vega-lib?noext\",\n",
       "      \"vega-lite\": \"https://cdn.jsdelivr.net/npm//vega-lite@4.8.1?noext\",\n",
       "      \"vega-embed\": \"https://cdn.jsdelivr.net/npm//vega-embed@6?noext\",\n",
       "    };\n",
       "\n",
       "    function loadScript(lib) {\n",
       "      return new Promise(function(resolve, reject) {\n",
       "        var s = document.createElement('script');\n",
       "        s.src = paths[lib];\n",
       "        s.async = true;\n",
       "        s.onload = () => resolve(paths[lib]);\n",
       "        s.onerror = () => reject(`Error loading script: ${paths[lib]}`);\n",
       "        document.getElementsByTagName(\"head\")[0].appendChild(s);\n",
       "      });\n",
       "    }\n",
       "\n",
       "    function showError(err) {\n",
       "      outputDiv.innerHTML = `<div class=\"error\" style=\"color:red;\">${err}</div>`;\n",
       "      throw err;\n",
       "    }\n",
       "\n",
       "    function displayChart(vegaEmbed) {\n",
       "      vegaEmbed(outputDiv, spec, embedOpt)\n",
       "        .catch(err => showError(`Javascript Error: ${err.message}<br>This usually means there's a typo in your chart specification. See the javascript console for the full traceback.`));\n",
       "    }\n",
       "\n",
       "    if(typeof define === \"function\" && define.amd) {\n",
       "      requirejs.config({paths});\n",
       "      require([\"vega-embed\"], displayChart, err => showError(`Error loading script: ${err.message}`));\n",
       "    } else if (typeof vegaEmbed === \"function\") {\n",
       "      displayChart(vegaEmbed);\n",
       "    } else {\n",
       "      loadScript(\"vega\")\n",
       "        .then(() => loadScript(\"vega-lite\"))\n",
       "        .then(() => loadScript(\"vega-embed\"))\n",
       "        .catch(showError)\n",
       "        .then(() => displayChart(vegaEmbed));\n",
       "    }\n",
       "  })({\"config\": {\"view\": {\"continuousWidth\": 400, \"continuousHeight\": 300}}, \"data\": {\"name\": \"data-c3ce208031808ce96682c0c2b4cd9b4c\"}, \"mark\": \"line\", \"encoding\": {\"color\": {\"type\": \"nominal\", \"field\": \"tier\"}, \"x\": {\"type\": \"nominal\", \"field\": \"payment_no\"}, \"y\": {\"type\": \"quantitative\", \"field\": \"payment\"}}, \"height\": 500, \"width\": 500, \"$schema\": \"https://vega.github.io/schema/vega-lite/v4.8.1.json\", \"datasets\": {\"data-c3ce208031808ce96682c0c2b4cd9b4c\": [{\"payment_no\": 1, \"tier\": \"Metal\", \"price\": 16.9, \"users\": 78496, \"paid\": 51930, \"payment\": 66.15623726049735}, {\"payment_no\": 1, \"tier\": \"Smart\", \"price\": 4.9, \"users\": 8106, \"paid\": 7623, \"payment\": 94.04145077720207}, {\"payment_no\": 1, \"tier\": \"You\", \"price\": 9.9, \"users\": 66979, \"paid\": 49362, \"payment\": 73.69772615297332}, {\"payment_no\": 2, \"tier\": \"Metal\", \"price\": 16.9, \"users\": 74630, \"paid\": 44599, \"payment\": 59.760150073696906}, {\"payment_no\": 2, \"tier\": \"Smart\", \"price\": 4.9, \"users\": 5675, \"paid\": 5219, \"payment\": 91.9647577092511}, {\"payment_no\": 2, \"tier\": \"You\", \"price\": 9.9, \"users\": 65279, \"paid\": 44087, \"payment\": 67.53626740605708}, {\"payment_no\": 3, \"tier\": \"Metal\", \"price\": 16.9, \"users\": 68447, \"paid\": 36649, \"payment\": 53.54361768959925}, {\"payment_no\": 3, \"tier\": \"Smart\", \"price\": 4.9, \"users\": 1853, \"paid\": 1647, \"payment\": 88.88289260658392}, {\"payment_no\": 3, \"tier\": \"You\", \"price\": 9.9, \"users\": 62162, \"paid\": 37572, \"payment\": 60.44207071844535}, {\"payment_no\": 4, \"tier\": \"Metal\", \"price\": 16.9, \"users\": 61795, \"paid\": 30070, \"payment\": 48.66089489440893}, {\"payment_no\": 4, \"tier\": \"You\", \"price\": 9.9, \"users\": 58449, \"paid\": 32102, \"payment\": 54.92309534808123}, {\"payment_no\": 5, \"tier\": \"Metal\", \"price\": 16.9, \"users\": 55553, \"paid\": 25404, \"payment\": 45.729303547963205}, {\"payment_no\": 5, \"tier\": \"You\", \"price\": 9.9, \"users\": 54379, \"paid\": 28478, \"payment\": 52.369480865775394}, {\"payment_no\": 6, \"tier\": \"Metal\", \"price\": 16.9, \"users\": 49197, \"paid\": 21323, \"payment\": 43.342073703681116}, {\"payment_no\": 6, \"tier\": \"You\", \"price\": 9.9, \"users\": 50773, \"paid\": 25435, \"payment\": 50.09552321115554}, {\"payment_no\": 7, \"tier\": \"Metal\", \"price\": 16.9, \"users\": 44361, \"paid\": 18154, \"payment\": 40.92333355875657}, {\"payment_no\": 7, \"tier\": \"You\", \"price\": 9.9, \"users\": 47408, \"paid\": 22712, \"payment\": 47.90752615592305}, {\"payment_no\": 8, \"tier\": \"Metal\", \"price\": 16.9, \"users\": 39902, \"paid\": 15330, \"payment\": 38.41912686080898}, {\"payment_no\": 8, \"tier\": \"You\", \"price\": 9.9, \"users\": 44119, \"paid\": 20203, \"payment\": 45.792062376753776}, {\"payment_no\": 9, \"tier\": \"Metal\", \"price\": 16.9, \"users\": 35451, \"paid\": 12925, \"payment\": 36.45877408253646}, {\"payment_no\": 9, \"tier\": \"You\", \"price\": 9.9, \"users\": 39885, \"paid\": 17816, \"payment\": 44.66842171242322}, {\"payment_no\": 10, \"tier\": \"Metal\", \"price\": 16.9, \"users\": 31853, \"paid\": 11159, \"payment\": 35.03280695695853}, {\"payment_no\": 10, \"tier\": \"You\", \"price\": 9.9, \"users\": 36023, \"paid\": 15579, \"payment\": 43.247369736002}, {\"payment_no\": 11, \"tier\": \"Metal\", \"price\": 16.9, \"users\": 28548, \"paid\": 9678, \"payment\": 33.90079865489702}, {\"payment_no\": 11, \"tier\": \"You\", \"price\": 9.9, \"users\": 32652, \"paid\": 13719, \"payment\": 42.01580301359794}, {\"payment_no\": 12, \"tier\": \"Metal\", \"price\": 16.9, \"users\": 24833, \"paid\": 8118, \"payment\": 32.69037168284138}, {\"payment_no\": 12, \"tier\": \"You\", \"price\": 9.9, \"users\": 28480, \"paid\": 11528, \"payment\": 40.47752808988764}]}}, {\"mode\": \"vega-lite\"});\n",
       "</script>"
      ],
      "text/plain": [
       "alt.Chart(...)"
      ]
     },
     "execution_count": 2,
     "metadata": {},
     "output_type": "execute_result"
    }
   ],
   "source": [
    "df = pd.read_csv(\"data.csv\")\n",
    "\n",
    "price = {\"Metal\": 16.90, \"Smart\": 4.90, \"You\": 9.90}\n",
    "\n",
    "df[\"price\"] = df[\"tier\"].map(price)\n",
    "\n",
    "df = df.groupby([\"payment_no\", \"tier\", \"price\"]).agg(\"sum\").reset_index()\n",
    "df[\"payment\"] = 100 * df[\"paid\"] / df[\"users\"]\n",
    "\n",
    "alt.Chart(df).mark_line().encode(\n",
    "    x=alt.X(\"payment_no:N\"), y=alt.Y(\"payment:Q\"), color=\"tier:N\"\n",
    ").properties(width=500, height=500)"
   ]
  },
  {
   "cell_type": "code",
   "execution_count": 3,
   "metadata": {},
   "outputs": [
    {
     "data": {
      "text/html": [
       "\n",
       "<div id=\"altair-viz-c59e4bd6d5d44259a5a31ec1122c0d1f\"></div>\n",
       "<script type=\"text/javascript\">\n",
       "  (function(spec, embedOpt){\n",
       "    let outputDiv = document.currentScript.previousElementSibling;\n",
       "    if (outputDiv.id !== \"altair-viz-c59e4bd6d5d44259a5a31ec1122c0d1f\") {\n",
       "      outputDiv = document.getElementById(\"altair-viz-c59e4bd6d5d44259a5a31ec1122c0d1f\");\n",
       "    }\n",
       "    const paths = {\n",
       "      \"vega\": \"https://cdn.jsdelivr.net/npm//vega@5?noext\",\n",
       "      \"vega-lib\": \"https://cdn.jsdelivr.net/npm//vega-lib?noext\",\n",
       "      \"vega-lite\": \"https://cdn.jsdelivr.net/npm//vega-lite@4.8.1?noext\",\n",
       "      \"vega-embed\": \"https://cdn.jsdelivr.net/npm//vega-embed@6?noext\",\n",
       "    };\n",
       "\n",
       "    function loadScript(lib) {\n",
       "      return new Promise(function(resolve, reject) {\n",
       "        var s = document.createElement('script');\n",
       "        s.src = paths[lib];\n",
       "        s.async = true;\n",
       "        s.onload = () => resolve(paths[lib]);\n",
       "        s.onerror = () => reject(`Error loading script: ${paths[lib]}`);\n",
       "        document.getElementsByTagName(\"head\")[0].appendChild(s);\n",
       "      });\n",
       "    }\n",
       "\n",
       "    function showError(err) {\n",
       "      outputDiv.innerHTML = `<div class=\"error\" style=\"color:red;\">${err}</div>`;\n",
       "      throw err;\n",
       "    }\n",
       "\n",
       "    function displayChart(vegaEmbed) {\n",
       "      vegaEmbed(outputDiv, spec, embedOpt)\n",
       "        .catch(err => showError(`Javascript Error: ${err.message}<br>This usually means there's a typo in your chart specification. See the javascript console for the full traceback.`));\n",
       "    }\n",
       "\n",
       "    if(typeof define === \"function\" && define.amd) {\n",
       "      requirejs.config({paths});\n",
       "      require([\"vega-embed\"], displayChart, err => showError(`Error loading script: ${err.message}`));\n",
       "    } else if (typeof vegaEmbed === \"function\") {\n",
       "      displayChart(vegaEmbed);\n",
       "    } else {\n",
       "      loadScript(\"vega\")\n",
       "        .then(() => loadScript(\"vega-lite\"))\n",
       "        .then(() => loadScript(\"vega-embed\"))\n",
       "        .catch(showError)\n",
       "        .then(() => displayChart(vegaEmbed));\n",
       "    }\n",
       "  })({\"config\": {\"view\": {\"continuousWidth\": 400, \"continuousHeight\": 300}}, \"data\": {\"name\": \"data-0273bc9a8cec631f143e0a75ad5b2078\"}, \"mark\": \"line\", \"encoding\": {\"color\": {\"type\": \"nominal\", \"field\": \"tier\"}, \"x\": {\"type\": \"nominal\", \"field\": \"payment_no\"}, \"y\": {\"type\": \"quantitative\", \"field\": \"expected_rev\"}}, \"height\": 500, \"width\": 500, \"$schema\": \"https://vega.github.io/schema/vega-lite/v4.8.1.json\", \"datasets\": {\"data-0273bc9a8cec631f143e0a75ad5b2078\": [{\"payment_no\": 1, \"tier\": \"Metal\", \"price\": 16.9, \"users\": 78496, \"paid\": 51930, \"expected_rev\": 11.18040409702405}, {\"payment_no\": 1, \"tier\": \"Smart\", \"price\": 4.9, \"users\": 8106, \"paid\": 7623, \"expected_rev\": 4.608031088082902}, {\"payment_no\": 1, \"tier\": \"You\", \"price\": 9.9, \"users\": 66979, \"paid\": 49362, \"expected_rev\": 7.296074889144359}, {\"payment_no\": 2, \"tier\": \"Metal\", \"price\": 16.9, \"users\": 74630, \"paid\": 44599, \"expected_rev\": 10.099465362454776}, {\"payment_no\": 2, \"tier\": \"Smart\", \"price\": 4.9, \"users\": 5675, \"paid\": 5219, \"expected_rev\": 4.506273127753304}, {\"payment_no\": 2, \"tier\": \"You\", \"price\": 9.9, \"users\": 65279, \"paid\": 44087, \"expected_rev\": 6.68609047319965}, {\"payment_no\": 3, \"tier\": \"Metal\", \"price\": 16.9, \"users\": 68447, \"paid\": 36649, \"expected_rev\": 9.048871389542274}, {\"payment_no\": 3, \"tier\": \"Smart\", \"price\": 4.9, \"users\": 1853, \"paid\": 1647, \"expected_rev\": 4.355261737722612}, {\"payment_no\": 3, \"tier\": \"You\", \"price\": 9.9, \"users\": 62162, \"paid\": 37572, \"expected_rev\": 5.9837650011260894}, {\"payment_no\": 4, \"tier\": \"Metal\", \"price\": 16.9, \"users\": 61795, \"paid\": 30070, \"expected_rev\": 8.223691237155109}, {\"payment_no\": 4, \"tier\": \"You\", \"price\": 9.9, \"users\": 58449, \"paid\": 32102, \"expected_rev\": 5.437386439460042}, {\"payment_no\": 5, \"tier\": \"Metal\", \"price\": 16.9, \"users\": 55553, \"paid\": 25404, \"expected_rev\": 7.728252299605781}, {\"payment_no\": 5, \"tier\": \"You\", \"price\": 9.9, \"users\": 54379, \"paid\": 28478, \"expected_rev\": 5.1845786057117635}, {\"payment_no\": 6, \"tier\": \"Metal\", \"price\": 16.9, \"users\": 49197, \"paid\": 21323, \"expected_rev\": 7.324810455922108}, {\"payment_no\": 6, \"tier\": \"You\", \"price\": 9.9, \"users\": 50773, \"paid\": 25435, \"expected_rev\": 4.959456797904398}, {\"payment_no\": 7, \"tier\": \"Metal\", \"price\": 16.9, \"users\": 44361, \"paid\": 18154, \"expected_rev\": 6.9160433714298595}, {\"payment_no\": 7, \"tier\": \"You\", \"price\": 9.9, \"users\": 47408, \"paid\": 22712, \"expected_rev\": 4.742845089436383}, {\"payment_no\": 8, \"tier\": \"Metal\", \"price\": 16.9, \"users\": 39902, \"paid\": 15330, \"expected_rev\": 6.492832439476717}, {\"payment_no\": 8, \"tier\": \"You\", \"price\": 9.9, \"users\": 44119, \"paid\": 20203, \"expected_rev\": 4.533414175298624}, {\"payment_no\": 9, \"tier\": \"Metal\", \"price\": 16.9, \"users\": 35451, \"paid\": 12925, \"expected_rev\": 6.16153281994866}, {\"payment_no\": 9, \"tier\": \"You\", \"price\": 9.9, \"users\": 39885, \"paid\": 17816, \"expected_rev\": 4.4221737495298985}, {\"payment_no\": 10, \"tier\": \"Metal\", \"price\": 16.9, \"users\": 31853, \"paid\": 11159, \"expected_rev\": 5.92054437572599}, {\"payment_no\": 10, \"tier\": \"You\", \"price\": 9.9, \"users\": 36023, \"paid\": 15579, \"expected_rev\": 4.281489603864198}, {\"payment_no\": 11, \"tier\": \"Metal\", \"price\": 16.9, \"users\": 28548, \"paid\": 9678, \"expected_rev\": 5.729234972677595}, {\"payment_no\": 11, \"tier\": \"You\", \"price\": 9.9, \"users\": 32652, \"paid\": 13719, \"expected_rev\": 4.159564498346197}, {\"payment_no\": 12, \"tier\": \"Metal\", \"price\": 16.9, \"users\": 24833, \"paid\": 8118, \"expected_rev\": 5.524672814400192}, {\"payment_no\": 12, \"tier\": \"You\", \"price\": 9.9, \"users\": 28480, \"paid\": 11528, \"expected_rev\": 4.0072752808988765}]}}, {\"mode\": \"vega-lite\"});\n",
       "</script>"
      ],
      "text/plain": [
       "alt.Chart(...)"
      ]
     },
     "execution_count": 3,
     "metadata": {},
     "output_type": "execute_result"
    }
   ],
   "source": [
    "df = pd.read_csv(\"data.csv\")\n",
    "\n",
    "price = {\"Metal\": 16.90, \"Smart\": 4.90, \"You\": 9.90}\n",
    "\n",
    "df[\"price\"] = df[\"tier\"].map(price)\n",
    "\n",
    "df = df.groupby([\"payment_no\", \"tier\", \"price\"]).agg(\"sum\").reset_index()\n",
    "df[\"expected_rev\"] = df[\"price\"] * df[\"paid\"] / df[\"users\"]\n",
    "\n",
    "alt.Chart(df).mark_line().encode(\n",
    "    x=alt.X(\"payment_no:N\"), y=alt.Y(\"expected_rev:Q\"), color=\"tier:N\"\n",
    ").properties(width=500, height=500)"
   ]
  },
  {
   "cell_type": "code",
   "execution_count": 4,
   "metadata": {},
   "outputs": [
    {
     "data": {
      "text/html": [
       "\n",
       "<div id=\"altair-viz-20921e08defe410e88cd868250dca71a\"></div>\n",
       "<script type=\"text/javascript\">\n",
       "  (function(spec, embedOpt){\n",
       "    let outputDiv = document.currentScript.previousElementSibling;\n",
       "    if (outputDiv.id !== \"altair-viz-20921e08defe410e88cd868250dca71a\") {\n",
       "      outputDiv = document.getElementById(\"altair-viz-20921e08defe410e88cd868250dca71a\");\n",
       "    }\n",
       "    const paths = {\n",
       "      \"vega\": \"https://cdn.jsdelivr.net/npm//vega@5?noext\",\n",
       "      \"vega-lib\": \"https://cdn.jsdelivr.net/npm//vega-lib?noext\",\n",
       "      \"vega-lite\": \"https://cdn.jsdelivr.net/npm//vega-lite@4.8.1?noext\",\n",
       "      \"vega-embed\": \"https://cdn.jsdelivr.net/npm//vega-embed@6?noext\",\n",
       "    };\n",
       "\n",
       "    function loadScript(lib) {\n",
       "      return new Promise(function(resolve, reject) {\n",
       "        var s = document.createElement('script');\n",
       "        s.src = paths[lib];\n",
       "        s.async = true;\n",
       "        s.onload = () => resolve(paths[lib]);\n",
       "        s.onerror = () => reject(`Error loading script: ${paths[lib]}`);\n",
       "        document.getElementsByTagName(\"head\")[0].appendChild(s);\n",
       "      });\n",
       "    }\n",
       "\n",
       "    function showError(err) {\n",
       "      outputDiv.innerHTML = `<div class=\"error\" style=\"color:red;\">${err}</div>`;\n",
       "      throw err;\n",
       "    }\n",
       "\n",
       "    function displayChart(vegaEmbed) {\n",
       "      vegaEmbed(outputDiv, spec, embedOpt)\n",
       "        .catch(err => showError(`Javascript Error: ${err.message}<br>This usually means there's a typo in your chart specification. See the javascript console for the full traceback.`));\n",
       "    }\n",
       "\n",
       "    if(typeof define === \"function\" && define.amd) {\n",
       "      requirejs.config({paths});\n",
       "      require([\"vega-embed\"], displayChart, err => showError(`Error loading script: ${err.message}`));\n",
       "    } else if (typeof vegaEmbed === \"function\") {\n",
       "      displayChart(vegaEmbed);\n",
       "    } else {\n",
       "      loadScript(\"vega\")\n",
       "        .then(() => loadScript(\"vega-lite\"))\n",
       "        .then(() => loadScript(\"vega-embed\"))\n",
       "        .catch(showError)\n",
       "        .then(() => displayChart(vegaEmbed));\n",
       "    }\n",
       "  })({\"config\": {\"view\": {\"continuousWidth\": 400, \"continuousHeight\": 300}}, \"data\": {\"name\": \"data-653ff1b4f7abed4b324b44f0f21a131f\"}, \"mark\": \"bar\", \"encoding\": {\"x\": {\"type\": \"nominal\", \"field\": \"tier\"}, \"y\": {\"type\": \"quantitative\", \"field\": \"expected_rev\"}}, \"height\": 500, \"width\": 500, \"$schema\": \"https://vega.github.io/schema/vega-lite/v4.8.1.json\", \"datasets\": {\"data-653ff1b4f7abed4b324b44f0f21a131f\": [{\"tier\": \"Metal\", \"expected_rev\": 90.35035563536312}, {\"tier\": \"Smart\", \"expected_rev\": 13.469565953558819}, {\"tier\": \"You\", \"expected_rev\": 61.69411460392049}]}}, {\"mode\": \"vega-lite\"});\n",
       "</script>"
      ],
      "text/plain": [
       "alt.Chart(...)"
      ]
     },
     "execution_count": 4,
     "metadata": {},
     "output_type": "execute_result"
    }
   ],
   "source": [
    "df = pd.read_csv(\"data.csv\")\n",
    "\n",
    "price = {\"Metal\": 16.90, \"Smart\": 4.90, \"You\": 9.90}\n",
    "\n",
    "df[\"price\"] = df[\"tier\"].map(price)\n",
    "\n",
    "df = df.groupby([\"payment_no\", \"tier\", \"price\"]).agg(\"sum\").reset_index()\n",
    "df[\"expected_rev\"] = df[\"price\"] * df[\"paid\"] / df[\"users\"]\n",
    "\n",
    "df = df.groupby([\"tier\"])[\"expected_rev\"].agg(\"sum\").reset_index()\n",
    "\n",
    "alt.Chart(df).mark_bar().encode(\n",
    "    x=alt.X(\"tier:N\"),\n",
    "    y=alt.Y(\"expected_rev:Q\"),\n",
    ").properties(width=500, height=500)"
   ]
  },
  {
   "cell_type": "code",
   "execution_count": 10,
   "metadata": {},
   "outputs": [
    {
     "data": {
      "text/plain": [
       "202.79999999999998"
      ]
     },
     "execution_count": 10,
     "metadata": {},
     "output_type": "execute_result"
    }
   ],
   "source": [
    "16.90 * 12"
   ]
  },
  {
   "cell_type": "code",
   "execution_count": 33,
   "metadata": {},
   "outputs": [
    {
     "name": "stdout",
     "output_type": "stream",
     "text": [
      "0.7\n",
      "0.48999999999999994\n",
      "0.7\n",
      "0.48999999999999994\n",
      "0.7\n",
      "0.48999999999999994\n",
      "0.7\n",
      "0.48999999999999994\n",
      "0.7\n",
      "0.48999999999999994\n",
      "0.7\n",
      "0.48999999999999994\n",
      "0.7\n",
      "0.48999999999999994\n",
      "0.7\n",
      "0.48999999999999994\n",
      "0.7\n",
      "0.48999999999999994\n",
      "0.7\n",
      "0.48999999999999994\n"
     ]
    },
    {
     "data": {
      "text/html": [
       "\n",
       "<div id=\"altair-viz-eb13a4befb874de38dd0233f1382437b\"></div>\n",
       "<script type=\"text/javascript\">\n",
       "  (function(spec, embedOpt){\n",
       "    let outputDiv = document.currentScript.previousElementSibling;\n",
       "    if (outputDiv.id !== \"altair-viz-eb13a4befb874de38dd0233f1382437b\") {\n",
       "      outputDiv = document.getElementById(\"altair-viz-eb13a4befb874de38dd0233f1382437b\");\n",
       "    }\n",
       "    const paths = {\n",
       "      \"vega\": \"https://cdn.jsdelivr.net/npm//vega@5?noext\",\n",
       "      \"vega-lib\": \"https://cdn.jsdelivr.net/npm//vega-lib?noext\",\n",
       "      \"vega-lite\": \"https://cdn.jsdelivr.net/npm//vega-lite@4.8.1?noext\",\n",
       "      \"vega-embed\": \"https://cdn.jsdelivr.net/npm//vega-embed@6?noext\",\n",
       "    };\n",
       "\n",
       "    function loadScript(lib) {\n",
       "      return new Promise(function(resolve, reject) {\n",
       "        var s = document.createElement('script');\n",
       "        s.src = paths[lib];\n",
       "        s.async = true;\n",
       "        s.onload = () => resolve(paths[lib]);\n",
       "        s.onerror = () => reject(`Error loading script: ${paths[lib]}`);\n",
       "        document.getElementsByTagName(\"head\")[0].appendChild(s);\n",
       "      });\n",
       "    }\n",
       "\n",
       "    function showError(err) {\n",
       "      outputDiv.innerHTML = `<div class=\"error\" style=\"color:red;\">${err}</div>`;\n",
       "      throw err;\n",
       "    }\n",
       "\n",
       "    function displayChart(vegaEmbed) {\n",
       "      vegaEmbed(outputDiv, spec, embedOpt)\n",
       "        .catch(err => showError(`Javascript Error: ${err.message}<br>This usually means there's a typo in your chart specification. See the javascript console for the full traceback.`));\n",
       "    }\n",
       "\n",
       "    if(typeof define === \"function\" && define.amd) {\n",
       "      requirejs.config({paths});\n",
       "      require([\"vega-embed\"], displayChart, err => showError(`Error loading script: ${err.message}`));\n",
       "    } else if (typeof vegaEmbed === \"function\") {\n",
       "      displayChart(vegaEmbed);\n",
       "    } else {\n",
       "      loadScript(\"vega\")\n",
       "        .then(() => loadScript(\"vega-lite\"))\n",
       "        .then(() => loadScript(\"vega-embed\"))\n",
       "        .catch(showError)\n",
       "        .then(() => displayChart(vegaEmbed));\n",
       "    }\n",
       "  })({\"config\": {\"view\": {\"continuousWidth\": 400, \"continuousHeight\": 300}}, \"data\": {\"name\": \"data-d62cab225f903a8babd97ab9d0859b20\"}, \"mark\": \"bar\", \"encoding\": {\"x\": {\"type\": \"quantitative\", \"axis\": {\"title\": \"Equivalent monthly price\"}, \"field\": \"prices\"}, \"y\": {\"type\": \"quantitative\", \"axis\": {\"title\": \"Excess profit versus current monthly baseline\"}, \"field\": \"difference_to_status_quo\"}}, \"height\": 500, \"title\": \"Bi-annual/70% payment on each charge\", \"width\": 500, \"$schema\": \"https://vega.github.io/schema/vega-lite/v4.8.1.json\", \"datasets\": {\"data-d62cab225f903a8babd97ab9d0859b20\": [{\"prices\": 10, \"conversion\": 0.7, \"charges\": 2, \"return\": 71.39999999999999, \"difference_to_status_quo\": -18.60000000000001}, {\"prices\": 11, \"conversion\": 0.7, \"charges\": 2, \"return\": 78.53999999999999, \"difference_to_status_quo\": -11.460000000000008}, {\"prices\": 12, \"conversion\": 0.7, \"charges\": 2, \"return\": 85.67999999999999, \"difference_to_status_quo\": -4.320000000000007}, {\"prices\": 13, \"conversion\": 0.7, \"charges\": 2, \"return\": 92.82, \"difference_to_status_quo\": 2.819999999999993}, {\"prices\": 14, \"conversion\": 0.7, \"charges\": 2, \"return\": 99.96, \"difference_to_status_quo\": 9.959999999999994}, {\"prices\": 15, \"conversion\": 0.7, \"charges\": 2, \"return\": 107.1, \"difference_to_status_quo\": 17.099999999999994}, {\"prices\": 16, \"conversion\": 0.7, \"charges\": 2, \"return\": 114.23999999999998, \"difference_to_status_quo\": 24.23999999999998}, {\"prices\": 17, \"conversion\": 0.7, \"charges\": 2, \"return\": 121.38, \"difference_to_status_quo\": 31.379999999999995}, {\"prices\": 18, \"conversion\": 0.7, \"charges\": 2, \"return\": 128.51999999999998, \"difference_to_status_quo\": 38.51999999999998}, {\"prices\": 19, \"conversion\": 0.7, \"charges\": 2, \"return\": 135.66, \"difference_to_status_quo\": 45.66}]}}, {\"mode\": \"vega-lite\"});\n",
       "</script>"
      ],
      "text/plain": [
       "alt.Chart(...)"
      ]
     },
     "execution_count": 33,
     "metadata": {},
     "output_type": "execute_result"
    }
   ],
   "source": [
    "def compute_return(monthly_price, conversions, charges):\n",
    "    \"\"\"\n",
    "    Take base price and discount it. Return expected revenue\n",
    "    \"\"\"\n",
    "    charge_price = monthly_price * 12 / charges\n",
    "    total = 0\n",
    "    for i in range(1, charges + 1):\n",
    "        total += charge_price * (conversions**i)\n",
    "    return total\n",
    "\n",
    "\n",
    "prices = list(range(10, 20, 1))\n",
    "\n",
    "df = pd.DataFrame(prices, columns=[\"prices\"])\n",
    "df[\"conversion\"] = 0.7\n",
    "df[\"charges\"] = 2\n",
    "\n",
    "df[\"return\"] = df.apply(\n",
    "    lambda x: compute_return(x[\"prices\"], x[\"conversion\"], int(x[\"charges\"])), axis=1\n",
    ")\n",
    "\n",
    "df[\"difference_to_status_quo\"] = df[\"return\"] - 90\n",
    "\n",
    "alt.Chart(df).mark_bar().encode(\n",
    "    x=alt.X(\"prices:Q\", axis=alt.Axis(title=\"Equivalent monthly price\")),\n",
    "    y=alt.Y(\n",
    "        \"difference_to_status_quo:Q\",\n",
    "        axis=alt.Axis(title=\"Excess profit versus current monthly baseline\"),\n",
    "    ),\n",
    ").properties(width=500, height=500, title=\"Bi-annual/70% payment on each charge\")"
   ]
  },
  {
   "cell_type": "code",
   "execution_count": 34,
   "metadata": {},
   "outputs": [
    {
     "data": {
      "text/html": [
       "<div>\n",
       "<style scoped>\n",
       "    .dataframe tbody tr th:only-of-type {\n",
       "        vertical-align: middle;\n",
       "    }\n",
       "\n",
       "    .dataframe tbody tr th {\n",
       "        vertical-align: top;\n",
       "    }\n",
       "\n",
       "    .dataframe thead th {\n",
       "        text-align: right;\n",
       "    }\n",
       "</style>\n",
       "<table border=\"1\" class=\"dataframe\">\n",
       "  <thead>\n",
       "    <tr style=\"text-align: right;\">\n",
       "      <th></th>\n",
       "      <th>prices</th>\n",
       "      <th>conversion</th>\n",
       "      <th>charges</th>\n",
       "      <th>return</th>\n",
       "      <th>difference_to_status_quo</th>\n",
       "    </tr>\n",
       "  </thead>\n",
       "  <tbody>\n",
       "    <tr>\n",
       "      <th>0</th>\n",
       "      <td>10</td>\n",
       "      <td>0.7</td>\n",
       "      <td>2</td>\n",
       "      <td>71.40</td>\n",
       "      <td>-18.60</td>\n",
       "    </tr>\n",
       "    <tr>\n",
       "      <th>1</th>\n",
       "      <td>11</td>\n",
       "      <td>0.7</td>\n",
       "      <td>2</td>\n",
       "      <td>78.54</td>\n",
       "      <td>-11.46</td>\n",
       "    </tr>\n",
       "    <tr>\n",
       "      <th>2</th>\n",
       "      <td>12</td>\n",
       "      <td>0.7</td>\n",
       "      <td>2</td>\n",
       "      <td>85.68</td>\n",
       "      <td>-4.32</td>\n",
       "    </tr>\n",
       "    <tr>\n",
       "      <th>3</th>\n",
       "      <td>13</td>\n",
       "      <td>0.7</td>\n",
       "      <td>2</td>\n",
       "      <td>92.82</td>\n",
       "      <td>2.82</td>\n",
       "    </tr>\n",
       "    <tr>\n",
       "      <th>4</th>\n",
       "      <td>14</td>\n",
       "      <td>0.7</td>\n",
       "      <td>2</td>\n",
       "      <td>99.96</td>\n",
       "      <td>9.96</td>\n",
       "    </tr>\n",
       "    <tr>\n",
       "      <th>5</th>\n",
       "      <td>15</td>\n",
       "      <td>0.7</td>\n",
       "      <td>2</td>\n",
       "      <td>107.10</td>\n",
       "      <td>17.10</td>\n",
       "    </tr>\n",
       "    <tr>\n",
       "      <th>6</th>\n",
       "      <td>16</td>\n",
       "      <td>0.7</td>\n",
       "      <td>2</td>\n",
       "      <td>114.24</td>\n",
       "      <td>24.24</td>\n",
       "    </tr>\n",
       "    <tr>\n",
       "      <th>7</th>\n",
       "      <td>17</td>\n",
       "      <td>0.7</td>\n",
       "      <td>2</td>\n",
       "      <td>121.38</td>\n",
       "      <td>31.38</td>\n",
       "    </tr>\n",
       "    <tr>\n",
       "      <th>8</th>\n",
       "      <td>18</td>\n",
       "      <td>0.7</td>\n",
       "      <td>2</td>\n",
       "      <td>128.52</td>\n",
       "      <td>38.52</td>\n",
       "    </tr>\n",
       "    <tr>\n",
       "      <th>9</th>\n",
       "      <td>19</td>\n",
       "      <td>0.7</td>\n",
       "      <td>2</td>\n",
       "      <td>135.66</td>\n",
       "      <td>45.66</td>\n",
       "    </tr>\n",
       "  </tbody>\n",
       "</table>\n",
       "</div>"
      ],
      "text/plain": [
       "   prices  conversion  charges  return  difference_to_status_quo\n",
       "0      10         0.7        2   71.40                    -18.60\n",
       "1      11         0.7        2   78.54                    -11.46\n",
       "2      12         0.7        2   85.68                     -4.32\n",
       "3      13         0.7        2   92.82                      2.82\n",
       "4      14         0.7        2   99.96                      9.96\n",
       "5      15         0.7        2  107.10                     17.10\n",
       "6      16         0.7        2  114.24                     24.24\n",
       "7      17         0.7        2  121.38                     31.38\n",
       "8      18         0.7        2  128.52                     38.52\n",
       "9      19         0.7        2  135.66                     45.66"
      ]
     },
     "execution_count": 34,
     "metadata": {},
     "output_type": "execute_result"
    }
   ],
   "source": [
    "df.head(10)"
   ]
  },
  {
   "cell_type": "code",
   "execution_count": null,
   "metadata": {},
   "outputs": [],
   "source": []
  },
  {
   "cell_type": "code",
   "execution_count": 48,
   "metadata": {},
   "outputs": [
    {
     "data": {
      "text/plain": [
       "array([[0.0588996 , 0.55994855, 0.1340318 , 0.24712005],\n",
       "       [0.06035535, 0.5428976 , 0.16152879, 0.23521826],\n",
       "       [0.0483023 , 0.58834666, 0.10138335, 0.26196769],\n",
       "       ...,\n",
       "       [0.02029407, 0.52752466, 0.2000446 , 0.25213667],\n",
       "       [0.04035482, 0.51428824, 0.16108742, 0.28426952],\n",
       "       [0.04375469, 0.59452114, 0.11318977, 0.2485344 ]])"
      ]
     },
     "execution_count": 48,
     "metadata": {},
     "output_type": "execute_result"
    }
   ],
   "source": [
    "from scipy.stats import dirichlet\n",
    "\n",
    "# compute expected revenue for each option\n",
    "\n",
    "# get evidence.\n",
    "conversions = {\"metal\": 10, \"standard/noconversion\": 120, \"you\": 30, \"smart\": 50}\n",
    "\n",
    "dirichlet.rvs(list(conversions.values()), size=1000)"
   ]
  }
 ],
 "metadata": {
  "kernelspec": {
   "display_name": "Python 3.7.3 64-bit ('base': conda)",
   "language": "python",
   "name": "python37364bitbaseconda129c5dad25684ab88e14253f26dd6249"
  },
  "language_info": {
   "codemirror_mode": {
    "name": "ipython",
    "version": 3
   },
   "file_extension": ".py",
   "mimetype": "text/x-python",
   "name": "python",
   "nbconvert_exporter": "python",
   "pygments_lexer": "ipython3",
   "version": "3.7.3"
  }
 },
 "nbformat": 4,
 "nbformat_minor": 2
}