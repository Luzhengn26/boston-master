{
 "cells": [
  {
   "cell_type": "markdown",
   "metadata": {},
   "source": [
    "title: Key product KPIs in the context of growth surge in summer 2021   \n",
    "author: Fabio Schmidt-Fischbach     \n",
    "date: 2021-09-15     \n",
    "region: EU    \n",
    "link: https://docs.google.com/presentation/d/1R4WZexWGgMUq0Pqt5kcLV36ZjBsGN_hPC6Hcy17etjU/edit?usp=sharing      \n",
    "tags: marketing, growth, product, activation, topup, ltv, xsell, friend referral   \n",
    "summary: We observed a big surge in growth throughout the summer months of 2021. Growth surge was mainly driven by Spanish (, Italy and GrE) markets and the friend referral channels. We observe stable funnel efficiency (SU to ftMAU) and stable early engagement (%ftMAU that do 10tx within 35 days). In contrast, we see much lower xsell values due to the heavy reliance on friend referral growth which has traditionally a low xsell. This is likely going to reduce our monetisation per MAU and is also picked up by the LTV projections.    \n"
   ]
  }
 ],
 "metadata": {
  "kernelspec": {
   "display_name": "Python 3",
   "language": "python",
   "name": "python3"
  },
  "language_info": {
   "codemirror_mode": {
    "name": "ipython",
    "version": 3
   },
   "file_extension": ".py",
   "mimetype": "text/x-python",
   "name": "python",
   "nbconvert_exporter": "python",
   "pygments_lexer": "ipython3",
   "version": "3.7.3"
  }
 },
 "nbformat": 4,
 "nbformat_minor": 2
}
