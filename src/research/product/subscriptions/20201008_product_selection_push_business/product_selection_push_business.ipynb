{
 "cells": [
  {
   "cell_type": "markdown",
   "source": [
    "title: Product selection test - reconsider business   \n",
    "author: Fabio Schmidt-Fischbach   \n",
    "date: 2020-10-08   \n",
    "region: EU   \n",
    "summary: Prompting users to reconsider their decision to choose personal over business in order to increase X-sell to business product. % product selection - KYCc (7d) drops by 0.56pp (98% chance that control is better). X-sell to premium at ftMAU rose significantly (0.4pp, 99% confidence).\n",
    "link: https://docs.google.com/presentation/d/1jyLYu8OGM-s01RTARwjJbfqQNt64z_30I_dqvX-Ctkc/edit?usp=sharing   \n",
    "tags: memberships, premium, business, xsell, product selection, funnel, kyc, acquire"
   ],
   "metadata": {}
  }
 ],
 "metadata": {
  "kernelspec": {
   "display_name": "Python 3",
   "language": "python",
   "name": "python3"
  },
  "language_info": {
   "codemirror_mode": {
    "name": "ipython",
    "version": 3
   },
   "file_extension": ".py",
   "mimetype": "text/x-python",
   "name": "python",
   "nbconvert_exporter": "python",
   "pygments_lexer": "ipython3",
   "version": "3.7.3"
  }
 },
 "nbformat": 4,
 "nbformat_minor": 2
}