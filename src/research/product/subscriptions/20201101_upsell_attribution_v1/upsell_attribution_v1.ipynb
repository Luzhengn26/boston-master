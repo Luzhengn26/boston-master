{
 "cells": [
  {
   "cell_type": "markdown",
   "source": [
    "title: Upsell attribution model & spotlights\n",
    "author: Fabio Schmidt-Fischbach  \n",
    "date: 2020-11-01  \n",
    "region: EU\n",
    "summary: The goal is to propose data model to understand the communication touchpoints users have with our upsell comms and to understand impact of recent investment in contextual upgrade triggers (spotlights). 500 upgrades per week are attributed to spotlights, and upgrade rate rose by 20% (0.1pp). Ad-hoc mail or infocard campaigns had much lower impacts. # of users that see premium ads through spotlights (vis a vis explore) is 3x as big. Spaces, actions tab and account benefit spotlights are the most successful so far.\n",
    "link: https://docs.google.com/presentation/d/19wA7DwPXFBjN9udl0hqI1czdounGBv8Eds7vKmp0Wyk/edit?usp=sharing   \n",
    "tags: membership, upsell, upgrade, metal, you, business, crm, spotlights, value reminder, infocard, email"
   ],
   "metadata": {}
  }
 ],
 "metadata": {
  "kernelspec": {
   "display_name": "Python 3",
   "language": "python",
   "name": "python3"
  },
  "language_info": {
   "codemirror_mode": {
    "name": "ipython",
    "version": 3
   },
   "file_extension": ".py",
   "mimetype": "text/x-python",
   "name": "python",
   "nbconvert_exporter": "python",
   "pygments_lexer": "ipython3",
   "version": "3.7.3"
  }
 },
 "nbformat": 4,
 "nbformat_minor": 2
}