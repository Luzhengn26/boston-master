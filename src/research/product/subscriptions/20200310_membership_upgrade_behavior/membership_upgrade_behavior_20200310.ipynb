{
 "cells": [
  {
   "cell_type": "markdown",
   "source": [
    "title: Membership upgrade behavior investigation  \n",
    "author: Fabio Schmidt-Fischbach  \n",
    "date: 2020-03-10  \n",
    "region: EU\n",
    "link: https://docs.google.com/presentation/d/1UGqlA0GjK5NsQn_HfzEq-SQcokZs39aNPrvsGHv8bho/edit?usp=sharing   \n",
    "tags: membership, upsell, upgrade, metal, you, business, cluster\n",
    "summary: Here we aim to answer the question: “How can we leverage data to increase upgrade rates/understand customers that upgrade better?”. We learned that upgraders are much more active + their account balances rise throughout their life cycle: these users use N26 as their main account. Therefore, there are plenty of standard users that are similarly active and have similarly high account balances."
   ],
   "metadata": {}
  }
 ],
 "metadata": {
  "kernelspec": {
   "display_name": "Python 3",
   "language": "python",
   "name": "python3"
  },
  "language_info": {
   "codemirror_mode": {
    "name": "ipython",
    "version": 3
   },
   "file_extension": ".py",
   "mimetype": "text/x-python",
   "name": "python",
   "nbconvert_exporter": "python",
   "pygments_lexer": "ipython3",
   "version": "3.7.3"
  }
 },
 "nbformat": 4,
 "nbformat_minor": 2
}