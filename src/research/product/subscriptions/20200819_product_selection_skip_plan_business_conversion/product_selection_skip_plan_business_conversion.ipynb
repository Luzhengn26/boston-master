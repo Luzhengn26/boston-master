{
 "cells": [
  {
   "cell_type": "markdown",
   "source": [
    "title: AB Test in product selection: (1) remove branded page from product selection flow and (2) iterate on presentation of business accounts.   \n",
    "author: Fabio Schmidt-Fischbach  \n",
    "date: 2020-08-19  \n",
    "region: EU  \n",
    "link: https://docs.google.com/presentation/d/17IdVNDhUfESgpm8jh45Y-wz6dKuA1l11zdDDApAvrSg/edit?usp=sharing    \n",
    "summary: Two experiments in the product selection funnel. (1) Premium first - remove the branded plan overview from the funnel to increase % premium. (2) Business conversion - add cashback tags + redesign account purpose step to increase % business. Suggestive evidence for marginal KYC conversion improvement (not significant).  Strong evidence for higher premium x-sell at KYC (1.8pp) and ftMAU (1.7pp).  We decided to roll out this feature.\n",
    "tags: membership, premium, business, product selection, activation, ab test, ab, experiment"
   ],
   "metadata": {}
  }
 ],
 "metadata": {
  "kernelspec": {
   "display_name": "Python 3",
   "language": "python",
   "name": "python3"
  },
  "language_info": {
   "codemirror_mode": {
    "name": "ipython",
    "version": 3
   },
   "file_extension": ".py",
   "mimetype": "text/x-python",
   "name": "python",
   "nbconvert_exporter": "python",
   "pygments_lexer": "ipython3",
   "version": "3.7.3"
  }
 },
 "nbformat": 4,
 "nbformat_minor": 2
}