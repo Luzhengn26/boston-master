{
 "cells": [
  {
   "cell_type": "markdown",
   "source": [
    "title: AB Test - card delivery infocards v1   \n",
    "author: Fabio Schmidt-Fischbach     \n",
    "date: 2020-05-28     \n",
    "region: EU   \n",
    "link: https://docs.google.com/presentation/d/1IiR0A-umDa0WOAUrzWVPPpSjpUvcXtMNkoKrFdbooIs/edit?usp=sharing   \n",
    "summary: V1 of card delivery infocard experiment shows educates the customer about the status of their card order. It further provides an estimated arrival data for the card to the customer. The experiment was started on 16th of April 2020 in all markets in the EU and the US. For EU, fewer complaints right after the order are what make the variant perform better. Variant does not only activate more commonly, but also quicker. Experiment length was determined for the EU and hence US is underpowered in terms of observations.\n",
    "tags: memberships, enable, card activation, infocards   "
   ],
   "metadata": {}
  }
 ],
 "metadata": {
  "kernelspec": {
   "display_name": "Python 3",
   "language": "python",
   "name": "python3"
  },
  "language_info": {
   "codemirror_mode": {
    "name": "ipython",
    "version": 3
   },
   "file_extension": ".py",
   "mimetype": "text/x-python",
   "name": "python",
   "nbconvert_exporter": "python",
   "pygments_lexer": "ipython3",
   "version": "3.7.3"
  }
 },
 "nbformat": 4,
 "nbformat_minor": 2
}