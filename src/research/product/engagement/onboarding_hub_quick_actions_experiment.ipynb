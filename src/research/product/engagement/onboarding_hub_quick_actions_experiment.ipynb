{
 "cells": [
  {
   "cell_type": "code",
   "execution_count": null,
   "id": "3a126024-3375-43eb-af58-e7080032fd05",
   "metadata": {},
   "outputs": [],
   "source": [
    "\n",
    "title: Onboarding Hub as Quick Actions A/B Test\n",
    "author: Leticia Takahara\n",
    "date: 2023-03-03\n",
    "region: EU\n",
    "link: https://docs.google.com/presentation/d/1KXpYSAuNUIiIM_s67CRVwFXeVymBvXDufUEPnt5lbI8/edit#slide=id.gb0a5380750_0_369\n",
    "tags: money in, onboarding hub, quick actions\n",
    "summary: Adding the Onboarding Hub feature to the Quick Actions menu aims to create more awareness to it, increasing the completion rate as well. The result of the experiment was an improvement in the CTR and the in interval time to access the Hub for the first time. There has been no change in the Onboarding completion rate though.\n"
   ]
  }
 ],
 "metadata": {
  "kernelspec": {
   "display_name": "Python 3 (ipykernel)",
   "language": "python",
   "name": "python3"
  },
  "language_info": {
   "codemirror_mode": {
    "name": "ipython",
    "version": 3
   },
   "file_extension": ".py",
   "mimetype": "text/x-python",
   "name": "python",
   "nbconvert_exporter": "python",
   "pygments_lexer": "ipython3",
   "version": "3.9.13"
  }
 },
 "nbformat": 4,
 "nbformat_minor": 5
}
