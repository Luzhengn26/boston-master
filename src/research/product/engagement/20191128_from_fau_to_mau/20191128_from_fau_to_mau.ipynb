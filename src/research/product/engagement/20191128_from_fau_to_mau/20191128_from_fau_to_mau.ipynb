{
 "cells": [
  {
   "cell_type": "markdown",
   "id": "776a8554-306a-4718-be11-929e8907d47e",
   "metadata": {},
   "source": [
    "title: From FAU to MAU\n",
    "\n",
    "author: James Arch, Brieuc Van Thienen\n",
    "\n",
    "date: 2019-11-28\n",
    "\n",
    "region: EU\n",
    "\n",
    "link: https://docs.google.com/presentation/d/1VEOC43f86M6edk1oiw494fovpGTuijEdEKPioUz14W0/edit?usp=sharing\n",
    "\n",
    "summary: Analyses the impact of going from the FAU to the MAU: (1) Should we consider at transactions only, or logins and transactions and (2) When looking at transactions, should we consider a time window of 28, 30 or 35 days?\n",
    "\n",
    "tags: product, growth, retention, activity metrics, FAU, MAU\n"
   ]
  }
 ],
 "metadata": {
  "kernelspec": {
   "display_name": "Python 3 (ipykernel)",
   "language": "python",
   "name": "python3"
  },
  "language_info": {
   "codemirror_mode": {
    "name": "ipython",
    "version": 3
   },
   "file_extension": ".py",
   "mimetype": "text/x-python",
   "name": "python",
   "nbconvert_exporter": "python",
   "pygments_lexer": "ipython3",
   "version": "3.7.2"
  }
 },
 "nbformat": 4,
 "nbformat_minor": 5
}
