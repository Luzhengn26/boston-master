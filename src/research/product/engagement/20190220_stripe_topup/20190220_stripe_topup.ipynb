{
 "cells": [
  {
   "cell_type": "markdown",
   "id": "22ffe933-1091-49f5-b6a1-dc576802f9d2",
   "metadata": {},
   "source": [
    "title: Stripe top up test\n",
    "\n",
    "author: James Arch\n",
    "\n",
    "date: 2019-02-20\n",
    "\n",
    "region: EU\n",
    "\n",
    "link: https://docs.google.com/presentation/d/1MYCynkKZOni7bwDlR3wgCCycbm5Pmb_2isfPRlLl3gM/edit?usp=sharing\n",
    "\n",
    "summary: Taking into account: (1) the significant 7.6pp increase in first time FAU conversion in the first 14 days (5pp FAUs we would never get otherwise by day 45), (2) the additional cost of €0.67 per user to onboarding costs (+5%) (3) the added €1.3mm onboarding costs at +€5.5mm annualized revenue over 2019 and the low fraud rate - We recommend rolling out Stripe as a global solution to increase the first time FAU conversion.\n",
    "\n",
    "\n",
    "tags: product, onboarding, lifecycle, retention, activation, features, stripe\n"
   ]
  }
 ],
 "metadata": {
  "kernelspec": {
   "display_name": "Python 3 (ipykernel)",
   "language": "python",
   "name": "python3"
  },
  "language_info": {
   "codemirror_mode": {
    "name": "ipython",
    "version": 3
   },
   "file_extension": ".py",
   "mimetype": "text/x-python",
   "name": "python",
   "nbconvert_exporter": "python",
   "pygments_lexer": "ipython3",
   "version": "3.7.2"
  }
 },
 "nbformat": 4,
 "nbformat_minor": 5
}
