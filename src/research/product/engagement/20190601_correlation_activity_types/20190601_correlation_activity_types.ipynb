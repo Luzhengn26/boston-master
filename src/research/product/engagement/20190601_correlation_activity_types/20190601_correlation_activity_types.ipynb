{
 "cells": [
  {
   "cell_type": "markdown",
   "id": "aaec8610-5bb9-4096-af77-fe81cd78aced",
   "metadata": {},
   "source": [
    "title: Correlation between activity types\n",
    "\n",
    "author: James Arch\n",
    "\n",
    "date: 2019-06-01\n",
    "\n",
    "region: EU\n",
    "\n",
    "link: https://docs.google.com/presentation/d/1Wq02U1femrO5rorUrBE5qIVvCWBucxbjlSBs14am27c/edit?usp=sharing\n",
    "\n",
    "summary: Key Questions: Are there any measures which predict the activity of a customer? Which type of customer do we retain long term? Which type of customer generates the most revenue? The spreadsheet link, that contains the source data, is linked on the slides.\n",
    "\n",
    "\n",
    "tags: product, onboarding, engagment, retention, activation, correlation analysis, activity types\n"
   ]
  }
 ],
 "metadata": {
  "kernelspec": {
   "display_name": "Python 3 (ipykernel)",
   "language": "python",
   "name": "python3"
  },
  "language_info": {
   "codemirror_mode": {
    "name": "ipython",
    "version": 3
   },
   "file_extension": ".py",
   "mimetype": "text/x-python",
   "name": "python",
   "nbconvert_exporter": "python",
   "pygments_lexer": "ipython3",
   "version": "3.7.2"
  }
 },
 "nbformat": 4,
 "nbformat_minor": 5
}
