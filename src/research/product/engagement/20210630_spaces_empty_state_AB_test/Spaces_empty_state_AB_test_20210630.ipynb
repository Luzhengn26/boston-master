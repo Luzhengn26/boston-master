{
 "metadata": {
  "language_info": {
   "codemirror_mode": {
    "name": "ipython",
    "version": 3
   },
   "file_extension": ".py",
   "mimetype": "text/x-python",
   "name": "python",
   "nbconvert_exporter": "python",
   "pygments_lexer": "ipython3",
   "version": 3
  },
  "orig_nbformat": 4
 },
 "nbformat": 4,
 "nbformat_minor": 2,
 "cells": [
  {
   "cell_type": "code",
   "execution_count": null,
   "metadata": {},
   "outputs": [],
   "source": [
    "title: Spaces empty state A/B test\n",
    "author: Franziska Erlekam\n",
    "date: 2021-06-30\n",
    "region: EU\n",
    "link: https://docs.google.com/presentation/d/19nKeluEtvjajKc-iQIKQ9BidGHgn7-7J1kRbrSg9CG8/edit#slide=id.gd4321f2c58_0_111\n",
    "tags: spaces, empty state, AB test, value proposition, wording.\n",
    "summary: The space overview doesn't show any information about Spaces, especially when customers don't have any spaces created (what they would see is a main account and create a new space button). We would like to communicate the value proposition of spaces in the empty state, so that customer can learn what they can do with spaces. Would customers are more willing to create spaces after seeing the value proposition in the empty state? Which wording (value proposition) perform better in which user groups?\n"
   ]
  }
 ]
}