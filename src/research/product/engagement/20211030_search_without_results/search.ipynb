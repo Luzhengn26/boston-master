{
 "cells": [
  {
   "cell_type": "code",
   "execution_count": null,
   "metadata": {},
   "outputs": [],
   "source": [
    "title: Why is the share of successful search events so low?\n",
    "author: Franziska Erlekam\n",
    "date: 2021-10-30\n",
    "region: EU\n",
    "link: https://docs.google.com/presentation/d/1Z9aGvNLo-o4nDjMhTBdmBa_Kp_66LoRvuTMy9xYPHPg/edit?usp=sharing\n",
    "tags: search, no result found\n",
    "summary: This slide deck shows the conventional success metric and proposes a new metric on indivudual user level. On the individual level, users have an >80% success rate per try."
   ]
  }
 ],
 "metadata": {
  "language_info": {
   "name": "python"
  },
  "orig_nbformat": 4
 },
 "nbformat": 4,
 "nbformat_minor": 2
}
