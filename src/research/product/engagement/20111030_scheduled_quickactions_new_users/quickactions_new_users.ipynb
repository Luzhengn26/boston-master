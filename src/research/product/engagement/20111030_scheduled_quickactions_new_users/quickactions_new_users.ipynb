{
 "cells": [
  {
   "cell_type": "code",
   "execution_count": null,
   "metadata": {},
   "outputs": [],
   "source": [
    "title: Should we remove scheduled quickactions for new users?\n",
    "author: Franziska Erlekam\n",
    "date: 2021-10-30\n",
    "region: EU\n",
    "link: https://docs.google.com/presentation/d/1eleCA4crfkPwoM0bzjP0sfRVO8yGxZOvLD9VcLylhNU/edit?usp=sharing\n",
    "tags: quickactions, new users, scheduled\n",
    "summary: Less than 10% of users view the recurring transactions screen and its details within their first 35 days after both kycc and ftMAU.\n",
    "Less than 3% of users set up a recurring transaction within the first 35 days after both kycc and ftMAU. Thus, it is safe to remove it from Quick actions for new users and replace it with something more meaningful.\n"
   ]
  }
 ],
 "metadata": {
  "language_info": {
   "name": "python"
  },
  "orig_nbformat": 4
 },
 "nbformat": 4,
 "nbformat_minor": 2
}
