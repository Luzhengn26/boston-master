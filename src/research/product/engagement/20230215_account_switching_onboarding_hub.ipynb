{
 "cells": [
  {
   "cell_type": "code",
   "execution_count": null,
   "id": "fbdfadfe-c1af-43e6-8fae-bd35ee2729aa",
   "metadata": {},
   "outputs": [],
   "source": [
    "title: Account Switching on Onboarding Hub\n",
    "author: Leticia Takahara\n",
    "date: 2023-01-15\n",
    "region: EU\n",
    "link: https://docs.google.com/presentation/d/1-ofEHFDqBvYa-yO-DPBlApGfz5gf_WUYcVozLETaCnQ/edit#slide=id.gb0a5380750_0_491\n",
    "tags: money in, onboarding hub, account switching, primary account.\n",
    "summary: The Account Switching feature is available only on My Account section. In order to create more awareness to the feature, we tested whether adding the feature"
   ]
  }
 ],
 "metadata": {
  "kernelspec": {
   "display_name": "Python 3 (ipykernel)",
   "language": "python",
   "name": "python3"
  },
  "language_info": {
   "codemirror_mode": {
    "name": "ipython",
    "version": 3
   },
   "file_extension": ".py",
   "mimetype": "text/x-python",
   "name": "python",
   "nbconvert_exporter": "python",
   "pygments_lexer": "ipython3",
   "version": "3.9.13"
  }
 },
 "nbformat": 4,
 "nbformat_minor": 5
}
