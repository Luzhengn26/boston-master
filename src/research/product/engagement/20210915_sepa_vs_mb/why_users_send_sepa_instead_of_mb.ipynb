{
 "metadata": {
  "language_info": {
   "codemirror_mode": {
    "name": "ipython",
    "version": 3
   },
   "file_extension": ".py",
   "mimetype": "text/x-python",
   "name": "python",
   "nbconvert_exporter": "python",
   "pygments_lexer": "ipython3",
   "version": 3
  },
  "orig_nbformat": 4
 },
 "nbformat": 4,
 "nbformat_minor": 2,
 "cells": [
  {
   "cell_type": "code",
   "execution_count": null,
   "metadata": {},
   "outputs": [],
   "source": [
    "title: Reasons why users send SEPA instead of Moneybeam to other N26 users\n",
    "author: Franziska Erlekam\n",
    "date: 2021-09-15\n",
    "region: EU\n",
    "link: https://docs.google.com/presentation/d/1BsFAIhYu0cHW7DDQNH54iaLHgRWxOMPF24EoxspjyC0/edit#slide=id.gd4321f2c58_0_10\n",
    "tags: SEPA, Moneybeam, visibility, standing orders\n",
    "summary: When our users want to send money to other N26 users, they can do so via SEPA and MB. MB would be cheaper for us that is why we want to nudge users to chose MB over SEPA in the ling run. This deep dive explores the possible reasons for SEPA use and quantifies them for the time if Jan 2021 - August 2021. All queries used can be found in the speaker notes at the bottom of the slides."
   ]
  }
 ]
}