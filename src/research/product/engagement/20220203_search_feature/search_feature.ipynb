{
 "cells": [
  {
   "cell_type": "code",
   "execution_count": null,
   "metadata": {},
   "outputs": [],
   "source": [
    "title: Learnings from the Search feature launch\n",
    "author: Franziska Erlekam\n",
    "date: 2022-02-03\n",
    "region: EU\n",
    "link: https://docs.google.com/presentation/d/1flCUtFQP9VDVL-o5k7JvQ6WeTM0BsExgJvkuius8XSo/edit#slide=id.g103f9f56fe9_0_398\n",
    "tags: search, typing suggestions, tags\n",
    "summary: In summer 2021 search suggestions (tags, contacts, merchants) were introduced. In Nov 2021 typing suggestions were introduced in search. This summary shows how search usage increased and how retention and search success changed.\n"
   ]
  }
 ],
 "metadata": {
  "language_info": {
   "name": "python"
  },
  "orig_nbformat": 4
 },
 "nbformat": 4,
 "nbformat_minor": 2
}
