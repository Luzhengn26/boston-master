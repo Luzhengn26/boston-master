{
 "cells": [
  {
   "cell_type": "markdown",
   "id": "1d408525-e51f-4298-bd4c-57d62cf18a7c",
   "metadata": {},
   "source": [
    "title: From FAU with fees to FAU without fees\n",
    "\n",
    "author: James Arch, Brieuc Van Thienen\n",
    "\n",
    "date: 2019-05-20\n",
    "\n",
    "region: EU\n",
    "\n",
    "link: https://docs.google.com/spreadsheets/d/1uLKa-IJM4non0gzTkbkvpFdLypdC6RYwUvhiQu1jEq8/edit?usp=sharing\n",
    "\n",
    "summary: Analyses the impact of removing main fees (membership, dunning) from the FAU definition, prior to shifting main reporting sheets to the no-fee definition\n",
    "\n",
    "tags: product, growth, retention, activity metrics, FAU\n"
   ]
  }
 ],
 "metadata": {
  "kernelspec": {
   "display_name": "Python 3 (ipykernel)",
   "language": "python",
   "name": "python3"
  },
  "language_info": {
   "codemirror_mode": {
    "name": "ipython",
    "version": 3
   },
   "file_extension": ".py",
   "mimetype": "text/x-python",
   "name": "python",
   "nbconvert_exporter": "python",
   "pygments_lexer": "ipython3",
   "version": "3.7.2"
  }
 },
 "nbformat": 4,
 "nbformat_minor": 5
}
