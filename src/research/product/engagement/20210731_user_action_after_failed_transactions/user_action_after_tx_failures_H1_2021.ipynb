{
 "metadata": {
  "language_info": {
   "codemirror_mode": {
    "name": "ipython",
    "version": 3
   },
   "file_extension": ".py",
   "mimetype": "text/x-python",
   "name": "python",
   "nbconvert_exporter": "python",
   "pygments_lexer": "ipython3",
   "version": 3
  },
  "orig_nbformat": 4
 },
 "nbformat": 4,
 "nbformat_minor": 2,
 "cells": [
  {
   "cell_type": "code",
   "execution_count": null,
   "metadata": {},
   "outputs": [],
   "source": [
    "title: User action after failed transaction\n",
    "author: Franziska Erlekam\n",
    "date: 2021-09-06\n",
    "region: EU\n",
    "link: https://docs.google.com/presentation/d/1UmZoAg_Lnrp7dmLGbBEpJTDsJEIz1v54RTsdTCwcFJs/edit#slide=id.gda8f6b9b5c_0_0\n",
    "tags: failed transactions, info cards, card settings, AR, CS contacts.\n",
    "summary: In early 2021 a new info campaign was launched when failed transactions (AR) occur. The user gets to see a push notification with actionable steps how to avoid these ARs in the future. This deep dive explores if users actially did the steps suggested, if they retried their transaction again and if CS contacts associated with ARs decreased."
   ]
  }
 ]
}