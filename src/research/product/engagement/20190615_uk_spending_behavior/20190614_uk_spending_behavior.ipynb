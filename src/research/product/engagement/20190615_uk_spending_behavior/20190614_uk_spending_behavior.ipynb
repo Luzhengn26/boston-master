{
 "cells": [
  {
   "cell_type": "markdown",
   "id": "4659bb3d-bb1a-4eeb-aaf9-58ebd373fb13",
   "metadata": {},
   "source": [
    "title: Spending behaviours of UK customers\n",
    "\n",
    "author: James Arch, Brieuc Van Thienen\n",
    "\n",
    "date: 2019-06-14\n",
    "\n",
    "region: EU\n",
    "\n",
    "link: https://docs.google.com/spreadsheets/d/1x0k-5jAqa9ba10Xlefix8ftxPtraiaHmstjQ-yOVSYM/edit?usp=sharing\n",
    "\n",
    "summary: UK spending behaviour: (1) v low account balances; (2) v high card txns per fau; (3) but lower than usual volumes. The purpose of this study is to find out why/what exactly is happening in the UK and how it is different from our other markets in terms of transaction behaviour.\n",
    "\n",
    "tags: product, engagment, retention, activation, feature usage, UK, account balance, card transactions.\n"
   ]
  }
 ],
 "metadata": {
  "kernelspec": {
   "display_name": "Python 3 (ipykernel)",
   "language": "python",
   "name": "python3"
  },
  "language_info": {
   "codemirror_mode": {
    "name": "ipython",
    "version": 3
   },
   "file_extension": ".py",
   "mimetype": "text/x-python",
   "name": "python",
   "nbconvert_exporter": "python",
   "pygments_lexer": "ipython3",
   "version": "3.7.2"
  }
 },
 "nbformat": 4,
 "nbformat_minor": 5
}
