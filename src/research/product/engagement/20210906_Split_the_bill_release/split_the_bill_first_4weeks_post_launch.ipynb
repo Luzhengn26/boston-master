{
 "cells": [
  {
   "cell_type": "code",
   "execution_count": null,
   "metadata": {},
   "outputs": [],
   "source": [
    "title: Launch of the Split the Bill feature\n",
    "author: Franziska Erlekam\n",
    "date: 2021-09-06\n",
    "region: EU\n",
    "link: https://docs.google.com/presentation/d/1CJd8rhWPEBax0CBJer1UV18sFdmSkf6AVUj-mm6xoqA/edit#slide=id.ge686f34fb6_0_168\n",
    "tags: Split the bill, release, adoption, multiplayer banking, friend referral.\n",
    "summary: On May 30 2021 Split the Bill was launched (for iOS, Android release was in August 2021). users can easily share expenses with friends inside and outside N26. This deep dive shows fearure adoption and multiplayer banking analytics. The adoption is still below 1 percent because it is a. buried in the menu, b. not every user has a use case and c. the infocard had no action button that lead to split the bill. The resulting friend referrals are of very high quality.\n"
   ]
  }
 ],
 "metadata": {
  "kernelspec": {
   "display_name": "Python 3.10.4 64-bit",
   "language": "python",
   "name": "python3"
  },
  "language_info": {
   "codemirror_mode": {
    "name": "ipython",
    "version": 3
   },
   "file_extension": ".py",
   "mimetype": "text/x-python",
   "name": "python",
   "nbconvert_exporter": "python",
   "pygments_lexer": "ipython3",
   "version": "3.10.4"
  },
  "orig_nbformat": 4,
  "vscode": {
   "interpreter": {
    "hash": "31f2aee4e71d21fbe5cf8b01ff0e069b9275f58929596ceb00d14d90e3e16cd6"
   }
  }
 },
 "nbformat": 4,
 "nbformat_minor": 2
}
