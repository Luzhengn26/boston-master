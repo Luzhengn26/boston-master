{
 "cells": [
  {
   "cell_type": "code",
   "execution_count": null,
   "id": "3a126024-3375-43eb-af58-e7080032fd05",
   "metadata": {},
   "outputs": [],
   "source": [
    "\n",
    "title: Early Top Up A/B Test\n",
    "author: Leticia Takahara\n",
    "date: 2023-03-10\n",
    "region: EU\n",
    "link: https://docs.google.com/presentation/d/1LtWl8yJrWp-VAsL7AGmE0vu6KWhvRuoo0UnqRpw0y_g/edit#slide=id.gb0a5380750_0_369\n",
    "tags: money in, onboarding hub, stripe, suggestions, first top up\n",
    "summary: This experiment was set to validate whether proposing higher amounts at the first top up flow (Stripe) will increase the amount transacted. As a result, suggesting 200€ for the first Stripe top up resulted on a higher amount for both first and subsequent Stripe transactions. In addition, we found that Stripe is the main method used for the first top up flow."
   ]
  }
 ],
 "metadata": {
  "kernelspec": {
   "display_name": "Python 3 (ipykernel)",
   "language": "python",
   "name": "python3"
  },
  "language_info": {
   "codemirror_mode": {
    "name": "ipython",
    "version": 3
   },
   "file_extension": ".py",
   "mimetype": "text/x-python",
   "name": "python",
   "nbconvert_exporter": "python",
   "pygments_lexer": "ipython3",
   "version": "3.9.13"
  }
 },
 "nbformat": 4,
 "nbformat_minor": 5
}
