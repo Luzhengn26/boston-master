{
 "cells": [
  {
   "cell_type": "code",
   "execution_count": null,
   "metadata": {},
   "outputs": [],
   "source": [
    "title: Moneybeam Network Analysis\n",
    "author: Franziska Erlekam\n",
    "date: 2021-06-30\n",
    "region: EU\n",
    "link: https://docs.google.com/presentation/d/1Nzl_xpxJMcMjWK5Fn4DxAcee9V8Y3Sf0Tq8WMw8t9lw/edit#slide=id.gd4321f2c58_0_111\n",
    "tags: moneybeam, network, multiplayer banking, relationships, centrality\n",
    "summary: How can we exploit the existing Moneybeam network analysis? How many MB partners do our users have? Which centrality measures can be used potentially to determine how close a user is to all other users?"
   ]
  }
 ],
 "metadata": {
  "language_info": {
   "codemirror_mode": {
    "name": "ipython",
    "version": 3
   },
   "file_extension": ".py",
   "mimetype": "text/x-python",
   "name": "python",
   "nbconvert_exporter": "python",
   "pygments_lexer": "ipython3",
   "version": 3
  },
  "orig_nbformat": 4
 },
 "nbformat": 4,
 "nbformat_minor": 2
}
