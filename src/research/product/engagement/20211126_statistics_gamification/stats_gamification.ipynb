{
 "cells": [
  {
   "cell_type": "code",
   "execution_count": null,
   "metadata": {},
   "outputs": [],
   "source": [
    "title: Should the statistics feature be unlockable (gamified)?\n",
    "author: Franziska Erlekam\n",
    "date: 2021-11-26\n",
    "region: EU\n",
    "link: https://docs.google.com/presentation/d/1fO77qt6jHTJlPaNPpxQfluHMg6wy9brm294kUTYPZXs/edit?usp=sharing\n",
    "tags: statistics, gamification, unlock, transaction count\n",
    "summary: Most users check out statistics very early in their user journey and then do not return. \n",
    "This slide deck assesses whether the feature should be hidden for new users and being unlockable after a certain transaction count to make it a valuable feature for the user."
   ]
  }
 ],
 "metadata": {
  "language_info": {
   "name": "python"
  },
  "orig_nbformat": 4
 },
 "nbformat": 4,
 "nbformat_minor": 2
}
