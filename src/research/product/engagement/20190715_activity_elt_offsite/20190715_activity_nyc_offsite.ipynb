{
 "cells": [
  {
   "cell_type": "markdown",
   "id": "47301b16-5170-4f03-b647-4d9f3a1d74e4",
   "metadata": {},
   "source": [
    "title: 20190715 Activity NYC Offsite\n",
    "\n",
    "author: James Arch, Brieuc Van Thienen\n",
    "\n",
    "date: 2019-07-15\n",
    "\n",
    "region: EU\n",
    "\n",
    "link: https://docs.google.com/presentation/d/1STRRSBj4XGncmGxmLWbhpjdNXtIMb5e4SZhEyleE5Ys/edit?usp=sharing\n",
    "\n",
    "summary: Compilation of multiple studies shown to ELT: (1) Activity breakdown: Which products and features do customers use; (2) Lapse and reactivations: Findings from the no-fee FAU definition and gap analysis on net FAU growth; (3) ES Local IBAN: Main changes in conversions and activity; (4) Brand and OOH Impact: Measuring the impact from the share of signup survey answers.\n",
    "\n",
    "tags: product, engagment, retention, activation, feature usage, elt offsite\n"
   ]
  }
 ],
 "metadata": {
  "kernelspec": {
   "display_name": "Python 3 (ipykernel)",
   "language": "python",
   "name": "python3"
  },
  "language_info": {
   "codemirror_mode": {
    "name": "ipython",
    "version": 3
   },
   "file_extension": ".py",
   "mimetype": "text/x-python",
   "name": "python",
   "nbconvert_exporter": "python",
   "pygments_lexer": "ipython3",
   "version": "3.7.2"
  }
 },
 "nbformat": 4,
 "nbformat_minor": 5
}
