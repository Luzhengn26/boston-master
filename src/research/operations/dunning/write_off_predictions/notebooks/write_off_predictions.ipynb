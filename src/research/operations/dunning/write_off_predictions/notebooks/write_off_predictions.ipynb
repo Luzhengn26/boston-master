{
 "cells": [
  {
   "cell_type": "markdown",
   "source": [
    "title: First feature explorations and a simple Logistic Regression Model  \n",
    "author: Jesse Scherwitz  \n",
    "date: 2021-02-01  \n",
    "region: EU  \n",
    "summary: Model to predict the customers that are likely to be written-off. Plan is use this knowledge to take specific actions to turn them into recovery. With this first Model Version we would be able to predict write offs with 78% accuracy.\n",
    "link: https://docs.google.com/presentation/d/1jsdJ-kPyxB9rRSRMZPTjufJ_fr5HvQZ1MGXGCoTgRmk/edit#slide=id.gb9d2a1ff7a_0_0  \n",
    "tags: operations, dunning, write off, prediction, logistic regression"
   ],
   "metadata": {}
  },
  {
   "cell_type": "code",
   "execution_count": null,
   "source": [
    "\"\"\"This contains first feature explorations and a simple Logistic Regression Model to predict write-offs.\"\"\"\n",
    "\n",
    "import matplotlib.pyplot as plt\n",
    "import numpy as np\n",
    "import pandas as pd\n",
    "from IPython.display import HTML\n",
    "from pathlib import Path\n",
    "from scipy import stats\n",
    "from sklearn.linear_model import LogisticRegression\n",
    "from sklearn.metrics import (\n",
    "    f1_score,\n",
    "    classification_report,\n",
    ")  # , confusion_matrix, accuracy_score, roc_auc_score\n",
    "from sklearn.model_selection import (\n",
    "    train_test_split,\n",
    ")  # , GridSearchCV, RandomizedSearchCV"
   ],
   "outputs": [],
   "metadata": {}
  },
  {
   "cell_type": "code",
   "execution_count": 90,
   "source": [
    "HTML(\n",
    "    \"\"\"<script>\n",
    "code_show=true; \n",
    "function code_toggle() {\n",
    " if (code_show){\n",
    " $('div.input').hide();\n",
    " } else {\n",
    " $('div.input').show();\n",
    " }\n",
    " code_show = !code_show\n",
    "} \n",
    "$( document ).ready(code_toggle);\n",
    "</script>\n",
    "<form action=\"javascript:code_toggle()\"><input type=\"submit\" value=\"Click here to toggle on/off the raw code.\"></form>\"\"\"\n",
    ")"
   ],
   "outputs": [
    {
     "output_type": "execute_result",
     "data": {
      "text/plain": [
       "<IPython.core.display.HTML object>"
      ],
      "text/html": [
       "<script>\n",
       "code_show=true; \n",
       "function code_toggle() {\n",
       " if (code_show){\n",
       " $('div.input').hide();\n",
       " } else {\n",
       " $('div.input').show();\n",
       " }\n",
       " code_show = !code_show\n",
       "} \n",
       "$( document ).ready(code_toggle);\n",
       "</script>\n",
       "<form action=\"javascript:code_toggle()\"><input type=\"submit\" value=\"Click here to toggle on/off the raw code.\"></form>"
      ]
     },
     "metadata": {},
     "execution_count": 90
    }
   ],
   "metadata": {}
  },
  {
   "cell_type": "code",
   "execution_count": 139,
   "source": [
    "# data = pd.read_csv(\"fra/live/write_off_pred.csv\")\n",
    "\n",
    "data = pd.read_csv(\n",
    "    \"/app/research/operations/dunning/write_off_predictions/data/exploration_write_off_pred.csv\"\n",
    ")"
   ],
   "outputs": [],
   "metadata": {}
  },
  {
   "cell_type": "code",
   "execution_count": 140,
   "source": [
    "data[\"arrears_amount_eur\"] = data[\"arrears_amount_cents\"] / 100\n",
    "data.drop(columns=[\"arrears_amount_cents\"], inplace=True)"
   ],
   "outputs": [],
   "metadata": {}
  },
  {
   "cell_type": "code",
   "execution_count": 141,
   "source": [
    "features = [\n",
    "    \"current_status\",\n",
    "    \"tnc_country_group\",\n",
    "    \"age_group\",\n",
    "    \"initial_arrears_reason\",\n",
    "    \"days_in_dunning\",\n",
    "    \"arrears_amount_eur\",\n",
    "    \"days_since_kycc\",\n",
    "    \"cnt_times_arrears\",\n",
    "    \"lifetime_txn_count\",\n",
    "    \"logins\",\n",
    "    \"arrears_start_tstmp\",\n",
    "    \"arrears_end_tstmp\",\n",
    "]"
   ],
   "outputs": [],
   "metadata": {}
  },
  {
   "cell_type": "code",
   "execution_count": 142,
   "source": [
    "data = data[features]"
   ],
   "outputs": [],
   "metadata": {}
  },
  {
   "cell_type": "markdown",
   "source": [
    "### Only the most recent case, only recovered / written off!"
   ],
   "metadata": {}
  },
  {
   "cell_type": "markdown",
   "source": [
    "# First Analysis"
   ],
   "metadata": {}
  },
  {
   "cell_type": "code",
   "execution_count": 144,
   "source": [
    "len(data)"
   ],
   "outputs": [
    {
     "output_type": "execute_result",
     "data": {
      "text/plain": [
       "276432"
      ]
     },
     "metadata": {},
     "execution_count": 144
    }
   ],
   "metadata": {}
  },
  {
   "cell_type": "code",
   "execution_count": 145,
   "source": [
    "data.current_status.hist()"
   ],
   "outputs": [
    {
     "output_type": "execute_result",
     "data": {
      "text/plain": [
       "<AxesSubplot:>"
      ]
     },
     "metadata": {},
     "execution_count": 145
    },
    {
     "output_type": "display_data",
     "data": {
      "text/plain": [
       "<Figure size 432x288 with 1 Axes>"
      ],
      "image/png": "[encoded data removed]"
     },
     "metadata": {
      "needs_background": "light"
     }
    }
   ],
   "metadata": {}
  },
  {
   "cell_type": "code",
   "execution_count": 146,
   "source": [
    "data[\"arrears_start_month\"] = data[\"arrears_start_tstmp\"].astype(str).str[:7]\n",
    "data[\"arrears_end_month\"] = data[\"arrears_end_tstmp\"].astype(str).str[:7]"
   ],
   "outputs": [],
   "metadata": {}
  },
  {
   "cell_type": "code",
   "execution_count": 147,
   "source": [
    "y = data.groupby([\"arrears_start_month\"]).size()\n",
    "z = data[data[\"current_status\"] == \"written off\"].groupby([\"arrears_end_month\"]).size()"
   ],
   "outputs": [],
   "metadata": {}
  },
  {
   "cell_type": "code",
   "execution_count": 148,
   "source": [
    "y.plot(kind=\"bar\")"
   ],
   "outputs": [
    {
     "output_type": "execute_result",
     "data": {
      "text/plain": [
       "<AxesSubplot:xlabel='arrears_start_month'>"
      ]
     },
     "metadata": {},
     "execution_count": 148
    },
    {
     "output_type": "display_data",
     "data": {
      "text/plain": [
       "<Figure size 432x288 with 1 Axes>"
      ],
      "image/png": "[encoded data removed]"
     },
     "metadata": {
      "needs_background": "light"
     }
    }
   ],
   "metadata": {}
  },
  {
   "cell_type": "code",
   "execution_count": 149,
   "source": [
    "z.plot(kind=\"bar\")"
   ],
   "outputs": [
    {
     "output_type": "execute_result",
     "data": {
      "text/plain": [
       "<AxesSubplot:xlabel='arrears_end_month'>"
      ]
     },
     "metadata": {},
     "execution_count": 149
    },
    {
     "output_type": "display_data",
     "data": {
      "text/plain": [
       "<Figure size 432x288 with 1 Axes>"
      ],
      "image/png": "[encoded data removed]"
     },
     "metadata": {
      "needs_background": "light"
     }
    }
   ],
   "metadata": {}
  },
  {
   "cell_type": "code",
   "execution_count": 151,
   "source": [
    "data.drop(\n",
    "    columns=[\n",
    "        \"arrears_start_month\",\n",
    "        \"arrears_end_month\",\n",
    "        \"arrears_start_tstmp\",\n",
    "        \"arrears_end_tstmp\",\n",
    "    ],\n",
    "    inplace=True,\n",
    ")"
   ],
   "outputs": [],
   "metadata": {}
  },
  {
   "cell_type": "markdown",
   "source": [
    "## Days in dunning"
   ],
   "metadata": {}
  },
  {
   "cell_type": "code",
   "execution_count": 98,
   "source": [
    "data.days_in_dunning.hist(bins=40)"
   ],
   "outputs": [
    {
     "output_type": "execute_result",
     "data": {
      "text/plain": [
       "<AxesSubplot:>"
      ]
     },
     "metadata": {},
     "execution_count": 98
    },
    {
     "output_type": "display_data",
     "data": {
      "text/plain": [
       "<Figure size 432x288 with 1 Axes>"
      ],
      "image/png": "[encoded data removed]"
     },
     "metadata": {
      "needs_background": "light"
     }
    }
   ],
   "metadata": {}
  },
  {
   "cell_type": "code",
   "execution_count": 99,
   "source": [
    "fig, axes = plt.subplots(1, 2, figsize=(15, 3))\n",
    "\n",
    "data[data[\"current_status\"] == \"recovered\"].days_in_dunning.hist(bins=100, ax=axes[0])\n",
    "data[data[\"current_status\"] == \"written off\"].days_in_dunning.hist(\n",
    "    bins=100, ax=axes[1], color=\"r\"\n",
    ")\n",
    "axes[0].set_title(\"recovered\")\n",
    "axes[1].set_title(\"written off\")\n",
    "plt.show()"
   ],
   "outputs": [
    {
     "output_type": "display_data",
     "data": {
      "text/plain": [
       "<Figure size 1080x216 with 2 Axes>"
      ],
      "image/png": "[encoded data removed]"
     },
     "metadata": {
      "needs_background": "light"
     }
    }
   ],
   "metadata": {}
  },
  {
   "cell_type": "code",
   "execution_count": 33,
   "source": [
    "# written off after few days in dunning?\n",
    "data[data[\"current_status\"] == \"written off\"].groupby([\"days_in_dunning\"]).size()"
   ],
   "outputs": [
    {
     "output_type": "execute_result",
     "data": {
      "text/plain": [
       "days_in_dunning\n",
       "0      37\n",
       "1      32\n",
       "2      19\n",
       "3      19\n",
       "4      29\n",
       "       ..\n",
       "240     1\n",
       "246     3\n",
       "253     1\n",
       "262     1\n",
       "265     1\n",
       "Length: 204, dtype: int64"
      ]
     },
     "metadata": {},
     "execution_count": 33
    }
   ],
   "metadata": {}
  },
  {
   "cell_type": "markdown",
   "source": [
    "## Idea: Throw away days_in_dunning ≤ 14"
   ],
   "metadata": {}
  },
  {
   "cell_type": "code",
   "execution_count": 133,
   "source": [
    "data14 = data[data[\"days_in_dunning\"] > 14]"
   ],
   "outputs": [],
   "metadata": {}
  },
  {
   "cell_type": "code",
   "execution_count": 128,
   "source": [
    "len(data14)"
   ],
   "outputs": [
    {
     "output_type": "execute_result",
     "data": {
      "text/plain": [
       "81531"
      ]
     },
     "metadata": {},
     "execution_count": 128
    }
   ],
   "metadata": {}
  },
  {
   "cell_type": "code",
   "execution_count": 102,
   "source": [
    "data14.current_status.hist()"
   ],
   "outputs": [
    {
     "output_type": "execute_result",
     "data": {
      "text/plain": [
       "<AxesSubplot:>"
      ]
     },
     "metadata": {},
     "execution_count": 102
    },
    {
     "output_type": "display_data",
     "data": {
      "text/plain": [
       "<Figure size 432x288 with 1 Axes>"
      ],
      "image/png": "[encoded data removed]"
     },
     "metadata": {
      "needs_background": "light"
     }
    }
   ],
   "metadata": {}
  },
  {
   "cell_type": "markdown",
   "source": [
    "## Days since KYCC"
   ],
   "metadata": {}
  },
  {
   "cell_type": "code",
   "execution_count": 104,
   "source": [
    "fig, axes = plt.subplots(1, 2, figsize=(15, 3))\n",
    "\n",
    "data14[data14[\"current_status\"] == \"recovered\"].days_since_kycc.hist(\n",
    "    bins=100, ax=axes[0]\n",
    ")\n",
    "data14[data14[\"current_status\"] == \"written off\"].days_since_kycc.hist(\n",
    "    bins=100, ax=axes[1], color=\"r\"\n",
    ")\n",
    "axes[0].set_title(\"recovered\")\n",
    "axes[1].set_title(\"written off\")\n",
    "plt.show()\n",
    "\n",
    "print(\n",
    "    \"rec. mean = \",\n",
    "    data14[data14[\"current_status\"] == \"recovered\"].days_since_kycc.mean(),\n",
    "    4 * \"\\t\" + \"wr. mean = \",\n",
    "    data14[data14[\"current_status\"] == \"written off\"].days_since_kycc.mean(),\n",
    ")\n",
    "print(\n",
    "    \"rec. median = \",\n",
    "    data14[data14[\"current_status\"] == \"recovered\"].days_since_kycc.median(),\n",
    "    5 * \"\\t\" + \"wr. median = \",\n",
    "    data14[data14[\"current_status\"] == \"written off\"].days_since_kycc.median(),\n",
    ")"
   ],
   "outputs": [
    {
     "output_type": "display_data",
     "data": {
      "text/plain": [
       "<Figure size 1080x216 with 2 Axes>"
      ],
      "image/png": "[encoded data removed]"
     },
     "metadata": {
      "needs_background": "light"
     }
    },
    {
     "output_type": "stream",
     "name": "stdout",
     "text": [
      "rec. mean =  453.8953822017629 \t\t\t\twr. mean =  222.5584839509158\n",
      "rec. median =  366.0 \t\t\t\t\twr. median =  62.0\n"
     ]
    }
   ],
   "metadata": {}
  },
  {
   "cell_type": "markdown",
   "source": [
    " ## Numerical features: min/max/percentiles/..."
   ],
   "metadata": {}
  },
  {
   "cell_type": "code",
   "execution_count": 132,
   "source": [
    "features = [\n",
    "    \"current_status\",\n",
    "    \"tnc_country_group\",\n",
    "    \"age_group\",\n",
    "    \"initial_arrears_reason\",\n",
    "    \"arrears_amount_eur\",\n",
    "    #'days_in_dunning',\n",
    "    \"days_since_kycc\",\n",
    "    \"cnt_times_arrears\",\n",
    "    \"lifetime_txn_count\",\n",
    "    \"logins\",\n",
    "]"
   ],
   "outputs": [],
   "metadata": {}
  },
  {
   "cell_type": "code",
   "execution_count": 134,
   "source": [
    "data14_slim = data14[features].reset_index(drop=True)"
   ],
   "outputs": [],
   "metadata": {}
  },
  {
   "cell_type": "code",
   "execution_count": 46,
   "source": [
    "data14_slim.describe()"
   ],
   "outputs": [
    {
     "output_type": "execute_result",
     "data": {
      "text/plain": [
       "       arrears_amount_eur  days_since_kycc  cnt_times_arrears  \\\n",
       "count        81531.000000      81531.00000       81531.000000   \n",
       "mean            69.528385        360.01018           3.787136   \n",
       "std            469.671380        376.97417           4.580448   \n",
       "min              0.010000          0.00000           1.000000   \n",
       "25%              7.970000         31.00000           1.000000   \n",
       "50%             23.050000        245.00000           2.000000   \n",
       "75%             40.700000        566.00000           5.000000   \n",
       "max          29181.490000       2215.00000          68.000000   \n",
       "\n",
       "       lifetime_txn_count        logins  \n",
       "count        81531.000000  81531.000000  \n",
       "mean           213.018165      9.200145  \n",
       "std            385.133759     16.666885  \n",
       "min              0.000000      0.000000  \n",
       "25%              5.000000      2.000000  \n",
       "50%             67.000000      5.000000  \n",
       "75%            252.000000     11.000000  \n",
       "max           9780.000000    930.000000  "
      ],
      "text/html": [
       "<div>\n",
       "<style scoped>\n",
       "    .dataframe tbody tr th:only-of-type {\n",
       "        vertical-align: middle;\n",
       "    }\n",
       "\n",
       "    .dataframe tbody tr th {\n",
       "        vertical-align: top;\n",
       "    }\n",
       "\n",
       "    .dataframe thead th {\n",
       "        text-align: right;\n",
       "    }\n",
       "</style>\n",
       "<table border=\"1\" class=\"dataframe\">\n",
       "  <thead>\n",
       "    <tr style=\"text-align: right;\">\n",
       "      <th></th>\n",
       "      <th>arrears_amount_eur</th>\n",
       "      <th>days_since_kycc</th>\n",
       "      <th>cnt_times_arrears</th>\n",
       "      <th>lifetime_txn_count</th>\n",
       "      <th>logins</th>\n",
       "    </tr>\n",
       "  </thead>\n",
       "  <tbody>\n",
       "    <tr>\n",
       "      <th>count</th>\n",
       "      <td>81531.000000</td>\n",
       "      <td>81531.00000</td>\n",
       "      <td>81531.000000</td>\n",
       "      <td>81531.000000</td>\n",
       "      <td>81531.000000</td>\n",
       "    </tr>\n",
       "    <tr>\n",
       "      <th>mean</th>\n",
       "      <td>69.528385</td>\n",
       "      <td>360.01018</td>\n",
       "      <td>3.787136</td>\n",
       "      <td>213.018165</td>\n",
       "      <td>9.200145</td>\n",
       "    </tr>\n",
       "    <tr>\n",
       "      <th>std</th>\n",
       "      <td>469.671380</td>\n",
       "      <td>376.97417</td>\n",
       "      <td>4.580448</td>\n",
       "      <td>385.133759</td>\n",
       "      <td>16.666885</td>\n",
       "    </tr>\n",
       "    <tr>\n",
       "      <th>min</th>\n",
       "      <td>0.010000</td>\n",
       "      <td>0.00000</td>\n",
       "      <td>1.000000</td>\n",
       "      <td>0.000000</td>\n",
       "      <td>0.000000</td>\n",
       "    </tr>\n",
       "    <tr>\n",
       "      <th>25%</th>\n",
       "      <td>7.970000</td>\n",
       "      <td>31.00000</td>\n",
       "      <td>1.000000</td>\n",
       "      <td>5.000000</td>\n",
       "      <td>2.000000</td>\n",
       "    </tr>\n",
       "    <tr>\n",
       "      <th>50%</th>\n",
       "      <td>23.050000</td>\n",
       "      <td>245.00000</td>\n",
       "      <td>2.000000</td>\n",
       "      <td>67.000000</td>\n",
       "      <td>5.000000</td>\n",
       "    </tr>\n",
       "    <tr>\n",
       "      <th>75%</th>\n",
       "      <td>40.700000</td>\n",
       "      <td>566.00000</td>\n",
       "      <td>5.000000</td>\n",
       "      <td>252.000000</td>\n",
       "      <td>11.000000</td>\n",
       "    </tr>\n",
       "    <tr>\n",
       "      <th>max</th>\n",
       "      <td>29181.490000</td>\n",
       "      <td>2215.00000</td>\n",
       "      <td>68.000000</td>\n",
       "      <td>9780.000000</td>\n",
       "      <td>930.000000</td>\n",
       "    </tr>\n",
       "  </tbody>\n",
       "</table>\n",
       "</div>"
      ]
     },
     "metadata": {},
     "execution_count": 46
    }
   ],
   "metadata": {}
  },
  {
   "cell_type": "markdown",
   "source": [
    "## Recovered:"
   ],
   "metadata": {}
  },
  {
   "cell_type": "code",
   "execution_count": 165,
   "source": [
    "data14_slim[data14_slim[\"current_status\"] == \"recovered\"].describe()"
   ],
   "outputs": [
    {
     "output_type": "execute_result",
     "data": {
      "text/plain": [
       "       arrears_amount_eur  days_since_kycc  cnt_times_arrears  \\\n",
       "count        48443.000000     48443.000000       48443.000000   \n",
       "mean            34.782651       453.895382           4.371756   \n",
       "std            324.146470       390.559269           4.940708   \n",
       "min              0.010000         0.000000           1.000000   \n",
       "25%              3.990000       140.000000           1.000000   \n",
       "50%              9.840000       366.000000           3.000000   \n",
       "75%             23.200000       670.000000           6.000000   \n",
       "max          29181.490000      2215.000000          68.000000   \n",
       "\n",
       "       lifetime_txn_count        logins  \n",
       "count        48443.000000  48443.000000  \n",
       "mean           285.828210     10.308631  \n",
       "std            429.491707     16.988444  \n",
       "min              0.000000      0.000000  \n",
       "25%             38.000000      2.000000  \n",
       "50%            136.000000      6.000000  \n",
       "75%            354.000000     12.000000  \n",
       "max           9780.000000    930.000000  "
      ],
      "text/html": [
       "<div>\n",
       "<style scoped>\n",
       "    .dataframe tbody tr th:only-of-type {\n",
       "        vertical-align: middle;\n",
       "    }\n",
       "\n",
       "    .dataframe tbody tr th {\n",
       "        vertical-align: top;\n",
       "    }\n",
       "\n",
       "    .dataframe thead th {\n",
       "        text-align: right;\n",
       "    }\n",
       "</style>\n",
       "<table border=\"1\" class=\"dataframe\">\n",
       "  <thead>\n",
       "    <tr style=\"text-align: right;\">\n",
       "      <th></th>\n",
       "      <th>arrears_amount_eur</th>\n",
       "      <th>days_since_kycc</th>\n",
       "      <th>cnt_times_arrears</th>\n",
       "      <th>lifetime_txn_count</th>\n",
       "      <th>logins</th>\n",
       "    </tr>\n",
       "  </thead>\n",
       "  <tbody>\n",
       "    <tr>\n",
       "      <th>count</th>\n",
       "      <td>48443.000000</td>\n",
       "      <td>48443.000000</td>\n",
       "      <td>48443.000000</td>\n",
       "      <td>48443.000000</td>\n",
       "      <td>48443.000000</td>\n",
       "    </tr>\n",
       "    <tr>\n",
       "      <th>mean</th>\n",
       "      <td>34.782651</td>\n",
       "      <td>453.895382</td>\n",
       "      <td>4.371756</td>\n",
       "      <td>285.828210</td>\n",
       "      <td>10.308631</td>\n",
       "    </tr>\n",
       "    <tr>\n",
       "      <th>std</th>\n",
       "      <td>324.146470</td>\n",
       "      <td>390.559269</td>\n",
       "      <td>4.940708</td>\n",
       "      <td>429.491707</td>\n",
       "      <td>16.988444</td>\n",
       "    </tr>\n",
       "    <tr>\n",
       "      <th>min</th>\n",
       "      <td>0.010000</td>\n",
       "      <td>0.000000</td>\n",
       "      <td>1.000000</td>\n",
       "      <td>0.000000</td>\n",
       "      <td>0.000000</td>\n",
       "    </tr>\n",
       "    <tr>\n",
       "      <th>25%</th>\n",
       "      <td>3.990000</td>\n",
       "      <td>140.000000</td>\n",
       "      <td>1.000000</td>\n",
       "      <td>38.000000</td>\n",
       "      <td>2.000000</td>\n",
       "    </tr>\n",
       "    <tr>\n",
       "      <th>50%</th>\n",
       "      <td>9.840000</td>\n",
       "      <td>366.000000</td>\n",
       "      <td>3.000000</td>\n",
       "      <td>136.000000</td>\n",
       "      <td>6.000000</td>\n",
       "    </tr>\n",
       "    <tr>\n",
       "      <th>75%</th>\n",
       "      <td>23.200000</td>\n",
       "      <td>670.000000</td>\n",
       "      <td>6.000000</td>\n",
       "      <td>354.000000</td>\n",
       "      <td>12.000000</td>\n",
       "    </tr>\n",
       "    <tr>\n",
       "      <th>max</th>\n",
       "      <td>29181.490000</td>\n",
       "      <td>2215.000000</td>\n",
       "      <td>68.000000</td>\n",
       "      <td>9780.000000</td>\n",
       "      <td>930.000000</td>\n",
       "    </tr>\n",
       "  </tbody>\n",
       "</table>\n",
       "</div>"
      ]
     },
     "metadata": {},
     "execution_count": 165
    }
   ],
   "metadata": {}
  },
  {
   "cell_type": "markdown",
   "source": [
    "## Written off:"
   ],
   "metadata": {}
  },
  {
   "cell_type": "code",
   "execution_count": 166,
   "source": [
    "data14_slim[data14_slim[\"current_status\"] == \"written off\"].describe()"
   ],
   "outputs": [
    {
     "output_type": "execute_result",
     "data": {
      "text/plain": [
       "       arrears_amount_eur  days_since_kycc  cnt_times_arrears  \\\n",
       "count        33086.000000     33086.000000       33086.000000   \n",
       "mean           120.396899       222.558484           2.931149   \n",
       "std            620.802334       308.308192           3.837579   \n",
       "min              0.010000         0.000000           1.000000   \n",
       "25%             25.250000        15.000000           1.000000   \n",
       "50%             39.720000        62.000000           1.000000   \n",
       "75%             51.260000       332.000000           3.000000   \n",
       "max          28728.420000      2122.000000          59.000000   \n",
       "\n",
       "       lifetime_txn_count        logins  \n",
       "count        33086.000000  33086.000000  \n",
       "mean           106.423502      7.577465  \n",
       "std            276.236941     16.047738  \n",
       "min              0.000000      0.000000  \n",
       "25%              0.000000      0.000000  \n",
       "50%              5.000000      3.000000  \n",
       "75%             80.000000      9.000000  \n",
       "max           6244.000000    535.000000  "
      ],
      "text/html": [
       "<div>\n",
       "<style scoped>\n",
       "    .dataframe tbody tr th:only-of-type {\n",
       "        vertical-align: middle;\n",
       "    }\n",
       "\n",
       "    .dataframe tbody tr th {\n",
       "        vertical-align: top;\n",
       "    }\n",
       "\n",
       "    .dataframe thead th {\n",
       "        text-align: right;\n",
       "    }\n",
       "</style>\n",
       "<table border=\"1\" class=\"dataframe\">\n",
       "  <thead>\n",
       "    <tr style=\"text-align: right;\">\n",
       "      <th></th>\n",
       "      <th>arrears_amount_eur</th>\n",
       "      <th>days_since_kycc</th>\n",
       "      <th>cnt_times_arrears</th>\n",
       "      <th>lifetime_txn_count</th>\n",
       "      <th>logins</th>\n",
       "    </tr>\n",
       "  </thead>\n",
       "  <tbody>\n",
       "    <tr>\n",
       "      <th>count</th>\n",
       "      <td>33086.000000</td>\n",
       "      <td>33086.000000</td>\n",
       "      <td>33086.000000</td>\n",
       "      <td>33086.000000</td>\n",
       "      <td>33086.000000</td>\n",
       "    </tr>\n",
       "    <tr>\n",
       "      <th>mean</th>\n",
       "      <td>120.396899</td>\n",
       "      <td>222.558484</td>\n",
       "      <td>2.931149</td>\n",
       "      <td>106.423502</td>\n",
       "      <td>7.577465</td>\n",
       "    </tr>\n",
       "    <tr>\n",
       "      <th>std</th>\n",
       "      <td>620.802334</td>\n",
       "      <td>308.308192</td>\n",
       "      <td>3.837579</td>\n",
       "      <td>276.236941</td>\n",
       "      <td>16.047738</td>\n",
       "    </tr>\n",
       "    <tr>\n",
       "      <th>min</th>\n",
       "      <td>0.010000</td>\n",
       "      <td>0.000000</td>\n",
       "      <td>1.000000</td>\n",
       "      <td>0.000000</td>\n",
       "      <td>0.000000</td>\n",
       "    </tr>\n",
       "    <tr>\n",
       "      <th>25%</th>\n",
       "      <td>25.250000</td>\n",
       "      <td>15.000000</td>\n",
       "      <td>1.000000</td>\n",
       "      <td>0.000000</td>\n",
       "      <td>0.000000</td>\n",
       "    </tr>\n",
       "    <tr>\n",
       "      <th>50%</th>\n",
       "      <td>39.720000</td>\n",
       "      <td>62.000000</td>\n",
       "      <td>1.000000</td>\n",
       "      <td>5.000000</td>\n",
       "      <td>3.000000</td>\n",
       "    </tr>\n",
       "    <tr>\n",
       "      <th>75%</th>\n",
       "      <td>51.260000</td>\n",
       "      <td>332.000000</td>\n",
       "      <td>3.000000</td>\n",
       "      <td>80.000000</td>\n",
       "      <td>9.000000</td>\n",
       "    </tr>\n",
       "    <tr>\n",
       "      <th>max</th>\n",
       "      <td>28728.420000</td>\n",
       "      <td>2122.000000</td>\n",
       "      <td>59.000000</td>\n",
       "      <td>6244.000000</td>\n",
       "      <td>535.000000</td>\n",
       "    </tr>\n",
       "  </tbody>\n",
       "</table>\n",
       "</div>"
      ]
     },
     "metadata": {},
     "execution_count": 166
    }
   ],
   "metadata": {}
  },
  {
   "cell_type": "markdown",
   "source": [
    "## Cannot use days_in_dunning as feature!"
   ],
   "metadata": {}
  },
  {
   "cell_type": "markdown",
   "source": [
    "## Remove outliers!"
   ],
   "metadata": {}
  },
  {
   "cell_type": "code",
   "execution_count": 135,
   "source": [
    "numeric_df = data14_slim[\n",
    "    [\n",
    "        \"arrears_amount_eur\",\n",
    "        \"days_since_kycc\",\n",
    "        \"cnt_times_arrears\",\n",
    "        \"lifetime_txn_count\",\n",
    "        \"logins\",\n",
    "    ]\n",
    "]"
   ],
   "outputs": [],
   "metadata": {}
  },
  {
   "cell_type": "code",
   "execution_count": 136,
   "source": [
    "filtered_entries = (np.abs(stats.zscore(numeric_df)) < 3).all(axis=1)\n",
    "data14_slim = data14_slim[filtered_entries].reset_index(drop=True)"
   ],
   "outputs": [],
   "metadata": {}
  },
  {
   "cell_type": "code",
   "execution_count": 137,
   "source": [
    "data14 = data14_slim"
   ],
   "outputs": [],
   "metadata": {}
  },
  {
   "cell_type": "markdown",
   "source": [
    "## Lifetime txn's"
   ],
   "metadata": {}
  },
  {
   "cell_type": "code",
   "execution_count": 138,
   "source": [
    "fig, axes = plt.subplots(1, 2, figsize=(15, 3))\n",
    "\n",
    "data14[data14[\"current_status\"] == \"recovered\"].lifetime_txn_count.hist(\n",
    "    bins=100, ax=axes[0]\n",
    ")\n",
    "data14[data14[\"current_status\"] == \"written off\"].lifetime_txn_count.hist(\n",
    "    bins=100, ax=axes[1], color=\"r\"\n",
    ")\n",
    "axes[0].set_title(\"recovered\")\n",
    "axes[1].set_title(\"written off\")\n",
    "plt.show()\n",
    "\n",
    "print(\n",
    "    \"rec. mean = \",\n",
    "    data14[data14[\"current_status\"] == \"recovered\"].lifetime_txn_count.mean(),\n",
    "    3 * \"\\t\" + \"wr. mean = \",\n",
    "    data14[data14[\"current_status\"] == \"written off\"].lifetime_txn_count.mean(),\n",
    ")\n",
    "print(\n",
    "    \"rec. median = \",\n",
    "    data14[data14[\"current_status\"] == \"recovered\"].lifetime_txn_count.median(),\n",
    "    5 * \"\\t\" + \"wr. median = \",\n",
    "    data14[data14[\"current_status\"] == \"written off\"].lifetime_txn_count.median(),\n",
    ")"
   ],
   "outputs": [
    {
     "output_type": "display_data",
     "data": {
      "text/plain": [
       "<Figure size 1080x216 with 2 Axes>"
      ],
      "image/png": "[encoded data removed]"
     },
     "metadata": {
      "needs_background": "light"
     }
    },
    {
     "output_type": "stream",
     "name": "stdout",
     "text": [
      "rec. mean =  217.38052479971194 \t\t\twr. mean =  76.08756801476437\n",
      "rec. median =  120.0 \t\t\t\t\twr. median =  4.0\n"
     ]
    }
   ],
   "metadata": {}
  },
  {
   "cell_type": "markdown",
   "source": [
    "## Enter reasons"
   ],
   "metadata": {}
  },
  {
   "cell_type": "code",
   "execution_count": 23,
   "source": [
    "data14.groupby([\"initial_arrears_reason\"]).size().sort_values(ascending=False)[\n",
    "    :10\n",
    "].plot(kind=\"bar\", figsize=(12, 4))"
   ],
   "outputs": [
    {
     "output_type": "execute_result",
     "data": {
      "text/plain": [
       "<AxesSubplot:xlabel='initial_arrears_reason'>"
      ]
     },
     "metadata": {},
     "execution_count": 23
    },
    {
     "output_type": "display_data",
     "data": {
      "text/plain": [
       "<Figure size 864x288 with 1 Axes>"
      ],
      "image/png": "[encoded data removed]"
     },
     "metadata": {
      "needs_background": "light"
     }
    }
   ],
   "metadata": {}
  },
  {
   "cell_type": "code",
   "execution_count": 24,
   "source": [
    "fig, axes = plt.subplots(1, 2, figsize=(15, 3))\n",
    "\n",
    "data14[data14[\"current_status\"] == \"recovered\"].groupby(\n",
    "    [\"initial_arrears_reason\"]\n",
    ").size().sort_values(ascending=False)[:10].plot(\n",
    "    kind=\"bar\",\n",
    "    ax=axes[0],\n",
    ")\n",
    "data14[data14[\"current_status\"] == \"written off\"].groupby(\n",
    "    [\"initial_arrears_reason\"]\n",
    ").size().sort_values(ascending=False)[:10].plot(kind=\"bar\", ax=axes[1], color=\"r\")\n",
    "axes[0].set_title(\"recovered\")\n",
    "axes[1].set_title(\"written off\")\n",
    "plt.show()"
   ],
   "outputs": [
    {
     "output_type": "display_data",
     "data": {
      "text/plain": [
       "<Figure size 1080x216 with 2 Axes>"
      ],
      "image/png": "[encoded data removed]"
     },
     "metadata": {
      "needs_background": "light"
     }
    }
   ],
   "metadata": {}
  },
  {
   "cell_type": "markdown",
   "source": [
    "## Times in Arrears"
   ],
   "metadata": {}
  },
  {
   "cell_type": "code",
   "execution_count": 34,
   "source": [
    "fig, axes = plt.subplots(1, 2, figsize=(15, 3))\n",
    "\n",
    "data14[data14[\"current_status\"] == \"recovered\"].cnt_times_arrears.hist(\n",
    "    bins=40, ax=axes[0]\n",
    ")\n",
    "data14[data14[\"current_status\"] == \"written off\"].cnt_times_arrears.hist(\n",
    "    bins=40, ax=axes[1], color=\"r\"\n",
    ")\n",
    "axes[0].set_title(\"recovered\")\n",
    "axes[1].set_title(\"written off\")\n",
    "plt.show()\n",
    "\n",
    "print(\n",
    "    \"rec. mean = \",\n",
    "    data14[data14[\"current_status\"] == \"recovered\"].cnt_times_arrears.mean(),\n",
    "    3 * \"\\t\" + \"wr. mean = \",\n",
    "    data14[data14[\"current_status\"] == \"written off\"].cnt_times_arrears.mean(),\n",
    ")\n",
    "print(\n",
    "    \"rec. median = \",\n",
    "    data14[data14[\"current_status\"] == \"recovered\"].cnt_times_arrears.median(),\n",
    "    5 * \"\\t\" + \"wr. median = \",\n",
    "    data14[data14[\"current_status\"] == \"written off\"].cnt_times_arrears.median(),\n",
    ")"
   ],
   "outputs": [
    {
     "output_type": "display_data",
     "data": {
      "text/plain": [
       "<Figure size 1080x216 with 2 Axes>"
      ],
      "image/png": "[encoded data removed]"
     },
     "metadata": {
      "needs_background": "light"
     }
    },
    {
     "output_type": "stream",
     "name": "stdout",
     "text": [
      "rec. mean =  3.7023809523809526 \t\t\twr. mean =  2.5731695675692876\n",
      "rec. median =  2.0 \t\t\t\t\twr. median =  1.0\n"
     ]
    }
   ],
   "metadata": {}
  },
  {
   "cell_type": "markdown",
   "source": [
    "## Arrears Amt €"
   ],
   "metadata": {}
  },
  {
   "cell_type": "code",
   "execution_count": 28,
   "source": [
    "fig, axes = plt.subplots(1, 2, figsize=(15, 3))\n",
    "\n",
    "(data14[data14[\"current_status\"] == \"recovered\"].arrears_amount_eur).hist(\n",
    "    bins=40, ax=axes[0]\n",
    ")\n",
    "(data14[data14[\"current_status\"] == \"written off\"].arrears_amount_eur).hist(\n",
    "    bins=40, ax=axes[1], color=\"r\"\n",
    ")\n",
    "axes[0].set_title(\"recovered\")\n",
    "axes[1].set_title(\"written off\")\n",
    "plt.show()\n",
    "\n",
    "print(\n",
    "    \"rec. mean = \",\n",
    "    data14[data14[\"current_status\"] == \"recovered\"].arrears_amount_eur.mean(),\n",
    "    3 * \"\\t\" + \"wr. mean = \",\n",
    "    data14[data14[\"current_status\"] == \"written off\"].arrears_amount_eur.mean(),\n",
    ")\n",
    "print(\n",
    "    \"rec. median = \",\n",
    "    data14[data14[\"current_status\"] == \"recovered\"].arrears_amount_eur.median(),\n",
    "    5 * \"\\t\" + \"wr. median = \",\n",
    "    data14[data14[\"current_status\"] == \"written off\"].arrears_amount_eur.median(),\n",
    ")"
   ],
   "outputs": [
    {
     "output_type": "display_data",
     "data": {
      "text/plain": [
       "<Figure size 1080x216 with 2 Axes>"
      ],
      "image/png": "[encoded data removed]"
     },
     "metadata": {
      "needs_background": "light"
     }
    },
    {
     "output_type": "stream",
     "name": "stdout",
     "text": [
      "rec. mean =  19.383282923755516 \t\t\twr. mean =  53.69744550863906\n",
      "rec. median =  9.8 \t\t\t\t\twr. median =  39.48\n"
     ]
    }
   ],
   "metadata": {}
  },
  {
   "cell_type": "markdown",
   "source": [
    "## Logins"
   ],
   "metadata": {}
  },
  {
   "cell_type": "code",
   "execution_count": 30,
   "source": [
    "fig, axes = plt.subplots(1, 2, figsize=(15, 3))\n",
    "\n",
    "data14[data14[\"current_status\"] == \"recovered\"].logins.hist(bins=40, ax=axes[0])\n",
    "data14[data14[\"current_status\"] == \"written off\"].logins.hist(\n",
    "    bins=40, ax=axes[1], color=\"r\"\n",
    ")\n",
    "axes[0].set_title(\"recovered\")\n",
    "axes[1].set_title(\"written off\")\n",
    "plt.show()\n",
    "\n",
    "print(\n",
    "    \"rec. mean = \",\n",
    "    data14[data14[\"current_status\"] == \"recovered\"].logins.mean(),\n",
    "    4 * \"\\t\" + \"wr. mean = \",\n",
    "    data14[data14[\"current_status\"] == \"written off\"].logins.mean(),\n",
    ")\n",
    "print(\n",
    "    \"rec. median = \",\n",
    "    data14[data14[\"current_status\"] == \"recovered\"].logins.median(),\n",
    "    5 * \"\\t\" + \"wr. median = \",\n",
    "    data14[data14[\"current_status\"] == \"written off\"].logins.median(),\n",
    ")"
   ],
   "outputs": [
    {
     "output_type": "display_data",
     "data": {
      "text/plain": [
       "<Figure size 1080x216 with 2 Axes>"
      ],
      "image/png": "[encoded data removed]"
     },
     "metadata": {
      "needs_background": "light"
     }
    },
    {
     "output_type": "stream",
     "name": "stdout",
     "text": [
      "rec. mean =  8.736970024304618 \t\t\t\twr. mean =  6.189709485474274\n",
      "rec. median =  6.0 \t\t\t\t\twr. median =  3.0\n"
     ]
    }
   ],
   "metadata": {}
  },
  {
   "cell_type": "code",
   "execution_count": 39,
   "source": [
    "data14[data14[\"current_status\"] == \"written off\"].groupby([\"logins\"]).size()[:10]\n",
    "# data14[data14[\"current_status\"]==\"recovered\"].groupby([\"logins\"]).size()"
   ],
   "outputs": [
    {
     "output_type": "execute_result",
     "data": {
      "text/plain": [
       "logins\n",
       "0    8516\n",
       "1    3553\n",
       "2    2777\n",
       "3    2274\n",
       "4    1873\n",
       "5    1639\n",
       "6    1310\n",
       "7    1105\n",
       "8     937\n",
       "9     786\n",
       "dtype: int64"
      ]
     },
     "metadata": {},
     "execution_count": 39
    }
   ],
   "metadata": {}
  },
  {
   "cell_type": "markdown",
   "source": [
    "## TNC Country Group"
   ],
   "metadata": {}
  },
  {
   "cell_type": "code",
   "execution_count": 50,
   "source": [
    "fig, axes = plt.subplots(1, 2, figsize=(15, 3))\n",
    "\n",
    "data14[data14[\"current_status\"] == \"recovered\"].groupby(\n",
    "    [\"tnc_country_group\"]\n",
    ").size().sort_values(ascending=False)[:10].plot(\n",
    "    kind=\"bar\",\n",
    "    ax=axes[0],\n",
    ")\n",
    "data14[data14[\"current_status\"] == \"written off\"].groupby(\n",
    "    [\"tnc_country_group\"]\n",
    ").size().sort_values(ascending=False)[:10].plot(kind=\"bar\", ax=axes[1], color=\"r\")\n",
    "axes[0].set_title(\"recovered\")\n",
    "axes[1].set_title(\"written off\")\n",
    "plt.show()"
   ],
   "outputs": [
    {
     "output_type": "display_data",
     "data": {
      "text/plain": [
       "<Figure size 1080x216 with 2 Axes>"
      ],
      "image/png": "[encoded data removed]"
     },
     "metadata": {
      "needs_background": "light"
     }
    }
   ],
   "metadata": {}
  },
  {
   "cell_type": "code",
   "execution_count": 53,
   "source": [
    "## out of interest: looking at customers who recovered in the first 14 days.\n",
    "\n",
    "data[data[\"days_in_dunning\"] <= 14].groupby([\"tnc_country_group\"]).size().sort_values(\n",
    "    ascending=False\n",
    ")[:10].plot(kind=\"bar\", color=\"c\")"
   ],
   "outputs": [
    {
     "output_type": "execute_result",
     "data": {
      "text/plain": [
       "<AxesSubplot:xlabel='tnc_country_group'>"
      ]
     },
     "metadata": {},
     "execution_count": 53
    },
    {
     "output_type": "display_data",
     "data": {
      "text/plain": [
       "<Figure size 432x288 with 1 Axes>"
      ],
      "image/png": "[encoded data removed]"
     },
     "metadata": {
      "needs_background": "light"
     }
    }
   ],
   "metadata": {}
  },
  {
   "cell_type": "markdown",
   "source": [
    "## Age Group"
   ],
   "metadata": {}
  },
  {
   "cell_type": "code",
   "execution_count": 54,
   "source": [
    "fig, axes = plt.subplots(1, 2, figsize=(15, 3))\n",
    "\n",
    "data14[data14[\"current_status\"] == \"recovered\"].groupby(\n",
    "    [\"age_group\"]\n",
    ").size().sort_values(ascending=False)[:10].plot(\n",
    "    kind=\"bar\",\n",
    "    ax=axes[0],\n",
    ")\n",
    "data14[data14[\"current_status\"] == \"written off\"].groupby(\n",
    "    [\"age_group\"]\n",
    ").size().sort_values(ascending=False)[:10].plot(kind=\"bar\", ax=axes[1], color=\"r\")\n",
    "axes[0].set_title(\"recovered\")\n",
    "axes[1].set_title(\"written off\")\n",
    "plt.show()"
   ],
   "outputs": [
    {
     "output_type": "display_data",
     "data": {
      "text/plain": [
       "<Figure size 1080x216 with 2 Axes>"
      ],
      "image/png": "[encoded data removed]"
     },
     "metadata": {
      "needs_background": "light"
     }
    }
   ],
   "metadata": {}
  },
  {
   "cell_type": "markdown",
   "source": [
    "# Prediction Algo"
   ],
   "metadata": {}
  },
  {
   "cell_type": "code",
   "execution_count": 65,
   "source": [
    "data14_algo = data14"
   ],
   "outputs": [],
   "metadata": {}
  },
  {
   "cell_type": "code",
   "execution_count": 66,
   "source": [
    "for col_name in data14_algo.columns:\n",
    "    if data14_algo[col_name].dtype == \"object\":\n",
    "        data14_algo[col_name] = data14_algo[col_name].astype(\"category\")\n",
    "        data14_algo[col_name] = data14_algo[col_name].cat.codes"
   ],
   "outputs": [],
   "metadata": {}
  },
  {
   "cell_type": "code",
   "execution_count": 67,
   "source": [
    "data14_algo"
   ],
   "outputs": [
    {
     "output_type": "execute_result",
     "data": {
      "text/plain": [
       "       current_status  tnc_country_group  age_group  initial_arrears_reason  \\\n",
       "0                   1                  1          5                      28   \n",
       "1                   1                  1          3                      28   \n",
       "2                   1                  1          3                      21   \n",
       "3                   1                  3          4                       1   \n",
       "4                   1                  1          4                       9   \n",
       "...               ...                ...        ...                     ...   \n",
       "75860               2                  3          4                      18   \n",
       "75861               1                  3          3                       3   \n",
       "75862               2                  3          3                      18   \n",
       "75863               2                  1          3                      15   \n",
       "75864               2                  1          8                       3   \n",
       "\n",
       "       arrears_amount_eur  days_since_kycc  cnt_times_arrears  \\\n",
       "0                    2.17             1345                  6   \n",
       "1                   15.49             1292                 11   \n",
       "2                  283.82              990                  4   \n",
       "3                    4.99             1131                  5   \n",
       "4                  201.52             1479                 11   \n",
       "...                   ...              ...                ...   \n",
       "75860               51.66               15                  1   \n",
       "75861               60.53               15                  1   \n",
       "75862               51.51               15                  1   \n",
       "75863               24.20               10                  1   \n",
       "75864               51.02               15                  1   \n",
       "\n",
       "       lifetime_txn_count  logins  \n",
       "0                      67       2  \n",
       "1                     241       1  \n",
       "2                     220      11  \n",
       "3                     221       2  \n",
       "4                     316       2  \n",
       "...                   ...     ...  \n",
       "75860                   0       3  \n",
       "75861                   0       7  \n",
       "75862                   0       2  \n",
       "75863                   0       0  \n",
       "75864                   0       0  \n",
       "\n",
       "[75865 rows x 9 columns]"
      ],
      "text/html": [
       "<div>\n",
       "<style scoped>\n",
       "    .dataframe tbody tr th:only-of-type {\n",
       "        vertical-align: middle;\n",
       "    }\n",
       "\n",
       "    .dataframe tbody tr th {\n",
       "        vertical-align: top;\n",
       "    }\n",
       "\n",
       "    .dataframe thead th {\n",
       "        text-align: right;\n",
       "    }\n",
       "</style>\n",
       "<table border=\"1\" class=\"dataframe\">\n",
       "  <thead>\n",
       "    <tr style=\"text-align: right;\">\n",
       "      <th></th>\n",
       "      <th>current_status</th>\n",
       "      <th>tnc_country_group</th>\n",
       "      <th>age_group</th>\n",
       "      <th>initial_arrears_reason</th>\n",
       "      <th>arrears_amount_eur</th>\n",
       "      <th>days_since_kycc</th>\n",
       "      <th>cnt_times_arrears</th>\n",
       "      <th>lifetime_txn_count</th>\n",
       "      <th>logins</th>\n",
       "    </tr>\n",
       "  </thead>\n",
       "  <tbody>\n",
       "    <tr>\n",
       "      <th>0</th>\n",
       "      <td>1</td>\n",
       "      <td>1</td>\n",
       "      <td>5</td>\n",
       "      <td>28</td>\n",
       "      <td>2.17</td>\n",
       "      <td>1345</td>\n",
       "      <td>6</td>\n",
       "      <td>67</td>\n",
       "      <td>2</td>\n",
       "    </tr>\n",
       "    <tr>\n",
       "      <th>1</th>\n",
       "      <td>1</td>\n",
       "      <td>1</td>\n",
       "      <td>3</td>\n",
       "      <td>28</td>\n",
       "      <td>15.49</td>\n",
       "      <td>1292</td>\n",
       "      <td>11</td>\n",
       "      <td>241</td>\n",
       "      <td>1</td>\n",
       "    </tr>\n",
       "    <tr>\n",
       "      <th>2</th>\n",
       "      <td>1</td>\n",
       "      <td>1</td>\n",
       "      <td>3</td>\n",
       "      <td>21</td>\n",
       "      <td>283.82</td>\n",
       "      <td>990</td>\n",
       "      <td>4</td>\n",
       "      <td>220</td>\n",
       "      <td>11</td>\n",
       "    </tr>\n",
       "    <tr>\n",
       "      <th>3</th>\n",
       "      <td>1</td>\n",
       "      <td>3</td>\n",
       "      <td>4</td>\n",
       "      <td>1</td>\n",
       "      <td>4.99</td>\n",
       "      <td>1131</td>\n",
       "      <td>5</td>\n",
       "      <td>221</td>\n",
       "      <td>2</td>\n",
       "    </tr>\n",
       "    <tr>\n",
       "      <th>4</th>\n",
       "      <td>1</td>\n",
       "      <td>1</td>\n",
       "      <td>4</td>\n",
       "      <td>9</td>\n",
       "      <td>201.52</td>\n",
       "      <td>1479</td>\n",
       "      <td>11</td>\n",
       "      <td>316</td>\n",
       "      <td>2</td>\n",
       "    </tr>\n",
       "    <tr>\n",
       "      <th>...</th>\n",
       "      <td>...</td>\n",
       "      <td>...</td>\n",
       "      <td>...</td>\n",
       "      <td>...</td>\n",
       "      <td>...</td>\n",
       "      <td>...</td>\n",
       "      <td>...</td>\n",
       "      <td>...</td>\n",
       "      <td>...</td>\n",
       "    </tr>\n",
       "    <tr>\n",
       "      <th>75860</th>\n",
       "      <td>2</td>\n",
       "      <td>3</td>\n",
       "      <td>4</td>\n",
       "      <td>18</td>\n",
       "      <td>51.66</td>\n",
       "      <td>15</td>\n",
       "      <td>1</td>\n",
       "      <td>0</td>\n",
       "      <td>3</td>\n",
       "    </tr>\n",
       "    <tr>\n",
       "      <th>75861</th>\n",
       "      <td>1</td>\n",
       "      <td>3</td>\n",
       "      <td>3</td>\n",
       "      <td>3</td>\n",
       "      <td>60.53</td>\n",
       "      <td>15</td>\n",
       "      <td>1</td>\n",
       "      <td>0</td>\n",
       "      <td>7</td>\n",
       "    </tr>\n",
       "    <tr>\n",
       "      <th>75862</th>\n",
       "      <td>2</td>\n",
       "      <td>3</td>\n",
       "      <td>3</td>\n",
       "      <td>18</td>\n",
       "      <td>51.51</td>\n",
       "      <td>15</td>\n",
       "      <td>1</td>\n",
       "      <td>0</td>\n",
       "      <td>2</td>\n",
       "    </tr>\n",
       "    <tr>\n",
       "      <th>75863</th>\n",
       "      <td>2</td>\n",
       "      <td>1</td>\n",
       "      <td>3</td>\n",
       "      <td>15</td>\n",
       "      <td>24.20</td>\n",
       "      <td>10</td>\n",
       "      <td>1</td>\n",
       "      <td>0</td>\n",
       "      <td>0</td>\n",
       "    </tr>\n",
       "    <tr>\n",
       "      <th>75864</th>\n",
       "      <td>2</td>\n",
       "      <td>1</td>\n",
       "      <td>8</td>\n",
       "      <td>3</td>\n",
       "      <td>51.02</td>\n",
       "      <td>15</td>\n",
       "      <td>1</td>\n",
       "      <td>0</td>\n",
       "      <td>0</td>\n",
       "    </tr>\n",
       "  </tbody>\n",
       "</table>\n",
       "<p>75865 rows × 9 columns</p>\n",
       "</div>"
      ]
     },
     "metadata": {},
     "execution_count": 67
    }
   ],
   "metadata": {}
  },
  {
   "cell_type": "code",
   "execution_count": 68,
   "source": [
    "# Split into features and labels.\n",
    "X = data14_algo.drop(\"current_status\", axis=1)\n",
    "Y = data14_algo[\"current_status\"]"
   ],
   "outputs": [],
   "metadata": {}
  },
  {
   "cell_type": "code",
   "execution_count": 69,
   "source": [
    "# Split into train and test sets.\n",
    "X_train, X_test, Y_train, Y_test = train_test_split(\n",
    "    X, Y, test_size=0.2, random_state=42\n",
    ")"
   ],
   "outputs": [],
   "metadata": {}
  },
  {
   "cell_type": "code",
   "execution_count": 70,
   "source": [
    "logmodel = LogisticRegression(max_iter=10000)\n",
    "logmodel.fit(X_train, Y_train)"
   ],
   "outputs": [
    {
     "output_type": "execute_result",
     "data": {
      "text/plain": [
       "LogisticRegression(C=1.0, class_weight=None, dual=False, fit_intercept=True,\n",
       "                   intercept_scaling=1, l1_ratio=None, max_iter=10000,\n",
       "                   multi_class='auto', n_jobs=None, penalty='l2',\n",
       "                   random_state=None, solver='lbfgs', tol=0.0001, verbose=0,\n",
       "                   warm_start=False)"
      ]
     },
     "metadata": {},
     "execution_count": 70
    }
   ],
   "metadata": {}
  },
  {
   "cell_type": "markdown",
   "source": [
    "## Results"
   ],
   "metadata": {}
  },
  {
   "cell_type": "code",
   "execution_count": 71,
   "source": [
    "predictions = logmodel.predict(X_test)"
   ],
   "outputs": [],
   "metadata": {}
  },
  {
   "cell_type": "code",
   "execution_count": 76,
   "source": [
    "predictions"
   ],
   "outputs": [
    {
     "output_type": "execute_result",
     "data": {
      "text/plain": [
       "array([1, 1, 2, ..., 2, 1, 1], dtype=int8)"
      ]
     },
     "metadata": {},
     "execution_count": 76
    }
   ],
   "metadata": {}
  },
  {
   "cell_type": "code",
   "execution_count": 74,
   "source": [
    "print(classification_report(Y_test, predictions))"
   ],
   "outputs": [
    {
     "output_type": "stream",
     "name": "stdout",
     "text": [
      "              precision    recall  f1-score   support\n",
      "\n",
      "           1       0.81      0.85      0.83      8864\n",
      "           2       0.78      0.73      0.75      6309\n",
      "\n",
      "    accuracy                           0.80     15173\n",
      "   macro avg       0.79      0.79      0.79     15173\n",
      "weighted avg       0.80      0.80      0.80     15173\n",
      "\n"
     ]
    }
   ],
   "metadata": {}
  }
 ],
 "metadata": {
  "kernelspec": {
   "display_name": "Python 3",
   "language": "python",
   "name": "python3"
  },
  "language_info": {
   "codemirror_mode": {
    "name": "ipython",
    "version": 3
   },
   "file_extension": ".py",
   "mimetype": "text/x-python",
   "name": "python",
   "nbconvert_exporter": "python",
   "pygments_lexer": "ipython3",
   "version": "3.7.2"
  }
 },
 "nbformat": 4,
 "nbformat_minor": 4
}