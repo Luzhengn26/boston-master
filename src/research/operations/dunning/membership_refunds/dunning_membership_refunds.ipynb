{
 "metadata": {
  "language_info": {
   "codemirror_mode": {
    "name": "ipython",
    "version": 3
   },
   "file_extension": ".py",
   "mimetype": "text/x-python",
   "name": "python",
   "nbconvert_exporter": "python",
   "pygments_lexer": "ipython3",
   "version": 3
  },
  "orig_nbformat": 2
 },
 "nbformat": 4,
 "nbformat_minor": 2,
 "cells": [
  {
   "cell_type": "code",
   "execution_count": null,
   "metadata": {},
   "outputs": [],
   "source": [
    "title: Dunning Membership Refunds\n",
    "author: Jesse Scherwitz  \n",
    "date: 2021-12-10  \n",
    "region: EU  \n",
    "summary: We refund (almost) all customers that should receive a refund, and write-off amounts (and therefore handover amounts) are correct, independent of the ordering of Natrium closure and refund transactions.\n",
    "link: https://docs.google.com/presentation/d/1GsZMl8Y06kENlzmZkN06Amuj3DTpYLCR6K_6tEJr8rE/edit?usp=sharing \n",
    "tags: dunning, membership refund, upfront payments, natrium, ferrum, write-off, handover"
   ]
  }
 ]
}