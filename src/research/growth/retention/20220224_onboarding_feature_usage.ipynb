{
 "cells": [
  {
   "cell_type": "markdown",
   "id": "53f716b8-c7ed-4aea-bb8a-26a3a0bdd999",
   "metadata": {},
   "source": [
    "title: Exploring relationships between feature usage and user onboarding\n",
    "\n",
    "author: Brieuc Van Thienen, Fabio Schmidt-Fischbach\n",
    "\n",
    "date: 2022-02-24\n",
    "\n",
    "region: EU\n",
    "\n",
    "link: https://docs.google.com/presentation/d/1ucZPQO0Q1Mug8DApc9igkmFbHdQMIeT9hA8P-GmqJVc/edit#slide=id.g112ad47dac3_0_213\n",
    "\n",
    "summary: Which features should we focus on during the onboarding flow? We assess the accuracy of each feature as a predictor of successful activation (10t60t post-KYC)*. Two groups of features emerge: “nice to have’s” and “must have’s”: it’s of great importance that users complete all “must-have’s” (basic set up features such as first money-in / money out) before we go on to communicate on “nice to have’s” (Spaces, split the bill, etc.), that are not a hard requirement for users to reach 10 transactions. This is especially true since the revamp of the free Standard value proposition: outside of search, stats, and moneybeam, that have mid to high adoption, we observe low adoption rates for most features during onboarding, including Spaces. This raises questions due to the importance of Spaces in the company’s brand and product value proposition. Our analysis also gives actionable insights into which features should be experimented with in the flow, when (in relative days), and where (local markets).\n",
    "In a second step, we explore relationships between features and user clusters, and features among themselves. This work is more exploratory, yet offers some interesting patterns that complement well the onboarding analysis: what % of CT users also use Stripe? What % of Stripe users also use CT?\n",
    "\n",
    "tags: product, marketing, onboarding, lifecycle, retention, activation, features, feature map, engagement\n"
   ]
  },
  {
   "cell_type": "markdown",
   "id": "40c1357b-7eeb-4edd-8882-3b67c342be2d",
   "metadata": {},
   "source": [
    "Spreadsheet linked in the slides contains all the queries and charts."
   ]
  },
  {
   "cell_type": "code",
   "execution_count": null,
   "id": "2ee23612-d393-4215-b1e9-bd60c07305c1",
   "metadata": {},
   "outputs": [],
   "source": []
  },
  {
   "cell_type": "code",
   "execution_count": null,
   "id": "7f2a8ccf-fa05-4e20-8101-b5a246e638e4",
   "metadata": {},
   "outputs": [],
   "source": []
  }
 ],
 "metadata": {
  "kernelspec": {
   "display_name": "Python 3 (ipykernel)",
   "language": "python",
   "name": "python3"
  },
  "language_info": {
   "codemirror_mode": {
    "name": "ipython",
    "version": 3
   },
   "file_extension": ".py",
   "mimetype": "text/x-python",
   "name": "python",
   "nbconvert_exporter": "python",
   "pygments_lexer": "ipython3",
   "version": "3.7.2"
  }
 },
 "nbformat": 4,
 "nbformat_minor": 5
}
