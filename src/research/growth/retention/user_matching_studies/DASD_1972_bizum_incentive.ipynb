{
 "cells": [
  {
   "cell_type": "markdown",
   "id": "3ae85626",
   "metadata": {},
   "source": [
    "title: Matching Studies - Increase in NC 1 attributable to Bizum, in the 6 months following the launch.\n",
    "\n",
    "author: Brieuc Van Thienen\n",
    "\n",
    "date: 2023-05-12\n",
    "\n",
    "region: EU\n",
    "\n",
    "tags: bizum, user matching, incentives, retention, engagement, causal inference, net contribution, revenues\n",
    "\n",
    "summary: 6 months after the launch of Bizum in Spain, the ES team is considering to offer an incentive to Spanish users to start using Bizum (5 Euros per user for 6 months). The Growth Analytics team was asked to estimate the increase in profitability that would be attributable to the adoption of Bizum, in order to inform the amount of the incentive. The present analysis compares the NC 1 of users that adopted Bizum before October 1st (in the first ~10 days post-launch) with that of users that had not adopted Bizum yet as of the time of the study, from October 2022 to March 2023. Users are matched based on their demographic and activity behaviours prior to the time of launch. First findings show that the increase in NC 1 over the 6-month period is close to 2 Euros. When not controlling for confounding factors, the difference in NC 1 was between both groups was of 5 Euros. As revealed by our exploratory data analysis, Bizum early adopters were on average much more active than non-Bizum users prior to the time of launch. This would be the main hypothesis why the increase in NC 1 attributable to Bizum would be smaller than anticipated. However, the results presented below should not necessarily taken at face value, for multiple reasons: (1) matching Bizum users with their look-alikes was challenging, due to the differences in activity prior to launch. This is why multiple analytical methods were used (propensity score matching and regression, DID, KNN matching - the first two should be disregarded); (2) should low-activity users be incentivised to start using Bizum, the resulting increase in NC 1 could allegedly be higher. \n",
    "\n"
   ]
  },
  {
   "cell_type": "code",
   "execution_count": 1,
   "id": "f3514549-8742-435c-a884-3442865e613a",
   "metadata": {},
   "outputs": [],
   "source": [
    "# !pip3 install seaborn"
   ]
  },
  {
   "cell_type": "code",
   "execution_count": 2,
   "id": "fa669339-944b-4981-8be8-e6319fbb35c2",
   "metadata": {},
   "outputs": [],
   "source": [
    "import numpy as np\n",
    "import pandas as pd\n",
    "import seaborn as sns\n",
    "from scipy import stats"
   ]
  },
  {
   "cell_type": "code",
   "execution_count": 3,
   "id": "8cd6027b-bd18-4baf-900d-3a3fe1773d29",
   "metadata": {},
   "outputs": [],
   "source": [
    "query = \"\"\" \n",
    "-- bizum matching analysis\n",
    "with bizum_status as (\n",
    "    select\n",
    "        u.user_created,\n",
    "        min(created) as bizum_start_ts\n",
    "    from\n",
    "        dbt.zrh_users u\n",
    "    inner join\n",
    "        beryl_user b on b.id = u.user_id\n",
    "            and status = 'SIGNED_UP'\n",
    "    where\n",
    "        1=1\n",
    "    group by 1\n",
    "\n",
    "), engagement_sessions as (\n",
    "    select\n",
    "        ua.user_created,\n",
    "        ua.kyc_first_completed,\n",
    "        ua.period_id,\n",
    "        ua.activity_start,\n",
    "        row_number() over (partition by ua.user_created order by ua.period_id desc) = 1 as last_activity_session,\n",
    "        -- usage frequency\n",
    "        datediff('day', ua.activity_start::date, least(current_date, least(ua.activity_end, '2022-10-01')::date)) as days_in_session,\n",
    "        sum(days_in_session) over (partition by ua.user_created order by ua.activity_start rows unbounded preceding) as days_in_session_cumulative,\n",
    "        datediff('day', ua.kyc_first_completed::date, least(ua.activity_end, '2022-10-01')::date) as days_since_kyc,\n",
    "        least(days_in_session_cumulative::float / nullif(days_since_kyc,0), 1) as frequency_score,\n",
    "        -- recency score\n",
    "        lag(activity_end) over (partition by user_created order by activity_start)::date as activity_end_lag1,\n",
    "        lead(activity_start) over (partition by user_created order by activity_start)::date as activity_start_lead1,\n",
    "        datediff('day', activity_end_lag1::date, ua.activity_start::date) as days_since_last_session,\n",
    "        datediff('day', activity_end::date, coalesce(activity_start_lead1::date, '2022-10-01')) as days_to_next_session,\n",
    "        avg(days_to_next_session) over (partition by user_created order by ua.activity_start rows between unbounded preceding and 1 preceding) as days_to_next_session_avg,\n",
    "        days_to_next_session::float / nullif(days_to_next_session_avg,0) as inactivity_length_ratio,\n",
    "\n",
    "        -- use cases\n",
    "        coalesce(signup_survey, onboarding_survey, 'OTHER') as use_case,\n",
    "        no_physical_cards_flg\n",
    "    from\n",
    "        dbt.mktg_crm_lapses ua\n",
    "    left join\n",
    "        dbt.mktg_crm_usecase_signup s using (user_created)\n",
    "    left join\n",
    "        bizum_status using (user_created)\n",
    "    where\n",
    "        activity_start < coalesce(bizum_start_ts, '2022-10-01')\n",
    "\n",
    "), card_transactions as (\n",
    "    select\n",
    "        u.user_created,\n",
    "        datediff('day', coalesce(max(case when n_act_total > 0 then txn_date end), kyc_first_completed::date), coalesce(bizum_start_ts, '2022-10-01')::date)::int as days_since_last_activity,\n",
    "        coalesce(sum((n_aa > 0)::int),0) as n_days_aa,\n",
    "        coalesce(sum(n_act_total),0) as n_act_total\n",
    "    from\n",
    "        dbt.stg_users u\n",
    "    left join\n",
    "        bizum_status using (user_created)\n",
    "    inner join\n",
    "        dbt.zrh_txn_day t on u.user_created = t.user_created\n",
    "            and t.txn_date between dateadd(day, -90, coalesce(bizum_start_ts, '2022-10-01')::date) and coalesce(bizum_start_ts, '2022-10-01')\n",
    "    group by 1, kyc_first_completed, bizum_start_ts\n",
    "\n",
    "), balances as (\n",
    "    select\n",
    "        user_created,\n",
    "        date,\n",
    "        sum(balance_eur) as balance_eur\n",
    "    from\n",
    "        dbt.mmb_weekly_balance_aud\n",
    "    left join\n",
    "        bizum_status using (user_created)\n",
    "    where\n",
    "        date >= dateadd(day, -90, coalesce(bizum_start_ts, '2022-10-01')::date)\n",
    "        and date <= dateadd(day, -1, coalesce(bizum_start_ts, '2022-10-01')::date)\n",
    "    group by 1,2, bizum_start_ts\n",
    "\n",
    "), net_contribution as (\n",
    "    select\n",
    "        u.user_created,\n",
    "        sum(case when to_date(p.month, 'YYYY-MM') <= '2022-09-01' and type = 'Revenue' then value end)::float / 100 as revenues_pre,\n",
    "        sum(case when to_date(p.month, 'YYYY-MM') >= '2022-10-01' and type = 'Revenue' then value end)::float / 100 as revenues,\n",
    "        sum(case when to_date(p.month, 'YYYY-MM') <= '2022-09-01' then value end)::float / 100 as nc1_pre,\n",
    "        sum(case when to_date(p.month, 'YYYY-MM') >= '2022-10-01' then value end)::float / 100 as nc1\n",
    "    from\n",
    "        dbt.stg_users u\n",
    "    inner join\n",
    "        dbt.ucm_pnl p using (user_created)\n",
    "    inner join\n",
    "        (select * from dbt.ucm_mapping where 1=1 and type in ('Revenue', 'Direct', 'Variable')) l using (label)\n",
    "    where\n",
    "        1=1\n",
    "        and to_date(p.month, 'YYYY-MM') >= '2022-04-01'\n",
    "        and to_date(p.month, 'YYYY-MM') <= '2023-03-01'\n",
    "    group by 1\n",
    "\n",
    "), final as (\n",
    "    select\n",
    "        u.user_id,\n",
    "        u.user_created,\n",
    "        kyc_first_completed,\n",
    "--         legal_entity,\n",
    "        -- categorical features and demographics\n",
    "        p.tier,\n",
    "        p.is_personal,\n",
    "        p.is_newstandard,\n",
    "        is_expat,\n",
    "        gender,\n",
    "        last_login_os,\n",
    "        datediff(year, birth_date, coalesce(bizum_start_ts, '2022-10-01')::date)::int as age,\n",
    "        -- engagement\n",
    "        datediff('month', kyc_first_completed::date, coalesce(bizum_start_ts, '2022-10-01')::date) as months_since_kycc,\n",
    "        days_since_last_activity,\n",
    "        use_case,\n",
    "        no_physical_cards_flg,\n",
    "        floor(e.frequency_score / 0.05)::int * 0.05 as frequency_score,\n",
    "        floor(e.inactivity_length_ratio / 0.05)::int * 0.05 as inactivity_length_ratio,\n",
    "        b.balance_eur,\n",
    "        ct.n_act_total,\n",
    "        ct.n_days_aa,\n",
    "        nc.revenues_pre,\n",
    "        nc.nc1_pre,\n",
    "        bs.user_created is not null as bizum_user,\n",
    "        coalesce(nc.nc1, 0) as nc1,\n",
    "        coalesce(nc.revenues, 0) as revenues\n",
    "    from\n",
    "        (select user_created, is_fraudster, is_expat, gender, last_login_os, legal_entity, user_id, ft_mau, tnc_country_group, closed_at, has_overdraft_enabled from dbt.zrh_users where tnc_country_group = 'ESP') u\n",
    "    inner join\n",
    "        (select user_created, birth_date from etl_reporting.cmd_users) using (user_created)\n",
    "    left join\n",
    "        card_transactions ct using (user_created)\n",
    "    left join\n",
    "        net_contribution nc using (user_created)\n",
    "    left join\n",
    "        (select user_created, avg(balance_eur) as balance_eur from balances group by 1) b using (user_created)\n",
    "    left join\n",
    "        (select * from engagement_sessions where last_activity_session is true) e using (user_created)\n",
    "    left join\n",
    "        (select user_created, product_id, tier, is_newstandard, is_personal from dbt.zrh_user_product where '2022-10-01' between subscription_valid_from and subscription_valid_until) p using (user_created)\n",
    "    left join\n",
    "        bizum_status bs using (user_created)\n",
    "    where\n",
    "        1=1\n",
    "        and (bizum_start_ts < '2022-10-01' or bs.user_created is null)\n",
    "        and coalesce(kyc_first_completed, '2100-01-01') between '2018-01-01' and '2022-10-01'\n",
    "        and coalesce(ft_mau, '2100-01-01') <= '2022-10-01'\n",
    "        and coalesce(closed_at, '2100-01-01') >= '2022-10-01'\n",
    "        and legal_entity = 'ES' -- all bizum users are ES\n",
    "        and days_since_last_activity <= 30\n",
    "        and balance_eur between 100 and 100000\n",
    "        and frequency_score >= 0.2\n",
    "        and n_act_total <= 300\n",
    "        and is_fraudster is false\n",
    "\n",
    ")\n",
    "\n",
    "(select * from final where bizum_user is true)\n",
    "UNION ALL\n",
    "(select * from final where bizum_user is false order by random() limit 100000);\n",
    "\n",
    "\"\"\""
   ]
  },
  {
   "cell_type": "code",
   "execution_count": 4,
   "id": "1864c098-31dc-4576-8837-13aec527fc53",
   "metadata": {},
   "outputs": [],
   "source": [
    "df = pd.read_csv(\"bizum_PSM.csv\")"
   ]
  },
  {
   "cell_type": "code",
   "execution_count": 5,
   "id": "380a235b-0a8c-4dfe-8aa8-5c57afa33eb9",
   "metadata": {},
   "outputs": [
    {
     "data": {
      "text/plain": [
       "Index(['user_id', 'user_created', 'kyc_first_completed', 'tier', 'is_personal',\n",
       "       'is_newstandard', 'is_expat', 'gender', 'last_login_os', 'age',\n",
       "       'months_since_kycc', 'days_since_last_activity', 'use_case',\n",
       "       'no_physical_cards_flg', 'frequency_score', 'inactivity_length_ratio',\n",
       "       'balance_eur', 'n_act_total', 'n_days_aa', 'revenues_pre', 'nc1_pre',\n",
       "       'bizum_user', 'nc1', 'revenues'],\n",
       "      dtype='object')"
      ]
     },
     "execution_count": 5,
     "metadata": {},
     "output_type": "execute_result"
    }
   ],
   "source": [
    "df.columns"
   ]
  },
  {
   "cell_type": "markdown",
   "id": "1583d6b3-5c40-469a-ae9d-84924faf2973",
   "metadata": {},
   "source": [
    "<br>\n",
    "<br>\n",
    "<br>\n",
    "<br>\n",
    "<br>\n",
    "<br>\n",
    "\n",
    "### Data validation\n",
    "\n",
    "---"
   ]
  },
  {
   "cell_type": "code",
   "execution_count": 6,
   "id": "350e5d7f-c631-4ca1-98c7-6792c549f5cd",
   "metadata": {},
   "outputs": [
    {
     "data": {
      "text/plain": [
       "user_id                        0\n",
       "user_created                   0\n",
       "kyc_first_completed            0\n",
       "tier                          48\n",
       "is_personal                   48\n",
       "is_newstandard                48\n",
       "is_expat                       0\n",
       "gender                         0\n",
       "last_login_os                  1\n",
       "age                            0\n",
       "months_since_kycc              0\n",
       "days_since_last_activity       0\n",
       "use_case                       0\n",
       "no_physical_cards_flg          0\n",
       "frequency_score                0\n",
       "inactivity_length_ratio     4259\n",
       "balance_eur                    0\n",
       "n_act_total                    0\n",
       "n_days_aa                      0\n",
       "revenues_pre                  52\n",
       "nc1_pre                       27\n",
       "bizum_user                     0\n",
       "nc1                            0\n",
       "revenues                       0\n",
       "dtype: int64"
      ]
     },
     "execution_count": 6,
     "metadata": {},
     "output_type": "execute_result"
    }
   ],
   "source": [
    "df.isnull().sum()"
   ]
  },
  {
   "cell_type": "code",
   "execution_count": 7,
   "id": "d2af59f3-93d0-49f0-96eb-a78d2b7e7f60",
   "metadata": {},
   "outputs": [],
   "source": [
    "df = df.loc[~df[\"tier\"].isna(), :].reset_index(drop=True)\n",
    "df[[\"revenues_pre\", \"nc1_pre\"]] = df[[\"revenues_pre\", \"nc1_pre\"]].fillna(0)"
   ]
  },
  {
   "cell_type": "code",
   "execution_count": null,
   "id": "accf2708-61cf-46d5-8f69-833e3e1c8274",
   "metadata": {},
   "outputs": [],
   "source": []
  },
  {
   "cell_type": "markdown",
   "id": "c623c847-f11d-4b54-8d53-6607cff291a6",
   "metadata": {},
   "source": [
    "<br>\n",
    "<br>\n",
    "<br>\n",
    "<br>\n",
    "<br>\n",
    "<br>\n",
    "\n",
    "### Activity metrics\n",
    "\n",
    "---"
   ]
  },
  {
   "cell_type": "markdown",
   "id": "9b45527e-e0ef-4a25-85c0-a2074d502b60",
   "metadata": {},
   "source": [
    "On average, users that started using Bizum before October 1st:\n",
    "- Had greater recency.\n",
    "- Have a physical card.\n",
    "- Are more frequently active.\n",
    "- If they are inactive, they have been dormant for small period of time.\n",
    "- Have greater balance.\n",
    "- Do more transactions.\n",
    "- Generate more revenues and more costs, but are more profitable."
   ]
  },
  {
   "cell_type": "markdown",
   "id": "ffadc8bc-c3f2-4f50-a347-3e77e6688b26",
   "metadata": {},
   "source": [
    "Very few bizum users had a recency greater than 15 days or a frequency score below 0.2 We therefore filtered out these users directly in the SQL query, in order to increase the number of non-bizum users that had similar activity.\n",
    "\n",
    "Also, both bizum and non-bizum users have great outliers when it comes to balance and net contribution, we therefore also remove such users."
   ]
  },
  {
   "cell_type": "code",
   "execution_count": 8,
   "id": "ddeb3367-65c5-4417-85c8-463483a3034b",
   "metadata": {},
   "outputs": [
    {
     "data": {
      "text/html": [
       "<div>\n",
       "<style scoped>\n",
       "    .dataframe tbody tr th:only-of-type {\n",
       "        vertical-align: middle;\n",
       "    }\n",
       "\n",
       "    .dataframe tbody tr th {\n",
       "        vertical-align: top;\n",
       "    }\n",
       "\n",
       "    .dataframe thead th {\n",
       "        text-align: right;\n",
       "    }\n",
       "</style>\n",
       "<table border=\"1\" class=\"dataframe\">\n",
       "  <thead>\n",
       "    <tr style=\"text-align: right;\">\n",
       "      <th></th>\n",
       "      <th>last_login_os</th>\n",
       "      <th>age</th>\n",
       "      <th>months_since_kycc</th>\n",
       "      <th>days_since_last_activity</th>\n",
       "      <th>no_physical_cards_flg</th>\n",
       "      <th>frequency_score</th>\n",
       "      <th>inactivity_length_ratio</th>\n",
       "      <th>balance_eur</th>\n",
       "      <th>n_act_total</th>\n",
       "      <th>n_days_aa</th>\n",
       "      <th>revenues_pre</th>\n",
       "      <th>nc1_pre</th>\n",
       "      <th>nc1</th>\n",
       "      <th>revenues</th>\n",
       "    </tr>\n",
       "  </thead>\n",
       "  <tbody>\n",
       "    <tr>\n",
       "      <th>count</th>\n",
       "      <td>73567.000000</td>\n",
       "      <td>73568.000000</td>\n",
       "      <td>73568.000000</td>\n",
       "      <td>73568.000000</td>\n",
       "      <td>73568.000000</td>\n",
       "      <td>73568.000000</td>\n",
       "      <td>69310.000000</td>\n",
       "      <td>73568.000000</td>\n",
       "      <td>73568.000000</td>\n",
       "      <td>73568.000000</td>\n",
       "      <td>73568.000000</td>\n",
       "      <td>73568.000000</td>\n",
       "      <td>73568.000000</td>\n",
       "      <td>73568.000000</td>\n",
       "    </tr>\n",
       "    <tr>\n",
       "      <th>mean</th>\n",
       "      <td>1.423519</td>\n",
       "      <td>38.388892</td>\n",
       "      <td>19.173934</td>\n",
       "      <td>5.085023</td>\n",
       "      <td>0.182294</td>\n",
       "      <td>0.674841</td>\n",
       "      <td>2.681341</td>\n",
       "      <td>2890.406607</td>\n",
       "      <td>66.186793</td>\n",
       "      <td>24.495406</td>\n",
       "      <td>33.482336</td>\n",
       "      <td>15.309353</td>\n",
       "      <td>23.284108</td>\n",
       "      <td>37.450221</td>\n",
       "    </tr>\n",
       "    <tr>\n",
       "      <th>std</th>\n",
       "      <td>0.621474</td>\n",
       "      <td>11.919000</td>\n",
       "      <td>11.935864</td>\n",
       "      <td>7.516606</td>\n",
       "      <td>0.386089</td>\n",
       "      <td>0.232263</td>\n",
       "      <td>11.153562</td>\n",
       "      <td>8000.855190</td>\n",
       "      <td>65.049443</td>\n",
       "      <td>21.723088</td>\n",
       "      <td>52.469900</td>\n",
       "      <td>48.781219</td>\n",
       "      <td>65.126594</td>\n",
       "      <td>68.267760</td>\n",
       "    </tr>\n",
       "    <tr>\n",
       "      <th>min</th>\n",
       "      <td>-1.000000</td>\n",
       "      <td>18.000000</td>\n",
       "      <td>0.000000</td>\n",
       "      <td>0.000000</td>\n",
       "      <td>0.000000</td>\n",
       "      <td>0.200000</td>\n",
       "      <td>0.000000</td>\n",
       "      <td>100.000000</td>\n",
       "      <td>1.000000</td>\n",
       "      <td>0.000000</td>\n",
       "      <td>0.000000</td>\n",
       "      <td>-877.731662</td>\n",
       "      <td>-755.566758</td>\n",
       "      <td>0.000000</td>\n",
       "    </tr>\n",
       "    <tr>\n",
       "      <th>25%</th>\n",
       "      <td>1.000000</td>\n",
       "      <td>29.000000</td>\n",
       "      <td>9.000000</td>\n",
       "      <td>0.000000</td>\n",
       "      <td>0.000000</td>\n",
       "      <td>0.500000</td>\n",
       "      <td>0.150000</td>\n",
       "      <td>245.564615</td>\n",
       "      <td>16.000000</td>\n",
       "      <td>6.000000</td>\n",
       "      <td>5.412356</td>\n",
       "      <td>-2.876421</td>\n",
       "      <td>-1.098310</td>\n",
       "      <td>3.632222</td>\n",
       "    </tr>\n",
       "    <tr>\n",
       "      <th>50%</th>\n",
       "      <td>1.000000</td>\n",
       "      <td>36.000000</td>\n",
       "      <td>18.000000</td>\n",
       "      <td>1.000000</td>\n",
       "      <td>0.000000</td>\n",
       "      <td>0.700000</td>\n",
       "      <td>0.600000</td>\n",
       "      <td>585.665000</td>\n",
       "      <td>43.000000</td>\n",
       "      <td>18.000000</td>\n",
       "      <td>15.199292</td>\n",
       "      <td>2.908820</td>\n",
       "      <td>3.979198</td>\n",
       "      <td>13.209276</td>\n",
       "    </tr>\n",
       "    <tr>\n",
       "      <th>75%</th>\n",
       "      <td>2.000000</td>\n",
       "      <td>46.000000</td>\n",
       "      <td>29.000000</td>\n",
       "      <td>7.000000</td>\n",
       "      <td>0.000000</td>\n",
       "      <td>0.900000</td>\n",
       "      <td>1.650000</td>\n",
       "      <td>1908.604231</td>\n",
       "      <td>96.000000</td>\n",
       "      <td>39.000000</td>\n",
       "      <td>38.088113</td>\n",
       "      <td>20.505104</td>\n",
       "      <td>27.177774</td>\n",
       "      <td>41.737747</td>\n",
       "    </tr>\n",
       "    <tr>\n",
       "      <th>max</th>\n",
       "      <td>2.000000</td>\n",
       "      <td>92.000000</td>\n",
       "      <td>44.000000</td>\n",
       "      <td>30.000000</td>\n",
       "      <td>1.000000</td>\n",
       "      <td>1.000000</td>\n",
       "      <td>237.000000</td>\n",
       "      <td>99924.669231</td>\n",
       "      <td>300.000000</td>\n",
       "      <td>91.000000</td>\n",
       "      <td>1579.138638</td>\n",
       "      <td>1341.307439</td>\n",
       "      <td>1825.027749</td>\n",
       "      <td>1876.674652</td>\n",
       "    </tr>\n",
       "  </tbody>\n",
       "</table>\n",
       "</div>"
      ],
      "text/plain": [
       "       last_login_os           age  months_since_kycc  \\\n",
       "count   73567.000000  73568.000000       73568.000000   \n",
       "mean        1.423519     38.388892          19.173934   \n",
       "std         0.621474     11.919000          11.935864   \n",
       "min        -1.000000     18.000000           0.000000   \n",
       "25%         1.000000     29.000000           9.000000   \n",
       "50%         1.000000     36.000000          18.000000   \n",
       "75%         2.000000     46.000000          29.000000   \n",
       "max         2.000000     92.000000          44.000000   \n",
       "\n",
       "       days_since_last_activity  no_physical_cards_flg  frequency_score  \\\n",
       "count              73568.000000           73568.000000     73568.000000   \n",
       "mean                   5.085023               0.182294         0.674841   \n",
       "std                    7.516606               0.386089         0.232263   \n",
       "min                    0.000000               0.000000         0.200000   \n",
       "25%                    0.000000               0.000000         0.500000   \n",
       "50%                    1.000000               0.000000         0.700000   \n",
       "75%                    7.000000               0.000000         0.900000   \n",
       "max                   30.000000               1.000000         1.000000   \n",
       "\n",
       "       inactivity_length_ratio   balance_eur   n_act_total     n_days_aa  \\\n",
       "count             69310.000000  73568.000000  73568.000000  73568.000000   \n",
       "mean                  2.681341   2890.406607     66.186793     24.495406   \n",
       "std                  11.153562   8000.855190     65.049443     21.723088   \n",
       "min                   0.000000    100.000000      1.000000      0.000000   \n",
       "25%                   0.150000    245.564615     16.000000      6.000000   \n",
       "50%                   0.600000    585.665000     43.000000     18.000000   \n",
       "75%                   1.650000   1908.604231     96.000000     39.000000   \n",
       "max                 237.000000  99924.669231    300.000000     91.000000   \n",
       "\n",
       "       revenues_pre       nc1_pre           nc1      revenues  \n",
       "count  73568.000000  73568.000000  73568.000000  73568.000000  \n",
       "mean      33.482336     15.309353     23.284108     37.450221  \n",
       "std       52.469900     48.781219     65.126594     68.267760  \n",
       "min        0.000000   -877.731662   -755.566758      0.000000  \n",
       "25%        5.412356     -2.876421     -1.098310      3.632222  \n",
       "50%       15.199292      2.908820      3.979198     13.209276  \n",
       "75%       38.088113     20.505104     27.177774     41.737747  \n",
       "max     1579.138638   1341.307439   1825.027749   1876.674652  "
      ]
     },
     "execution_count": 8,
     "metadata": {},
     "output_type": "execute_result"
    }
   ],
   "source": [
    "df.describe()"
   ]
  },
  {
   "cell_type": "code",
   "execution_count": null,
   "id": "8d668dac-0614-481a-b6d5-30e29184a813",
   "metadata": {},
   "outputs": [
    {
     "data": {
      "text/plain": [
       "array([[<AxesSubplot:title={'center':'age'}>,\n",
       "        <AxesSubplot:title={'center':'months_since_kycc'}>,\n",
       "        <AxesSubplot:title={'center':'days_since_last_activity'}>,\n",
       "        <AxesSubplot:title={'center':'balance_eur'}>,\n",
       "        <AxesSubplot:title={'center':'n_act_total'}>,\n",
       "        <AxesSubplot:title={'center':'n_days_aa'}>,\n",
       "        <AxesSubplot:title={'center':'revenues_pre'}>,\n",
       "        <AxesSubplot:title={'center':'nc1_pre'}>]], dtype=object)"
      ]
     },
     "execution_count": 9,
     "metadata": {},
     "output_type": "execute_result"
    },
    {
     "data": {
      "image/png": "[encoded data removed]",
      "text/plain": [
       "<Figure size 2500x500 with 8 Axes>"
      ]
     },
     "metadata": {},
     "output_type": "display_data"
    }
   ],
   "source": [
    "cols_list = [\n",
    "    \"age\",\n",
    "    \"months_since_kycc\",\n",
    "    \"days_since_last_activity\",\n",
    "    \"balance_eur\",\n",
    "    \"n_act_total\",\n",
    "    \"n_days_aa\",\n",
    "    \"revenues_pre\",\n",
    "    \"nc1_pre\",\n",
    "]\n",
    "df.loc[df[\"bizum_user\"], cols_list].hist(figsize=(25, 5), layout=(1, 8), bins=50)"
   ]
  },
  {
   "cell_type": "code",
   "execution_count": null,
   "id": "95345441-d792-47f0-87db-2f6b0977d160",
   "metadata": {},
   "outputs": [
    {
     "data": {
      "text/plain": [
       "array([[<AxesSubplot:title={'center':'age'}>,\n",
       "        <AxesSubplot:title={'center':'months_since_kycc'}>,\n",
       "        <AxesSubplot:title={'center':'days_since_last_activity'}>,\n",
       "        <AxesSubplot:title={'center':'balance_eur'}>,\n",
       "        <AxesSubplot:title={'center':'n_act_total'}>,\n",
       "        <AxesSubplot:title={'center':'n_days_aa'}>,\n",
       "        <AxesSubplot:title={'center':'revenues_pre'}>,\n",
       "        <AxesSubplot:title={'center':'nc1_pre'}>]], dtype=object)"
      ]
     },
     "execution_count": 10,
     "metadata": {},
     "output_type": "execute_result"
    },
    {
     "data": {
      "image/png": "[encoded data removed]",
      "text/plain": [
       "<Figure size 2500x500 with 8 Axes>"
      ]
     },
     "metadata": {},
     "output_type": "display_data"
    }
   ],
   "source": [
    "df.loc[~df[\"bizum_user\"], cols_list].hist(figsize=(25, 5), layout=(1, 8), bins=50)"
   ]
  },
  {
   "cell_type": "code",
   "execution_count": null,
   "id": "f36693f1-0bfc-48ff-aace-205f00563f78",
   "metadata": {},
   "outputs": [],
   "source": [
    "# changing values from 0 to 1 because the following features will be log-transformed\n",
    "df.loc[df[\"days_since_last_activity\"] == 0, \"days_since_last_activity\"] = 1\n",
    "df.loc[df[\"n_days_aa\"] <= 1, \"n_days_aa\"] = np.mean(df[\"n_days_aa\"])"
   ]
  },
  {
   "cell_type": "code",
   "execution_count": null,
   "id": "af3b9fa8-d8a0-479a-9dbc-a8ade94a6d0f",
   "metadata": {},
   "outputs": [],
   "source": [
    "df = df.loc[df[\"days_since_last_activity\"] <= 10, :].reset_index(drop=True)"
   ]
  },
  {
   "cell_type": "code",
   "execution_count": null,
   "id": "b4555227-e981-4d7f-9f1c-2e5585d5e692",
   "metadata": {},
   "outputs": [],
   "source": [
    "df.loc[df[\"balance_eur\"] >= 20000, \"balance_eur\"] = 20000\n",
    "df.loc[df[\"n_act_total\"] >= 100, \"n_act_total\"] = 100\n",
    "# df.loc[ df['frequency_score'] <= 0.4, 'frequency_score'] = 0.4"
   ]
  },
  {
   "cell_type": "code",
   "execution_count": null,
   "id": "871f8403-02dd-4873-a3cd-ded343c8df08",
   "metadata": {},
   "outputs": [],
   "source": [
    "df = df[(np.abs(stats.zscore(df[\"nc1\"])) < 3)].reset_index(drop=True)"
   ]
  },
  {
   "cell_type": "code",
   "execution_count": null,
   "id": "3cee7e8a-76fe-4639-a642-ec945a4e9da2",
   "metadata": {},
   "outputs": [],
   "source": []
  },
  {
   "cell_type": "markdown",
   "id": "70e23210-279d-4c88-9d9d-ba3a7c097df2",
   "metadata": {},
   "source": [
    "<br>\n",
    "<br>\n",
    "<br>\n",
    "<br>\n",
    "<br>\n",
    "<br>\n",
    "\n",
    "### Naive comparison of revenue and net contribution 1 in the 6 months after launch\n",
    "\n",
    "---"
   ]
  },
  {
   "cell_type": "code",
   "execution_count": null,
   "id": "e82fa60a-b768-4bf2-82c8-c76d64233f2b",
   "metadata": {},
   "outputs": [
    {
     "data": {
      "text/html": [
       "<div>\n",
       "<style scoped>\n",
       "    .dataframe tbody tr th:only-of-type {\n",
       "        vertical-align: middle;\n",
       "    }\n",
       "\n",
       "    .dataframe tbody tr th {\n",
       "        vertical-align: top;\n",
       "    }\n",
       "\n",
       "    .dataframe thead th {\n",
       "        text-align: right;\n",
       "    }\n",
       "</style>\n",
       "<table border=\"1\" class=\"dataframe\">\n",
       "  <thead>\n",
       "    <tr style=\"text-align: right;\">\n",
       "      <th></th>\n",
       "      <th>is_expat</th>\n",
       "      <th>last_login_os</th>\n",
       "      <th>age</th>\n",
       "      <th>months_since_kycc</th>\n",
       "      <th>days_since_last_activity</th>\n",
       "      <th>no_physical_cards_flg</th>\n",
       "      <th>frequency_score</th>\n",
       "      <th>inactivity_length_ratio</th>\n",
       "      <th>balance_eur</th>\n",
       "      <th>n_act_total</th>\n",
       "      <th>n_days_aa</th>\n",
       "      <th>revenues_pre</th>\n",
       "      <th>nc1_pre</th>\n",
       "      <th>nc1</th>\n",
       "      <th>revenues</th>\n",
       "    </tr>\n",
       "    <tr>\n",
       "      <th>bizum_user</th>\n",
       "      <th></th>\n",
       "      <th></th>\n",
       "      <th></th>\n",
       "      <th></th>\n",
       "      <th></th>\n",
       "      <th></th>\n",
       "      <th></th>\n",
       "      <th></th>\n",
       "      <th></th>\n",
       "      <th></th>\n",
       "      <th></th>\n",
       "      <th></th>\n",
       "      <th></th>\n",
       "      <th></th>\n",
       "      <th></th>\n",
       "    </tr>\n",
       "  </thead>\n",
       "  <tbody>\n",
       "    <tr>\n",
       "      <th>False</th>\n",
       "      <td>0.384178</td>\n",
       "      <td>1.422835</td>\n",
       "      <td>38.759294</td>\n",
       "      <td>19.677524</td>\n",
       "      <td>2.557245</td>\n",
       "      <td>0.177693</td>\n",
       "      <td>0.682927</td>\n",
       "      <td>2.190493</td>\n",
       "      <td>2065.293066</td>\n",
       "      <td>51.477926</td>\n",
       "      <td>27.213850</td>\n",
       "      <td>30.388677</td>\n",
       "      <td>13.191966</td>\n",
       "      <td>17.519152</td>\n",
       "      <td>30.526700</td>\n",
       "    </tr>\n",
       "    <tr>\n",
       "      <th>True</th>\n",
       "      <td>0.552574</td>\n",
       "      <td>1.462186</td>\n",
       "      <td>34.763046</td>\n",
       "      <td>19.288617</td>\n",
       "      <td>1.520969</td>\n",
       "      <td>0.115916</td>\n",
       "      <td>0.801815</td>\n",
       "      <td>0.582398</td>\n",
       "      <td>2359.554897</td>\n",
       "      <td>76.801945</td>\n",
       "      <td>41.219892</td>\n",
       "      <td>38.701863</td>\n",
       "      <td>11.865139</td>\n",
       "      <td>22.007758</td>\n",
       "      <td>48.049929</td>\n",
       "    </tr>\n",
       "  </tbody>\n",
       "</table>\n",
       "</div>"
      ],
      "text/plain": [
       "            is_expat  last_login_os        age  months_since_kycc  \\\n",
       "bizum_user                                                          \n",
       "False       0.384178       1.422835  38.759294          19.677524   \n",
       "True        0.552574       1.462186  34.763046          19.288617   \n",
       "\n",
       "            days_since_last_activity  no_physical_cards_flg  frequency_score  \\\n",
       "bizum_user                                                                     \n",
       "False                       2.557245               0.177693         0.682927   \n",
       "True                        1.520969               0.115916         0.801815   \n",
       "\n",
       "            inactivity_length_ratio  balance_eur  n_act_total  n_days_aa  \\\n",
       "bizum_user                                                                 \n",
       "False                      2.190493  2065.293066    51.477926  27.213850   \n",
       "True                       0.582398  2359.554897    76.801945  41.219892   \n",
       "\n",
       "            revenues_pre    nc1_pre        nc1   revenues  \n",
       "bizum_user                                                 \n",
       "False          30.388677  13.191966  17.519152  30.526700  \n",
       "True           38.701863  11.865139  22.007758  48.049929  "
      ]
     },
     "execution_count": 15,
     "metadata": {},
     "output_type": "execute_result"
    }
   ],
   "source": [
    "df.groupby([\"bizum_user\"]).mean()"
   ]
  },
  {
   "cell_type": "code",
   "execution_count": null,
   "id": "11dc104f-f3a7-41b7-a44d-f1118b57a10b",
   "metadata": {},
   "outputs": [
    {
     "data": {
      "text/plain": [
       "bizum_user\n",
       "False    47340\n",
       "True     11517\n",
       "Name: user_created, dtype: int64"
      ]
     },
     "execution_count": 16,
     "metadata": {},
     "output_type": "execute_result"
    }
   ],
   "source": [
    "df.groupby([\"bizum_user\"])[\"user_created\"].count()"
   ]
  },
  {
   "cell_type": "code",
   "execution_count": null,
   "id": "38ef2c0d-1621-4ea8-acba-aa586555e176",
   "metadata": {},
   "outputs": [
    {
     "data": {
      "text/html": [
       "<div>\n",
       "<style scoped>\n",
       "    .dataframe tbody tr th:only-of-type {\n",
       "        vertical-align: middle;\n",
       "    }\n",
       "\n",
       "    .dataframe tbody tr th {\n",
       "        vertical-align: top;\n",
       "    }\n",
       "\n",
       "    .dataframe thead th {\n",
       "        text-align: right;\n",
       "    }\n",
       "</style>\n",
       "<table border=\"1\" class=\"dataframe\">\n",
       "  <thead>\n",
       "    <tr style=\"text-align: right;\">\n",
       "      <th></th>\n",
       "      <th>count</th>\n",
       "      <th>mean</th>\n",
       "      <th>std</th>\n",
       "      <th>min</th>\n",
       "      <th>25%</th>\n",
       "      <th>50%</th>\n",
       "      <th>75%</th>\n",
       "      <th>max</th>\n",
       "    </tr>\n",
       "    <tr>\n",
       "      <th>bizum_user</th>\n",
       "      <th></th>\n",
       "      <th></th>\n",
       "      <th></th>\n",
       "      <th></th>\n",
       "      <th></th>\n",
       "      <th></th>\n",
       "      <th></th>\n",
       "      <th></th>\n",
       "    </tr>\n",
       "  </thead>\n",
       "  <tbody>\n",
       "    <tr>\n",
       "      <th>False</th>\n",
       "      <td>47340.0</td>\n",
       "      <td>30.526700</td>\n",
       "      <td>44.071934</td>\n",
       "      <td>0.0</td>\n",
       "      <td>3.700452</td>\n",
       "      <td>12.244054</td>\n",
       "      <td>37.880867</td>\n",
       "      <td>717.966620</td>\n",
       "    </tr>\n",
       "    <tr>\n",
       "      <th>True</th>\n",
       "      <td>11517.0</td>\n",
       "      <td>48.049929</td>\n",
       "      <td>52.584739</td>\n",
       "      <td>0.0</td>\n",
       "      <td>11.153234</td>\n",
       "      <td>28.901362</td>\n",
       "      <td>65.263551</td>\n",
       "      <td>426.499847</td>\n",
       "    </tr>\n",
       "  </tbody>\n",
       "</table>\n",
       "</div>"
      ],
      "text/plain": [
       "              count       mean        std  min        25%        50%  \\\n",
       "bizum_user                                                             \n",
       "False       47340.0  30.526700  44.071934  0.0   3.700452  12.244054   \n",
       "True        11517.0  48.049929  52.584739  0.0  11.153234  28.901362   \n",
       "\n",
       "                  75%         max  \n",
       "bizum_user                         \n",
       "False       37.880867  717.966620  \n",
       "True        65.263551  426.499847  "
      ]
     },
     "execution_count": 17,
     "metadata": {},
     "output_type": "execute_result"
    }
   ],
   "source": [
    "df.groupby([\"bizum_user\"])[\"revenues\"].describe()"
   ]
  },
  {
   "cell_type": "code",
   "execution_count": null,
   "id": "afa30c8c-5932-495f-87c6-9dd953ced66b",
   "metadata": {},
   "outputs": [
    {
     "data": {
      "text/html": [
       "<div>\n",
       "<style scoped>\n",
       "    .dataframe tbody tr th:only-of-type {\n",
       "        vertical-align: middle;\n",
       "    }\n",
       "\n",
       "    .dataframe tbody tr th {\n",
       "        vertical-align: top;\n",
       "    }\n",
       "\n",
       "    .dataframe thead th {\n",
       "        text-align: right;\n",
       "    }\n",
       "</style>\n",
       "<table border=\"1\" class=\"dataframe\">\n",
       "  <thead>\n",
       "    <tr style=\"text-align: right;\">\n",
       "      <th></th>\n",
       "      <th>count</th>\n",
       "      <th>mean</th>\n",
       "      <th>std</th>\n",
       "      <th>min</th>\n",
       "      <th>25%</th>\n",
       "      <th>50%</th>\n",
       "      <th>75%</th>\n",
       "      <th>max</th>\n",
       "    </tr>\n",
       "    <tr>\n",
       "      <th>bizum_user</th>\n",
       "      <th></th>\n",
       "      <th></th>\n",
       "      <th></th>\n",
       "      <th></th>\n",
       "      <th></th>\n",
       "      <th></th>\n",
       "      <th></th>\n",
       "      <th></th>\n",
       "    </tr>\n",
       "  </thead>\n",
       "  <tbody>\n",
       "    <tr>\n",
       "      <th>False</th>\n",
       "      <td>47340.0</td>\n",
       "      <td>17.519152</td>\n",
       "      <td>40.050894</td>\n",
       "      <td>-176.766293</td>\n",
       "      <td>-1.201827</td>\n",
       "      <td>3.829650</td>\n",
       "      <td>25.148999</td>\n",
       "      <td>229.592122</td>\n",
       "    </tr>\n",
       "    <tr>\n",
       "      <th>True</th>\n",
       "      <td>11517.0</td>\n",
       "      <td>22.007758</td>\n",
       "      <td>49.587711</td>\n",
       "      <td>-178.465019</td>\n",
       "      <td>-3.659263</td>\n",
       "      <td>8.731512</td>\n",
       "      <td>39.807419</td>\n",
       "      <td>229.458824</td>\n",
       "    </tr>\n",
       "  </tbody>\n",
       "</table>\n",
       "</div>"
      ],
      "text/plain": [
       "              count       mean        std         min       25%       50%  \\\n",
       "bizum_user                                                                  \n",
       "False       47340.0  17.519152  40.050894 -176.766293 -1.201827  3.829650   \n",
       "True        11517.0  22.007758  49.587711 -178.465019 -3.659263  8.731512   \n",
       "\n",
       "                  75%         max  \n",
       "bizum_user                         \n",
       "False       25.148999  229.592122  \n",
       "True        39.807419  229.458824  "
      ]
     },
     "execution_count": 18,
     "metadata": {},
     "output_type": "execute_result"
    }
   ],
   "source": [
    "df.groupby([\"bizum_user\"])[\"nc1\"].describe()"
   ]
  },
  {
   "cell_type": "code",
   "execution_count": null,
   "id": "ace76e8d",
   "metadata": {},
   "outputs": [],
   "source": [
    "# separate control and treatment for t-test\n",
    "df_control = df.loc[~df[\"bizum_user\"]]\n",
    "df_treatment = df.loc[df[\"bizum_user\"]]"
   ]
  },
  {
   "cell_type": "markdown",
   "id": "9429309b-ca33-46ca-bf0e-6f5fb3c2caae",
   "metadata": {},
   "source": [
    "net contribution 1"
   ]
  },
  {
   "cell_type": "code",
   "execution_count": null,
   "id": "11879640",
   "metadata": {},
   "outputs": [
    {
     "name": "stdout",
     "output_type": "stream",
     "text": [
      "17.519151966523086 22.007757760445344\n",
      "p=0.000\n",
      "different distributions/different group mean (reject H0)\n"
     ]
    }
   ],
   "source": [
    "from scipy.stats import ttest_ind\n",
    "\n",
    "print(df_control.nc1.mean(), df_treatment.nc1.mean())\n",
    "\n",
    "# compare samples\n",
    "_, p = ttest_ind(df_control[\"nc1\"], df_treatment[\"nc1\"])\n",
    "print(f\"p={p:.3f}\")\n",
    "\n",
    "# interpret\n",
    "alpha = 0.05  # significance level\n",
    "\n",
    "if p > alpha:\n",
    "    print(\n",
    "        \"same distributions/same group mean (fail to reject H0 - we do not have enough evidence to reject H0)\"\n",
    "    )\n",
    "else:\n",
    "    print(\"different distributions/different group mean (reject H0)\")"
   ]
  },
  {
   "cell_type": "markdown",
   "id": "5c3eb569-a035-45a4-b637-df14bd2bc017",
   "metadata": {},
   "source": [
    "revenues"
   ]
  },
  {
   "cell_type": "code",
   "execution_count": null,
   "id": "c9f649d4-c158-4b40-b3c9-0f1d89f67d4d",
   "metadata": {},
   "outputs": [
    {
     "name": "stdout",
     "output_type": "stream",
     "text": [
      "30.526699810711403 48.04992856432973\n",
      "p=0.000\n",
      "different distributions/different group mean (reject H0)\n"
     ]
    }
   ],
   "source": [
    "from scipy.stats import ttest_ind\n",
    "\n",
    "print(df_control.revenues.mean(), df_treatment.revenues.mean())\n",
    "\n",
    "# compare samples\n",
    "_, p = ttest_ind(df_control[\"revenues\"], df_treatment[\"revenues\"])\n",
    "print(f\"p={p:.3f}\")\n",
    "\n",
    "# interpret\n",
    "alpha = 0.05  # significance level\n",
    "if p > alpha:\n",
    "    print(\n",
    "        \"same distributions/same group mean (fail to reject H0 - we do not have enough evidence to reject H0)\"\n",
    "    )\n",
    "else:\n",
    "    print(\"different distributions/different group mean (reject H0)\")"
   ]
  },
  {
   "cell_type": "code",
   "execution_count": null,
   "id": "2d1649b3",
   "metadata": {},
   "outputs": [],
   "source": []
  },
  {
   "cell_type": "markdown",
   "id": "866bfce7",
   "metadata": {},
   "source": [
    "<br>\n",
    "<br>\n",
    "<br>\n",
    "<br>\n",
    "<br>\n",
    "<br>\n",
    "\n",
    "\n",
    "### Feature engineering - one hot encoding of categorical variables\n",
    "\n",
    "---\n",
    "<br>\n",
    "<br>\n",
    "\n"
   ]
  },
  {
   "cell_type": "markdown",
   "id": "dd7f778f-3c94-4f3a-9f0d-fe54e7d14d17",
   "metadata": {},
   "source": [
    "we leave out features such as use_case because they are not directly observable and could introduce bias."
   ]
  },
  {
   "cell_type": "code",
   "execution_count": null,
   "id": "2c8dd24b-6ea3-42d7-aa37-a369d84373bf",
   "metadata": {},
   "outputs": [
    {
     "data": {
      "text/plain": [
       "Index(['user_id', 'user_created', 'kyc_first_completed', 'tier', 'is_personal',\n",
       "       'is_newstandard', 'is_expat', 'gender', 'last_login_os', 'age',\n",
       "       'months_since_kycc', 'days_since_last_activity', 'use_case',\n",
       "       'no_physical_cards_flg', 'frequency_score', 'inactivity_length_ratio',\n",
       "       'balance_eur', 'n_act_total', 'n_days_aa', 'revenues_pre', 'nc1_pre',\n",
       "       'bizum_user', 'nc1', 'revenues'],\n",
       "      dtype='object')"
      ]
     },
     "execution_count": 22,
     "metadata": {},
     "output_type": "execute_result"
    }
   ],
   "source": [
    "df.columns"
   ]
  },
  {
   "cell_type": "code",
   "execution_count": null,
   "id": "3f64b7fc-87c5-4528-b1b1-ba4a0c7bf13d",
   "metadata": {},
   "outputs": [],
   "source": [
    "user_features = [\n",
    "    \"user_id\",\n",
    "    \"user_created\",\n",
    "    \"kyc_first_completed\",\n",
    "]\n",
    "\n",
    "categorical_features = [\n",
    "    \"tier\",\n",
    "    \"is_personal\",\n",
    "    \"is_newstandard\",\n",
    "    \"is_expat\",\n",
    "    \"gender\",\n",
    "    \"bizum_user\",\n",
    "    \"no_physical_cards_flg\",\n",
    "]\n",
    "\n",
    "features_to_scale = [\n",
    "    \"last_login_os\",\n",
    "    \"age\",\n",
    "    \"months_since_kycc\",\n",
    "]\n",
    "\n",
    "features_to_log = [\n",
    "    \"days_since_last_activity\",\n",
    "    \"n_act_total\",\n",
    "    \"n_days_aa\",\n",
    "    \"balance_eur\",\n",
    "    \"revenues_pre\",\n",
    "    \"nc1_pre\",\n",
    "    # 'frequency_score',\n",
    "]\n",
    "\n",
    "target = [\n",
    "    \"nc1\",\n",
    "    # 'revenues'\n",
    "]\n",
    "\n",
    "# used for reordering columns\n",
    "all_features = categorical_features + features_to_scale + features_to_log + target\n",
    "df = df[all_features].reset_index(drop=True)"
   ]
  },
  {
   "cell_type": "code",
   "execution_count": null,
   "id": "d3683fc0-c5c1-41e6-8b25-55244b0ca202",
   "metadata": {},
   "outputs": [],
   "source": []
  },
  {
   "cell_type": "code",
   "execution_count": null,
   "id": "6fc9d0f2-630a-4d21-b2d7-9f80ecd60646",
   "metadata": {},
   "outputs": [],
   "source": [
    "# df_pre_transform = df.copy()"
   ]
  },
  {
   "cell_type": "code",
   "execution_count": null,
   "id": "8ec8a3f9",
   "metadata": {},
   "outputs": [
    {
     "name": "stdout",
     "output_type": "stream",
     "text": [
      "(58857, 19)\n"
     ]
    }
   ],
   "source": [
    "df = pd.get_dummies(df, columns=categorical_features, drop_first=True)\n",
    "\n",
    "print(df.shape)"
   ]
  },
  {
   "cell_type": "code",
   "execution_count": null,
   "id": "ef192c0e-cf7e-4690-86db-721c49a7dcf7",
   "metadata": {},
   "outputs": [],
   "source": []
  },
  {
   "cell_type": "code",
   "execution_count": null,
   "id": "37f5a801-8f5d-4b4b-8a73-d12420c208cc",
   "metadata": {},
   "outputs": [],
   "source": []
  },
  {
   "cell_type": "code",
   "execution_count": null,
   "id": "5af1df7f-a87b-49fc-80fd-d62dbfd6af2c",
   "metadata": {},
   "outputs": [
    {
     "data": {
      "text/plain": [
       "['is_personal_True',\n",
       " 'tier_SMART',\n",
       " 'tier_STANDARD',\n",
       " 'tier_YOU',\n",
       " 'is_newstandard_True',\n",
       " 'gender_MALE',\n",
       " 'is_expat_True',\n",
       " 'bizum_user_True',\n",
       " 'no_physical_cards_flg_1']"
      ]
     },
     "execution_count": 26,
     "metadata": {},
     "output_type": "execute_result"
    }
   ],
   "source": [
    "# onehotencoded_features\n",
    "business_features = [f for f in df.columns if \"is_personal\" in f]\n",
    "tier_features = [f for f in df.columns if \"tier\" in f]\n",
    "is_newstandard_features = [f for f in df.columns if \"is_newstandard\" in f]\n",
    "gender_features = [f for f in df.columns if \"gender\" in f]\n",
    "expat_features = [f for f in df.columns if \"is_expat\" in f]\n",
    "bizum_features = [f for f in df.columns if \"bizum\" in f]\n",
    "card_features = [f for f in df.columns if \"no_physical_cards_flg\" in f]\n",
    "\n",
    "ohe_features = (\n",
    "    business_features\n",
    "    + tier_features\n",
    "    + is_newstandard_features\n",
    "    + gender_features\n",
    "    + expat_features\n",
    "    + bizum_features\n",
    "    + card_features\n",
    ")\n",
    "\n",
    "ohe_features"
   ]
  },
  {
   "cell_type": "code",
   "execution_count": null,
   "id": "1dcdbc06-73d9-4484-9cb4-4e12376d0e2d",
   "metadata": {},
   "outputs": [],
   "source": [
    "all_features = ohe_features + features_to_scale + features_to_log + target\n",
    "df = df[all_features]"
   ]
  },
  {
   "cell_type": "markdown",
   "id": "7094b2d5-e8ed-4599-9549-376b967229bd",
   "metadata": {},
   "source": [
    "<br>\n",
    "<br>\n",
    "<br>\n",
    "<br>\n",
    "<br>\n",
    "<br>\n",
    "\n",
    "\n",
    "### Feature engineering - logarithmic transformations and scaling\n",
    "\n",
    "---\n",
    "<br>\n",
    "<br>\n"
   ]
  },
  {
   "cell_type": "code",
   "execution_count": null,
   "id": "839f2825",
   "metadata": {},
   "outputs": [],
   "source": [
    "# Preprocessing pipeline\n",
    "from sklearn.preprocessing import (\n",
    "    OneHotEncoder,\n",
    "    StandardScaler,\n",
    "    RobustScaler,\n",
    "    PowerTransformer,\n",
    ")\n",
    "from sklearn.compose import make_column_transformer, ColumnTransformer\n",
    "from sklearn.pipeline import make_pipeline\n",
    "from sklearn.impute import SimpleImputer"
   ]
  },
  {
   "cell_type": "code",
   "execution_count": null,
   "id": "39837d0c-98c8-4871-b3c1-25d2b5796a1c",
   "metadata": {},
   "outputs": [],
   "source": [
    "scale_pipeline = make_pipeline(StandardScaler())\n",
    "log_pipeline = make_pipeline(\n",
    "    RobustScaler(), PowerTransformer(standardize=True)\n",
    ")  # https://github.com/scikit-learn/scikit-learn/issues/14959\n",
    "\n",
    "preprocessor = ColumnTransformer(\n",
    "    transformers=[\n",
    "        (\"scale\", scale_pipeline, features_to_scale),\n",
    "        (\"log_transform\", log_pipeline, features_to_log),\n",
    "    ],\n",
    "    remainder=\"passthrough\",\n",
    ")"
   ]
  },
  {
   "cell_type": "code",
   "execution_count": null,
   "id": "36989985-8e3b-417e-8287-7678fb603764",
   "metadata": {},
   "outputs": [],
   "source": [
    "# print(features_to_scale)\n",
    "# print(features_to_log)\n",
    "# print(df.columns)"
   ]
  },
  {
   "cell_type": "code",
   "execution_count": null,
   "id": "310365ca-7c54-4956-9367-d7a8cc5d4f50",
   "metadata": {},
   "outputs": [],
   "source": [
    "df_fittransform = pd.DataFrame(\n",
    "    preprocessor.fit_transform(df[features_to_scale + features_to_log + target]),\n",
    "    columns=df[features_to_scale + features_to_log + target].columns,\n",
    ")"
   ]
  },
  {
   "cell_type": "code",
   "execution_count": null,
   "id": "d82a6a30-859f-453c-af34-333b8d8d1337",
   "metadata": {},
   "outputs": [
    {
     "data": {
      "text/html": [
       "<div>\n",
       "<style scoped>\n",
       "    .dataframe tbody tr th:only-of-type {\n",
       "        vertical-align: middle;\n",
       "    }\n",
       "\n",
       "    .dataframe tbody tr th {\n",
       "        vertical-align: top;\n",
       "    }\n",
       "\n",
       "    .dataframe thead th {\n",
       "        text-align: right;\n",
       "    }\n",
       "</style>\n",
       "<table border=\"1\" class=\"dataframe\">\n",
       "  <thead>\n",
       "    <tr style=\"text-align: right;\">\n",
       "      <th></th>\n",
       "      <th>last_login_os</th>\n",
       "      <th>age</th>\n",
       "      <th>months_since_kycc</th>\n",
       "      <th>days_since_last_activity</th>\n",
       "      <th>n_act_total</th>\n",
       "      <th>n_days_aa</th>\n",
       "      <th>balance_eur</th>\n",
       "      <th>revenues_pre</th>\n",
       "      <th>nc1_pre</th>\n",
       "      <th>nc1</th>\n",
       "    </tr>\n",
       "  </thead>\n",
       "  <tbody>\n",
       "    <tr>\n",
       "      <th>0</th>\n",
       "      <td>-0.699224</td>\n",
       "      <td>-1.429155</td>\n",
       "      <td>1.389903</td>\n",
       "      <td>-0.754776</td>\n",
       "      <td>1.220161</td>\n",
       "      <td>1.003675</td>\n",
       "      <td>-1.154080</td>\n",
       "      <td>-0.378599</td>\n",
       "      <td>-1.167904</td>\n",
       "      <td>-2.886850</td>\n",
       "    </tr>\n",
       "    <tr>\n",
       "      <th>1</th>\n",
       "      <td>0.924858</td>\n",
       "      <td>1.432973</td>\n",
       "      <td>1.389903</td>\n",
       "      <td>-0.754776</td>\n",
       "      <td>1.220161</td>\n",
       "      <td>1.630806</td>\n",
       "      <td>1.097196</td>\n",
       "      <td>0.164366</td>\n",
       "      <td>-0.778156</td>\n",
       "      <td>-16.135438</td>\n",
       "    </tr>\n",
       "    <tr>\n",
       "      <th>2</th>\n",
       "      <td>0.924858</td>\n",
       "      <td>-0.250631</td>\n",
       "      <td>1.389903</td>\n",
       "      <td>-0.754776</td>\n",
       "      <td>0.725954</td>\n",
       "      <td>0.205129</td>\n",
       "      <td>1.028211</td>\n",
       "      <td>0.550602</td>\n",
       "      <td>-0.898752</td>\n",
       "      <td>-74.343768</td>\n",
       "    </tr>\n",
       "    <tr>\n",
       "      <th>3</th>\n",
       "      <td>0.924858</td>\n",
       "      <td>-1.344974</td>\n",
       "      <td>1.305145</td>\n",
       "      <td>-0.754776</td>\n",
       "      <td>1.220161</td>\n",
       "      <td>0.931240</td>\n",
       "      <td>-0.451561</td>\n",
       "      <td>-0.725532</td>\n",
       "      <td>-0.292450</td>\n",
       "      <td>-5.656432</td>\n",
       "    </tr>\n",
       "    <tr>\n",
       "      <th>4</th>\n",
       "      <td>0.924858</td>\n",
       "      <td>-1.429155</td>\n",
       "      <td>1.220388</td>\n",
       "      <td>-0.754776</td>\n",
       "      <td>1.220161</td>\n",
       "      <td>0.931240</td>\n",
       "      <td>-1.185461</td>\n",
       "      <td>1.096189</td>\n",
       "      <td>0.631339</td>\n",
       "      <td>17.514357</td>\n",
       "    </tr>\n",
       "  </tbody>\n",
       "</table>\n",
       "</div>"
      ],
      "text/plain": [
       "   last_login_os       age  months_since_kycc  days_since_last_activity  \\\n",
       "0      -0.699224 -1.429155           1.389903                 -0.754776   \n",
       "1       0.924858  1.432973           1.389903                 -0.754776   \n",
       "2       0.924858 -0.250631           1.389903                 -0.754776   \n",
       "3       0.924858 -1.344974           1.305145                 -0.754776   \n",
       "4       0.924858 -1.429155           1.220388                 -0.754776   \n",
       "\n",
       "   n_act_total  n_days_aa  balance_eur  revenues_pre   nc1_pre        nc1  \n",
       "0     1.220161   1.003675    -1.154080     -0.378599 -1.167904  -2.886850  \n",
       "1     1.220161   1.630806     1.097196      0.164366 -0.778156 -16.135438  \n",
       "2     0.725954   0.205129     1.028211      0.550602 -0.898752 -74.343768  \n",
       "3     1.220161   0.931240    -0.451561     -0.725532 -0.292450  -5.656432  \n",
       "4     1.220161   0.931240    -1.185461      1.096189  0.631339  17.514357  "
      ]
     },
     "execution_count": 32,
     "metadata": {},
     "output_type": "execute_result"
    }
   ],
   "source": [
    "df_fittransform.head()"
   ]
  },
  {
   "cell_type": "code",
   "execution_count": null,
   "id": "bcd478b2-e38a-4d12-b0a8-e7d76ad8bd31",
   "metadata": {},
   "outputs": [
    {
     "data": {
      "text/plain": [
       "['age',\n",
       " 'months_since_kycc',\n",
       " 'days_since_last_activity',\n",
       " 'balance_eur',\n",
       " 'n_act_total',\n",
       " 'n_days_aa',\n",
       " 'revenues_pre',\n",
       " 'nc1_pre']"
      ]
     },
     "execution_count": 33,
     "metadata": {},
     "output_type": "execute_result"
    }
   ],
   "source": [
    "cols_list"
   ]
  },
  {
   "cell_type": "code",
   "execution_count": null,
   "id": "def60e88-263f-4740-b95d-c25502542f49",
   "metadata": {},
   "outputs": [
    {
     "data": {
      "text/plain": [
       "array([[<AxesSubplot:title={'center':'age'}>,\n",
       "        <AxesSubplot:title={'center':'months_since_kycc'}>,\n",
       "        <AxesSubplot:title={'center':'days_since_last_activity'}>,\n",
       "        <AxesSubplot:title={'center':'balance_eur'}>,\n",
       "        <AxesSubplot:title={'center':'n_act_total'}>,\n",
       "        <AxesSubplot:title={'center':'n_days_aa'}>,\n",
       "        <AxesSubplot:title={'center':'revenues_pre'}>,\n",
       "        <AxesSubplot:title={'center':'nc1_pre'}>]], dtype=object)"
      ]
     },
     "execution_count": 34,
     "metadata": {},
     "output_type": "execute_result"
    },
    {
     "data": {
      "image/png": "[encoded data removed]",
      "text/plain": [
       "<Figure size 2500x500 with 8 Axes>"
      ]
     },
     "metadata": {},
     "output_type": "display_data"
    }
   ],
   "source": [
    "df_fittransform.loc[:, cols_list].hist(figsize=(25, 5), layout=(1, 8), bins=20)"
   ]
  },
  {
   "cell_type": "code",
   "execution_count": null,
   "id": "19b01149-26ca-4c96-aaa5-30d677dc73f4",
   "metadata": {},
   "outputs": [],
   "source": [
    "# Join transformed columns on existing df, remove pre-transformation features\n",
    "df = df.loc[\n",
    "    :,\n",
    "    ~df.columns.isin(features_to_scale + features_to_log + target),\n",
    "].join(df_fittransform)"
   ]
  },
  {
   "cell_type": "code",
   "execution_count": null,
   "id": "96c3db9f-3dbe-4ed2-a3a3-03ece38327a8",
   "metadata": {},
   "outputs": [],
   "source": []
  },
  {
   "cell_type": "markdown",
   "id": "beb1ac91-5c05-47da-aeaa-8ca2d9f9c366",
   "metadata": {},
   "source": [
    "<br>\n",
    "<br>\n",
    "<br>\n",
    "<br>\n",
    "<br>\n",
    "<br>\n",
    "\n",
    "### Propensity score matching - matching users based on their likelihood to redeem the coupon\n",
    "\n",
    "---\n",
    "\n",
    "<br>\n",
    "<br>"
   ]
  },
  {
   "cell_type": "code",
   "execution_count": 202,
   "id": "3aae10cc-cec1-47ce-be08-abb8d5c82608",
   "metadata": {},
   "outputs": [],
   "source": [
    "from sklearn.linear_model import LogisticRegression"
   ]
  },
  {
   "cell_type": "code",
   "execution_count": 203,
   "id": "07d883b2-2cba-4533-94ff-fdd873819602",
   "metadata": {},
   "outputs": [],
   "source": [
    "t = \"bizum_user_True\"\n",
    "y = \"nc1\"\n",
    "exclude_col = \"revenues\"\n",
    "\n",
    "x = [f for f in df.columns if f not in t + y + exclude_col]"
   ]
  },
  {
   "cell_type": "code",
   "execution_count": 204,
   "id": "799e5a80-4386-423a-8dbd-11373482029e",
   "metadata": {},
   "outputs": [
    {
     "name": "stdout",
     "output_type": "stream",
     "text": [
      "Index(['is_personal_True', 'tier_SMART', 'tier_STANDARD', 'tier_YOU',\n",
      "       'is_newstandard_True', 'gender_MALE', 'is_expat_True',\n",
      "       'no_physical_cards_flg_1', 'last_login_os', 'age', 'months_since_kycc',\n",
      "       'days_since_last_activity', 'n_act_total', 'n_days_aa', 'balance_eur'],\n",
      "      dtype='object')\n",
      "Index(['bizum_user_True'], dtype='object')\n",
      "Index(['nc1'], dtype='object')\n"
     ]
    }
   ],
   "source": [
    "print(df[x].columns)\n",
    "print(df[[t]].columns)\n",
    "print(df[[y]].columns)"
   ]
  },
  {
   "cell_type": "code",
   "execution_count": 205,
   "id": "706229f4-a955-4592-9d75-5a0cf98abbc9",
   "metadata": {},
   "outputs": [],
   "source": [
    "ps_scores_model = LogisticRegression().fit(df[x], df[t])"
   ]
  },
  {
   "cell_type": "code",
   "execution_count": 206,
   "id": "93a6fa3e-73c7-4f95-9c43-ff97da6c2da3",
   "metadata": {},
   "outputs": [],
   "source": [
    "ps_scores = df.assign(propensity_score=ps_scores_model.predict_proba(df[x])[:, 1])\n",
    "df_final = ps_scores[[\"propensity_score\", t, y]]"
   ]
  },
  {
   "cell_type": "code",
   "execution_count": 207,
   "id": "c3610ce7-4fee-4ce9-acda-d04406894874",
   "metadata": {},
   "outputs": [
    {
     "data": {
      "text/html": [
       "<div>\n",
       "<style scoped>\n",
       "    .dataframe tbody tr th:only-of-type {\n",
       "        vertical-align: middle;\n",
       "    }\n",
       "\n",
       "    .dataframe tbody tr th {\n",
       "        vertical-align: top;\n",
       "    }\n",
       "\n",
       "    .dataframe thead th {\n",
       "        text-align: right;\n",
       "    }\n",
       "</style>\n",
       "<table border=\"1\" class=\"dataframe\">\n",
       "  <thead>\n",
       "    <tr style=\"text-align: right;\">\n",
       "      <th></th>\n",
       "      <th>propensity_score</th>\n",
       "      <th>bizum_user_True</th>\n",
       "      <th>nc1</th>\n",
       "    </tr>\n",
       "  </thead>\n",
       "  <tbody>\n",
       "    <tr>\n",
       "      <th>0</th>\n",
       "      <td>0.493405</td>\n",
       "      <td>1</td>\n",
       "      <td>1.481138</td>\n",
       "    </tr>\n",
       "    <tr>\n",
       "      <th>1</th>\n",
       "      <td>0.133248</td>\n",
       "      <td>1</td>\n",
       "      <td>27.111183</td>\n",
       "    </tr>\n",
       "    <tr>\n",
       "      <th>2</th>\n",
       "      <td>0.237870</td>\n",
       "      <td>1</td>\n",
       "      <td>-32.888848</td>\n",
       "    </tr>\n",
       "    <tr>\n",
       "      <th>3</th>\n",
       "      <td>0.419790</td>\n",
       "      <td>1</td>\n",
       "      <td>34.065367</td>\n",
       "    </tr>\n",
       "    <tr>\n",
       "      <th>4</th>\n",
       "      <td>0.443602</td>\n",
       "      <td>1</td>\n",
       "      <td>-1.059133</td>\n",
       "    </tr>\n",
       "  </tbody>\n",
       "</table>\n",
       "</div>"
      ],
      "text/plain": [
       "   propensity_score  bizum_user_True        nc1\n",
       "0          0.493405                1   1.481138\n",
       "1          0.133248                1  27.111183\n",
       "2          0.237870                1 -32.888848\n",
       "3          0.419790                1  34.065367\n",
       "4          0.443602                1  -1.059133"
      ]
     },
     "execution_count": 207,
     "metadata": {},
     "output_type": "execute_result"
    }
   ],
   "source": [
    "df_final.head()"
   ]
  },
  {
   "cell_type": "code",
   "execution_count": 208,
   "id": "0ee163c9-49bc-4c93-8bb9-8ed58af63c6b",
   "metadata": {},
   "outputs": [
    {
     "data": {
      "text/plain": [
       "<seaborn.axisgrid.FacetGrid at 0x40fb986c50>"
      ]
     },
     "execution_count": 208,
     "metadata": {},
     "output_type": "execute_result"
    },
    {
     "data": {
      "image/png": "[encoded data removed]",
      "text/plain": [
       "<Figure size 627.111x500 with 1 Axes>"
      ]
     },
     "metadata": {},
     "output_type": "display_data"
    }
   ],
   "source": [
    "# Plotting the propensity score distribution to make sure there's big enough overlapped between the two groups\n",
    "sns.displot(data=df_final, x=df_final[\"propensity_score\"], hue=t, bins=20)"
   ]
  },
  {
   "cell_type": "code",
   "execution_count": null,
   "id": "1cc6227f-4b9d-41f2-8fbe-a1419fad1c0a",
   "metadata": {},
   "outputs": [],
   "source": []
  },
  {
   "cell_type": "code",
   "execution_count": null,
   "id": "0b2895b0-a5cd-4538-ba5e-ec02f5cc51a6",
   "metadata": {},
   "outputs": [],
   "source": []
  },
  {
   "cell_type": "markdown",
   "id": "e61e6012-1276-4f1a-9573-5f5faadc813c",
   "metadata": {},
   "source": [
    "<br>\n",
    "<br>\n",
    "<br>\n",
    "<br>\n",
    "<br>\n",
    "<br>\n",
    "\n",
    "### Propensity score matching - compare characteristics of users that started using Bizum and those that never did\n",
    "\n",
    "---\n",
    "\n",
    "<br>\n",
    "<br>"
   ]
  },
  {
   "cell_type": "code",
   "execution_count": null,
   "id": "f7367374-0ae8-4d9a-9e8d-1215863cf245",
   "metadata": {},
   "outputs": [],
   "source": [
    "# df_test = df_pre_transform.assign(propensity_score=ps_scores_model.predict_proba(df[x])[:, 1])"
   ]
  },
  {
   "cell_type": "code",
   "execution_count": null,
   "id": "086f0566-66d1-4203-9ed4-6876bc2989f3",
   "metadata": {},
   "outputs": [],
   "source": [
    "# df_test['propensity_score'] = df_test['propensity_score'].round(1)"
   ]
  },
  {
   "cell_type": "code",
   "execution_count": null,
   "id": "c9d7ee19-3b17-4897-ba83-277e87cf7b28",
   "metadata": {},
   "outputs": [],
   "source": [
    "# df_test.columns"
   ]
  },
  {
   "cell_type": "code",
   "execution_count": null,
   "id": "d715fcf3-5eca-43a0-b45e-a7b955cc3bbd",
   "metadata": {},
   "outputs": [],
   "source": [
    "# df_test.loc[df_test['propensity_score']<=0.2].groupby(['bizum_user']).mean()"
   ]
  },
  {
   "cell_type": "code",
   "execution_count": null,
   "id": "12665d4c-b0eb-4504-a6fa-cbf0696582cb",
   "metadata": {},
   "outputs": [],
   "source": [
    "# df_test.loc[df_test['propensity_score']<=0.2].groupby(['bizum_user'])['tier', 'is_personal', 'is_newstandard'].count()"
   ]
  },
  {
   "cell_type": "code",
   "execution_count": null,
   "id": "eb507e9d-2a14-4c0c-af39-14e22ecbea0c",
   "metadata": {},
   "outputs": [],
   "source": []
  },
  {
   "cell_type": "markdown",
   "id": "d699d24a-a8e2-41ea-9ee3-7a689122eb75",
   "metadata": {
    "tags": []
   },
   "source": [
    "<br>\n",
    "<br>\n",
    "<br>\n",
    "<br>\n",
    "<br>\n",
    "<br>\n",
    "\n",
    "### OLS estimation - Regressing NC1 with the propensity score and coupon boolean\n",
    "\n",
    "---\n",
    "\n",
    "<br>\n",
    "<br>"
   ]
  },
  {
   "cell_type": "code",
   "execution_count": null,
   "id": "9bb3d12a-b6ff-483d-a153-9abdc4746724",
   "metadata": {},
   "outputs": [],
   "source": [
    "# !pip3 install statsmodels"
   ]
  },
  {
   "cell_type": "code",
   "execution_count": 209,
   "id": "4453e83e-ec69-46af-b0eb-456d38def9b7",
   "metadata": {},
   "outputs": [],
   "source": [
    "# ols estimation - Regressing NC1 with the propensity score and coupon boolean, focusing on the coefficient of redeemed_coupon_True\n",
    "import statsmodels.formula.api as smf"
   ]
  },
  {
   "cell_type": "code",
   "execution_count": 210,
   "id": "fab07c5f-366d-4584-bc82-0c06b66a897b",
   "metadata": {},
   "outputs": [
    {
     "data": {
      "text/html": [
       "<table class=\"simpletable\">\n",
       "<tr>\n",
       "          <td></td>            <th>coef</th>     <th>std err</th>      <th>t</th>      <th>P>|t|</th>  <th>[0.025</th>    <th>0.975]</th>  \n",
       "</tr>\n",
       "<tr>\n",
       "  <th>Intercept</th>        <td>   10.7588</td> <td>    0.294</td> <td>   36.577</td> <td> 0.000</td> <td>   10.182</td> <td>   11.335</td>\n",
       "</tr>\n",
       "<tr>\n",
       "  <th>bizum_user_True</th>  <td>   -0.7470</td> <td>    0.464</td> <td>   -1.609</td> <td> 0.108</td> <td>   -1.657</td> <td>    0.163</td>\n",
       "</tr>\n",
       "<tr>\n",
       "  <th>propensity_score</th> <td>   40.2049</td> <td>    1.305</td> <td>   30.816</td> <td> 0.000</td> <td>   37.648</td> <td>   42.762</td>\n",
       "</tr>\n",
       "</table>"
      ],
      "text/plain": [
       "<class 'statsmodels.iolib.table.SimpleTable'>"
      ]
     },
     "execution_count": 210,
     "metadata": {},
     "output_type": "execute_result"
    }
   ],
   "source": [
    "smf.ols(f\"{y} ~ {t} + propensity_score\", data=df_final).fit().summary().tables[1]"
   ]
  },
  {
   "cell_type": "markdown",
   "id": "63718c8b-0e9a-4ee1-9ff9-0e95307600a7",
   "metadata": {},
   "source": [
    "<br>\n",
    "<br>\n",
    "<br>\n",
    "<br>\n",
    "<br>\n",
    "<br>\n",
    "\n",
    "### causal inference\n",
    "\n",
    "---\n",
    "\n",
    "<br>\n",
    "<br>"
   ]
  },
  {
   "cell_type": "code",
   "execution_count": null,
   "id": "2d4338cc-ed95-4d72-8d22-bc3508339953",
   "metadata": {},
   "outputs": [],
   "source": [
    "# !pip3 install causalinference"
   ]
  },
  {
   "cell_type": "code",
   "execution_count": null,
   "id": "4591d62f",
   "metadata": {},
   "outputs": [],
   "source": [
    "# # Using the Python package based on the propensity score method to directly get the ATE\n",
    "\n",
    "# from causalinference import CausalModel\n",
    "\n",
    "# cm = CausalModel(\n",
    "#     Y=df_final[y].values,\n",
    "#     D=df_final[t].values,\n",
    "#     X=df_final[[\"propensity_score\"]].values,\n",
    "# )\n",
    "\n",
    "# cm.est_via_matching(matches=1, bias_adj=True)\n",
    "\n",
    "# print(cm.estimates)"
   ]
  },
  {
   "cell_type": "code",
   "execution_count": null,
   "id": "c4623719",
   "metadata": {},
   "outputs": [],
   "source": []
  },
  {
   "cell_type": "code",
   "execution_count": null,
   "id": "d7506b7f-f9cf-4622-b3e5-cc8fabbbe520",
   "metadata": {},
   "outputs": [],
   "source": []
  },
  {
   "cell_type": "code",
   "execution_count": null,
   "id": "f114cdf2-a583-4a9c-9889-474e4594ad9a",
   "metadata": {},
   "outputs": [],
   "source": []
  },
  {
   "cell_type": "markdown",
   "id": "2620e155-7c93-42cc-acc9-4712d1e33307",
   "metadata": {},
   "source": [
    "<br>\n",
    "<br>\n",
    "<br>\n",
    "<br>\n",
    "<br>\n",
    "<br>\n",
    "\n",
    "# Difference in differences\n",
    "\n",
    "---\n",
    "\n",
    "<br>\n",
    "<br>"
   ]
  },
  {
   "cell_type": "code",
   "execution_count": null,
   "id": "3cb444ba-0c42-4fd5-9582-9a9b54f69e80",
   "metadata": {},
   "outputs": [],
   "source": [
    "bizum_did = \"\"\"\n",
    "-- bizum_DIDs\n",
    "with bizum_status as (\n",
    "    select\n",
    "        u.user_created,\n",
    "        min(created) as bizum_start_ts\n",
    "    from\n",
    "        dbt.zrh_users u\n",
    "    inner join\n",
    "        beryl_user b on b.id = u.user_id\n",
    "            and status = 'SIGNED_UP'\n",
    "    where\n",
    "        1=1\n",
    "    group by 1\n",
    "\n",
    "), net_contribution as (\n",
    "    select\n",
    "        u.user_created,\n",
    "        sum(case when to_date(p.month, 'YYYY-MM') <= '2022-09-01' and type = 'Revenue' then value end)::float / 100 as revenues_pre,\n",
    "        sum(case when to_date(p.month, 'YYYY-MM') >= '2022-10-01' and type = 'Revenue' then value end)::float / 100 as revenues_post,\n",
    "        sum(case when to_date(p.month, 'YYYY-MM') <= '2022-09-01' then value end)::float / 100 as nc1_pre,\n",
    "        sum(case when to_date(p.month, 'YYYY-MM') >= '2022-10-01' then value end)::float / 100 as nc1_post\n",
    "    from\n",
    "        dbt.stg_users u\n",
    "    inner join\n",
    "        dbt.ucm_pnl p using (user_created)\n",
    "    inner join\n",
    "        (select * from dbt.ucm_mapping where 1=1 and type in ('Revenue', 'Direct', 'Variable')) l using (label)\n",
    "    where\n",
    "        1=1\n",
    "        and to_date(p.month, 'YYYY-MM') >= '2022-04-01'\n",
    "        and to_date(p.month, 'YYYY-MM') <= '2023-03-01'\n",
    "    group by 1\n",
    "\n",
    "), final as (\n",
    "    select\n",
    "        u.user_id,\n",
    "        bs.user_created is not null as bizum_user,\n",
    "        revenues_pre,\n",
    "        revenues_post,\n",
    "        nc1_pre,\n",
    "        nc1_post\n",
    "    from\n",
    "        dbt.zrh_users u\n",
    "    inner join\n",
    "        net_contribution nc using (user_created)\n",
    "    left join\n",
    "        bizum_status bs using (user_created)\n",
    "    where\n",
    "        1=1\n",
    "        and tnc_country_group = 'ESP'\n",
    "        and kyc_first_completed <= '2022-03-01'\n",
    "        and (bizum_start_ts < '2022-10-01' or bs.user_created is null)\n",
    "        and legal_entity = 'ES' -- all bizum users are ES\n",
    "        and is_fraudster is false\n",
    "\n",
    ")\n",
    "\n",
    "(select * from final where bizum_user is true)\n",
    "UNION ALL\n",
    "(select * from final where bizum_user is false order by random() limit 100000);\n",
    "\"\"\""
   ]
  },
  {
   "cell_type": "code",
   "execution_count": 258,
   "id": "98c79773-5520-48ae-b1ec-7aad2f76612e",
   "metadata": {},
   "outputs": [],
   "source": [
    "df = pd.read_csv(\"bizum_DIDs.csv\")"
   ]
  },
  {
   "cell_type": "code",
   "execution_count": 259,
   "id": "0f5ccfc2-6e2e-4ce0-a359-5f7f7ad41433",
   "metadata": {},
   "outputs": [
    {
     "data": {
      "text/html": [
       "<div>\n",
       "<style scoped>\n",
       "    .dataframe tbody tr th:only-of-type {\n",
       "        vertical-align: middle;\n",
       "    }\n",
       "\n",
       "    .dataframe tbody tr th {\n",
       "        vertical-align: top;\n",
       "    }\n",
       "\n",
       "    .dataframe thead th {\n",
       "        text-align: right;\n",
       "    }\n",
       "</style>\n",
       "<table border=\"1\" class=\"dataframe\">\n",
       "  <thead>\n",
       "    <tr style=\"text-align: right;\">\n",
       "      <th></th>\n",
       "      <th>user_id</th>\n",
       "      <th>bizum_user</th>\n",
       "      <th>revenues_pre</th>\n",
       "      <th>revenues_post</th>\n",
       "      <th>nc1_pre</th>\n",
       "      <th>nc1_post</th>\n",
       "    </tr>\n",
       "  </thead>\n",
       "  <tbody>\n",
       "    <tr>\n",
       "      <th>0</th>\n",
       "      <td>6216d61f-5ad5-42af-b201-efdfd3161d37</td>\n",
       "      <td>True</td>\n",
       "      <td>5.888917</td>\n",
       "      <td>13.652315</td>\n",
       "      <td>2.659193</td>\n",
       "      <td>7.546169</td>\n",
       "    </tr>\n",
       "    <tr>\n",
       "      <th>1</th>\n",
       "      <td>bd3c5367-f872-4b30-bbf9-4bcc54f27460</td>\n",
       "      <td>True</td>\n",
       "      <td>1.536885</td>\n",
       "      <td>3.251113</td>\n",
       "      <td>-1.419065</td>\n",
       "      <td>-0.204653</td>\n",
       "    </tr>\n",
       "    <tr>\n",
       "      <th>2</th>\n",
       "      <td>967b655c-d358-4661-90e8-173f007707d3</td>\n",
       "      <td>True</td>\n",
       "      <td>16.741253</td>\n",
       "      <td>15.129977</td>\n",
       "      <td>-13.823550</td>\n",
       "      <td>-3.991110</td>\n",
       "    </tr>\n",
       "    <tr>\n",
       "      <th>3</th>\n",
       "      <td>8bdd1c54-55b8-4f26-92ca-020702757d5e</td>\n",
       "      <td>True</td>\n",
       "      <td>20.104985</td>\n",
       "      <td>18.276456</td>\n",
       "      <td>-13.362111</td>\n",
       "      <td>16.434007</td>\n",
       "    </tr>\n",
       "    <tr>\n",
       "      <th>4</th>\n",
       "      <td>38e04cfa-c906-4430-9c46-f0b9ebb4a8d4</td>\n",
       "      <td>True</td>\n",
       "      <td>14.801884</td>\n",
       "      <td>21.672511</td>\n",
       "      <td>-28.926932</td>\n",
       "      <td>5.151790</td>\n",
       "    </tr>\n",
       "  </tbody>\n",
       "</table>\n",
       "</div>"
      ],
      "text/plain": [
       "                                user_id  bizum_user  revenues_pre  \\\n",
       "0  6216d61f-5ad5-42af-b201-efdfd3161d37        True      5.888917   \n",
       "1  bd3c5367-f872-4b30-bbf9-4bcc54f27460        True      1.536885   \n",
       "2  967b655c-d358-4661-90e8-173f007707d3        True     16.741253   \n",
       "3  8bdd1c54-55b8-4f26-92ca-020702757d5e        True     20.104985   \n",
       "4  38e04cfa-c906-4430-9c46-f0b9ebb4a8d4        True     14.801884   \n",
       "\n",
       "   revenues_post    nc1_pre   nc1_post  \n",
       "0      13.652315   2.659193   7.546169  \n",
       "1       3.251113  -1.419065  -0.204653  \n",
       "2      15.129977 -13.823550  -3.991110  \n",
       "3      18.276456 -13.362111  16.434007  \n",
       "4      21.672511 -28.926932   5.151790  "
      ]
     },
     "execution_count": 259,
     "metadata": {},
     "output_type": "execute_result"
    }
   ],
   "source": [
    "df.head()"
   ]
  },
  {
   "cell_type": "code",
   "execution_count": 260,
   "id": "aa845140-60c7-44ee-9e38-8298838035e1",
   "metadata": {},
   "outputs": [],
   "source": [
    "df = df.fillna(0)"
   ]
  },
  {
   "cell_type": "code",
   "execution_count": 271,
   "id": "e65c0852-be7c-4485-8833-4dce599eca22",
   "metadata": {},
   "outputs": [
    {
     "data": {
      "text/plain": [
       "<AxesSubplot:xlabel='nc1_pre', ylabel='nc1_post'>"
      ]
     },
     "execution_count": 271,
     "metadata": {},
     "output_type": "execute_result"
    },
    {
     "data": {
      "image/png": "[encoded data removed]",
      "text/plain": [
       "<Figure size 640x480 with 1 Axes>"
      ]
     },
     "metadata": {},
     "output_type": "display_data"
    }
   ],
   "source": [
    "sns.scatterplot(data=df, x=\"nc1_pre\", y=\"nc1_post\")"
   ]
  },
  {
   "cell_type": "code",
   "execution_count": null,
   "id": "ad1fbd08-d069-41e0-9fa5-61ae7d68fa3f",
   "metadata": {},
   "outputs": [],
   "source": []
  },
  {
   "cell_type": "code",
   "execution_count": null,
   "id": "25fd3485-aa84-4918-bfa1-413626ed00b3",
   "metadata": {},
   "outputs": [],
   "source": []
  },
  {
   "cell_type": "code",
   "execution_count": 261,
   "id": "6238da5a-0182-41f2-a303-7f85d60884c3",
   "metadata": {},
   "outputs": [
    {
     "data": {
      "text/html": [
       "<div>\n",
       "<style scoped>\n",
       "    .dataframe tbody tr th:only-of-type {\n",
       "        vertical-align: middle;\n",
       "    }\n",
       "\n",
       "    .dataframe tbody tr th {\n",
       "        vertical-align: top;\n",
       "    }\n",
       "\n",
       "    .dataframe thead th {\n",
       "        text-align: right;\n",
       "    }\n",
       "</style>\n",
       "<table border=\"1\" class=\"dataframe\">\n",
       "  <thead>\n",
       "    <tr style=\"text-align: right;\">\n",
       "      <th></th>\n",
       "      <th>revenues_pre</th>\n",
       "      <th>revenues_post</th>\n",
       "      <th>nc1_pre</th>\n",
       "      <th>nc1_post</th>\n",
       "    </tr>\n",
       "    <tr>\n",
       "      <th>bizum_user</th>\n",
       "      <th></th>\n",
       "      <th></th>\n",
       "      <th></th>\n",
       "      <th></th>\n",
       "    </tr>\n",
       "  </thead>\n",
       "  <tbody>\n",
       "    <tr>\n",
       "      <th>False</th>\n",
       "      <td>15.349955</td>\n",
       "      <td>15.440649</td>\n",
       "      <td>8.008145</td>\n",
       "      <td>9.659610</td>\n",
       "    </tr>\n",
       "    <tr>\n",
       "      <th>True</th>\n",
       "      <td>45.200687</td>\n",
       "      <td>55.871806</td>\n",
       "      <td>17.809455</td>\n",
       "      <td>27.202497</td>\n",
       "    </tr>\n",
       "  </tbody>\n",
       "</table>\n",
       "</div>"
      ],
      "text/plain": [
       "            revenues_pre  revenues_post    nc1_pre   nc1_post\n",
       "bizum_user                                                   \n",
       "False          15.349955      15.440649   8.008145   9.659610\n",
       "True           45.200687      55.871806  17.809455  27.202497"
      ]
     },
     "execution_count": 261,
     "metadata": {},
     "output_type": "execute_result"
    }
   ],
   "source": [
    "df.groupby(\"bizum_user\").mean()"
   ]
  },
  {
   "cell_type": "code",
   "execution_count": 262,
   "id": "b45f719a-0127-4b8b-9d2f-6e86f69575d1",
   "metadata": {},
   "outputs": [],
   "source": [
    "# separate control and treatment for t-test\n",
    "df_control = df.loc[~df[\"bizum_user\"]]\n",
    "df_treatment = df.loc[df[\"bizum_user\"]]"
   ]
  },
  {
   "cell_type": "code",
   "execution_count": null,
   "id": "c869ce88-34e2-4159-ba7d-0cd9b1648caf",
   "metadata": {},
   "outputs": [
    {
     "name": "stdout",
     "output_type": "stream",
     "text": [
      "the DIDs in revenues in the 6 months after launch is 10.580 Euros\n"
     ]
    }
   ],
   "source": [
    "df_control_pre_mean = df_control.revenues_pre.mean()\n",
    "df_control_post_mean = df_control.revenues_post.mean()\n",
    "df_treatment_pre_mean = df_treatment.revenues_pre.mean()\n",
    "df_treatment_post_mean = df_treatment.re_post.mean()\n",
    "\n",
    "print(\n",
    "    f\"the DIDs in revenues in the 6 months after launch is {((df_treatment_post_mean - df_treatment_pre_mean) - (df_control_post_mean - df_control_pre_mean)):.3f} Euros\"\n",
    ")"
   ]
  },
  {
   "cell_type": "code",
   "execution_count": 263,
   "id": "449869d0-4cf7-421b-89a2-c9b84ecc28ea",
   "metadata": {},
   "outputs": [
    {
     "name": "stdout",
     "output_type": "stream",
     "text": [
      "the DIDs in NC 1 in the 6 months after launch is 7.742 Euros\n"
     ]
    }
   ],
   "source": [
    "df_control_pre_mean = df_control.nc1_pre.mean()\n",
    "df_control_post_mean = df_control.nc1_post.mean()\n",
    "df_treatment_pre_mean = df_treatment.nc1_pre.mean()\n",
    "df_treatment_post_mean = df_treatment.nc1_post.mean()\n",
    "\n",
    "print(\n",
    "    f\"the DIDs in NC 1 in the 6 months after launch is {((df_treatment_post_mean - df_treatment_pre_mean) - (df_control_post_mean - df_control_pre_mean)):.3f} Euros\"\n",
    ")"
   ]
  },
  {
   "cell_type": "code",
   "execution_count": null,
   "id": "5dae3db4-6ec1-4488-85e4-195c92a8623d",
   "metadata": {},
   "outputs": [],
   "source": []
  },
  {
   "cell_type": "code",
   "execution_count": 264,
   "id": "301c2086-d51c-498c-bd8a-f5835cb2edfe",
   "metadata": {},
   "outputs": [],
   "source": [
    "df[\"bizum_user\"] = df[\"bizum_user\"].astype(int)"
   ]
  },
  {
   "cell_type": "code",
   "execution_count": null,
   "id": "2013f816-2ee6-479a-ab19-6a6e9dfb4757",
   "metadata": {},
   "outputs": [],
   "source": []
  },
  {
   "cell_type": "code",
   "execution_count": null,
   "id": "23690982-7ced-4ebc-be66-d8b7577a073e",
   "metadata": {},
   "outputs": [],
   "source": []
  },
  {
   "cell_type": "code",
   "execution_count": 265,
   "id": "6751775a-09c0-4301-ae8c-89ac8081203d",
   "metadata": {},
   "outputs": [],
   "source": [
    "# group g: 0 control group (PA), 1 treatment group (NJ)\n",
    "# t: 0 before treatment (min wage raise), 1 after treatment\n",
    "# gt: interaction of g * t\n",
    "\n",
    "# data before the treatment\n",
    "df_before = df[[\"nc1_pre\", \"bizum_user\"]].copy()\n",
    "df_before[\"t\"] = 0\n",
    "df_before.columns = [\"nc1\", \"g\", \"t\"]\n",
    "\n",
    "# data after the treatment\n",
    "df_after = df[[\"nc1_post\", \"bizum_user\"]].copy()\n",
    "df_after[\"t\"] = 1\n",
    "df_after.columns = [\"nc1\", \"g\", \"t\"]"
   ]
  },
  {
   "cell_type": "code",
   "execution_count": 266,
   "id": "fa056a59-53a8-4321-a2fb-60ee511cc540",
   "metadata": {},
   "outputs": [
    {
     "data": {
      "text/html": [
       "<div>\n",
       "<style scoped>\n",
       "    .dataframe tbody tr th:only-of-type {\n",
       "        vertical-align: middle;\n",
       "    }\n",
       "\n",
       "    .dataframe tbody tr th {\n",
       "        vertical-align: top;\n",
       "    }\n",
       "\n",
       "    .dataframe thead th {\n",
       "        text-align: right;\n",
       "    }\n",
       "</style>\n",
       "<table border=\"1\" class=\"dataframe\">\n",
       "  <thead>\n",
       "    <tr style=\"text-align: right;\">\n",
       "      <th></th>\n",
       "      <th>nc1</th>\n",
       "      <th>g</th>\n",
       "      <th>t</th>\n",
       "      <th>gt</th>\n",
       "    </tr>\n",
       "  </thead>\n",
       "  <tbody>\n",
       "    <tr>\n",
       "      <th>0</th>\n",
       "      <td>2.659193</td>\n",
       "      <td>1</td>\n",
       "      <td>0</td>\n",
       "      <td>0</td>\n",
       "    </tr>\n",
       "    <tr>\n",
       "      <th>1</th>\n",
       "      <td>-1.419065</td>\n",
       "      <td>1</td>\n",
       "      <td>0</td>\n",
       "      <td>0</td>\n",
       "    </tr>\n",
       "    <tr>\n",
       "      <th>2</th>\n",
       "      <td>-13.823550</td>\n",
       "      <td>1</td>\n",
       "      <td>0</td>\n",
       "      <td>0</td>\n",
       "    </tr>\n",
       "    <tr>\n",
       "      <th>3</th>\n",
       "      <td>-13.362111</td>\n",
       "      <td>1</td>\n",
       "      <td>0</td>\n",
       "      <td>0</td>\n",
       "    </tr>\n",
       "    <tr>\n",
       "      <th>4</th>\n",
       "      <td>-28.926932</td>\n",
       "      <td>1</td>\n",
       "      <td>0</td>\n",
       "      <td>0</td>\n",
       "    </tr>\n",
       "  </tbody>\n",
       "</table>\n",
       "</div>"
      ],
      "text/plain": [
       "         nc1  g  t  gt\n",
       "0   2.659193  1  0   0\n",
       "1  -1.419065  1  0   0\n",
       "2 -13.823550  1  0   0\n",
       "3 -13.362111  1  0   0\n",
       "4 -28.926932  1  0   0"
      ]
     },
     "execution_count": 266,
     "metadata": {},
     "output_type": "execute_result"
    }
   ],
   "source": [
    "# data for regression\n",
    "df_reg = pd.concat([df_before, df_after])\n",
    "\n",
    "# create the interaction\n",
    "df_reg[\"gt\"] = df_reg[\"g\"] * df_reg[\"t\"]\n",
    "\n",
    "df_reg.head()"
   ]
  },
  {
   "cell_type": "code",
   "execution_count": 277,
   "id": "f5c5856f-4a5f-417d-b2e1-bf2cbf7e01ae",
   "metadata": {},
   "outputs": [],
   "source": [
    "# sns.displot(data=df_reg, x='nc1', hue='g', kind='hist')"
   ]
  },
  {
   "cell_type": "code",
   "execution_count": 279,
   "id": "e2c374ac-55e4-4a73-99c0-b0b320767800",
   "metadata": {},
   "outputs": [
    {
     "data": {
      "text/plain": [
       "<AxesSubplot:xlabel='t', ylabel='nc1'>"
      ]
     },
     "execution_count": 279,
     "metadata": {},
     "output_type": "execute_result"
    },
    {
     "data": {
      "image/png": "[encoded data removed]",
      "text/plain": [
       "<Figure size 640x480 with 1 Axes>"
      ]
     },
     "metadata": {},
     "output_type": "display_data"
    }
   ],
   "source": [
    "sns.scatterplot(data=df_reg, x=\"t\", y=\"nc1\")"
   ]
  },
  {
   "cell_type": "code",
   "execution_count": null,
   "id": "04dd5e72-d732-4f2c-8f5c-3e7382490782",
   "metadata": {},
   "outputs": [],
   "source": []
  },
  {
   "cell_type": "code",
   "execution_count": null,
   "id": "32a5be4f-56bc-4058-9d99-c52d790ef32a",
   "metadata": {},
   "outputs": [],
   "source": []
  },
  {
   "cell_type": "code",
   "execution_count": 267,
   "id": "e170e58a-219e-401d-8524-4f704e5be102",
   "metadata": {},
   "outputs": [
    {
     "data": {
      "text/plain": [
       "array([17.69492156])"
      ]
     },
     "execution_count": 280,
     "metadata": {},
     "output_type": "execute_result"
    }
   ],
   "source": [
    "from sklearn.linear_model import LinearRegression\n",
    "\n",
    "L = LinearRegression()\n",
    "\n",
    "X = df_reg[[\"g\", \"t\", \"gt\"]]\n",
    "y = df_reg.nc1\n",
    "\n",
    "L.fit(X, y)\n",
    "L.coef_  # the coefficient for gt is the DID, which is 2.75"
   ]
  },
  {
   "cell_type": "code",
   "execution_count": 268,
   "id": "4ba0bc55-729b-4612-9e4c-f01e7871ab2a",
   "metadata": {},
   "outputs": [
    {
     "name": "stdout",
     "output_type": "stream",
     "text": [
      "                            OLS Regression Results                            \n",
      "==============================================================================\n",
      "Dep. Variable:                    nc1   R-squared:                       0.008\n",
      "Model:                            OLS   Adj. R-squared:                  0.008\n",
      "Method:                 Least Squares   F-statistic:                     1807.\n",
      "Date:                Mon, 24 Apr 2023   Prob (F-statistic):               0.00\n",
      "Time:                        13:04:52   Log-Likelihood:            -1.2445e+06\n",
      "No. Observations:              232460   AIC:                         2.489e+06\n",
      "Df Residuals:                  232458   BIC:                         2.489e+06\n",
      "Df Model:                           1                                         \n",
      "Covariance Type:            nonrobust                                         \n",
      "==============================================================================\n",
      "                 coef    std err          t      P>|t|      [0.025      0.975]\n",
      "------------------------------------------------------------------------------\n",
      "Intercept      9.5076      0.110     86.438      0.000       9.292       9.723\n",
      "gt            17.6949      0.416     42.508      0.000      16.879      18.511\n",
      "==============================================================================\n",
      "Omnibus:                   354544.743   Durbin-Watson:                   1.990\n",
      "Prob(Omnibus):                  0.000   Jarque-Bera (JB):        376535862.292\n",
      "Skew:                           9.291   Prob(JB):                         0.00\n",
      "Kurtosis:                     199.290   Cond. No.                         3.94\n",
      "==============================================================================\n",
      "\n",
      "Notes:\n",
      "[1] Standard Errors assume that the covariance matrix of the errors is correctly specified.\n"
     ]
    }
   ],
   "source": [
    "# regression via statsmodels\n",
    "# result is not significant\n",
    "\n",
    "from statsmodels.formula.api import ols\n",
    "\n",
    "ols = ols(\"nc1 ~ g + t + gt\", data=df_reg).fit()\n",
    "print(ols.summary())"
   ]
  },
  {
   "cell_type": "code",
   "execution_count": null,
   "id": "396c3b18-9061-42d5-8bdb-4a116ab32541",
   "metadata": {},
   "outputs": [],
   "source": []
  },
  {
   "cell_type": "code",
   "execution_count": null,
   "id": "b29137b4-5a4f-4864-90be-8216f7bb2d15",
   "metadata": {},
   "outputs": [],
   "source": []
  },
  {
   "cell_type": "code",
   "execution_count": null,
   "id": "d3af1f9b-3431-4b02-8e0b-2bf976bd513b",
   "metadata": {},
   "outputs": [],
   "source": []
  },
  {
   "cell_type": "code",
   "execution_count": null,
   "id": "ecabed05-cbf4-4462-b3ad-0ee53c783887",
   "metadata": {},
   "outputs": [],
   "source": []
  },
  {
   "cell_type": "code",
   "execution_count": null,
   "id": "aa39d5ec-de28-48f8-bcc4-722d1b3abeb1",
   "metadata": {},
   "outputs": [],
   "source": []
  },
  {
   "cell_type": "code",
   "execution_count": null,
   "id": "e4d8c643-b14b-457e-91a1-3efa85ab2ac8",
   "metadata": {},
   "outputs": [],
   "source": []
  },
  {
   "cell_type": "code",
   "execution_count": null,
   "id": "7f650496-05cc-4015-9573-e064b12eae0a",
   "metadata": {},
   "outputs": [],
   "source": []
  },
  {
   "cell_type": "code",
   "execution_count": null,
   "id": "bd062314-3809-4234-b851-f896d6033221",
   "metadata": {},
   "outputs": [],
   "source": []
  },
  {
   "cell_type": "code",
   "execution_count": null,
   "id": "eb33ba45-d1e9-48e5-ab20-691546151363",
   "metadata": {},
   "outputs": [],
   "source": []
  },
  {
   "cell_type": "code",
   "execution_count": null,
   "id": "ba3e9296-740e-48e1-b9a5-8c5abfecd06d",
   "metadata": {},
   "outputs": [],
   "source": []
  },
  {
   "cell_type": "markdown",
   "id": "c792295d-6522-4f15-911b-e5672cca1dad",
   "metadata": {},
   "source": [
    "<br>\n",
    "<br>\n",
    "<br>\n",
    "<br>\n",
    "<br>\n",
    "<br>\n",
    "\n",
    "# Manually matching users from the two groups using K-Nearest Neighbors\n",
    "\n",
    "---\n",
    "\n",
    "<br>\n",
    "<br>"
   ]
  },
  {
   "cell_type": "code",
   "execution_count": 45,
   "id": "1ecedf84-5cdd-4deb-a79b-200b84ece277",
   "metadata": {},
   "outputs": [],
   "source": [
    "from sklearn.neighbors import KNeighborsRegressor"
   ]
  },
  {
   "cell_type": "code",
   "execution_count": 46,
   "id": "640c14ea-3959-4de0-82e3-6de55830b1c8",
   "metadata": {},
   "outputs": [
    {
     "data": {
      "text/html": [
       "<div>\n",
       "<style scoped>\n",
       "    .dataframe tbody tr th:only-of-type {\n",
       "        vertical-align: middle;\n",
       "    }\n",
       "\n",
       "    .dataframe tbody tr th {\n",
       "        vertical-align: top;\n",
       "    }\n",
       "\n",
       "    .dataframe thead th {\n",
       "        text-align: right;\n",
       "    }\n",
       "</style>\n",
       "<table border=\"1\" class=\"dataframe\">\n",
       "  <thead>\n",
       "    <tr style=\"text-align: right;\">\n",
       "      <th></th>\n",
       "      <th>is_personal_True</th>\n",
       "      <th>tier_SMART</th>\n",
       "      <th>tier_STANDARD</th>\n",
       "      <th>tier_YOU</th>\n",
       "      <th>is_newstandard_True</th>\n",
       "      <th>gender_MALE</th>\n",
       "      <th>is_expat_True</th>\n",
       "      <th>bizum_user_True</th>\n",
       "      <th>no_physical_cards_flg_1</th>\n",
       "      <th>last_login_os</th>\n",
       "      <th>age</th>\n",
       "      <th>months_since_kycc</th>\n",
       "      <th>days_since_last_activity</th>\n",
       "      <th>n_act_total</th>\n",
       "      <th>n_days_aa</th>\n",
       "      <th>balance_eur</th>\n",
       "      <th>revenues_pre</th>\n",
       "      <th>nc1_pre</th>\n",
       "      <th>nc1</th>\n",
       "    </tr>\n",
       "  </thead>\n",
       "  <tbody>\n",
       "    <tr>\n",
       "      <th>0</th>\n",
       "      <td>1</td>\n",
       "      <td>0</td>\n",
       "      <td>1</td>\n",
       "      <td>0</td>\n",
       "      <td>0</td>\n",
       "      <td>1</td>\n",
       "      <td>0</td>\n",
       "      <td>1</td>\n",
       "      <td>0</td>\n",
       "      <td>-0.699224</td>\n",
       "      <td>-1.429155</td>\n",
       "      <td>1.389903</td>\n",
       "      <td>-0.754776</td>\n",
       "      <td>1.220161</td>\n",
       "      <td>1.003675</td>\n",
       "      <td>-1.154080</td>\n",
       "      <td>-0.378599</td>\n",
       "      <td>-1.167904</td>\n",
       "      <td>-2.886850</td>\n",
       "    </tr>\n",
       "    <tr>\n",
       "      <th>1</th>\n",
       "      <td>1</td>\n",
       "      <td>0</td>\n",
       "      <td>1</td>\n",
       "      <td>0</td>\n",
       "      <td>0</td>\n",
       "      <td>1</td>\n",
       "      <td>0</td>\n",
       "      <td>1</td>\n",
       "      <td>0</td>\n",
       "      <td>0.924858</td>\n",
       "      <td>1.432973</td>\n",
       "      <td>1.389903</td>\n",
       "      <td>-0.754776</td>\n",
       "      <td>1.220161</td>\n",
       "      <td>1.630806</td>\n",
       "      <td>1.097196</td>\n",
       "      <td>0.164366</td>\n",
       "      <td>-0.778156</td>\n",
       "      <td>-16.135438</td>\n",
       "    </tr>\n",
       "    <tr>\n",
       "      <th>2</th>\n",
       "      <td>1</td>\n",
       "      <td>0</td>\n",
       "      <td>1</td>\n",
       "      <td>0</td>\n",
       "      <td>0</td>\n",
       "      <td>1</td>\n",
       "      <td>1</td>\n",
       "      <td>1</td>\n",
       "      <td>0</td>\n",
       "      <td>0.924858</td>\n",
       "      <td>-0.250631</td>\n",
       "      <td>1.389903</td>\n",
       "      <td>-0.754776</td>\n",
       "      <td>0.725954</td>\n",
       "      <td>0.205129</td>\n",
       "      <td>1.028211</td>\n",
       "      <td>0.550602</td>\n",
       "      <td>-0.898752</td>\n",
       "      <td>-74.343768</td>\n",
       "    </tr>\n",
       "    <tr>\n",
       "      <th>3</th>\n",
       "      <td>1</td>\n",
       "      <td>0</td>\n",
       "      <td>1</td>\n",
       "      <td>0</td>\n",
       "      <td>0</td>\n",
       "      <td>0</td>\n",
       "      <td>1</td>\n",
       "      <td>1</td>\n",
       "      <td>0</td>\n",
       "      <td>0.924858</td>\n",
       "      <td>-1.344974</td>\n",
       "      <td>1.305145</td>\n",
       "      <td>-0.754776</td>\n",
       "      <td>1.220161</td>\n",
       "      <td>0.931240</td>\n",
       "      <td>-0.451561</td>\n",
       "      <td>-0.725532</td>\n",
       "      <td>-0.292450</td>\n",
       "      <td>-5.656432</td>\n",
       "    </tr>\n",
       "    <tr>\n",
       "      <th>4</th>\n",
       "      <td>0</td>\n",
       "      <td>0</td>\n",
       "      <td>1</td>\n",
       "      <td>0</td>\n",
       "      <td>0</td>\n",
       "      <td>1</td>\n",
       "      <td>0</td>\n",
       "      <td>1</td>\n",
       "      <td>0</td>\n",
       "      <td>0.924858</td>\n",
       "      <td>-1.429155</td>\n",
       "      <td>1.220388</td>\n",
       "      <td>-0.754776</td>\n",
       "      <td>1.220161</td>\n",
       "      <td>0.931240</td>\n",
       "      <td>-1.185461</td>\n",
       "      <td>1.096189</td>\n",
       "      <td>0.631339</td>\n",
       "      <td>17.514357</td>\n",
       "    </tr>\n",
       "  </tbody>\n",
       "</table>\n",
       "</div>"
      ],
      "text/plain": [
       "   is_personal_True  tier_SMART  tier_STANDARD  tier_YOU  is_newstandard_True  \\\n",
       "0                 1           0              1         0                    0   \n",
       "1                 1           0              1         0                    0   \n",
       "2                 1           0              1         0                    0   \n",
       "3                 1           0              1         0                    0   \n",
       "4                 0           0              1         0                    0   \n",
       "\n",
       "   gender_MALE  is_expat_True  bizum_user_True  no_physical_cards_flg_1  \\\n",
       "0            1              0                1                        0   \n",
       "1            1              0                1                        0   \n",
       "2            1              1                1                        0   \n",
       "3            0              1                1                        0   \n",
       "4            1              0                1                        0   \n",
       "\n",
       "   last_login_os       age  months_since_kycc  days_since_last_activity  \\\n",
       "0      -0.699224 -1.429155           1.389903                 -0.754776   \n",
       "1       0.924858  1.432973           1.389903                 -0.754776   \n",
       "2       0.924858 -0.250631           1.389903                 -0.754776   \n",
       "3       0.924858 -1.344974           1.305145                 -0.754776   \n",
       "4       0.924858 -1.429155           1.220388                 -0.754776   \n",
       "\n",
       "   n_act_total  n_days_aa  balance_eur  revenues_pre   nc1_pre        nc1  \n",
       "0     1.220161   1.003675    -1.154080     -0.378599 -1.167904  -2.886850  \n",
       "1     1.220161   1.630806     1.097196      0.164366 -0.778156 -16.135438  \n",
       "2     0.725954   0.205129     1.028211      0.550602 -0.898752 -74.343768  \n",
       "3     1.220161   0.931240    -0.451561     -0.725532 -0.292450  -5.656432  \n",
       "4     1.220161   0.931240    -1.185461      1.096189  0.631339  17.514357  "
      ]
     },
     "execution_count": 46,
     "metadata": {},
     "output_type": "execute_result"
    }
   ],
   "source": [
    "df.head()"
   ]
  },
  {
   "cell_type": "code",
   "execution_count": 47,
   "id": "0a72e560-6c72-41bd-b547-ce6201010856",
   "metadata": {},
   "outputs": [],
   "source": [
    "bizum = df.loc[df[\"bizum_user_True\"] == 1]\n",
    "non_bizum = df.loc[df[\"bizum_user_True\"] == 0]"
   ]
  },
  {
   "cell_type": "code",
   "execution_count": 48,
   "id": "522d0cc2-d2ac-476d-97f6-b1cad5477f7b",
   "metadata": {},
   "outputs": [],
   "source": [
    "t = \"bizum_user_True\"\n",
    "y = \"nc1\"\n",
    "exclude_col = \"revenues\"\n",
    "\n",
    "columns = [f for f in df.columns if f not in t + y + exclude_col]"
   ]
  },
  {
   "cell_type": "code",
   "execution_count": 49,
   "id": "9f4dd6a9-0703-406e-a4d3-52f7163b9201",
   "metadata": {},
   "outputs": [
    {
     "data": {
      "text/plain": [
       "['is_personal_True',\n",
       " 'tier_SMART',\n",
       " 'tier_STANDARD',\n",
       " 'tier_YOU',\n",
       " 'is_newstandard_True',\n",
       " 'gender_MALE',\n",
       " 'is_expat_True',\n",
       " 'no_physical_cards_flg_1',\n",
       " 'last_login_os',\n",
       " 'age',\n",
       " 'months_since_kycc',\n",
       " 'days_since_last_activity',\n",
       " 'n_act_total',\n",
       " 'n_days_aa',\n",
       " 'balance_eur',\n",
       " 'revenues_pre',\n",
       " 'nc1_pre']"
      ]
     },
     "execution_count": 49,
     "metadata": {},
     "output_type": "execute_result"
    }
   ],
   "source": [
    "columns"
   ]
  },
  {
   "cell_type": "code",
   "execution_count": 50,
   "id": "3959baf6-3b97-49ed-a884-a290c67a3fd7",
   "metadata": {},
   "outputs": [],
   "source": [
    "mt0 = KNeighborsRegressor(n_neighbors=1).fit(non_bizum[columns], non_bizum[\"nc1\"])\n",
    "mt1 = KNeighborsRegressor(n_neighbors=1).fit(bizum[columns], bizum[\"nc1\"])"
   ]
  },
  {
   "cell_type": "code",
   "execution_count": 51,
   "id": "04bf7bea-0b6d-46bd-8fd6-797a6b375ca5",
   "metadata": {},
   "outputs": [],
   "source": [
    "# match is the euro value\n",
    "# for a bizum user, give me the predicted NC1 baed on their closest match.\n",
    "\n",
    "\n",
    "predicted1 = pd.concat(\n",
    "    [\n",
    "        bizum.assign(\n",
    "            match=mt0.predict(bizum[columns])\n",
    "        ),  # find matches for the treated looking at the untreated knn model\n",
    "        non_bizum.assign(\n",
    "            match=mt1.predict(non_bizum[columns])\n",
    "        ),  # find matches for the untreated looking at the treated knn model\n",
    "    ]\n",
    ")"
   ]
  },
  {
   "cell_type": "code",
   "execution_count": 52,
   "id": "7161d8f2-0c44-472b-ab83-1acb7b56222d",
   "metadata": {},
   "outputs": [
    {
     "data": {
      "text/html": [
       "<div>\n",
       "<style scoped>\n",
       "    .dataframe tbody tr th:only-of-type {\n",
       "        vertical-align: middle;\n",
       "    }\n",
       "\n",
       "    .dataframe tbody tr th {\n",
       "        vertical-align: top;\n",
       "    }\n",
       "\n",
       "    .dataframe thead th {\n",
       "        text-align: right;\n",
       "    }\n",
       "</style>\n",
       "<table border=\"1\" class=\"dataframe\">\n",
       "  <thead>\n",
       "    <tr style=\"text-align: right;\">\n",
       "      <th></th>\n",
       "      <th>is_personal_True</th>\n",
       "      <th>tier_SMART</th>\n",
       "      <th>tier_STANDARD</th>\n",
       "      <th>tier_YOU</th>\n",
       "      <th>is_newstandard_True</th>\n",
       "      <th>gender_MALE</th>\n",
       "      <th>is_expat_True</th>\n",
       "      <th>bizum_user_True</th>\n",
       "      <th>no_physical_cards_flg_1</th>\n",
       "      <th>last_login_os</th>\n",
       "      <th>age</th>\n",
       "      <th>months_since_kycc</th>\n",
       "      <th>days_since_last_activity</th>\n",
       "      <th>n_act_total</th>\n",
       "      <th>n_days_aa</th>\n",
       "      <th>balance_eur</th>\n",
       "      <th>revenues_pre</th>\n",
       "      <th>nc1_pre</th>\n",
       "      <th>nc1</th>\n",
       "      <th>match</th>\n",
       "    </tr>\n",
       "  </thead>\n",
       "  <tbody>\n",
       "    <tr>\n",
       "      <th>0</th>\n",
       "      <td>1</td>\n",
       "      <td>0</td>\n",
       "      <td>1</td>\n",
       "      <td>0</td>\n",
       "      <td>0</td>\n",
       "      <td>1</td>\n",
       "      <td>0</td>\n",
       "      <td>1</td>\n",
       "      <td>0</td>\n",
       "      <td>-0.699224</td>\n",
       "      <td>-1.429155</td>\n",
       "      <td>1.389903</td>\n",
       "      <td>-0.754776</td>\n",
       "      <td>1.220161</td>\n",
       "      <td>1.003675</td>\n",
       "      <td>-1.154080</td>\n",
       "      <td>-0.378599</td>\n",
       "      <td>-1.167904</td>\n",
       "      <td>-2.886850</td>\n",
       "      <td>-18.192812</td>\n",
       "    </tr>\n",
       "    <tr>\n",
       "      <th>1</th>\n",
       "      <td>1</td>\n",
       "      <td>0</td>\n",
       "      <td>1</td>\n",
       "      <td>0</td>\n",
       "      <td>0</td>\n",
       "      <td>1</td>\n",
       "      <td>0</td>\n",
       "      <td>1</td>\n",
       "      <td>0</td>\n",
       "      <td>0.924858</td>\n",
       "      <td>1.432973</td>\n",
       "      <td>1.389903</td>\n",
       "      <td>-0.754776</td>\n",
       "      <td>1.220161</td>\n",
       "      <td>1.630806</td>\n",
       "      <td>1.097196</td>\n",
       "      <td>0.164366</td>\n",
       "      <td>-0.778156</td>\n",
       "      <td>-16.135438</td>\n",
       "      <td>8.714827</td>\n",
       "    </tr>\n",
       "    <tr>\n",
       "      <th>2</th>\n",
       "      <td>1</td>\n",
       "      <td>0</td>\n",
       "      <td>1</td>\n",
       "      <td>0</td>\n",
       "      <td>0</td>\n",
       "      <td>1</td>\n",
       "      <td>1</td>\n",
       "      <td>1</td>\n",
       "      <td>0</td>\n",
       "      <td>0.924858</td>\n",
       "      <td>-0.250631</td>\n",
       "      <td>1.389903</td>\n",
       "      <td>-0.754776</td>\n",
       "      <td>0.725954</td>\n",
       "      <td>0.205129</td>\n",
       "      <td>1.028211</td>\n",
       "      <td>0.550602</td>\n",
       "      <td>-0.898752</td>\n",
       "      <td>-74.343768</td>\n",
       "      <td>-12.835547</td>\n",
       "    </tr>\n",
       "    <tr>\n",
       "      <th>3</th>\n",
       "      <td>1</td>\n",
       "      <td>0</td>\n",
       "      <td>1</td>\n",
       "      <td>0</td>\n",
       "      <td>0</td>\n",
       "      <td>0</td>\n",
       "      <td>1</td>\n",
       "      <td>1</td>\n",
       "      <td>0</td>\n",
       "      <td>0.924858</td>\n",
       "      <td>-1.344974</td>\n",
       "      <td>1.305145</td>\n",
       "      <td>-0.754776</td>\n",
       "      <td>1.220161</td>\n",
       "      <td>0.931240</td>\n",
       "      <td>-0.451561</td>\n",
       "      <td>-0.725532</td>\n",
       "      <td>-0.292450</td>\n",
       "      <td>-5.656432</td>\n",
       "      <td>18.522567</td>\n",
       "    </tr>\n",
       "    <tr>\n",
       "      <th>4</th>\n",
       "      <td>0</td>\n",
       "      <td>0</td>\n",
       "      <td>1</td>\n",
       "      <td>0</td>\n",
       "      <td>0</td>\n",
       "      <td>1</td>\n",
       "      <td>0</td>\n",
       "      <td>1</td>\n",
       "      <td>0</td>\n",
       "      <td>0.924858</td>\n",
       "      <td>-1.429155</td>\n",
       "      <td>1.220388</td>\n",
       "      <td>-0.754776</td>\n",
       "      <td>1.220161</td>\n",
       "      <td>0.931240</td>\n",
       "      <td>-1.185461</td>\n",
       "      <td>1.096189</td>\n",
       "      <td>0.631339</td>\n",
       "      <td>17.514357</td>\n",
       "      <td>57.614752</td>\n",
       "    </tr>\n",
       "  </tbody>\n",
       "</table>\n",
       "</div>"
      ],
      "text/plain": [
       "   is_personal_True  tier_SMART  tier_STANDARD  tier_YOU  is_newstandard_True  \\\n",
       "0                 1           0              1         0                    0   \n",
       "1                 1           0              1         0                    0   \n",
       "2                 1           0              1         0                    0   \n",
       "3                 1           0              1         0                    0   \n",
       "4                 0           0              1         0                    0   \n",
       "\n",
       "   gender_MALE  is_expat_True  bizum_user_True  no_physical_cards_flg_1  \\\n",
       "0            1              0                1                        0   \n",
       "1            1              0                1                        0   \n",
       "2            1              1                1                        0   \n",
       "3            0              1                1                        0   \n",
       "4            1              0                1                        0   \n",
       "\n",
       "   last_login_os       age  months_since_kycc  days_since_last_activity  \\\n",
       "0      -0.699224 -1.429155           1.389903                 -0.754776   \n",
       "1       0.924858  1.432973           1.389903                 -0.754776   \n",
       "2       0.924858 -0.250631           1.389903                 -0.754776   \n",
       "3       0.924858 -1.344974           1.305145                 -0.754776   \n",
       "4       0.924858 -1.429155           1.220388                 -0.754776   \n",
       "\n",
       "   n_act_total  n_days_aa  balance_eur  revenues_pre   nc1_pre        nc1  \\\n",
       "0     1.220161   1.003675    -1.154080     -0.378599 -1.167904  -2.886850   \n",
       "1     1.220161   1.630806     1.097196      0.164366 -0.778156 -16.135438   \n",
       "2     0.725954   0.205129     1.028211      0.550602 -0.898752 -74.343768   \n",
       "3     1.220161   0.931240    -0.451561     -0.725532 -0.292450  -5.656432   \n",
       "4     1.220161   0.931240    -1.185461      1.096189  0.631339  17.514357   \n",
       "\n",
       "       match  \n",
       "0 -18.192812  \n",
       "1   8.714827  \n",
       "2 -12.835547  \n",
       "3  18.522567  \n",
       "4  57.614752  "
      ]
     },
     "execution_count": 52,
     "metadata": {},
     "output_type": "execute_result"
    }
   ],
   "source": [
    "predicted1.head()"
   ]
  },
  {
   "cell_type": "code",
   "execution_count": 53,
   "id": "92067fd0-0121-480d-bc48-672603d27f0f",
   "metadata": {},
   "outputs": [],
   "source": [
    "# nc1 vs. match is biased, not adjusted\n",
    "# ATE (average treatment effect)"
   ]
  },
  {
   "cell_type": "code",
   "execution_count": null,
   "id": "48e2e2aa-efc1-41fe-b381-f1b44c551fc2",
   "metadata": {},
   "outputs": [],
   "source": []
  },
  {
   "cell_type": "code",
   "execution_count": 54,
   "id": "5ec64e09-57b7-463c-9ad1-e52c59e65124",
   "metadata": {},
   "outputs": [],
   "source": [
    "# two dimensional array\n",
    "# distance is the distance between points\n",
    "distances, indices = mt0.kneighbors(bizum[columns])"
   ]
  },
  {
   "cell_type": "code",
   "execution_count": 55,
   "id": "38009de8-1ca2-465a-a60c-59b8cd18c543",
   "metadata": {},
   "outputs": [],
   "source": [
    "matched = []\n",
    "pairs = []"
   ]
  },
  {
   "cell_type": "code",
   "execution_count": 56,
   "id": "7b0da237-d43e-41e5-80f4-967c73acc257",
   "metadata": {},
   "outputs": [],
   "source": [
    "for indexA, candidatesB in enumerate(indices):\n",
    "    personA = bizum[columns].index[indexA]\n",
    "\n",
    "    for indexB in candidatesB:\n",
    "        if indexB not in matched:\n",
    "            matched.append(indexB)\n",
    "            personB = non_bizum[columns].index[indexB]\n",
    "            pairs.append([personA, personB])\n",
    "            break\n",
    "\n",
    "matches = pd.DataFrame(pairs, columns=[\"SetA\", \"SetB\"])"
   ]
  },
  {
   "cell_type": "code",
   "execution_count": 57,
   "id": "32699718-dc6a-4cad-9c00-db9983f43163",
   "metadata": {},
   "outputs": [
    {
     "data": {
      "text/html": [
       "<div>\n",
       "<style scoped>\n",
       "    .dataframe tbody tr th:only-of-type {\n",
       "        vertical-align: middle;\n",
       "    }\n",
       "\n",
       "    .dataframe tbody tr th {\n",
       "        vertical-align: top;\n",
       "    }\n",
       "\n",
       "    .dataframe thead th {\n",
       "        text-align: right;\n",
       "    }\n",
       "</style>\n",
       "<table border=\"1\" class=\"dataframe\">\n",
       "  <thead>\n",
       "    <tr style=\"text-align: right;\">\n",
       "      <th></th>\n",
       "      <th>is_personal_True</th>\n",
       "      <th>tier_SMART</th>\n",
       "      <th>tier_STANDARD</th>\n",
       "      <th>tier_YOU</th>\n",
       "      <th>is_newstandard_True</th>\n",
       "      <th>gender_MALE</th>\n",
       "      <th>is_expat_True</th>\n",
       "      <th>bizum_user_True</th>\n",
       "      <th>no_physical_cards_flg_1</th>\n",
       "      <th>last_login_os</th>\n",
       "      <th>age</th>\n",
       "      <th>months_since_kycc</th>\n",
       "      <th>days_since_last_activity</th>\n",
       "      <th>n_act_total</th>\n",
       "      <th>n_days_aa</th>\n",
       "      <th>balance_eur</th>\n",
       "      <th>revenues_pre</th>\n",
       "      <th>nc1_pre</th>\n",
       "      <th>nc1</th>\n",
       "    </tr>\n",
       "  </thead>\n",
       "  <tbody>\n",
       "    <tr>\n",
       "      <th>0</th>\n",
       "      <td>1</td>\n",
       "      <td>0</td>\n",
       "      <td>1</td>\n",
       "      <td>0</td>\n",
       "      <td>0</td>\n",
       "      <td>1</td>\n",
       "      <td>0</td>\n",
       "      <td>1</td>\n",
       "      <td>0</td>\n",
       "      <td>-0.699224</td>\n",
       "      <td>-1.429155</td>\n",
       "      <td>1.389903</td>\n",
       "      <td>-0.754776</td>\n",
       "      <td>1.220161</td>\n",
       "      <td>1.003675</td>\n",
       "      <td>-1.154080</td>\n",
       "      <td>-0.378599</td>\n",
       "      <td>-1.167904</td>\n",
       "      <td>-2.886850</td>\n",
       "    </tr>\n",
       "    <tr>\n",
       "      <th>1</th>\n",
       "      <td>1</td>\n",
       "      <td>0</td>\n",
       "      <td>1</td>\n",
       "      <td>0</td>\n",
       "      <td>0</td>\n",
       "      <td>1</td>\n",
       "      <td>0</td>\n",
       "      <td>1</td>\n",
       "      <td>0</td>\n",
       "      <td>0.924858</td>\n",
       "      <td>1.432973</td>\n",
       "      <td>1.389903</td>\n",
       "      <td>-0.754776</td>\n",
       "      <td>1.220161</td>\n",
       "      <td>1.630806</td>\n",
       "      <td>1.097196</td>\n",
       "      <td>0.164366</td>\n",
       "      <td>-0.778156</td>\n",
       "      <td>-16.135438</td>\n",
       "    </tr>\n",
       "    <tr>\n",
       "      <th>2</th>\n",
       "      <td>1</td>\n",
       "      <td>0</td>\n",
       "      <td>1</td>\n",
       "      <td>0</td>\n",
       "      <td>0</td>\n",
       "      <td>1</td>\n",
       "      <td>1</td>\n",
       "      <td>1</td>\n",
       "      <td>0</td>\n",
       "      <td>0.924858</td>\n",
       "      <td>-0.250631</td>\n",
       "      <td>1.389903</td>\n",
       "      <td>-0.754776</td>\n",
       "      <td>0.725954</td>\n",
       "      <td>0.205129</td>\n",
       "      <td>1.028211</td>\n",
       "      <td>0.550602</td>\n",
       "      <td>-0.898752</td>\n",
       "      <td>-74.343768</td>\n",
       "    </tr>\n",
       "    <tr>\n",
       "      <th>3</th>\n",
       "      <td>1</td>\n",
       "      <td>0</td>\n",
       "      <td>1</td>\n",
       "      <td>0</td>\n",
       "      <td>0</td>\n",
       "      <td>0</td>\n",
       "      <td>1</td>\n",
       "      <td>1</td>\n",
       "      <td>0</td>\n",
       "      <td>0.924858</td>\n",
       "      <td>-1.344974</td>\n",
       "      <td>1.305145</td>\n",
       "      <td>-0.754776</td>\n",
       "      <td>1.220161</td>\n",
       "      <td>0.931240</td>\n",
       "      <td>-0.451561</td>\n",
       "      <td>-0.725532</td>\n",
       "      <td>-0.292450</td>\n",
       "      <td>-5.656432</td>\n",
       "    </tr>\n",
       "    <tr>\n",
       "      <th>4</th>\n",
       "      <td>0</td>\n",
       "      <td>0</td>\n",
       "      <td>1</td>\n",
       "      <td>0</td>\n",
       "      <td>0</td>\n",
       "      <td>1</td>\n",
       "      <td>0</td>\n",
       "      <td>1</td>\n",
       "      <td>0</td>\n",
       "      <td>0.924858</td>\n",
       "      <td>-1.429155</td>\n",
       "      <td>1.220388</td>\n",
       "      <td>-0.754776</td>\n",
       "      <td>1.220161</td>\n",
       "      <td>0.931240</td>\n",
       "      <td>-1.185461</td>\n",
       "      <td>1.096189</td>\n",
       "      <td>0.631339</td>\n",
       "      <td>17.514357</td>\n",
       "    </tr>\n",
       "  </tbody>\n",
       "</table>\n",
       "</div>"
      ],
      "text/plain": [
       "   is_personal_True  tier_SMART  tier_STANDARD  tier_YOU  is_newstandard_True  \\\n",
       "0                 1           0              1         0                    0   \n",
       "1                 1           0              1         0                    0   \n",
       "2                 1           0              1         0                    0   \n",
       "3                 1           0              1         0                    0   \n",
       "4                 0           0              1         0                    0   \n",
       "\n",
       "   gender_MALE  is_expat_True  bizum_user_True  no_physical_cards_flg_1  \\\n",
       "0            1              0                1                        0   \n",
       "1            1              0                1                        0   \n",
       "2            1              1                1                        0   \n",
       "3            0              1                1                        0   \n",
       "4            1              0                1                        0   \n",
       "\n",
       "   last_login_os       age  months_since_kycc  days_since_last_activity  \\\n",
       "0      -0.699224 -1.429155           1.389903                 -0.754776   \n",
       "1       0.924858  1.432973           1.389903                 -0.754776   \n",
       "2       0.924858 -0.250631           1.389903                 -0.754776   \n",
       "3       0.924858 -1.344974           1.305145                 -0.754776   \n",
       "4       0.924858 -1.429155           1.220388                 -0.754776   \n",
       "\n",
       "   n_act_total  n_days_aa  balance_eur  revenues_pre   nc1_pre        nc1  \n",
       "0     1.220161   1.003675    -1.154080     -0.378599 -1.167904  -2.886850  \n",
       "1     1.220161   1.630806     1.097196      0.164366 -0.778156 -16.135438  \n",
       "2     0.725954   0.205129     1.028211      0.550602 -0.898752 -74.343768  \n",
       "3     1.220161   0.931240    -0.451561     -0.725532 -0.292450  -5.656432  \n",
       "4     1.220161   0.931240    -1.185461      1.096189  0.631339  17.514357  "
      ]
     },
     "execution_count": 57,
     "metadata": {},
     "output_type": "execute_result"
    }
   ],
   "source": [
    "df.head()"
   ]
  },
  {
   "cell_type": "code",
   "execution_count": 58,
   "id": "504e3b75-8b94-4b47-b985-31c06d0118a1",
   "metadata": {},
   "outputs": [
    {
     "data": {
      "text/plain": [
       "(8681, 2)"
      ]
     },
     "execution_count": 58,
     "metadata": {},
     "output_type": "execute_result"
    }
   ],
   "source": [
    "matches.shape"
   ]
  },
  {
   "cell_type": "code",
   "execution_count": 59,
   "id": "b8a3ea7c-916c-4715-b32c-0e1297bb7b3a",
   "metadata": {},
   "outputs": [
    {
     "data": {
      "text/html": [
       "<div>\n",
       "<style scoped>\n",
       "    .dataframe tbody tr th:only-of-type {\n",
       "        vertical-align: middle;\n",
       "    }\n",
       "\n",
       "    .dataframe tbody tr th {\n",
       "        vertical-align: top;\n",
       "    }\n",
       "\n",
       "    .dataframe thead th {\n",
       "        text-align: right;\n",
       "    }\n",
       "</style>\n",
       "<table border=\"1\" class=\"dataframe\">\n",
       "  <thead>\n",
       "    <tr style=\"text-align: right;\">\n",
       "      <th></th>\n",
       "      <th>SetA</th>\n",
       "      <th>SetB</th>\n",
       "    </tr>\n",
       "  </thead>\n",
       "  <tbody>\n",
       "    <tr>\n",
       "      <th>0</th>\n",
       "      <td>0</td>\n",
       "      <td>30846</td>\n",
       "    </tr>\n",
       "    <tr>\n",
       "      <th>1</th>\n",
       "      <td>1</td>\n",
       "      <td>26775</td>\n",
       "    </tr>\n",
       "    <tr>\n",
       "      <th>2</th>\n",
       "      <td>2</td>\n",
       "      <td>44626</td>\n",
       "    </tr>\n",
       "    <tr>\n",
       "      <th>3</th>\n",
       "      <td>3</td>\n",
       "      <td>19873</td>\n",
       "    </tr>\n",
       "    <tr>\n",
       "      <th>4</th>\n",
       "      <td>4</td>\n",
       "      <td>57649</td>\n",
       "    </tr>\n",
       "  </tbody>\n",
       "</table>\n",
       "</div>"
      ],
      "text/plain": [
       "   SetA   SetB\n",
       "0     0  30846\n",
       "1     1  26775\n",
       "2     2  44626\n",
       "3     3  19873\n",
       "4     4  57649"
      ]
     },
     "execution_count": 59,
     "metadata": {},
     "output_type": "execute_result"
    }
   ],
   "source": [
    "matches.head()"
   ]
  },
  {
   "cell_type": "code",
   "execution_count": 60,
   "id": "969d3b28-cabb-41b5-a0ab-9a9bc58abc42",
   "metadata": {},
   "outputs": [],
   "source": [
    "matches = pd.merge(matches, df[\"nc1\"], how=\"left\", left_on=\"SetA\", right_index=True)\n",
    "matches = pd.merge(matches, df[\"nc1\"], how=\"left\", left_on=\"SetB\", right_index=True)"
   ]
  },
  {
   "cell_type": "code",
   "execution_count": 63,
   "id": "1af83fc0-7033-4e1f-9cdd-78190420e16a",
   "metadata": {},
   "outputs": [
    {
     "data": {
      "text/html": [
       "<div>\n",
       "<style scoped>\n",
       "    .dataframe tbody tr th:only-of-type {\n",
       "        vertical-align: middle;\n",
       "    }\n",
       "\n",
       "    .dataframe tbody tr th {\n",
       "        vertical-align: top;\n",
       "    }\n",
       "\n",
       "    .dataframe thead th {\n",
       "        text-align: right;\n",
       "    }\n",
       "</style>\n",
       "<table border=\"1\" class=\"dataframe\">\n",
       "  <thead>\n",
       "    <tr style=\"text-align: right;\">\n",
       "      <th></th>\n",
       "      <th>bizum_user</th>\n",
       "      <th>nonbizum_user</th>\n",
       "      <th>nc1_bizum</th>\n",
       "      <th>nc1_nonbizum</th>\n",
       "    </tr>\n",
       "  </thead>\n",
       "  <tbody>\n",
       "    <tr>\n",
       "      <th>0</th>\n",
       "      <td>0</td>\n",
       "      <td>30846</td>\n",
       "      <td>-2.886850</td>\n",
       "      <td>-18.192812</td>\n",
       "    </tr>\n",
       "    <tr>\n",
       "      <th>1</th>\n",
       "      <td>1</td>\n",
       "      <td>26775</td>\n",
       "      <td>-16.135438</td>\n",
       "      <td>8.714827</td>\n",
       "    </tr>\n",
       "    <tr>\n",
       "      <th>2</th>\n",
       "      <td>2</td>\n",
       "      <td>44626</td>\n",
       "      <td>-74.343768</td>\n",
       "      <td>-12.835547</td>\n",
       "    </tr>\n",
       "    <tr>\n",
       "      <th>3</th>\n",
       "      <td>3</td>\n",
       "      <td>19873</td>\n",
       "      <td>-5.656432</td>\n",
       "      <td>18.522567</td>\n",
       "    </tr>\n",
       "    <tr>\n",
       "      <th>4</th>\n",
       "      <td>4</td>\n",
       "      <td>57649</td>\n",
       "      <td>17.514357</td>\n",
       "      <td>57.614752</td>\n",
       "    </tr>\n",
       "  </tbody>\n",
       "</table>\n",
       "</div>"
      ],
      "text/plain": [
       "   bizum_user  nonbizum_user  nc1_bizum  nc1_nonbizum\n",
       "0           0          30846  -2.886850    -18.192812\n",
       "1           1          26775 -16.135438      8.714827\n",
       "2           2          44626 -74.343768    -12.835547\n",
       "3           3          19873  -5.656432     18.522567\n",
       "4           4          57649  17.514357     57.614752"
      ]
     },
     "execution_count": 63,
     "metadata": {},
     "output_type": "execute_result"
    }
   ],
   "source": [
    "matches = matches.rename(\n",
    "    {\n",
    "        \"SetA\": \"bizum_user\",\n",
    "        \"SetB\": \"nonbizum_user\",\n",
    "        \"nc1_x\": \"nc1_bizum\",\n",
    "        \"nc1_y\": \"nc1_nonbizum\",\n",
    "    },\n",
    "    axis=1,\n",
    ")\n",
    "\n",
    "matches.head()"
   ]
  },
  {
   "cell_type": "code",
   "execution_count": 64,
   "id": "927a72bd-a30b-49bd-aba8-ef020f0706b8",
   "metadata": {},
   "outputs": [
    {
     "data": {
      "text/plain": [
       "1.841953118758668"
      ]
     },
     "execution_count": 64,
     "metadata": {},
     "output_type": "execute_result"
    }
   ],
   "source": [
    "matches[\"diff\"] = matches[\"nc1_bizum\"] - matches[\"nc1_nonbizum\"]\n",
    "matches[\"diff\"].mean()"
   ]
  },
  {
   "cell_type": "code",
   "execution_count": null,
   "id": "bf53e877-d2e7-4f81-a01f-9a7e8582216e",
   "metadata": {},
   "outputs": [],
   "source": []
  },
  {
   "cell_type": "code",
   "execution_count": null,
   "id": "8fdaeb7b-1cd8-453d-a8ad-156d902a2ae1",
   "metadata": {},
   "outputs": [],
   "source": []
  },
  {
   "cell_type": "code",
   "execution_count": null,
   "id": "28da8464-043c-4001-86e6-15ad3df21326",
   "metadata": {},
   "outputs": [],
   "source": []
  },
  {
   "cell_type": "code",
   "execution_count": null,
   "id": "b8c7da97-aa0d-405d-a721-9319d863593a",
   "metadata": {},
   "outputs": [],
   "source": []
  },
  {
   "cell_type": "code",
   "execution_count": null,
   "id": "39bb920a-945f-427d-929c-fd0d1d2c156b",
   "metadata": {},
   "outputs": [],
   "source": []
  },
  {
   "cell_type": "code",
   "execution_count": null,
   "id": "8c11580d-6743-4eaa-b47b-e95341caf6b8",
   "metadata": {},
   "outputs": [],
   "source": []
  },
  {
   "cell_type": "code",
   "execution_count": null,
   "id": "47dfb960-3410-4365-995e-659285b6f737",
   "metadata": {},
   "outputs": [],
   "source": []
  }
 ],
 "metadata": {
  "kernelspec": {
   "display_name": "Python 3 (ipykernel)",
   "language": "python",
   "name": "python3"
  },
  "language_info": {
   "codemirror_mode": {
    "name": "ipython",
    "version": 3
   },
   "file_extension": ".py",
   "mimetype": "text/x-python",
   "name": "python",
   "nbconvert_exporter": "python",
   "pygments_lexer": "ipython3",
   "version": "3.7.2"
  },
  "vscode": {
   "interpreter": {
    "hash": "aee8b7b246df8f9039afb4144a1f6fd8d2ca17a180786b69acc140d282b71a49"
   }
  }
 },
 "nbformat": 4,
 "nbformat_minor": 5
}
