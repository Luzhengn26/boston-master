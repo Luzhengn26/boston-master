{
 "cells": [
  {
   "cell_type": "markdown",
   "id": "3ae85626",
   "metadata": {},
   "source": [
    "title: Matching Studies - Apple pay incentives at onboarding\n",
    "\n",
    "author: Brieuc Van Thienen\n",
    "\n",
    "date: 2023-03-06\n",
    "\n",
    "region: EU\n",
    "\n",
    "tags: onboarding, digital card, apple pay transactions, user matching, incentives, retention, engagement, causal inference, net contribution, revenues\n",
    "\n",
    "summary: N26 has contractual obligations towards Apple to incentivise its users to use the mobile wallet (Apple pay), with an incentive of of minimum 5 Euros. The Growth and Product teams decided to incentivise digital card users because, without the mobile wallet, such users can't spend at POS. We hence believe that tokenising the card and making a first Apple pay transaction could be meaningful actions during onboarding. This analysis looks at the difference in profitability attributable to Apple pay usage during the onboarding period. The study could not demonstrate any meaningful difference between the two groups. The overlap in propensity scores of users that did use / did not use Apple Pay is not optimal, even after having excluded outliers (e.g. users with less than 3 transactions in the first 35d, users with immensely high deposits, etc.). It was therefore suggested to the teams to stick to the amount of 5 Euros specified in the contracts, and not go above."
   ]
  },
  {
   "cell_type": "markdown",
   "id": "ea9944e5",
   "metadata": {},
   "source": [
    "<br>\n",
    "<br>\n",
    "<br>\n",
    "<br>\n",
    "<br>\n",
    "<br>\n",
    "\n",
    "### Dataset"
   ]
  },
  {
   "cell_type": "code",
   "execution_count": null,
   "id": "143ac7c3-d876-4b5f-ade3-38f5e89f786b",
   "metadata": {},
   "outputs": [],
   "source": [
    "query = \"\"\"\n",
    "with users as (\n",
    "    select\n",
    "        u.user_created,\n",
    "        u.user_id,\n",
    "        u.kyc_first_completed::date,\n",
    "        dateadd(day, 35, kyc_first_completed::date)::date as kycc_35d_date,\n",
    "        u.tnc_country_group,\n",
    "        u.age_group,\n",
    "        u.gender,\n",
    "        u.is_expat,\n",
    "        p.product_id as product_start,\n",
    "        p2.product_id as product_end,\n",
    "        coalesce(cs.cs_contacts_35d, 0) as cs_contacts_35d,\n",
    "        floor(balance_eur_max::float / 10) * 10 as balance_eur_max,\n",
    "        n_act_total_35d,\n",
    "        n_aa_35d,\n",
    "        floor(amount_cents_aa_35d::float / 100 / 10) * 10 as eur_aa_35d,\n",
    "        floor(amount_cents_ct_35d::float / 100 / 10) * 10 as eur_ct_35d,\n",
    "        floor(amount_cents_act_total_35d::float / 10) * 10 as eur_act_total_35d,\n",
    "        (n_card_apple_35d > 0) as used_apple\n",
    "    from\n",
    "        dbt.zrh_users u\n",
    "    inner join\n",
    "        dwh_earlycluster_labels_1month ec using (user_created)\n",
    "    inner join\n",
    "        (select user_created, max(balance_eur) as balance_eur_max from dbt.crm_segmentation_onboarding group by 1) ob using (user_created)\n",
    "    inner join\n",
    "        (select\n",
    "            user_created,\n",
    "            sum(amount_cents_ct) as amount_cents_ct_35d,\n",
    "            sum(n_act_total) as n_act_total_35d,\n",
    "            sum(n_aa) as n_aa_35d,\n",
    "            sum(amount_cents_act_total) as amount_cents_act_total_35d, -- average\n",
    "            sum(amount_cents_aa) as amount_cents_aa_35d,\n",
    "            sum(n_card_apple) as n_card_apple_35d\n",
    "        from\n",
    "            dbt.zrh_users u\n",
    "        inner join\n",
    "            dbt.zrh_txn_day t using (user_created)\n",
    "        where\n",
    "            t.txn_date between u.kyc_first_completed::date and dateadd(day, 35, kyc_first_completed::date)\n",
    "        group by 1\n",
    "        ) act using (user_created)\n",
    "        left join\n",
    "        (select\n",
    "            u.user_created,\n",
    "            count(1) as cs_contacts_35d\n",
    "        from\n",
    "            dbt.stg_users u\n",
    "        inner join\n",
    "            dbt.sf_all_contacts c using (user_id)\n",
    "        where\n",
    "            1=1\n",
    "            and kyc_first_completed is not null\n",
    "            and initiated_date between kyc_first_completed and dateadd(day, 36, kyc_first_completed::date)\n",
    "            and c_level_report is true\n",
    "        group by 1) cs using (user_created)\n",
    "    inner join\n",
    "        (select distinct user_created from dbt.stg_logins where platform = 2) app using (user_created)\n",
    "    inner join\n",
    "        dbt.zrh_user_product p on u.user_created = p.user_created\n",
    "            and p.enter_reason = 'SIGNUP'\n",
    "            and p.product_id in ('STANDARD', 'BUSINESS_CARD')\n",
    "    inner join\n",
    "        dbt.zrh_user_product p2 on u.user_created = p2.user_created\n",
    "            and dateadd(day, 35, kyc_first_completed::date) between p2.subscription_valid_from and p2.subscription_valid_until\n",
    "            and p2.product_id = p.product_id\n",
    "    left join -- all distinct users with a physical card\n",
    "        (select distinct user_created from dbt.zrh_users u inner join dbt.zrh_cards c using (user_created) where order_date between u.kyc_first_completed::date and dateadd(day, 35, kyc_first_completed::date) and is_digital is false) pc on pc.user_created = u.user_created\n",
    "    where\n",
    "        pc.user_created is null\n",
    "        and kyc_first_completed between dateadd(month, -12, current_date) and dateadd(month, -7, current_date)\n",
    "        and kyc_first_completed < dateadd(day, 7, u.user_created)\n",
    "\n",
    "), net_contribution as (\n",
    "\n",
    "    select\n",
    "        u.user_created,\n",
    "        sum(case when product_group = 'Treasury' then value / 100 else 0 end) as rev_6m_treasury,\n",
    "        sum(case when type = 'Revenue' then value / 100 else 0 end) as rev_6m,\n",
    "        sum(coalesce(value,0) / 100) as nc1_6m\n",
    "    from\n",
    "        users u\n",
    "    inner join\n",
    "        dbt.ucm_pnl pnl on u.user_created = pnl.user_created\n",
    "            and to_date(pnl.month, 'YYYY-MM') between date_trunc('month', kyc_first_completed::date) and date_trunc('month', dateadd(month, 5, kyc_first_completed)::date)\n",
    "    inner join\n",
    "        dbt.ucm_mapping m using (label)\n",
    "    where\n",
    "        type in ('Revenue', 'Direct', 'Variable')\n",
    "        and product_group not in ('Banking') -- would by definition be outliers\n",
    "    group by 1\n",
    "\n",
    ")\n",
    "\n",
    "select\n",
    "    u.*,\n",
    "    nc.nc1_6m,\n",
    "    nc.rev_6m\n",
    "from\n",
    "    users u\n",
    "inner join\n",
    "    net_contribution nc using (user_created)\n",
    "where\n",
    "    n_act_total_35d > 0\n",
    "order by 1\n",
    "\"\"\""
   ]
  },
  {
   "cell_type": "code",
   "execution_count": null,
   "id": "36a64fef-2962-444a-8d19-8145cbeed983",
   "metadata": {},
   "outputs": [],
   "source": [
    "# !pip3 install seaborn"
   ]
  },
  {
   "cell_type": "code",
   "execution_count": null,
   "id": "34c78a29-e1b1-458f-8ee4-d780d20653eb",
   "metadata": {},
   "outputs": [],
   "source": [
    "# !pip3 install stats"
   ]
  },
  {
   "cell_type": "code",
   "execution_count": null,
   "id": "274ffdd6-41b5-47af-b9c2-87a15cbf4333",
   "metadata": {},
   "outputs": [],
   "source": [
    "from scipy.stats import zscore"
   ]
  },
  {
   "cell_type": "code",
   "execution_count": null,
   "id": "48351082",
   "metadata": {},
   "outputs": [],
   "source": [
    "import numpy as np\n",
    "import pandas as pd\n",
    "import seaborn as sns\n",
    "import stats"
   ]
  },
  {
   "cell_type": "code",
   "execution_count": null,
   "id": "205812a2-6af9-44f1-9f7f-b6ba1fe2814e",
   "metadata": {},
   "outputs": [],
   "source": [
    "df = pd.read_csv(\"DASD2052_dataset.csv\")"
   ]
  },
  {
   "cell_type": "code",
   "execution_count": null,
   "id": "4b7e1d44",
   "metadata": {},
   "outputs": [],
   "source": [
    "df.head()"
   ]
  },
  {
   "cell_type": "code",
   "execution_count": null,
   "id": "49558d30",
   "metadata": {
    "scrolled": true
   },
   "outputs": [],
   "source": [
    "df.describe()"
   ]
  },
  {
   "cell_type": "code",
   "execution_count": null,
   "id": "265191bf-4b65-4eff-8f25-7f45cf418fa0",
   "metadata": {},
   "outputs": [],
   "source": [
    "df.isnull().sum()"
   ]
  },
  {
   "cell_type": "code",
   "execution_count": null,
   "id": "87f492a2-0a35-422a-b79a-031eecfc9634",
   "metadata": {},
   "outputs": [],
   "source": [
    "df = df.fillna(0)"
   ]
  },
  {
   "cell_type": "code",
   "execution_count": null,
   "id": "28f85910-02a6-4fcb-a421-8a4c4e8f36be",
   "metadata": {},
   "outputs": [],
   "source": [
    "df.head()"
   ]
  },
  {
   "cell_type": "code",
   "execution_count": null,
   "id": "7fc80843-160d-4651-a85c-b882196d8d35",
   "metadata": {},
   "outputs": [],
   "source": [
    "# from scipy.stats import zscore\n",
    "\n",
    "# removing outliers, especially driven by treasury\n",
    "df = df.loc[df[\"balance_eur_max\"] <= 10000, :]\n",
    "df = df.loc[df[\"eur_act_total_35d\"] <= 10000, :]\n",
    "df = df.loc[(df[\"n_act_total_35d\"] >= 3) & (df[\"n_act_total_35d\"] <= 250), :]\n",
    "# df = df[(np.abs(zscore(df['nc1_6m'])) < 3)]"
   ]
  },
  {
   "cell_type": "code",
   "execution_count": null,
   "id": "34c6f426-6ed4-4b04-ba07-a1b3c6a5a725",
   "metadata": {},
   "outputs": [],
   "source": [
    "sns.ecdfplot(data=df, x=\"n_act_total_35d\", hue=\"used_apple\")"
   ]
  },
  {
   "cell_type": "code",
   "execution_count": null,
   "id": "4920f60b-450b-467b-94bb-7ee2b99c6785",
   "metadata": {},
   "outputs": [],
   "source": [
    "sns.ecdfplot(data=df, x=\"nc1_6m\", hue=\"used_apple\")"
   ]
  },
  {
   "cell_type": "code",
   "execution_count": null,
   "id": "5b5324f0-7fd4-4ed4-9574-b105b10362e1",
   "metadata": {},
   "outputs": [],
   "source": [
    "df.describe()"
   ]
  },
  {
   "cell_type": "markdown",
   "id": "d375e936",
   "metadata": {
    "tags": []
   },
   "source": [
    "<br>\n",
    "<br>\n",
    "<br>\n",
    "<br>\n",
    "<br>\n",
    "<br>\n",
    "\n",
    "### Naive comparison"
   ]
  },
  {
   "cell_type": "code",
   "execution_count": null,
   "id": "f144fb39-8a8d-4e5f-8c53-23b8942b03a4",
   "metadata": {},
   "outputs": [],
   "source": [
    "df.groupby([\"used_apple\"])[\"nc1_6m\"].describe()"
   ]
  },
  {
   "cell_type": "code",
   "execution_count": null,
   "id": "ace76e8d",
   "metadata": {},
   "outputs": [],
   "source": [
    "# separate control and treatment for t-test\n",
    "df_control = df.loc[~df[\"used_apple\"]]\n",
    "df_treatment = df.loc[df[\"used_apple\"]]"
   ]
  },
  {
   "cell_type": "code",
   "execution_count": null,
   "id": "11879640",
   "metadata": {},
   "outputs": [],
   "source": [
    "from scipy.stats import ttest_ind\n",
    "\n",
    "print(df_control.nc1_6m.mean(), df_treatment.nc1_6m.mean())\n",
    "\n",
    "# compare samples\n",
    "_, p = ttest_ind(df_control[\"nc1_6m\"], df_treatment[\"nc1_6m\"])\n",
    "print(f\"p={p:.3f}\")\n",
    "\n",
    "# interpret\n",
    "alpha = 0.05  # significance level\n",
    "if p > alpha:\n",
    "    print(\n",
    "        \"same distributions / same group mean: fail to reject H0 - we do not have enough evidence to reject H0\"\n",
    "    )\n",
    "else:\n",
    "    print(\"different distributions / different group mean: reject H0\")"
   ]
  },
  {
   "cell_type": "markdown",
   "id": "866bfce7",
   "metadata": {},
   "source": [
    "<br>\n",
    "<br>\n",
    "<br>\n",
    "<br>\n",
    "<br>\n",
    "<br>\n",
    "\n",
    "\n",
    "### Model Preperation\n",
    "\n",
    "---\n",
    "<br>\n",
    "<br>\n",
    "\n"
   ]
  },
  {
   "cell_type": "code",
   "execution_count": null,
   "id": "3f64b7fc-87c5-4528-b1b1-ba4a0c7bf13d",
   "metadata": {},
   "outputs": [],
   "source": [
    "user_features = [\"user_created\", \"kyc_first_completed\", \"kycc_35d_date\"]\n",
    "categorical_features = [\n",
    "    \"product_start\",\n",
    "    # \"product_end\",\n",
    "    \"tnc_country_group\",\n",
    "    \"is_expat\",\n",
    "    \"age_group\",\n",
    "    \"gender\",\n",
    "    \"used_apple\",\n",
    "]\n",
    "\n",
    "transaction_count_features = [\n",
    "    \"n_act_total_35d\",\n",
    "    \"n_aa_35d\",\n",
    "    \"cs_contacts_35d\",\n",
    "]\n",
    "\n",
    "transaction_amount_features = [\n",
    "    # 'eur_aa_35d',\n",
    "    # 'eur_ct_35d',\n",
    "    \"balance_eur_max\",\n",
    "]\n",
    "\n",
    "target_variable = [\"nc1_6m\"]"
   ]
  },
  {
   "cell_type": "code",
   "execution_count": null,
   "id": "d3683fc0-c5c1-41e6-8b25-55244b0ca202",
   "metadata": {},
   "outputs": [],
   "source": [
    "df = df[\n",
    "    user_features\n",
    "    + categorical_features\n",
    "    + transaction_count_features\n",
    "    + transaction_amount_features\n",
    "    + target_variable\n",
    "]"
   ]
  },
  {
   "cell_type": "code",
   "execution_count": null,
   "id": "8ec8a3f9",
   "metadata": {},
   "outputs": [],
   "source": [
    "df = pd.get_dummies(df, columns=categorical_features, drop_first=True)\n",
    "\n",
    "print(df.shape)"
   ]
  },
  {
   "cell_type": "code",
   "execution_count": null,
   "id": "5af1df7f-a87b-49fc-80fd-d62dbfd6af2c",
   "metadata": {},
   "outputs": [],
   "source": [
    "# onehotencoded_features\n",
    "product_start_features = [f for f in df.columns if \"product_start\" in f]\n",
    "# product_end_features = [f for f in df.columns if \"product_end\" in f]\n",
    "country_features = [f for f in df.columns if \"country\" in f]\n",
    "expat_features = [f for f in df.columns if \"expat\" in f]\n",
    "age_features = [f for f in df.columns if \"age\" in f]\n",
    "gender_features = [f for f in df.columns if \"gender\" in f]\n",
    "used_apple_features = [f for f in df.columns if \"used_apple\" in f]\n",
    "\n",
    "ohe_features = (\n",
    "    product_start_features\n",
    "    # + product_end_features\n",
    "    + country_features\n",
    "    + expat_features\n",
    "    # + age_features\n",
    "    # + gender_features\n",
    "    # + names_features\n",
    "    + used_apple_features\n",
    ")"
   ]
  },
  {
   "cell_type": "code",
   "execution_count": null,
   "id": "1dcdbc06-73d9-4484-9cb4-4e12376d0e2d",
   "metadata": {},
   "outputs": [],
   "source": [
    "all_features_target = (\n",
    "    ohe_features\n",
    "    + transaction_count_features\n",
    "    + transaction_amount_features\n",
    "    + target_variable\n",
    ")"
   ]
  },
  {
   "cell_type": "code",
   "execution_count": null,
   "id": "d48a7f64-ff27-4cec-8d7a-9cf03268a26c",
   "metadata": {},
   "outputs": [],
   "source": [
    "# !pip3 install scikit-learn"
   ]
  },
  {
   "cell_type": "code",
   "execution_count": null,
   "id": "839f2825",
   "metadata": {},
   "outputs": [],
   "source": [
    "# Preprocessing pipeline\n",
    "from sklearn.preprocessing import OneHotEncoder, StandardScaler, RobustScaler\n",
    "from sklearn.compose import make_column_transformer\n",
    "from sklearn.pipeline import make_pipeline\n",
    "from sklearn.impute import SimpleImputer"
   ]
  },
  {
   "cell_type": "code",
   "execution_count": null,
   "id": "6e774998-75fa-41b2-bf9b-936febac3ede",
   "metadata": {},
   "outputs": [],
   "source": [
    "df = df[all_features_target].reset_index(drop=True)"
   ]
  },
  {
   "cell_type": "code",
   "execution_count": null,
   "id": "e64dc991-5395-443e-8a2d-bbfb8e88b600",
   "metadata": {},
   "outputs": [],
   "source": [
    "df.head()"
   ]
  },
  {
   "cell_type": "code",
   "execution_count": null,
   "id": "233cf6ce-68ab-4d33-98e6-e864ef045271",
   "metadata": {},
   "outputs": [],
   "source": [
    "preprocessor = make_column_transformer(\n",
    "    (StandardScaler(), transaction_count_features),\n",
    "    (RobustScaler(), transaction_amount_features),\n",
    "    remainder=\"passthrough\",\n",
    ")"
   ]
  },
  {
   "cell_type": "code",
   "execution_count": null,
   "id": "310365ca-7c54-4956-9367-d7a8cc5d4f50",
   "metadata": {},
   "outputs": [],
   "source": [
    "df_fittransform = pd.DataFrame(\n",
    "    preprocessor.fit_transform(\n",
    "        df[transaction_count_features + transaction_amount_features + target_variable]\n",
    "        # df[transaction_amount_features + target_variable]\n",
    "    ),\n",
    "    columns=df[\n",
    "        transaction_count_features + transaction_amount_features + target_variable\n",
    "    ].columns,\n",
    "    # columns=df[transaction_amount_features + target_variable].columns,\n",
    ")"
   ]
  },
  {
   "cell_type": "code",
   "execution_count": null,
   "id": "d82a6a30-859f-453c-af34-333b8d8d1337",
   "metadata": {},
   "outputs": [],
   "source": [
    "df_fittransform.head()"
   ]
  },
  {
   "cell_type": "code",
   "execution_count": null,
   "id": "19b01149-26ca-4c96-aaa5-30d677dc73f4",
   "metadata": {},
   "outputs": [],
   "source": [
    "df = df.loc[\n",
    "    :,\n",
    "    ~df.columns.isin(\n",
    "        transaction_count_features + transaction_amount_features + target_variable\n",
    "    ),\n",
    "].join(df_fittransform)"
   ]
  },
  {
   "cell_type": "code",
   "execution_count": null,
   "id": "ecaf51f9-021b-41ee-8054-01cb67e3f685",
   "metadata": {},
   "outputs": [],
   "source": [
    "df.head()"
   ]
  },
  {
   "cell_type": "markdown",
   "id": "1a4787bd",
   "metadata": {},
   "source": [
    "<br>\n",
    "<br>\n",
    "<br>\n",
    "<br>\n",
    "<br>\n",
    "<br>\n",
    "\n",
    "### Propensity score matching - matching users based on their likelihood to redeem the coupon\n",
    "\n",
    "---\n",
    "\n",
    "<br>\n",
    "<br>"
   ]
  },
  {
   "cell_type": "code",
   "execution_count": null,
   "id": "6e010297-2dee-42c0-9fd2-a9d72b764710",
   "metadata": {},
   "outputs": [],
   "source": [
    "from sklearn.linear_model import LogisticRegression"
   ]
  },
  {
   "cell_type": "code",
   "execution_count": null,
   "id": "bf68289a-dc02-4797-ad5c-2bf7081e9a75",
   "metadata": {},
   "outputs": [],
   "source": [
    "t = \"used_apple_True\"\n",
    "y = \"nc1_6m\"\n",
    "x = [f for f in df.columns if f not in t + y]"
   ]
  },
  {
   "cell_type": "code",
   "execution_count": null,
   "id": "e2174bf4-9c56-4bce-bc11-43f195f29479",
   "metadata": {},
   "outputs": [],
   "source": [
    "x"
   ]
  },
  {
   "cell_type": "code",
   "execution_count": null,
   "id": "706229f4-a955-4592-9d75-5a0cf98abbc9",
   "metadata": {},
   "outputs": [],
   "source": [
    "ps_scores_model = LogisticRegression(max_iter=200).fit(df[x], df[\"used_apple_True\"])"
   ]
  },
  {
   "cell_type": "code",
   "execution_count": null,
   "id": "93a6fa3e-73c7-4f95-9c43-ff97da6c2da3",
   "metadata": {},
   "outputs": [],
   "source": [
    "ps_scores = df.assign(propensity_score=ps_scores_model.predict_proba(df[x])[:, 1])\n",
    "df_final = ps_scores[[\"propensity_score\", \"used_apple_True\", \"nc1_6m\"]]"
   ]
  },
  {
   "cell_type": "code",
   "execution_count": null,
   "id": "c3610ce7-4fee-4ce9-acda-d04406894874",
   "metadata": {},
   "outputs": [],
   "source": [
    "df_final.head()"
   ]
  },
  {
   "cell_type": "code",
   "execution_count": null,
   "id": "7c1bd6ed-3d36-49da-ac0a-3e1c0769fb41",
   "metadata": {},
   "outputs": [],
   "source": [
    "# Plotting the propensity score distribution to make sure there's big enough overlapped between the two groups\n",
    "sns.histplot(\n",
    "    data=df_final, x=df_final[\"propensity_score\"], hue=\"used_apple_True\", bins=10\n",
    ")"
   ]
  },
  {
   "cell_type": "markdown",
   "id": "d699d24a-a8e2-41ea-9ee3-7a689122eb75",
   "metadata": {},
   "source": [
    "<br>\n",
    "<br>\n",
    "<br>\n",
    "<br>\n",
    "<br>\n",
    "<br>\n",
    "\n",
    "### OLS estimation - Regressing NC1 with the propensity score and coupon boolean\n",
    "\n",
    "---\n",
    "\n",
    "<br>\n",
    "<br>"
   ]
  },
  {
   "cell_type": "code",
   "execution_count": null,
   "id": "9bb3d12a-b6ff-483d-a153-9abdc4746724",
   "metadata": {},
   "outputs": [],
   "source": [
    "# !pip3 install statsmodels"
   ]
  },
  {
   "cell_type": "code",
   "execution_count": null,
   "id": "4453e83e-ec69-46af-b0eb-456d38def9b7",
   "metadata": {},
   "outputs": [],
   "source": [
    "# ols estimation - Regressing NC1 with the propensity score and coupon boolean, focusing on the coefficient of redeemed_coupon_True\n",
    "import statsmodels.formula.api as smf"
   ]
  },
  {
   "cell_type": "code",
   "execution_count": null,
   "id": "fab07c5f-366d-4584-bc82-0c06b66a897b",
   "metadata": {},
   "outputs": [],
   "source": [
    "smf.ols(\n",
    "    \"nc1_6m ~ used_apple_True + propensity_score\", data=df_final\n",
    ").fit().summary().tables[1]"
   ]
  },
  {
   "cell_type": "code",
   "execution_count": null,
   "id": "79493963-2753-471a-8cb2-cd6d72e7fc73",
   "metadata": {},
   "outputs": [],
   "source": []
  },
  {
   "cell_type": "markdown",
   "id": "63718c8b-0e9a-4ee1-9ff9-0e95307600a7",
   "metadata": {},
   "source": [
    "<br>\n",
    "<br>\n",
    "<br>\n",
    "<br>\n",
    "<br>\n",
    "<br>\n",
    "\n",
    "### causal inference\n",
    "\n",
    "---\n",
    "\n",
    "<br>\n",
    "<br>"
   ]
  },
  {
   "cell_type": "code",
   "execution_count": null,
   "id": "2d4338cc-ed95-4d72-8d22-bc3508339953",
   "metadata": {},
   "outputs": [],
   "source": [
    "# !pip3 install causalinference"
   ]
  },
  {
   "cell_type": "code",
   "execution_count": null,
   "id": "4591d62f",
   "metadata": {},
   "outputs": [],
   "source": [
    "# Using the Python package based on the propensity score method to directly get the ATE\n",
    "\n",
    "from causalinference import CausalModel\n",
    "\n",
    "cm = CausalModel(\n",
    "    Y=df_final[\"nc1_6m\"].values,\n",
    "    D=df_final[\"used_apple_True\"].values,\n",
    "    X=df_final[[\"propensity_score\"]].values,\n",
    ")\n",
    "\n",
    "cm.est_via_matching(matches=1, bias_adj=True)\n",
    "\n",
    "print(cm.estimates)"
   ]
  },
  {
   "cell_type": "code",
   "execution_count": null,
   "id": "c4623719",
   "metadata": {},
   "outputs": [],
   "source": []
  },
  {
   "cell_type": "code",
   "execution_count": null,
   "id": "91808d99",
   "metadata": {},
   "outputs": [],
   "source": []
  }
 ],
 "metadata": {
  "kernelspec": {
   "display_name": "Python 3 (ipykernel)",
   "language": "python",
   "name": "python3"
  },
  "language_info": {
   "codemirror_mode": {
    "name": "ipython",
    "version": 3
   },
   "file_extension": ".py",
   "mimetype": "text/x-python",
   "name": "python",
   "nbconvert_exporter": "python",
   "pygments_lexer": "ipython3",
   "version": "3.10.7"
  },
  "vscode": {
   "interpreter": {
    "hash": "aee8b7b246df8f9039afb4144a1f6fd8d2ca17a180786b69acc140d282b71a49"
   }
  }
 },
 "nbformat": 4,
 "nbformat_minor": 5
}
