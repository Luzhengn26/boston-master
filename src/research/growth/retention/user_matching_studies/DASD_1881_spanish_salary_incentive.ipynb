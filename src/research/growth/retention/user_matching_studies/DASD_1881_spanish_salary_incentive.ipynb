{
 "cells": [
  {
   "cell_type": "markdown",
   "id": "3ae85626",
   "metadata": {},
   "source": [
    "title: Matching Studies - Cuenta nomina initiative December 2021\n",
    "\n",
    "author: Brieuc Van Thienen\n",
    "\n",
    "date: 2023-03-29\n",
    "\n",
    "region: EU\n",
    "\n",
    "tags: salary, user matching, cuenta nomina, incentives, retention, engagement, causal inference, net contribution, revenues\n",
    "\n",
    "summary: In December 2021, customers were offered a 2 years of free Smart membership and 5 euros of cashback for 12 consecutive months, in exchange of topping up at least 500 Euros (in one or several transactions) each month. Roughly 2% of the targeted users redeemed the coupon and converted. For those users, greater deposits and potentially greater user engagement would have would have led to an increase in net contribution over that period. The goal of this analysis is to estimate the difference in net contribution in the subsequent 12 months that is attributable to the initiative, by matching the users that redeemed the coupon code with users that did not, and calculate a ROI for the initiative. The matching analysis notably controls for the overall transactional activity of users and the average daily amount held in deposits over the 30 days prior to the initiative. The two models that are used: linear regression and causal model. While both models show that the users that converted brought 15 to 20 Euros more in revenues, the impact on net contribution could not be demonstrated - due primarily to greater customer service costs.\n",
    "\n"
   ]
  },
  {
   "cell_type": "markdown",
   "id": "ea9944e5",
   "metadata": {},
   "source": [
    "<br>\n",
    "<br>\n",
    "<br>\n",
    "<br>\n",
    "<br>\n",
    "<br>\n",
    "\n",
    "### Dataset"
   ]
  },
  {
   "cell_type": "code",
   "execution_count": 3,
   "id": "143ac7c3-d876-4b5f-ade3-38f5e89f786b",
   "metadata": {},
   "outputs": [],
   "source": [
    "query = \"\"\"\n",
    "    with user_activity as ( -- engagement state data as of the date of the campaign\n",
    "        select\n",
    "            ua.user_created,\n",
    "            ua.activity_start,\n",
    "            ua.activity_end,\n",
    "            ua.names,\n",
    "            row_number() over (partition by ua.user_created order by activity_start desc) = 1 as last_session,\n",
    "            datediff('month', least('2021-12-14'::date, ua.activity_end::date), '2021-12-14'::date) as months_since_last_activity,\n",
    "            -- frequency score calcs\n",
    "            datediff('day', ua.activity_start::date, least('2021-12-14', ua.activity_end::date)) as days_in_session,\n",
    "            sum(days_in_session) over (partition by ua.user_created order by ua.activity_start rows unbounded preceding) as days_in_session_cumulative,\n",
    "            datediff('day', kyc_first_completed::date, least('2021-12-14', ua.activity_end::date)) as days_since_kyc,\n",
    "            round(least(days_in_session_cumulative::float / nullif(days_since_kyc,0), 1), 1) as frequency_score,\n",
    "            -- physical card\n",
    "            no_physical_cards_flg\n",
    "        from\n",
    "            dbt.mktg_crm_lapses ua\n",
    "        where\n",
    "            activity_start < '2021-12-14'::date -- take all sessions until email date.\n",
    "\n",
    "    ), average_30d_balance as (\n",
    "        select\n",
    "            user_created,\n",
    "            avg(balance_eur) as balance_eur_30d_avg\n",
    "        from\n",
    "            (select user_created, date, sum(balance_eur) as balance_eur from dbt.mmb_daily_balance_aud where date between dateadd(day, -30, '2021-12-14'::date) and '2021-12-14'::date group by 1,2) b\n",
    "        group by 1\n",
    "\n",
    "    ), use_cases as (\n",
    "        select\n",
    "            user_created,\n",
    "            coalesce(use_case_signup, use_case_journey, 'OTHER') as use_case\n",
    "        from\n",
    "            dev_dbt.mktg_crm_usecase_signup\n",
    "        left join\n",
    "            (select *, row_number() over (partition by user_created order by period_id desc) = 1 as last_row from dev_dbt.mktg_crm_usecase_journey where activity_start < '2021-12-14'::date) using (user_created)\n",
    "        where\n",
    "            last_row is true\n",
    "\n",
    "    ), coupon_users as (\n",
    "        select\n",
    "            *\n",
    "        from\n",
    "            u_user_coupon uc\n",
    "        inner join\n",
    "            u_coupon c ON c.id = uc.coupon_id\n",
    "        inner join\n",
    "            u_campaign ca ON ca.id = c.campaign_id\n",
    "        where\n",
    "            1=1\n",
    "            and ca.external = 0\n",
    "            and ca.name = 'ES SAU - Cuenta Nomina'\n",
    "            and ca.valid_from between '2021-08-01' and '2022-01-01'\n",
    "\n",
    "    ), email_users as (\n",
    "        select\n",
    "            u.user_id,\n",
    "            datediff('month', u.kyc_first_completed::date, '2021-12-14'::date) as months_since_kycc,\n",
    "            date_trunc('month', u.kyc_first_completed)::date as kycc_month,\n",
    "            use_case,\n",
    "            ua.*,\n",
    "            u.legal_entity,\n",
    "            uc.user_created is not null as redeemed_coupon,\n",
    "            balance_eur_30d_avg\n",
    "        from\n",
    "            dbt.zrh_users u\n",
    "        inner join\n",
    "            (select * from user_activity where last_session is true) ua using (user_created)\n",
    "        inner join\n",
    "            use_cases c using (user_created)\n",
    "        inner join\n",
    "            (select * from dbt.mktg_crm_emails where 1=1 and campaign_id = '[D;20211214][C;acc][SC;other][N;]') e using (user_id)\n",
    "        inner join\n",
    "            average_30d_balance b using (user_created)\n",
    "        left join\n",
    "            (select user_created from dwh_analysis_user_blacklist) bl using (user_created)\n",
    "        left join\n",
    "            coupon_users uc using (user_created)\n",
    "        where\n",
    "           1=1\n",
    "           -- user data\n",
    "           and u.country_tnc_legal in ('ESP')\n",
    "           and u.legal_entity in ('ES','EU')\n",
    "           -- blacklist\n",
    "           and bl.user_created is null\n",
    "\n",
    "    )\n",
    "\n",
    "    select\n",
    "        user_id,\n",
    "        user_created,\n",
    "        legal_entity,\n",
    "        no_physical_cards_flg,\n",
    "        use_case,\n",
    "        u.names,\n",
    "        months_since_kycc,\n",
    "        months_since_last_activity,\n",
    "        frequency_score,\n",
    "        balance_eur_30d_avg,\n",
    "        redeemed_coupon,\n",
    "        pnl.*\n",
    "    from\n",
    "        email_users u\n",
    "    inner join\n",
    "        (select\n",
    "            user_created,\n",
    "            sum(case when type in ('Revenue') then value::float / 100 else 0 end) as rev_12m,\n",
    "            sum(value::float / 100) as nc1_12m,\n",
    "            sum(case when product_group = 'Payments' then value::float / 100 else 0 end) as nc1_12m_payments,\n",
    "            sum(case when product_group = 'Treasury' then value::float / 100 else 0 end) as nc1_12m_treasury,\n",
    "            sum(case when product_group = 'Customer Service' then value::float / 100 else 0 end) as nc1_12m_cs,\n",
    "            sum(case when product_group = 'ATM' then value::float / 100 else 0 end) as nc1_12m_atm\n",
    "        from\n",
    "            dbt.ucm_pnl\n",
    "        inner join\n",
    "            dbt.ucm_mapping using (label)\n",
    "        where\n",
    "            type in ('Revenue', 'Direct', 'Variable')\n",
    "            and to_date(month,'YYYY-MM') between '2021-12-01' and dateadd(month, 11, '2021-12-01'::date)\n",
    "        group by 1\n",
    "        ) pnl using (user_created)\n",
    "    order by u.user_created\n",
    "\n",
    "\"\"\""
   ]
  },
  {
   "cell_type": "code",
   "execution_count": null,
   "id": "36a64fef-2962-444a-8d19-8145cbeed983",
   "metadata": {},
   "outputs": [],
   "source": [
    "# !pip3 install seaborn"
   ]
  },
  {
   "cell_type": "code",
   "execution_count": null,
   "id": "48351082",
   "metadata": {},
   "outputs": [],
   "source": [
    "import numpy as np\n",
    "import pandas as pd\n",
    "import seaborn as sns"
   ]
  },
  {
   "cell_type": "code",
   "execution_count": null,
   "id": "205812a2-6af9-44f1-9f7f-b6ba1fe2814e",
   "metadata": {},
   "outputs": [],
   "source": [
    "df = pd.read_csv(\"DASD1881_dataset.csv\")"
   ]
  },
  {
   "cell_type": "code",
   "execution_count": null,
   "id": "38ef2c0d-1621-4ea8-acba-aa586555e176",
   "metadata": {},
   "outputs": [],
   "source": [
    "df.groupby([\"redeemed_coupon\"])[\"rev_12m\"].describe()"
   ]
  },
  {
   "cell_type": "code",
   "execution_count": null,
   "id": "afa30c8c-5932-495f-87c6-9dd953ced66b",
   "metadata": {},
   "outputs": [],
   "source": [
    "df.groupby([\"redeemed_coupon\"])[\"nc1_12m\"].describe()"
   ]
  },
  {
   "cell_type": "code",
   "execution_count": null,
   "id": "68104958-7f68-4439-9e6b-0f4d6129ba05",
   "metadata": {},
   "outputs": [],
   "source": [
    "df.groupby([\"redeemed_coupon\"])[\"nc1_12m_payments\"].describe()"
   ]
  },
  {
   "cell_type": "code",
   "execution_count": null,
   "id": "dc1e1584-2774-4a73-ba3d-8336c34eeba1",
   "metadata": {},
   "outputs": [],
   "source": [
    "df.groupby([\"redeemed_coupon\"])[\"nc1_12m_treasury\"].describe()"
   ]
  },
  {
   "cell_type": "code",
   "execution_count": null,
   "id": "6180ca0d-a9db-485f-b1fe-2014184a4e3b",
   "metadata": {},
   "outputs": [],
   "source": [
    "df.groupby([\"redeemed_coupon\"])[\"nc1_12m_cs\"].describe()"
   ]
  },
  {
   "cell_type": "code",
   "execution_count": null,
   "id": "ea220398-6e41-4f9c-9991-4544a53d7291",
   "metadata": {},
   "outputs": [],
   "source": [
    "df.groupby([\"redeemed_coupon\"])[\"nc1_12m_atm\"].describe()"
   ]
  },
  {
   "cell_type": "code",
   "execution_count": null,
   "id": "49558d30",
   "metadata": {
    "scrolled": true
   },
   "outputs": [],
   "source": [
    "df.describe()"
   ]
  },
  {
   "cell_type": "code",
   "execution_count": null,
   "id": "265191bf-4b65-4eff-8f25-7f45cf418fa0",
   "metadata": {},
   "outputs": [],
   "source": [
    "df.isnull().sum()"
   ]
  },
  {
   "cell_type": "code",
   "execution_count": null,
   "id": "86a73b04-7fe3-4fdf-84e4-d38aa7558bff",
   "metadata": {},
   "outputs": [],
   "source": [
    "df[[\"redeemed_coupon\", \"nc1_12m_treasury\"]].sort_values(\n",
    "    by=\"nc1_12m_treasury\", ascending=False\n",
    ").head(20).reset_index(drop=True).pivot(\n",
    "    columns=\"redeemed_coupon\", values=\"nc1_12m_treasury\"\n",
    ")"
   ]
  },
  {
   "cell_type": "code",
   "execution_count": null,
   "id": "6929c98f",
   "metadata": {},
   "outputs": [],
   "source": [
    "# # removing outliers: all users that had more than 1000 Euros in treasury\n",
    "df = df.loc[df[\"nc1_12m_treasury\"] <= 1000, :].reset_index(drop=True)"
   ]
  },
  {
   "cell_type": "markdown",
   "id": "d375e936",
   "metadata": {},
   "source": [
    "<br>\n",
    "<br>\n",
    "<br>\n",
    "<br>\n",
    "<br>\n",
    "<br>\n",
    "\n",
    "### Naive comparison"
   ]
  },
  {
   "cell_type": "code",
   "execution_count": null,
   "id": "ace76e8d",
   "metadata": {},
   "outputs": [],
   "source": [
    "# separate control and treatment for t-test\n",
    "df_control = df.loc[~df[\"redeemed_coupon\"]]\n",
    "df_treatment = df.loc[df[\"redeemed_coupon\"]]"
   ]
  },
  {
   "cell_type": "markdown",
   "id": "9429309b-ca33-46ca-bf0e-6f5fb3c2caae",
   "metadata": {},
   "source": [
    "net contribution 1"
   ]
  },
  {
   "cell_type": "code",
   "execution_count": null,
   "id": "11879640",
   "metadata": {},
   "outputs": [],
   "source": [
    "from scipy.stats import ttest_ind\n",
    "\n",
    "print(df_control.nc1_12m.mean(), df_treatment.nc1_12m.mean())\n",
    "\n",
    "# compare samples\n",
    "_, p = ttest_ind(df_control[\"nc1_12m\"], df_treatment[\"nc1_12m\"])\n",
    "print(f\"p={p:.3f}\")\n",
    "\n",
    "# interpret\n",
    "alpha = 0.05  # significance level\n",
    "if p > alpha:\n",
    "    print(\n",
    "        \"same distributions/same group mean (fail to reject H0 - we do not have enough evidence to reject H0)\"\n",
    "    )\n",
    "else:\n",
    "    print(\"different distributions/different group mean (reject H0)\")"
   ]
  },
  {
   "cell_type": "markdown",
   "id": "5c3eb569-a035-45a4-b637-df14bd2bc017",
   "metadata": {},
   "source": [
    "revenues"
   ]
  },
  {
   "cell_type": "code",
   "execution_count": null,
   "id": "c9f649d4-c158-4b40-b3c9-0f1d89f67d4d",
   "metadata": {},
   "outputs": [],
   "source": [
    "from scipy.stats import ttest_ind\n",
    "\n",
    "print(df_control.rev_12m.mean(), df_treatment.rev_12m.mean())\n",
    "\n",
    "# compare samples\n",
    "_, p = ttest_ind(df_control[\"rev_12m\"], df_treatment[\"rev_12m\"])\n",
    "print(f\"p={p:.3f}\")\n",
    "\n",
    "# interpret\n",
    "alpha = 0.05  # significance level\n",
    "if p > alpha:\n",
    "    print(\n",
    "        \"same distributions/same group mean (fail to reject H0 - we do not have enough evidence to reject H0)\"\n",
    "    )\n",
    "else:\n",
    "    print(\"different distributions/different group mean (reject H0)\")"
   ]
  },
  {
   "cell_type": "code",
   "execution_count": null,
   "id": "2d1649b3",
   "metadata": {},
   "outputs": [],
   "source": []
  },
  {
   "cell_type": "markdown",
   "id": "866bfce7",
   "metadata": {},
   "source": [
    "<br>\n",
    "<br>\n",
    "<br>\n",
    "<br>\n",
    "<br>\n",
    "<br>\n",
    "\n",
    "\n",
    "### Model Preperation\n",
    "\n",
    "---\n",
    "<br>\n",
    "<br>\n",
    "\n"
   ]
  },
  {
   "cell_type": "code",
   "execution_count": null,
   "id": "dad1a727-1eca-4487-a17f-016bc0d10b87",
   "metadata": {},
   "outputs": [],
   "source": [
    "df.columns"
   ]
  },
  {
   "cell_type": "code",
   "execution_count": null,
   "id": "61bcc287-2765-4c6b-be73-d069cbfc95c2",
   "metadata": {},
   "outputs": [],
   "source": [
    "df = df.drop(\"user_created.1\", axis=1)"
   ]
  },
  {
   "cell_type": "code",
   "execution_count": null,
   "id": "3f64b7fc-87c5-4528-b1b1-ba4a0c7bf13d",
   "metadata": {},
   "outputs": [],
   "source": [
    "user_features = [\"user_id\", \"user_created\"]\n",
    "categorical_features = [\n",
    "    \"use_case\",\n",
    "    # \"names\",\n",
    "    # \"kycc_month\",\n",
    "    # \"last_activity_end_month\",\n",
    "    \"redeemed_coupon\",\n",
    "    \"no_physical_cards_flg\",\n",
    "]\n",
    "month_features = [\"months_since_kycc\", \"months_since_last_activity\"]\n",
    "frequency_features = [\"frequency_score\"]\n",
    "balance_features = [\"balance_eur_30d_avg\"]\n",
    "\n",
    "target_variable = [\"nc1_12m\"]"
   ]
  },
  {
   "cell_type": "code",
   "execution_count": null,
   "id": "d3683fc0-c5c1-41e6-8b25-55244b0ca202",
   "metadata": {},
   "outputs": [],
   "source": [
    "df = df[\n",
    "    user_features\n",
    "    + categorical_features\n",
    "    + month_features\n",
    "    + frequency_features\n",
    "    + balance_features\n",
    "    + target_variable\n",
    "]"
   ]
  },
  {
   "cell_type": "code",
   "execution_count": null,
   "id": "8ec8a3f9",
   "metadata": {},
   "outputs": [],
   "source": [
    "df = pd.get_dummies(df, columns=categorical_features, drop_first=True)\n",
    "\n",
    "print(df.shape)"
   ]
  },
  {
   "cell_type": "code",
   "execution_count": null,
   "id": "5af1df7f-a87b-49fc-80fd-d62dbfd6af2c",
   "metadata": {},
   "outputs": [],
   "source": [
    "# onehotencoded_features\n",
    "# last_activity_end_month_features = [f for f in df.columns if \"last_activity_end_month\" in f]\n",
    "# kycc_month_features = [f for f in df.columns if \"kycc_month\" in f]\n",
    "use_case_features = [f for f in df.columns if \"use_case\" in f]\n",
    "redeemed_coupon_features = [f for f in df.columns if \"redeemed_coupon\" in f]\n",
    "card_features = [f for f in df.columns if \"no_physical_cards_flg\" in f]\n",
    "\n",
    "ohe_features = (\n",
    "    # last_activity_end_month_features\n",
    "    # + kycc_month_features\n",
    "    use_case_features\n",
    "    + redeemed_coupon_features\n",
    "    + card_features\n",
    ")\n",
    "ohe_features"
   ]
  },
  {
   "cell_type": "code",
   "execution_count": null,
   "id": "1dcdbc06-73d9-4484-9cb4-4e12376d0e2d",
   "metadata": {},
   "outputs": [],
   "source": [
    "all_features_target = (\n",
    "    ohe_features\n",
    "    + balance_features\n",
    "    + month_features\n",
    "    + frequency_features\n",
    "    + target_variable\n",
    ")"
   ]
  },
  {
   "cell_type": "code",
   "execution_count": null,
   "id": "d48a7f64-ff27-4cec-8d7a-9cf03268a26c",
   "metadata": {},
   "outputs": [],
   "source": [
    "# !pip3 install scikit-learn"
   ]
  },
  {
   "cell_type": "code",
   "execution_count": null,
   "id": "839f2825",
   "metadata": {},
   "outputs": [],
   "source": [
    "# Preprocessing pipeline\n",
    "from sklearn.preprocessing import OneHotEncoder, StandardScaler, RobustScaler\n",
    "from sklearn.compose import make_column_transformer\n",
    "from sklearn.pipeline import make_pipeline\n",
    "from sklearn.impute import SimpleImputer\n",
    "\n",
    "# df_numerical_features = StandardScaler().fit_transform(df[numerical_features].values)"
   ]
  },
  {
   "cell_type": "code",
   "execution_count": null,
   "id": "6e774998-75fa-41b2-bf9b-936febac3ede",
   "metadata": {},
   "outputs": [],
   "source": [
    "df = df[all_features_target].reset_index(drop=True)"
   ]
  },
  {
   "cell_type": "code",
   "execution_count": null,
   "id": "64a44d15-174d-4be0-bab9-fc31bbddf530",
   "metadata": {},
   "outputs": [],
   "source": [
    "all_features_target"
   ]
  },
  {
   "cell_type": "code",
   "execution_count": null,
   "id": "233cf6ce-68ab-4d33-98e6-e864ef045271",
   "metadata": {},
   "outputs": [],
   "source": [
    "preprocessor = make_column_transformer(\n",
    "    # robust scaler\n",
    "    (RobustScaler(), balance_features),\n",
    "    (StandardScaler(), month_features),\n",
    "    remainder=\"passthrough\",\n",
    ")"
   ]
  },
  {
   "cell_type": "code",
   "execution_count": null,
   "id": "310365ca-7c54-4956-9367-d7a8cc5d4f50",
   "metadata": {},
   "outputs": [],
   "source": [
    "df_fittransform = pd.DataFrame(\n",
    "    preprocessor.fit_transform(\n",
    "        df[balance_features + month_features + frequency_features + target_variable]\n",
    "    ),\n",
    "    columns=df[\n",
    "        balance_features + month_features + frequency_features + target_variable\n",
    "    ].columns,\n",
    ")"
   ]
  },
  {
   "cell_type": "code",
   "execution_count": null,
   "id": "d82a6a30-859f-453c-af34-333b8d8d1337",
   "metadata": {},
   "outputs": [],
   "source": [
    "df_fittransform.head()"
   ]
  },
  {
   "cell_type": "code",
   "execution_count": null,
   "id": "19b01149-26ca-4c96-aaa5-30d677dc73f4",
   "metadata": {},
   "outputs": [],
   "source": [
    "df = df.loc[\n",
    "    :,\n",
    "    ~df.columns.isin(\n",
    "        balance_features + month_features + frequency_features + target_variable\n",
    "    ),\n",
    "].join(df_fittransform)"
   ]
  },
  {
   "cell_type": "code",
   "execution_count": null,
   "id": "ecaf51f9-021b-41ee-8054-01cb67e3f685",
   "metadata": {},
   "outputs": [],
   "source": [
    "df.head()"
   ]
  },
  {
   "cell_type": "code",
   "execution_count": null,
   "id": "cc3d1728-35e2-496b-a3c9-434707ef9ed5",
   "metadata": {},
   "outputs": [],
   "source": []
  },
  {
   "cell_type": "markdown",
   "id": "1a4787bd",
   "metadata": {},
   "source": [
    "<br>\n",
    "<br>\n",
    "<br>\n",
    "<br>\n",
    "<br>\n",
    "<br>\n",
    "\n",
    "### Propensity score matching - matching users based on their likelihood to redeem the coupon\n",
    "\n",
    "---\n",
    "\n",
    "<br>\n",
    "<br>"
   ]
  },
  {
   "cell_type": "code",
   "execution_count": null,
   "id": "6e010297-2dee-42c0-9fd2-a9d72b764710",
   "metadata": {},
   "outputs": [],
   "source": [
    "from sklearn.linear_model import LogisticRegression"
   ]
  },
  {
   "cell_type": "code",
   "execution_count": null,
   "id": "bf68289a-dc02-4797-ad5c-2bf7081e9a75",
   "metadata": {},
   "outputs": [],
   "source": [
    "t = \"redeemed_coupon_True\"\n",
    "y = \"nc1_12m\"\n",
    "x = [f for f in df.columns if f not in t + y]"
   ]
  },
  {
   "cell_type": "code",
   "execution_count": null,
   "id": "706229f4-a955-4592-9d75-5a0cf98abbc9",
   "metadata": {},
   "outputs": [],
   "source": [
    "ps_scores_model = LogisticRegression().fit(df[x], df[\"redeemed_coupon_True\"])"
   ]
  },
  {
   "cell_type": "code",
   "execution_count": null,
   "id": "93a6fa3e-73c7-4f95-9c43-ff97da6c2da3",
   "metadata": {},
   "outputs": [],
   "source": [
    "ps_scores = df.assign(propensity_score=ps_scores_model.predict_proba(df[x])[:, 1])\n",
    "df_final = ps_scores[[\"propensity_score\", \"redeemed_coupon_True\", \"nc1_12m\"]]"
   ]
  },
  {
   "cell_type": "code",
   "execution_count": null,
   "id": "c3610ce7-4fee-4ce9-acda-d04406894874",
   "metadata": {},
   "outputs": [],
   "source": [
    "df_final.head()"
   ]
  },
  {
   "cell_type": "code",
   "execution_count": null,
   "id": "7c1bd6ed-3d36-49da-ac0a-3e1c0769fb41",
   "metadata": {},
   "outputs": [],
   "source": [
    "# Plotting the propensity score distribution to make sure there's big enough overlapped between the two groups\n",
    "sns.displot(data=df_final, x=df_final[\"propensity_score\"], hue=\"redeemed_coupon_True\")"
   ]
  },
  {
   "cell_type": "code",
   "execution_count": null,
   "id": "87c4f008-1bcc-48b1-806b-2463ce351e9d",
   "metadata": {},
   "outputs": [],
   "source": []
  },
  {
   "cell_type": "markdown",
   "id": "d699d24a-a8e2-41ea-9ee3-7a689122eb75",
   "metadata": {},
   "source": [
    "<br>\n",
    "<br>\n",
    "<br>\n",
    "<br>\n",
    "<br>\n",
    "<br>\n",
    "\n",
    "### OLS estimation - Regressing NC1 with the propensity score and coupon boolean\n",
    "\n",
    "---\n",
    "\n",
    "<br>\n",
    "<br>"
   ]
  },
  {
   "cell_type": "code",
   "execution_count": null,
   "id": "9bb3d12a-b6ff-483d-a153-9abdc4746724",
   "metadata": {},
   "outputs": [],
   "source": [
    "# !pip3 install statsmodels"
   ]
  },
  {
   "cell_type": "code",
   "execution_count": null,
   "id": "4453e83e-ec69-46af-b0eb-456d38def9b7",
   "metadata": {},
   "outputs": [],
   "source": [
    "# ols estimation - Regressing NC1 with the propensity score and coupon boolean, focusing on the coefficient of redeemed_coupon_True\n",
    "import statsmodels.formula.api as smf"
   ]
  },
  {
   "cell_type": "code",
   "execution_count": null,
   "id": "fab07c5f-366d-4584-bc82-0c06b66a897b",
   "metadata": {},
   "outputs": [],
   "source": [
    "smf.ols(\n",
    "    \"nc1_12m ~ redeemed_coupon_True + propensity_score\", data=df_final\n",
    ").fit().summary().tables[1]"
   ]
  },
  {
   "cell_type": "code",
   "execution_count": null,
   "id": "79493963-2753-471a-8cb2-cd6d72e7fc73",
   "metadata": {},
   "outputs": [],
   "source": []
  },
  {
   "cell_type": "markdown",
   "id": "63718c8b-0e9a-4ee1-9ff9-0e95307600a7",
   "metadata": {},
   "source": [
    "<br>\n",
    "<br>\n",
    "<br>\n",
    "<br>\n",
    "<br>\n",
    "<br>\n",
    "\n",
    "### causal inference\n",
    "\n",
    "---\n",
    "\n",
    "<br>\n",
    "<br>"
   ]
  },
  {
   "cell_type": "code",
   "execution_count": null,
   "id": "2d4338cc-ed95-4d72-8d22-bc3508339953",
   "metadata": {},
   "outputs": [],
   "source": [
    "# !pip3 install causalinference"
   ]
  },
  {
   "cell_type": "code",
   "execution_count": null,
   "id": "4591d62f",
   "metadata": {},
   "outputs": [],
   "source": [
    "# Using the Python package based on the propensity score method to directly get the ATE\n",
    "\n",
    "from causalinference import CausalModel\n",
    "\n",
    "cm = CausalModel(\n",
    "    Y=df_final[\"nc1_12m\"].values,\n",
    "    D=df_final[\"redeemed_coupon_True\"].values,\n",
    "    X=df_final[[\"propensity_score\"]].values,\n",
    ")\n",
    "\n",
    "cm.est_via_matching(matches=1, bias_adj=True)\n",
    "\n",
    "print(cm.estimates)"
   ]
  },
  {
   "cell_type": "code",
   "execution_count": null,
   "id": "c4623719",
   "metadata": {},
   "outputs": [],
   "source": []
  }
 ],
 "metadata": {
  "kernelspec": {
   "display_name": "Python 3 (ipykernel)",
   "language": "python",
   "name": "python3"
  },
  "language_info": {
   "codemirror_mode": {
    "name": "ipython",
    "version": 3
   },
   "file_extension": ".py",
   "mimetype": "text/x-python",
   "name": "python",
   "nbconvert_exporter": "python",
   "pygments_lexer": "ipython3",
   "version": "3.7.2"
  },
  "vscode": {
   "interpreter": {
    "hash": "aee8b7b246df8f9039afb4144a1f6fd8d2ca17a180786b69acc140d282b71a49"
   }
  }
 },
 "nbformat": 4,
 "nbformat_minor": 5
}
