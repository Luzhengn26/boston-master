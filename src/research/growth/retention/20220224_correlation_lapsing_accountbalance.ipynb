{
 "cells": [
  {
   "cell_type": "markdown",
   "id": "0979ecc8-5eed-405e-a547-8bda69e0d685",
   "metadata": {},
   "source": [
    "title: Correlation between the users' account balance and their probability to lapse\n",
    "\n",
    "author: Brieuc Van Thienen, Fabio Schmidt-Fischbach\n",
    "\n",
    "date: 2022-02-24\n",
    "\n",
    "region: EU\n",
    "\n",
    "link: https://docs.google.com/spreadsheets/d/1dNkA-dP-_M3_8kbARL9-C2b0R_p-7bMl6VOO44mGMqM/edit?usp=sharing\n",
    "\n",
    "summary: We want to know if the account balance going below a certain amount can be a strong signal that the user has no intention of coming back. If yes, what's the max amount for which we should issue a warning? More particularly, are users who have 0 on their account balance more likely to lapse?\n",
    "\n",
    "tags: marketing, lapsing, retention, lifecycle, account balance, balance, churn\n"
   ]
  },
  {
   "cell_type": "markdown",
   "id": "6797c6cd-e814-45d9-b31d-5d221f88b863",
   "metadata": {},
   "source": [
    "Spreadsheet contains all the queries and charts."
   ]
  },
  {
   "cell_type": "code",
   "execution_count": null,
   "id": "7172c6dd-65de-4570-8778-a9ad4ea1796c",
   "metadata": {},
   "outputs": [],
   "source": []
  }
 ],
 "metadata": {
  "kernelspec": {
   "display_name": "Python 3 (ipykernel)",
   "language": "python",
   "name": "python3"
  },
  "language_info": {
   "codemirror_mode": {
    "name": "ipython",
    "version": 3
   },
   "file_extension": ".py",
   "mimetype": "text/x-python",
   "name": "python",
   "nbconvert_exporter": "python",
   "pygments_lexer": "ipython3",
   "version": "3.7.2"
  }
 },
 "nbformat": 4,
 "nbformat_minor": 5
}
