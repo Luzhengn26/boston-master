{
 "cells": [
  {
   "cell_type": "markdown",
   "source": [
    "title: Lapsing through the lens of early clusters\n",
    "author: Brieuc Van Thienen     \n",
    "date: 2021-03-19      \n",
    "region: EU     \n",
    "link: https://docs.google.com/presentation/d/1PnfD-mzLHJ9OFZj3LQ1_WY5uAq7nOK-ptHWvZZvOGqM/edit?usp=sharing    \n",
    "summary: Understand natural usage behaviours is the first step towards improving retention. Generic KPIs (10 txns in 35 days, >= 500 euro top-ups in 35 days, ...) help differentiate high-activity clusters from low-activity clusters, but cannot help differentiate within those two groups. Those KPIs are more relevant to look at after 5 weeks of activity. They can be used to assess the overall success of our project, but our initiatives will require to look at more granular metrics. Cash26, Spaces, mobile payments, and inter travel in the first week of activity are very differentiating from a product usage perspective. In other words, a user completing one of these actions has a very high likelihood of ending up in a given cluster. However, the intensity of the usage (transaction counts, volumes) are not really differentiating between clusters. When looking at the recency and stickiness of users (days since last action / number of distinct days active), we again see some distinguishable patterns between high and low-activity groups. Coupled with the absence of core product actions, these metrics could act as warning signs that a customer will soon become disengaged.\n",
    "tags: product, marketing, lapse, lapse prevention, early behaviour, engagement, onboarding, clusters\n",
    "    "
   ],
   "metadata": {}
  },
  {
   "cell_type": "markdown",
   "source": [
    "<br>\n",
    "<br>\n",
    "<br>\n",
    "\n",
    "# EDA - Lapsing through the lens of early clusters\n",
    "\n",
    "---"
   ],
   "metadata": {}
  },
  {
   "cell_type": "markdown",
   "source": [
    "Clustering helps us understand what the spectrum of possible behaviours is, 35 days after first time MAU. \n",
    "\n",
    "Looking at the early activity and long term engagement of these clusters can help understand:\n",
    "\n",
    "- How these users engage with the product in the very early days, and infer if new cohorts engage in meaningful ways with the product.\n",
    "\n",
    "- How early usage patterns correlate with longer-term engagement, and infer for new cohorts what are their expected usage patterns (e.g. frequency of usage).\n",
    "\n",
    "In all, clusters can help us design strategies to engage, retain or resurrect the users.\n",
    "\n",
    "All graphs are shown in the slide deck attached, but the notebook will help reproduce all the steps. Note that some dbt models are on the dev_dbt schema and are not updated on a regular schedule.\n"
   ],
   "metadata": {}
  },
  {
   "cell_type": "code",
   "execution_count": 2,
   "source": [
    "!pip install warnings\n",
    "import warnings\n",
    "\n",
    "warnings.filterwarnings(\"ignore\")"
   ],
   "outputs": [],
   "metadata": {}
  },
  {
   "cell_type": "code",
   "execution_count": null,
   "source": [
    "from utils.datalib_database import df_from_sql\n",
    "import altair as alt\n",
    "import numpy as np\n",
    "import pandas as pd\n",
    "import matplotlib.pyplot as plt\n",
    "\n",
    "!pip install seaborn\n",
    "import seaborn as sns\n",
    "\n",
    "!pip install vega\n",
    "!pip install --upgrade notebook  # need jupyter_client >= 4.2 for sys-prefix below\n",
    "!jupyter nbextension install --sys-prefix --py vega  # not needed in notebook >= 5.3\n",
    "alt.renderers.enable(\"notebook\")"
   ],
   "outputs": [],
   "metadata": {}
  },
  {
   "cell_type": "code",
   "execution_count": null,
   "source": [
    "alt.data_transformers.disable_max_rows()"
   ],
   "outputs": [],
   "metadata": {}
  },
  {
   "cell_type": "markdown",
   "source": [
    "<br>\n",
    "<br>\n",
    "<br>\n",
    "\n",
    "# Early engagement by clusters, key actions in week 1\n",
    "\n",
    "---"
   ],
   "metadata": {}
  },
  {
   "cell_type": "code",
   "execution_count": null,
   "source": [
    "query = \"\"\"\n",
    "    with main as (\n",
    "        select \n",
    "            u.user_created,\n",
    "            p.user_id,\n",
    "            u.country_tnc_legal,\n",
    "            fp.product_id,\n",
    "            p.ft_mau_date,\n",
    "            p.datediff,\n",
    "            p.feature,\n",
    "            early_cluster,\n",
    "            coalesce(p.value,0) as cumulative_value,\n",
    "            case \n",
    "                when datediff = 1 then coalesce(p.value,0)\n",
    "                else coalesce(p.value,0) - lag(coalesce(p.value,0)) over (partition by p.user_created, feature order by datediff asc)\n",
    "            end as value\n",
    "        from \n",
    "            dev_dbt.stg_churn_act_unpivot p \n",
    "        inner join \n",
    "            (select user_created, country_tnc_legal from dbt.zrh_users) u using (user_created)\n",
    "        inner join \n",
    "            (select user_id, early_cluster from dwh_earlycluster_labels order by random() limit 50000) ec using (user_id)\n",
    "        inner join \n",
    "            (select user_created, product_id from dbt.zrh_user_product where enter_reason = 'SIGNUP') fp using (user_created)\n",
    "        where \n",
    "            1=1\n",
    "            and u.user_created < '2020-07-01'\n",
    "            and feature in (\n",
    "                'amount_cents_act_total',\n",
    "                'amount_cents_ct',\n",
    "                'n_act_total',\n",
    "                'n_ct',\n",
    "                'n_cash',\n",
    "                'n_mobile',\n",
    "                'n_spaces',\n",
    "                'n_grocery_market',\n",
    "                'n_intra',\n",
    "                'n_inter',\n",
    "                'dau_login',\n",
    "                'dau_login_txn',\n",
    "                'dau_txn'\n",
    "            )\n",
    "    )\n",
    "    select \n",
    "        user_created,\n",
    "        user_id,\n",
    "        country_tnc_legal,\n",
    "        product_id,\n",
    "        ft_mau_date,\n",
    "        datediff,\n",
    "        feature,\n",
    "        early_cluster,\n",
    "        case \n",
    "            when split_part(feature,'_',1) = 'amount' then cumulative_value/100::int\n",
    "            else cumulative_value\n",
    "        end as cumulative_value,\n",
    "        case \n",
    "            when split_part(feature,'_',1) = 'amount' then cumulative_value/100::int\n",
    "            else value\n",
    "        end as value\n",
    "    from \n",
    "        main\n",
    "\"\"\""
   ],
   "outputs": [],
   "metadata": {}
  },
  {
   "cell_type": "code",
   "execution_count": null,
   "source": [
    "df = df_from_sql(\"redshiftreader\", query)"
   ],
   "outputs": [],
   "metadata": {}
  },
  {
   "cell_type": "code",
   "execution_count": null,
   "source": [
    "df = df.replace(\n",
    "    {\n",
    "        \"E1\": \"E01\",\n",
    "        \"E2\": \"E02\",\n",
    "        \"E3\": \"E03\",\n",
    "        \"E4\": \"E04\",\n",
    "        \"E5\": \"E05\",\n",
    "        \"E6\": \"E06\",\n",
    "        \"E7\": \"E07\",\n",
    "        \"E8\": \"E08\",\n",
    "        \"E9\": \"E09\",\n",
    "    }\n",
    ")\n",
    "\n",
    "df = df.sort_values(by=[\"early_cluster\", \"user_created\", \"datediff\"]).reset_index()"
   ],
   "outputs": [],
   "metadata": {}
  },
  {
   "cell_type": "markdown",
   "source": [
    "**Sample size**"
   ],
   "metadata": {}
  },
  {
   "cell_type": "code",
   "execution_count": null,
   "source": [
    "df_plot = df[[\"user_id\", \"early_cluster\"]].loc[\n",
    "    (df[\"datediff\"] == \"1\") & (df[\"feature\"] == \"n_act_total\")\n",
    "]\n",
    "\n",
    "chart = (\n",
    "    alt.Chart(df_plot)\n",
    "    .mark_bar()\n",
    "    .encode(\n",
    "        x=alt.X(\n",
    "            \"early_cluster:N\", axis=alt.Axis(title=\"Early clusters\", labelAngle=-45)\n",
    "        ),\n",
    "        y=\"count()\",\n",
    "        color=\"early_cluster:N\",\n",
    "    )\n",
    "    .properties(height=300, width=600)\n",
    ")\n",
    "\n",
    "chart"
   ],
   "outputs": [],
   "metadata": {}
  },
  {
   "cell_type": "markdown",
   "source": [
    "**high activity clusters**\n",
    "\n",
    "Change datediff and feature in df_plot to plot the different features."
   ],
   "metadata": {}
  },
  {
   "cell_type": "code",
   "execution_count": null,
   "source": [
    "fig, ax = plt.subplots(figsize=(12, 6))\n",
    "\n",
    "df_plot = df.loc[\n",
    "    (df[\"datediff\"] == \"5\")\n",
    "    & (df[\"feature\"] == \"dau_login\")\n",
    "    & (df[\"early_cluster\"].isin([\"E01\", \"E02\", \"E03\", \"E04\", \"E05\", \"E06\", \"E12\"]))\n",
    "]\n",
    "\n",
    "sns.ecdfplot(\n",
    "    data=df_plot,\n",
    "    x=\"cumulative_value\",\n",
    "    hue=\"early_cluster\",\n",
    ").set_title(\n",
    "    \"Cumulative distributions of distinct login day counts in the first 5 weeks of activity\"\n",
    ")\n",
    "\n",
    "ax.set(xlim=(0, 40))"
   ],
   "outputs": [],
   "metadata": {}
  },
  {
   "cell_type": "markdown",
   "source": [
    "**low activity clusters**\n",
    "\n",
    "Change datediff and feature in df_plot to plot the different features."
   ],
   "metadata": {}
  },
  {
   "cell_type": "code",
   "execution_count": null,
   "source": [
    "fig, ax = plt.subplots(figsize=(12, 6))\n",
    "\n",
    "df_plot = df.loc[\n",
    "    (df[\"datediff\"] == \"5\")\n",
    "    & (df[\"feature\"] == \"dau_login\")\n",
    "    & (~df[\"early_cluster\"].isin([\"E01\", \"E02\", \"E03\", \"E04\", \"E05\", \"E06\", \"E12\"]))\n",
    "]\n",
    "\n",
    "sns.ecdfplot(\n",
    "    data=df_plot,\n",
    "    x=\"cumulative_value\",\n",
    "    hue=\"early_cluster\",\n",
    ").set_title(\n",
    "    \"Cumulative distributions of distinct login day counts in the first 5 weeks of activity\"\n",
    ")\n",
    "\n",
    "ax.set(xlim=(0, 40))"
   ],
   "outputs": [],
   "metadata": {}
  },
  {
   "cell_type": "markdown",
   "source": [
    "<br>\n",
    "<br>\n",
    "<br>\n",
    "\n",
    "# Early engagement by clusters, across the first 5 weeks of activity\n",
    "\n",
    "---"
   ],
   "metadata": {}
  },
  {
   "cell_type": "code",
   "execution_count": null,
   "source": [
    "query = \"\"\"\n",
    "with main as (\n",
    "    select \n",
    "        u.country_tnc_legal,\n",
    "        fp.product_id,\n",
    "        p.user_id,\n",
    "        p.ft_mau_date,\n",
    "        p.datediff,\n",
    "        p.feature,\n",
    "        cluster as early_cluster,\n",
    "        coalesce(p.value,0) as cumulative_value,\n",
    "        case \n",
    "            when datediff = 1 then coalesce(p.value,0)\n",
    "            else coalesce(p.value,0) - lag(coalesce(p.value,0)) over (partition by p.user_created, feature order by datediff asc)\n",
    "        end as value\n",
    "    from \n",
    "        dev_dbt.stg_churn_act_unpivot p \n",
    "    inner join \n",
    "        (select user_id, cluster from dev_dbt.earlyuserclusters_2020sept) ec using (user_id)\n",
    "    inner join \n",
    "        (select user_created, product_id from dbt.zrh_user_product where enter_reason = 'SIGNUP') fp using (user_created)\n",
    "    inner join \n",
    "        dbt.zrh_users u on u.user_created = p.user_created \n",
    "            and coalesce(closed_at, '2100-01-01') >= dateadd(month, 6, ft_mau_date)\n",
    "    where \n",
    "        1=1\n",
    "        -- p.ft_mau_date between '2019-04-01' and '2019-07-01'\n",
    "        -- and p.user_created >= '2019-01-01'\n",
    "        ---and country_tnc_legal in ('DEU','AUT','FRA','ITA','ESP')\n",
    "        -- and country_tnc_legal = 'FRA'\n",
    "        and fp.product_id in ('STANDARD')\n",
    "        and feature not ilike '%recency%'\n",
    "        and feature not ilike '%dau%'\n",
    ")\n",
    "\n",
    "select \n",
    "    country_tnc_legal,\n",
    "    product_id,\n",
    "    user_id,\n",
    "    ft_mau_date,\n",
    "    datediff,\n",
    "    feature,\n",
    "    early_cluster,\n",
    "    case when \n",
    "        split_part(feature,'_',1) = 'amount' then (cumulative_value/100)::int\n",
    "        else cumulative_value\n",
    "    end as cumulative_value,\n",
    "    case when \n",
    "        split_part(feature,'_',1) = 'amount' then (value/100)::int\n",
    "        else value\n",
    "    end as value\n",
    "from \n",
    "    main\n",
    "\n",
    "\"\"\""
   ],
   "outputs": [],
   "metadata": {}
  },
  {
   "cell_type": "code",
   "execution_count": null,
   "source": [
    "dfquery = df_from_sql(\"redshiftreader\", query)"
   ],
   "outputs": [],
   "metadata": {}
  },
  {
   "cell_type": "code",
   "execution_count": null,
   "source": [
    "df = dfquery.copy()"
   ],
   "outputs": [],
   "metadata": {}
  },
  {
   "cell_type": "code",
   "execution_count": null,
   "source": [
    "df[\"early_cluster\"] = df[\"early_cluster\"].replace(\n",
    "    {\n",
    "        \"E1\": \"E01\",\n",
    "        \"E2\": \"E02\",\n",
    "        \"E3\": \"E03\",\n",
    "        \"E4\": \"E04\",\n",
    "        \"E5\": \"E05\",\n",
    "        \"E6\": \"E06\",\n",
    "        \"E7\": \"E07\",\n",
    "        \"E8\": \"E08\",\n",
    "        \"E9\": \"E09\",\n",
    "    }\n",
    ")"
   ],
   "outputs": [],
   "metadata": {}
  },
  {
   "cell_type": "code",
   "execution_count": null,
   "source": [
    "df[\"active\"] = df[\"value\"].apply(lambda x: 1 if x > 0 else 0)\n",
    "df[\"cumulative_active\"] = df[\"cumulative_value\"].apply(lambda x: 1 if x > 0 else 0)"
   ],
   "outputs": [],
   "metadata": {}
  },
  {
   "cell_type": "markdown",
   "source": [
    "**Transaction data, facet charts for each cluster in each of the first 5 weeks of activity**\n",
    "\n",
    "Change feature in df to plot the different features."
   ],
   "metadata": {}
  },
  {
   "cell_type": "code",
   "execution_count": null,
   "source": [
    "df1 = df.loc[\n",
    "    df[\"feature\"] == \"n_act_total\",\n",
    "    ~df.columns.isin([\"user_id\", \"user_created\", \"ft_mau_date\"]),\n",
    "]\n",
    "\n",
    "alt.Chart(df1).transform_joinaggregate(\n",
    "    groupby=[\"early_cluster\", \"datediff\"],\n",
    "    TotalUsers=\"count(cumulative_active)\",\n",
    ").transform_calculate(\n",
    "    PercentageActive=\"datum.active / datum.TotalUsers\"\n",
    ").mark_bar().encode(\n",
    "    x=alt.X(\"datediff:Q\", axis=alt.Axis(title=\"Relative week after FT MAU\")),\n",
    "    y=alt.Y(\n",
    "        \"sum(PercentageActive):Q\", axis=alt.Axis(title=\"Percentage of active users\")\n",
    "    ),\n",
    "    color=\"early_cluster:N\",\n",
    ").properties(\n",
    "    width=150,\n",
    "    height=150,\n",
    ").facet(\n",
    "    facet=\"early_cluster:N\",\n",
    "    columns=5,\n",
    "    title=\"Percentage of users with at least 1 transaction\",\n",
    ")"
   ],
   "outputs": [],
   "metadata": {}
  },
  {
   "cell_type": "code",
   "execution_count": null,
   "source": [
    "df1 = df[\n",
    "    [\"datediff\", \"value\", \"value\", \"cumulative_value\", \"early_cluster\", \"feature\"]\n",
    "].loc[df[\"feature\"] == \"n_act_total\"]\n",
    "\n",
    "alt.Chart(df1.loc[df1[\"cumulative_value\"] >= 1]).mark_boxplot(outliers=False).encode(\n",
    "    x=alt.X(\n",
    "        \"datediff:Q\",\n",
    "        axis=alt.Axis(title=\"Relative week after first time MAU conversion\"),\n",
    "    ),\n",
    "    y=alt.Y(\"cumulative_value:Q\", axis=alt.Axis(title=\"Number of transactions\")),\n",
    "    color=\"early_cluster:N\",\n",
    ").properties(\n",
    "    width=150,\n",
    "    height=150,\n",
    ").facet(\n",
    "    facet=\"early_cluster:N\",\n",
    "    columns=5,\n",
    "    title=\"Number of transactions in the first 5 weeks of activity\",\n",
    ").configure_axis(\n",
    "    grid=False\n",
    ")"
   ],
   "outputs": [],
   "metadata": {}
  },
  {
   "cell_type": "markdown",
   "source": [
    "**Recency data, facet charts for each cluster in each of the first 5 weeks of activity**\n",
    "\n",
    "Change feature in df to plot the different features."
   ],
   "metadata": {}
  },
  {
   "cell_type": "code",
   "execution_count": null,
   "source": [
    "query = \"\"\"\n",
    "    select \n",
    "        u.country_tnc_legal,\n",
    "        fp.product_id,\n",
    "        p.user_id,\n",
    "        p.ft_mau_date,\n",
    "        p.datediff,\n",
    "        p.feature,\n",
    "        cluster as early_cluster,\n",
    "        coalesce(p.value,0) as value\n",
    "    from \n",
    "        dev_dbt.stg_churn_act_unpivot p \n",
    "    inner join \n",
    "        (select user_id, cluster from dev_dbt.earlyuserclusters_2020sept) ec using (user_id)\n",
    "    inner join \n",
    "        (select user_created, product_id from dbt.zrh_user_product where enter_reason = 'SIGNUP') fp using (user_created)\n",
    "    inner join \n",
    "        dbt.zrh_users u on u.user_created = p.user_created \n",
    "            and coalesce(closed_at, '2100-01-01') >= dateadd(month, 6, ft_mau_date)\n",
    "    where \n",
    "        1=1\n",
    "        and fp.product_id in ('STANDARD')\n",
    "        and (feature ilike '%recency%' or feature ilike '%dau%')\n",
    "\n",
    "\"\"\""
   ],
   "outputs": [],
   "metadata": {}
  },
  {
   "cell_type": "code",
   "execution_count": null,
   "source": [
    "dfquery = df_from_sql(\"redshiftreader\", query)"
   ],
   "outputs": [],
   "metadata": {}
  },
  {
   "cell_type": "code",
   "execution_count": null,
   "source": [
    "df = dfquery.copy()"
   ],
   "outputs": [],
   "metadata": {}
  },
  {
   "cell_type": "code",
   "execution_count": null,
   "source": [
    "df[\"early_cluster\"] = df[\"early_cluster\"].replace(\n",
    "    {\n",
    "        \"E1\": \"E01\",\n",
    "        \"E2\": \"E02\",\n",
    "        \"E3\": \"E03\",\n",
    "        \"E4\": \"E04\",\n",
    "        \"E5\": \"E05\",\n",
    "        \"E6\": \"E06\",\n",
    "        \"E7\": \"E07\",\n",
    "        \"E8\": \"E08\",\n",
    "        \"E9\": \"E09\",\n",
    "    }\n",
    ")"
   ],
   "outputs": [],
   "metadata": {}
  },
  {
   "cell_type": "code",
   "execution_count": null,
   "source": [
    "df1 = df[[\"datediff\", \"value\", \"early_cluster\", \"feature\"]].loc[\n",
    "    df[\"feature\"] == \"recency_txn\"\n",
    "]\n",
    "\n",
    "alt.Chart(df1.loc[df1[\"value\"] >= 1]).mark_boxplot(outliers=False).encode(\n",
    "    x=alt.X(\n",
    "        \"datediff:Q\",\n",
    "        axis=alt.Axis(title=\"Relative week after first time MAU conversion\"),\n",
    "    ),\n",
    "    y=alt.Y(\n",
    "        \"value:Q\",\n",
    "        axis=alt.Axis(title=\"Number of days\"),\n",
    "        scale=alt.Scale(domain=[0, 40]),\n",
    "    ),\n",
    "    color=\"early_cluster:N\",\n",
    ").properties(\n",
    "    width=150,\n",
    "    height=150,\n",
    ").facet(\n",
    "    facet=\"early_cluster:N\",\n",
    "    columns=5,\n",
    "    title=\"Number of days since last transaction, per activity week and cluster\",\n",
    ")"
   ],
   "outputs": [],
   "metadata": {}
  },
  {
   "cell_type": "markdown",
   "source": [
    "# Query for unbounded retention calculations\n",
    "\n",
    "---\n",
    "\n",
    "All visualisations were done in a [spreadsheet](https://docs.google.com/spreadsheets/d/1FWVsq9XvGkmlyQ11svdaybqUG3yU8xvqgW9T2sL70PQ/edit?usp=sharing)."
   ],
   "metadata": {}
  },
  {
   "cell_type": "code",
   "execution_count": null,
   "source": [
    "query = \"\"\"\n",
    "    with act as (\n",
    "        select \n",
    "            zu.user_created,\n",
    "            zu.user_id,\n",
    "            country,\n",
    "            first_product,\n",
    "            zu.ft_mau::date as ft_mau_date,\n",
    "            early_cluster,\n",
    "            m.max_l_date\n",
    "        from \n",
    "            (select user_created, user_id, ft_mau, country_tnc_legal as country from dbt.zrh_users) zu \n",
    "        inner join \n",
    "            (select user_created, product_id as first_product from dbt.zrh_user_product where enter_reason = 'SIGNUP') p using (user_created)\n",
    "        left join \n",
    "            (select user_created, max(txn_date) as max_l_date from dbt.zrh_txn_day_core where n_act_total > 0 group by 1) m using (user_created)\n",
    "        inner join \n",
    "            dwh_earlycluster_labels ec using (user_id)\t\n",
    "        where \n",
    "            country in ('DEU','AUT','FRA','ITA','ESP')\n",
    "            and ft_mau < current_date - interval '2 years'\n",
    "    )\n",
    "    select \n",
    "        early_cluster,\n",
    "        country,\n",
    "        first_product,\n",
    "        datediff(month, ft_mau_date, d.start_time) as relative_day,\n",
    "        count(act.user_created) as ft_mau,\n",
    "        sum(case when max_l_date >= d.start_time then 1 else 0 end) as unbounded_retention,\n",
    "        count(ua.user_created) as retention\n",
    "    from \n",
    "        dwh_cohort_months d\n",
    "    inner join \n",
    "        act on d.end_time between ft_mau_date and dateadd(month, 24, ft_mau_date)\n",
    "    left join \n",
    "        (select user_created, date_trunc('month', txn_date)::date as act_date from dbt.zrh_txn_day_core where n_act_total > 0 group by 1,2) ua \n",
    "            on act.user_created = ua.user_created \n",
    "                and d.start_time::date = ua.act_date::date\n",
    "    group by 1,2,3,4\n",
    "    order by 1,2,3,4\n",
    "\"\"\""
   ],
   "outputs": [],
   "metadata": {}
  },
  {
   "cell_type": "code",
   "execution_count": null,
   "source": [],
   "outputs": [],
   "metadata": {}
  },
  {
   "cell_type": "code",
   "execution_count": null,
   "source": [],
   "outputs": [],
   "metadata": {}
  },
  {
   "cell_type": "code",
   "execution_count": null,
   "source": [],
   "outputs": [],
   "metadata": {}
  }
 ],
 "metadata": {
  "kernelspec": {
   "display_name": "Python 3",
   "language": "python",
   "name": "python3"
  },
  "language_info": {
   "codemirror_mode": {
    "name": "ipython",
    "version": 3
   },
   "file_extension": ".py",
   "mimetype": "text/x-python",
   "name": "python",
   "nbconvert_exporter": "python",
   "pygments_lexer": "ipython3",
   "version": "3.8.6"
  }
 },
 "nbformat": 4,
 "nbformat_minor": 4
}