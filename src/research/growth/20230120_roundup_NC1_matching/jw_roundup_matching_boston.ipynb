{
 "cells": [
  {
   "cell_type": "markdown",
   "id": "3ae85626",
   "metadata": {},
   "source": [
    "title: Matching Studies - Roundup \n",
    "\n",
    "author: Jiawei Wang\n",
    "\n",
    "date: 2023-01-16\n",
    "\n",
    "region: EU\n",
    "\n",
    "link: https://docs.google.com/presentation/d/1y6n5Pgr7f-P6xL7t9SuA4_ClKFJYgDzwgItAq_iQOHQ/edit#slide=id.g1ca2c5884b2_0_87\n",
    "\n",
    "tags: roundup, matching, NC1, KNN, LogisticRegression, propensity score, linear regression, causal inference\n",
    "\n",
    "summary: This is the research for understanding the incremental NC1 a premium user brings by using roundup feature. It looks into premium users(choose a premium tier from KYCC) from Jan- May 2022. The studies compares the difference of users NC1 in 6 months between two groups: the users who ever used Roundup vs the users who never used Roundup. There are 4 different types of statistical/ML methods involved.  \n",
    "\n",
    "research_type:  user profitability, growth insights, features"
   ]
  },
  {
   "cell_type": "markdown",
   "id": "ea9944e5",
   "metadata": {},
   "source": [
    "### Table Prepping"
   ]
  },
  {
   "cell_type": "code",
   "execution_count": 1,
   "id": "48351082",
   "metadata": {},
   "outputs": [],
   "source": [
    "import utils\n",
    "import numpy as np\n",
    "import pandas as pd"
   ]
  },
  {
   "cell_type": "code",
   "execution_count": 10,
   "id": "6ba92024",
   "metadata": {},
   "outputs": [],
   "source": [
    "user = pd.read_csv(\"jw_roundup_matching_0105.csv\")"
   ]
  },
  {
   "cell_type": "code",
   "execution_count": 4,
   "id": "24b462e7",
   "metadata": {},
   "outputs": [],
   "source": [
    "rev1 = pd.read_csv(\"roundup_matching_rev1_clean.csv\")"
   ]
  },
  {
   "cell_type": "code",
   "execution_count": 5,
   "id": "e835d6e3",
   "metadata": {},
   "outputs": [],
   "source": [
    "rev2 = pd.read_csv(\"roundup_matching_rev2_1_clean.csv\")"
   ]
  },
  {
   "cell_type": "code",
   "execution_count": 6,
   "id": "ade85167",
   "metadata": {},
   "outputs": [],
   "source": [
    "rev3 = pd.read_csv(\"roundup_matching_rev2_2_clean.csv\")"
   ]
  },
  {
   "cell_type": "code",
   "execution_count": 12,
   "id": "528feb9b",
   "metadata": {},
   "outputs": [],
   "source": [
    "tot_rev1 = pd.concat([rev1, rev2], ignore_index=True)"
   ]
  },
  {
   "cell_type": "code",
   "execution_count": 13,
   "id": "fe69c621",
   "metadata": {},
   "outputs": [],
   "source": [
    "tot_rev2 = pd.concat([tot_rev1, rev3], ignore_index=True)"
   ]
  },
  {
   "cell_type": "code",
   "execution_count": 14,
   "id": "a67f6a82",
   "metadata": {},
   "outputs": [],
   "source": [
    "tot_rev2[\"month\"] = tot_rev2[\"month\"].astype(str)\n",
    "tot_rev2[\"month\"] = tot_rev2[\"month\"].str.strip()"
   ]
  },
  {
   "cell_type": "code",
   "execution_count": 15,
   "id": "6a4498fd",
   "metadata": {},
   "outputs": [],
   "source": [
    "user_rev_all = user.merge(\n",
    "    tot_rev2,\n",
    "    how=\"left\",\n",
    "    left_on=[\"user_created\", \"rev_mos\"],\n",
    "    right_on=[\"user_created\", \"month\"],\n",
    ")"
   ]
  },
  {
   "cell_type": "code",
   "execution_count": 17,
   "id": "4b7e1d44",
   "metadata": {},
   "outputs": [],
   "source": [
    "user_rev_all = user_rev_all.drop([\"rest\"], axis=1)"
   ]
  },
  {
   "cell_type": "code",
   "execution_count": null,
   "id": "a58ec790",
   "metadata": {},
   "outputs": [],
   "source": []
  },
  {
   "cell_type": "markdown",
   "id": "df5ed9ec",
   "metadata": {},
   "source": [
    "### Table Cleaning"
   ]
  },
  {
   "cell_type": "code",
   "execution_count": 18,
   "id": "49558d30",
   "metadata": {
    "scrolled": true
   },
   "outputs": [
    {
     "data": {
      "text/html": [
       "<div>\n",
       "<style scoped>\n",
       "    .dataframe tbody tr th:only-of-type {\n",
       "        vertical-align: middle;\n",
       "    }\n",
       "\n",
       "    .dataframe tbody tr th {\n",
       "        vertical-align: top;\n",
       "    }\n",
       "\n",
       "    .dataframe thead th {\n",
       "        text-align: right;\n",
       "    }\n",
       "</style>\n",
       "<table border=\"1\" class=\"dataframe\">\n",
       "  <thead>\n",
       "    <tr style=\"text-align: right;\">\n",
       "      <th></th>\n",
       "      <th>mos_to_kycc</th>\n",
       "      <th>round_up</th>\n",
       "      <th>n_in</th>\n",
       "      <th>n_out</th>\n",
       "      <th>avg_out_amount</th>\n",
       "      <th>avg_in_amount</th>\n",
       "      <th>pri_balance</th>\n",
       "      <th>net_rev1</th>\n",
       "    </tr>\n",
       "  </thead>\n",
       "  <tbody>\n",
       "    <tr>\n",
       "      <th>count</th>\n",
       "      <td>21432.000000</td>\n",
       "      <td>21432.000000</td>\n",
       "      <td>21420.000000</td>\n",
       "      <td>21420.000000</td>\n",
       "      <td>21420.000000</td>\n",
       "      <td>21420.000000</td>\n",
       "      <td>21432.000000</td>\n",
       "      <td>19196.000000</td>\n",
       "    </tr>\n",
       "    <tr>\n",
       "      <th>mean</th>\n",
       "      <td>7.904255</td>\n",
       "      <td>0.170726</td>\n",
       "      <td>3.000420</td>\n",
       "      <td>22.840430</td>\n",
       "      <td>156.302206</td>\n",
       "      <td>982.072879</td>\n",
       "      <td>304.376200</td>\n",
       "      <td>12.700583</td>\n",
       "    </tr>\n",
       "    <tr>\n",
       "      <th>std</th>\n",
       "      <td>1.371220</td>\n",
       "      <td>0.376278</td>\n",
       "      <td>3.693173</td>\n",
       "      <td>21.599905</td>\n",
       "      <td>869.854906</td>\n",
       "      <td>2656.219973</td>\n",
       "      <td>1421.604624</td>\n",
       "      <td>30.279749</td>\n",
       "    </tr>\n",
       "    <tr>\n",
       "      <th>min</th>\n",
       "      <td>6.000000</td>\n",
       "      <td>0.000000</td>\n",
       "      <td>0.000000</td>\n",
       "      <td>0.000000</td>\n",
       "      <td>0.000000</td>\n",
       "      <td>4.083862</td>\n",
       "      <td>-1571.790000</td>\n",
       "      <td>-1092.720000</td>\n",
       "    </tr>\n",
       "    <tr>\n",
       "      <th>25%</th>\n",
       "      <td>7.000000</td>\n",
       "      <td>0.000000</td>\n",
       "      <td>1.000000</td>\n",
       "      <td>6.000000</td>\n",
       "      <td>32.894295</td>\n",
       "      <td>212.993150</td>\n",
       "      <td>2.008125</td>\n",
       "      <td>4.490000</td>\n",
       "    </tr>\n",
       "    <tr>\n",
       "      <th>50%</th>\n",
       "      <td>8.000000</td>\n",
       "      <td>0.000000</td>\n",
       "      <td>2.000000</td>\n",
       "      <td>17.000000</td>\n",
       "      <td>57.220701</td>\n",
       "      <td>465.607599</td>\n",
       "      <td>29.542321</td>\n",
       "      <td>8.450000</td>\n",
       "    </tr>\n",
       "    <tr>\n",
       "      <th>75%</th>\n",
       "      <td>9.000000</td>\n",
       "      <td>0.000000</td>\n",
       "      <td>4.000000</td>\n",
       "      <td>33.000000</td>\n",
       "      <td>113.095388</td>\n",
       "      <td>1003.723289</td>\n",
       "      <td>170.034375</td>\n",
       "      <td>15.150000</td>\n",
       "    </tr>\n",
       "    <tr>\n",
       "      <th>max</th>\n",
       "      <td>10.000000</td>\n",
       "      <td>1.000000</td>\n",
       "      <td>89.000000</td>\n",
       "      <td>409.000000</td>\n",
       "      <td>66174.792857</td>\n",
       "      <td>174396.256667</td>\n",
       "      <td>89242.643333</td>\n",
       "      <td>920.410000</td>\n",
       "    </tr>\n",
       "  </tbody>\n",
       "</table>\n",
       "</div>"
      ],
      "text/plain": [
       "        mos_to_kycc      round_up          n_in         n_out  avg_out_amount  \\\n",
       "count  21432.000000  21432.000000  21420.000000  21420.000000    21420.000000   \n",
       "mean       7.904255      0.170726      3.000420     22.840430      156.302206   \n",
       "std        1.371220      0.376278      3.693173     21.599905      869.854906   \n",
       "min        6.000000      0.000000      0.000000      0.000000        0.000000   \n",
       "25%        7.000000      0.000000      1.000000      6.000000       32.894295   \n",
       "50%        8.000000      0.000000      2.000000     17.000000       57.220701   \n",
       "75%        9.000000      0.000000      4.000000     33.000000      113.095388   \n",
       "max       10.000000      1.000000     89.000000    409.000000    66174.792857   \n",
       "\n",
       "       avg_in_amount   pri_balance      net_rev1  \n",
       "count   21420.000000  21432.000000  19196.000000  \n",
       "mean      982.072879    304.376200     12.700583  \n",
       "std      2656.219973   1421.604624     30.279749  \n",
       "min         4.083862  -1571.790000  -1092.720000  \n",
       "25%       212.993150      2.008125      4.490000  \n",
       "50%       465.607599     29.542321      8.450000  \n",
       "75%      1003.723289    170.034375     15.150000  \n",
       "max    174396.256667  89242.643333    920.410000  "
      ]
     },
     "execution_count": 18,
     "metadata": {},
     "output_type": "execute_result"
    }
   ],
   "source": [
    "user_rev_all.describe()"
   ]
  },
  {
   "cell_type": "code",
   "execution_count": 20,
   "id": "7e65dda4",
   "metadata": {},
   "outputs": [
    {
     "data": {
      "text/plain": [
       "user_created            0\n",
       "mos_to_kycc             0\n",
       "country_tnc_legal       0\n",
       "tier                    0\n",
       "rev_mos                 0\n",
       "round_up                0\n",
       "n_in                   12\n",
       "n_out                  12\n",
       "avg_out_amount         12\n",
       "avg_in_amount          12\n",
       "pri_balance             0\n",
       "month                2236\n",
       "net_rev1             2236\n",
       "dtype: int64"
      ]
     },
     "execution_count": 20,
     "metadata": {},
     "output_type": "execute_result"
    }
   ],
   "source": [
    "pd.isnull(user_rev_all).sum()"
   ]
  },
  {
   "cell_type": "code",
   "execution_count": 21,
   "id": "a4c69fb3",
   "metadata": {},
   "outputs": [],
   "source": [
    "# Dropping entries without revenue info\n",
    "\n",
    "df = user_rev_all.dropna(subset=[\"net_rev1\"], how=\"all\")"
   ]
  },
  {
   "cell_type": "code",
   "execution_count": 22,
   "id": "8006872d",
   "metadata": {},
   "outputs": [],
   "source": [
    "df = df.drop(columns=[\"rev_mos\", \"month\"])"
   ]
  },
  {
   "cell_type": "code",
   "execution_count": 23,
   "id": "c671f11e",
   "metadata": {},
   "outputs": [],
   "source": [
    "# fill the missing values with 0\n",
    "df = df.fillna(0)"
   ]
  },
  {
   "cell_type": "code",
   "execution_count": 24,
   "id": "04a1055b",
   "metadata": {},
   "outputs": [
    {
     "data": {
      "text/plain": [
       "user_created         0\n",
       "mos_to_kycc          0\n",
       "country_tnc_legal    0\n",
       "tier                 0\n",
       "round_up             0\n",
       "n_in                 0\n",
       "n_out                0\n",
       "avg_out_amount       0\n",
       "avg_in_amount        0\n",
       "pri_balance          0\n",
       "net_rev1             0\n",
       "dtype: int64"
      ]
     },
     "execution_count": 24,
     "metadata": {},
     "output_type": "execute_result"
    }
   ],
   "source": [
    "pd.isnull(df).sum()"
   ]
  },
  {
   "cell_type": "code",
   "execution_count": 26,
   "id": "4b155d62",
   "metadata": {},
   "outputs": [
    {
     "data": {
      "text/plain": [
       "800"
      ]
     },
     "execution_count": 26,
     "metadata": {},
     "output_type": "execute_result"
    }
   ],
   "source": [
    "# Cleaning outliners in NC1 data\n",
    "len(df[(df[\"net_rev1\"] >= 50)])"
   ]
  },
  {
   "cell_type": "code",
   "execution_count": 27,
   "id": "2c9aad51",
   "metadata": {},
   "outputs": [
    {
     "data": {
      "text/plain": [
       "344"
      ]
     },
     "execution_count": 27,
     "metadata": {},
     "output_type": "execute_result"
    }
   ],
   "source": [
    "# Cleaning outliners in NC1 data\n",
    "len(df[(df[\"net_rev1\"] <= -20)])"
   ]
  },
  {
   "cell_type": "code",
   "execution_count": 28,
   "id": "1a796c29",
   "metadata": {},
   "outputs": [],
   "source": [
    "df.loc[df[\"net_rev1\"] <= -20, \"net_rev1\"] = -20"
   ]
  },
  {
   "cell_type": "code",
   "execution_count": 29,
   "id": "610f8033",
   "metadata": {},
   "outputs": [],
   "source": [
    "df.loc[df[\"net_rev1\"] >= 50, \"net_rev1\"] = 50"
   ]
  },
  {
   "cell_type": "code",
   "execution_count": 30,
   "id": "09c690a8",
   "metadata": {
    "scrolled": true
   },
   "outputs": [
    {
     "data": {
      "text/plain": [
       "<AxesSubplot:>"
      ]
     },
     "execution_count": 30,
     "metadata": {},
     "output_type": "execute_result"
    },
    {
     "data": {
      "image/png": "[encoded data removed]",
      "text/plain": [
       "<Figure size 432x288 with 1 Axes>"
      ]
     },
     "metadata": {
      "needs_background": "light"
     },
     "output_type": "display_data"
    }
   ],
   "source": [
    "df.query(\"round_up==1\")[\"net_rev1\"].hist()"
   ]
  },
  {
   "cell_type": "code",
   "execution_count": 31,
   "id": "ecb501d8",
   "metadata": {
    "scrolled": false
   },
   "outputs": [
    {
     "data": {
      "text/plain": [
       "<AxesSubplot:>"
      ]
     },
     "execution_count": 31,
     "metadata": {},
     "output_type": "execute_result"
    },
    {
     "data": {
      "image/png": "[encoded data removed]",
      "text/plain": [
       "<Figure size 432x288 with 1 Axes>"
      ]
     },
     "metadata": {
      "needs_background": "light"
     },
     "output_type": "display_data"
    }
   ],
   "source": [
    "df.query(\"round_up==0\")[\"net_rev1\"].hist()"
   ]
  },
  {
   "cell_type": "code",
   "execution_count": null,
   "id": "ad63c333",
   "metadata": {},
   "outputs": [],
   "source": []
  },
  {
   "cell_type": "code",
   "execution_count": 33,
   "id": "6929c98f",
   "metadata": {},
   "outputs": [
    {
     "data": {
      "image/png": "[encoded data removed]",
      "text/plain": [
       "<Figure size 432x288 with 1 Axes>"
      ]
     },
     "metadata": {
      "needs_background": "light"
     },
     "output_type": "display_data"
    }
   ],
   "source": [
    "import matplotlib.pyplot as plt\n",
    "\n",
    "plt.hist(df[\"net_rev1\"], bins=60, alpha=0.3, label=\"All\")\n",
    "plt.hist(\n",
    "    df.query(\"round_up==0\")[\"net_rev1\"],\n",
    "    bins=60,\n",
    "    alpha=0.3,\n",
    "    label=\"No Roundup\",\n",
    "    color=\"C2\",\n",
    ")\n",
    "plt.hist(\n",
    "    df.query(\"round_up==1\")[\"net_rev1\"], bins=60, alpha=0.3, label=\"Roundup\", color=\"C3\"\n",
    ")\n",
    "plt.legend();"
   ]
  },
  {
   "cell_type": "code",
   "execution_count": 34,
   "id": "fdd6938b",
   "metadata": {
    "scrolled": false
   },
   "outputs": [
    {
     "data": {
      "text/html": [
       "<div>\n",
       "<style scoped>\n",
       "    .dataframe tbody tr th:only-of-type {\n",
       "        vertical-align: middle;\n",
       "    }\n",
       "\n",
       "    .dataframe tbody tr th {\n",
       "        vertical-align: top;\n",
       "    }\n",
       "\n",
       "    .dataframe thead th {\n",
       "        text-align: right;\n",
       "    }\n",
       "</style>\n",
       "<table border=\"1\" class=\"dataframe\">\n",
       "  <thead>\n",
       "    <tr style=\"text-align: right;\">\n",
       "      <th></th>\n",
       "      <th>count</th>\n",
       "      <th>mean</th>\n",
       "      <th>std</th>\n",
       "      <th>min</th>\n",
       "      <th>25%</th>\n",
       "      <th>50%</th>\n",
       "      <th>75%</th>\n",
       "      <th>max</th>\n",
       "    </tr>\n",
       "    <tr>\n",
       "      <th>country_tnc_legal</th>\n",
       "      <th></th>\n",
       "      <th></th>\n",
       "      <th></th>\n",
       "      <th></th>\n",
       "      <th></th>\n",
       "      <th></th>\n",
       "      <th></th>\n",
       "      <th></th>\n",
       "    </tr>\n",
       "  </thead>\n",
       "  <tbody>\n",
       "    <tr>\n",
       "      <th>AUT</th>\n",
       "      <td>814.0</td>\n",
       "      <td>13.064914</td>\n",
       "      <td>14.045878</td>\n",
       "      <td>-20.0</td>\n",
       "      <td>4.84</td>\n",
       "      <td>9.59</td>\n",
       "      <td>17.605</td>\n",
       "      <td>50.0</td>\n",
       "    </tr>\n",
       "    <tr>\n",
       "      <th>DEU</th>\n",
       "      <td>9297.0</td>\n",
       "      <td>11.854130</td>\n",
       "      <td>13.743351</td>\n",
       "      <td>-20.0</td>\n",
       "      <td>4.53</td>\n",
       "      <td>8.32</td>\n",
       "      <td>15.720</td>\n",
       "      <td>50.0</td>\n",
       "    </tr>\n",
       "    <tr>\n",
       "      <th>ESP</th>\n",
       "      <td>1677.0</td>\n",
       "      <td>10.791777</td>\n",
       "      <td>12.977608</td>\n",
       "      <td>-20.0</td>\n",
       "      <td>4.18</td>\n",
       "      <td>8.02</td>\n",
       "      <td>14.750</td>\n",
       "      <td>50.0</td>\n",
       "    </tr>\n",
       "    <tr>\n",
       "      <th>FRA</th>\n",
       "      <td>7408.0</td>\n",
       "      <td>11.104993</td>\n",
       "      <td>12.719815</td>\n",
       "      <td>-20.0</td>\n",
       "      <td>4.48</td>\n",
       "      <td>8.49</td>\n",
       "      <td>14.470</td>\n",
       "      <td>50.0</td>\n",
       "    </tr>\n",
       "  </tbody>\n",
       "</table>\n",
       "</div>"
      ],
      "text/plain": [
       "                    count       mean        std   min   25%   50%     75%  \\\n",
       "country_tnc_legal                                                           \n",
       "AUT                 814.0  13.064914  14.045878 -20.0  4.84  9.59  17.605   \n",
       "DEU                9297.0  11.854130  13.743351 -20.0  4.53  8.32  15.720   \n",
       "ESP                1677.0  10.791777  12.977608 -20.0  4.18  8.02  14.750   \n",
       "FRA                7408.0  11.104993  12.719815 -20.0  4.48  8.49  14.470   \n",
       "\n",
       "                    max  \n",
       "country_tnc_legal        \n",
       "AUT                50.0  \n",
       "DEU                50.0  \n",
       "ESP                50.0  \n",
       "FRA                50.0  "
      ]
     },
     "execution_count": 34,
     "metadata": {},
     "output_type": "execute_result"
    }
   ],
   "source": [
    "df.groupby([\"country_tnc_legal\"])[\"net_rev1\"].describe()"
   ]
  },
  {
   "cell_type": "code",
   "execution_count": 35,
   "id": "07f0ab21",
   "metadata": {
    "scrolled": false
   },
   "outputs": [
    {
     "data": {
      "text/html": [
       "<div>\n",
       "<style scoped>\n",
       "    .dataframe tbody tr th:only-of-type {\n",
       "        vertical-align: middle;\n",
       "    }\n",
       "\n",
       "    .dataframe tbody tr th {\n",
       "        vertical-align: top;\n",
       "    }\n",
       "\n",
       "    .dataframe thead th {\n",
       "        text-align: right;\n",
       "    }\n",
       "</style>\n",
       "<table border=\"1\" class=\"dataframe\">\n",
       "  <thead>\n",
       "    <tr style=\"text-align: right;\">\n",
       "      <th></th>\n",
       "      <th>count</th>\n",
       "      <th>mean</th>\n",
       "      <th>std</th>\n",
       "      <th>min</th>\n",
       "      <th>25%</th>\n",
       "      <th>50%</th>\n",
       "      <th>75%</th>\n",
       "      <th>max</th>\n",
       "    </tr>\n",
       "    <tr>\n",
       "      <th>tier</th>\n",
       "      <th></th>\n",
       "      <th></th>\n",
       "      <th></th>\n",
       "      <th></th>\n",
       "      <th></th>\n",
       "      <th></th>\n",
       "      <th></th>\n",
       "      <th></th>\n",
       "    </tr>\n",
       "  </thead>\n",
       "  <tbody>\n",
       "    <tr>\n",
       "      <th>METAL</th>\n",
       "      <td>4421.0</td>\n",
       "      <td>17.469778</td>\n",
       "      <td>15.775637</td>\n",
       "      <td>-20.0</td>\n",
       "      <td>10.45</td>\n",
       "      <td>14.320</td>\n",
       "      <td>24.13</td>\n",
       "      <td>50.0</td>\n",
       "    </tr>\n",
       "    <tr>\n",
       "      <th>SMART</th>\n",
       "      <td>11607.0</td>\n",
       "      <td>8.835686</td>\n",
       "      <td>11.531942</td>\n",
       "      <td>-20.0</td>\n",
       "      <td>3.90</td>\n",
       "      <td>5.470</td>\n",
       "      <td>11.17</td>\n",
       "      <td>50.0</td>\n",
       "    </tr>\n",
       "    <tr>\n",
       "      <th>YOU</th>\n",
       "      <td>3168.0</td>\n",
       "      <td>13.073419</td>\n",
       "      <td>12.700158</td>\n",
       "      <td>-20.0</td>\n",
       "      <td>7.18</td>\n",
       "      <td>9.465</td>\n",
       "      <td>16.20</td>\n",
       "      <td>50.0</td>\n",
       "    </tr>\n",
       "  </tbody>\n",
       "</table>\n",
       "</div>"
      ],
      "text/plain": [
       "         count       mean        std   min    25%     50%    75%   max\n",
       "tier                                                                  \n",
       "METAL   4421.0  17.469778  15.775637 -20.0  10.45  14.320  24.13  50.0\n",
       "SMART  11607.0   8.835686  11.531942 -20.0   3.90   5.470  11.17  50.0\n",
       "YOU     3168.0  13.073419  12.700158 -20.0   7.18   9.465  16.20  50.0"
      ]
     },
     "execution_count": 35,
     "metadata": {},
     "output_type": "execute_result"
    }
   ],
   "source": [
    "df.groupby([\"tier\"])[\"net_rev1\"].describe()"
   ]
  },
  {
   "cell_type": "code",
   "execution_count": 36,
   "id": "ad72a097",
   "metadata": {
    "scrolled": true
   },
   "outputs": [
    {
     "data": {
      "text/html": [
       "<div>\n",
       "<style scoped>\n",
       "    .dataframe tbody tr th:only-of-type {\n",
       "        vertical-align: middle;\n",
       "    }\n",
       "\n",
       "    .dataframe tbody tr th {\n",
       "        vertical-align: top;\n",
       "    }\n",
       "\n",
       "    .dataframe thead th {\n",
       "        text-align: right;\n",
       "    }\n",
       "</style>\n",
       "<table border=\"1\" class=\"dataframe\">\n",
       "  <thead>\n",
       "    <tr style=\"text-align: right;\">\n",
       "      <th></th>\n",
       "      <th></th>\n",
       "      <th>count</th>\n",
       "      <th>mean</th>\n",
       "      <th>std</th>\n",
       "      <th>min</th>\n",
       "      <th>25%</th>\n",
       "      <th>50%</th>\n",
       "      <th>75%</th>\n",
       "      <th>max</th>\n",
       "    </tr>\n",
       "    <tr>\n",
       "      <th>tier</th>\n",
       "      <th>country_tnc_legal</th>\n",
       "      <th></th>\n",
       "      <th></th>\n",
       "      <th></th>\n",
       "      <th></th>\n",
       "      <th></th>\n",
       "      <th></th>\n",
       "      <th></th>\n",
       "      <th></th>\n",
       "    </tr>\n",
       "  </thead>\n",
       "  <tbody>\n",
       "    <tr>\n",
       "      <th rowspan=\"4\" valign=\"top\">METAL</th>\n",
       "      <th>AUT</th>\n",
       "      <td>203.0</td>\n",
       "      <td>17.701970</td>\n",
       "      <td>17.029112</td>\n",
       "      <td>-20.0</td>\n",
       "      <td>11.0000</td>\n",
       "      <td>14.550</td>\n",
       "      <td>25.7500</td>\n",
       "      <td>50.0</td>\n",
       "    </tr>\n",
       "    <tr>\n",
       "      <th>DEU</th>\n",
       "      <td>1553.0</td>\n",
       "      <td>18.594231</td>\n",
       "      <td>16.699535</td>\n",
       "      <td>-20.0</td>\n",
       "      <td>10.4900</td>\n",
       "      <td>14.900</td>\n",
       "      <td>26.3400</td>\n",
       "      <td>50.0</td>\n",
       "    </tr>\n",
       "    <tr>\n",
       "      <th>ESP</th>\n",
       "      <td>375.0</td>\n",
       "      <td>15.857787</td>\n",
       "      <td>14.819085</td>\n",
       "      <td>-20.0</td>\n",
       "      <td>10.4050</td>\n",
       "      <td>13.640</td>\n",
       "      <td>21.5150</td>\n",
       "      <td>50.0</td>\n",
       "    </tr>\n",
       "    <tr>\n",
       "      <th>FRA</th>\n",
       "      <td>2290.0</td>\n",
       "      <td>16.950603</td>\n",
       "      <td>15.114514</td>\n",
       "      <td>-20.0</td>\n",
       "      <td>10.4500</td>\n",
       "      <td>13.995</td>\n",
       "      <td>22.7375</td>\n",
       "      <td>50.0</td>\n",
       "    </tr>\n",
       "    <tr>\n",
       "      <th rowspan=\"4\" valign=\"top\">SMART</th>\n",
       "      <th>AUT</th>\n",
       "      <td>489.0</td>\n",
       "      <td>10.142434</td>\n",
       "      <td>11.737596</td>\n",
       "      <td>-20.0</td>\n",
       "      <td>4.2300</td>\n",
       "      <td>6.030</td>\n",
       "      <td>12.0000</td>\n",
       "      <td>50.0</td>\n",
       "    </tr>\n",
       "    <tr>\n",
       "      <th>DEU</th>\n",
       "      <td>6293.0</td>\n",
       "      <td>9.723517</td>\n",
       "      <td>12.312778</td>\n",
       "      <td>-20.0</td>\n",
       "      <td>4.0300</td>\n",
       "      <td>6.120</td>\n",
       "      <td>12.3300</td>\n",
       "      <td>50.0</td>\n",
       "    </tr>\n",
       "    <tr>\n",
       "      <th>ESP</th>\n",
       "      <td>991.0</td>\n",
       "      <td>8.338910</td>\n",
       "      <td>11.682680</td>\n",
       "      <td>-20.0</td>\n",
       "      <td>3.6350</td>\n",
       "      <td>5.030</td>\n",
       "      <td>11.0150</td>\n",
       "      <td>50.0</td>\n",
       "    </tr>\n",
       "    <tr>\n",
       "      <th>FRA</th>\n",
       "      <td>3834.0</td>\n",
       "      <td>7.340170</td>\n",
       "      <td>9.859023</td>\n",
       "      <td>-20.0</td>\n",
       "      <td>3.7500</td>\n",
       "      <td>4.920</td>\n",
       "      <td>9.1375</td>\n",
       "      <td>50.0</td>\n",
       "    </tr>\n",
       "    <tr>\n",
       "      <th rowspan=\"4\" valign=\"top\">YOU</th>\n",
       "      <th>AUT</th>\n",
       "      <td>122.0</td>\n",
       "      <td>17.063033</td>\n",
       "      <td>14.110547</td>\n",
       "      <td>-20.0</td>\n",
       "      <td>8.7925</td>\n",
       "      <td>11.910</td>\n",
       "      <td>21.1725</td>\n",
       "      <td>50.0</td>\n",
       "    </tr>\n",
       "    <tr>\n",
       "      <th>DEU</th>\n",
       "      <td>1451.0</td>\n",
       "      <td>13.880717</td>\n",
       "      <td>13.494302</td>\n",
       "      <td>-20.0</td>\n",
       "      <td>7.2950</td>\n",
       "      <td>10.260</td>\n",
       "      <td>17.5950</td>\n",
       "      <td>50.0</td>\n",
       "    </tr>\n",
       "    <tr>\n",
       "      <th>ESP</th>\n",
       "      <td>311.0</td>\n",
       "      <td>12.499293</td>\n",
       "      <td>12.511058</td>\n",
       "      <td>-20.0</td>\n",
       "      <td>6.9600</td>\n",
       "      <td>9.120</td>\n",
       "      <td>15.1650</td>\n",
       "      <td>50.0</td>\n",
       "    </tr>\n",
       "    <tr>\n",
       "      <th>FRA</th>\n",
       "      <td>1284.0</td>\n",
       "      <td>11.921106</td>\n",
       "      <td>11.492939</td>\n",
       "      <td>-20.0</td>\n",
       "      <td>7.0375</td>\n",
       "      <td>8.960</td>\n",
       "      <td>13.8800</td>\n",
       "      <td>50.0</td>\n",
       "    </tr>\n",
       "  </tbody>\n",
       "</table>\n",
       "</div>"
      ],
      "text/plain": [
       "                          count       mean        std   min      25%     50%  \\\n",
       "tier  country_tnc_legal                                                        \n",
       "METAL AUT                 203.0  17.701970  17.029112 -20.0  11.0000  14.550   \n",
       "      DEU                1553.0  18.594231  16.699535 -20.0  10.4900  14.900   \n",
       "      ESP                 375.0  15.857787  14.819085 -20.0  10.4050  13.640   \n",
       "      FRA                2290.0  16.950603  15.114514 -20.0  10.4500  13.995   \n",
       "SMART AUT                 489.0  10.142434  11.737596 -20.0   4.2300   6.030   \n",
       "      DEU                6293.0   9.723517  12.312778 -20.0   4.0300   6.120   \n",
       "      ESP                 991.0   8.338910  11.682680 -20.0   3.6350   5.030   \n",
       "      FRA                3834.0   7.340170   9.859023 -20.0   3.7500   4.920   \n",
       "YOU   AUT                 122.0  17.063033  14.110547 -20.0   8.7925  11.910   \n",
       "      DEU                1451.0  13.880717  13.494302 -20.0   7.2950  10.260   \n",
       "      ESP                 311.0  12.499293  12.511058 -20.0   6.9600   9.120   \n",
       "      FRA                1284.0  11.921106  11.492939 -20.0   7.0375   8.960   \n",
       "\n",
       "                             75%   max  \n",
       "tier  country_tnc_legal                 \n",
       "METAL AUT                25.7500  50.0  \n",
       "      DEU                26.3400  50.0  \n",
       "      ESP                21.5150  50.0  \n",
       "      FRA                22.7375  50.0  \n",
       "SMART AUT                12.0000  50.0  \n",
       "      DEU                12.3300  50.0  \n",
       "      ESP                11.0150  50.0  \n",
       "      FRA                 9.1375  50.0  \n",
       "YOU   AUT                21.1725  50.0  \n",
       "      DEU                17.5950  50.0  \n",
       "      ESP                15.1650  50.0  \n",
       "      FRA                13.8800  50.0  "
      ]
     },
     "execution_count": 36,
     "metadata": {},
     "output_type": "execute_result"
    }
   ],
   "source": [
    "df.groupby([\"tier\", \"country_tnc_legal\"])[\"net_rev1\"].describe()"
   ]
  },
  {
   "cell_type": "code",
   "execution_count": 37,
   "id": "7083e393",
   "metadata": {},
   "outputs": [],
   "source": [
    "df_metal = df.loc[df[\"tier\"] == \"METAL\"]\n",
    "df_smart = df.loc[df[\"tier\"] == \"SMART\"]\n",
    "df_you = df.loc[df[\"tier\"] == \"YOU\"]"
   ]
  },
  {
   "cell_type": "code",
   "execution_count": 38,
   "id": "945e650f",
   "metadata": {},
   "outputs": [
    {
     "data": {
      "text/plain": [
       "19196"
      ]
     },
     "execution_count": 38,
     "metadata": {},
     "output_type": "execute_result"
    }
   ],
   "source": [
    "len(df_metal) + len(df_smart) + len(df_you)"
   ]
  },
  {
   "cell_type": "code",
   "execution_count": null,
   "id": "9a1512c8",
   "metadata": {},
   "outputs": [],
   "source": []
  },
  {
   "cell_type": "markdown",
   "id": "d375e936",
   "metadata": {},
   "source": [
    "### Naive comparison"
   ]
  },
  {
   "cell_type": "code",
   "execution_count": 39,
   "id": "c99662e8",
   "metadata": {},
   "outputs": [
    {
     "data": {
      "image/png": "[encoded data removed]",
      "text/plain": [
       "<Figure size 432x288 with 1 Axes>"
      ]
     },
     "metadata": {
      "needs_background": "light"
     },
     "output_type": "display_data"
    }
   ],
   "source": [
    "plt.hist(df[\"net_rev1\"], bins=60, alpha=0.3, label=\"All\")\n",
    "plt.hist(\n",
    "    df.query(\"round_up==0\")[\"net_rev1\"],\n",
    "    bins=60,\n",
    "    alpha=0.3,\n",
    "    label=\"No Roundup\",\n",
    "    color=\"C2\",\n",
    ")\n",
    "plt.hist(\n",
    "    df.query(\"round_up==1\")[\"net_rev1\"], bins=60, alpha=0.3, label=\"Roundup\", color=\"C3\"\n",
    ")\n",
    "plt.legend();"
   ]
  },
  {
   "cell_type": "code",
   "execution_count": 40,
   "id": "0e74d388",
   "metadata": {},
   "outputs": [
    {
     "data": {
      "text/plain": [
       "0.4159605790978347"
      ]
     },
     "execution_count": 40,
     "metadata": {},
     "output_type": "execute_result"
    }
   ],
   "source": [
    "# ALL\n",
    "df.query(\"round_up==1\")[\"net_rev1\"].mean() - df.query(\"round_up==0\")[\"net_rev1\"].mean()"
   ]
  },
  {
   "cell_type": "code",
   "execution_count": 41,
   "id": "ace76e8d",
   "metadata": {},
   "outputs": [],
   "source": [
    "# separate control and treatment for t-test\n",
    "df_control = df[df.round_up == 0]\n",
    "df_treatment = df[df.round_up == 1]"
   ]
  },
  {
   "cell_type": "code",
   "execution_count": 43,
   "id": "11879640",
   "metadata": {},
   "outputs": [
    {
     "name": "stdout",
     "output_type": "stream",
     "text": [
      "11.453028668214012 11.868989247311847\n",
      "p=0.104\n",
      "same distributions/same group mean (fail to reject H0 - we do not have enough evidence to reject H0)\n"
     ]
    }
   ],
   "source": [
    "from scipy.stats import ttest_ind\n",
    "\n",
    "print(df_control.net_rev1.mean(), df_treatment.net_rev1.mean())\n",
    "\n",
    "# compare samples\n",
    "_, p = ttest_ind(df_control.net_rev1, df_treatment.net_rev1)\n",
    "print(f\"p={p:.3f}\")\n",
    "\n",
    "# interpret\n",
    "alpha = 0.05  # significance level\n",
    "if p > alpha:\n",
    "    print(\n",
    "        \"same distributions/same group mean (fail to reject H0 - we do not have enough evidence to reject H0)\"\n",
    "    )\n",
    "else:\n",
    "    print(\"different distributions/different group mean (reject H0)\")"
   ]
  },
  {
   "cell_type": "code",
   "execution_count": null,
   "id": "61cc9b00",
   "metadata": {},
   "outputs": [],
   "source": []
  },
  {
   "cell_type": "code",
   "execution_count": 44,
   "id": "65f2abc3",
   "metadata": {},
   "outputs": [
    {
     "data": {
      "image/png": "[encoded data removed]",
      "text/plain": [
       "<Figure size 432x288 with 1 Axes>"
      ]
     },
     "metadata": {
      "needs_background": "light"
     },
     "output_type": "display_data"
    }
   ],
   "source": [
    "plt.hist(df_metal[\"net_rev1\"], bins=60, alpha=0.3, label=\"All\")\n",
    "plt.hist(\n",
    "    df_metal.query(\"round_up==0\")[\"net_rev1\"],\n",
    "    bins=60,\n",
    "    alpha=0.3,\n",
    "    label=\"No Roundup\",\n",
    "    color=\"C2\",\n",
    ")\n",
    "plt.hist(\n",
    "    df_metal.query(\"round_up==1\")[\"net_rev1\"],\n",
    "    bins=60,\n",
    "    alpha=0.3,\n",
    "    label=\"Roundup\",\n",
    "    color=\"C3\",\n",
    ")\n",
    "plt.legend();"
   ]
  },
  {
   "cell_type": "code",
   "execution_count": 45,
   "id": "02aa5cdd",
   "metadata": {},
   "outputs": [
    {
     "data": {
      "text/plain": [
       "1.0876026663906515"
      ]
     },
     "execution_count": 45,
     "metadata": {},
     "output_type": "execute_result"
    }
   ],
   "source": [
    "# Metal\n",
    "(\n",
    "    df_metal.query(\"round_up==1\")[\"net_rev1\"].mean()\n",
    "    - df_metal.query(\"round_up==0\")[\"net_rev1\"].mean()\n",
    ")"
   ]
  },
  {
   "cell_type": "code",
   "execution_count": 46,
   "id": "77798b1d",
   "metadata": {},
   "outputs": [],
   "source": [
    "# separate control and treatment for t-test\n",
    "df_metal_control = df_metal[df_metal.round_up == 0]\n",
    "df_metal_treatment = df_metal[df_metal.round_up == 1]"
   ]
  },
  {
   "cell_type": "code",
   "execution_count": 47,
   "id": "ad89aaaa",
   "metadata": {},
   "outputs": [
    {
     "name": "stdout",
     "output_type": "stream",
     "text": [
      "17.264361405465646 18.351964071856298\n",
      "p=0.073\n",
      "same distributions/same group mean (fail to reject H0 - we do not have enough evidence to reject H0)\n"
     ]
    }
   ],
   "source": [
    "from scipy.stats import ttest_ind\n",
    "\n",
    "print(df_metal_control.net_rev1.mean(), df_metal_treatment.net_rev1.mean())\n",
    "\n",
    "# compare samples\n",
    "_, p = ttest_ind(df_metal_control.net_rev1, df_metal_treatment.net_rev1)\n",
    "print(f\"p={p:.3f}\")\n",
    "\n",
    "# interpret\n",
    "alpha = 0.05  # significance level\n",
    "if p > alpha:\n",
    "    print(\n",
    "        \"same distributions/same group mean (fail to reject H0 - we do not have enough evidence to reject H0)\"\n",
    "    )\n",
    "else:\n",
    "    print(\"different distributions/different group mean (reject H0)\")"
   ]
  },
  {
   "cell_type": "code",
   "execution_count": null,
   "id": "214f6bab",
   "metadata": {},
   "outputs": [],
   "source": []
  },
  {
   "cell_type": "code",
   "execution_count": 48,
   "id": "2e1e34c8",
   "metadata": {
    "scrolled": true
   },
   "outputs": [
    {
     "data": {
      "image/png": "[encoded data removed]",
      "text/plain": [
       "<Figure size 432x288 with 1 Axes>"
      ]
     },
     "metadata": {
      "needs_background": "light"
     },
     "output_type": "display_data"
    }
   ],
   "source": [
    "plt.hist(df_smart[\"net_rev1\"], bins=60, alpha=0.3, label=\"All\")\n",
    "plt.hist(\n",
    "    df_smart.query(\"round_up==0\")[\"net_rev1\"],\n",
    "    bins=60,\n",
    "    alpha=0.3,\n",
    "    label=\"No Roundup\",\n",
    "    color=\"C2\",\n",
    ")\n",
    "plt.hist(\n",
    "    df_smart.query(\"round_up==1\")[\"net_rev1\"],\n",
    "    bins=60,\n",
    "    alpha=0.3,\n",
    "    label=\"Roundup\",\n",
    "    color=\"C3\",\n",
    ")\n",
    "plt.legend();"
   ]
  },
  {
   "cell_type": "code",
   "execution_count": 49,
   "id": "a2390834",
   "metadata": {},
   "outputs": [
    {
     "data": {
      "text/plain": [
       "-0.11623994708546448"
      ]
     },
     "execution_count": 49,
     "metadata": {},
     "output_type": "execute_result"
    }
   ],
   "source": [
    "# Smart\n",
    "(\n",
    "    df_smart.query(\"round_up==1\")[\"net_rev1\"].mean()\n",
    "    - df_smart.query(\"round_up==0\")[\"net_rev1\"].mean()\n",
    ")"
   ]
  },
  {
   "cell_type": "code",
   "execution_count": 50,
   "id": "0f4fa79c",
   "metadata": {},
   "outputs": [],
   "source": [
    "# separate control and treatment for t-test\n",
    "df_smart_control = df_smart[df_smart.round_up == 0]\n",
    "df_smart_treatment = df_smart[df_smart.round_up == 1]"
   ]
  },
  {
   "cell_type": "code",
   "execution_count": 51,
   "id": "7b5bcd4f",
   "metadata": {},
   "outputs": [
    {
     "name": "stdout",
     "output_type": "stream",
     "text": [
      "8.854844233546524 8.73860428646106\n",
      "p=0.687\n",
      "same distributions/same group mean (fail to reject H0 - we do not have enough evidence to reject H0)\n"
     ]
    }
   ],
   "source": [
    "print(df_smart_control.net_rev1.mean(), df_smart_treatment.net_rev1.mean())\n",
    "\n",
    "# compare samples\n",
    "_, p = ttest_ind(df_smart_control.net_rev1, df_smart_treatment.net_rev1)\n",
    "print(f\"p={p:.3f}\")\n",
    "\n",
    "# interpret\n",
    "alpha = 0.05  # significance level\n",
    "if p > alpha:\n",
    "    print(\n",
    "        \"same distributions/same group mean (fail to reject H0 - we do not have enough evidence to reject H0)\"\n",
    "    )\n",
    "else:\n",
    "    print(\"different distributions/different group mean (reject H0)\")"
   ]
  },
  {
   "cell_type": "code",
   "execution_count": null,
   "id": "0d6fc580",
   "metadata": {},
   "outputs": [],
   "source": []
  },
  {
   "cell_type": "code",
   "execution_count": 52,
   "id": "0cc03770",
   "metadata": {
    "scrolled": true
   },
   "outputs": [
    {
     "data": {
      "image/png": "[encoded data removed]",
      "text/plain": [
       "<Figure size 432x288 with 1 Axes>"
      ]
     },
     "metadata": {
      "needs_background": "light"
     },
     "output_type": "display_data"
    }
   ],
   "source": [
    "plt.hist(df_you[\"net_rev1\"], bins=60, alpha=0.3, label=\"All\")\n",
    "plt.hist(\n",
    "    df_you.query(\"round_up==0\")[\"net_rev1\"],\n",
    "    bins=60,\n",
    "    alpha=0.3,\n",
    "    label=\"No Roundup\",\n",
    "    color=\"C2\",\n",
    ")\n",
    "plt.hist(\n",
    "    df_you.query(\"round_up==1\")[\"net_rev1\"],\n",
    "    bins=60,\n",
    "    alpha=0.3,\n",
    "    label=\"Roundup\",\n",
    "    color=\"C3\",\n",
    ")\n",
    "plt.legend();"
   ]
  },
  {
   "cell_type": "code",
   "execution_count": 53,
   "id": "9bf46367",
   "metadata": {},
   "outputs": [
    {
     "data": {
      "text/plain": [
       "-0.08336811137866995"
      ]
     },
     "execution_count": 53,
     "metadata": {},
     "output_type": "execute_result"
    }
   ],
   "source": [
    "# You\n",
    "(\n",
    "    df_you.query(\"round_up==1\")[\"net_rev1\"].mean()\n",
    "    - df_you.query(\"round_up==0\")[\"net_rev1\"].mean()\n",
    ")"
   ]
  },
  {
   "cell_type": "code",
   "execution_count": 54,
   "id": "b58fcbcf",
   "metadata": {},
   "outputs": [],
   "source": [
    "# separate control and treatment for t-test\n",
    "df_you_control = df_you[df_you.round_up == 0]\n",
    "df_you_treatment = df_you[df_you.round_up == 1]"
   ]
  },
  {
   "cell_type": "code",
   "execution_count": 55,
   "id": "f1770f4f",
   "metadata": {},
   "outputs": [
    {
     "name": "stdout",
     "output_type": "stream",
     "text": [
      "13.086760616309634 13.003392504930964\n",
      "p=0.892\n",
      "same distributions/same group mean (fail to reject H0 - we do not have enough evidence to reject H0)\n"
     ]
    }
   ],
   "source": [
    "print(df_you_control.net_rev1.mean(), df_you_treatment.net_rev1.mean())\n",
    "\n",
    "# compare samples\n",
    "_, p = ttest_ind(df_you_control.net_rev1, df_you_treatment.net_rev1)\n",
    "print(f\"p={p:.3f}\")\n",
    "\n",
    "# interpret\n",
    "alpha = 0.05  # significance level\n",
    "if p > alpha:\n",
    "    print(\n",
    "        \"same distributions/same group mean (fail to reject H0 - we do not have enough evidence to reject H0)\"\n",
    "    )\n",
    "else:\n",
    "    print(\"different distributions/different group mean (reject H0)\")"
   ]
  },
  {
   "cell_type": "code",
   "execution_count": null,
   "id": "2d1649b3",
   "metadata": {},
   "outputs": [],
   "source": []
  },
  {
   "cell_type": "markdown",
   "id": "866bfce7",
   "metadata": {},
   "source": [
    "### Model Preperation"
   ]
  },
  {
   "cell_type": "code",
   "execution_count": 56,
   "id": "8ec8a3f9",
   "metadata": {},
   "outputs": [
    {
     "name": "stdout",
     "output_type": "stream",
     "text": [
      "(4421, 3)\n"
     ]
    }
   ],
   "source": [
    "categ = [\"country_tnc_legal\"]\n",
    "num = [\"mos_to_kycc\", \"n_in\", \"n_out\", \"avg_out_amount\", \"avg_in_amount\", \"pri_balance\"]\n",
    "\n",
    "df_cat_metal = pd.get_dummies(df_metal[categ], columns=categ, drop_first=True)\n",
    "\n",
    "print(df_cat_metal.shape)"
   ]
  },
  {
   "cell_type": "code",
   "execution_count": 57,
   "id": "839f2825",
   "metadata": {},
   "outputs": [],
   "source": [
    "# Feature Scaling\n",
    "from sklearn.preprocessing import StandardScaler\n",
    "\n",
    "df_num_metal = StandardScaler().fit_transform(df_metal[num].values)"
   ]
  },
  {
   "cell_type": "code",
   "execution_count": 58,
   "id": "211502b6",
   "metadata": {},
   "outputs": [],
   "source": [
    "df_num_metal = pd.DataFrame(df_num_metal, index=df_metal.index, columns=num)"
   ]
  },
  {
   "cell_type": "code",
   "execution_count": 59,
   "id": "c458adc4",
   "metadata": {},
   "outputs": [],
   "source": [
    "final_metal = pd.concat([df_num_metal, df_cat_metal], axis=1)"
   ]
  },
  {
   "cell_type": "code",
   "execution_count": 60,
   "id": "89c56fdd",
   "metadata": {},
   "outputs": [],
   "source": [
    "tbl_ty_metal = df_metal[[\"round_up\", \"net_rev1\"]].set_index(df_metal.index)"
   ]
  },
  {
   "cell_type": "code",
   "execution_count": 61,
   "id": "edb6d97b",
   "metadata": {},
   "outputs": [],
   "source": [
    "metal_tbl = pd.concat([final_metal, tbl_ty_metal], axis=1)"
   ]
  },
  {
   "cell_type": "code",
   "execution_count": 62,
   "id": "90335419",
   "metadata": {
    "scrolled": true
   },
   "outputs": [
    {
     "data": {
      "text/html": [
       "<div>\n",
       "<style scoped>\n",
       "    .dataframe tbody tr th:only-of-type {\n",
       "        vertical-align: middle;\n",
       "    }\n",
       "\n",
       "    .dataframe tbody tr th {\n",
       "        vertical-align: top;\n",
       "    }\n",
       "\n",
       "    .dataframe thead th {\n",
       "        text-align: right;\n",
       "    }\n",
       "</style>\n",
       "<table border=\"1\" class=\"dataframe\">\n",
       "  <thead>\n",
       "    <tr style=\"text-align: right;\">\n",
       "      <th></th>\n",
       "      <th>mos_to_kycc</th>\n",
       "      <th>n_in</th>\n",
       "      <th>n_out</th>\n",
       "      <th>avg_out_amount</th>\n",
       "      <th>avg_in_amount</th>\n",
       "      <th>pri_balance</th>\n",
       "      <th>country_tnc_legal_DEU</th>\n",
       "      <th>country_tnc_legal_ESP</th>\n",
       "      <th>country_tnc_legal_FRA</th>\n",
       "      <th>round_up</th>\n",
       "      <th>net_rev1</th>\n",
       "    </tr>\n",
       "  </thead>\n",
       "  <tbody>\n",
       "    <tr>\n",
       "      <th>5</th>\n",
       "      <td>-1.357572</td>\n",
       "      <td>-0.574118</td>\n",
       "      <td>-1.023237</td>\n",
       "      <td>-0.120268</td>\n",
       "      <td>-0.452025</td>\n",
       "      <td>-0.162198</td>\n",
       "      <td>0</td>\n",
       "      <td>0</td>\n",
       "      <td>1</td>\n",
       "      <td>0</td>\n",
       "      <td>13.49</td>\n",
       "    </tr>\n",
       "    <tr>\n",
       "      <th>6</th>\n",
       "      <td>0.079131</td>\n",
       "      <td>-0.819257</td>\n",
       "      <td>-0.903232</td>\n",
       "      <td>-0.102527</td>\n",
       "      <td>-0.317199</td>\n",
       "      <td>-0.161895</td>\n",
       "      <td>0</td>\n",
       "      <td>1</td>\n",
       "      <td>0</td>\n",
       "      <td>1</td>\n",
       "      <td>10.07</td>\n",
       "    </tr>\n",
       "    <tr>\n",
       "      <th>11</th>\n",
       "      <td>-1.357572</td>\n",
       "      <td>0.161301</td>\n",
       "      <td>-0.823229</td>\n",
       "      <td>0.318958</td>\n",
       "      <td>-0.146467</td>\n",
       "      <td>-0.078745</td>\n",
       "      <td>1</td>\n",
       "      <td>0</td>\n",
       "      <td>0</td>\n",
       "      <td>0</td>\n",
       "      <td>10.81</td>\n",
       "    </tr>\n",
       "    <tr>\n",
       "      <th>14</th>\n",
       "      <td>0.079131</td>\n",
       "      <td>-0.328978</td>\n",
       "      <td>-0.143204</td>\n",
       "      <td>-0.006319</td>\n",
       "      <td>0.177559</td>\n",
       "      <td>-0.159428</td>\n",
       "      <td>0</td>\n",
       "      <td>0</td>\n",
       "      <td>1</td>\n",
       "      <td>1</td>\n",
       "      <td>16.94</td>\n",
       "    </tr>\n",
       "    <tr>\n",
       "      <th>15</th>\n",
       "      <td>0.797482</td>\n",
       "      <td>-0.819257</td>\n",
       "      <td>-1.023237</td>\n",
       "      <td>-0.030378</td>\n",
       "      <td>-0.239511</td>\n",
       "      <td>-0.153397</td>\n",
       "      <td>1</td>\n",
       "      <td>0</td>\n",
       "      <td>0</td>\n",
       "      <td>0</td>\n",
       "      <td>10.25</td>\n",
       "    </tr>\n",
       "    <tr>\n",
       "      <th>...</th>\n",
       "      <td>...</td>\n",
       "      <td>...</td>\n",
       "      <td>...</td>\n",
       "      <td>...</td>\n",
       "      <td>...</td>\n",
       "      <td>...</td>\n",
       "      <td>...</td>\n",
       "      <td>...</td>\n",
       "      <td>...</td>\n",
       "      <td>...</td>\n",
       "      <td>...</td>\n",
       "    </tr>\n",
       "    <tr>\n",
       "      <th>21406</th>\n",
       "      <td>0.079131</td>\n",
       "      <td>-0.574118</td>\n",
       "      <td>-0.583220</td>\n",
       "      <td>-0.102197</td>\n",
       "      <td>-0.188218</td>\n",
       "      <td>-0.153912</td>\n",
       "      <td>0</td>\n",
       "      <td>0</td>\n",
       "      <td>1</td>\n",
       "      <td>0</td>\n",
       "      <td>13.56</td>\n",
       "    </tr>\n",
       "    <tr>\n",
       "      <th>21410</th>\n",
       "      <td>1.515833</td>\n",
       "      <td>-0.083839</td>\n",
       "      <td>-0.463216</td>\n",
       "      <td>-0.117433</td>\n",
       "      <td>-0.405333</td>\n",
       "      <td>-0.162228</td>\n",
       "      <td>0</td>\n",
       "      <td>0</td>\n",
       "      <td>1</td>\n",
       "      <td>0</td>\n",
       "      <td>8.13</td>\n",
       "    </tr>\n",
       "    <tr>\n",
       "      <th>21415</th>\n",
       "      <td>-1.357572</td>\n",
       "      <td>-0.819257</td>\n",
       "      <td>-1.063238</td>\n",
       "      <td>-0.147070</td>\n",
       "      <td>-0.389021</td>\n",
       "      <td>-0.162319</td>\n",
       "      <td>0</td>\n",
       "      <td>0</td>\n",
       "      <td>1</td>\n",
       "      <td>0</td>\n",
       "      <td>10.45</td>\n",
       "    </tr>\n",
       "    <tr>\n",
       "      <th>21424</th>\n",
       "      <td>1.515833</td>\n",
       "      <td>-0.574118</td>\n",
       "      <td>0.096805</td>\n",
       "      <td>-0.106794</td>\n",
       "      <td>0.000718</td>\n",
       "      <td>-0.161865</td>\n",
       "      <td>0</td>\n",
       "      <td>1</td>\n",
       "      <td>0</td>\n",
       "      <td>1</td>\n",
       "      <td>15.87</td>\n",
       "    </tr>\n",
       "    <tr>\n",
       "      <th>21429</th>\n",
       "      <td>1.515833</td>\n",
       "      <td>-0.328978</td>\n",
       "      <td>-0.263208</td>\n",
       "      <td>-0.097577</td>\n",
       "      <td>-0.260878</td>\n",
       "      <td>0.113769</td>\n",
       "      <td>1</td>\n",
       "      <td>0</td>\n",
       "      <td>0</td>\n",
       "      <td>0</td>\n",
       "      <td>17.14</td>\n",
       "    </tr>\n",
       "  </tbody>\n",
       "</table>\n",
       "<p>4421 rows × 11 columns</p>\n",
       "</div>"
      ],
      "text/plain": [
       "       mos_to_kycc      n_in     n_out  avg_out_amount  avg_in_amount  \\\n",
       "5        -1.357572 -0.574118 -1.023237       -0.120268      -0.452025   \n",
       "6         0.079131 -0.819257 -0.903232       -0.102527      -0.317199   \n",
       "11       -1.357572  0.161301 -0.823229        0.318958      -0.146467   \n",
       "14        0.079131 -0.328978 -0.143204       -0.006319       0.177559   \n",
       "15        0.797482 -0.819257 -1.023237       -0.030378      -0.239511   \n",
       "...            ...       ...       ...             ...            ...   \n",
       "21406     0.079131 -0.574118 -0.583220       -0.102197      -0.188218   \n",
       "21410     1.515833 -0.083839 -0.463216       -0.117433      -0.405333   \n",
       "21415    -1.357572 -0.819257 -1.063238       -0.147070      -0.389021   \n",
       "21424     1.515833 -0.574118  0.096805       -0.106794       0.000718   \n",
       "21429     1.515833 -0.328978 -0.263208       -0.097577      -0.260878   \n",
       "\n",
       "       pri_balance  country_tnc_legal_DEU         \\\n",
       "5        -0.162198                             0   \n",
       "6        -0.161895                             0   \n",
       "11       -0.078745                             1   \n",
       "14       -0.159428                             0   \n",
       "15       -0.153397                             1   \n",
       "...            ...                           ...   \n",
       "21406    -0.153912                             0   \n",
       "21410    -0.162228                             0   \n",
       "21415    -0.162319                             0   \n",
       "21424    -0.161865                             0   \n",
       "21429     0.113769                             1   \n",
       "\n",
       "       country_tnc_legal_ESP         country_tnc_legal_FRA         round_up  \\\n",
       "5                                 0                             1         0   \n",
       "6                                 1                             0         1   \n",
       "11                                0                             0         0   \n",
       "14                                0                             1         1   \n",
       "15                                0                             0         0   \n",
       "...                             ...                           ...       ...   \n",
       "21406                             0                             1         0   \n",
       "21410                             0                             1         0   \n",
       "21415                             0                             1         0   \n",
       "21424                             1                             0         1   \n",
       "21429                             0                             0         0   \n",
       "\n",
       "       net_rev1  \n",
       "5         13.49  \n",
       "6         10.07  \n",
       "11        10.81  \n",
       "14        16.94  \n",
       "15        10.25  \n",
       "...         ...  \n",
       "21406     13.56  \n",
       "21410      8.13  \n",
       "21415     10.45  \n",
       "21424     15.87  \n",
       "21429     17.14  \n",
       "\n",
       "[4421 rows x 11 columns]"
      ]
     },
     "execution_count": 62,
     "metadata": {},
     "output_type": "execute_result"
    }
   ],
   "source": [
    "metal_tbl"
   ]
  },
  {
   "cell_type": "code",
   "execution_count": null,
   "id": "d6925cb6",
   "metadata": {},
   "outputs": [],
   "source": []
  },
  {
   "cell_type": "code",
   "execution_count": 79,
   "id": "8a41fe22",
   "metadata": {},
   "outputs": [
    {
     "name": "stdout",
     "output_type": "stream",
     "text": [
      "(11607, 3)\n"
     ]
    }
   ],
   "source": [
    "df_cat_smart = pd.get_dummies(df_smart[categ], columns=categ, drop_first=True)\n",
    "\n",
    "print(df_cat_smart.shape)"
   ]
  },
  {
   "cell_type": "code",
   "execution_count": 80,
   "id": "781e2cbc",
   "metadata": {},
   "outputs": [],
   "source": [
    "df_num_smart = StandardScaler().fit_transform(df_smart[num].values)"
   ]
  },
  {
   "cell_type": "code",
   "execution_count": 81,
   "id": "978ff49c",
   "metadata": {},
   "outputs": [],
   "source": [
    "df_num_smart = pd.DataFrame(df_num_smart, index=df_smart.index, columns=num)"
   ]
  },
  {
   "cell_type": "code",
   "execution_count": 82,
   "id": "2306f71a",
   "metadata": {},
   "outputs": [],
   "source": [
    "final_smart = pd.concat([df_num_smart, df_cat_smart], axis=1)"
   ]
  },
  {
   "cell_type": "code",
   "execution_count": 83,
   "id": "e7dd9f2c",
   "metadata": {},
   "outputs": [],
   "source": [
    "tbl_ty_smart = df_smart[[\"round_up\", \"net_rev1\"]].set_index(df_smart.index)"
   ]
  },
  {
   "cell_type": "code",
   "execution_count": 84,
   "id": "3ba59d27",
   "metadata": {},
   "outputs": [],
   "source": [
    "smart_tbl = pd.concat([final_smart, tbl_ty_smart], axis=1)"
   ]
  },
  {
   "cell_type": "code",
   "execution_count": null,
   "id": "a4e98c3e",
   "metadata": {},
   "outputs": [],
   "source": []
  },
  {
   "cell_type": "code",
   "execution_count": 95,
   "id": "7355f20c",
   "metadata": {},
   "outputs": [
    {
     "name": "stdout",
     "output_type": "stream",
     "text": [
      "(3168, 3)\n"
     ]
    }
   ],
   "source": [
    "df_cat_you = pd.get_dummies(df_you[categ], columns=categ, drop_first=True)\n",
    "\n",
    "print(df_cat_you.shape)"
   ]
  },
  {
   "cell_type": "code",
   "execution_count": 96,
   "id": "d294abb4",
   "metadata": {},
   "outputs": [],
   "source": [
    "df_num_you = StandardScaler().fit_transform(df_you[num].values)"
   ]
  },
  {
   "cell_type": "code",
   "execution_count": 97,
   "id": "f8aa450e",
   "metadata": {},
   "outputs": [],
   "source": [
    "df_num_you = pd.DataFrame(df_num_you, index=df_you.index, columns=num)"
   ]
  },
  {
   "cell_type": "code",
   "execution_count": 98,
   "id": "4f19b0c2",
   "metadata": {},
   "outputs": [],
   "source": [
    "final_you = pd.concat([df_num_you, df_cat_you], axis=1)"
   ]
  },
  {
   "cell_type": "code",
   "execution_count": 99,
   "id": "ef4b6214",
   "metadata": {},
   "outputs": [],
   "source": [
    "tbl_ty_you = df_you[[\"round_up\", \"net_rev1\"]].set_index(df_you.index)"
   ]
  },
  {
   "cell_type": "code",
   "execution_count": 100,
   "id": "0729f951",
   "metadata": {},
   "outputs": [],
   "source": [
    "you_tbl = pd.concat([final_you, tbl_ty_you], axis=1)"
   ]
  },
  {
   "cell_type": "code",
   "execution_count": null,
   "id": "db3f118a",
   "metadata": {},
   "outputs": [],
   "source": []
  },
  {
   "cell_type": "markdown",
   "id": "1a4787bd",
   "metadata": {},
   "source": [
    "### Metal Matching"
   ]
  },
  {
   "cell_type": "code",
   "execution_count": 63,
   "id": "7aadc05c",
   "metadata": {},
   "outputs": [
    {
     "data": {
      "text/html": [
       "<div>\n",
       "<style scoped>\n",
       "    .dataframe tbody tr th:only-of-type {\n",
       "        vertical-align: middle;\n",
       "    }\n",
       "\n",
       "    .dataframe tbody tr th {\n",
       "        vertical-align: top;\n",
       "    }\n",
       "\n",
       "    .dataframe thead th {\n",
       "        text-align: right;\n",
       "    }\n",
       "</style>\n",
       "<table border=\"1\" class=\"dataframe\">\n",
       "  <thead>\n",
       "    <tr style=\"text-align: right;\">\n",
       "      <th></th>\n",
       "      <th>round_up</th>\n",
       "      <th>net_rev1</th>\n",
       "      <th>propensity_score</th>\n",
       "    </tr>\n",
       "  </thead>\n",
       "  <tbody>\n",
       "    <tr>\n",
       "      <th>5</th>\n",
       "      <td>0</td>\n",
       "      <td>13.49</td>\n",
       "      <td>0.134462</td>\n",
       "    </tr>\n",
       "    <tr>\n",
       "      <th>6</th>\n",
       "      <td>1</td>\n",
       "      <td>10.07</td>\n",
       "      <td>0.126491</td>\n",
       "    </tr>\n",
       "    <tr>\n",
       "      <th>11</th>\n",
       "      <td>0</td>\n",
       "      <td>10.81</td>\n",
       "      <td>0.081187</td>\n",
       "    </tr>\n",
       "    <tr>\n",
       "      <th>14</th>\n",
       "      <td>1</td>\n",
       "      <td>16.94</td>\n",
       "      <td>0.128226</td>\n",
       "    </tr>\n",
       "    <tr>\n",
       "      <th>15</th>\n",
       "      <td>0</td>\n",
       "      <td>10.25</td>\n",
       "      <td>0.146021</td>\n",
       "    </tr>\n",
       "  </tbody>\n",
       "</table>\n",
       "</div>"
      ],
      "text/plain": [
       "    round_up  net_rev1  propensity_score\n",
       "5          0     13.49          0.134462\n",
       "6          1     10.07          0.126491\n",
       "11         0     10.81          0.081187\n",
       "14         1     16.94          0.128226\n",
       "15         0     10.25          0.146021"
      ]
     },
     "execution_count": 63,
     "metadata": {},
     "output_type": "execute_result"
    }
   ],
   "source": [
    "# Using logistic regression to predict the likelihood a user would use Roundup feature\n",
    "\n",
    "from sklearn.linear_model import LogisticRegression\n",
    "\n",
    "T = \"round_up\"\n",
    "Y = \"net_rev1\"\n",
    "X = metal_tbl.columns.drop([T, Y])\n",
    "\n",
    "ps_model = LogisticRegression().fit(metal_tbl[X], metal_tbl[T])\n",
    "\n",
    "metal_ps = metal_tbl.assign(propensity_score=ps_model.predict_proba(metal_tbl[X])[:, 1])\n",
    "\n",
    "metal_ps[[\"round_up\", \"net_rev1\", \"propensity_score\"]].head()"
   ]
  },
  {
   "cell_type": "code",
   "execution_count": 64,
   "id": "5e0b35fe",
   "metadata": {},
   "outputs": [],
   "source": [
    "metal_ps_final = metal_ps[[\"round_up\", \"net_rev1\", \"propensity_score\"]]"
   ]
  },
  {
   "cell_type": "code",
   "execution_count": 65,
   "id": "8eeabebf",
   "metadata": {},
   "outputs": [
    {
     "data": {
      "text/html": [
       "<table class=\"simpletable\">\n",
       "<tr>\n",
       "          <td></td>            <th>coef</th>     <th>std err</th>      <th>t</th>      <th>P>|t|</th>  <th>[0.025</th>    <th>0.975]</th>  \n",
       "</tr>\n",
       "<tr>\n",
       "  <th>Intercept</th>        <td>   17.5690</td> <td>    0.507</td> <td>   34.676</td> <td> 0.000</td> <td>   16.576</td> <td>   18.562</td>\n",
       "</tr>\n",
       "<tr>\n",
       "  <th>round_up</th>         <td>    1.2034</td> <td>    0.628</td> <td>    1.916</td> <td> 0.055</td> <td>   -0.028</td> <td>    2.435</td>\n",
       "</tr>\n",
       "<tr>\n",
       "  <th>propensity_score</th> <td>   -1.7288</td> <td>    2.456</td> <td>   -0.704</td> <td> 0.482</td> <td>   -6.544</td> <td>    3.086</td>\n",
       "</tr>\n",
       "</table>"
      ],
      "text/plain": [
       "<class 'statsmodels.iolib.table.SimpleTable'>"
      ]
     },
     "execution_count": 65,
     "metadata": {},
     "output_type": "execute_result"
    }
   ],
   "source": [
    "# ols estimation - Regressing NC1 with the propensity score and Roundup boolean, focusing on the coefficient of round_up\n",
    "\n",
    "import statsmodels.formula.api as smf\n",
    "\n",
    "smf.ols(\n",
    "    \"net_rev1 ~ round_up + propensity_score\", data=metal_ps_final\n",
    ").fit().summary().tables[1]"
   ]
  },
  {
   "cell_type": "code",
   "execution_count": 66,
   "id": "8e8d63a4",
   "metadata": {
    "scrolled": false
   },
   "outputs": [
    {
     "name": "stderr",
     "output_type": "stream",
     "text": [
      "/var/folders/7n/yvwjwy5j0lg95vsn724zd9mh0000gp/T/ipykernel_32260/3799280746.py:2: UserWarning: \n",
      "\n",
      "`distplot` is a deprecated function and will be removed in seaborn v0.14.0.\n",
      "\n",
      "Please adapt your code to use either `displot` (a figure-level function with\n",
      "similar flexibility) or `histplot` (an axes-level function for histograms).\n",
      "\n",
      "For a guide to updating your code to use the new functions, please see\n",
      "https://gist.github.com/mwaskom/de44147ed2974457ad6372750bbe5751\n",
      "\n",
      "  sns.distplot(metal_ps_final.query(\"round_up==0\")[\"propensity_score\"], kde=False, label=\"No Roundup\")\n",
      "/var/folders/7n/yvwjwy5j0lg95vsn724zd9mh0000gp/T/ipykernel_32260/3799280746.py:3: UserWarning: \n",
      "\n",
      "`distplot` is a deprecated function and will be removed in seaborn v0.14.0.\n",
      "\n",
      "Please adapt your code to use either `displot` (a figure-level function with\n",
      "similar flexibility) or `histplot` (an axes-level function for histograms).\n",
      "\n",
      "For a guide to updating your code to use the new functions, please see\n",
      "https://gist.github.com/mwaskom/de44147ed2974457ad6372750bbe5751\n",
      "\n",
      "  sns.distplot(metal_ps_final.query(\"round_up==1\")[\"propensity_score\"], kde=False, label=\"Roundup\")\n"
     ]
    },
    {
     "data": {
      "image/png": "[encoded data removed]",
      "text/plain": [
       "<Figure size 432x288 with 1 Axes>"
      ]
     },
     "metadata": {
      "needs_background": "light"
     },
     "output_type": "display_data"
    }
   ],
   "source": [
    "# Plotting the propensity score distribution to make sure there's big enough overlapped between the two groups\n",
    "\n",
    "import seaborn as sns\n",
    "\n",
    "sns.distplot(\n",
    "    metal_ps_final.query(\"round_up==0\")[\"propensity_score\"],\n",
    "    kde=False,\n",
    "    label=\"No Roundup\",\n",
    ")\n",
    "sns.distplot(\n",
    "    metal_ps_final.query(\"round_up==1\")[\"propensity_score\"], kde=False, label=\"Roundup\"\n",
    ")\n",
    "plt.title(\"Positivity Check\")\n",
    "plt.legend();"
   ]
  },
  {
   "cell_type": "code",
   "execution_count": 67,
   "id": "4591d62f",
   "metadata": {},
   "outputs": [
    {
     "name": "stdout",
     "output_type": "stream",
     "text": [
      "\n",
      "Treatment Effect Estimates: Matching\n",
      "\n",
      "                     Est.       S.e.          z      P>|z|      [95% Conf. int.]\n",
      "--------------------------------------------------------------------------------\n",
      "           ATE      1.602      1.252      1.280      0.200     -0.851      4.056\n",
      "           ATC      1.786      1.399      1.277      0.202     -0.955      4.527\n",
      "           ATT      0.814      1.228      0.663      0.508     -1.593      3.220\n",
      "\n"
     ]
    },
    {
     "name": "stderr",
     "output_type": "stream",
     "text": [
      "/Users/jiaweiwang/opt/anaconda3/lib/python3.9/site-packages/causalinference/estimators/matching.py:100: FutureWarning: `rcond` parameter will change to the default of machine precision times ``max(M, N)`` where M and N are the input matrix dimensions.\n",
      "To use the future default and silence this warning we advise to pass `rcond=None`, to keep using the old, explicitly pass `rcond=-1`.\n",
      "  return np.linalg.lstsq(X, Y)[0][1:]  # don't need intercept coef\n"
     ]
    }
   ],
   "source": [
    "# Using the Python package based on the propensity score method to directly get the ATE\n",
    "\n",
    "from causalinference import CausalModel\n",
    "\n",
    "cm = CausalModel(\n",
    "    Y=metal_ps_final[\"net_rev1\"].values,\n",
    "    D=metal_ps_final[\"round_up\"].values,\n",
    "    X=metal_ps_final[[\"propensity_score\"]].values,\n",
    ")\n",
    "\n",
    "cm.est_via_matching(matches=1, bias_adj=True)\n",
    "\n",
    "print(cm.estimates)"
   ]
  },
  {
   "cell_type": "code",
   "execution_count": 68,
   "id": "aac4c79a",
   "metadata": {
    "scrolled": true
   },
   "outputs": [
    {
     "name": "stdout",
     "output_type": "stream",
     "text": [
      "\n",
      "Summary Statistics\n",
      "\n",
      "                      Controls (N_c=3586)         Treated (N_t=835)             \n",
      "       Variable         Mean         S.d.         Mean         S.d.     Raw-diff\n",
      "--------------------------------------------------------------------------------\n",
      "              Y       17.264       15.618       18.352       16.416        1.088\n",
      "\n",
      "                      Controls (N_c=3586)         Treated (N_t=835)             \n",
      "       Variable         Mean         S.d.         Mean         S.d.     Nor-diff\n",
      "--------------------------------------------------------------------------------\n",
      "             X0        0.176        0.092        0.243        0.113        0.648\n",
      "\n"
     ]
    }
   ],
   "source": [
    "print(cm.summary_stats)"
   ]
  },
  {
   "cell_type": "code",
   "execution_count": 74,
   "id": "d4243269",
   "metadata": {},
   "outputs": [],
   "source": [
    "columns = metal_tbl.columns[:-2]"
   ]
  },
  {
   "cell_type": "code",
   "execution_count": 75,
   "id": "e0edd00a",
   "metadata": {},
   "outputs": [],
   "source": [
    "# Mannually matching the two groups to each other with KNN\n",
    "\n",
    "from sklearn.neighbors import KNeighborsRegressor\n",
    "\n",
    "roundup = metal_tbl.query(\"round_up==1\")\n",
    "non_roundup = metal_tbl.query(\"round_up==0\")\n",
    "\n",
    "mt0 = KNeighborsRegressor(n_neighbors=1).fit(\n",
    "    non_roundup[columns], non_roundup[\"net_rev1\"]\n",
    ")\n",
    "mt1 = KNeighborsRegressor(n_neighbors=1).fit(roundup[columns], roundup[\"net_rev1\"])\n",
    "\n",
    "predicted = pd.concat(\n",
    "    [\n",
    "        # find matches for the treated looking at the untreated knn model\n",
    "        roundup.assign(match=mt0.predict(roundup[columns])),\n",
    "        # find matches for the untreated looking at the treated knn model\n",
    "        non_roundup.assign(match=mt1.predict(non_roundup[columns])),\n",
    "    ]\n",
    ")"
   ]
  },
  {
   "cell_type": "code",
   "execution_count": 76,
   "id": "9166c6c5",
   "metadata": {},
   "outputs": [],
   "source": [
    "# Using regression for bias correction\n",
    "\n",
    "from sklearn.linear_model import LinearRegression\n",
    "\n",
    "# fit the linear regression model to estimate mu_0(x)\n",
    "ols0 = LinearRegression().fit(non_roundup[columns], non_roundup[\"net_rev1\"])\n",
    "ols1 = LinearRegression().fit(roundup[columns], roundup[\"net_rev1\"])\n",
    "\n",
    "# find the units that match to the treated\n",
    "roundup_match_index = mt0.kneighbors(roundup[columns], n_neighbors=1)[1].ravel()\n",
    "\n",
    "# find the units that match to the untreatd\n",
    "non_roundup_match_index = mt1.kneighbors(non_roundup[columns], n_neighbors=1)[1].ravel()"
   ]
  },
  {
   "cell_type": "code",
   "execution_count": 77,
   "id": "553595aa",
   "metadata": {},
   "outputs": [
    {
     "data": {
      "text/html": [
       "<div>\n",
       "<style scoped>\n",
       "    .dataframe tbody tr th:only-of-type {\n",
       "        vertical-align: middle;\n",
       "    }\n",
       "\n",
       "    .dataframe tbody tr th {\n",
       "        vertical-align: top;\n",
       "    }\n",
       "\n",
       "    .dataframe thead th {\n",
       "        text-align: right;\n",
       "    }\n",
       "</style>\n",
       "<table border=\"1\" class=\"dataframe\">\n",
       "  <thead>\n",
       "    <tr style=\"text-align: right;\">\n",
       "      <th></th>\n",
       "      <th>mos_to_kycc</th>\n",
       "      <th>n_in</th>\n",
       "      <th>n_out</th>\n",
       "      <th>avg_out_amount</th>\n",
       "      <th>avg_in_amount</th>\n",
       "      <th>pri_balance</th>\n",
       "      <th>country_tnc_legal_DEU</th>\n",
       "      <th>country_tnc_legal_ESP</th>\n",
       "      <th>country_tnc_legal_FRA</th>\n",
       "      <th>round_up</th>\n",
       "      <th>net_rev1</th>\n",
       "      <th>match</th>\n",
       "      <th>bias_correct</th>\n",
       "    </tr>\n",
       "  </thead>\n",
       "  <tbody>\n",
       "    <tr>\n",
       "      <th>6</th>\n",
       "      <td>0.079131</td>\n",
       "      <td>-0.819257</td>\n",
       "      <td>-0.903232</td>\n",
       "      <td>-0.102527</td>\n",
       "      <td>-0.317199</td>\n",
       "      <td>-0.161895</td>\n",
       "      <td>0</td>\n",
       "      <td>1</td>\n",
       "      <td>0</td>\n",
       "      <td>1</td>\n",
       "      <td>10.07</td>\n",
       "      <td>10.45</td>\n",
       "      <td>-0.142617</td>\n",
       "    </tr>\n",
       "    <tr>\n",
       "      <th>14</th>\n",
       "      <td>0.079131</td>\n",
       "      <td>-0.328978</td>\n",
       "      <td>-0.143204</td>\n",
       "      <td>-0.006319</td>\n",
       "      <td>0.177559</td>\n",
       "      <td>-0.159428</td>\n",
       "      <td>0</td>\n",
       "      <td>0</td>\n",
       "      <td>1</td>\n",
       "      <td>1</td>\n",
       "      <td>16.94</td>\n",
       "      <td>30.98</td>\n",
       "      <td>-0.360650</td>\n",
       "    </tr>\n",
       "    <tr>\n",
       "      <th>20</th>\n",
       "      <td>1.515833</td>\n",
       "      <td>0.896719</td>\n",
       "      <td>-0.543219</td>\n",
       "      <td>-0.123084</td>\n",
       "      <td>-0.446948</td>\n",
       "      <td>-0.162290</td>\n",
       "      <td>0</td>\n",
       "      <td>0</td>\n",
       "      <td>1</td>\n",
       "      <td>1</td>\n",
       "      <td>22.47</td>\n",
       "      <td>47.93</td>\n",
       "      <td>0.350984</td>\n",
       "    </tr>\n",
       "    <tr>\n",
       "      <th>38</th>\n",
       "      <td>1.515833</td>\n",
       "      <td>-0.328978</td>\n",
       "      <td>0.896835</td>\n",
       "      <td>-0.103806</td>\n",
       "      <td>0.057078</td>\n",
       "      <td>-0.155327</td>\n",
       "      <td>0</td>\n",
       "      <td>0</td>\n",
       "      <td>1</td>\n",
       "      <td>1</td>\n",
       "      <td>16.52</td>\n",
       "      <td>16.09</td>\n",
       "      <td>-0.018554</td>\n",
       "    </tr>\n",
       "    <tr>\n",
       "      <th>55</th>\n",
       "      <td>1.515833</td>\n",
       "      <td>0.161301</td>\n",
       "      <td>0.376816</td>\n",
       "      <td>-0.093587</td>\n",
       "      <td>-0.249542</td>\n",
       "      <td>-0.154236</td>\n",
       "      <td>1</td>\n",
       "      <td>0</td>\n",
       "      <td>0</td>\n",
       "      <td>1</td>\n",
       "      <td>9.58</td>\n",
       "      <td>10.73</td>\n",
       "      <td>-0.339025</td>\n",
       "    </tr>\n",
       "  </tbody>\n",
       "</table>\n",
       "</div>"
      ],
      "text/plain": [
       "    mos_to_kycc      n_in     n_out  avg_out_amount  avg_in_amount  \\\n",
       "6      0.079131 -0.819257 -0.903232       -0.102527      -0.317199   \n",
       "14     0.079131 -0.328978 -0.143204       -0.006319       0.177559   \n",
       "20     1.515833  0.896719 -0.543219       -0.123084      -0.446948   \n",
       "38     1.515833 -0.328978  0.896835       -0.103806       0.057078   \n",
       "55     1.515833  0.161301  0.376816       -0.093587      -0.249542   \n",
       "\n",
       "    pri_balance  country_tnc_legal_DEU         country_tnc_legal_ESP         \\\n",
       "6     -0.161895                             0                             1   \n",
       "14    -0.159428                             0                             0   \n",
       "20    -0.162290                             0                             0   \n",
       "38    -0.155327                             0                             0   \n",
       "55    -0.154236                             1                             0   \n",
       "\n",
       "    country_tnc_legal_FRA         round_up  net_rev1  match  bias_correct  \n",
       "6                              0         1     10.07  10.45     -0.142617  \n",
       "14                             1         1     16.94  30.98     -0.360650  \n",
       "20                             1         1     22.47  47.93      0.350984  \n",
       "38                             1         1     16.52  16.09     -0.018554  \n",
       "55                             0         1      9.58  10.73     -0.339025  "
      ]
     },
     "execution_count": 77,
     "metadata": {},
     "output_type": "execute_result"
    }
   ],
   "source": [
    "predicted = pd.concat(\n",
    "    [\n",
    "        (\n",
    "            roundup\n",
    "            # find the Y match on the other group\n",
    "            .assign(match=mt0.predict(roundup[columns])).assign(\n",
    "                bias_correct=ols0.predict(roundup[columns])\n",
    "                - ols0.predict(non_roundup.iloc[roundup_match_index][columns])\n",
    "            )\n",
    "        ),\n",
    "        (\n",
    "            non_roundup.assign(match=mt1.predict(non_roundup[columns])).assign(\n",
    "                bias_correct=ols1.predict(non_roundup[columns])\n",
    "                - ols1.predict(roundup.iloc[non_roundup_match_index][columns])\n",
    "            )\n",
    "        ),\n",
    "    ]\n",
    ")\n",
    "\n",
    "predicted.head()"
   ]
  },
  {
   "cell_type": "code",
   "execution_count": 78,
   "id": "7e52badb",
   "metadata": {},
   "outputs": [
    {
     "data": {
      "text/plain": [
       "1.6143473098039702"
      ]
     },
     "execution_count": 78,
     "metadata": {},
     "output_type": "execute_result"
    }
   ],
   "source": [
    "# Mannually calculating the ATE\n",
    "\n",
    "np.mean(\n",
    "    (2 * predicted[\"round_up\"] - 1)\n",
    "    * ((predicted[\"net_rev1\"] - predicted[\"match\"]) - predicted[\"bias_correct\"])\n",
    ")"
   ]
  },
  {
   "cell_type": "code",
   "execution_count": 90,
   "id": "9587371f",
   "metadata": {},
   "outputs": [
    {
     "name": "stdout",
     "output_type": "stream",
     "text": [
      "\n",
      "Summary Statistics\n",
      "\n",
      "                      Controls (N_c=9694)        Treated (N_t=1913)             \n",
      "       Variable         Mean         S.d.         Mean         S.d.     Raw-diff\n",
      "--------------------------------------------------------------------------------\n",
      "              Y        8.855       11.561        8.739       11.385       -0.116\n",
      "\n",
      "                      Controls (N_c=9694)        Treated (N_t=1913)             \n",
      "       Variable         Mean         S.d.         Mean         S.d.     Nor-diff\n",
      "--------------------------------------------------------------------------------\n",
      "             X0        0.153        0.093        0.223        0.107        0.696\n",
      "\n"
     ]
    }
   ],
   "source": [
    "print(cm_smart.summary_stats)"
   ]
  },
  {
   "cell_type": "code",
   "execution_count": 91,
   "id": "5701379a",
   "metadata": {},
   "outputs": [],
   "source": [
    "from sklearn.neighbors import KNeighborsRegressor\n",
    "\n",
    "roundup = smart_tbl.query(\"round_up==1\")\n",
    "non_roundup = smart_tbl.query(\"round_up==0\")\n",
    "\n",
    "mt0 = KNeighborsRegressor(n_neighbors=1).fit(\n",
    "    non_roundup[columns], non_roundup[\"net_rev1\"]\n",
    ")\n",
    "mt1 = KNeighborsRegressor(n_neighbors=1).fit(roundup[columns], roundup[\"net_rev1\"])\n",
    "\n",
    "predicted = pd.concat(\n",
    "    [\n",
    "        # find matches for the treated looking at the untreated knn model\n",
    "        roundup.assign(match=mt0.predict(roundup[columns])),\n",
    "        # find matches for the untreated looking at the treated knn model\n",
    "        non_roundup.assign(match=mt1.predict(non_roundup[columns])),\n",
    "    ]\n",
    ")"
   ]
  },
  {
   "cell_type": "code",
   "execution_count": 92,
   "id": "fdbec982",
   "metadata": {},
   "outputs": [],
   "source": [
    "# fit the linear regression model to estimate mu_0(x)\n",
    "ols0 = LinearRegression().fit(non_roundup[columns], non_roundup[\"net_rev1\"])\n",
    "ols1 = LinearRegression().fit(roundup[columns], roundup[\"net_rev1\"])\n",
    "\n",
    "# find the units that match to the treated\n",
    "roundup_match_index = mt0.kneighbors(roundup[columns], n_neighbors=1)[1].ravel()\n",
    "\n",
    "# find the units that match to the untreatd\n",
    "non_roundup_match_index = mt1.kneighbors(non_roundup[columns], n_neighbors=1)[1].ravel()"
   ]
  },
  {
   "cell_type": "code",
   "execution_count": 93,
   "id": "2c1de6c4",
   "metadata": {},
   "outputs": [
    {
     "data": {
      "text/html": [
       "<div>\n",
       "<style scoped>\n",
       "    .dataframe tbody tr th:only-of-type {\n",
       "        vertical-align: middle;\n",
       "    }\n",
       "\n",
       "    .dataframe tbody tr th {\n",
       "        vertical-align: top;\n",
       "    }\n",
       "\n",
       "    .dataframe thead th {\n",
       "        text-align: right;\n",
       "    }\n",
       "</style>\n",
       "<table border=\"1\" class=\"dataframe\">\n",
       "  <thead>\n",
       "    <tr style=\"text-align: right;\">\n",
       "      <th></th>\n",
       "      <th>mos_to_kycc</th>\n",
       "      <th>n_in</th>\n",
       "      <th>n_out</th>\n",
       "      <th>avg_out_amount</th>\n",
       "      <th>avg_in_amount</th>\n",
       "      <th>pri_balance</th>\n",
       "      <th>country_tnc_legal_DEU</th>\n",
       "      <th>country_tnc_legal_ESP</th>\n",
       "      <th>country_tnc_legal_FRA</th>\n",
       "      <th>round_up</th>\n",
       "      <th>net_rev1</th>\n",
       "      <th>match</th>\n",
       "      <th>bias_correct</th>\n",
       "    </tr>\n",
       "  </thead>\n",
       "  <tbody>\n",
       "    <tr>\n",
       "      <th>8</th>\n",
       "      <td>1.549120</td>\n",
       "      <td>-0.259249</td>\n",
       "      <td>1.286953</td>\n",
       "      <td>-0.158031</td>\n",
       "      <td>-0.079191</td>\n",
       "      <td>-0.219320</td>\n",
       "      <td>1</td>\n",
       "      <td>0</td>\n",
       "      <td>0</td>\n",
       "      <td>1</td>\n",
       "      <td>3.74</td>\n",
       "      <td>2.38</td>\n",
       "      <td>0.056867</td>\n",
       "    </tr>\n",
       "    <tr>\n",
       "      <th>39</th>\n",
       "      <td>0.082032</td>\n",
       "      <td>0.816968</td>\n",
       "      <td>-0.400448</td>\n",
       "      <td>0.018307</td>\n",
       "      <td>-0.149785</td>\n",
       "      <td>-0.259500</td>\n",
       "      <td>1</td>\n",
       "      <td>0</td>\n",
       "      <td>0</td>\n",
       "      <td>1</td>\n",
       "      <td>-20.00</td>\n",
       "      <td>6.09</td>\n",
       "      <td>0.238567</td>\n",
       "    </tr>\n",
       "    <tr>\n",
       "      <th>45</th>\n",
       "      <td>1.549120</td>\n",
       "      <td>0.009805</td>\n",
       "      <td>0.691400</td>\n",
       "      <td>-0.130187</td>\n",
       "      <td>-0.167416</td>\n",
       "      <td>-0.246386</td>\n",
       "      <td>0</td>\n",
       "      <td>0</td>\n",
       "      <td>1</td>\n",
       "      <td>1</td>\n",
       "      <td>13.81</td>\n",
       "      <td>3.78</td>\n",
       "      <td>-0.031833</td>\n",
       "    </tr>\n",
       "    <tr>\n",
       "      <th>50</th>\n",
       "      <td>0.082032</td>\n",
       "      <td>0.816968</td>\n",
       "      <td>0.492882</td>\n",
       "      <td>-0.060527</td>\n",
       "      <td>-0.107377</td>\n",
       "      <td>-0.238405</td>\n",
       "      <td>1</td>\n",
       "      <td>0</td>\n",
       "      <td>0</td>\n",
       "      <td>1</td>\n",
       "      <td>19.93</td>\n",
       "      <td>3.10</td>\n",
       "      <td>-0.395223</td>\n",
       "    </tr>\n",
       "    <tr>\n",
       "      <th>68</th>\n",
       "      <td>-1.385057</td>\n",
       "      <td>0.009805</td>\n",
       "      <td>1.138065</td>\n",
       "      <td>-0.099723</td>\n",
       "      <td>0.195882</td>\n",
       "      <td>1.142560</td>\n",
       "      <td>1</td>\n",
       "      <td>0</td>\n",
       "      <td>0</td>\n",
       "      <td>1</td>\n",
       "      <td>-9.96</td>\n",
       "      <td>13.39</td>\n",
       "      <td>0.128910</td>\n",
       "    </tr>\n",
       "  </tbody>\n",
       "</table>\n",
       "</div>"
      ],
      "text/plain": [
       "    mos_to_kycc      n_in     n_out  avg_out_amount  avg_in_amount  \\\n",
       "8      1.549120 -0.259249  1.286953       -0.158031      -0.079191   \n",
       "39     0.082032  0.816968 -0.400448        0.018307      -0.149785   \n",
       "45     1.549120  0.009805  0.691400       -0.130187      -0.167416   \n",
       "50     0.082032  0.816968  0.492882       -0.060527      -0.107377   \n",
       "68    -1.385057  0.009805  1.138065       -0.099723       0.195882   \n",
       "\n",
       "    pri_balance  country_tnc_legal_DEU         country_tnc_legal_ESP         \\\n",
       "8     -0.219320                             1                             0   \n",
       "39    -0.259500                             1                             0   \n",
       "45    -0.246386                             0                             0   \n",
       "50    -0.238405                             1                             0   \n",
       "68     1.142560                             1                             0   \n",
       "\n",
       "    country_tnc_legal_FRA         round_up  net_rev1  match  bias_correct  \n",
       "8                              0         1      3.74   2.38      0.056867  \n",
       "39                             0         1    -20.00   6.09      0.238567  \n",
       "45                             1         1     13.81   3.78     -0.031833  \n",
       "50                             0         1     19.93   3.10     -0.395223  \n",
       "68                             0         1     -9.96  13.39      0.128910  "
      ]
     },
     "execution_count": 93,
     "metadata": {},
     "output_type": "execute_result"
    }
   ],
   "source": [
    "predicted = pd.concat(\n",
    "    [\n",
    "        (\n",
    "            roundup\n",
    "            # find the Y match on the other group\n",
    "            .assign(match=mt0.predict(roundup[columns])).assign(\n",
    "                bias_correct=ols0.predict(roundup[columns])\n",
    "                - ols0.predict(non_roundup.iloc[roundup_match_index][columns])\n",
    "            )\n",
    "        ),\n",
    "        (\n",
    "            non_roundup.assign(match=mt1.predict(non_roundup[columns])).assign(\n",
    "                bias_correct=ols1.predict(non_roundup[columns])\n",
    "                - ols1.predict(roundup.iloc[non_roundup_match_index][columns])\n",
    "            )\n",
    "        ),\n",
    "    ]\n",
    ")\n",
    "\n",
    "predicted.head()"
   ]
  },
  {
   "cell_type": "code",
   "execution_count": 94,
   "id": "2ceaff59",
   "metadata": {},
   "outputs": [
    {
     "data": {
      "text/plain": [
       "0.8195844347206687"
      ]
     },
     "execution_count": 94,
     "metadata": {},
     "output_type": "execute_result"
    }
   ],
   "source": [
    "np.mean(\n",
    "    (2 * predicted[\"round_up\"] - 1)\n",
    "    * ((predicted[\"net_rev1\"] - predicted[\"match\"]) - predicted[\"bias_correct\"])\n",
    ")"
   ]
  },
  {
   "cell_type": "code",
   "execution_count": 139,
   "id": "3749ae24",
   "metadata": {},
   "outputs": [
    {
     "name": "stdout",
     "output_type": "stream",
     "text": [
      "\n",
      "Treatment Effect Estimates: Matching\n",
      "\n",
      "                     Est.       S.e.          z      P>|z|      [95% Conf. int.]\n",
      "--------------------------------------------------------------------------------\n",
      "           ATE      0.838      0.544      1.540      0.124     -0.228      1.904\n",
      "           ATC      0.998      0.596      1.674      0.094     -0.171      2.167\n",
      "           ATT      0.024      0.555      0.043      0.965     -1.064      1.112\n",
      "\n"
     ]
    }
   ],
   "source": [
    "cm = CausalModel(\n",
    "    Y=smart_tbl[\"net_rev1\"].values,\n",
    "    D=smart_tbl[\"round_up\"].values,\n",
    "    X=smart_tbl[columns].values,\n",
    ")\n",
    "\n",
    "cm.est_via_matching(matches=1, bias_adj=True)\n",
    "\n",
    "print(cm.estimates)"
   ]
  },
  {
   "cell_type": "code",
   "execution_count": null,
   "id": "c4623719",
   "metadata": {},
   "outputs": [],
   "source": []
  },
  {
   "cell_type": "markdown",
   "id": "57d9d97e",
   "metadata": {},
   "source": [
    "### You Matching"
   ]
  },
  {
   "cell_type": "code",
   "execution_count": 101,
   "id": "3f410579",
   "metadata": {},
   "outputs": [
    {
     "data": {
      "text/html": [
       "<div>\n",
       "<style scoped>\n",
       "    .dataframe tbody tr th:only-of-type {\n",
       "        vertical-align: middle;\n",
       "    }\n",
       "\n",
       "    .dataframe tbody tr th {\n",
       "        vertical-align: top;\n",
       "    }\n",
       "\n",
       "    .dataframe thead th {\n",
       "        text-align: right;\n",
       "    }\n",
       "</style>\n",
       "<table border=\"1\" class=\"dataframe\">\n",
       "  <thead>\n",
       "    <tr style=\"text-align: right;\">\n",
       "      <th></th>\n",
       "      <th>round_up</th>\n",
       "      <th>net_rev1</th>\n",
       "      <th>propensity_score</th>\n",
       "    </tr>\n",
       "  </thead>\n",
       "  <tbody>\n",
       "    <tr>\n",
       "      <th>3</th>\n",
       "      <td>0</td>\n",
       "      <td>14.68</td>\n",
       "      <td>0.009024</td>\n",
       "    </tr>\n",
       "    <tr>\n",
       "      <th>7</th>\n",
       "      <td>0</td>\n",
       "      <td>8.55</td>\n",
       "      <td>0.140581</td>\n",
       "    </tr>\n",
       "    <tr>\n",
       "      <th>23</th>\n",
       "      <td>0</td>\n",
       "      <td>8.83</td>\n",
       "      <td>0.101332</td>\n",
       "    </tr>\n",
       "    <tr>\n",
       "      <th>26</th>\n",
       "      <td>0</td>\n",
       "      <td>5.86</td>\n",
       "      <td>0.085411</td>\n",
       "    </tr>\n",
       "    <tr>\n",
       "      <th>35</th>\n",
       "      <td>0</td>\n",
       "      <td>6.57</td>\n",
       "      <td>0.140629</td>\n",
       "    </tr>\n",
       "  </tbody>\n",
       "</table>\n",
       "</div>"
      ],
      "text/plain": [
       "    round_up  net_rev1  propensity_score\n",
       "3          0     14.68          0.009024\n",
       "7          0      8.55          0.140581\n",
       "23         0      8.83          0.101332\n",
       "26         0      5.86          0.085411\n",
       "35         0      6.57          0.140629"
      ]
     },
     "execution_count": 101,
     "metadata": {},
     "output_type": "execute_result"
    }
   ],
   "source": [
    "ps_model = LogisticRegression().fit(you_tbl[X], you_tbl[T])\n",
    "\n",
    "you_ps = you_tbl.assign(propensity_score=ps_model.predict_proba(you_tbl[X])[:, 1])\n",
    "\n",
    "you_ps[[\"round_up\", \"net_rev1\", \"propensity_score\"]].head()"
   ]
  },
  {
   "cell_type": "code",
   "execution_count": 102,
   "id": "b6f424f7",
   "metadata": {},
   "outputs": [],
   "source": [
    "you_ps_final = you_ps[[\"round_up\", \"net_rev1\", \"propensity_score\"]]"
   ]
  },
  {
   "cell_type": "code",
   "execution_count": 103,
   "id": "500bf3f8",
   "metadata": {},
   "outputs": [
    {
     "data": {
      "text/html": [
       "<table class=\"simpletable\">\n",
       "<tr>\n",
       "          <td></td>            <th>coef</th>     <th>std err</th>      <th>t</th>      <th>P>|t|</th>  <th>[0.025</th>    <th>0.975]</th>  \n",
       "</tr>\n",
       "<tr>\n",
       "  <th>Intercept</th>        <td>   13.0150</td> <td>    0.426</td> <td>   30.580</td> <td> 0.000</td> <td>   12.181</td> <td>   13.850</td>\n",
       "</tr>\n",
       "<tr>\n",
       "  <th>round_up</th>         <td>   -0.1193</td> <td>    0.640</td> <td>   -0.186</td> <td> 0.852</td> <td>   -1.374</td> <td>    1.135</td>\n",
       "</tr>\n",
       "<tr>\n",
       "  <th>propensity_score</th> <td>    0.4842</td> <td>    2.343</td> <td>    0.207</td> <td> 0.836</td> <td>   -4.109</td> <td>    5.078</td>\n",
       "</tr>\n",
       "</table>"
      ],
      "text/plain": [
       "<class 'statsmodels.iolib.table.SimpleTable'>"
      ]
     },
     "execution_count": 103,
     "metadata": {},
     "output_type": "execute_result"
    }
   ],
   "source": [
    "smf.ols(\n",
    "    \"net_rev1 ~ round_up + propensity_score\", data=you_ps_final\n",
    ").fit().summary().tables[1]"
   ]
  },
  {
   "cell_type": "code",
   "execution_count": 104,
   "id": "5eeffd0e",
   "metadata": {},
   "outputs": [
    {
     "name": "stderr",
     "output_type": "stream",
     "text": [
      "/var/folders/7n/yvwjwy5j0lg95vsn724zd9mh0000gp/T/ipykernel_32260/1823628384.py:2: UserWarning: \n",
      "\n",
      "`distplot` is a deprecated function and will be removed in seaborn v0.14.0.\n",
      "\n",
      "Please adapt your code to use either `displot` (a figure-level function with\n",
      "similar flexibility) or `histplot` (an axes-level function for histograms).\n",
      "\n",
      "For a guide to updating your code to use the new functions, please see\n",
      "https://gist.github.com/mwaskom/de44147ed2974457ad6372750bbe5751\n",
      "\n",
      "  sns.distplot(you_ps_final.query(\"round_up==0\")[\"propensity_score\"], kde=False, label=\"No Roundup\")\n",
      "/var/folders/7n/yvwjwy5j0lg95vsn724zd9mh0000gp/T/ipykernel_32260/1823628384.py:3: UserWarning: \n",
      "\n",
      "`distplot` is a deprecated function and will be removed in seaborn v0.14.0.\n",
      "\n",
      "Please adapt your code to use either `displot` (a figure-level function with\n",
      "similar flexibility) or `histplot` (an axes-level function for histograms).\n",
      "\n",
      "For a guide to updating your code to use the new functions, please see\n",
      "https://gist.github.com/mwaskom/de44147ed2974457ad6372750bbe5751\n",
      "\n",
      "  sns.distplot(you_ps_final.query(\"round_up==1\")[\"propensity_score\"], kde=False, label=\"Roundup\")\n"
     ]
    },
    {
     "data": {
      "image/png": "[encoded data removed]",
      "text/plain": [
       "<Figure size 432x288 with 1 Axes>"
      ]
     },
     "metadata": {
      "needs_background": "light"
     },
     "output_type": "display_data"
    }
   ],
   "source": [
    "import seaborn as sns\n",
    "\n",
    "sns.distplot(\n",
    "    you_ps_final.query(\"round_up==0\")[\"propensity_score\"], kde=False, label=\"No Roundup\"\n",
    ")\n",
    "sns.distplot(\n",
    "    you_ps_final.query(\"round_up==1\")[\"propensity_score\"], kde=False, label=\"Roundup\"\n",
    ")\n",
    "plt.title(\"Positivity Check\")\n",
    "plt.legend();"
   ]
  },
  {
   "cell_type": "code",
   "execution_count": 105,
   "id": "0ac70183",
   "metadata": {},
   "outputs": [
    {
     "name": "stdout",
     "output_type": "stream",
     "text": [
      "\n",
      "Treatment Effect Estimates: Matching\n",
      "\n",
      "                     Est.       S.e.          z      P>|z|      [95% Conf. int.]\n",
      "--------------------------------------------------------------------------------\n",
      "           ATE      0.758      1.422      0.533      0.594     -2.030      3.546\n",
      "           ATC      1.002      1.582      0.633      0.527     -2.099      4.103\n",
      "           ATT     -0.526      1.270     -0.414      0.679     -3.014      1.963\n",
      "\n"
     ]
    },
    {
     "name": "stderr",
     "output_type": "stream",
     "text": [
      "/Users/jiaweiwang/opt/anaconda3/lib/python3.9/site-packages/causalinference/estimators/matching.py:100: FutureWarning: `rcond` parameter will change to the default of machine precision times ``max(M, N)`` where M and N are the input matrix dimensions.\n",
      "To use the future default and silence this warning we advise to pass `rcond=None`, to keep using the old, explicitly pass `rcond=-1`.\n",
      "  return np.linalg.lstsq(X, Y)[0][1:]  # don't need intercept coef\n"
     ]
    }
   ],
   "source": [
    "cm_you = CausalModel(\n",
    "    Y=you_ps_final[\"net_rev1\"].values,\n",
    "    D=you_ps_final[\"round_up\"].values,\n",
    "    X=you_ps_final[[\"propensity_score\"]].values,\n",
    ")\n",
    "\n",
    "cm_you.est_via_matching(matches=1, bias_adj=True)\n",
    "\n",
    "print(cm_you.estimates)"
   ]
  },
  {
   "cell_type": "code",
   "execution_count": 106,
   "id": "27618611",
   "metadata": {},
   "outputs": [
    {
     "name": "stdout",
     "output_type": "stream",
     "text": [
      "\n",
      "Summary Statistics\n",
      "\n",
      "                      Controls (N_c=2661)         Treated (N_t=507)             \n",
      "       Variable         Mean         S.d.         Mean         S.d.     Raw-diff\n",
      "--------------------------------------------------------------------------------\n",
      "              Y       13.087       12.622       13.003       13.113       -0.083\n",
      "\n",
      "                      Controls (N_c=2661)         Treated (N_t=507)             \n",
      "       Variable         Mean         S.d.         Mean         S.d.     Nor-diff\n",
      "--------------------------------------------------------------------------------\n",
      "             X0        0.148        0.093        0.222        0.113        0.717\n",
      "\n"
     ]
    }
   ],
   "source": [
    "print(cm_you.summary_stats)"
   ]
  },
  {
   "cell_type": "code",
   "execution_count": 107,
   "id": "2bac610e",
   "metadata": {},
   "outputs": [],
   "source": [
    "from sklearn.neighbors import KNeighborsRegressor\n",
    "\n",
    "roundup = you_tbl.query(\"round_up==1\")\n",
    "non_roundup = you_tbl.query(\"round_up==0\")\n",
    "\n",
    "mt0 = KNeighborsRegressor(n_neighbors=1).fit(\n",
    "    non_roundup[columns], non_roundup[\"net_rev1\"]\n",
    ")\n",
    "mt1 = KNeighborsRegressor(n_neighbors=1).fit(roundup[columns], roundup[\"net_rev1\"])\n",
    "\n",
    "predicted = pd.concat(\n",
    "    [\n",
    "        # find matches for the treated looking at the untreated knn model\n",
    "        roundup.assign(match=mt0.predict(roundup[columns])),\n",
    "        # find matches for the untreated looking at the treated knn model\n",
    "        non_roundup.assign(match=mt1.predict(non_roundup[columns])),\n",
    "    ]\n",
    ")"
   ]
  },
  {
   "cell_type": "code",
   "execution_count": 108,
   "id": "e0817aa7",
   "metadata": {},
   "outputs": [],
   "source": [
    "# fit the linear regression model to estimate mu_0(x)\n",
    "ols0 = LinearRegression().fit(non_roundup[columns], non_roundup[\"net_rev1\"])\n",
    "ols1 = LinearRegression().fit(roundup[columns], roundup[\"net_rev1\"])\n",
    "\n",
    "# find the units that match to the treated\n",
    "roundup_match_index = mt0.kneighbors(roundup[columns], n_neighbors=1)[1].ravel()\n",
    "\n",
    "# find the units that match to the untreatd\n",
    "non_roundup_match_index = mt1.kneighbors(non_roundup[columns], n_neighbors=1)[1].ravel()"
   ]
  },
  {
   "cell_type": "code",
   "execution_count": 109,
   "id": "0eedaf4d",
   "metadata": {},
   "outputs": [
    {
     "data": {
      "text/html": [
       "<div>\n",
       "<style scoped>\n",
       "    .dataframe tbody tr th:only-of-type {\n",
       "        vertical-align: middle;\n",
       "    }\n",
       "\n",
       "    .dataframe tbody tr th {\n",
       "        vertical-align: top;\n",
       "    }\n",
       "\n",
       "    .dataframe thead th {\n",
       "        text-align: right;\n",
       "    }\n",
       "</style>\n",
       "<table border=\"1\" class=\"dataframe\">\n",
       "  <thead>\n",
       "    <tr style=\"text-align: right;\">\n",
       "      <th></th>\n",
       "      <th>mos_to_kycc</th>\n",
       "      <th>n_in</th>\n",
       "      <th>n_out</th>\n",
       "      <th>avg_out_amount</th>\n",
       "      <th>avg_in_amount</th>\n",
       "      <th>pri_balance</th>\n",
       "      <th>country_tnc_legal_DEU</th>\n",
       "      <th>country_tnc_legal_ESP</th>\n",
       "      <th>country_tnc_legal_FRA</th>\n",
       "      <th>round_up</th>\n",
       "      <th>net_rev1</th>\n",
       "      <th>match</th>\n",
       "      <th>bias_correct</th>\n",
       "    </tr>\n",
       "  </thead>\n",
       "  <tbody>\n",
       "    <tr>\n",
       "      <th>37</th>\n",
       "      <td>-0.716012</td>\n",
       "      <td>-0.224448</td>\n",
       "      <td>0.555604</td>\n",
       "      <td>-0.144452</td>\n",
       "      <td>-0.116009</td>\n",
       "      <td>-0.181683</td>\n",
       "      <td>0</td>\n",
       "      <td>1</td>\n",
       "      <td>0</td>\n",
       "      <td>1</td>\n",
       "      <td>7.89</td>\n",
       "      <td>1.28</td>\n",
       "      <td>-1.047986</td>\n",
       "    </tr>\n",
       "    <tr>\n",
       "      <th>70</th>\n",
       "      <td>0.018312</td>\n",
       "      <td>-0.224448</td>\n",
       "      <td>0.744153</td>\n",
       "      <td>-0.146254</td>\n",
       "      <td>-0.049688</td>\n",
       "      <td>-0.073114</td>\n",
       "      <td>1</td>\n",
       "      <td>0</td>\n",
       "      <td>0</td>\n",
       "      <td>1</td>\n",
       "      <td>9.48</td>\n",
       "      <td>5.61</td>\n",
       "      <td>0.060819</td>\n",
       "    </tr>\n",
       "    <tr>\n",
       "      <th>74</th>\n",
       "      <td>0.018312</td>\n",
       "      <td>0.417005</td>\n",
       "      <td>0.697015</td>\n",
       "      <td>-0.108219</td>\n",
       "      <td>-0.148590</td>\n",
       "      <td>-0.229827</td>\n",
       "      <td>1</td>\n",
       "      <td>0</td>\n",
       "      <td>0</td>\n",
       "      <td>1</td>\n",
       "      <td>18.03</td>\n",
       "      <td>5.53</td>\n",
       "      <td>-0.425917</td>\n",
       "    </tr>\n",
       "    <tr>\n",
       "      <th>113</th>\n",
       "      <td>1.486959</td>\n",
       "      <td>0.096279</td>\n",
       "      <td>-0.528553</td>\n",
       "      <td>0.060090</td>\n",
       "      <td>-0.119642</td>\n",
       "      <td>-0.232537</td>\n",
       "      <td>1</td>\n",
       "      <td>0</td>\n",
       "      <td>0</td>\n",
       "      <td>1</td>\n",
       "      <td>6.76</td>\n",
       "      <td>10.55</td>\n",
       "      <td>-0.646384</td>\n",
       "    </tr>\n",
       "    <tr>\n",
       "      <th>128</th>\n",
       "      <td>0.752635</td>\n",
       "      <td>-0.865901</td>\n",
       "      <td>-1.094200</td>\n",
       "      <td>-0.118206</td>\n",
       "      <td>-0.262570</td>\n",
       "      <td>-0.219324</td>\n",
       "      <td>0</td>\n",
       "      <td>0</td>\n",
       "      <td>1</td>\n",
       "      <td>1</td>\n",
       "      <td>8.16</td>\n",
       "      <td>6.92</td>\n",
       "      <td>0.117891</td>\n",
       "    </tr>\n",
       "  </tbody>\n",
       "</table>\n",
       "</div>"
      ],
      "text/plain": [
       "     mos_to_kycc      n_in     n_out  avg_out_amount  avg_in_amount  \\\n",
       "37     -0.716012 -0.224448  0.555604       -0.144452      -0.116009   \n",
       "70      0.018312 -0.224448  0.744153       -0.146254      -0.049688   \n",
       "74      0.018312  0.417005  0.697015       -0.108219      -0.148590   \n",
       "113     1.486959  0.096279 -0.528553        0.060090      -0.119642   \n",
       "128     0.752635 -0.865901 -1.094200       -0.118206      -0.262570   \n",
       "\n",
       "     pri_balance  country_tnc_legal_DEU         country_tnc_legal_ESP         \\\n",
       "37     -0.181683                             0                             1   \n",
       "70     -0.073114                             1                             0   \n",
       "74     -0.229827                             1                             0   \n",
       "113    -0.232537                             1                             0   \n",
       "128    -0.219324                             0                             0   \n",
       "\n",
       "     country_tnc_legal_FRA         round_up  net_rev1  match  bias_correct  \n",
       "37                              0         1      7.89   1.28     -1.047986  \n",
       "70                              0         1      9.48   5.61      0.060819  \n",
       "74                              0         1     18.03   5.53     -0.425917  \n",
       "113                             0         1      6.76  10.55     -0.646384  \n",
       "128                             1         1      8.16   6.92      0.117891  "
      ]
     },
     "execution_count": 109,
     "metadata": {},
     "output_type": "execute_result"
    }
   ],
   "source": [
    "predicted = pd.concat(\n",
    "    [\n",
    "        (\n",
    "            roundup\n",
    "            # find the Y match on the other group\n",
    "            .assign(match=mt0.predict(roundup[columns])).assign(\n",
    "                bias_correct=ols0.predict(roundup[columns])\n",
    "                - ols0.predict(non_roundup.iloc[roundup_match_index][columns])\n",
    "            )\n",
    "        ),\n",
    "        (\n",
    "            non_roundup.assign(match=mt1.predict(non_roundup[columns])).assign(\n",
    "                bias_correct=ols1.predict(non_roundup[columns])\n",
    "                - ols1.predict(roundup.iloc[non_roundup_match_index][columns])\n",
    "            )\n",
    "        ),\n",
    "    ]\n",
    ")\n",
    "\n",
    "predicted.head()"
   ]
  },
  {
   "cell_type": "code",
   "execution_count": 110,
   "id": "02afa91e",
   "metadata": {},
   "outputs": [
    {
     "data": {
      "text/plain": [
       "-0.025440755227265327"
      ]
     },
     "execution_count": 110,
     "metadata": {},
     "output_type": "execute_result"
    }
   ],
   "source": [
    "np.mean(\n",
    "    (2 * predicted[\"round_up\"] - 1)\n",
    "    * ((predicted[\"net_rev1\"] - predicted[\"match\"]) - predicted[\"bias_correct\"])\n",
    ")"
   ]
  },
  {
   "cell_type": "code",
   "execution_count": 138,
   "id": "38599250",
   "metadata": {},
   "outputs": [
    {
     "name": "stdout",
     "output_type": "stream",
     "text": [
      "\n",
      "Treatment Effect Estimates: Matching\n",
      "\n",
      "                     Est.       S.e.          z      P>|z|      [95% Conf. int.]\n",
      "--------------------------------------------------------------------------------\n",
      "           ATE      0.643      1.153      0.558      0.577     -1.617      2.903\n",
      "           ATC      0.511      1.232      0.414      0.679     -1.905      2.926\n",
      "           ATT      1.338      1.439      0.930      0.352     -1.482      4.158\n",
      "\n"
     ]
    }
   ],
   "source": [
    "cm = CausalModel(\n",
    "    Y=you_tbl[\"net_rev1\"].values,\n",
    "    D=you_tbl[\"round_up\"].values,\n",
    "    X=you_tbl[columns].values,\n",
    ")\n",
    "\n",
    "cm.est_via_matching(matches=1, bias_adj=True)\n",
    "\n",
    "print(cm.estimates)"
   ]
  },
  {
   "cell_type": "code",
   "execution_count": null,
   "id": "91808d99",
   "metadata": {},
   "outputs": [],
   "source": []
  },
  {
   "cell_type": "markdown",
   "id": "032f994c",
   "metadata": {},
   "source": [
    "### All Tiers"
   ]
  },
  {
   "cell_type": "code",
   "execution_count": 111,
   "id": "e2d36edd",
   "metadata": {},
   "outputs": [
    {
     "name": "stdout",
     "output_type": "stream",
     "text": [
      "(19196, 3)\n"
     ]
    }
   ],
   "source": [
    "df_cat = pd.get_dummies(df[categ], columns=categ, drop_first=True)\n",
    "\n",
    "print(df_cat.shape)"
   ]
  },
  {
   "cell_type": "code",
   "execution_count": 112,
   "id": "4bdc7577",
   "metadata": {},
   "outputs": [],
   "source": [
    "df_num = StandardScaler().fit_transform(df[num].values)"
   ]
  },
  {
   "cell_type": "code",
   "execution_count": 113,
   "id": "848d16c1",
   "metadata": {},
   "outputs": [],
   "source": [
    "df_num = pd.DataFrame(df_num, index=df.index, columns=num)"
   ]
  },
  {
   "cell_type": "code",
   "execution_count": 114,
   "id": "4d6fcf28",
   "metadata": {},
   "outputs": [],
   "source": [
    "final_df = pd.concat([df_num, df_cat], axis=1)"
   ]
  },
  {
   "cell_type": "code",
   "execution_count": 115,
   "id": "f4b65d79",
   "metadata": {},
   "outputs": [],
   "source": [
    "tbl_ty = df[[\"round_up\", \"net_rev1\"]].set_index(df.index)"
   ]
  },
  {
   "cell_type": "code",
   "execution_count": 116,
   "id": "6b114b6f",
   "metadata": {},
   "outputs": [],
   "source": [
    "final_tbl = pd.concat([final_df, tbl_ty], axis=1)"
   ]
  },
  {
   "cell_type": "code",
   "execution_count": 117,
   "id": "e593ea06",
   "metadata": {},
   "outputs": [
    {
     "data": {
      "text/html": [
       "<div>\n",
       "<style scoped>\n",
       "    .dataframe tbody tr th:only-of-type {\n",
       "        vertical-align: middle;\n",
       "    }\n",
       "\n",
       "    .dataframe tbody tr th {\n",
       "        vertical-align: top;\n",
       "    }\n",
       "\n",
       "    .dataframe thead th {\n",
       "        text-align: right;\n",
       "    }\n",
       "</style>\n",
       "<table border=\"1\" class=\"dataframe\">\n",
       "  <thead>\n",
       "    <tr style=\"text-align: right;\">\n",
       "      <th></th>\n",
       "      <th>round_up</th>\n",
       "      <th>net_rev1</th>\n",
       "      <th>propensity_score</th>\n",
       "    </tr>\n",
       "  </thead>\n",
       "  <tbody>\n",
       "    <tr>\n",
       "      <th>0</th>\n",
       "      <td>0</td>\n",
       "      <td>3.48</td>\n",
       "      <td>0.142868</td>\n",
       "    </tr>\n",
       "    <tr>\n",
       "      <th>1</th>\n",
       "      <td>0</td>\n",
       "      <td>4.55</td>\n",
       "      <td>0.114939</td>\n",
       "    </tr>\n",
       "    <tr>\n",
       "      <th>2</th>\n",
       "      <td>0</td>\n",
       "      <td>4.89</td>\n",
       "      <td>0.121954</td>\n",
       "    </tr>\n",
       "    <tr>\n",
       "      <th>3</th>\n",
       "      <td>0</td>\n",
       "      <td>14.68</td>\n",
       "      <td>0.017482</td>\n",
       "    </tr>\n",
       "    <tr>\n",
       "      <th>5</th>\n",
       "      <td>0</td>\n",
       "      <td>13.49</td>\n",
       "      <td>0.120449</td>\n",
       "    </tr>\n",
       "  </tbody>\n",
       "</table>\n",
       "</div>"
      ],
      "text/plain": [
       "   round_up  net_rev1  propensity_score\n",
       "0         0      3.48          0.142868\n",
       "1         0      4.55          0.114939\n",
       "2         0      4.89          0.121954\n",
       "3         0     14.68          0.017482\n",
       "5         0     13.49          0.120449"
      ]
     },
     "execution_count": 117,
     "metadata": {},
     "output_type": "execute_result"
    }
   ],
   "source": [
    "T = \"round_up\"\n",
    "Y = \"net_rev1\"\n",
    "X = final_tbl.columns.drop([T, Y])\n",
    "\n",
    "ps_model = LogisticRegression().fit(final_tbl[X], final_tbl[T])\n",
    "\n",
    "df_ps = final_tbl.assign(propensity_score=ps_model.predict_proba(final_tbl[X])[:, 1])\n",
    "\n",
    "df_ps[[\"round_up\", \"net_rev1\", \"propensity_score\"]].head()"
   ]
  },
  {
   "cell_type": "code",
   "execution_count": 118,
   "id": "ad1c2a45",
   "metadata": {},
   "outputs": [],
   "source": [
    "df_ps_final = df_ps[[\"round_up\", \"net_rev1\", \"propensity_score\"]]"
   ]
  },
  {
   "cell_type": "code",
   "execution_count": 119,
   "id": "b79f7dc4",
   "metadata": {},
   "outputs": [
    {
     "data": {
      "text/html": [
       "<table class=\"simpletable\">\n",
       "<tr>\n",
       "          <td></td>            <th>coef</th>     <th>std err</th>      <th>t</th>      <th>P>|t|</th>  <th>[0.025</th>    <th>0.975]</th>  \n",
       "</tr>\n",
       "<tr>\n",
       "  <th>Intercept</th>        <td>   11.8462</td> <td>    0.191</td> <td>   62.147</td> <td> 0.000</td> <td>   11.473</td> <td>   12.220</td>\n",
       "</tr>\n",
       "<tr>\n",
       "  <th>round_up</th>         <td>    0.5879</td> <td>    0.265</td> <td>    2.216</td> <td> 0.027</td> <td>    0.068</td> <td>    1.108</td>\n",
       "</tr>\n",
       "<tr>\n",
       "  <th>propensity_score</th> <td>   -2.4907</td> <td>    1.006</td> <td>   -2.476</td> <td> 0.013</td> <td>   -4.462</td> <td>   -0.519</td>\n",
       "</tr>\n",
       "</table>"
      ],
      "text/plain": [
       "<class 'statsmodels.iolib.table.SimpleTable'>"
      ]
     },
     "execution_count": 119,
     "metadata": {},
     "output_type": "execute_result"
    }
   ],
   "source": [
    "smf.ols(\n",
    "    \"net_rev1 ~ round_up + propensity_score\", data=df_ps_final\n",
    ").fit().summary().tables[1]"
   ]
  },
  {
   "cell_type": "code",
   "execution_count": 120,
   "id": "175072de",
   "metadata": {},
   "outputs": [
    {
     "name": "stderr",
     "output_type": "stream",
     "text": [
      "/var/folders/7n/yvwjwy5j0lg95vsn724zd9mh0000gp/T/ipykernel_32260/678845822.py:2: UserWarning: \n",
      "\n",
      "`distplot` is a deprecated function and will be removed in seaborn v0.14.0.\n",
      "\n",
      "Please adapt your code to use either `displot` (a figure-level function with\n",
      "similar flexibility) or `histplot` (an axes-level function for histograms).\n",
      "\n",
      "For a guide to updating your code to use the new functions, please see\n",
      "https://gist.github.com/mwaskom/de44147ed2974457ad6372750bbe5751\n",
      "\n",
      "  sns.distplot(df_ps_final.query(\"round_up==0\")[\"propensity_score\"], kde=False, label=\"No Roundup\")\n",
      "/var/folders/7n/yvwjwy5j0lg95vsn724zd9mh0000gp/T/ipykernel_32260/678845822.py:3: UserWarning: \n",
      "\n",
      "`distplot` is a deprecated function and will be removed in seaborn v0.14.0.\n",
      "\n",
      "Please adapt your code to use either `displot` (a figure-level function with\n",
      "similar flexibility) or `histplot` (an axes-level function for histograms).\n",
      "\n",
      "For a guide to updating your code to use the new functions, please see\n",
      "https://gist.github.com/mwaskom/de44147ed2974457ad6372750bbe5751\n",
      "\n",
      "  sns.distplot(df_ps_final.query(\"round_up==1\")[\"propensity_score\"], kde=False, label=\"Roundup\")\n"
     ]
    },
    {
     "data": {
      "image/png": "[encoded data removed]",
      "text/plain": [
       "<Figure size 432x288 with 1 Axes>"
      ]
     },
     "metadata": {
      "needs_background": "light"
     },
     "output_type": "display_data"
    }
   ],
   "source": [
    "import seaborn as sns\n",
    "\n",
    "sns.distplot(\n",
    "    df_ps_final.query(\"round_up==0\")[\"propensity_score\"], kde=False, label=\"No Roundup\"\n",
    ")\n",
    "sns.distplot(\n",
    "    df_ps_final.query(\"round_up==1\")[\"propensity_score\"], kde=False, label=\"Roundup\"\n",
    ")\n",
    "plt.title(\"Positivity Check\")\n",
    "plt.legend();"
   ]
  },
  {
   "cell_type": "code",
   "execution_count": 121,
   "id": "17da9133",
   "metadata": {
    "scrolled": true
   },
   "outputs": [
    {
     "name": "stderr",
     "output_type": "stream",
     "text": [
      "/Users/jiaweiwang/opt/anaconda3/lib/python3.9/site-packages/causalinference/estimators/matching.py:100: FutureWarning: `rcond` parameter will change to the default of machine precision times ``max(M, N)`` where M and N are the input matrix dimensions.\n",
      "To use the future default and silence this warning we advise to pass `rcond=None`, to keep using the old, explicitly pass `rcond=-1`.\n",
      "  return np.linalg.lstsq(X, Y)[0][1:]  # don't need intercept coef\n"
     ]
    },
    {
     "name": "stdout",
     "output_type": "stream",
     "text": [
      "\n",
      "Treatment Effect Estimates: Matching\n",
      "\n",
      "                     Est.       S.e.          z      P>|z|      [95% Conf. int.]\n",
      "--------------------------------------------------------------------------------\n",
      "           ATE      0.970      0.566      1.714      0.087     -0.139      2.080\n",
      "           ATC      1.155      0.630      1.833      0.067     -0.080      2.391\n",
      "           ATT      0.065      0.525      0.123      0.902     -0.965      1.094\n",
      "\n"
     ]
    }
   ],
   "source": [
    "cm = CausalModel(\n",
    "    Y=df_ps_final[\"net_rev1\"].values,\n",
    "    D=df_ps_final[\"round_up\"].values,\n",
    "    X=df_ps_final[[\"propensity_score\"]].values,\n",
    ")\n",
    "\n",
    "cm.est_via_matching(matches=1, bias_adj=True)\n",
    "\n",
    "print(cm.estimates)"
   ]
  },
  {
   "cell_type": "code",
   "execution_count": 122,
   "id": "7182869c",
   "metadata": {},
   "outputs": [
    {
     "name": "stdout",
     "output_type": "stream",
     "text": [
      "\n",
      "Summary Statistics\n",
      "\n",
      "                     Controls (N_c=15941)        Treated (N_t=3255)             \n",
      "       Variable         Mean         S.d.         Mean         S.d.     Raw-diff\n",
      "--------------------------------------------------------------------------------\n",
      "              Y       11.453       13.224       11.869       13.737        0.416\n",
      "\n",
      "                     Controls (N_c=15941)        Treated (N_t=3255)             \n",
      "       Variable         Mean         S.d.         Mean         S.d.     Nor-diff\n",
      "--------------------------------------------------------------------------------\n",
      "             X0        0.158        0.092        0.227        0.109        0.682\n",
      "\n"
     ]
    }
   ],
   "source": [
    "print(cm.summary_stats)"
   ]
  },
  {
   "cell_type": "code",
   "execution_count": 123,
   "id": "df566414",
   "metadata": {},
   "outputs": [],
   "source": [
    "from sklearn.neighbors import KNeighborsRegressor\n",
    "\n",
    "roundup = final_tbl.query(\"round_up==1\")\n",
    "non_roundup = final_tbl.query(\"round_up==0\")\n",
    "\n",
    "mt0 = KNeighborsRegressor(n_neighbors=1).fit(\n",
    "    non_roundup[columns], non_roundup[\"net_rev1\"]\n",
    ")\n",
    "mt1 = KNeighborsRegressor(n_neighbors=1).fit(roundup[columns], roundup[\"net_rev1\"])\n",
    "\n",
    "predicted = pd.concat(\n",
    "    [\n",
    "        # find matches for the treated looking at the untreated knn model\n",
    "        roundup.assign(match=mt0.predict(roundup[columns])),\n",
    "        # find matches for the untreated looking at the treated knn model\n",
    "        non_roundup.assign(match=mt1.predict(non_roundup[columns])),\n",
    "    ]\n",
    ")"
   ]
  },
  {
   "cell_type": "code",
   "execution_count": 124,
   "id": "ea88b8d8",
   "metadata": {},
   "outputs": [],
   "source": [
    "from sklearn.linear_model import LinearRegression\n",
    "\n",
    "# fit the linear regression model to estimate mu_0(x)\n",
    "ols0 = LinearRegression().fit(non_roundup[columns], non_roundup[\"net_rev1\"])\n",
    "ols1 = LinearRegression().fit(roundup[columns], roundup[\"net_rev1\"])\n",
    "\n",
    "# find the units that match to the treated\n",
    "roundup_match_index = mt0.kneighbors(roundup[columns], n_neighbors=1)[1].ravel()\n",
    "\n",
    "# find the units that match to the untreatd\n",
    "non_roundup_match_index = mt1.kneighbors(non_roundup[columns], n_neighbors=1)[1].ravel()"
   ]
  },
  {
   "cell_type": "code",
   "execution_count": 125,
   "id": "6e19202d",
   "metadata": {},
   "outputs": [
    {
     "data": {
      "text/html": [
       "<div>\n",
       "<style scoped>\n",
       "    .dataframe tbody tr th:only-of-type {\n",
       "        vertical-align: middle;\n",
       "    }\n",
       "\n",
       "    .dataframe tbody tr th {\n",
       "        vertical-align: top;\n",
       "    }\n",
       "\n",
       "    .dataframe thead th {\n",
       "        text-align: right;\n",
       "    }\n",
       "</style>\n",
       "<table border=\"1\" class=\"dataframe\">\n",
       "  <thead>\n",
       "    <tr style=\"text-align: right;\">\n",
       "      <th></th>\n",
       "      <th>mos_to_kycc</th>\n",
       "      <th>n_in</th>\n",
       "      <th>n_out</th>\n",
       "      <th>avg_out_amount</th>\n",
       "      <th>avg_in_amount</th>\n",
       "      <th>pri_balance</th>\n",
       "      <th>country_tnc_legal_DEU</th>\n",
       "      <th>country_tnc_legal_ESP</th>\n",
       "      <th>country_tnc_legal_FRA</th>\n",
       "      <th>round_up</th>\n",
       "      <th>net_rev1</th>\n",
       "      <th>match</th>\n",
       "      <th>bias_correct</th>\n",
       "    </tr>\n",
       "  </thead>\n",
       "  <tbody>\n",
       "    <tr>\n",
       "      <th>6</th>\n",
       "      <td>0.070875</td>\n",
       "      <td>-0.808565</td>\n",
       "      <td>-0.870617</td>\n",
       "      <td>-0.116923</td>\n",
       "      <td>-0.228116</td>\n",
       "      <td>-0.212807</td>\n",
       "      <td>0</td>\n",
       "      <td>1</td>\n",
       "      <td>0</td>\n",
       "      <td>1</td>\n",
       "      <td>10.07</td>\n",
       "      <td>4.47</td>\n",
       "      <td>0.063110</td>\n",
       "    </tr>\n",
       "    <tr>\n",
       "      <th>8</th>\n",
       "      <td>1.530647</td>\n",
       "      <td>-0.270810</td>\n",
       "      <td>1.114674</td>\n",
       "      <td>-0.149547</td>\n",
       "      <td>-0.108067</td>\n",
       "      <td>-0.180236</td>\n",
       "      <td>1</td>\n",
       "      <td>0</td>\n",
       "      <td>0</td>\n",
       "      <td>1</td>\n",
       "      <td>3.74</td>\n",
       "      <td>47.18</td>\n",
       "      <td>0.256787</td>\n",
       "    </tr>\n",
       "    <tr>\n",
       "      <th>14</th>\n",
       "      <td>0.070875</td>\n",
       "      <td>-0.270810</td>\n",
       "      <td>0.006605</td>\n",
       "      <td>0.003242</td>\n",
       "      <td>0.207467</td>\n",
       "      <td>-0.209282</td>\n",
       "      <td>0</td>\n",
       "      <td>0</td>\n",
       "      <td>1</td>\n",
       "      <td>1</td>\n",
       "      <td>16.94</td>\n",
       "      <td>8.38</td>\n",
       "      <td>-0.175248</td>\n",
       "    </tr>\n",
       "    <tr>\n",
       "      <th>20</th>\n",
       "      <td>1.530647</td>\n",
       "      <td>1.073577</td>\n",
       "      <td>-0.455091</td>\n",
       "      <td>-0.142598</td>\n",
       "      <td>-0.342347</td>\n",
       "      <td>-0.213371</td>\n",
       "      <td>0</td>\n",
       "      <td>0</td>\n",
       "      <td>1</td>\n",
       "      <td>1</td>\n",
       "      <td>22.47</td>\n",
       "      <td>7.06</td>\n",
       "      <td>-0.095760</td>\n",
       "    </tr>\n",
       "    <tr>\n",
       "      <th>37</th>\n",
       "      <td>-0.659012</td>\n",
       "      <td>-0.270810</td>\n",
       "      <td>0.606809</td>\n",
       "      <td>-0.128031</td>\n",
       "      <td>-0.100815</td>\n",
       "      <td>-0.156628</td>\n",
       "      <td>0</td>\n",
       "      <td>1</td>\n",
       "      <td>0</td>\n",
       "      <td>1</td>\n",
       "      <td>7.89</td>\n",
       "      <td>32.65</td>\n",
       "      <td>0.203807</td>\n",
       "    </tr>\n",
       "  </tbody>\n",
       "</table>\n",
       "</div>"
      ],
      "text/plain": [
       "    mos_to_kycc      n_in     n_out  avg_out_amount  avg_in_amount  \\\n",
       "6      0.070875 -0.808565 -0.870617       -0.116923      -0.228116   \n",
       "8      1.530647 -0.270810  1.114674       -0.149547      -0.108067   \n",
       "14     0.070875 -0.270810  0.006605        0.003242       0.207467   \n",
       "20     1.530647  1.073577 -0.455091       -0.142598      -0.342347   \n",
       "37    -0.659012 -0.270810  0.606809       -0.128031      -0.100815   \n",
       "\n",
       "    pri_balance  country_tnc_legal_DEU         country_tnc_legal_ESP         \\\n",
       "6     -0.212807                             0                             1   \n",
       "8     -0.180236                             1                             0   \n",
       "14    -0.209282                             0                             0   \n",
       "20    -0.213371                             0                             0   \n",
       "37    -0.156628                             0                             1   \n",
       "\n",
       "    country_tnc_legal_FRA         round_up  net_rev1  match  bias_correct  \n",
       "6                              0         1     10.07   4.47      0.063110  \n",
       "8                              0         1      3.74  47.18      0.256787  \n",
       "14                             1         1     16.94   8.38     -0.175248  \n",
       "20                             1         1     22.47   7.06     -0.095760  \n",
       "37                             0         1      7.89  32.65      0.203807  "
      ]
     },
     "execution_count": 125,
     "metadata": {},
     "output_type": "execute_result"
    }
   ],
   "source": [
    "predicted = pd.concat(\n",
    "    [\n",
    "        (\n",
    "            roundup\n",
    "            # find the Y match on the other group\n",
    "            .assign(match=mt0.predict(roundup[columns])).assign(\n",
    "                bias_correct=ols0.predict(roundup[columns])\n",
    "                - ols0.predict(non_roundup.iloc[roundup_match_index][columns])\n",
    "            )\n",
    "        ),\n",
    "        (\n",
    "            non_roundup.assign(match=mt1.predict(non_roundup[columns])).assign(\n",
    "                bias_correct=ols1.predict(non_roundup[columns])\n",
    "                - ols1.predict(roundup.iloc[non_roundup_match_index][columns])\n",
    "            )\n",
    "        ),\n",
    "    ]\n",
    ")\n",
    "\n",
    "predicted.head()"
   ]
  },
  {
   "cell_type": "code",
   "execution_count": 126,
   "id": "41d4e682",
   "metadata": {},
   "outputs": [
    {
     "data": {
      "text/plain": [
       "1.1455690775204292"
      ]
     },
     "execution_count": 126,
     "metadata": {},
     "output_type": "execute_result"
    }
   ],
   "source": [
    "np.mean(\n",
    "    (2 * predicted[\"round_up\"] - 1)\n",
    "    * ((predicted[\"net_rev1\"] - predicted[\"match\"]) - predicted[\"bias_correct\"])\n",
    ")"
   ]
  },
  {
   "cell_type": "code",
   "execution_count": 137,
   "id": "c264edff",
   "metadata": {},
   "outputs": [
    {
     "name": "stderr",
     "output_type": "stream",
     "text": [
      "/Users/jiaweiwang/opt/anaconda3/lib/python3.9/site-packages/causalinference/estimators/matching.py:100: FutureWarning: `rcond` parameter will change to the default of machine precision times ``max(M, N)`` where M and N are the input matrix dimensions.\n",
      "To use the future default and silence this warning we advise to pass `rcond=None`, to keep using the old, explicitly pass `rcond=-1`.\n",
      "  return np.linalg.lstsq(X, Y)[0][1:]  # don't need intercept coef\n"
     ]
    },
    {
     "name": "stdout",
     "output_type": "stream",
     "text": [
      "\n",
      "Treatment Effect Estimates: Matching\n",
      "\n",
      "                     Est.       S.e.          z      P>|z|      [95% Conf. int.]\n",
      "--------------------------------------------------------------------------------\n",
      "           ATE      0.987      0.494      2.000      0.045      0.020      1.955\n",
      "           ATC      1.104      0.543      2.032      0.042      0.039      2.169\n",
      "           ATT      0.415      0.493      0.842      0.400     -0.551      1.382\n",
      "\n"
     ]
    }
   ],
   "source": [
    "cm = CausalModel(\n",
    "    Y=final_tbl[\"net_rev1\"].values,\n",
    "    D=final_tbl[\"round_up\"].values,\n",
    "    X=final_tbl[columns].values,\n",
    ")\n",
    "\n",
    "cm.est_via_matching(matches=1, bias_adj=True)\n",
    "\n",
    "print(cm.estimates)"
   ]
  },
  {
   "cell_type": "markdown",
   "id": "683e1ad1",
   "metadata": {},
   "source": [
    "### Result summary can be found in the link "
   ]
  }
 ],
 "metadata": {
  "kernelspec": {
   "display_name": "Python 3 (ipykernel)",
   "language": "python",
   "name": "python3"
  },
  "language_info": {
   "codemirror_mode": {
    "name": "ipython",
    "version": 3
   },
   "file_extension": ".py",
   "mimetype": "text/x-python",
   "name": "python",
   "nbconvert_exporter": "python",
   "pygments_lexer": "ipython3",
   "version": "3.9.7"
  }
 },
 "nbformat": 4,
 "nbformat_minor": 5
}
