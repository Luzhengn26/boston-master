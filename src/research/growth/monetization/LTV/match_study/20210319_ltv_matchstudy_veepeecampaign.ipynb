{
 "cells": [
  {
   "cell_type": "markdown",
   "source": [
    "title: LTV Match study - Looking back on the Veepee Campaign\n",
    "author: Brieuc Van Thienen     \n",
    "date: 2021-03-19      \n",
    "region: EU         \n",
    "summary: To assess the success of the Veepee campaign, we addressed the following questions: How does the distribution of profits compare for Veepee users vs. non-Veepee users, that signed up over the same period in France (Oct 4th - Oct 21st 2020)? Can we establish that users from the Veepee campaign are more / less profitable on average than our control group? What is the estimated treatment effect, in Euros, that could be attributed to the Veepee campaign? We compare the predicted LTV / CAC of the Veepee campaign to that of France and the affiliate channel in the month of October. In order to answer question 2, we perform a \"match study\" on our observational data (read \"data that did not result from a proper A/B test setup\"), by borrowing concepts from causal inference. A match study consists in comparing the predicted profits of each user from the treatment group (read \"The Veepee campaign\") to that of N users from the control group. The control group consists of a subset of non-Veepee users from the same period, that have same characteristics: gender, country, kyc_month, channel, first_product, signup_coupon, and marketing_in_app_update_opt_in. The covariates are known to have an effect on predicted LTV in general, and we want to control for them to identify the treatment effect that is coming from the Veepee campaign.\n",
    "tags: growth, marketing, ad-hoc campaign, marketing campaign, ltv, match study, ltv / cac, veepee, france\n",
    "    "
   ],
   "metadata": {}
  },
  {
   "cell_type": "code",
   "execution_count": null,
   "source": [
    "!pip install warnings\n",
    "import warnings\n",
    "\n",
    "warnings.filterwarnings(\"ignore\")"
   ],
   "outputs": [],
   "metadata": {}
  },
  {
   "cell_type": "code",
   "execution_count": null,
   "source": [
    "import math\n",
    "import random\n",
    "import pandas as pd\n",
    "import numpy as np\n",
    "import matplotlib.pyplot as plt\n",
    "\n",
    "!pip install seaborn\n",
    "import seaborn as sns\n",
    "\n",
    "sns.set_style(\"whitegrid\")\n",
    "from utils.datalib_database import df_from_sql\n",
    "\n"
   ],
   "outputs": [],
   "metadata": {}
  },
  {
   "cell_type": "markdown",
   "source": [
    "## Looking back on the first wave of the Veepee campaign\n",
    "\n",
    "---\n",
    "\n",
    "To assess the success of the Veepee campaign, we addressed the following questions:\n",
    "\n",
    "1. How does the distribution of profits compare for Veepee users vs. non-Veepee users, that signed up over the same period in France (Oct 4th - Oct 21st 2020)? \n",
    "\n",
    "\n",
    "2. Can we establish that users from the Veepee campaign are more / less profitable on average than our control group? What is the estimated treatment effect, in Euros, that could be attributed to the Veepee campaign?\n",
    "\n",
    "\n",
    "3. We compare the predicted LTV / CAC of the Veepee campaign to that of France and the affiliate channel in the month of October.\n",
    "\n",
    "In order to answer question 2, we perform a \"match study\" on our observational data (read \"data that did not result from a proper A/B test setup\"), by borrowing concepts from causal inference. A match study consists in comparing the predicted profits of each user from the treatment group (read \"The Veepee campaign\") to that of N users from the control group. The control group consists of a subset of non-Veepee users from the same period, that have same characteristics: gender, country, kyc_month, channel, first_product, signup_coupon, and marketing_in_app_update_opt_in. The covariates are known to have an effect on predicted LTV in general, and we want to control for them to identify the treatment effect that is coming from the Veepee campaign.\n"
   ],
   "metadata": {}
  },
  {
   "cell_type": "code",
   "execution_count": null,
   "source": [
    "query = \"\"\"\n",
    "    with veepee as (\n",
    "        select * from cmd_shadow_user\n",
    "        where id in (\n",
    "            -- insert shadow user ids\n",
    "            )\n",
    "    )\n",
    "\n",
    "    select  \n",
    "        a.user_created,\n",
    "        b.user_created is not null veepee_flg,\n",
    "        a.gender,\n",
    "        a.last_click_source,\n",
    "        a.first_product,\n",
    "        a.signup_coupon,\n",
    "        regexp_replace(a.country_tnc_legal, '\\\\s', '') country_tnc_legal,\n",
    "        a.kyc_first_completed,\n",
    "        date_trunc('month', a.kyc_first_completed) kyc_month,\n",
    "        a.newsletter_opt_in,\n",
    "        a.marketing_in_app_update_opt_in,\n",
    "        a.signup_kycc_diff,\n",
    "        p.\"2y_profit_forecast\" - onboarding_costs as \"2y_profit_forecast\"\n",
    "    from \n",
    "        dwh_mktg_ltv_predictions p\n",
    "    inner join \n",
    "        dbt.stg_ltv_kyc a using (user_created)\n",
    "    left join \n",
    "        veepee b using (user_created)\n",
    "    left join \n",
    "        (select user_created, -1 * sum(value)::float / 100 as onboarding_costs from dbt.ucm_pnl left join dbt.ucm_mapping using (label) where ltv_flg_onboarding = 1 group by 1) ob using (user_created)\n",
    "    where \n",
    "        p.model_version = 'v0.1' \n",
    "        and p.user_created between '2020-10-04' and '2020-10-21'\n",
    "        and country_tnc_legal = 'FRA'\n",
    "        and kyc_first_completed < user_created + interval '7 days'\n",
    "\"\"\""
   ],
   "outputs": [],
   "metadata": {}
  },
  {
   "cell_type": "code",
   "execution_count": null,
   "source": [
    "df = df_from_sql(\"redshiftreader\", query)"
   ],
   "outputs": [],
   "metadata": {}
  },
  {
   "cell_type": "markdown",
   "source": [
    "## 1. Distribution of profits - Veepee vs. non-Veepee users\n",
    "\n",
    "---"
   ],
   "metadata": {}
  },
  {
   "cell_type": "code",
   "execution_count": null,
   "source": [
    "df_product = df.groupby([\"veepee_flg\", \"first_product\"])[\"user_created\"].count()"
   ],
   "outputs": [],
   "metadata": {}
  },
  {
   "cell_type": "markdown",
   "source": [
    "The veepee campaign was heavily advertising the Metal product. This reflected in the results, with 35% and 13% of veepee KYC 7d users opting for the Metal and Business Metal product respectively, vs. 7% and 4% in the control group."
   ],
   "metadata": {}
  },
  {
   "cell_type": "code",
   "execution_count": null,
   "source": [
    "df_perc = df_product.groupby(level=0).apply(lambda x: 100 * x / float(x.sum()))\n",
    "df_perc.reset_index().rename({\"user_created\": \"cross_sell\"}, axis=1).pivot(\n",
    "    index=\"first_product\", columns=\"veepee_flg\", values=\"cross_sell\"\n",
    ")"
   ],
   "outputs": [],
   "metadata": {}
  },
  {
   "cell_type": "markdown",
   "source": [
    "The distribution of predicted profits for Veepee users is more skewed to the right, reflecting the greater percentage of Metal users in the treatment group."
   ],
   "metadata": {}
  },
  {
   "cell_type": "code",
   "execution_count": null,
   "source": [
    "fig, ax = plt.subplots(figsize=(12, 6))\n",
    "\n",
    "sns.distplot(\n",
    "    df[df.veepee_flg == True][\"2y_profit_forecast\"], hist=False, label=\"veepee\"\n",
    ")\n",
    "sns.distplot(\n",
    "    df[df.veepee_flg == False][\"2y_profit_forecast\"], hist=False, label=\"non-veepee\"\n",
    ")\n",
    "plt.legend()\n",
    "\n",
    "ax.set(ylim=(0, 0.03))"
   ],
   "outputs": [],
   "metadata": {}
  },
  {
   "cell_type": "code",
   "execution_count": null,
   "source": [
    "sns.displot(\n",
    "    data=df,\n",
    "    x=\"2y_profit_forecast\",\n",
    "    hue=\"veepee_flg\",\n",
    "    kind=\"ecdf\",\n",
    "    height=6,\n",
    "    aspect=1.8 / 1,\n",
    ")"
   ],
   "outputs": [],
   "metadata": {}
  },
  {
   "cell_type": "markdown",
   "source": [
    "## 2. Match study - Veepee users vs. control group (subset of non-Veepee users)\n",
    "\n",
    "---"
   ],
   "metadata": {}
  },
  {
   "cell_type": "code",
   "execution_count": null,
   "source": [
    "users_treatment = df[df.veepee_flg == True].user_created.tolist()\n",
    "covariates = df[df.veepee_flg == True].set_index(\"user_created\").to_dict()"
   ],
   "outputs": [],
   "metadata": {}
  },
  {
   "cell_type": "code",
   "execution_count": null,
   "source": [
    "n = 20\n",
    "r = 100\n",
    "\n",
    "treatment_effects = []\n",
    "\n",
    "for _ in range(\n",
    "    r\n",
    "):  # randomly shuffle the user list so that users from treatment are not left unmatched.\n",
    "    used = set()\n",
    "    effects = []\n",
    "    sizes = []\n",
    "\n",
    "    for u in random.sample(users_treatment, len(users_treatment)):\n",
    "        d = df[\n",
    "            (df.gender == covariates[\"gender\"][u])\n",
    "            & (df.country_tnc_legal == covariates[\"country_tnc_legal\"][u])\n",
    "            & (df.kyc_month == covariates[\"kyc_month\"][u])\n",
    "            & (df.last_click_source == covariates[\"last_click_source\"][u])\n",
    "            & (df.first_product == covariates[\"first_product\"][u])\n",
    "            & (df.signup_coupon == covariates[\"signup_coupon\"][u])\n",
    "            & (\n",
    "                df.marketing_in_app_update_opt_in\n",
    "                == covariates[\"marketing_in_app_update_opt_in\"][u]\n",
    "            )\n",
    "            & (df.veepee_flg == False)\n",
    "            & (~df.user_created.isin(used))\n",
    "        ]\n",
    "\n",
    "        if d.shape[0] > n:\n",
    "            control = d.sample(n)\n",
    "        else:\n",
    "            control = d\n",
    "\n",
    "        used = used.union(control.user_created)\n",
    "\n",
    "        if control.shape[0] == 0:\n",
    "            continue\n",
    "\n",
    "        sample_te = (\n",
    "            covariates[\"2y_profit_forecast\"][u] - control[\"2y_profit_forecast\"]\n",
    "        ).mean()\n",
    "        sample_size = control.shape[0]\n",
    "\n",
    "        effects.append(sample_te)\n",
    "        sizes.append(sample_size)\n",
    "\n",
    "    effects = np.array(effects)\n",
    "    sizes = np.array(sizes)\n",
    "\n",
    "    total = sum(sizes)\n",
    "\n",
    "    treatment_effects.append((effects * (sizes / total)).sum())"
   ],
   "outputs": [],
   "metadata": {}
  },
  {
   "cell_type": "markdown",
   "source": [
    "**It can be established from the data that the treatment effect is positive**. The mean treatment effect is estimated at 15 euros, with the 5th and 95th percentiles estimates at 10 and 21 euros. While we feel confident asserting that the treatment is positive, the size of the treatment effect should be taken with a pinch of salt, as it is the first time that such analysis is conducted."
   ],
   "metadata": {}
  },
  {
   "cell_type": "code",
   "execution_count": null,
   "source": [
    "sns.distplot(treatment_effects, hist=False)"
   ],
   "outputs": [],
   "metadata": {}
  },
  {
   "cell_type": "markdown",
   "source": [
    "**Mean of the estimated treatment effect**"
   ],
   "metadata": {}
  },
  {
   "cell_type": "code",
   "execution_count": null,
   "source": [
    "np.nanmean(treatment_effects)"
   ],
   "outputs": [],
   "metadata": {}
  },
  {
   "cell_type": "markdown",
   "source": [
    "**5th and 95th percentiles of the estimated treatment effect**"
   ],
   "metadata": {}
  },
  {
   "cell_type": "code",
   "execution_count": null,
   "source": [
    "np.nanpercentile(treatment_effects, 5), np.nanpercentile(treatment_effects, 95)"
   ],
   "outputs": [],
   "metadata": {}
  },
  {
   "cell_type": "markdown",
   "source": [
    "## 3. LTV / CAC - Veepee campaign vs. France average\n",
    "\n",
    "---"
   ],
   "metadata": {}
  },
  {
   "cell_type": "markdown",
   "source": [
    "The predicated average LTV and predicted LTV / CAC two years after KYC, for the Veepee campaign, are estimated at 53 euros and 0.185 respectively. This compares to 26 euros and 0.78 for the signup cohort of October 2020 in France (blended, visible [here](https://metabase-marketing.tech26.de/question/2982?period=month)), and 31 euros and 0.73 for the affiliate channel in particular. \n",
    "\n",
    "While all findings converge towards the fact that Veepee users are more profitable than comparable groups, the price of 60k euros brings the LTV / CAC lower than the affiliate average."
   ],
   "metadata": {}
  },
  {
   "cell_type": "markdown",
   "source": [
    "**Average predicted profit per user**"
   ],
   "metadata": {}
  },
  {
   "cell_type": "code",
   "execution_count": null,
   "source": [
    "round(df.loc[df[\"veepee_flg\"] == True][\"2y_profit_forecast\"].mean(), 2)"
   ],
   "outputs": [],
   "metadata": {}
  },
  {
   "cell_type": "markdown",
   "source": [
    "**Average predicted LTV / CAC**"
   ],
   "metadata": {}
  },
  {
   "cell_type": "code",
   "execution_count": null,
   "source": [
    "ltv_cac = df.loc[df[\"veepee_flg\"] == True][\"2y_profit_forecast\"].sum() / 60000\n",
    "round(ltv_cac, 3)"
   ],
   "outputs": [],
   "metadata": {}
  },
  {
   "cell_type": "code",
   "execution_count": null,
   "source": [],
   "outputs": [],
   "metadata": {}
  },
  {
   "cell_type": "code",
   "execution_count": null,
   "source": [],
   "outputs": [],
   "metadata": {}
  },
  {
   "cell_type": "code",
   "execution_count": null,
   "source": [],
   "outputs": [],
   "metadata": {}
  },
  {
   "cell_type": "code",
   "execution_count": null,
   "source": [],
   "outputs": [],
   "metadata": {}
  }
 ],
 "metadata": {
  "kernelspec": {
   "display_name": "Python 3",
   "language": "python",
   "name": "python3"
  },
  "language_info": {
   "codemirror_mode": {
    "name": "ipython",
    "version": 3
   },
   "file_extension": ".py",
   "mimetype": "text/x-python",
   "name": "python",
   "nbconvert_exporter": "python",
   "pygments_lexer": "ipython3",
   "version": "3.8.6"
  }
 },
 "nbformat": 4,
 "nbformat_minor": 4
}