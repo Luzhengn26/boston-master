{
 "cells": [
  {
   "cell_type": "markdown",
   "metadata": {},
   "source": [
    "title: Domain Driven Design in Analytics\n",
    "\n",
    "author: Simone Carolini\n",
    "\n",
    "date: 2022-07-01\n",
    "\n",
    "region: EU\n",
    "\n",
    "tags: analytic engineering - Tooling And Services\n",
    "\n",
    "summary: Something Something Something Something Something"
   ]
  },
  {
   "cell_type": "markdown",
   "metadata": {},
   "source": [
    "<div class=\"alert alert-block alert-info\">\n",
    "    <H1>HTML Creator </H1>\n",
    "\n",
    "</div>"
   ]
  },
  {
   "cell_type": "markdown",
   "metadata": {},
   "source": [
    "This script is meant to create HTML files out of the output of the cells of Jupyter Notebooks.\n",
    "\n",
    "To use this script you just need to add your research file name in the cell below (e.g. '20210420_backfilling_overdraft_decisions'), run the whole script and voila, your HTML file will be ready in the selected folder."
   ]
  },
  {
   "cell_type": "code",
   "execution_count": null,
   "metadata": {},
   "outputs": [],
   "source": [
    "file_name = \"20210420_backfilling_overdraft_decisions\""
   ]
  },
  {
   "cell_type": "code",
   "execution_count": null,
   "metadata": {},
   "outputs": [],
   "source": [
    "if file_name.endswith(\".ipynb\"):\n",
    "    file_name = file_name\n",
    "else:\n",
    "    file_name = file_name + \".ipynb\"\n",
    "\n",
    "file_name"
   ]
  },
  {
   "cell_type": "code",
   "execution_count": null,
   "metadata": {},
   "outputs": [],
   "source": [
    "!pip install beautifulsoup4\n",
    "!pip install jupyter_contrib_nbextensions\n",
    "!jupyter contrib nbextension install --user"
   ]
  },
  {
   "cell_type": "code",
   "execution_count": null,
   "metadata": {},
   "outputs": [],
   "source": [
    "import re\n",
    "from bs4 import BeautifulSoup\n",
    "import codecs\n",
    "import os\n",
    "import pandas as pd"
   ]
  },
  {
   "cell_type": "code",
   "execution_count": null,
   "metadata": {},
   "outputs": [],
   "source": [
    "# Get directory list of yml files\n",
    "source_data = []\n",
    "\n",
    "for r, d, f in os.walk(\"/app\"):\n",
    "    for file in f:\n",
    "        if file == file_name:\n",
    "            source_data.append((d, os.path.join(r, file)))\n",
    "\n",
    "df = pd.DataFrame(source_data, columns=[\"folder\", \"file\"])\n",
    "\n",
    "if len(df.index) > 0:\n",
    "    dir_path = df.file.iloc[0]  # Only take the first result\n",
    "else:\n",
    "    raise SystemExit(\"No files found for the given file name!\")"
   ]
  },
  {
   "cell_type": "code",
   "execution_count": null,
   "metadata": {},
   "outputs": [],
   "source": [
    "dir_path"
   ]
  },
  {
   "cell_type": "code",
   "execution_count": null,
   "metadata": {},
   "outputs": [],
   "source": [
    "html_path = dir_path.replace(\".ipynb\", \".html\")\n",
    "html_path"
   ]
  },
  {
   "cell_type": "code",
   "execution_count": null,
   "metadata": {},
   "outputs": [],
   "source": [
    "# Create HTML file\n",
    "!jupyter nbconvert --to html_embed  $dir_path --no-input\n",
    "\n",
    "# Open file to edit\n",
    "html = codecs.open(html_path, \"r\")\n",
    "# Create soup out of HTML\n",
    "soup = BeautifulSoup(html)\n",
    "# create new tags we will be adding to the html,\n",
    "dr_tag = soup.new_tag(\"script\")\n",
    "dr_script = \"\"\"\n",
    "   $( document ).ready(function() {\n",
    "        $('div.output_subarea').css('text-align', 'center');\n",
    "        $('.jp-Cell').css('margin', '0 auto');\n",
    "        $('.jp-MarkdownOutput').css('margin', '0 auto');\n",
    "        $('.jp-OutputArea-output pre').css('margin', '0 auto');\n",
    "        $('.jp-OutputArea-output.jp-RenderedHTMLCommon table').css('margin', '0 auto');\n",
    "        $('.jp-Cell').css('max-width', '1200px');\n",
    "        $('.jp-MarkdownOutput').css('max-width', '800px');\n",
    "        $('.jp-OutputArea-output pre').css('max-width', '800px');\n",
    "        $('.jp-Cell-outputWrapper').css('text-align', 'center');\n",
    "        $('.jp-Cell-outputWrapper').css('margin-top', '20');\n",
    "        $('.jp-Cell-outputWrapper').css('margin-bottom', '20');\n",
    "        $('body, p, ul, table').css('font-family', 'Montserrat, sans-serif');\n",
    "        $('.jp-OutputArea-output pre').css('font-family', 'Montserrat, sans-serif');\n",
    "        $('h1, h2, h3, h4').css({'font-family': 'Karla, sans-serif', 'padding-top': '70px'});\n",
    "    });\n",
    "\"\"\"\n",
    "\n",
    "dr_tag.append(dr_script)\n",
    "jq_tag = soup.new_tag(\n",
    "    \"script\", src=\"https://ajax.googleapis.com/ajax/libs/jquery/3.5.1/jquery.min.js\"\n",
    ")\n",
    "font_link = soup.new_tag(\"link\", href=\"https://fonts.gstatic.com\", rel=\"preconnect\")\n",
    "montserrat_link = soup.new_tag(\n",
    "    \"link\",\n",
    "    href=\"https://fonts.googleapis.com/css2?family=Montserrat:wght@300&display=swap\",\n",
    "    rel=\"stylesheet\",\n",
    ")\n",
    "karla_link = soup.new_tag(\n",
    "    \"link\",\n",
    "    href=\"https://fonts.googleapis.com/css2?family=Karla&display=swap\",\n",
    "    rel=\"stylesheet\",\n",
    ")\n",
    "tags = [dr_tag, jq_tag, font_link, montserrat_link, karla_link]\n",
    "\n",
    "\n",
    "# insert created tags\\n\",\n",
    "for tag in tags:\n",
    "    soup.head.insert(1, tag)\n",
    "\n",
    "# open another file for writing and updating html\n",
    "with open(html_path, \"w\") as fp:\n",
    "    # write the current soup content\n",
    "    fp.write(soup.prettify())"
   ]
  },
  {
   "cell_type": "code",
   "execution_count": null,
   "metadata": {},
   "outputs": [],
   "source": []
  }
 ],
 "metadata": {
  "kernelspec": {
   "display_name": "Python 3 (ipykernel)",
   "language": "python",
   "name": "python3"
  },
  "language_info": {
   "codemirror_mode": {
    "name": "ipython",
    "version": 3
   },
   "file_extension": ".py",
   "mimetype": "text/x-python",
   "name": "python",
   "nbconvert_exporter": "python",
   "pygments_lexer": "ipython3",
   "version": "3.10.9"
  }
 },
 "nbformat": 4,
 "nbformat_minor": 4
}
